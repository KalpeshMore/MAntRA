{
 "cells": [
  {
   "cell_type": "code",
   "execution_count": null,
   "id": "161b36db",
   "metadata": {},
   "outputs": [],
   "source": [
    "\"\"\"\n",
    "This code belongs to the paper:\n",
    "-- Y.C. Mathpati, K.S. More, T. Tripura, R. Nayek, S. Chakraborty (2023)\n",
    "   MAntRA: A framework for model agnostic reliability analysis\n",
    "   \n",
    "-- This code is for 3-DOF nonlinear oscillator Drift 1.\n",
    "\"\"\""
   ]
  },
  {
   "cell_type": "markdown",
   "id": "dbcbc014",
   "metadata": {},
   "source": [
    "# Drift 1 Equation discovery"
   ]
  },
  {
   "cell_type": "code",
   "execution_count": 1,
   "id": "439544c7",
   "metadata": {},
   "outputs": [],
   "source": [
    "import numpy as np\n",
    "  \n",
    "\"\"\"\n",
    "The Dictionary creation part:\n",
    "~~~~~~~~~~~~~~~~~~~~~~~~~~~~~~~~~~~~~~~~~~~~~~~~~~~~~~~~~~~~\n",
    "\"\"\"\n",
    "def library(xt, polyn, harmonic):\n",
    "    if polyn == 0:\n",
    "        polyn = 1\n",
    "    \n",
    "    # The polynomial is (x1 + x2)^p, with p is the order\n",
    "    # poly order 0\n",
    "    ind = 0\n",
    "    n = len(xt[0])\n",
    "    D = np.ones([n,1])\n",
    "    \n",
    "    if polyn >= 1:\n",
    "        # poly order 1\n",
    "        for i in range(len(xt)):\n",
    "            ind = ind+1\n",
    "            new = np.vstack(xt[i,:])\n",
    "            D = np.append(D, new, axis=1)\n",
    "    if polyn >= 2: \n",
    "        # ploy order 2\n",
    "        for i in range(len(xt)):\n",
    "            for j in  range(i,len(xt)):\n",
    "                ind = ind+1\n",
    "                new = np.multiply(xt[i,:], xt[j,:])\n",
    "                new = np.vstack(new)\n",
    "                D = np.append(D, new, axis=1) \n",
    "    if polyn >= 3:    \n",
    "        # ploy order 3\n",
    "        for i in range(len(xt)):\n",
    "            for j in  range(i,len(xt)):\n",
    "                for k in  range(j,len(xt)):\n",
    "                    ind = ind+1\n",
    "                    new = np.multiply(np.multiply(xt[i,:], xt[j,:]), xt[k,:])\n",
    "                    new = np.vstack(new)\n",
    "                    D = np.append(D, new, axis=1) \n",
    "    if polyn >= 4:\n",
    "        # ploy order 4\n",
    "        for i in range(len(xt)):\n",
    "            for j in  range(i,len(xt)):\n",
    "                for k in  range(j,len(xt)):\n",
    "                    for l in range(k,len(xt)):\n",
    "                        ind = ind+1\n",
    "                        new = np.multiply(np.multiply(xt[i,:], xt[j,:]), xt[k,:])\n",
    "                        new = np.multiply(new, xt[l,:])\n",
    "                        new = np.vstack(new)\n",
    "                        D = np.append(D, new, axis=1) \n",
    "    if polyn >= 5:\n",
    "        # ploy order 5\n",
    "        for i in range(len(xt)):\n",
    "            for j in  range(i,len(xt)):\n",
    "                for k in  range(j,len(xt)):\n",
    "                    for l in  range(k,len(xt)):\n",
    "                        for m in  range(l,len(xt)):\n",
    "                            ind = ind+1\n",
    "                            new = np.multiply(xt[i,:], xt[j,:])\n",
    "                            new = np.multiply(new, xt[k,:])\n",
    "                            new = np.multiply(new, xt[l,:])\n",
    "                            new = np.multiply(new, xt[m,:])\n",
    "                            new = np.vstack(new)\n",
    "                            D = np.append(D, new, axis=1) \n",
    "    if polyn >= 6:\n",
    "        # ploy order 6\n",
    "        for i in range(len(xt)):\n",
    "            for j in  range(i,len(xt)):\n",
    "                for k in  range(j,len(xt)):\n",
    "                    for l in  range(k,len(xt)):\n",
    "                        for m in  range(l,len(xt)):\n",
    "                            for n in  range(m,len(xt)):\n",
    "                                ind = ind+1\n",
    "                                new = np.multiply(xt[i,:], xt[j,:])\n",
    "                                new = np.multiply(new, xt[k,:])\n",
    "                                new = np.multiply(new, xt[l,:])\n",
    "                                new = np.multiply(new, xt[m,:])\n",
    "                                new = np.multiply(new, xt[n,:])\n",
    "                                new = np.vstack(new)\n",
    "                                D = np.append(D, new, axis=1) \n",
    "    # for the signum or sign operator\n",
    "    for i in range(len(xt)):\n",
    "        ind = ind+1\n",
    "        new = np.vstack(np.sign(xt[i,:]))+0.0001\n",
    "        D = np.append(D, new, axis=1)\n",
    "    \n",
    "    # for the modulus operator\n",
    "    for i in range(len(xt)):\n",
    "        ind = ind+1\n",
    "        new = np.vstack(abs(xt[i,:]))\n",
    "        D = np.append(D, new, axis=1)\n",
    "    # for the tensor operator\n",
    "    for i in range(len(xt)):\n",
    "        for j in  range(len(xt)):\n",
    "            ind = ind+1\n",
    "            new = np.multiply(xt[i,:],abs(xt[j,:]))\n",
    "            new = np.vstack(new)\n",
    "            D = np.append(D, new, axis=1)\n",
    "    if harmonic == 1:\n",
    "        # for sin(x)\n",
    "        for i in range(len(xt)):\n",
    "            ind = ind+1\n",
    "            new = np.vstack(np.sin(xt[i,:]))\n",
    "            D = np.append(D, new, axis=1)\n",
    "            #  or,\n",
    "            # ind = ind+1\n",
    "            # new = np.sin(xt[i,:])\n",
    "            # D = np.insert(D, ind, new, axis=1)\n",
    "        # for cos(x)\n",
    "        for i in range(len(xt)):\n",
    "            ind = ind+1\n",
    "            new = np.vstack(np.cos(xt[i,:]))\n",
    "            D = np.append(D, new, axis=1)\n",
    "#     ind = ind+1\n",
    "    \n",
    "    # D = D[:, 0:7] \n",
    "    ind = len(D[0])\n",
    "    return D, ind"
   ]
  },
  {
   "cell_type": "code",
   "execution_count": 2,
   "id": "3c91a2c9",
   "metadata": {},
   "outputs": [],
   "source": [
    "import numpy as np\n",
    "\n",
    "\"\"\"\n",
    "A 3 DOF system excited by random noise\n",
    "-----------------------------------------------------------\n",
    "\"\"\"\n",
    "def _3_DOF_Duffing_sys(x1, x2, x3, x4, x5, x6, T):\n",
    "    \n",
    "    m1, m2, m3 = 1, 1, 1\n",
    "    c1, c2, c3 = 2, 2, 2\n",
    "    k1, k2, k3 = 1000, 2000, 3000\n",
    "    alpha1, alpha2, alpha3 = 100000, 100000, 100000\n",
    "    sigma1, sigma2, sigma3 = 1, 1, 1 \n",
    "    \n",
    "    dt = 0.001\n",
    "    t = np.arange(0, T+dt, dt)\n",
    "    Nsamp = 500 # no. of samples in the run\n",
    "    \n",
    "    \n",
    "    y1 = []\n",
    "    y2 = []\n",
    "    y3 = []\n",
    "    y4 = []\n",
    "    y5 = []\n",
    "    y6 = []\n",
    "    xz1 = []\n",
    "    xz2 = []\n",
    "    xz3 = []\n",
    "    xzs11 = []\n",
    "    xzs22 = []\n",
    "    xzs33 = []\n",
    "    \n",
    "    # Simulation Starts Here ::\n",
    "    # -------------------------------------------------------\n",
    "    for ensemble in range(Nsamp):\n",
    "        x0 = np.array([x1, x2, x3, x4, x5, x6])\n",
    "        x = np.vstack(x0)                                                          # Zero initial condition.\n",
    "        for n in range(len(t)-1):\n",
    "            \n",
    "            dW = np.sqrt(dt)*np.random.randn(3)\n",
    "            dW2 = dW[0]\n",
    "            dW4 = dW[1]\n",
    "            dW6 = dW[2]\n",
    "            \n",
    "            a1 = x0[1]\n",
    "            a2 = -(c1/m1)*x0[1]-(k1/m1)*x0[0]-(c2/m1)*(x0[1]-x0[3])-k2*(x0[0]-x0[2])-(alpha1/m1)*(x0[0])**3-(alpha2/m1)*(x0[0]-x0[2])**3\n",
    "            a3 = x0[3]\n",
    "            a4 = -(c2/m2)*(x0[3]-x0[1])-(k2/m2)*(x0[2]-x0[0])-(c3/m2)*(x0[3]-x0[5])-k3/m2*(x0[2]-x0[4])-(alpha2/m2)*(x0[2]-x0[0])**3-(alpha3/m2)*(x0[2]-x0[4])**3\n",
    "            a5 = x0[5]\n",
    "            a6 = -(c3/m3)*(x0[5]-x0[3])-(k3/m3)*(x0[4]-x0[2])-(alpha3/m3)*(x0[4]-x0[2])**3\n",
    "            b2 = (sigma1/m1)*x0[0]\n",
    "            b4 = (sigma2/m2)*x0[2]\n",
    "            b6 = (sigma3/m3)*x0[4]\n",
    "\n",
    "            sol1 = x0[0] + a1*dt \n",
    "            sol2 = x0[1] + a2*dt + b2*dW2\n",
    "            sol3 = x0[2] + a3*dt \n",
    "            sol4 = x0[3] + a4*dt + b4*dW4\n",
    "            sol5 = x0[4] + a5*dt \n",
    "            sol6 = x0[5] + a6*dt + b6*dW6\n",
    "            \n",
    "            x0 = np.array([sol1, sol2, sol3, sol4, sol5, sol6])\n",
    "            x = np.column_stack((x, x0))\n",
    "            \n",
    "        y1.append(x[0,:])\n",
    "        y2.append(x[1,:])\n",
    "        y3.append(x[2,:])\n",
    "        y4.append(x[3,:])\n",
    "        y5.append(x[4,:])\n",
    "        y6.append(x[5,:])\n",
    "        \n",
    "        zint1 = x[1,0:-1]\n",
    "        xfinal1 = x[1,1:] \n",
    "        xmz1 = (xfinal1 - zint1) # 'x(t)-z' vector\n",
    "        \n",
    "        zint2 = x[3, 0:-1]\n",
    "        xfinal2 = x[3, 1:] \n",
    "        xmz2 = (xfinal2 - zint2) # 'x2(t)-z2' vector\n",
    "        \n",
    "        zint3 = x[5, 0:-1]\n",
    "        xfinal3 = x[5, 1:] \n",
    "        xmz3 = (xfinal3 - zint3) # 'x2(t)-z2' vector\n",
    "        \n",
    "        xz1.append(xmz1)\n",
    "        xz2.append(xmz2)\n",
    "        xz3.append(xmz3)\n",
    "        \n",
    "        xmzsq11 = np.multiply(xmz1, xmz1)\n",
    "        xzs11.append(xmzsq11)\n",
    "        \n",
    "        xmzsq22 = np.multiply(xmz2, xmz2)\n",
    "        xzs22.append(xmzsq22)\n",
    "        \n",
    "        xmzsq33 = np.multiply(xmz3, xmz3)\n",
    "        xzs33.append(xmzsq33)\n",
    "        \n",
    "        \n",
    "    xz1 = pow(dt,-1)*np.mean(np.array(xz1), axis = 0)\n",
    "    xz2 = pow(dt,-1)*np.mean(np.array(xz2), axis = 0)\n",
    "    xz3 = pow(dt,-1)*np.mean(np.array(xz3), axis = 0)\n",
    "    \n",
    "    xzs11 = pow(dt,-1)*np.mean(np.array(xzs11), axis = 0)\n",
    "    xzs22 = pow(dt,-1)*np.mean(np.array(xzs22), axis = 0)\n",
    "    xzs33 = pow(dt,-1)*np.mean(np.array(xzs33), axis = 0) \n",
    "    \n",
    "    y1 = np.array(y1)\n",
    "    y2 = np.array(y2)\n",
    "    y3 = np.array(y3)\n",
    "    y4 = np.array(y4)\n",
    "    y5 = np.array(y5)\n",
    "    y6 = np.array(y6)\n",
    "    \n",
    "    time = t[0:-1]\n",
    "    \n",
    "    return xz1, xz2, xz3, xzs11, xzs22, xzs33, y1, y2, y3, y4, y5, y6, time"
   ]
  },
  {
   "cell_type": "code",
   "execution_count": 3,
   "id": "61b07a89",
   "metadata": {
    "scrolled": true
   },
   "outputs": [],
   "source": [
    "T = 1\n",
    "# Response generation: \n",
    "x1, x2, x3, x4, x5, x6 = 0.05, 0, 0.01, 0, 0.01, 0 # initial displacement for 3dof\n",
    "xdrift1, xdrift2, xdrift3, xdiff11, xdiff22, xdiff33, y1, y2, y3, y4, y5, y6, t_eval = _3_DOF_Duffing_sys(x1, x2, x3, x4, x5, x6, T)"
   ]
  },
  {
   "cell_type": "code",
   "execution_count": 5,
   "id": "0613c7f7",
   "metadata": {
    "scrolled": true
   },
   "outputs": [],
   "source": [
    "# Expected Dictionary Creation:\n",
    "libr = []\n",
    "for j in range(len(y1)):\n",
    "    data = np.row_stack((y1[j,0:-1], y2[j,0:-1], y3[j,0:-1], y4[j,0:-1], y5[j,0:-1], y6[j,0:-1]))\n",
    "    Dtemp, nl = library(data, 4, 0)\n",
    "    libr.append(Dtemp)\n",
    "libr = np.array(libr)\n",
    "Dictionary= np.mean(libr, axis = 0)\n",
    "xdts = xdrift1"
   ]
  },
  {
   "cell_type": "code",
   "execution_count": 6,
   "id": "765ccef5",
   "metadata": {},
   "outputs": [],
   "source": [
    "D = Dictionary"
   ]
  },
  {
   "cell_type": "code",
   "execution_count": null,
   "id": "403a7819",
   "metadata": {},
   "outputs": [],
   "source": [
    "Dict = D.reshape(-1, order='F')\n",
    "Dict.shape"
   ]
  },
  {
   "cell_type": "code",
   "execution_count": 9,
   "id": "872d129e",
   "metadata": {
    "scrolled": true
   },
   "outputs": [
    {
     "name": "stdout",
     "output_type": "stream",
     "text": [
      "{'Relevant': matlab.double([[2.0],[3.0],[4.0],[5.0],[29.0],[31.0],[40.0],[65.0]]), 'Value': matlab.double([[-2999.634327685267],[-3.9996748182133257],[2000.025075695057],[1.9995322462323943],[-200258.2158849541],[299670.0409335592],[-300323.0787848598],[100013.84029675469]])}\n"
     ]
    }
   ],
   "source": [
    "from __future__ import print_function\n",
    "\n",
    "#!/usr/bin/env python\n",
    "\"\"\"\n",
    "Sample script that uses the SparseBayes module created using\n",
    "MATLAB Compiler SDK.\n",
    "\n",
    "Refer to the MATLAB Compiler SDK documentation for more information.\n",
    "\"\"\"\n",
    "\n",
    "import SparseBayes\n",
    "import matlab\n",
    "\n",
    "my_SparseBayes = SparseBayes.initialize()\n",
    "\n",
    "DictIn = matlab.double(Dict, size=(D.shape[0], D.shape[1]))\n",
    "targetIn = matlab.double(xdts, size=(D.shape[0], 1))\n",
    "DMOut = my_SparseBayes.SparseBayes(DictIn, targetIn)\n",
    "print(DMOut, sep='\\n')\n",
    "\n",
    "my_SparseBayes.terminate()"
   ]
  },
  {
   "cell_type": "code",
   "execution_count": null,
   "id": "c3d104f6",
   "metadata": {},
   "outputs": [],
   "source": [
    "c = np.array(DMOut['Value'])\n",
    "d = []\n",
    "for j in c:\n",
    "    d.append(j[0])"
   ]
  },
  {
   "cell_type": "code",
   "execution_count": null,
   "id": "6bf27717",
   "metadata": {},
   "outputs": [],
   "source": [
    "a = np.array(DMOut['Relevant'])\n",
    "b = []\n",
    "for i in a:\n",
    "    b.append(int((i[0])-1))"
   ]
  },
  {
   "cell_type": "code",
   "execution_count": null,
   "id": "b64b8ff7",
   "metadata": {},
   "outputs": [],
   "source": [
    "initz0 = np.zeros(D.shape[1])\n",
    "for i in b:\n",
    "    initz0[i] = 1\n",
    "    \n",
    "initz0"
   ]
  },
  {
   "cell_type": "code",
   "execution_count": 17,
   "id": "3c333503",
   "metadata": {},
   "outputs": [],
   "source": [
    "import warnings\n",
    "import math\n",
    "import numpy as np\n",
    "import scipy as sp\n",
    "import sympy as smp\n",
    "from scipy import stats\n",
    "from numpy import linalg as la\n",
    "import matplotlib.pyplot as plt\n",
    "from numpy.random import gamma\n",
    "from scipy.special import loggamma\n",
    "\n",
    "def Variational_Bayes_Code(X, y, initz0, tol, verbosity):\n",
    "\n",
    "    if (len(X) == 0 or len(y) == 0):\n",
    "        raise Exception('X and or y is missing')\n",
    "        \n",
    "    if (len(X) != len(y)):\n",
    "        raise Exception('Number of observations do not match')\n",
    "        \n",
    "    X = stats.zscore(X, ddof = 1)         \n",
    "    X = np.c_[np.ones(len(X)),X]          \n",
    "    y = y - np.mean(y)\n",
    "    N = len(X)\n",
    "    # Prior parameters of noise variance (Inverse Gamma dist)\n",
    "    A = 1e-4\n",
    "    B = 1e-4\n",
    "    vs = 10\n",
    "    tau0 = 1000\n",
    "    \n",
    "    if (len(initz0) == 0):\n",
    "        raise Exception('No initial value of z found')\n",
    "    else:\n",
    "        p0 = expit(-0.5*(np.sqrt(N)))       \n",
    "        \n",
    "        # Adding the intercept indicator variable (slightly less than 1 to prevent log(0) values) \n",
    "        initz = np.hstack((1,initz0))   \n",
    "\n",
    "        DS,LLcvg  = run_VB2(X, y, vs, A, B, tau0, p0, initz, tol, verbosity)    \n",
    "        # This is function which will come first\n",
    "        \n",
    "    out_vb   = DS\n",
    "    a = DS['zmean'] > 0.5\n",
    "    count = 0\n",
    "    modelIdx = []\n",
    "    for i in a:\n",
    "        if i == True:\n",
    "            modelIdx.append(count)\n",
    "        count += 1\n",
    "            \n",
    "    modelIdx = np.setdiff1d(modelIdx,0)\n",
    "    out_vb['modelIdx'] = modelIdx-1\n",
    "    out_vb['Zmed'] = DS['zmean'][modelIdx]\n",
    "    out_vb['Wsel'] = DS['wmean'][modelIdx]\n",
    "    out_vb['Wcov'] = DS['wCOV'][modelIdx, modelIdx]\n",
    "    out_vb['sig2'] = DS['sig2']\n",
    "    \n",
    "    return out_vb\n",
    "\n",
    "DS = {}\n",
    "def run_VB2(Xc, yc, vs, A, B, tau0, p0, initz, tol, verbosity):\n",
    "    \"\"\"This function is the implementation of VB from John T. Ormerod paper (2014)\n",
    "       This implementation uses slab scaling by noise variance\n",
    "       vs    : treated as a constant\n",
    "       A,B   : constants of the IG prior over noise variance\n",
    "       tau0  : Expected value of (sigma^{-2})\n",
    "       p0    : inclusion probablility\n",
    "       initz : Initial value of z\n",
    "       Xc    : Centered and standardized dictionary except the first column\n",
    "       yc    : Centered observations \"\"\"\n",
    "    \n",
    "    Lambda    = logit(p0)\n",
    "    iter_     = 0\n",
    "    max_iter  = 100\n",
    "    LL        = np.zeros(max_iter)        \n",
    "    zm        = np.reshape(initz,(-1))            \n",
    "    taum      = tau0                      \n",
    "    invVs     = 1/vs\n",
    "    \n",
    "    X = Xc\n",
    "    y = yc\n",
    "    XtX = (X.T) @ X\n",
    "    XtX = 0.5*(XtX + (XtX).T)\n",
    "    Xty = (X.T) @ y                 \n",
    "    yty = (y.T) @ y\n",
    "\n",
    "    eyep = np.eye(len(XtX))\n",
    "    [N,p] = X.shape\n",
    "    allidx = np.arange(p)\n",
    "    zm[0] = 1                                                                   # Always include the intercept \n",
    "    Abar    = (A + 0.5*N + 0.5*p)\n",
    "    converged = 0\n",
    "    \n",
    "    while (converged==0):\n",
    "        if (iter_==100):\n",
    "            break\n",
    "        \n",
    "        Zm       = np.diag(zm)\n",
    "        Omg      = (np.reshape(zm,(-1,1)) @ np.reshape(zm,(1,-1))) + (Zm @ (eyep-Zm))\n",
    "        # Update the mean and covariance of the coefficients given mean of z\n",
    "        term1    = XtX * Omg                                                       # elementwisw multiplication\n",
    "        invSigma = taum * (term1 + invVs * eyep)\n",
    "        invSigma = 0.5*(invSigma + invSigma.T)                                     # symmetric\n",
    "        Sigma    = la.inv(invSigma) @ eyep\n",
    "        mu       = taum * (Sigma @ Zm @ Xty)                                       # @ ---> matrix multiplication\n",
    "        \n",
    "        # Update tau related to sigma\n",
    "        term2    = 2 * Xty @ Zm @ mu\n",
    "        term3    =  np.reshape(mu,(len(initz0),1)) @ np.reshape(mu,(1,len(initz0)))+ Sigma\n",
    "        term4    = yty - term2 + np.trace((term1 + invVs * eyep) @ term3)    \n",
    "        s        = B + 0.5*term4\n",
    "        \n",
    "        if s<0:\n",
    "            warnings.warn('s turned out be less than 0. Taking absolute value')\n",
    "            s = B + 0.5*abs(term4)\n",
    "        \n",
    "        taum     = Abar / s\n",
    "        zstr   = zm\n",
    "\n",
    "        order   = np.setdiff1d(np.random.permutation(p), 0, assume_unique=True)\n",
    "        for j in order: \n",
    "            muj     = mu[j]                            \n",
    "            sigmaj  = Sigma[j,j]\n",
    "            \n",
    "            remidx  = np.setdiff1d(allidx,j)\n",
    "            mu_j    = mu[remidx]\n",
    "            Sigma_jj= Sigma[remidx,j]\n",
    "            etaj    = (Lambda - 0.5 * taum * ((muj**2 + sigmaj) * XtX[j,j]) \n",
    "                       + taum * np.reshape(X[:,j],(1,-1)) @ (np.reshape(y,(-1,1))*muj \n",
    "                        -X[:,remidx] @ np.diag(zstr[remidx]) @ ((mu_j * muj + Sigma_jj).reshape(-1,1))))\n",
    "            zstr[j] = expit(etaj)\n",
    "            \n",
    "        zm = zstr\n",
    "        \n",
    "        # Calculate marginal log-likelihood\n",
    "        \n",
    "        LL[iter_] = ( 0.5*p \n",
    "                    - 0.5*N*np.log(2*np.pi) \n",
    "                    + 0.5*p*np.log(invVs) \n",
    "                    + A*np.log(B)\n",
    "                    - loggamma(A)\n",
    "                    + loggamma(Abar) \n",
    "                    - Abar*np.log(s)\n",
    "                    + 0.5*np.log(la.det(Sigma))\n",
    "                    + np.nansum(zm*(np.log(p0) - np.log(zm))) \n",
    "                    + np.nansum((1-zm)*(np.log(1-p0) - np.log(1-zm))))\n",
    "        \n",
    "        if(verbosity):\n",
    "            print(f'Iteration = {iter_}  log(Likelihood) = {LL[iter_]}')\n",
    "        \n",
    "        if(iter_>1):\n",
    "            cvg = LL[iter_] - LL[iter_-1]\n",
    "            \n",
    "            if (cvg < 0 and verbosity):\n",
    "                print('OOPS!  log(like) decreasing!!')\n",
    "            elif (cvg<tol or iter_> max_iter):\n",
    "                converged = 1\n",
    "                LL = LL[0:iter_]\n",
    "                \n",
    "        iter_    = iter_ + 1\n",
    "    DS['zmean'] = zm\n",
    "    DS['wmean'] = mu\n",
    "    DS['wCOV'] = Sigma\n",
    "    DS['sig2'] = 1/taum\n",
    "    LLcvg    = LL[-1]\n",
    "    return DS, LLcvg\n",
    "    \n",
    "def logit(C):\n",
    "    logitC = np.log(C) - np.log(1-C)\n",
    "    return logitC\n",
    "\n",
    "def expit(C):\n",
    "    expitC = 1./(1 + np.exp(-C))\n",
    "    return expitC"
   ]
  },
  {
   "cell_type": "code",
   "execution_count": 18,
   "id": "4f258a9d",
   "metadata": {},
   "outputs": [],
   "source": [
    "Dict_std = np.std(D1, axis=0)"
   ]
  },
  {
   "cell_type": "code",
   "execution_count": null,
   "id": "12f23a73",
   "metadata": {},
   "outputs": [],
   "source": [
    "Dict_std1 = Dict_std.reshape(1,-1)"
   ]
  },
  {
   "cell_type": "code",
   "execution_count": 21,
   "id": "766edeeb",
   "metadata": {},
   "outputs": [],
   "source": [
    "D2 = D1*np.diag(1/Dict_std1)"
   ]
  },
  {
   "cell_type": "code",
   "execution_count": null,
   "id": "cd529b8e",
   "metadata": {},
   "outputs": [],
   "source": [
    "initz=initz0[1:]\n",
    "tol = 0.0001\n",
    "verbosity = True\n",
    "DS = Variational_Bayes_Code(D2, xdts, initz, tol, verbosity)\n",
    "\n",
    "print(DS) "
   ]
  },
  {
   "cell_type": "code",
   "execution_count": 25,
   "id": "fc066a36",
   "metadata": {
    "scrolled": true
   },
   "outputs": [
    {
     "name": "stdout",
     "output_type": "stream",
     "text": [
      "-2999.279554403426\n",
      "-4.00187760222764\n",
      "1999.857956815257\n",
      "1.9986351108849771\n",
      "-201228.27112439787\n",
      "300163.35584627953\n",
      "-301736.32807745365\n",
      "100779.03994272072\n"
     ]
    }
   ],
   "source": [
    "for i in DS[\"modelIdx\"]:\n",
    "    print((((DS[\"wmean\"][1:]) / (Dict_std1))).reshape(-1)[i])"
   ]
  },
  {
   "cell_type": "code",
   "execution_count": 29,
   "id": "90608dcc",
   "metadata": {},
   "outputs": [
    {
     "data": {
      "image/png": "[encoded data removed]",
      "text/plain": [
       "<Figure size 864x144 with 1 Axes>"
      ]
     },
     "metadata": {
      "needs_background": "light"
     },
     "output_type": "display_data"
    }
   ],
   "source": [
    "plt.rcParams[\"font.family\"] = \"Times New Roman\"\n",
    "plt.rcParams['font.size'] = 24\n",
    "\n",
    "figure1=plt.figure(figsize = (12, 2))\n",
    "xr = np.array(range(nl))\n",
    "plt.stem(xr,DS['zmean'], use_line_collection = True, linefmt='blue', basefmt=\"k\")\n",
    "plt.axhline(y= 0.5, color='r', linestyle='-.')\n",
    "plt.xlabel('basis functions',fontweight='bold')\n",
    "plt.ylabel('PIP (drift)', fontweight='bold');\n",
    "plt.title('(a)', fontweight='bold')\n",
    "plt.grid(True); plt.ylim(0,1.05)\n",
    "plt.xticks(fontweight='bold'); plt.yticks(fontweight='bold');\n",
    "figure1.savefig('3dof_drift1.png',format='png',dpi=600,bbox_inches='tight')"
   ]
  },
  {
   "cell_type": "markdown",
   "id": "3beeb3c7",
   "metadata": {},
   "source": [
    "# Diffusion 1 Equation discovery"
   ]
  },
  {
   "cell_type": "code",
   "execution_count": 2,
   "id": "4be3a562",
   "metadata": {},
   "outputs": [],
   "source": [
    "import numpy as np\n",
    "\"\"\"\n",
    "A 3 DOF Duffing system excited by random noise\n",
    "-----------------------------------------------------------\n",
    "\"\"\"\n",
    "def _3_DOF_Duffing_sys(x1, x2, x3, x4, x5, x6, T):\n",
    "    # parameters of Duffing oscillator in Equation\n",
    "    m1, m2, m3 = 1, 1, 1\n",
    "    c1, c2, c3 = 2, 2, 2\n",
    "    k1, k2, k3 = 1000, 2000, 3000\n",
    "    alpha1, alpha2, alpha3 = 100000, 100000, 100000\n",
    "    sigma1, sigma2, sigma3 = 1, 1, 1\n",
    "    \n",
    "    # solution by Taylor 1.5 strong scheme Run with dt=0.01\n",
    "    # -------------------------------------------------------\n",
    "    # T = 1\n",
    "    dt = 0.001\n",
    "    t = np.arange(0, T+dt, dt)\n",
    "    Nsamp = 500 # no. of samples in the run\n",
    "    #delmat = np.row_stack(([np.sqrt(dt), 0],[(dt**1.5)/2, (dt**1.5)/(2*np.sqrt(3))]))\n",
    "    \n",
    "    y1 = []\n",
    "    y2 = []\n",
    "    y3 = []\n",
    "    y4 = []\n",
    "    y5 = []\n",
    "    y6 = []\n",
    "    xz1 = []\n",
    "    xz2 = []\n",
    "    xz3 = []\n",
    "    xzs11 = []\n",
    "    xzs22 = []\n",
    "    xzs33 = []\n",
    "#     np.random.seed(4)\n",
    "    np.random.seed(5)\n",
    "    \n",
    "    # Simulation Starts Here ::\n",
    "    # -------------------------------------------------------\n",
    "    for ensemble in range(Nsamp):\n",
    "        x0 = np.array([x1, x2, x3, x4, x5, x6])\n",
    "        x = np.vstack(x0)                                                          # Zero initial condition.\n",
    "        for n in range(len(t)-1):\n",
    "            \n",
    "            dW = np.sqrt(dt)*np.random.randn(3)\n",
    "            dW2 = dW[0]\n",
    "            dW4 = dW[1]\n",
    "            dW6 = dW[2]\n",
    "            \n",
    "            a1 = x0[1]\n",
    "            a2 = -(c1/m1)*x0[1]-(k1/m1)*x0[0]-(c2/m1)*(x0[1]-x0[3])-k2*(x0[0]-x0[2])-(alpha1/m1)*(x0[0])**3-(alpha2/m1)*(x0[0]-x0[2])**3\n",
    "            a3 = x0[3]\n",
    "            a4 = -(c2/m2)*(x0[3]-x0[1])-(k2/m2)*(x0[2]-x0[0])-(c3/m2)*(x0[3]-x0[5])-k3/m2*(x0[2]-x0[4])-(alpha2/m2)*(x0[2]-x0[0])**3-(alpha3/m2)*(x0[2]-x0[4])**3\n",
    "            a5 = x0[5]\n",
    "            a6 = -(c3/m3)*(x0[5]-x0[3])-(k3/m3)*(x0[4]-x0[2])-(alpha3/m3)*(x0[4]-x0[2])**3\n",
    "            b2 = (sigma1/m1)*x0[0]\n",
    "            b4 = (sigma2/m2)*x0[2]\n",
    "            b6 = (sigma3/m3)*x0[4]\n",
    "\n",
    "            sol1 = x0[0] + a1*dt \n",
    "            sol2 = x0[1] + a2*dt + b2*dW2\n",
    "            sol3 = x0[2] + a3*dt \n",
    "            sol4 = x0[3] + a4*dt + b4*dW4\n",
    "            sol5 = x0[4] + a5*dt \n",
    "            sol6 = x0[5] + a6*dt + b6*dW6\n",
    "            \n",
    "            x0 = np.array([sol1, sol2, sol3, sol4, sol5, sol6])\n",
    "            x = np.column_stack((x, x0))\n",
    "            \n",
    "        y1.append(x[0,:])\n",
    "        y2.append(x[1,:])\n",
    "        y3.append(x[2,:])\n",
    "        y4.append(x[3,:])\n",
    "        y5.append(x[4,:])\n",
    "        y6.append(x[5,:])\n",
    "        \n",
    "        zint1 = x[1,0:-1]\n",
    "        xfinal1 = x[1,1:] \n",
    "        xmz1 = (xfinal1 - zint1) # 'x(t)-z' vector\n",
    "        \n",
    "        zint2 = x[3, 0:-1]\n",
    "        xfinal2 = x[3, 1:] \n",
    "        xmz2 = (xfinal2 - zint2) # 'x2(t)-z2' vector\n",
    "        \n",
    "        zint3 = x[5, 0:-1]\n",
    "        xfinal3 = x[5, 1:] \n",
    "        xmz3 = (xfinal3 - zint3) # 'x2(t)-z2' vector\n",
    "        \n",
    "        xz1.append(xmz1)\n",
    "        xz2.append(xmz2)\n",
    "        xz3.append(xmz3)\n",
    "        \n",
    "        xmzsq11 = np.multiply(xmz1, xmz1)\n",
    "        xzs11.append(xmzsq11)\n",
    "        \n",
    "        xmzsq22 = np.multiply(xmz2, xmz2)\n",
    "        xzs22.append(xmzsq22)\n",
    "        \n",
    "        xmzsq33 = np.multiply(xmz3, xmz3)\n",
    "        xzs33.append(xmzsq33)\n",
    "        \n",
    "    xz1 = pow(dt,-1)*np.mean(np.array(xz1), axis = 0)\n",
    "    xz2 = pow(dt,-1)*np.mean(np.array(xz2), axis = 0)\n",
    "    xz3 = pow(dt,-1)*np.mean(np.array(xz3), axis = 0)\n",
    "    \n",
    "    xzs11 = pow(dt,-1)*np.mean(np.array(xzs11), axis = 0)\n",
    "    xzs22 = pow(dt,-1)*np.mean(np.array(xzs22), axis = 0)\n",
    "    xzs33 = pow(dt,-1)*np.mean(np.array(xzs33), axis = 0) \n",
    "    \n",
    "    y1 = np.array(y1)\n",
    "    y2 = np.array(y2)\n",
    "    y3 = np.array(y3)\n",
    "    y4 = np.array(y4)\n",
    "    y5 = np.array(y5)\n",
    "    y6 = np.array(y6)\n",
    "    \n",
    "    time = t[0:-1]\n",
    "    \n",
    "    return xz1, xz2, xz3, xzs11, xzs22, xzs33, y1, y2, y3, y4, y5, y6, time"
   ]
  },
  {
   "cell_type": "code",
   "execution_count": 3,
   "id": "2a96c8fa",
   "metadata": {},
   "outputs": [],
   "source": [
    "import numpy as np\n",
    "\n",
    "T = 1\n",
    "# Response generation: \n",
    "x1, x2, x3, x4, x5, x6 = 0.05, 0, 0.01, 0, 0.01, 0                       \n",
    "xdrift1, xdrift2, xdrift3, xdiff11, xdiff22, xdiff33, y1, y2, y3, y4, y5, y6, t_eval = _3_DOF_Duffing_sys(x1, x2, x3, x4, x5, x6, T)\n",
    "\n",
    "libr = []\n",
    "for j in range(len(y1)):\n",
    "    data = np.row_stack((y1[j,0:-1], y2[j,0:-1], y3[j,0:-1], y4[j,0:-1], y5[j,0:-1], y6[j,0:-1]))\n",
    "    Dtemp, nl = library(data, 4, 0)\n",
    "    libr.append(Dtemp)\n",
    "libr = np.array(libr)\n",
    "Dictionary= np.mean(libr, axis = 0)\n",
    "xdts = xdiff11"
   ]
  },
  {
   "cell_type": "code",
   "execution_count": 4,
   "id": "18f1e028",
   "metadata": {},
   "outputs": [],
   "source": [
    "D = Dictionary"
   ]
  },
  {
   "cell_type": "code",
   "execution_count": 7,
   "id": "5dfd9740",
   "metadata": {},
   "outputs": [
    {
     "data": {
      "text/plain": [
       "(7000,)"
      ]
     },
     "execution_count": 7,
     "metadata": {},
     "output_type": "execute_result"
    }
   ],
   "source": [
    "Dict = D.reshape(-1,order='F')\n",
    "Dict.shape"
   ]
  },
  {
   "cell_type": "code",
   "execution_count": null,
   "id": "64121adb",
   "metadata": {},
   "outputs": [],
   "source": [
    "#!/usr/bin/env python\n",
    "\"\"\"\n",
    "Sample script that uses the SparseBayes module created using\n",
    "MATLAB Compiler SDK.\n",
    "\n",
    "Refer to the MATLAB Compiler SDK documentation for more information.\n",
    "\"\"\"\n",
    "\n",
    "from __future__ import print_function\n",
    "import SparseBayes\n",
    "import matlab\n",
    "\n",
    "my_SparseBayes = SparseBayes.initialize()\n",
    "\n",
    "DictIn = matlab.double(Dict, size=(D.shape[0], D.shape[1]))\n",
    "targetIn = matlab.double(xdts, size=(D.shape[0], 1))\n",
    "DMOut = my_SparseBayes.SparseBayes(DictIn, targetIn)\n",
    "print(DMOut, sep='\\n')\n",
    "\n",
    "my_SparseBayes.terminate()"
   ]
  },
  {
   "cell_type": "code",
   "execution_count": null,
   "id": "8b1512cb",
   "metadata": {},
   "outputs": [],
   "source": [
    "c = np.array(DMOut['Value'])\n",
    "d = []\n",
    "for j in c:\n",
    "    d.append(j[0])"
   ]
  },
  {
   "cell_type": "code",
   "execution_count": null,
   "id": "4f4d894a",
   "metadata": {},
   "outputs": [],
   "source": [
    "a = np.array(DMOut['Relevant'])\n",
    "b = []\n",
    "for i in a:\n",
    "    b.append(int((i[0])-1))"
   ]
  },
  {
   "cell_type": "code",
   "execution_count": null,
   "id": "933e6363",
   "metadata": {},
   "outputs": [],
   "source": [
    "initz0_1 = np.zeros(D.shape[1])\n",
    "for i in b:\n",
    "    initz0_1[i] = 1"
   ]
  },
  {
   "cell_type": "code",
   "execution_count": 12,
   "id": "ed5ad1f4",
   "metadata": {},
   "outputs": [],
   "source": [
    "import warnings\n",
    "import math\n",
    "import numpy as np\n",
    "import scipy as sp\n",
    "import sympy as smp\n",
    "from scipy import stats\n",
    "from numpy import linalg as la\n",
    "import matplotlib.pyplot as plt\n",
    "from numpy.random import gamma\n",
    "from scipy.special import loggamma\n",
    "\n",
    "def Variational_Bayes_Code_DIFF(X, y, initz0, tol, verbosity):\n",
    "\n",
    "    if (len(X) == 0 or len(y) == 0):\n",
    "        raise Exception('X and or y is missing')\n",
    "        \n",
    "    if (len(X) != len(y)):\n",
    "        raise Exception('Number of observations do not match')\n",
    "        \n",
    "    # X = stats.zscore(X, ddof = 1)         \n",
    "    # X = np.c_[np.ones(len(X)),X]\n",
    "    # X = np.c_[np.ones(len(X)),X]          \n",
    "    # y = y - np.mean(y)\n",
    "    N = len(X)\n",
    "    # Prior parameters of noise variance (Inverse Gamma dist)\n",
    "    A = 1e-4\n",
    "    B = 1e-4\n",
    "    vs = 10\n",
    "    tau0 = 1000\n",
    "    \n",
    "    if (len(initz0) == 0):\n",
    "        raise Exception('No initial value of z found')\n",
    "    else:\n",
    "        p0 = expit(-0.5*(np.sqrt(N)))       \n",
    "        \n",
    "        # Adding the intercept indicator variable (slightly less than 1 to prevent log(0) values) \n",
    "        # initz = np.hstack((1,initz0))  \n",
    "        initz = initz0\n",
    "\n",
    "        DS,LLcvg  = run_VB2(X, y, vs, A, B, tau0, p0, initz, tol, verbosity)    \n",
    "        # This is function which will come first\n",
    "        \n",
    "    out_vb   = DS\n",
    "    a = DS['zmean'] > 0.5\n",
    "    count = 0\n",
    "    modelIdx = []\n",
    "    for i in a:\n",
    "        if i == True:\n",
    "            modelIdx.append(count)\n",
    "        count += 1\n",
    "            \n",
    "    modelIdx = np.setdiff1d(modelIdx,0)\n",
    "    out_vb['modelIdx'] = modelIdx-1\n",
    "    out_vb['Zmed'] = DS['zmean'][modelIdx]\n",
    "    out_vb['Wsel'] = DS['wmean'][modelIdx]\n",
    "    out_vb['Wcov'] = DS['wCOV'][modelIdx, modelIdx]\n",
    "    out_vb['sig2'] = DS['sig2']\n",
    "    \n",
    "    return out_vb\n",
    "\n",
    "DS = {}\n",
    "def run_VB2(Xc, yc, vs, A, B, tau0, p0, initz, tol, verbosity):\n",
    "    \"\"\"This function is the implementation of VB from John T. Ormerod paper (2014)\n",
    "       This implementation uses slab scaling by noise variance\n",
    "       vs    : treated as a constant\n",
    "       A,B   : constants of the IG prior over noise variance\n",
    "       tau0  : Expected value of (sigma^{-2})\n",
    "       p0    : inclusion probablility\n",
    "       initz : Initial value of z\n",
    "       Xc    : Centered and standardized dictionary except the first column\n",
    "       yc    : Centered observations \"\"\"\n",
    "    \n",
    "    Lambda    = logit(p0)\n",
    "    iter_     = 0\n",
    "    max_iter  = 100\n",
    "    LL        = np.zeros(max_iter)        \n",
    "    zm        = np.reshape(initz,(-1))            \n",
    "    taum      = tau0                      \n",
    "    invVs     = 1/vs\n",
    "    \n",
    "    X = Xc\n",
    "    y = yc\n",
    "    XtX = (X.T) @ X\n",
    "    XtX = 0.5*(XtX + (XtX).T)\n",
    "    Xty = (X.T) @ y                 \n",
    "    yty = (y.T) @ y\n",
    "\n",
    "    eyep = np.eye(len(XtX))\n",
    "    [N,p] = X.shape\n",
    "    allidx = np.arange(p)\n",
    "    zm[0] = 1                                                                   # Always include the intercept \n",
    "    Abar    = (A + 0.5*N + 0.5*p)\n",
    "    converged = 0\n",
    "    \n",
    "    while (converged==0):\n",
    "        if (iter_==100):\n",
    "            break\n",
    "        \n",
    "        Zm       = np.diag(zm)\n",
    "        Omg      = (np.reshape(zm,(-1,1)) @ np.reshape(zm,(1,-1))) + (Zm @ (eyep-Zm))\n",
    "        # Update the mean and covariance of the coefficients given mean of z\n",
    "        term1    = XtX * Omg                                                       # elementwisw multiplication\n",
    "        invSigma = taum * (term1 + invVs * eyep)\n",
    "        invSigma = 0.5*(invSigma + invSigma.T)                                     # symmetric\n",
    "        Sigma    = la.inv(invSigma) @ eyep\n",
    "        mu       = taum * (Sigma @ Zm @ Xty)                                       # @ ---> matrix multiplication\n",
    "        \n",
    "        # Update tau related to sigma\n",
    "        term2    = 2 * Xty @ Zm @ mu\n",
    "        term3    =  np.reshape(mu,(len(initz0),1)) @ np.reshape(mu,(1,len(initz0)))+ Sigma\n",
    "        term4    = yty - term2 + np.trace((term1 + invVs * eyep) @ term3)    \n",
    "        s        = B + 0.5*term4\n",
    "        \n",
    "        if s<0:\n",
    "            warnings.warn('s turned out be less than 0. Taking absolute value')\n",
    "            s = B + 0.5*abs(term4)\n",
    "        \n",
    "        taum     = Abar / s\n",
    "        zstr   = zm\n",
    "\n",
    "        order   = np.setdiff1d(np.random.permutation(p), 0, assume_unique=True)\n",
    "        for j in order: \n",
    "            muj     = mu[j]                            \n",
    "            sigmaj  = Sigma[j,j]\n",
    "            \n",
    "            remidx  = np.setdiff1d(allidx,j)\n",
    "            mu_j    = mu[remidx]\n",
    "            Sigma_jj= Sigma[remidx,j]\n",
    "            etaj    = (Lambda - 0.5 * taum * ((muj**2 + sigmaj) * XtX[j,j]) \n",
    "                       + taum * np.reshape(X[:,j],(1,-1)) @ (np.reshape(y,(-1,1))*muj \n",
    "                        -X[:,remidx] @ np.diag(zstr[remidx]) @ ((mu_j * muj + Sigma_jj).reshape(-1,1))))\n",
    "            zstr[j] = expit(etaj)\n",
    "            \n",
    "        zm = zstr\n",
    "        \n",
    "        # Calculate marginal log-likelihood\n",
    "        \n",
    "        LL[iter_] = ( 0.5*p \n",
    "                    - 0.5*N*np.log(2*np.pi) \n",
    "                    + 0.5*p*np.log(invVs) \n",
    "                    + A*np.log(B)\n",
    "                    - loggamma(A)\n",
    "                    + loggamma(Abar) \n",
    "                    - Abar*np.log(s)\n",
    "                    + 0.5*np.log(la.det(Sigma))\n",
    "                    + np.nansum(zm*(np.log(p0) - np.log(zm))) \n",
    "                    + np.nansum((1-zm)*(np.log(1-p0) - np.log(1-zm))))\n",
    "        \n",
    "        if(verbosity):\n",
    "            print(f'Iteration = {iter_}  log(Likelihood) = {LL[iter_]}')\n",
    "        \n",
    "        if(iter_>1):\n",
    "            cvg = LL[iter_] - LL[iter_-1]\n",
    "            \n",
    "            if (cvg < 0 and verbosity):\n",
    "                print('OOPS!  log(like) decreasing!!')\n",
    "            elif (cvg<tol or iter_> max_iter):\n",
    "                converged = 1\n",
    "                LL = LL[0:iter_]\n",
    "                \n",
    "        iter_    = iter_ + 1\n",
    "    DS['zmean'] = zm\n",
    "    DS['wmean'] = mu\n",
    "    DS['wCOV'] = Sigma\n",
    "    DS['sig2'] = 1/taum\n",
    "    LLcvg    = LL[-1]\n",
    "    return DS, LLcvg\n",
    "    \n",
    "def logit(C):\n",
    "    logitC = np.log(C) - np.log(1-C)\n",
    "    return logitC\n",
    "\n",
    "def expit(C):\n",
    "    expitC = 1./(1 + np.exp(-C))\n",
    "    return expitC"
   ]
  },
  {
   "cell_type": "code",
   "execution_count": null,
   "id": "57b0539f",
   "metadata": {},
   "outputs": [],
   "source": [
    "tol = 0.0001\n",
    "verbosity = True\n",
    "initz0 = initz0_1\n",
    "DS = Variational_Bayes_Code_DIFF(D, xdts, initz0, tol, verbosity)"
   ]
  },
  {
   "cell_type": "code",
   "execution_count": 16,
   "id": "1923fc29",
   "metadata": {},
   "outputs": [],
   "source": [
    "mut1 = DS['wmean']\n",
    "sigt = DS['wCOV']\n",
    "DS['zmean'][np.where(DS['zmean']<0.5)] = 0\n",
    "mut1[np.where(DS['zmean']<0.5)] = 0\n",
    "DS['zmean'][np.where(np.diag(sigt)>0.001)] = 0\n",
    "mut1[np.where(np.diag(sigt)>0.05)] = 0\n",
    "DS['wmean'][np.where(DS['zmean']==0)] = 0"
   ]
  },
  {
   "cell_type": "code",
   "execution_count": 18,
   "id": "fce16e0d",
   "metadata": {},
   "outputs": [
    {
     "data": {
      "image/png": "[encoded data removed]",
      "text/plain": [
       "<Figure size 864x144 with 1 Axes>"
      ]
     },
     "metadata": {
      "needs_background": "light"
     },
     "output_type": "display_data"
    }
   ],
   "source": [
    "plt.rcParams[\"font.family\"] = \"Times New Roman\"\n",
    "plt.rcParams['font.size'] = 24\n",
    "\n",
    "figure1=plt.figure(figsize = (12, 2))\n",
    "xr = np.array(range(nl))\n",
    "plt.stem(xr,DS['zmean'], use_line_collection = True, linefmt='blue', basefmt=\"k\")\n",
    "plt.axhline(y= 0.5, color='r', linestyle='-.')\n",
    "plt.title('(a)', fontweight='bold')\n",
    "plt.xlabel('basis functions',fontweight='bold')\n",
    "plt.ylabel('PIP (diffusion)', fontweight='bold');\n",
    "plt.grid(True); plt.ylim(0,1.05)\n",
    "plt.xticks(fontweight='bold'); plt.yticks(fontweight='bold');\n",
    "figure1.savefig('3dof_diff1.png',format='png',dpi=600,bbox_inches='tight')"
   ]
  },
  {
   "cell_type": "markdown",
   "id": "3f9aeea2",
   "metadata": {},
   "source": [
    "# Drift 2 Equation discovery"
   ]
  },
  {
   "cell_type": "code",
   "execution_count": 2,
   "id": "d92fe476",
   "metadata": {},
   "outputs": [],
   "source": [
    "import numpy as np\n",
    "\n",
    "\"\"\"\n",
    "A 3 DOF Duffing Van der pol system excited by random noise\n",
    "-----------------------------------------------------------\n",
    "\"\"\"\n",
    "def _3_DOF_Duffing_sys(x1, x2, x3, x4, x5, x6, T):\n",
    "    \n",
    "    m1, m2, m3 = 1, 1, 1\n",
    "    c1, c2, c3 = 2, 2, 2\n",
    "    k1, k2, k3 = 1000, 2000, 3000\n",
    "    alpha1, alpha2, alpha3 = 100000, 100000, 100000\n",
    "    sigma1, sigma2, sigma3 = 1, 1, 1 \n",
    "    \n",
    "    dt = 0.001\n",
    "    t = np.arange(0, T+dt, dt)\n",
    "    Nsamp = 500 # no. of samples in the run\n",
    "    \n",
    "    \n",
    "    y1 = []\n",
    "    y2 = []\n",
    "    y3 = []\n",
    "    y4 = []\n",
    "    y5 = []\n",
    "    y6 = []\n",
    "    xz1 = []\n",
    "    xz2 = []\n",
    "    xz3 = []\n",
    "    xzs11 = []\n",
    "    xzs22 = []\n",
    "    xzs33 = []\n",
    "    \n",
    "    # Simulation Starts Here ::\n",
    "    # -------------------------------------------------------\n",
    "    for ensemble in range(Nsamp):\n",
    "        x0 = np.array([x1, x2, x3, x4, x5, x6])\n",
    "        x = np.vstack(x0)                                                          # Zero initial condition.\n",
    "        for n in range(len(t)-1):\n",
    "            \n",
    "            dW = np.sqrt(dt)*np.random.randn(3)\n",
    "            dW2 = dW[0]\n",
    "            dW4 = dW[1]\n",
    "            dW6 = dW[2]\n",
    "            \n",
    "            a1 = x0[1]\n",
    "            a2 = -(c1/m1)*x0[1]-(k1/m1)*x0[0]-(c2/m1)*(x0[1]-x0[3])-k2*(x0[0]-x0[2])-(alpha1/m1)*(x0[0])**3-(alpha2/m1)*(x0[0]-x0[2])**3\n",
    "            a3 = x0[3]\n",
    "            a4 = -(c2/m2)*(x0[3]-x0[1])-(k2/m2)*(x0[2]-x0[0])-(c3/m2)*(x0[3]-x0[5])-k3/m2*(x0[2]-x0[4])-(alpha2/m2)*(x0[2]-x0[0])**3-(alpha3/m2)*(x0[2]-x0[4])**3\n",
    "            a5 = x0[5]\n",
    "            a6 = -(c3/m3)*(x0[5]-x0[3])-(k3/m3)*(x0[4]-x0[2])-(alpha3/m3)*(x0[4]-x0[2])**3\n",
    "            b2 = (sigma1/m1)*x0[0]\n",
    "            b4 = (sigma2/m2)*x0[2]\n",
    "            b6 = (sigma3/m3)*x0[4]\n",
    "\n",
    "            sol1 = x0[0] + a1*dt \n",
    "            sol2 = x0[1] + a2*dt + b2*dW2\n",
    "            sol3 = x0[2] + a3*dt \n",
    "            sol4 = x0[3] + a4*dt + b4*dW4\n",
    "            sol5 = x0[4] + a5*dt \n",
    "            sol6 = x0[5] + a6*dt + b6*dW6\n",
    "            \n",
    "            x0 = np.array([sol1, sol2, sol3, sol4, sol5, sol6])\n",
    "            x = np.column_stack((x, x0))\n",
    "            \n",
    "        y1.append(x[0,:])\n",
    "        y2.append(x[1,:])\n",
    "        y3.append(x[2,:])\n",
    "        y4.append(x[3,:])\n",
    "        y5.append(x[4,:])\n",
    "        y6.append(x[5,:])\n",
    "        \n",
    "        zint1 = x[1,0:-1]\n",
    "        xfinal1 = x[1,1:] \n",
    "        xmz1 = (xfinal1 - zint1) # 'x(t)-z' vector\n",
    "        \n",
    "        zint2 = x[3, 0:-1]\n",
    "        xfinal2 = x[3, 1:] \n",
    "        xmz2 = (xfinal2 - zint2) # 'x2(t)-z2' vector\n",
    "        \n",
    "        zint3 = x[5, 0:-1]\n",
    "        xfinal3 = x[5, 1:] \n",
    "        xmz3 = (xfinal3 - zint3) # 'x2(t)-z2' vector\n",
    "        \n",
    "        xz1.append(xmz1)\n",
    "        xz2.append(xmz2)\n",
    "        xz3.append(xmz3)\n",
    "        \n",
    "        xmzsq11 = np.multiply(xmz1, xmz1)\n",
    "        xzs11.append(xmzsq11)\n",
    "        \n",
    "        xmzsq22 = np.multiply(xmz2, xmz2)\n",
    "        xzs22.append(xmzsq22)\n",
    "        \n",
    "        xmzsq33 = np.multiply(xmz3, xmz3)\n",
    "        xzs33.append(xmzsq33)\n",
    "        \n",
    "        \n",
    "    xz1 = pow(dt,-1)*np.mean(np.array(xz1), axis = 0)\n",
    "    xz2 = pow(dt,-1)*np.mean(np.array(xz2), axis = 0)\n",
    "    xz3 = pow(dt,-1)*np.mean(np.array(xz3), axis = 0)\n",
    "    \n",
    "    xzs11 = pow(dt,-1)*np.mean(np.array(xzs11), axis = 0)\n",
    "    xzs22 = pow(dt,-1)*np.mean(np.array(xzs22), axis = 0)\n",
    "    xzs33 = pow(dt,-1)*np.mean(np.array(xzs33), axis = 0) \n",
    "    \n",
    "    y1 = np.array(y1)\n",
    "    y2 = np.array(y2)\n",
    "    y3 = np.array(y3)\n",
    "    y4 = np.array(y4)\n",
    "    y5 = np.array(y5)\n",
    "    y6 = np.array(y6)\n",
    "    \n",
    "    time = t[0:-1]\n",
    "    \n",
    "    return xz1, xz2, xz3, xzs11, xzs22, xzs33, y1, y2, y3, y4, y5, y6, time"
   ]
  },
  {
   "cell_type": "code",
   "execution_count": 3,
   "id": "289625cb",
   "metadata": {
    "scrolled": true
   },
   "outputs": [],
   "source": [
    "T = 1\n",
    "# Response generation: \n",
    "x1, x2, x3, x4, x5, x6 = 0.05, 0, 0.01, 0, 0.01, 0 # initial displacement for 3dof\n",
    "xdrift1, xdrift2, xdrift3, xdiff11, xdiff22, xdiff33, y1, y2, y3, y4, y5, y6, t_eval = _3_DOF_Duffing_sys(x1, x2, x3, x4, x5, x6, T)"
   ]
  },
  {
   "cell_type": "code",
   "execution_count": 6,
   "id": "8141f415",
   "metadata": {
    "scrolled": true
   },
   "outputs": [],
   "source": [
    "# Expected Dictionary Creation:\n",
    "libr = []\n",
    "for j in range(len(y1)):\n",
    "    data = np.row_stack((y1[j,0:-1], y2[j,0:-1], y3[j,0:-1], y4[j,0:-1], y5[j,0:-1], y6[j,0:-1]))\n",
    "    Dtemp, nl = library(data, 4, 0)\n",
    "    libr.append(Dtemp)\n",
    "libr = np.array(libr)\n",
    "Dictionary= np.mean(libr, axis = 0)\n",
    "xdts = xdrift2"
   ]
  },
  {
   "cell_type": "code",
   "execution_count": 7,
   "id": "460303b2",
   "metadata": {},
   "outputs": [],
   "source": [
    "D = Dictionary"
   ]
  },
  {
   "cell_type": "code",
   "execution_count": 9,
   "id": "b73a6078",
   "metadata": {},
   "outputs": [
    {
     "data": {
      "text/plain": [
       "(258000,)"
      ]
     },
     "execution_count": 9,
     "metadata": {},
     "output_type": "execute_result"
    }
   ],
   "source": [
    "Dict = D.reshape(-1, order='F')"
   ]
  },
  {
   "cell_type": "code",
   "execution_count": 10,
   "id": "6ebcf991",
   "metadata": {
    "scrolled": true
   },
   "outputs": [
    {
     "name": "stdout",
     "output_type": "stream",
     "text": [
      "{'Relevant': matlab.double([[2.0],[3.0],[4.0],[5.0],[6.0],[7.0],[29.0],[31.0],[40.0],[65.0],[67.0],[72.0],[81.0]]), 'Value': matlab.double([[1999.963865126808],[1.9991646416021345],[-5000.0274955949135],[-3.9990167373810714],[3000.0730271368884],[2.0002186458214357],[99996.62271079744],[-299989.4175326866],[300150.4760968315],[-200021.81906158547],[299981.0637841876],[-299904.32047600485],[99950.8080193673]])}\n"
     ]
    }
   ],
   "source": [
    "from __future__ import print_function\n",
    "\n",
    "#!/usr/bin/env python\n",
    "\"\"\"\n",
    "Sample script that uses the SparseBayes module created using\n",
    "MATLAB Compiler SDK.\n",
    "\n",
    "Refer to the MATLAB Compiler SDK documentation for more information.\n",
    "\"\"\"\n",
    "\n",
    "import SparseBayes\n",
    "import matlab\n",
    "\n",
    "my_SparseBayes = SparseBayes.initialize()\n",
    "\n",
    "DictIn = matlab.double(Dict, size=(D.shape[0], D.shape[1]))\n",
    "targetIn = matlab.double(xdts, size=(D.shape[0], 1))\n",
    "DMOut = my_SparseBayes.SparseBayes(DictIn, targetIn)\n",
    "print(DMOut, sep='\\n')\n",
    "\n",
    "my_SparseBayes.terminate()"
   ]
  },
  {
   "cell_type": "code",
   "execution_count": null,
   "id": "bf4c4064",
   "metadata": {},
   "outputs": [],
   "source": [
    "c = np.array(DMOut['Value'])\n",
    "d = []\n",
    "for j in c:\n",
    "    d.append(j[0])"
   ]
  },
  {
   "cell_type": "code",
   "execution_count": null,
   "id": "beddf6f0",
   "metadata": {},
   "outputs": [],
   "source": [
    "a = np.array(DMOut['Relevant'])\n",
    "b = []\n",
    "for i in a:\n",
    "    b.append(int((i[0])-1))"
   ]
  },
  {
   "cell_type": "code",
   "execution_count": null,
   "id": "b1bcf88b",
   "metadata": {},
   "outputs": [],
   "source": [
    "initz0 = np.zeros(D.shape[1])\n",
    "for i in b:\n",
    "    initz0[i] = 1"
   ]
  },
  {
   "cell_type": "code",
   "execution_count": null,
   "id": "93aa14fd",
   "metadata": {
    "scrolled": true
   },
   "outputs": [],
   "source": [
    "D1 = D[:,1:]"
   ]
  },
  {
   "cell_type": "code",
   "execution_count": 20,
   "id": "75d4d8e8",
   "metadata": {},
   "outputs": [],
   "source": [
    "Dict_std = np.std(D1, axis=0)"
   ]
  },
  {
   "cell_type": "code",
   "execution_count": null,
   "id": "cde3f39c",
   "metadata": {},
   "outputs": [],
   "source": [
    "Dict_std1 = Dict_std.reshape(1,-1)"
   ]
  },
  {
   "cell_type": "code",
   "execution_count": 23,
   "id": "ca58f439",
   "metadata": {},
   "outputs": [],
   "source": [
    "D2 = D1*np.diag(1/Dict_std1)"
   ]
  },
  {
   "cell_type": "code",
   "execution_count": null,
   "id": "f999cd5d",
   "metadata": {},
   "outputs": [],
   "source": [
    "initz=initz0[1:]\n",
    "tol = 0.0001\n",
    "verbosity = True\n",
    "DS = Variational_Bayes_Code(D2, xdts, initz, tol, verbosity)"
   ]
  },
  {
   "cell_type": "code",
   "execution_count": 27,
   "id": "67acf28a",
   "metadata": {
    "scrolled": true
   },
   "outputs": [
    {
     "name": "stdout",
     "output_type": "stream",
     "text": [
      "1999.5078315312364\n",
      "2.0138123413377764\n",
      "-4995.925481588451\n",
      "-3.9903318058697623\n",
      "2998.9677049963634\n",
      "2.0122004996459117\n",
      "101098.38204538524\n",
      "-302960.86947269\n",
      "298328.46634511603\n",
      "-203908.6767026136\n",
      "301302.87145616167\n",
      "-303715.3137861639\n",
      "101530.79829362725\n"
     ]
    }
   ],
   "source": [
    "for i in DS[\"modelIdx\"]:\n",
    "    print((((DS[\"wmean\"][1:]) / (Dict_std1))).reshape(-1)[i])"
   ]
  },
  {
   "cell_type": "code",
   "execution_count": 32,
   "id": "dc19b1dd",
   "metadata": {},
   "outputs": [
    {
     "data": {
      "image/png": "[encoded data removed]",
      "text/plain": [
       "<Figure size 864x144 with 1 Axes>"
      ]
     },
     "metadata": {
      "needs_background": "light"
     },
     "output_type": "display_data"
    }
   ],
   "source": [
    "plt.rcParams[\"font.family\"] = \"Times New Roman\"\n",
    "plt.rcParams['font.size'] = 24\n",
    "\n",
    "figure1=plt.figure(figsize = (12, 2))\n",
    "xr = np.array(range(nl))\n",
    "plt.stem(xr,DS['zmean'], use_line_collection = True, linefmt='blue', basefmt=\"k\")\n",
    "plt.axhline(y= 0.5, color='r', linestyle='-.')\n",
    "plt.xlabel('basis functions',fontweight='bold')\n",
    "plt.ylabel('PIP (drift)', fontweight='bold');\n",
    "plt.title('(b)', fontweight='bold')\n",
    "plt.grid(True); plt.ylim(0,1.05)\n",
    "plt.xticks(fontweight='bold'); plt.yticks(fontweight='bold');\n",
    "figure1.savefig('3dof_drift2.png',format='png',dpi=600,bbox_inches='tight')"
   ]
  },
  {
   "cell_type": "markdown",
   "id": "72abbcd6",
   "metadata": {},
   "source": [
    "# Diffusion 2 Equation discovery "
   ]
  },
  {
   "cell_type": "code",
   "execution_count": 1,
   "id": "1416b70c",
   "metadata": {},
   "outputs": [],
   "source": [
    "import numpy as np\n",
    "np.random.seed(1)\n",
    "\n",
    "\"\"\"\n",
    "A 3 DOF Duffing system excited by random noise\n",
    "-----------------------------------------------------------\n",
    "\"\"\"\n",
    "def _3_DOF_Duffing_sys(x1, x2, x3, x4, x5, x6, T):\n",
    "    # parameters \n",
    "    m1, m2, m3 = 1, 1, 1\n",
    "    c1, c2, c3 = 2, 2, 2\n",
    "    k1, k2, k3 = 1000, 2000, 3000\n",
    "    alpha1, alpha2, alpha3 = 100000, 100000, 100000\n",
    "    sigma1, sigma2, sigma3 = 1, 1, 1\n",
    "    \n",
    "    dt = 0.001\n",
    "    t = np.arange(0, T+dt, dt)\n",
    "    Nsamp = 500 # no. of samples in the run\n",
    "    \n",
    "    y1 = []\n",
    "    y2 = []\n",
    "    y3 = []\n",
    "    y4 = []\n",
    "    y5 = []\n",
    "    y6 = []\n",
    "    xz1 = []\n",
    "    xz2 = []\n",
    "    xz3 = []\n",
    "    xzs11 = []\n",
    "    xzs22 = []\n",
    "    xzs33 = []\n",
    "    np.random.seed(4)\n",
    "    \n",
    "    # Simulation Starts Here ::\n",
    "    # -------------------------------------------------------\n",
    "    for ensemble in range(Nsamp):\n",
    "        x0 = np.array([x1, x2, x3, x4, x5, x6])\n",
    "        x = np.vstack(x0)                                                          # Zero initial condition.\n",
    "        for n in range(len(t)-1):\n",
    "            \n",
    "            dW = np.sqrt(dt)*np.random.randn(3)\n",
    "            dW2 = dW[0]\n",
    "            dW4 = dW[1]\n",
    "            dW6 = dW[2]\n",
    "            \n",
    "            a1 = x0[1]\n",
    "            a2 = -(c1/m1)*x0[1]-(k1/m1)*x0[0]-(c2/m1)*(x0[1]-x0[3])-k2*(x0[0]-x0[2])-(alpha1/m1)*(x0[0])**3-(alpha2/m1)*(x0[0]-x0[2])**3\n",
    "            a3 = x0[3]\n",
    "            a4 = -(c2/m2)*(x0[3]-x0[1])-(k2/m2)*(x0[2]-x0[0])-(c3/m2)*(x0[3]-x0[5])-k3/m2*(x0[2]-x0[4])-(alpha2/m2)*(x0[2]-x0[0])**3-(alpha3/m2)*(x0[2]-x0[4])**3\n",
    "            a5 = x0[5]\n",
    "            a6 = -(c3/m3)*(x0[5]-x0[3])-(k3/m3)*(x0[4]-x0[2])-(alpha3/m3)*(x0[4]-x0[2])**3\n",
    "            b2 = (sigma1/m1)\n",
    "            b4 = (sigma2/m2)\n",
    "            b6 = (sigma3/m3)\n",
    "\n",
    "            sol1 = x0[0] + a1*dt \n",
    "            sol2 = x0[1] + a2*dt + b2*dW2\n",
    "            sol3 = x0[2] + a3*dt \n",
    "            sol4 = x0[3] + a4*dt + b4*dW4\n",
    "            sol5 = x0[4] + a5*dt \n",
    "            sol6 = x0[5] + a6*dt + b6*dW6\n",
    "            \n",
    "            x0 = np.array([sol1, sol2, sol3, sol4, sol5, sol6])\n",
    "            x = np.column_stack((x, x0))\n",
    "            \n",
    "        y1.append(x[0,:])\n",
    "        y2.append(x[1,:])\n",
    "        y3.append(x[2,:])\n",
    "        y4.append(x[3,:])\n",
    "        y5.append(x[4,:])\n",
    "        y6.append(x[5,:])\n",
    "        \n",
    "        zint1 = x[1,0:-1]\n",
    "        xfinal1 = x[1,1:] \n",
    "        xmz1 = (xfinal1 - zint1) # 'x(t)-z' vector\n",
    "        \n",
    "        zint2 = x[3, 0:-1]\n",
    "        xfinal2 = x[3, 1:] \n",
    "        xmz2 = (xfinal2 - zint2) # 'x2(t)-z2' vector\n",
    "        \n",
    "        zint3 = x[5, 0:-1]\n",
    "        xfinal3 = x[5, 1:] \n",
    "        xmz3 = (xfinal3 - zint3) # 'x2(t)-z2' vector\n",
    "        \n",
    "        xz1.append(xmz1)\n",
    "        xz2.append(xmz2)\n",
    "        xz3.append(xmz3)\n",
    "        \n",
    "        xmzsq11 = np.multiply(xmz1, xmz1)\n",
    "        xzs11.append(xmzsq11)\n",
    "        \n",
    "        xmzsq22 = np.multiply(xmz2, xmz2)\n",
    "        xzs22.append(xmzsq22)\n",
    "        \n",
    "        xmzsq33 = np.multiply(xmz3, xmz3)\n",
    "        xzs33.append(xmzsq33)\n",
    "        \n",
    "    xz1 = pow(dt,-1)*np.mean(np.array(xz1), axis = 0)\n",
    "    xz2 = pow(dt,-1)*np.mean(np.array(xz2), axis = 0)\n",
    "    xz3 = pow(dt,-1)*np.mean(np.array(xz3), axis = 0)\n",
    "    \n",
    "    xzs11 = pow(dt,-1)*np.mean(np.array(xzs11), axis = 0)\n",
    "    xzs22 = pow(dt,-1)*np.mean(np.array(xzs22), axis = 0)\n",
    "    xzs33 = pow(dt,-1)*np.mean(np.array(xzs33), axis = 0) \n",
    "    \n",
    "    y1 = np.array(y1)\n",
    "    y2 = np.array(y2)\n",
    "    y3 = np.array(y3)\n",
    "    y4 = np.array(y4)\n",
    "    y5 = np.array(y5)\n",
    "    y6 = np.array(y6)\n",
    "    \n",
    "    time = t[0:-1]\n",
    "    \n",
    "    return xz1, xz2, xz3, xzs11, xzs22, xzs33, y1, y2, y3, y4, y5, y6, time"
   ]
  },
  {
   "cell_type": "code",
   "execution_count": 3,
   "id": "e3d88021",
   "metadata": {},
   "outputs": [],
   "source": [
    "import numpy as np\n",
    "\n",
    "T = 1\n",
    "# Response generation: \n",
    "x1, x2, x3, x4, x5, x6 = 0.00001, 0, 0.00001, 0, 0.00001, 0                                # initial displacement for 3dof\n",
    "xdrift1, xdrift2, xdrift3, xdiff11, xdiff22, xdiff33, y1, y2, y3, y4, y5, y6, t_eval = _3_DOF_Duffing_sys(x1, x2, x3, x4, x5, x6, T)\n",
    "\n",
    "libr = []\n",
    "for j in range(len(y1)):\n",
    "    data = np.row_stack((y1[j,0:-1], y2[j,0:-1], y3[j,0:-1], y4[j,0:-1], y5[j,0:-1], y6[j,0:-1]))\n",
    "    Dtemp, nl = library(data, 4, 0)\n",
    "    libr.append(Dtemp)\n",
    "libr = np.array(libr)\n",
    "Dictionary= np.mean(libr, axis = 0)\n",
    "xdts = xdiff22"
   ]
  },
  {
   "cell_type": "code",
   "execution_count": 4,
   "id": "d9c56f07",
   "metadata": {},
   "outputs": [],
   "source": [
    "D=Dictionary"
   ]
  },
  {
   "cell_type": "code",
   "execution_count": null,
   "id": "6c5edf12",
   "metadata": {},
   "outputs": [],
   "source": [
    "Dict = D.reshape(-1,order='F')"
   ]
  },
  {
   "cell_type": "code",
   "execution_count": 8,
   "id": "e18343b1",
   "metadata": {},
   "outputs": [
    {
     "name": "stdout",
     "output_type": "stream",
     "text": [
      "{'Relevant': matlab.double([[1.0],[4.0],[9.0],[14.0],[22.0],[23.0],[24.0],[25.0],[26.0],[28.0],[42.0],[44.0],[64.0],[73.0],[85.0],[87.0],[90.0],[103.0],[107.0],[108.0],[122.0],[134.0],[141.0],[147.0],[152.0],[156.0],[176.0],[210.0],[216.0],[221.0],[229.0]]), 'Value': matlab.double([[1.000456750046443],[58.5971056023459],[64.80428090271339],[0.5340828620346918],[-41.363640433216034],[-1.5023156532154662],[-1.8085290682880406],[8.60932632474435],[3230.830276181296],[2.5700479704947],[-105256.73179669642],[44.590694571239304],[-0.08542543200812691],[-142.3843965632333],[17416946.04993008],[-19318224.53420256],[78062.80162962351],[242362.54831728412],[9528.782480820195],[39.59357656344687],[31069.312534636712],[-92445.44318529715],[0.09033398024468824],[27.025041891780646],[-1.8730574487122402],[35364.02349578411],[2216985.493399953],[0.7449515844969802],[0.10700535173725954],[-14.524860076637292],[50.17731771152181]])}\n"
     ]
    }
   ],
   "source": [
    "#!/usr/bin/env python\n",
    "\"\"\"\n",
    "Sample script that uses the SparseBayes module created using\n",
    "MATLAB Compiler SDK.\n",
    "\n",
    "Refer to the MATLAB Compiler SDK documentation for more information.\n",
    "\"\"\"\n",
    "\n",
    "from __future__ import print_function\n",
    "import SparseBayes\n",
    "import matlab\n",
    "\n",
    "my_SparseBayes = SparseBayes.initialize()\n",
    "\n",
    "DictIn = matlab.double(Dict, size=(D.shape[0], D.shape[1]))\n",
    "targetIn = matlab.double(xdts, size=(D.shape[0], 1))\n",
    "DMOut = my_SparseBayes.SparseBayes(DictIn, targetIn)\n",
    "print(DMOut, sep='\\n')\n",
    "\n",
    "my_SparseBayes.terminate()"
   ]
  },
  {
   "cell_type": "code",
   "execution_count": null,
   "id": "3779b500",
   "metadata": {},
   "outputs": [],
   "source": [
    "c = np.array(DMOut['Value'])\n",
    "d = []\n",
    "for j in c:\n",
    "    d.append(j[0])"
   ]
  },
  {
   "cell_type": "code",
   "execution_count": null,
   "id": "ea632f1e",
   "metadata": {},
   "outputs": [],
   "source": [
    "a = np.array(DMOut['Relevant'])\n",
    "b = []\n",
    "for i in a:\n",
    "    b.append(int((i[0])-1))"
   ]
  },
  {
   "cell_type": "code",
   "execution_count": null,
   "id": "65716e1f",
   "metadata": {},
   "outputs": [],
   "source": [
    "initz0_1 = np.zeros(D.shape[1])\n",
    "for i in b:\n",
    "    initz0_1[i] = 1"
   ]
  },
  {
   "cell_type": "code",
   "execution_count": null,
   "id": "4d2c4c11",
   "metadata": {},
   "outputs": [],
   "source": [
    "tol = 0.0001\n",
    "verbosity = True\n",
    "initz0 = initz0_1\n",
    "DS = Variational_Bayes_Code_DIFF(D, xdts, initz0, tol, verbosity)"
   ]
  },
  {
   "cell_type": "code",
   "execution_count": 16,
   "id": "373cf5e0",
   "metadata": {},
   "outputs": [],
   "source": [
    "mut1 = DS['wmean']\n",
    "sigt = DS['wCOV']\n",
    "DS['zmean'][np.where(DS['zmean']<0.5)] = 0\n",
    "mut1[np.where(DS['zmean']<0.5)] = 0\n",
    "DS['zmean'][np.where(np.diag(sigt)>0.005)] = 0\n",
    "mut1[np.where(np.diag(sigt)>0.05)] = 0\n",
    "DS['wmean'][np.where(DS['zmean']==0)] = 0"
   ]
  },
  {
   "cell_type": "code",
   "execution_count": 18,
   "id": "23f6bea0",
   "metadata": {},
   "outputs": [
    {
     "data": {
      "image/png": "[encoded data removed]",
      "text/plain": [
       "<Figure size 864x144 with 1 Axes>"
      ]
     },
     "metadata": {
      "needs_background": "light"
     },
     "output_type": "display_data"
    }
   ],
   "source": [
    "plt.rcParams[\"font.family\"] = \"Times New Roman\"\n",
    "plt.rcParams['font.size'] = 24\n",
    "\n",
    "figure1=plt.figure(figsize = (12, 2))\n",
    "xr = np.array(range(nl))\n",
    "plt.stem(xr,DS['zmean'], use_line_collection = True, linefmt='blue', basefmt=\"k\")\n",
    "plt.axhline(y= 0.5, color='r', linestyle='-.')\n",
    "plt.title('(b)', fontweight='bold')\n",
    "plt.xlabel('basis functions',fontweight='bold')\n",
    "plt.ylabel('PIP (diffusion)', fontweight='bold');\n",
    "plt.grid(True); plt.ylim(0,1.05)\n",
    "plt.xticks(fontweight='bold'); plt.yticks(fontweight='bold');\n",
    "figure1.savefig('3dof_diff2.png',format='png',dpi=600,bbox_inches='tight')"
   ]
  },
  {
   "cell_type": "markdown",
   "id": "f706f27c",
   "metadata": {},
   "source": [
    "# Drift 3 Equation discovery "
   ]
  },
  {
   "cell_type": "code",
   "execution_count": 2,
   "id": "4e682a29",
   "metadata": {},
   "outputs": [],
   "source": [
    "import numpy as np\n",
    "\n",
    "\"\"\"\n",
    "A 3 DOF Duffing Van der pol system excited by random noise\n",
    "-----------------------------------------------------------\n",
    "\"\"\"\n",
    "def _3_DOF_Duffing_sys(x1, x2, x3, x4, x5, x6, T):\n",
    "    # parameters \n",
    "    m1, m2, m3 = 1, 1, 1\n",
    "    c1, c2, c3 = 2, 2, 2\n",
    "    k1, k2, k3 = 1000, 2000, 3000\n",
    "    alpha1, alpha2, alpha3 = 100000, 100000, 100000\n",
    "    sigma1, sigma2, sigma3 = 1, 1, 1 \n",
    "    \n",
    "    dt = 0.001\n",
    "    t = np.arange(0, T+dt, dt)\n",
    "    Nsamp = 500 # no. of samples in the run\n",
    "    \n",
    "    y1 = []\n",
    "    y2 = []\n",
    "    y3 = []\n",
    "    y4 = []\n",
    "    y5 = []\n",
    "    y6 = []\n",
    "    xz1 = []\n",
    "    xz2 = []\n",
    "    xz3 = []\n",
    "    xzs11 = []\n",
    "    xzs22 = []\n",
    "    xzs33 = []\n",
    "    \n",
    "    # Simulation Starts Here ::\n",
    "    # -------------------------------------------------------\n",
    "    for ensemble in range(Nsamp):\n",
    "        x0 = np.array([x1, x2, x3, x4, x5, x6])\n",
    "        x = np.vstack(x0)                                                          \n",
    "        for n in range(len(t)-1):\n",
    "            \n",
    "            dW = np.sqrt(dt)*np.random.randn(3)\n",
    "            dW2 = dW[0]\n",
    "            dW4 = dW[1]\n",
    "            dW6 = dW[2]\n",
    "            \n",
    "            a1 = x0[1]\n",
    "            a2 = -(c1/m1)*x0[1]-(k1/m1)*x0[0]-(c2/m1)*(x0[1]-x0[3])-k2*(x0[0]-x0[2])-(alpha1/m1)*(x0[0])**3-(alpha2/m1)*(x0[0]-x0[2])**3\n",
    "            a3 = x0[3]\n",
    "            a4 = -(c2/m2)*(x0[3]-x0[1])-(k2/m2)*(x0[2]-x0[0])-(c3/m2)*(x0[3]-x0[5])-k3/m2*(x0[2]-x0[4])-(alpha2/m2)*(x0[2]-x0[0])**3-(alpha3/m2)*(x0[2]-x0[4])**3\n",
    "            a5 = x0[5]\n",
    "            a6 = -(c3/m3)*(x0[5]-x0[3])-(k3/m3)*(x0[4]-x0[2])-(alpha3/m3)*(x0[4]-x0[2])**3\n",
    "            b2 = (sigma1/m1)*x0[0]\n",
    "            b4 = (sigma2/m2)*x0[2]\n",
    "            b6 = (sigma3/m3)*x0[4]\n",
    "\n",
    "            sol1 = x0[0] + a1*dt \n",
    "            sol2 = x0[1] + a2*dt + b2*dW2\n",
    "            sol3 = x0[2] + a3*dt \n",
    "            sol4 = x0[3] + a4*dt + b4*dW4\n",
    "            sol5 = x0[4] + a5*dt \n",
    "            sol6 = x0[5] + a6*dt + b6*dW6\n",
    "            \n",
    "            x0 = np.array([sol1, sol2, sol3, sol4, sol5, sol6])\n",
    "            x = np.column_stack((x, x0))\n",
    "            \n",
    "        y1.append(x[0,:])\n",
    "        y2.append(x[1,:])\n",
    "        y3.append(x[2,:])\n",
    "        y4.append(x[3,:])\n",
    "        y5.append(x[4,:])\n",
    "        y6.append(x[5,:])\n",
    "        \n",
    "        zint1 = x[1,0:-1]\n",
    "        xfinal1 = x[1,1:] \n",
    "        xmz1 = (xfinal1 - zint1) # 'x(t)-z' vector\n",
    "        \n",
    "        zint2 = x[3, 0:-1]\n",
    "        xfinal2 = x[3, 1:] \n",
    "        xmz2 = (xfinal2 - zint2) # 'x2(t)-z2' vector\n",
    "        \n",
    "        zint3 = x[5, 0:-1]\n",
    "        xfinal3 = x[5, 1:] \n",
    "        xmz3 = (xfinal3 - zint3) # 'x2(t)-z2' vector\n",
    "        \n",
    "        xz1.append(xmz1)\n",
    "        xz2.append(xmz2)\n",
    "        xz3.append(xmz3)\n",
    "        \n",
    "        xmzsq11 = np.multiply(xmz1, xmz1)\n",
    "        xzs11.append(xmzsq11)\n",
    "        \n",
    "        xmzsq22 = np.multiply(xmz2, xmz2)\n",
    "        xzs22.append(xmzsq22)\n",
    "        \n",
    "        xmzsq33 = np.multiply(xmz3, xmz3)\n",
    "        xzs33.append(xmzsq33)\n",
    "        \n",
    "        \n",
    "    xz1 = pow(dt,-1)*np.mean(np.array(xz1), axis = 0)\n",
    "    xz2 = pow(dt,-1)*np.mean(np.array(xz2), axis = 0)\n",
    "    xz3 = pow(dt,-1)*np.mean(np.array(xz3), axis = 0)\n",
    "    \n",
    "    xzs11 = pow(dt,-1)*np.mean(np.array(xzs11), axis = 0)\n",
    "    xzs22 = pow(dt,-1)*np.mean(np.array(xzs22), axis = 0)\n",
    "    xzs33 = pow(dt,-1)*np.mean(np.array(xzs33), axis = 0) \n",
    "    \n",
    "    y1 = np.array(y1)\n",
    "    y2 = np.array(y2)\n",
    "    y3 = np.array(y3)\n",
    "    y4 = np.array(y4)\n",
    "    y5 = np.array(y5)\n",
    "    y6 = np.array(y6)\n",
    "    \n",
    "    time = t[0:-1]\n",
    "    \n",
    "    return xz1, xz2, xz3, xzs11, xzs22, xzs33, y1, y2, y3, y4, y5, y6, time"
   ]
  },
  {
   "cell_type": "code",
   "execution_count": 3,
   "id": "e9146e50",
   "metadata": {
    "scrolled": true
   },
   "outputs": [],
   "source": [
    "T = 1\n",
    "# Response generation: \n",
    "x1, x2, x3, x4, x5, x6 = 0.05, 0, 0.01, 0, 0.01, 0 # initial displacement for 3dof\n",
    "xdrift1, xdrift2, xdrift3, xdiff11, xdiff22, xdiff33, y1, y2, y3, y4, y5, y6, t_eval = _3_DOF_Duffing_sys(x1, x2, x3, x4, x5, x6, T)"
   ]
  },
  {
   "cell_type": "code",
   "execution_count": 6,
   "id": "6a803026",
   "metadata": {
    "scrolled": true
   },
   "outputs": [],
   "source": [
    "# Expected Dictionary Creation:\n",
    "libr = []\n",
    "for j in range(len(y1)):\n",
    "    data = np.row_stack((y1[j,0:-1], y2[j,0:-1], y3[j,0:-1], y4[j,0:-1], y5[j,0:-1], y6[j,0:-1]))\n",
    "    Dtemp, nl = library(data, 4, 0)\n",
    "    libr.append(Dtemp)\n",
    "libr = np.array(libr)\n",
    "Dictionary= np.mean(libr, axis = 0)\n",
    "xdts = xdrift3"
   ]
  },
  {
   "cell_type": "code",
   "execution_count": 7,
   "id": "e82e4341",
   "metadata": {},
   "outputs": [],
   "source": [
    "D = Dictionary"
   ]
  },
  {
   "cell_type": "code",
   "execution_count": null,
   "id": "81f9f2d9",
   "metadata": {},
   "outputs": [],
   "source": [
    "Dict = D.reshape(-1, order='F')"
   ]
  },
  {
   "cell_type": "code",
   "execution_count": 10,
   "id": "3cdb8d12",
   "metadata": {
    "scrolled": true
   },
   "outputs": [
    {
     "name": "stdout",
     "output_type": "stream",
     "text": [
      "{'Relevant': matlab.double([[4.0],[5.0],[6.0],[7.0],[65.0],[67.0],[72.0],[81.0],[82.0],[129.0],[207.0]]), 'Value': matlab.double([[3000.077192910936],[1.9996730554048454],[-3000.1950997798126],[-2.0002145690057307],[99916.4035571285],[-299728.5638154277],[299858.16705842054],[-99822.64845474447],[3.8960591276877334],[58.543253755698736],[-51.208840276672404]])}\n"
     ]
    }
   ],
   "source": [
    "from __future__ import print_function\n",
    "\n",
    "#!/usr/bin/env python\n",
    "\"\"\"\n",
    "Sample script that uses the SparseBayes module created using\n",
    "MATLAB Compiler SDK.\n",
    "\n",
    "Refer to the MATLAB Compiler SDK documentation for more information.\n",
    "\"\"\"\n",
    "\n",
    "import SparseBayes\n",
    "import matlab\n",
    "\n",
    "my_SparseBayes = SparseBayes.initialize()\n",
    "\n",
    "DictIn = matlab.double(Dict, size=(D.shape[0], D.shape[1]))\n",
    "targetIn = matlab.double(xdts, size=(D.shape[0], 1))\n",
    "DMOut = my_SparseBayes.SparseBayes(DictIn, targetIn)\n",
    "print(DMOut, sep='\\n')\n",
    "\n",
    "my_SparseBayes.terminate()"
   ]
  },
  {
   "cell_type": "code",
   "execution_count": null,
   "id": "125ce886",
   "metadata": {},
   "outputs": [],
   "source": [
    "c = np.array(DMOut['Value'])\n",
    "d = []\n",
    "for j in c:\n",
    "    d.append(j[0])"
   ]
  },
  {
   "cell_type": "code",
   "execution_count": null,
   "id": "f7926677",
   "metadata": {},
   "outputs": [],
   "source": [
    "a = np.array(DMOut['Relevant'])\n",
    "b = []\n",
    "for i in a:\n",
    "    b.append(int((i[0])-1))"
   ]
  },
  {
   "cell_type": "code",
   "execution_count": null,
   "id": "0428639c",
   "metadata": {},
   "outputs": [],
   "source": [
    "initz0 = np.zeros(D.shape[1])\n",
    "for i in b:\n",
    "    initz0[i] = 1"
   ]
  },
  {
   "cell_type": "code",
   "execution_count": null,
   "id": "25deeede",
   "metadata": {},
   "outputs": [],
   "source": [
    "D1 = D[:,1:]"
   ]
  },
  {
   "cell_type": "code",
   "execution_count": 20,
   "id": "efac0e89",
   "metadata": {},
   "outputs": [],
   "source": [
    "Dict_std = np.std(D1, axis=0)"
   ]
  },
  {
   "cell_type": "code",
   "execution_count": null,
   "id": "23727c88",
   "metadata": {},
   "outputs": [],
   "source": [
    "Dict_std1 = Dict_std.reshape(1,-1)"
   ]
  },
  {
   "cell_type": "code",
   "execution_count": 23,
   "id": "2d4caf9f",
   "metadata": {},
   "outputs": [],
   "source": [
    "D2 = D1*np.diag(1/Dict_std1)"
   ]
  },
  {
   "cell_type": "code",
   "execution_count": null,
   "id": "04f677b4",
   "metadata": {},
   "outputs": [],
   "source": [
    "initz=initz0[1:]\n",
    "tol = 0.0001\n",
    "verbosity = True\n",
    "DS = Variational_Bayes_Code(D2, xdts, initz, tol, verbosity)"
   ]
  },
  {
   "cell_type": "code",
   "execution_count": 27,
   "id": "09f6aa7c",
   "metadata": {
    "scrolled": true
   },
   "outputs": [
    {
     "name": "stdout",
     "output_type": "stream",
     "text": [
      "2999.5177971342714\n",
      "2.003877327157417\n",
      "-2999.722893353859\n",
      "-1.9963586504140367\n",
      "101479.60873415085\n",
      "-301757.782896836\n",
      "301463.69638459536\n",
      "-101138.90462573104\n"
     ]
    }
   ],
   "source": [
    "for i in DS[\"modelIdx\"]:\n",
    "    print((((DS[\"wmean\"][1:]) / (Dict_std1))).reshape(-1)[i])"
   ]
  },
  {
   "cell_type": "code",
   "execution_count": 37,
   "id": "4512c0d3",
   "metadata": {
    "scrolled": true
   },
   "outputs": [
    {
     "data": {
      "image/png": "[encoded data removed]",
      "text/plain": [
       "<Figure size 864x144 with 1 Axes>"
      ]
     },
     "metadata": {
      "needs_background": "light"
     },
     "output_type": "display_data"
    }
   ],
   "source": [
    "plt.rcParams[\"font.family\"] = \"Times New Roman\"\n",
    "plt.rcParams['font.size'] = 24\n",
    "\n",
    "figure1=plt.figure(figsize = (12, 2))\n",
    "xr = np.array(range(nl))\n",
    "plt.stem(xr,DS['zmean'], use_line_collection = True, linefmt='blue', basefmt=\"k\")\n",
    "plt.axhline(y= 0.5, color='r', linestyle='-.')\n",
    "plt.xlabel('basis functions',fontweight='bold')\n",
    "plt.ylabel('PIP (drift)', fontweight='bold');\n",
    "plt.title('(c)', fontweight='bold')\n",
    "plt.grid(True); plt.ylim(0,1.05)\n",
    "plt.xticks(fontweight='bold'); plt.yticks(fontweight='bold');\n",
    "figure1.savefig('3dof_drift3.png',format='png',dpi=600,bbox_inches='tight')"
   ]
  },
  {
   "cell_type": "markdown",
   "id": "2944c387",
   "metadata": {},
   "source": [
    "# Diffusion 3 Equation discovery"
   ]
  },
  {
   "cell_type": "code",
   "execution_count": 1,
   "id": "9be8b242",
   "metadata": {},
   "outputs": [],
   "source": [
    "import numpy as np\n",
    "np.random.seed(1)\n",
    "\n",
    "\"\"\"\n",
    "A 3 DOF Duffing Van der pol system excited by random noise\n",
    "-----------------------------------------------------------\n",
    "\"\"\"\n",
    "def _3_DOF_Duffing_sys(x1, x2, x3, x4, x5, x6, T):\n",
    "    # parameters \n",
    "    m1, m2, m3 = 1, 1, 1\n",
    "    c1, c2, c3 = 2, 2, 2\n",
    "    k1, k2, k3 = 1000, 2000, 3000\n",
    "    alpha1, alpha2, alpha3 = 100000, 100000, 100000\n",
    "    sigma1, sigma2, sigma3 = 1, 1, 1\n",
    "    \n",
    "    dt = 0.001\n",
    "    t = np.arange(0, T+dt, dt)\n",
    "    Nsamp = 500 # no. of samples in the run\n",
    "    \n",
    "    y1 = []\n",
    "    y2 = []\n",
    "    y3 = []\n",
    "    y4 = []\n",
    "    y5 = []\n",
    "    y6 = []\n",
    "    xz1 = []\n",
    "    xz2 = []\n",
    "    xz3 = []\n",
    "    xzs11 = []\n",
    "    xzs22 = []\n",
    "    xzs33 = []\n",
    "    np.random.seed(4)\n",
    "    \n",
    "    # Simulation Starts Here ::\n",
    "    # -------------------------------------------------------\n",
    "    for ensemble in range(Nsamp):\n",
    "        x0 = np.array([x1, x2, x3, x4, x5, x6])\n",
    "        x = np.vstack(x0)                                                          # Zero initial condition.\n",
    "        for n in range(len(t)-1):\n",
    "            \n",
    "            dW = np.sqrt(dt)*np.random.randn(3)\n",
    "            dW2 = dW[0]\n",
    "            dW4 = dW[1]\n",
    "            dW6 = dW[2]\n",
    "            \n",
    "            a1 = x0[1]\n",
    "            a2 = -(c1/m1)*x0[1]-(k1/m1)*x0[0]-(c2/m1)*(x0[1]-x0[3])-k2*(x0[0]-x0[2])-(alpha1/m1)*(x0[0])**3-(alpha2/m1)*(x0[0]-x0[2])**3\n",
    "            a3 = x0[3]\n",
    "            a4 = -(c2/m2)*(x0[3]-x0[1])-(k2/m2)*(x0[2]-x0[0])-(c3/m2)*(x0[3]-x0[5])-k3/m2*(x0[2]-x0[4])-(alpha2/m2)*(x0[2]-x0[0])**3-(alpha3/m2)*(x0[2]-x0[4])**3\n",
    "            a5 = x0[5]\n",
    "            a6 = -(c3/m3)*(x0[5]-x0[3])-(k3/m3)*(x0[4]-x0[2])-(alpha3/m3)*(x0[4]-x0[2])**3\n",
    "            b2 = (sigma1/m1)\n",
    "            b4 = (sigma2/m2)\n",
    "            b6 = (sigma3/m3)\n",
    "\n",
    "            sol1 = x0[0] + a1*dt \n",
    "            sol2 = x0[1] + a2*dt + b2*dW2\n",
    "            sol3 = x0[2] + a3*dt \n",
    "            sol4 = x0[3] + a4*dt + b4*dW4\n",
    "            sol5 = x0[4] + a5*dt \n",
    "            sol6 = x0[5] + a6*dt + b6*dW6\n",
    "            \n",
    "            x0 = np.array([sol1, sol2, sol3, sol4, sol5, sol6])\n",
    "            x = np.column_stack((x, x0))\n",
    "            \n",
    "        y1.append(x[0,:])\n",
    "        y2.append(x[1,:])\n",
    "        y3.append(x[2,:])\n",
    "        y4.append(x[3,:])\n",
    "        y5.append(x[4,:])\n",
    "        y6.append(x[5,:])\n",
    "        \n",
    "        zint1 = x[1,0:-1]\n",
    "        xfinal1 = x[1,1:] \n",
    "        xmz1 = (xfinal1 - zint1) # 'x(t)-z' vector\n",
    "        \n",
    "        zint2 = x[3, 0:-1]\n",
    "        xfinal2 = x[3, 1:] \n",
    "        xmz2 = (xfinal2 - zint2) # 'x2(t)-z2' vector\n",
    "        \n",
    "        zint3 = x[5, 0:-1]\n",
    "        xfinal3 = x[5, 1:] \n",
    "        xmz3 = (xfinal3 - zint3) # 'x2(t)-z2' vector\n",
    "        \n",
    "        xz1.append(xmz1)\n",
    "        xz2.append(xmz2)\n",
    "        xz3.append(xmz3)\n",
    "        \n",
    "        xmzsq11 = np.multiply(xmz1, xmz1)\n",
    "        xzs11.append(xmzsq11)\n",
    "        \n",
    "        xmzsq22 = np.multiply(xmz2, xmz2)\n",
    "        xzs22.append(xmzsq22)\n",
    "        \n",
    "        xmzsq33 = np.multiply(xmz3, xmz3)\n",
    "        xzs33.append(xmzsq33)\n",
    "        \n",
    "    xz1 = pow(dt,-1)*np.mean(np.array(xz1), axis = 0)\n",
    "    xz2 = pow(dt,-1)*np.mean(np.array(xz2), axis = 0)\n",
    "    xz3 = pow(dt,-1)*np.mean(np.array(xz3), axis = 0)\n",
    "    \n",
    "    xzs11 = pow(dt,-1)*np.mean(np.array(xzs11), axis = 0)\n",
    "    xzs22 = pow(dt,-1)*np.mean(np.array(xzs22), axis = 0)\n",
    "    xzs33 = pow(dt,-1)*np.mean(np.array(xzs33), axis = 0) \n",
    "    \n",
    "    y1 = np.array(y1)\n",
    "    y2 = np.array(y2)\n",
    "    y3 = np.array(y3)\n",
    "    y4 = np.array(y4)\n",
    "    y5 = np.array(y5)\n",
    "    y6 = np.array(y6)\n",
    "    \n",
    "    time = t[0:-1]\n",
    "    \n",
    "    return xz1, xz2, xz3, xzs11, xzs22, xzs33, y1, y2, y3, y4, y5, y6, time"
   ]
  },
  {
   "cell_type": "code",
   "execution_count": 3,
   "id": "b45602ee",
   "metadata": {},
   "outputs": [],
   "source": [
    "import numpy as np\n",
    "\n",
    "T = 1\n",
    "\n",
    "x1, x2, x3, x4, x5, x6 = 0.0001, 0, 0.0001, 0, 0.0001, 0\n",
    "xdrift1, xdrift2, xdrift3, xdiff11, xdiff22, xdiff33, y1, y2, y3, y4, y5, y6, t_eval = _3_DOF_Duffing_sys(x1, x2, x3, x4, x5, x6, T)\n",
    "\n",
    "# Expected Dictionary Creation:\n",
    "libr = []\n",
    "for j in range(len(y1)):\n",
    "    data = np.row_stack((y1[j,0:-1], y2[j,0:-1], y3[j,0:-1], y4[j,0:-1], y5[j,0:-1], y6[j,0:-1]))\n",
    "    Dtemp, nl = library(data, 4, 0)\n",
    "    libr.append(Dtemp)\n",
    "libr = np.array(libr)\n",
    "Dictionary= np.mean(libr, axis = 0)\n",
    "xdts = xdiff33"
   ]
  },
  {
   "cell_type": "code",
   "execution_count": 4,
   "id": "11381b2a",
   "metadata": {},
   "outputs": [],
   "source": [
    "D = Dictionary"
   ]
  },
  {
   "cell_type": "code",
   "execution_count": null,
   "id": "1ec22810",
   "metadata": {},
   "outputs": [],
   "source": [
    "Dict = D.reshape(-1,order='F')"
   ]
  },
  {
   "cell_type": "code",
   "execution_count": 8,
   "id": "f4c06fd0",
   "metadata": {},
   "outputs": [
    {
     "name": "stdout",
     "output_type": "stream",
     "text": [
      "{'Relevant': matlab.double([[1.0],[14.0],[25.0],[26.0],[43.0],[56.0],[85.0],[87.0],[105.0],[115.0],[127.0],[133.0],[139.0],[146.0],[147.0],[148.0],[156.0],[170.0],[190.0],[195.0],[200.0],[205.0],[206.0],[209.0],[212.0],[213.0],[214.0],[254.0]]), 'Value': matlab.double([[0.9990486821130179],[1.3797635294622448],[2.6995317101026703],[947.5250633913922],[-249.9277506429656],[-56.71578730003113],[7602305.139170492],[-7157555.988351076],[1430.395368029686],[-3.029186735773401],[-5020.815272191521],[-43.52963348575779],[382.4539486754838],[5943.280654471978],[11.387522455993397],[-4825.593975256931],[29479.40859140462],[-64.90201137069128],[2441.1008157730976],[-33.01633419808613],[20.776689536079253],[0.3895775234082129],[419734.2601957546],[17.852074381664107],[0.14475143755503025],[-0.006486846894910294],[0.020657145069648008],[0.622122665268846]])}\n"
     ]
    }
   ],
   "source": [
    "#!/usr/bin/env python\n",
    "\"\"\"\n",
    "Sample script that uses the SparseBayes module created using\n",
    "MATLAB Compiler SDK.\n",
    "\n",
    "Refer to the MATLAB Compiler SDK documentation for more information.\n",
    "\"\"\"\n",
    "\n",
    "from __future__ import print_function\n",
    "import SparseBayes\n",
    "import matlab\n",
    "\n",
    "my_SparseBayes = SparseBayes.initialize()\n",
    "\n",
    "DictIn = matlab.double(Dict, size=(D.shape[0], D.shape[1]))\n",
    "targetIn = matlab.double(xdts, size=(D.shape[0], 1))\n",
    "DMOut = my_SparseBayes.SparseBayes(DictIn, targetIn)\n",
    "print(DMOut, sep='\\n')\n",
    "\n",
    "my_SparseBayes.terminate()"
   ]
  },
  {
   "cell_type": "code",
   "execution_count": null,
   "id": "36607ed2",
   "metadata": {},
   "outputs": [],
   "source": [
    "c = np.array(DMOut['Value'])\n",
    "d = []\n",
    "for j in c:\n",
    "    d.append(j[0])"
   ]
  },
  {
   "cell_type": "code",
   "execution_count": null,
   "id": "f83b0243",
   "metadata": {},
   "outputs": [],
   "source": [
    "a = np.array(DMOut['Relevant'])\n",
    "b = []\n",
    "for i in a:\n",
    "    b.append(int((i[0])-1))"
   ]
  },
  {
   "cell_type": "code",
   "execution_count": null,
   "id": "9a4e2a5a",
   "metadata": {},
   "outputs": [],
   "source": [
    "initz0_1 = np.zeros(D.shape[1])\n",
    "for i in b:\n",
    "    initz0_1[i] = 1\n",
    "    \n",
    "initz0_1"
   ]
  },
  {
   "cell_type": "code",
   "execution_count": null,
   "id": "759c36d7",
   "metadata": {},
   "outputs": [],
   "source": [
    "tol = 0.0001\n",
    "verbosity = True\n",
    "initz0 = initz0_1\n",
    "DS = Variational_Bayes_Code_DIFF(D, xdts, initz0, tol, verbosity)"
   ]
  },
  {
   "cell_type": "code",
   "execution_count": 16,
   "id": "b7fc2182",
   "metadata": {},
   "outputs": [],
   "source": [
    "mut1 = DS['wmean']\n",
    "sigt = DS['wCOV']\n",
    "DS['zmean'][np.where(DS['zmean']<0.5)] = 0\n",
    "mut1[np.where(DS['zmean']<0.5)] = 0\n",
    "DS['zmean'][np.where(np.diag(sigt)>0.01)] = 0\n",
    "mut1[np.where(np.diag(sigt)>0.05)] = 0\n",
    "DS['wmean'][np.where(DS['zmean']==0)] = 0"
   ]
  },
  {
   "cell_type": "code",
   "execution_count": 18,
   "id": "2202e33c",
   "metadata": {},
   "outputs": [
    {
     "data": {
      "image/png": "[encoded data removed]",
      "text/plain": [
       "<Figure size 864x144 with 1 Axes>"
      ]
     },
     "metadata": {
      "needs_background": "light"
     },
     "output_type": "display_data"
    }
   ],
   "source": [
    "plt.rcParams[\"font.family\"] = \"Times New Roman\"\n",
    "plt.rcParams['font.size'] = 24\n",
    "\n",
    "figure1=plt.figure(figsize = (12, 2))\n",
    "xr = np.array(range(nl))\n",
    "plt.stem(xr,DS['zmean'], use_line_collection = True, linefmt='blue', basefmt=\"k\")\n",
    "plt.axhline(y= 0.5, color='r', linestyle='-.')\n",
    "plt.title('(c)', fontweight='bold')\n",
    "plt.xlabel('basis functions',fontweight='bold')\n",
    "plt.ylabel('PIP (diffusion)', fontweight='bold');\n",
    "plt.grid(True); plt.ylim(0,1.05)\n",
    "plt.xticks(fontweight='bold'); plt.yticks(fontweight='bold');\n",
    "figure1.savefig('3dof_diff3.png',format='png',dpi=600,bbox_inches='tight')"
   ]
  },
  {
   "cell_type": "markdown",
   "id": "b7ad8cfe",
   "metadata": {},
   "source": [
    "# True value prediction (1 to 5000 samples)"
   ]
  },
  {
   "cell_type": "code",
   "execution_count": 1,
   "id": "a99680be",
   "metadata": {},
   "outputs": [],
   "source": [
    "import numpy as np\n",
    "import pickle\n",
    "\n",
    "Nsamp = 10000\n",
    "dt = 0.0005\n",
    "T = 30\n",
    "t = np.arange(0, T+dt, dt)\n",
    "dW1 = np.sqrt(dt)*np.random.randn(Nsamp, 60001)\n",
    "dW2 = np.sqrt(dt)*np.random.randn(Nsamp, 60001)\n",
    "dW3 = np.sqrt(dt)*np.random.randn(Nsamp, 60001)"
   ]
  },
  {
   "cell_type": "code",
   "execution_count": null,
   "id": "a42dc1d5",
   "metadata": {},
   "outputs": [],
   "source": [
    "dW = [dW1, dW2, dW3]"
   ]
  },
  {
   "cell_type": "code",
   "execution_count": 3,
   "id": "58369cde",
   "metadata": {},
   "outputs": [],
   "source": [
    "pickle.dump(dW, open('Forcing_term_3DOF_new.p', 'wb'))"
   ]
  },
  {
   "cell_type": "code",
   "execution_count": 1,
   "id": "6805db0a",
   "metadata": {},
   "outputs": [],
   "source": [
    "import pickle \n",
    "import numpy as np\n",
    "\n",
    "file_data = \"Forcing_term_3DOF_new.p\"\n",
    "fileobj_data = open(file_data, 'rb')\n",
    "Forcing_term = pickle.load(fileobj_data)\n",
    "\n",
    "dW = np.array(Forcing_term)"
   ]
  },
  {
   "cell_type": "code",
   "execution_count": 2,
   "id": "53a3f41d",
   "metadata": {},
   "outputs": [],
   "source": [
    "dW1 = dW[0]\n",
    "dW2 = dW[1]\n",
    "dW3 = dW[2]"
   ]
  },
  {
   "cell_type": "code",
   "execution_count": 12,
   "id": "019b036a",
   "metadata": {},
   "outputs": [],
   "source": [
    "import numpy as np\n",
    "\n",
    "\"\"\"\n",
    "A 3 DOF Duffing Van der pol system excited by random noise\n",
    "-----------------------------------------------------------\n",
    "\"\"\"\n",
    "def _3_DOF_Duffing_sys(x1, x2, x3, x4, x5, x6, T):\n",
    "    # parameters of Duffing oscillator in Equation\n",
    "    m1, m2, m3 = 1, 1, 1\n",
    "    c1, c2, c3 = 2, 2, 2\n",
    "    k1, k2, k3 = 1000, 2000, 3000\n",
    "    alpha1, alpha2, alpha3 = 100000, 100000, 100000\n",
    "    sigma1, sigma2, sigma3 = 1, 1, 1 \n",
    "    \n",
    "    dt = 0.0005\n",
    "    t = np.arange(0, T+dt, dt)\n",
    "    Nsamp = 5000 # no. of samples in the run\n",
    "  \n",
    "    \n",
    "    y1 = []\n",
    "    y2 = []\n",
    "    y3 = []\n",
    "    y4 = []\n",
    "    y5 = []\n",
    "    y6 = []\n",
    "    \n",
    "    # Simulation Starts Here ::\n",
    "    # -------------------------------------------------------\n",
    "    for ensemble in range(Nsamp):\n",
    "        x0 = np.array([x1, x2, x3, x4, x5, x6])\n",
    "        x = np.vstack(x0)                                                          # Zero initial condition.\n",
    "        if ensemble%10==0:\n",
    "            print(ensemble)\n",
    "        for n in range(len(t)-1):\n",
    "            \n",
    "            a1 = x0[1]\n",
    "            a2 = -(c1/m1)*x0[1]-(k1/m1)*x0[0]-(c2/m1)*(x0[1]-x0[3])-k2*(x0[0]-x0[2])-(alpha1/m1)*(x0[0])**3-(alpha2/m1)*(x0[0]-x0[2])**3\n",
    "            a3 = x0[3]\n",
    "            a4 = -(c2/m2)*(x0[3]-x0[1])-(k2/m2)*(x0[2]-x0[0])-(c3/m2)*(x0[3]-x0[5])-k3/m2*(x0[2]-x0[4])-(alpha2/m2)*(x0[2]-x0[0])**3-(alpha3/m2)*(x0[2]-x0[4])**3\n",
    "            a5 = x0[5]\n",
    "            a6 = -(c3/m3)*(x0[5]-x0[3])-(k3/m3)*(x0[4]-x0[2])-(alpha3/m3)*(x0[4]-x0[2])**3\n",
    "            b2 = (sigma1/m1)\n",
    "            b4 = (sigma2/m2)\n",
    "            b6 = (sigma3/m3)\n",
    "\n",
    "            sol1 = x0[0] + a1*dt \n",
    "            sol2 = x0[1] + a2*dt + b2*dW1[ensemble][n]\n",
    "            sol3 = x0[2] + a3*dt \n",
    "            sol4 = x0[3] + a4*dt + b4*dW2[ensemble][n]\n",
    "            sol5 = x0[4] + a5*dt \n",
    "            sol6 = x0[5] + a6*dt + b6*dW3[ensemble][n]\n",
    "            \n",
    "            x0 = np.array([sol1, sol2, sol3, sol4, sol5, sol6])\n",
    "            x = np.column_stack((x, x0))\n",
    "            \n",
    "        y1.append(x[0,:])\n",
    "        y2.append(x[1,:])\n",
    "        y3.append(x[2,:])\n",
    "        y4.append(x[3,:])\n",
    "        y5.append(x[4,:])\n",
    "        y6.append(x[5,:])\n",
    "    \n",
    "    y1 = np.array(y1)\n",
    "    y2 = np.array(y2)\n",
    "    y3 = np.array(y3)\n",
    "    y4 = np.array(y4)\n",
    "    y5 = np.array(y5)\n",
    "    y6 = np.array(y6)\n",
    "    \n",
    "    \n",
    "    return y1, y2, y3, y4, y5, y6"
   ]
  },
  {
   "cell_type": "code",
   "execution_count": null,
   "id": "0c747a99",
   "metadata": {
    "scrolled": true
   },
   "outputs": [],
   "source": [
    "T = 30\n",
    "# Response generation: \n",
    "x1, x2, x3, x4, x5, x6 = 0, 0, 0, 0, 0, 0 # initial displacement for 3dof\n",
    "y1, y2, y3, y4, y5, y6 = _3_DOF_Duffing_sys(x1, x2, x3, x4, x5, x6, T)"
   ]
  },
  {
   "cell_type": "code",
   "execution_count": 14,
   "id": "7b982ca3",
   "metadata": {},
   "outputs": [],
   "source": [
    "output = [y1, y2, y3, y4, y5, y6]"
   ]
  },
  {
   "cell_type": "code",
   "execution_count": 15,
   "id": "2ec79c46",
   "metadata": {},
   "outputs": [],
   "source": [
    "pickle.dump(output, open('Initial_relia_data_3DOF_upto_5000.p', 'wb'))"
   ]
  },
  {
   "cell_type": "code",
   "execution_count": 16,
   "id": "ad7905ac",
   "metadata": {},
   "outputs": [
    {
     "data": {
      "text/plain": [
       "[<matplotlib.lines.Line2D at 0x7f66fcca4e50>]"
      ]
     },
     "execution_count": 16,
     "metadata": {},
     "output_type": "execute_result"
    },
    {
     "data": {
      "image/png": "[encoded data removed]",
      "text/plain": [
       "<Figure size 432x288 with 1 Axes>"
      ]
     },
     "metadata": {
      "needs_background": "light"
     },
     "output_type": "display_data"
    }
   ],
   "source": [
    "plt.plot(np.mean(y1, axis=0))"
   ]
  },
  {
   "cell_type": "markdown",
   "id": "4d50b9a7",
   "metadata": {},
   "source": [
    "# True value prediction (5001 to 10000 samples)"
   ]
  },
  {
   "cell_type": "code",
   "execution_count": 1,
   "id": "ec1b37ea",
   "metadata": {},
   "outputs": [],
   "source": [
    "import pickle \n",
    "import numpy as np\n",
    "\n",
    "file_data = \"Forcing_term_3DOF_new.p\"\n",
    "fileobj_data = open(file_data, 'rb')\n",
    "Forcing_term = pickle.load(fileobj_data)\n",
    "\n",
    "dW = np.array(Forcing_term)"
   ]
  },
  {
   "cell_type": "code",
   "execution_count": 2,
   "id": "b11a0438",
   "metadata": {},
   "outputs": [],
   "source": [
    "dW1 = dW[0]\n",
    "dW2 = dW[1]\n",
    "dW3 = dW[2]"
   ]
  },
  {
   "cell_type": "code",
   "execution_count": 4,
   "id": "bf135d99",
   "metadata": {},
   "outputs": [],
   "source": [
    "import numpy as np\n",
    "\n",
    "\"\"\"\n",
    "A 3 DOF Duffing Van der pol system excited by random noise\n",
    "-----------------------------------------------------------\n",
    "\"\"\"\n",
    "def _3_DOF_Duffing_sys(x1, x2, x3, x4, x5, x6, T):\n",
    "    # parameters of Duffing oscillator in Equation\n",
    "    m1, m2, m3 = 1, 1, 1\n",
    "    c1, c2, c3 = 2, 2, 2\n",
    "    k1, k2, k3 = 1000, 2000, 3000\n",
    "    alpha1, alpha2, alpha3 = 100000, 100000, 100000\n",
    "    sigma1, sigma2, sigma3 = 1, 1, 1 \n",
    "    \n",
    "    dt = 0.0005\n",
    "    t = np.arange(0, T+dt, dt)\n",
    "    Nsamp = 5000 # no. of samples in the run\n",
    "  \n",
    "    \n",
    "    y1 = []\n",
    "    y2 = []\n",
    "    y3 = []\n",
    "    y4 = []\n",
    "    y5 = []\n",
    "    y6 = []\n",
    "    \n",
    "    # Simulation Starts Here ::\n",
    "    # -------------------------------------------------------\n",
    "    for ensemble in range(Nsamp):\n",
    "        x0 = np.array([x1, x2, x3, x4, x5, x6])\n",
    "        x = np.vstack(x0)                                                          # Zero initial condition.\n",
    "        if ensemble%10==0:\n",
    "            print(ensemble)\n",
    "        for n in range(len(t)-1):\n",
    "            \n",
    "            a1 = x0[1]\n",
    "            a2 = -(c1/m1)*x0[1]-(k1/m1)*x0[0]-(c2/m1)*(x0[1]-x0[3])-k2*(x0[0]-x0[2])-(alpha1/m1)*(x0[0])**3-(alpha2/m1)*(x0[0]-x0[2])**3\n",
    "            a3 = x0[3]\n",
    "            a4 = -(c2/m2)*(x0[3]-x0[1])-(k2/m2)*(x0[2]-x0[0])-(c3/m2)*(x0[3]-x0[5])-k3/m2*(x0[2]-x0[4])-(alpha2/m2)*(x0[2]-x0[0])**3-(alpha3/m2)*(x0[2]-x0[4])**3\n",
    "            a5 = x0[5]\n",
    "            a6 = -(c3/m3)*(x0[5]-x0[3])-(k3/m3)*(x0[4]-x0[2])-(alpha3/m3)*(x0[4]-x0[2])**3\n",
    "            b2 = (sigma1/m1)\n",
    "            b4 = (sigma2/m2)\n",
    "            b6 = (sigma3/m3)\n",
    "\n",
    "            sol1 = x0[0] + a1*dt \n",
    "            sol2 = x0[1] + a2*dt + b2*dW1[5000+ensemble][n]\n",
    "            sol3 = x0[2] + a3*dt \n",
    "            sol4 = x0[3] + a4*dt + b4*dW2[5000+ensemble][n]\n",
    "            sol5 = x0[4] + a5*dt \n",
    "            sol6 = x0[5] + a6*dt + b6*dW3[5000+ensemble][n]\n",
    "            \n",
    "            x0 = np.array([sol1, sol2, sol3, sol4, sol5, sol6])\n",
    "            x = np.column_stack((x, x0))\n",
    "            \n",
    "        y1.append(x[0,:])\n",
    "        y2.append(x[1,:])\n",
    "        y3.append(x[2,:])\n",
    "        y4.append(x[3,:])\n",
    "        y5.append(x[4,:])\n",
    "        y6.append(x[5,:])\n",
    "    \n",
    "    y1 = np.array(y1)\n",
    "    y2 = np.array(y2)\n",
    "    y3 = np.array(y3)\n",
    "    y4 = np.array(y4)\n",
    "    y5 = np.array(y5)\n",
    "    y6 = np.array(y6)\n",
    "    \n",
    "    \n",
    "    return y1, y2, y3, y4, y5, y6"
   ]
  },
  {
   "cell_type": "code",
   "execution_count": null,
   "id": "c56f3e20",
   "metadata": {
    "scrolled": true
   },
   "outputs": [],
   "source": [
    "T = 30\n",
    "# Response generation: \n",
    "x1, x2, x3, x4, x5, x6 = 0, 0, 0, 0, 0, 0 # initial displacement for 3dof\n",
    "y1, y2, y3, y4, y5, y6 = _3_DOF_Duffing_sys(x1, x2, x3, x4, x5, x6, T)"
   ]
  },
  {
   "cell_type": "code",
   "execution_count": 6,
   "id": "caf4cbf4",
   "metadata": {},
   "outputs": [],
   "source": [
    "output = [y1, y2, y3, y4, y5, y6]"
   ]
  },
  {
   "cell_type": "code",
   "execution_count": 7,
   "id": "84cb2320",
   "metadata": {},
   "outputs": [],
   "source": [
    "pickle.dump(output, open('Initial_relia_data_3DOF_upto_10000.p', 'wb'))"
   ]
  },
  {
   "cell_type": "markdown",
   "id": "7f26795d",
   "metadata": {},
   "source": [
    "# Estimated value prediction (1 to 5000 samples)"
   ]
  },
  {
   "cell_type": "code",
   "execution_count": 1,
   "id": "bf8076d0",
   "metadata": {},
   "outputs": [],
   "source": [
    "import pickle \n",
    "import numpy as np\n",
    "\n",
    "file_data = \"Forcing_term_3DOF_new.p\"\n",
    "fileobj_data = open(file_data, 'rb')\n",
    "Forcing_term = pickle.load(fileobj_data)\n",
    "\n",
    "dW = np.array(Forcing_term)"
   ]
  },
  {
   "cell_type": "code",
   "execution_count": 2,
   "id": "0c8b39f2",
   "metadata": {},
   "outputs": [],
   "source": [
    "dW1 = dW[0]\n",
    "dW2 = dW[1]\n",
    "dW3 = dW[2]"
   ]
  },
  {
   "cell_type": "code",
   "execution_count": 4,
   "id": "66508cbd",
   "metadata": {},
   "outputs": [],
   "source": [
    "import numpy as np\n",
    "\n",
    "\"\"\"\n",
    "A 3 DOF Duffing Van der pol system excited by random noise\n",
    "-----------------------------------------------------------\n",
    "\"\"\"\n",
    "def _3_DOF_Duffing_sys(x1, x2, x3, x4, x5, x6, T):\n",
    "    # parameters of Duffing oscillator in Equation\n",
    "    m1, m2, m3 = 1, 1, 1\n",
    "    c1, c2, c3 = 2.0003, 2.0004, 2.00015\n",
    "    k1, k2, k3 = 999.7, 2000.42, 2999.95\n",
    "    alpha1, alpha2, alpha3 = 100035, 100180, 100134.11\n",
    "    sigma1, sigma2, sigma3 = 1.15503231, 0.99310203, 0.97781871 \n",
    "    \n",
    "    dt = 0.0005\n",
    "    t = np.arange(0, T+dt, dt)\n",
    "    Nsamp = 5000 # no. of samples in the run\n",
    "  \n",
    "    \n",
    "    y1 = []\n",
    "    y2 = []\n",
    "    y3 = []\n",
    "    y4 = []\n",
    "    y5 = []\n",
    "    y6 = []\n",
    "    \n",
    "    # Simulation Starts Here ::\n",
    "    # -------------------------------------------------------\n",
    "    for ensemble in range(Nsamp):\n",
    "        x0 = np.array([x1, x2, x3, x4, x5, x6])\n",
    "        x = np.vstack(x0)                                                          # Zero initial condition.\n",
    "        if ensemble%10==0:\n",
    "            print(ensemble)\n",
    "        for n in range(len(t)-1):\n",
    "            \n",
    "            a1 = x0[1]\n",
    "            a2 = -(c1/m1)*x0[1]-(k1/m1)*x0[0]-(c2/m1)*(x0[1]-x0[3])-k2*(x0[0]-x0[2])-(alpha1/m1)*(x0[0])**3-(alpha2/m1)*(x0[0]-x0[2])**3\n",
    "            a3 = x0[3]\n",
    "            a4 = -(c2/m2)*(x0[3]-x0[1])-(k2/m2)*(x0[2]-x0[0])-(c3/m2)*(x0[3]-x0[5])-k3/m2*(x0[2]-x0[4])-(alpha2/m2)*(x0[2]-x0[0])**3-(alpha3/m2)*(x0[2]-x0[4])**3\n",
    "            a5 = x0[5]\n",
    "            a6 = -(c3/m3)*(x0[5]-x0[3])-(k3/m3)*(x0[4]-x0[2])-(alpha3/m3)*(x0[4]-x0[2])**3\n",
    "            b2 = (sigma1/m1)\n",
    "            b4 = (sigma2/m2)\n",
    "            b6 = (sigma3/m3)\n",
    "\n",
    "            sol1 = x0[0] + a1*dt \n",
    "            sol2 = x0[1] + a2*dt + b2*dW1[ensemble][n]\n",
    "            sol3 = x0[2] + a3*dt \n",
    "            sol4 = x0[3] + a4*dt + b4*dW2[ensemble][n]\n",
    "            sol5 = x0[4] + a5*dt \n",
    "            sol6 = x0[5] + a6*dt + b6*dW3[ensemble][n]\n",
    "            \n",
    "            x0 = np.array([sol1, sol2, sol3, sol4, sol5, sol6])\n",
    "            x = np.column_stack((x, x0))\n",
    "            \n",
    "        y1.append(x[0,:])\n",
    "        y2.append(x[1,:])\n",
    "        y3.append(x[2,:])\n",
    "        y4.append(x[3,:])\n",
    "        y5.append(x[4,:])\n",
    "        y6.append(x[5,:])\n",
    "    \n",
    "    y1 = np.array(y1)\n",
    "    y2 = np.array(y2)\n",
    "    y3 = np.array(y3)\n",
    "    y4 = np.array(y4)\n",
    "    y5 = np.array(y5)\n",
    "    y6 = np.array(y6)\n",
    "    \n",
    "    \n",
    "    return y1, y2, y3, y4, y5, y6"
   ]
  },
  {
   "cell_type": "code",
   "execution_count": null,
   "id": "c77ff987",
   "metadata": {
    "scrolled": true
   },
   "outputs": [],
   "source": [
    "T = 30\n",
    "# Response generation: \n",
    "x1, x2, x3, x4, x5, x6 = 0, 0, 0, 0, 0, 0 # initial displacement for 3dof\n",
    "y1, y2, y3, y4, y5, y6 = _3_DOF_Duffing_sys(x1, x2, x3, x4, x5, x6, T)"
   ]
  },
  {
   "cell_type": "code",
   "execution_count": 6,
   "id": "71a7b834",
   "metadata": {},
   "outputs": [],
   "source": [
    "output = [y1, y2, y3, y4, y5, y6]"
   ]
  },
  {
   "cell_type": "code",
   "execution_count": 7,
   "id": "492bad7f",
   "metadata": {},
   "outputs": [],
   "source": [
    "pickle.dump(output, open('Final_relia_data_3DOF_upto_5000.p', 'wb'))"
   ]
  },
  {
   "cell_type": "markdown",
   "id": "03d681de",
   "metadata": {},
   "source": [
    "# Estimated value prediction (5001 to 10000 samples)"
   ]
  },
  {
   "cell_type": "code",
   "execution_count": 1,
   "id": "dda2a877",
   "metadata": {},
   "outputs": [],
   "source": [
    "import pickle \n",
    "import numpy as np\n",
    "\n",
    "file_data = \"Forcing_term_3DOF_new.p\"\n",
    "fileobj_data = open(file_data, 'rb')\n",
    "Forcing_term = pickle.load(fileobj_data)\n",
    "\n",
    "dW = np.array(Forcing_term)"
   ]
  },
  {
   "cell_type": "code",
   "execution_count": 2,
   "id": "84447c98",
   "metadata": {},
   "outputs": [],
   "source": [
    "dW1 = dW[0]\n",
    "dW2 = dW[1]\n",
    "dW3 = dW[2]"
   ]
  },
  {
   "cell_type": "code",
   "execution_count": 4,
   "id": "407a19da",
   "metadata": {},
   "outputs": [],
   "source": [
    "import numpy as np\n",
    "\n",
    "\"\"\"\n",
    "A 3 DOF Duffing Van der pol system excited by random noise\n",
    "-----------------------------------------------------------\n",
    "\"\"\"\n",
    "def _3_DOF_Duffing_sys(x1, x2, x3, x4, x5, x6, T):\n",
    "    # parameters of Duffing oscillator in Equation\n",
    "    m1, m2, m3 = 1, 1, 1\n",
    "    c1, c2, c3 = 2.0003, 2.0004, 2.00015\n",
    "    k1, k2, k3 = 999.7, 2000.42, 2999.95\n",
    "    alpha1, alpha2, alpha3 = 100035, 100180, 100134.11\n",
    "    sigma1, sigma2, sigma3 = 1, 1, 1 \n",
    "    \n",
    "    dt = 0.0005\n",
    "    t = np.arange(0, T+dt, dt)\n",
    "    Nsamp = 5000 # no. of samples in the run\n",
    "  \n",
    "    \n",
    "    y1 = []\n",
    "    y2 = []\n",
    "    y3 = []\n",
    "    y4 = []\n",
    "    y5 = []\n",
    "    y6 = []\n",
    "    \n",
    "    # Simulation Starts Here ::\n",
    "    # -------------------------------------------------------\n",
    "    for ensemble in range(Nsamp):\n",
    "        x0 = np.array([x1, x2, x3, x4, x5, x6])\n",
    "        x = np.vstack(x0)                                                          # Zero initial condition.\n",
    "        if ensemble%10==0:\n",
    "            print(ensemble)\n",
    "        for n in range(len(t)-1):\n",
    "            \n",
    "            a1 = x0[1]\n",
    "            a2 = -(c1/m1)*x0[1]-(k1/m1)*x0[0]-(c2/m1)*(x0[1]-x0[3])-k2*(x0[0]-x0[2])-(alpha1/m1)*(x0[0])**3-(alpha2/m1)*(x0[0]-x0[2])**3\n",
    "            a3 = x0[3]\n",
    "            a4 = -(c2/m2)*(x0[3]-x0[1])-(k2/m2)*(x0[2]-x0[0])-(c3/m2)*(x0[3]-x0[5])-k3/m2*(x0[2]-x0[4])-(alpha2/m2)*(x0[2]-x0[0])**3-(alpha3/m2)*(x0[2]-x0[4])**3\n",
    "            a5 = x0[5]\n",
    "            a6 = -(c3/m3)*(x0[5]-x0[3])-(k3/m3)*(x0[4]-x0[2])-(alpha3/m3)*(x0[4]-x0[2])**3\n",
    "            b2 = (sigma1/m1)\n",
    "            b4 = (sigma2/m2)\n",
    "            b6 = (sigma3/m3)\n",
    "\n",
    "            sol1 = x0[0] + a1*dt \n",
    "            sol2 = x0[1] + a2*dt + b2*dW1[5000+ensemble][n]\n",
    "            sol3 = x0[2] + a3*dt \n",
    "            sol4 = x0[3] + a4*dt + b4*dW2[5000+ensemble][n]\n",
    "            sol5 = x0[4] + a5*dt \n",
    "            sol6 = x0[5] + a6*dt + b6*dW3[5000+ensemble][n]\n",
    "            \n",
    "            x0 = np.array([sol1, sol2, sol3, sol4, sol5, sol6])\n",
    "            x = np.column_stack((x, x0))\n",
    "            \n",
    "        y1.append(x[0,:])\n",
    "        y2.append(x[1,:])\n",
    "        y3.append(x[2,:])\n",
    "        y4.append(x[3,:])\n",
    "        y5.append(x[4,:])\n",
    "        y6.append(x[5,:])\n",
    "    \n",
    "    y1 = np.array(y1)\n",
    "    y2 = np.array(y2)\n",
    "    y3 = np.array(y3)\n",
    "    y4 = np.array(y4)\n",
    "    y5 = np.array(y5)\n",
    "    y6 = np.array(y6)\n",
    "    \n",
    "    \n",
    "    return y1, y2, y3, y4, y5, y6"
   ]
  },
  {
   "cell_type": "code",
   "execution_count": null,
   "id": "da4db920",
   "metadata": {
    "scrolled": true
   },
   "outputs": [],
   "source": [
    "T = 30\n",
    "# Response generation: \n",
    "x1, x2, x3, x4, x5, x6 = 0, 0, 0, 0, 0, 0 # initial displacement for 3dof\n",
    "y1, y2, y3, y4, y5, y6 = _3_DOF_Duffing_sys(x1, x2, x3, x4, x5, x6, T)"
   ]
  },
  {
   "cell_type": "code",
   "execution_count": 6,
   "id": "ee2e177f",
   "metadata": {},
   "outputs": [],
   "source": [
    "output = [y1, y2, y3, y4, y5, y6]"
   ]
  },
  {
   "cell_type": "code",
   "execution_count": 7,
   "id": "9011bd57",
   "metadata": {},
   "outputs": [],
   "source": [
    "pickle.dump(output, open('Final_relia_data_3DOF_upto_10000.p', 'wb'))"
   ]
  },
  {
   "cell_type": "markdown",
   "id": "6d76530d",
   "metadata": {},
   "source": [
    "# Reliability"
   ]
  },
  {
   "cell_type": "code",
   "execution_count": 1,
   "id": "4d7b85e8",
   "metadata": {},
   "outputs": [],
   "source": [
    "import pickle\n",
    "import numpy as np\n",
    "import matplotlib.pyplot as plt"
   ]
  },
  {
   "cell_type": "code",
   "execution_count": null,
   "id": "d9c8b2c0",
   "metadata": {},
   "outputs": [],
   "source": [
    "actual_1 = \"Initial_relia_data_3DOF_upto_5000.p\"\n",
    "file_actual_1 = open(actual_1, 'rb')\n",
    "file_obj_actual_1 = pickle.load(file_actual_1)\n",
    "actual_1 = np.array(file_obj_actual_1)"
   ]
  },
  {
   "cell_type": "code",
   "execution_count": null,
   "id": "3589b8c1",
   "metadata": {},
   "outputs": [],
   "source": [
    "actual_2 = \"Initial_relia_data_3DOF_upto_10000.p\"\n",
    "file_actual_2 = open(actual_2, 'rb')\n",
    "file_obj_actual_2 = pickle.load(file_actual_2)\n",
    "actual_2 = np.array(file_obj_actual_2)"
   ]
  },
  {
   "cell_type": "code",
   "execution_count": null,
   "id": "5c8ec25a",
   "metadata": {},
   "outputs": [],
   "source": [
    "y5_a_1 = actual_1[4]\n",
    "y5_a_2 = actual_2[4]"
   ]
  },
  {
   "cell_type": "code",
   "execution_count": null,
   "id": "9c6c3607",
   "metadata": {
    "scrolled": true
   },
   "outputs": [],
   "source": [
    "y5_a = np.vstack((y5_a_1, y5_a_2))"
   ]
  },
  {
   "cell_type": "code",
   "execution_count": null,
   "id": "9df75e06",
   "metadata": {},
   "outputs": [],
   "source": [
    "Final_1 = \"Final_relia_data_3DOF_upto_5000.p\"\n",
    "file_final_1 = open(Final_1, 'rb')\n",
    "file_obj_final_1 = pickle.load(file_final_1)\n",
    "Final_1 = np.array(file_obj_final_1)"
   ]
  },
  {
   "cell_type": "code",
   "execution_count": null,
   "id": "45c2dd93",
   "metadata": {},
   "outputs": [],
   "source": [
    "Final_2 = \"Final_relia_data_3DOF_upto_10000.p\"\n",
    "file_final_2 = open(Final_2, 'rb')\n",
    "file_obj_final_2 = pickle.load(file_final_2)\n",
    "Final_2 = np.array(file_obj_final_2)"
   ]
  },
  {
   "cell_type": "code",
   "execution_count": null,
   "id": "0e3b9da3",
   "metadata": {},
   "outputs": [],
   "source": [
    "y5_f_1 = Final_1[4]\n",
    "y5_f_2 = Final_2[4]"
   ]
  },
  {
   "cell_type": "code",
   "execution_count": null,
   "id": "29603041",
   "metadata": {},
   "outputs": [],
   "source": [
    "y5_f = np.vstack((y5_f_1, y5_f_2))"
   ]
  },
  {
   "cell_type": "code",
   "execution_count": 37,
   "id": "d26399cd",
   "metadata": {},
   "outputs": [
    {
     "data": {
      "image/png": "[encoded data removed]",
      "text/plain": [
       "<Figure size 864x576 with 1 Axes>"
      ]
     },
     "metadata": {
      "needs_background": "light"
     },
     "output_type": "display_data"
    }
   ],
   "source": [
    "a=np.linspace(0,30,60001)\n",
    "plt.rcParams[\"font.family\"] = \"serif\"\n",
    "plt.rcParams['font.size'] = 28\n",
    "plt.figure(figsize = (12,8 ))\n",
    "plt.xlim()\n",
    "plt.plot(a,np.mean(y5_f, axis=0))\n",
    "plt.yticks()\n",
    "plt.title('Displacement vs time',fontweight='bold')\n",
    "plt.xlabel('Time (second)',fontweight='bold')\n",
    "plt.ylabel('Displacement',fontweight='bold')\n",
    "plt.margins(0)\n",
    "plt.xticks(fontweight='bold'); plt.yticks(fontweight='bold');\n",
    "plt.ticklabel_format(axis='y',style='sci', scilimits=(0,-4))\n",
    "plt.grid()\n",
    "plt.savefig('states_3dof.png')\n",
    "plt.show()"
   ]
  },
  {
   "cell_type": "code",
   "execution_count": 11,
   "id": "27cd6911",
   "metadata": {},
   "outputs": [],
   "source": [
    "threshold = 0.18"
   ]
  },
  {
   "cell_type": "code",
   "execution_count": null,
   "id": "be97e8ee",
   "metadata": {
    "scrolled": false
   },
   "outputs": [],
   "source": [
    "idx = [np.where(y5_a[i,:]>threshold) for i in range(10000)]\n",
    "\n",
    "count = 0\n",
    "for i in idx:\n",
    "    if len(i[0])!=0:\n",
    "        count += 1\n",
    "        \n",
    "print(\"Probabilty of Failure :\", count/len(idx))\n",
    "\n",
    "ans = []\n",
    "for i in idx:\n",
    "    if len(i[0])!=0:\n",
    "        ans.append((i[0][0])/2000)\n",
    "    else:\n",
    "        ans.append(60000/2000)\n",
    "        \n",
    "plt.hist(ans)\n",
    "plt.xlabel('Time in sec')\n",
    "plt.ylabel('No of Failure')\n",
    "plt.show()\n",
    "\n",
    "pf_count_per_t = set()\n",
    "prob_fail = []\n",
    "for i in range(60001):\n",
    "    colmn = y5_a[:,i]\n",
    "    ans = np.where(colmn>threshold)\n",
    "    for i in ans[0]:\n",
    "        pf_count_per_t.add(i)\n",
    "        \n",
    "    no_of_fail = len(pf_count_per_t)\n",
    "    prob_fail.append(no_of_fail/10000)\n",
    "    \n",
    "final_ans = []\n",
    "for i in range(len(prob_fail)):\n",
    "    if i%2000 == 0:\n",
    "        final_ans.append(prob_fail[i])\n",
    "    \n",
    "plt.plot(final_ans, linewidth=3, color='green')\n",
    "plt.xlabel('Time')\n",
    "plt.ylabel('Probability of Failure')\n",
    "plt.show()"
   ]
  },
  {
   "cell_type": "code",
   "execution_count": null,
   "id": "ead065aa",
   "metadata": {
    "scrolled": false
   },
   "outputs": [],
   "source": [
    "idx_2 = [np.where(y5_f[i,:]>threshold) for i in range(10000)]\n",
    "\n",
    "count_2 = 0\n",
    "for i in idx_2:\n",
    "    if len(i[0])!=0:\n",
    "        count_2 += 1\n",
    "        \n",
    "print(\"Probabilty of Failure :\", count_2/len(idx_2))\n",
    "\n",
    "ans_2 = []\n",
    "for i in idx_2:\n",
    "    if len(i[0])!=0:\n",
    "        ans_2.append((i[0][0])/2000)\n",
    "    else:\n",
    "        ans_2.append(60000/2000)\n",
    "        \n",
    "plt.hist(ans_2)\n",
    "plt.xlabel('Time in sec')\n",
    "plt.ylabel('No of Failure')\n",
    "plt.show()\n",
    "\n",
    "pf_count_per_t_2 = set()\n",
    "prob_fail_2 = []\n",
    "for i in range(60001):\n",
    "    colmn = y5_f[:,i]\n",
    "    ans_2 = np.where(colmn>threshold)\n",
    "    for i in ans_2[0]:\n",
    "        pf_count_per_t_2.add(i)\n",
    "        \n",
    "    no_of_fail = len(pf_count_per_t_2)\n",
    "    prob_fail_2.append(no_of_fail/10000)\n",
    "    \n",
    "final_ans_2 = []\n",
    "for i in range(len(prob_fail_2)):\n",
    "    if i%2000 == 0:\n",
    "        final_ans_2.append(prob_fail_2[i])\n",
    "    \n",
    "plt.plot(final_ans_2, linewidth=3, color='green')\n",
    "plt.xlabel('Time')\n",
    "plt.ylabel('Probability of Failure')\n",
    "plt.show()"
   ]
  },
  {
   "cell_type": "code",
   "execution_count": 19,
   "id": "23b9e845",
   "metadata": {},
   "outputs": [
    {
     "data": {
      "image/png": "[encoded data removed]",
      "text/plain": [
       "<Figure size 864x576 with 1 Axes>"
      ]
     },
     "metadata": {
      "needs_background": "light"
     },
     "output_type": "display_data"
    }
   ],
   "source": [
    "plt.rcParams[\"font.family\"] = \"serif\"\n",
    "plt.rcParams['font.size'] = 28\n",
    "plt.figure(figsize = (12,8 ))\n",
    "plt.semilogy(final_ans, 'ro', label=\"Ground Truth\", markersize=20)\n",
    "plt.semilogy(final_ans_2,color='green' ,linewidth=6, label=\"MAntRA\")\n",
    "plt.xlabel('Time (second)',fontweight='bold')\n",
    "plt.ylabel('Probability of failure',fontweight='bold')\n",
    "plt.xticks(fontweight='bold'); plt.yticks(fontweight='bold');\n",
    "plt.legend(prop={'weight':'bold','size': 20},loc=2)\n",
    "plt.grid()\n",
    "plt.savefig('reliability 3dof.png')\n",
    "plt.show()"
   ]
  },
  {
   "cell_type": "code",
   "execution_count": null,
   "id": "51baff38",
   "metadata": {},
   "outputs": [],
   "source": []
  }
 ],
 "metadata": {
  "kernelspec": {
   "display_name": "Python 3 (ipykernel)",
   "language": "python",
   "name": "python3"
  },
  "language_info": {
   "codemirror_mode": {
    "name": "ipython",
    "version": 3
   },
   "file_extension": ".py",
   "mimetype": "text/x-python",
   "name": "python",
   "nbconvert_exporter": "python",
   "pygments_lexer": "ipython3",
   "version": "3.9.13"
  },
  "toc": {
   "base_numbering": 1,
   "nav_menu": {},
   "number_sections": true,
   "sideBar": true,
   "skip_h1_title": false,
   "title_cell": "Table of Contents",
   "title_sidebar": "Contents",
   "toc_cell": false,
   "toc_position": {},
   "toc_section_display": true,
   "toc_window_display": false
  },
  "varInspector": {
   "cols": {
    "lenName": 16,
    "lenType": 16,
    "lenVar": 40
   },
   "kernels_config": {
    "python": {
     "delete_cmd_postfix": "",
     "delete_cmd_prefix": "del ",
     "library": "var_list.py",
     "varRefreshCmd": "print(var_dic_list())"
    },
    "r": {
     "delete_cmd_postfix": ") ",
     "delete_cmd_prefix": "rm(",
     "library": "var_list.r",
     "varRefreshCmd": "cat(var_dic_list()) "
    }
   },
   "types_to_exclude": [
    "module",
    "function",
    "builtin_function_or_method",
    "instance",
    "_Feature"
   ],
   "window_display": false
  }
 },
 "nbformat": 4,
 "nbformat_minor": 5
}
