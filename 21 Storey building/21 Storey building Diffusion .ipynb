{
 "cells": [
  {
   "cell_type": "code",
   "execution_count": 1,
   "metadata": {},
   "outputs": [
    {
     "data": {
      "text/plain": [
       "'\\nThis code belongs to the paper:\\n-- YC Mathpati, KS More, T Tripura, R Nayek, S Chakraborty (2023)\\n   MAntRA: A framework for model agnostic reliability analysis\\n   \\n-- This code is for 21 Storey building.\\n'"
      ]
     },
     "execution_count": 1,
     "metadata": {},
     "output_type": "execute_result"
    }
   ],
   "source": [
    "\"\"\"\n",
    "This code belongs to the paper:\n",
    "-- YC Mathpati, KS More, T Tripura, R Nayek, S Chakraborty (2023)\n",
    "   MAntRA: A framework for model agnostic reliability analysis\n",
    "   \n",
    "-- This code is for 21 Storey building.\n",
    "\"\"\""
   ]
  },
  {
   "cell_type": "markdown",
   "metadata": {},
   "source": [
    "# Diffusion 21"
   ]
  },
  {
   "cell_type": "code",
   "execution_count": 37,
   "metadata": {},
   "outputs": [],
   "source": [
    "import numpy as np\n",
    "import matplotlib.pyplot as plt\n",
    "from scipy import linalg as LA\n",
    "from sklearn.metrics import mean_squared_error as MSE\n",
    "\n",
    "\"\"\"\n",
    "The Dictionary creation part:\n",
    "~~~~~~~~~~~~~~~~~~~~~~~~~~~~~~~~~~~~~~~~~~~~~~~~~~~~~~~~~~~~\n",
    "\"\"\"\n",
    "def library(xt, polyn, harmonic):\n",
    "    if polyn == 0:\n",
    "        polyn = 1\n",
    "    \n",
    "    # The polynomial is (x1 + x2)^p, with p is the order\n",
    "    # poly order 0\n",
    "    ind = 0\n",
    "    n = len(xt[0])\n",
    "    D = np.ones([n,1])\n",
    "    \n",
    "    if polyn >= 1:\n",
    "        # poly order 1\n",
    "        for i in range(len(xt)):\n",
    "            ind = ind+1\n",
    "            new = np.vstack(xt[i,:])\n",
    "            D = np.append(D, new, axis=1)\n",
    "     \n",
    "    if polyn >= 2: \n",
    "        # ploy order 2\n",
    "        for i in range(len(xt)):\n",
    "            for j in  range(i,len(xt)):\n",
    "                ind = ind+1\n",
    "                new = np.multiply(xt[i,:], xt[j,:])\n",
    "                new = np.vstack(new)\n",
    "                D = np.append(D, new, axis=1) \n",
    "    \n",
    "    if polyn >= 3:    \n",
    "        # ploy order 3\n",
    "        for i in range(len(xt)):\n",
    "            for j in  range(i,len(xt)):\n",
    "                for k in  range(j,len(xt)):\n",
    "                    ind = ind+1\n",
    "                    new = np.multiply(np.multiply(xt[i,:], xt[j,:]), xt[k,:])\n",
    "                    new = np.vstack(new)\n",
    "                    D = np.append(D, new, axis=1) \n",
    "    \n",
    "    if polyn >= 4:\n",
    "        # ploy order 4\n",
    "        for i in range(len(xt)):\n",
    "            for j in  range(i,len(xt)):\n",
    "                for k in  range(j,len(xt)):\n",
    "                    for l in range(k,len(xt)):\n",
    "                        ind = ind+1\n",
    "                        new = np.multiply(np.multiply(xt[i,:], xt[j,:]), xt[k,:])\n",
    "                        new = np.multiply(new, xt[l,:])\n",
    "                        new = np.vstack(new)\n",
    "                        D = np.append(D, new, axis=1) \n",
    "    \n",
    "    if polyn >= 5:\n",
    "        # ploy order 5\n",
    "        for i in range(len(xt)):\n",
    "            for j in  range(i,len(xt)):\n",
    "                for k in  range(j,len(xt)):\n",
    "                    for l in  range(k,len(xt)):\n",
    "                        for m in  range(l,len(xt)):\n",
    "                            ind = ind+1\n",
    "                            new = np.multiply(xt[i,:], xt[j,:])\n",
    "                            new = np.multiply(new, xt[k,:])\n",
    "                            new = np.multiply(new, xt[l,:])\n",
    "                            new = np.multiply(new, xt[m,:])\n",
    "                            new = np.vstack(new)\n",
    "                            D = np.append(D, new, axis=1) \n",
    "    \n",
    "    if polyn >= 6:\n",
    "        # ploy order 6\n",
    "        for i in range(len(xt)):\n",
    "            for j in  range(i,len(xt)):\n",
    "                for k in  range(j,len(xt)):\n",
    "                    for l in  range(k,len(xt)):\n",
    "                        for m in  range(l,len(xt)):\n",
    "                            for n in  range(m,len(xt)):\n",
    "                                ind = ind+1\n",
    "                                new = np.multiply(xt[i,:], xt[j,:])\n",
    "                                new = np.multiply(new, xt[k,:])\n",
    "                                new = np.multiply(new, xt[l,:])\n",
    "                                new = np.multiply(new, xt[m,:])\n",
    "                                new = np.multiply(new, xt[n,:])\n",
    "                                new = np.vstack(new)\n",
    "                                D = np.append(D, new, axis=1) \n",
    "    \n",
    "    \n",
    "    # for the modulus operator\n",
    "    for i in range(len(xt)):\n",
    "        ind = ind+1\n",
    "        new = np.vstack(abs(xt[i,:]))\n",
    "        D = np.append(D, new, axis=1)\n",
    "      \n",
    "    # for the tensor operator\n",
    "    for i in range(len(xt)):\n",
    "        for j in  range(len(xt)):\n",
    "            ind = ind+1\n",
    "            new = np.multiply(xt[i,:],abs(xt[j,:]))\n",
    "            new = np.vstack(new)\n",
    "            D = np.append(D, new, axis=1)\n",
    "            \n",
    "    if harmonic == 1:\n",
    "        for i in range(len(xt)):\n",
    "            ind = ind+1\n",
    "            new = np.vstack(np.sin(xt[i,:]))\n",
    "            D = np.append(D, new, axis=1)\n",
    "\n",
    "        for i in range(len(xt)):\n",
    "            ind = ind+1\n",
    "            new = np.vstack(np.cos(xt[i,:]))\n",
    "            D = np.append(D, new, axis=1)\n",
    "            \n",
    "    ind = len(D[0])\n",
    "    \n",
    "    return D, ind"
   ]
  },
  {
   "cell_type": "code",
   "execution_count": 38,
   "metadata": {},
   "outputs": [],
   "source": [
    "import numpy as np\n",
    "import matplotlib.pyplot as plt\n",
    "\"\"\"\n",
    "A MDOF system excited by random noise\n",
    "----------------------------------------------------------------------\n",
    "\"\"\"\n",
    "\n",
    "def drift_mat(dof,k,c,m):\n",
    "    dim = 2 * dof\n",
    "    A = np.zeros((dim,dim))\n",
    "    \n",
    "    for i in range(dim):\n",
    "        if (i%2 == 0):\n",
    "            A[i][i+1] = 1\n",
    "    \n",
    "        elif(i==1):\n",
    "            A[i][i-1] = -(k+k)/m\n",
    "            A[i][i] = -(c+c)/m\n",
    "            A[i][i+1] = k/m\n",
    "            A[i][i+2] = c/m\n",
    "    \n",
    "        elif(i==dim-1):\n",
    "            A[i][i] = -c/m\n",
    "            A[i][i-1] = -k/m\n",
    "            A[i][i-2] = c/m\n",
    "            A[i][i-3] = k/m\n",
    "            \n",
    "        else:\n",
    "            A[i][i-3] = k/m \n",
    "            A[i][i-2] = c/m\n",
    "            A[i][i-1] = -(k+k)/m\n",
    "            A[i][i] = -(c+c)/m\n",
    "            A[i][i+1] = k/m\n",
    "            A[i][i+2] = c/m\n",
    "    return A\n",
    "\n",
    "def M_DOF_sys(x_initial, dof, T):\n",
    "    # parameters of M_DOF_sys in Equation\n",
    "    m = 1\n",
    "    c = 2\n",
    "    k = 3000\n",
    "    sigma = 1\n",
    "    \n",
    "    # solution by euler maruyama\n",
    "    # -------------------------------------------------------\n",
    "    dt = 0.0001\n",
    "    t = np.arange(0, T+dt, dt)\n",
    "    Nsamp = 200 # no. of samples in the run\n",
    "    \n",
    "    y1 = []\n",
    "    y2 = []\n",
    "    y3 = []\n",
    "    y4 = []\n",
    "    y5 = []\n",
    "    y6 = []\n",
    "    y7 = []\n",
    "    y8 = []\n",
    "    xz1 = []\n",
    "    xz2 = []\n",
    "    xz3 = []\n",
    "    xzs11 = []\n",
    "    xzs22 = []\n",
    "    xzs33 = []\n",
    "    \n",
    "    # Simulation Starts Here ::\n",
    "    # -------------------------------------------------------\n",
    "    for ensemble in range(Nsamp):\n",
    "        x0 = x_initial\n",
    "        x = x0                              # initial condition.\n",
    "        for n in range(len(t)-1):\n",
    "            dW = np.sqrt(dt)*np.random.randn(2*dof)\n",
    "            \n",
    "            '''LINEAR PART DRIFT'''\n",
    "        \n",
    "            A = drift_mat(dof,k,c,m)\n",
    "            \n",
    "            '''DIFFUSION TERM  = b'''\n",
    "            diffu_arr = np.zeros(2*dof)\n",
    "            for i in range(2*dof):\n",
    "                if (i%2 != 0):\n",
    "                    diffu_arr[i] = sigma/m\n",
    "            \n",
    "            soln_arr = x0 + np.matmul(A,x0)*dt + diffu_arr*dW        \n",
    "            x0 = soln_arr\n",
    "            x = np.column_stack((x, x0))\n",
    "            \n",
    "  \n",
    "        y1.append(x[-1,:])     # Displacement\n",
    "        y2.append(x[-2,:])      \n",
    "        y3.append(x[-3,:])     # Displacement\n",
    "        y4.append(x[-4,:])\n",
    "        y5.append(x[-5,:])\n",
    "        y6.append(x[-6,:])\n",
    "        y7.append(x[-7,:])\n",
    "        y8.append(x[-8,:])\n",
    "        \n",
    "\n",
    "        zint1 = x[-1,0:-1]\n",
    "        xfinal1 = x[-1,1:] \n",
    "        xmz1 = (xfinal1 - zint1)\n",
    "        \n",
    "        zint2 = x[-3, 0:-1]\n",
    "        xfinal2 = x[-3, 1:] \n",
    "        xmz2 = (xfinal2 - zint2) \n",
    "        \n",
    "        zint3 = x[-5, 0:-1]\n",
    "        xfinal3 = x[-5, 1:] \n",
    "        xmz3 = (xfinal3 - zint3) \n",
    "        \n",
    "        xz1.append(xmz1)\n",
    "        xz2.append(xmz2)\n",
    "        xz3.append(xmz3)\n",
    "        \n",
    "        xmzsq11 = np.multiply(xmz1, xmz1)\n",
    "        xzs11.append(xmzsq11)\n",
    "        \n",
    "        xmzsq22 = np.multiply(xmz2, xmz2)\n",
    "        xzs22.append(xmzsq22)\n",
    "        \n",
    "        xmzsq33 = np.multiply(xmz3, xmz3)\n",
    "        xzs33.append(xmzsq33)\n",
    "        \n",
    "    xz1 = pow(dt,-1)*np.mean(np.array(xz1), axis = 0)\n",
    "    xz2 = pow(dt,-1)*np.mean(np.array(xz2), axis = 0)\n",
    "    xz3 = pow(dt,-1)*np.mean(np.array(xz3), axis = 0)\n",
    "\n",
    "    xzs11 = pow(dt,-1)*np.mean(np.array(xzs11), axis = 0)\n",
    "    xzs22 = pow(dt,-1)*np.mean(np.array(xzs22), axis = 0)\n",
    "    xzs33 = pow(dt,-1)*np.mean(np.array(xzs33), axis = 0) \n",
    "\n",
    "    y1 = np.array(y1)\n",
    "    y2 = np.array(y2)\n",
    "    y3 = np.array(y3)\n",
    "    y4 = np.array(y4)\n",
    "    y5 = np.array(y5)\n",
    "    y6 = np.array(y6)\n",
    "    y7 = np.array(y7)\n",
    "    y8 = np.array(y8)\n",
    "    \n",
    "    time = t[0:-1]\n",
    "    return xz1, xz2, xz3, xzs11, xzs22, xzs33, y1, y2, y3, y4, y5, y6, y7, y8, time"
   ]
  },
  {
   "cell_type": "code",
   "execution_count": 39,
   "metadata": {},
   "outputs": [],
   "source": [
    "T = 1\n",
    "dof = 21\n",
    "x_initial = np.zeros(2*dof)"
   ]
  },
  {
   "cell_type": "code",
   "execution_count": 41,
   "metadata": {},
   "outputs": [],
   "source": [
    "xz1, xz2, xz3, xzs11, xzs22, xzs33, y1, y2, y3, y4, y5, y6, y7, y8, time_ = M_DOF_sys(x_initial, dof, T)"
   ]
  },
  {
   "cell_type": "code",
   "execution_count": 43,
   "metadata": {},
   "outputs": [],
   "source": [
    "# Expected Dictionary Creation:\n",
    "libr = []\n",
    "for j in range(len(y1)):\n",
    "    data = np.row_stack((y1[j,0:-1], y2[j,0:-1], y3[j,0:-1], y4[j,0:-1], y5[j,0:-1], y6[j,0:-1], y7[j,0:-1], y8[j,0:-1]))\n",
    "    Dtemp, nl = library(data, 1, 0)\n",
    "    libr.append(Dtemp)\n",
    "libr = np.array(libr)\n",
    "Dictionary= np.mean(libr, axis = 0)"
   ]
  },
  {
   "cell_type": "code",
   "execution_count": 44,
   "metadata": {},
   "outputs": [],
   "source": [
    "xdts = xzs11\n",
    "D = Dictionary"
   ]
  },
  {
   "cell_type": "code",
   "execution_count": null,
   "metadata": {},
   "outputs": [],
   "source": [
    "Dict = D.reshape(-1,order='F')"
   ]
  },
  {
   "cell_type": "code",
   "execution_count": 47,
   "metadata": {},
   "outputs": [
    {
     "name": "stdout",
     "output_type": "stream",
     "text": [
      "{'Relevant': matlab.double([[1.0],[8.0],[11.0],[25.0],[30.0],[34.0],[36.0],[40.0],[44.0],[50.0],[68.0],[70.0],[74.0],[81.0]]), 'Value': matlab.double([[1.0047808356643277],[0.06833581299706867],[0.8638284659695521],[-2.041101286100316],[-2.362997691764869],[0.15396010652952816],[-0.22035578525958419],[0.33357230552705275],[-0.2679695239600998],[0.300930393053831],[-0.2804027566179254],[-0.2904220501070378],[1.3161912608157038],[-22.39637936251321]])}\n"
     ]
    }
   ],
   "source": [
    "#!/usr/bin/env python\n",
    "\"\"\"\n",
    "Sample script that uses the SparseBayes module created using\n",
    "MATLAB Compiler SDK.\n",
    "\n",
    "Refer to the MATLAB Compiler SDK documentation for more information.\n",
    "\"\"\"\n",
    "\n",
    "from __future__ import print_function\n",
    "import SparseBayes\n",
    "import matlab\n",
    "\n",
    "my_SparseBayes = SparseBayes.initialize()\n",
    "\n",
    "DictIn = matlab.double(Dict, size=(D.shape[0], D.shape[1]))\n",
    "targetIn = matlab.double(xdts, size=(D.shape[0], 1))\n",
    "DMOut = my_SparseBayes.SparseBayes(DictIn, targetIn)\n",
    "print(DMOut, sep='\\n')\n",
    "\n",
    "my_SparseBayes.terminate()"
   ]
  },
  {
   "cell_type": "code",
   "execution_count": 49,
   "metadata": {},
   "outputs": [
    {
     "name": "stdout",
     "output_type": "stream",
     "text": [
      "[1. 0. 0. 0. 0. 0. 0. 1. 0. 0. 1. 0. 0. 0. 0. 0. 0. 0. 0. 0. 0. 0. 0. 0.\n",
      " 1. 0. 0. 0. 0. 1. 0. 0. 0. 1. 0. 1. 0. 0. 0. 1. 0. 0. 0. 1. 0. 0. 0. 0.\n",
      " 0. 1. 0. 0. 0. 0. 0. 0. 0. 0. 0. 0. 0. 0. 0. 0. 0. 0. 0. 1. 0. 1. 0. 0.\n",
      " 0. 1. 0. 0. 0. 0. 0. 0. 1.]\n"
     ]
    }
   ],
   "source": [
    "c = np.array(DMOut['Value'])\n",
    "d = []\n",
    "for j in c:\n",
    "    d.append(j[0])\n",
    "    \n",
    "a = np.array(DMOut['Relevant'])\n",
    "b = []\n",
    "for i in a:\n",
    "    b.append(int((i[0])-1))\n",
    "    \n",
    "initz0 = np.zeros(D.shape[1])\n",
    "for i in b:\n",
    "    initz0[i] = 1\n",
    "    \n",
    "print(initz0)"
   ]
  },
  {
   "cell_type": "code",
   "execution_count": 50,
   "metadata": {},
   "outputs": [],
   "source": [
    "import warnings\n",
    "import math\n",
    "import numpy as np\n",
    "import scipy as sp\n",
    "import sympy as smp\n",
    "from scipy import stats\n",
    "from numpy import linalg as la\n",
    "import matplotlib.pyplot as plt\n",
    "from numpy.random import gamma\n",
    "from scipy.special import loggamma\n",
    "\n",
    "def Variational_Bayes_Code(X, y, initz0, tol, verbosity):\n",
    "\n",
    "    if (len(X) == 0 or len(y) == 0):\n",
    "        raise Exception('X and or y is missing')\n",
    "        \n",
    "    if (len(X) != len(y)):\n",
    "        raise Exception('Number of observations do not match')\n",
    "        \n",
    "    # X = stats.zscore(X, ddof = 1)         \n",
    "    # X = np.c_[np.ones(len(X)),X]\n",
    "    # X = np.c_[np.ones(len(X)),X]          \n",
    "    # y = y - np.mean(y)\n",
    "    N = len(X)\n",
    "    # Prior parameters of noise variance (Inverse Gamma dist)\n",
    "    A = 1e-4\n",
    "    B = 1e-4\n",
    "    vs = 10\n",
    "    tau0 = 1000\n",
    "    \n",
    "    if (len(initz0) == 0):\n",
    "        raise Exception('No initial value of z found')\n",
    "    else:\n",
    "        p0 = expit(-0.5*(np.sqrt(N)))       \n",
    "        \n",
    "        # Adding the intercept indicator variable (slightly less than 1 to prevent log(0) values) \n",
    "        # initz = np.hstack((1,initz0))  \n",
    "        initz = initz0\n",
    "\n",
    "        DS,LLcvg  = run_VB2(X, y, vs, A, B, tau0, p0, initz, tol, verbosity)    \n",
    "        # This is function which will come first\n",
    "        \n",
    "    out_vb   = DS\n",
    "    a = DS['zmean'] > 0.5\n",
    "    count = 0\n",
    "    modelIdx = []\n",
    "    for i in a:\n",
    "        if i == True:\n",
    "            modelIdx.append(count)\n",
    "        count += 1\n",
    "            \n",
    "    modelIdx = np.setdiff1d(modelIdx,0)\n",
    "    out_vb['modelIdx'] = modelIdx-1\n",
    "    out_vb['Zmed'] = DS['zmean'][modelIdx]\n",
    "    out_vb['Wsel'] = DS['wmean'][modelIdx]\n",
    "    out_vb['Wcov'] = DS['wCOV'][modelIdx, modelIdx]\n",
    "    out_vb['sig2'] = DS['sig2']\n",
    "    \n",
    "    return out_vb\n",
    "\n",
    "DS = {}\n",
    "def run_VB2(Xc, yc, vs, A, B, tau0, p0, initz, tol, verbosity):\n",
    "    \"\"\"This function is the implementation of VB from John T. Ormerod paper (2014)\n",
    "       This implementation uses slab scaling by noise variance\n",
    "       vs    : treated as a constant\n",
    "       A,B   : constants of the IG prior over noise variance\n",
    "       tau0  : Expected value of (sigma^{-2})\n",
    "       p0    : inclusion probablility\n",
    "       initz : Initial value of z\n",
    "       Xc    : Centered and standardized dictionary except the first column\n",
    "       yc    : Centered observations \"\"\"\n",
    "    \n",
    "    Lambda    = logit(p0)\n",
    "    iter_     = 0\n",
    "    max_iter  = 100\n",
    "    LL        = np.zeros(max_iter)        \n",
    "    zm        = np.reshape(initz,(-1))            \n",
    "    taum      = tau0                      \n",
    "    invVs     = 1/vs\n",
    "    \n",
    "    X = Xc\n",
    "    y = yc\n",
    "    XtX = (X.T) @ X\n",
    "    XtX = 0.5*(XtX + (XtX).T)\n",
    "    Xty = (X.T) @ y                 \n",
    "    yty = (y.T) @ y\n",
    "\n",
    "    eyep = np.eye(len(XtX))\n",
    "    [N,p] = X.shape\n",
    "    allidx = np.arange(p)\n",
    "    zm[0] = 1                                                                   # Always include the intercept \n",
    "    Abar    = (A + 0.5*N + 0.5*p)\n",
    "    converged = 0\n",
    "    \n",
    "    while (converged==0):\n",
    "        if (iter_==100):\n",
    "            break\n",
    "        \n",
    "        Zm       = np.diag(zm)\n",
    "        Omg      = (np.reshape(zm,(-1,1)) @ np.reshape(zm,(1,-1))) + (Zm @ (eyep-Zm))\n",
    "        # Update the mean and covariance of the coefficients given mean of z\n",
    "        term1    = XtX * Omg                                                       # elementwisw multiplication\n",
    "        invSigma = taum * (term1 + invVs * eyep)\n",
    "        invSigma = 0.5*(invSigma + invSigma.T)                                     # symmetric\n",
    "        Sigma    = la.inv(invSigma) @ eyep\n",
    "        mu       = taum * (Sigma @ Zm @ Xty)                                       # @ ---> matrix multiplication\n",
    "        \n",
    "        # Update tau related to sigma\n",
    "        term2    = 2 * Xty @ Zm @ mu\n",
    "        term3    =  np.reshape(mu,(len(initz0),1)) @ np.reshape(mu,(1,len(initz0)))+ Sigma\n",
    "        term4    = yty - term2 + np.trace((term1 + invVs * eyep) @ term3)    \n",
    "        s        = B + 0.5*term4\n",
    "        \n",
    "        if s<0:\n",
    "            warnings.warn('s turned out be less than 0. Taking absolute value')\n",
    "            s = B + 0.5*abs(term4)\n",
    "        \n",
    "        taum     = Abar / s\n",
    "        zstr   = zm\n",
    "\n",
    "        order   = np.setdiff1d(np.random.permutation(p), 0, assume_unique=True)\n",
    "        for j in order: \n",
    "            muj     = mu[j]                            \n",
    "            sigmaj  = Sigma[j,j]\n",
    "            \n",
    "            remidx  = np.setdiff1d(allidx,j)\n",
    "            mu_j    = mu[remidx]\n",
    "            Sigma_jj= Sigma[remidx,j]\n",
    "            etaj    = (Lambda - 0.5 * taum * ((muj**2 + sigmaj) * XtX[j,j]) \n",
    "                       + taum * np.reshape(X[:,j],(1,-1)) @ (np.reshape(y,(-1,1))*muj \n",
    "                        -X[:,remidx] @ np.diag(zstr[remidx]) @ ((mu_j * muj + Sigma_jj).reshape(-1,1))))\n",
    "            zstr[j] = expit(etaj)\n",
    "            \n",
    "        zm = zstr\n",
    "        \n",
    "        # Calculate marginal log-likelihood\n",
    "        \n",
    "        LL[iter_] = ( 0.5*p \n",
    "                    - 0.5*N*np.log(2*np.pi) \n",
    "                    + 0.5*p*np.log(invVs) \n",
    "                    + A*np.log(B)\n",
    "                    - loggamma(A)\n",
    "                    + loggamma(Abar) \n",
    "                    - Abar*np.log(s)\n",
    "                    + 0.5*np.log(la.det(Sigma))\n",
    "                    + np.nansum(zm*(np.log(p0) - np.log(zm))) \n",
    "                    + np.nansum((1-zm)*(np.log(1-p0) - np.log(1-zm))))\n",
    "        \n",
    "        if(verbosity):\n",
    "            print(f'Iteration = {iter_}  log(Likelihood) = {LL[iter_]}')\n",
    "        \n",
    "        if(iter_>1):\n",
    "            cvg = LL[iter_] - LL[iter_-1]\n",
    "            \n",
    "            if (cvg < 0 and verbosity):\n",
    "                print('OOPS!  log(like) decreasing!!')\n",
    "            elif (cvg<tol or iter_> max_iter):\n",
    "                converged = 1\n",
    "                LL = LL[0:iter_]\n",
    "                \n",
    "        iter_    = iter_ + 1\n",
    "    DS['zmean'] = zm\n",
    "    DS['wmean'] = mu\n",
    "    DS['wCOV'] = Sigma\n",
    "    DS['sig2'] = 1/taum\n",
    "    LLcvg    = LL[-1]\n",
    "    return DS, LLcvg\n",
    "    \n",
    "def logit(C):\n",
    "    logitC = np.log(C) - np.log(1-C)\n",
    "    return logitC\n",
    "\n",
    "def expit(C):\n",
    "    expitC = 1./(1 + np.exp(-C))\n",
    "    return expitC"
   ]
  },
  {
   "cell_type": "code",
   "execution_count": 51,
   "metadata": {},
   "outputs": [
    {
     "name": "stderr",
     "output_type": "stream",
     "text": [
      "C:\\Users\\USER\\AppData\\Local\\Temp/ipykernel_3928/3512855728.py:147: RuntimeWarning: divide by zero encountered in log\n",
      "  + np.nansum((1-zm)*(np.log(1-p0) - np.log(1-zm))))\n",
      "C:\\Users\\USER\\AppData\\Local\\Temp/ipykernel_3928/3512855728.py:147: RuntimeWarning: invalid value encountered in multiply\n",
      "  + np.nansum((1-zm)*(np.log(1-p0) - np.log(1-zm))))\n",
      "C:\\Users\\USER\\AppData\\Local\\Temp/ipykernel_3928/3512855728.py:174: RuntimeWarning: overflow encountered in exp\n",
      "  expitC = 1./(1 + np.exp(-C))\n"
     ]
    },
    {
     "name": "stdout",
     "output_type": "stream",
     "text": [
      "Iteration = 0  log(Likelihood) = 8387.552411317283\n"
     ]
    },
    {
     "name": "stderr",
     "output_type": "stream",
     "text": [
      "C:\\Users\\USER\\AppData\\Local\\Temp/ipykernel_3928/3512855728.py:146: RuntimeWarning: divide by zero encountered in log\n",
      "  + np.nansum(zm*(np.log(p0) - np.log(zm)))\n",
      "C:\\Users\\USER\\AppData\\Local\\Temp/ipykernel_3928/3512855728.py:146: RuntimeWarning: invalid value encountered in multiply\n",
      "  + np.nansum(zm*(np.log(p0) - np.log(zm)))\n"
     ]
    },
    {
     "name": "stdout",
     "output_type": "stream",
     "text": [
      "Iteration = 1  log(Likelihood) = 8441.432533370387\n",
      "Iteration = 2  log(Likelihood) = 8441.434425858524\n",
      "Iteration = 3  log(Likelihood) = 8441.434425979962\n",
      "{'zmean': array([1.00000000e+00, 6.19655993e-29, 1.74923742e-22, 1.57723171e-28,\n",
      "       1.75808444e-22, 2.92723714e-31, 1.75908353e-22, 3.10614431e-28,\n",
      "       1.75881470e-22, 0.00000000e+00, 1.00000000e+00, 0.00000000e+00,\n",
      "       5.82647159e-44, 0.00000000e+00, 5.73644207e-43, 0.00000000e+00,\n",
      "       6.06168578e-42, 3.39127099e-27, 1.81202831e-22, 1.23582169e-24,\n",
      "       1.80856143e-22, 5.09325308e-24, 1.81014186e-22, 8.40388378e-24,\n",
      "       1.80920070e-22, 1.84830233e-22, 1.92766776e-22, 1.87347314e-22,\n",
      "       1.92779380e-22, 1.85110074e-22, 1.92793198e-22, 1.87674819e-22,\n",
      "       1.92807126e-22, 4.06681047e-24, 1.84392629e-22, 1.23362828e-26,\n",
      "       1.84695628e-22, 5.17318959e-24, 1.85058332e-22, 4.59844239e-24,\n",
      "       1.85792432e-22, 1.85952284e-22, 1.92779263e-22, 1.87434494e-22,\n",
      "       1.92784495e-22, 1.86063466e-22, 1.92797615e-22, 1.87981345e-22,\n",
      "       1.92809457e-22, 8.05002148e-25, 1.82161497e-22, 2.62768548e-24,\n",
      "       1.83017518e-22, 6.35529442e-27, 1.83340901e-22, 1.34592862e-23,\n",
      "       1.83284034e-22, 1.86659991e-22, 1.92792608e-22, 1.87815816e-22,\n",
      "       1.92797335e-22, 1.86376758e-22, 1.92801483e-22, 1.88195862e-22,\n",
      "       1.92811036e-22, 1.23853125e-24, 1.84614271e-22, 1.62012443e-23,\n",
      "       1.85533170e-22, 2.79312718e-23, 1.86230794e-22, 6.20168140e-25,\n",
      "       1.86547941e-22, 1.87402046e-22, 1.92805863e-22, 1.87772210e-22,\n",
      "       1.92808613e-22, 1.86571578e-22, 1.92811244e-22, 1.88214386e-22,\n",
      "       1.92811524e-22]), 'wmean': array([ 1.00705638e+00, -8.82589469e-29, -6.22479270e-24,  1.58986699e-28,\n",
      "       -7.10165513e-24,  8.16415774e-31, -6.66271639e-24, -1.37686850e-28,\n",
      "       -1.89106381e-24,  0.00000000e+00,  8.75907417e-01,  0.00000000e+00,\n",
      "        4.96427127e-44,  0.00000000e+00,  4.79734749e-43,  0.00000000e+00,\n",
      "        5.24570750e-42, -4.31632192e-27, -2.85556311e-23,  1.15203023e-24,\n",
      "       -2.18925789e-23,  5.10099478e-25, -3.16502847e-23,  3.29379129e-24,\n",
      "       -3.75777493e-23,  1.40980998e-23,  3.43211843e-25, -1.36596137e-23,\n",
      "       -9.63204545e-26, -3.00238919e-23, -6.52508718e-25, -6.54314986e-24,\n",
      "       -1.12518182e-24,  8.89730877e-24, -1.08692646e-23, -3.73346050e-27,\n",
      "       -5.59585276e-24,  8.23404470e-24, -1.35893092e-24,  7.78711422e-24,\n",
      "       -2.64632451e-24,  1.59850462e-23, -8.74377060e-26, -1.51389822e-23,\n",
      "       -4.90691882e-25, -2.88269571e-23, -9.51592826e-25, -1.07231856e-23,\n",
      "       -1.28242041e-24,  2.29413698e-24, -1.79790080e-24,  3.43236635e-24,\n",
      "        2.37591442e-25,  1.14623831e-26,  4.16948667e-25,  1.51536272e-23,\n",
      "       -6.03048806e-25,  1.91109712e-23, -6.07306158e-25, -1.29140325e-23,\n",
      "       -9.33615901e-25, -2.42491785e-23, -1.27062051e-24, -1.66611851e-23,\n",
      "       -1.45429357e-24, -1.47857658e-24,  5.69217470e-24, -1.99397872e-23,\n",
      "        5.69946053e-24, -1.76051374e-23,  2.38606032e-25, -9.92197051e-26,\n",
      "       -7.61652578e-25,  2.14885515e-23, -1.07544295e-24, -1.55936074e-23,\n",
      "       -1.25266755e-24, -2.35519747e-23, -1.44464492e-24, -1.88303641e-23,\n",
      "       -1.62525480e-24]), 'wCOV': array([[ 5.99302215e-06,  4.17015578e-32,  3.62771677e-27, ...,\n",
      "         1.11817797e-27, -4.77625418e-28,  1.09521471e-27],\n",
      "       [ 4.17015578e-32,  1.05659587e-01, -9.33103688e-53, ...,\n",
      "        -2.41657203e-53, -8.05556778e-53, -2.35056562e-53],\n",
      "       [ 3.62771677e-27, -9.33103688e-53,  1.05659587e-01, ...,\n",
      "        -9.04802274e-48,  3.44527770e-48, -8.70950111e-48],\n",
      "       ...,\n",
      "       [ 1.11817797e-27, -2.41657203e-53, -9.04802274e-48, ...,\n",
      "         1.05659587e-01, -2.14846825e-49, -2.09581627e-48],\n",
      "       [-4.77625418e-28, -8.05556778e-53,  3.44527770e-48, ...,\n",
      "        -2.14846825e-49,  1.05659587e-01, -9.55340287e-49],\n",
      "       [ 1.09521471e-27, -2.35056562e-53, -8.70950111e-48, ...,\n",
      "        -2.09581627e-48, -9.55340287e-49,  1.05659587e-01]]), 'sig2': 0.010565965294093711, 'modelIdx': array([9]), 'Zmed': array([1.]), 'Wsel': array([0.87590742]), 'Wcov': array([0.00574956])}\n"
     ]
    }
   ],
   "source": [
    "tol = 0.0001\n",
    "verbosity = True\n",
    "initz0 = initz0\n",
    "DS = Variational_Bayes_Code(D, xdts, initz0, tol, verbosity)\n",
    "\n",
    "print(DS) "
   ]
  },
  {
   "cell_type": "code",
   "execution_count": 53,
   "metadata": {},
   "outputs": [
    {
     "name": "stdout",
     "output_type": "stream",
     "text": [
      "\n",
      "1.003521987767179\n"
     ]
    },
    {
     "data": {
      "image/png": "[encoded data removed]",
      "text/plain": [
       "<Figure size 432x288 with 1 Axes>"
      ]
     },
     "metadata": {
      "needs_background": "light"
     },
     "output_type": "display_data"
    }
   ],
   "source": [
    "zmean21 = DS['zmean']\n",
    "wmean21 = DS['wmean']\n",
    "zmean21[np.where(np.diag(DS['wCOV'])>5e-4)] = 0\n",
    "plt.stem(zmean21)\n",
    "wmean21[np.where(np.diag(DS['wCOV'])>5e-4)] = 0\n",
    "print()\n",
    "print(np.sqrt(wmean21[0]))"
   ]
  },
  {
   "cell_type": "markdown",
   "metadata": {},
   "source": [
    "# Diffusion 20"
   ]
  },
  {
   "cell_type": "code",
   "execution_count": 26,
   "metadata": {},
   "outputs": [],
   "source": [
    "xdts = xzs22"
   ]
  },
  {
   "cell_type": "code",
   "execution_count": 27,
   "metadata": {},
   "outputs": [
    {
     "name": "stdout",
     "output_type": "stream",
     "text": [
      "{'Relevant': matlab.double([[1.0],[3.0],[7.0],[11.0],[14.0],[22.0],[33.0],[57.0],[64.0],[73.0]]), 'Value': matlab.double([[1.0091846008703866],[2.429582323364784],[2.330516849804251],[1.330512004452653],[0.014250350260624805],[-0.07881647569388553],[-75.37782043650094],[-2.1383648735396967],[0.445369865427977],[-0.7637924306420544]])}\n"
     ]
    }
   ],
   "source": [
    "#!/usr/bin/env python\n",
    "\"\"\"\n",
    "Sample script that uses the SparseBayes module created using\n",
    "MATLAB Compiler SDK.\n",
    "\n",
    "Refer to the MATLAB Compiler SDK documentation for more information.\n",
    "\"\"\"\n",
    "\n",
    "from __future__ import print_function\n",
    "import SparseBayes\n",
    "import matlab\n",
    "\n",
    "my_SparseBayes = SparseBayes.initialize()\n",
    "\n",
    "DictIn = matlab.double(Dict, size=(D.shape[0], D.shape[1]))\n",
    "targetIn = matlab.double(xdts, size=(D.shape[0], 1))\n",
    "DMOut = my_SparseBayes.SparseBayes(DictIn, targetIn)\n",
    "print(DMOut, sep='\\n')\n",
    "\n",
    "my_SparseBayes.terminate()"
   ]
  },
  {
   "cell_type": "code",
   "execution_count": 28,
   "metadata": {},
   "outputs": [
    {
     "name": "stdout",
     "output_type": "stream",
     "text": [
      "1.0091846008703866\n"
     ]
    }
   ],
   "source": [
    "print(abs(DMOut['Value'][0][0]))"
   ]
  },
  {
   "cell_type": "code",
   "execution_count": 29,
   "metadata": {},
   "outputs": [
    {
     "name": "stdout",
     "output_type": "stream",
     "text": [
      "[1. 0. 1. 0. 0. 0. 1. 0. 0. 0. 1. 0. 0. 1. 0. 0. 0. 0. 0. 0. 0. 1. 0. 0.\n",
      " 0. 0. 0. 0. 0. 0. 0. 0. 1. 0. 0. 0. 0. 0. 0. 0. 0. 0. 0. 0. 0. 0. 0. 0.\n",
      " 0. 0. 0. 0. 0. 0. 0. 0. 1. 0. 0. 0. 0. 0. 0. 1. 0. 0. 0. 0. 0. 0. 0. 0.\n",
      " 1. 0. 0. 0. 0. 0. 0. 0. 0.]\n"
     ]
    }
   ],
   "source": [
    "c = np.array(DMOut['Value'])\n",
    "d = []\n",
    "for j in c:\n",
    "    d.append(j[0])\n",
    "    \n",
    "a = np.array(DMOut['Relevant'])\n",
    "b = []\n",
    "for i in a:\n",
    "    b.append(int((i[0])-1))\n",
    "    \n",
    "initz0 = np.zeros(D.shape[1])\n",
    "for i in b:\n",
    "    initz0[i] = 1\n",
    "    \n",
    "print(initz0)"
   ]
  },
  {
   "cell_type": "code",
   "execution_count": 30,
   "metadata": {},
   "outputs": [
    {
     "name": "stderr",
     "output_type": "stream",
     "text": [
      "C:\\Users\\USER\\AppData\\Local\\Temp/ipykernel_3928/3512855728.py:147: RuntimeWarning: divide by zero encountered in log\n",
      "  + np.nansum((1-zm)*(np.log(1-p0) - np.log(1-zm))))\n",
      "C:\\Users\\USER\\AppData\\Local\\Temp/ipykernel_3928/3512855728.py:147: RuntimeWarning: invalid value encountered in multiply\n",
      "  + np.nansum((1-zm)*(np.log(1-p0) - np.log(1-zm))))\n",
      "C:\\Users\\USER\\AppData\\Local\\Temp/ipykernel_3928/3512855728.py:174: RuntimeWarning: overflow encountered in exp\n",
      "  expitC = 1./(1 + np.exp(-C))\n"
     ]
    },
    {
     "name": "stdout",
     "output_type": "stream",
     "text": [
      "Iteration = 0  log(Likelihood) = 7992.116701362584\n"
     ]
    },
    {
     "name": "stderr",
     "output_type": "stream",
     "text": [
      "C:\\Users\\USER\\AppData\\Local\\Temp/ipykernel_3928/3512855728.py:146: RuntimeWarning: divide by zero encountered in log\n",
      "  + np.nansum(zm*(np.log(p0) - np.log(zm)))\n",
      "C:\\Users\\USER\\AppData\\Local\\Temp/ipykernel_3928/3512855728.py:146: RuntimeWarning: invalid value encountered in multiply\n",
      "  + np.nansum(zm*(np.log(p0) - np.log(zm)))\n"
     ]
    },
    {
     "name": "stdout",
     "output_type": "stream",
     "text": [
      "Iteration = 1  log(Likelihood) = 8052.8781108596795\n",
      "Iteration = 2  log(Likelihood) = 8052.8793215155765\n",
      "Iteration = 3  log(Likelihood) = 8052.879321593269\n",
      "{'zmean': array([1.00000000e+00, 2.29600830e-50, 8.78612670e-23, 6.04666528e-41,\n",
      "       9.06022906e-23, 3.35181974e-38, 9.41734261e-23, 3.30423442e-45,\n",
      "       9.62959431e-23, 0.00000000e+00, 1.00000000e+00, 0.00000000e+00,\n",
      "       3.00316964e-46, 1.00000000e+00, 5.06772138e-45, 0.00000000e+00,\n",
      "       6.75275797e-44, 2.09032484e-38, 1.76221634e-22, 6.78521108e-28,\n",
      "       1.76697287e-22, 4.02364418e-26, 1.77038786e-22, 2.66788400e-26,\n",
      "       1.76510944e-22, 1.63624761e-22, 1.91884096e-22, 1.70012298e-22,\n",
      "       1.91925416e-22, 1.66577351e-22, 1.91983017e-22, 1.69975550e-22,\n",
      "       1.92036644e-22, 8.12332012e-27, 1.78866716e-22, 6.94266340e-32,\n",
      "       1.80586138e-22, 4.93378592e-26, 1.81902980e-22, 5.65387871e-25,\n",
      "       1.81982903e-22, 1.65716879e-22, 1.91925759e-22, 1.71582246e-22,\n",
      "       1.91946805e-22, 1.67024696e-22, 1.91990983e-22, 1.71150761e-22,\n",
      "       1.92046061e-22, 3.69285619e-26, 1.77251082e-22, 1.30030769e-25,\n",
      "       1.77861265e-22, 7.99460753e-30, 1.80000761e-22, 4.17972143e-25,\n",
      "       1.81312677e-22, 1.66885936e-22, 1.91984023e-22, 1.74195568e-22,\n",
      "       1.91992030e-22, 1.68789045e-22, 1.92018714e-22, 1.71442676e-22,\n",
      "       1.92065931e-22, 1.25765080e-27, 1.72425376e-22, 1.21861843e-25,\n",
      "       1.74122519e-22, 6.68738701e-26, 1.75528533e-22, 1.09633025e-30,\n",
      "       1.77977523e-22, 1.68451699e-22, 1.92038072e-22, 1.75297823e-22,\n",
      "       1.92047163e-22, 1.71211979e-22, 1.92065790e-22, 1.72508968e-22,\n",
      "       1.92088739e-22]), 'wmean': array([ 1.00308299e+00, -1.08337355e-49, -1.71497252e-24, -3.36019740e-40,\n",
      "       -2.71404299e-24, -1.97226281e-37,  1.88206847e-24, -7.63594615e-45,\n",
      "        2.08867423e-24,  0.00000000e+00,  6.21384375e-01,  0.00000000e+00,\n",
      "        1.94202415e-46,  1.08081537e-01,  2.77441353e-45,  0.00000000e+00,\n",
      "        3.06874174e-44, -8.50141505e-38, -1.18210243e-23, -6.32658626e-28,\n",
      "       -1.13802605e-23, -1.01213135e-25, -1.12117565e-23, -5.29461009e-26,\n",
      "       -1.52510089e-23, -4.32089481e-25, -4.75748273e-24, -1.17090776e-24,\n",
      "       -3.99662314e-24,  8.27038217e-24, -3.35685760e-24,  1.40116163e-23,\n",
      "       -3.65465813e-24, -2.46970928e-26, -4.52424520e-23, -2.15589452e-31,\n",
      "       -4.50440572e-23, -1.69938972e-25, -4.22756388e-23, -1.28942570e-24,\n",
      "       -4.31901650e-23, -9.79431175e-25, -3.99841449e-24,  8.51066768e-25,\n",
      "       -3.25163812e-24,  6.29356332e-24, -2.69761252e-24,  1.26923620e-23,\n",
      "       -2.96178415e-24, -9.61262355e-26, -6.42508678e-23, -4.19000776e-25,\n",
      "       -6.49213923e-23, -3.92804037e-29, -5.90535641e-23, -6.34057713e-25,\n",
      "       -5.62342768e-23,  1.51564785e-24, -3.27462235e-24,  3.50711749e-24,\n",
      "       -2.65755124e-24,  1.04168156e-23, -2.12696832e-24,  1.75394174e-23,\n",
      "       -2.32479407e-24, -2.34014806e-27, -4.46357308e-23, -2.06528154e-25,\n",
      "       -4.59142154e-23, -7.48714467e-26, -4.32337702e-23, -2.55019086e-30,\n",
      "       -4.54219944e-23,  5.21420718e-24, -3.32172969e-24,  2.69166198e-24,\n",
      "       -2.80481741e-24,  1.23559098e-23, -2.29655628e-24,  1.62302797e-23,\n",
      "       -2.29051837e-24]), 'wCOV': array([[ 2.75306074e-05, -7.11111084e-53,  5.63370536e-27, ...,\n",
      "         2.15832722e-27,  1.08289418e-26,  1.80261077e-27],\n",
      "       [-7.11111084e-53,  1.13008414e-01,  1.79436035e-74, ...,\n",
      "         8.24270790e-75,  1.04329248e-73,  6.54911935e-75],\n",
      "       [ 5.63370536e-27,  1.79436035e-74,  1.13008414e-01, ...,\n",
      "        -2.29347821e-47, -2.61467884e-47, -2.10859065e-47],\n",
      "       ...,\n",
      "       [ 2.15832722e-27,  8.24270790e-75, -2.29347821e-47, ...,\n",
      "         1.13008414e-01, -1.12522070e-47, -4.83314746e-48],\n",
      "       [ 1.08289418e-26,  1.04329248e-73, -2.61467884e-47, ...,\n",
      "        -1.12522070e-47,  1.13008414e-01, -1.06044746e-47],\n",
      "       [ 1.80261077e-27,  6.54911935e-75, -2.10859065e-47, ...,\n",
      "        -4.83314746e-48, -1.06044746e-47,  1.13008414e-01]]), 'sig2': 0.011300846982081135, 'modelIdx': array([ 9, 12]), 'Zmed': array([1., 1.]), 'Wsel': array([0.62138438, 0.10808154]), 'Wcov': array([0.03102679, 0.00112802])}\n"
     ]
    }
   ],
   "source": [
    "\n",
    "\n",
    "X = D\n",
    "y = xdts\n",
    "initz0 = initz0\n",
    "tol = 0.0001\n",
    "verbosity = True\n",
    "DS = Variational_Bayes_Code(X, y, initz0, tol, verbosity)\n",
    "print(DS)"
   ]
  },
  {
   "cell_type": "code",
   "execution_count": 33,
   "metadata": {},
   "outputs": [
    {
     "name": "stdout",
     "output_type": "stream",
     "text": [
      "\n",
      "1.0015403079287326\n"
     ]
    },
    {
     "data": {
      "image/png": "[encoded data removed]",
      "text/plain": [
       "<Figure size 432x288 with 1 Axes>"
      ]
     },
     "metadata": {
      "needs_background": "light"
     },
     "output_type": "display_data"
    }
   ],
   "source": [
    "zmean20 = DS['zmean']\n",
    "wmean20 = DS['wmean']\n",
    "zmean20[np.where(np.diag(DS['wCOV'])>5e-4)] = 0\n",
    "plt.stem(zmean20)\n",
    "wmean20[np.where(np.diag(DS['wCOV'])>5e-4)] = 0\n",
    "print()\n",
    "print(np.sqrt(wmean20[0]))"
   ]
  },
  {
   "cell_type": "markdown",
   "metadata": {},
   "source": [
    "# Diffusion 19"
   ]
  },
  {
   "cell_type": "code",
   "execution_count": 2,
   "metadata": {},
   "outputs": [],
   "source": [
    "import numpy as np\n",
    "import matplotlib.pyplot as plt\n",
    "\"\"\"\n",
    "A MDOF system excited by random noise\n",
    "----------------------------------------------------------------------\n",
    "\"\"\"\n",
    "\n",
    "def drift_mat(dof,k,c,m):\n",
    "    dim = 2 * dof\n",
    "    A = np.zeros((dim,dim))\n",
    "    \n",
    "    for i in range(dim):\n",
    "        if (i%2 == 0):\n",
    "            A[i][i+1] = 1\n",
    "    \n",
    "        elif(i==1):\n",
    "            A[i][i-1] = -(k+k)/m\n",
    "            A[i][i] = -(c+c)/m\n",
    "            A[i][i+1] = k/m\n",
    "            A[i][i+2] = c/m\n",
    "    \n",
    "        elif(i==dim-1):\n",
    "            A[i][i] = -c/m\n",
    "            A[i][i-1] = -k/m\n",
    "            A[i][i-2] = c/m\n",
    "            A[i][i-3] = k/m\n",
    "            \n",
    "        else:\n",
    "            A[i][i-3] = k/m \n",
    "            A[i][i-2] = c/m\n",
    "            A[i][i-1] = -(k+k)/m\n",
    "            A[i][i] = -(c+c)/m\n",
    "            A[i][i+1] = k/m\n",
    "            A[i][i+2] = c/m\n",
    "    return A\n",
    "\n",
    "def M_DOF_sys(x_initial, dof, T):\n",
    "    # parameters of M_DOF_sys in Equation\n",
    "    m = 1\n",
    "    c = 2\n",
    "    k = 3000\n",
    "    sigma = 1\n",
    "    \n",
    "    # solution by euler maruyama\n",
    "    # -------------------------------------------------------\n",
    "    dt = 0.0001\n",
    "    t = np.arange(0, T+dt, dt)\n",
    "    Nsamp = 200 # no. of samples in the run\n",
    "    \n",
    "    y3 = []\n",
    "    y4 = []\n",
    "    y5 = []\n",
    "    y6 = []\n",
    "    y7 = []\n",
    "    y8 = []\n",
    "    y9 = []\n",
    "    y10 = []\n",
    "    \n",
    "    xz2 = []\n",
    "    xz3 = []\n",
    "    xz4 = []\n",
    "    xz5 = []\n",
    "    \n",
    "    xzs22 = []\n",
    "    xzs33 = []\n",
    "    xzs44 = []\n",
    "    xzs55 = []\n",
    "    \n",
    "    # Simulation Starts Here ::\n",
    "    # -------------------------------------------------------\n",
    "    for ensemble in range(Nsamp):\n",
    "        x0 = x_initial\n",
    "        x = x0                              # initial condition.\n",
    "        if ensemble%50==0:\n",
    "            print(ensemble)\n",
    "        for n in range(len(t)-1):\n",
    "            dW = np.sqrt(dt)*np.random.randn(2*dof)\n",
    "            \n",
    "            '''LINEAR PART DRIFT'''\n",
    "        \n",
    "            A = drift_mat(dof,k,c,m)\n",
    "            \n",
    "            \n",
    "            '''DIFFUSION TERM  = b'''\n",
    "            diffu_arr = np.zeros(2*dof)\n",
    "            for i in range(2*dof):\n",
    "                if (i%2 != 0):\n",
    "                    diffu_arr[i] = sigma/m\n",
    "            \n",
    "            soln_arr = x0 + np.matmul(A,x0)*dt + diffu_arr*dW        \n",
    "            x0 = soln_arr\n",
    "            x = np.column_stack((x, x0))\n",
    "            \n",
    "\n",
    "        y3.append(x[-3,:])\n",
    "        y4.append(x[-4,:])\n",
    "        y5.append(x[-5,:])     # Displacement\n",
    "        y6.append(x[-6,:])\n",
    "        y7.append(x[-7,:])     # Displacement\n",
    "        y8.append(x[-8,:])\n",
    "        y9.append(x[-9,:])\n",
    "        y10.append(x[-10,:])\n",
    "        \n",
    "        zint2 = x[-3, 0:-1]\n",
    "        xfinal2 = x[-3, 1:] \n",
    "        xmz2 = (xfinal2 - zint2) \n",
    "        \n",
    "        zint3 = x[-5, 0:-1]\n",
    "        xfinal3 = x[-5, 1:] \n",
    "        xmz3 = (xfinal3 - zint3) \n",
    "                  \n",
    "        zint4 = x[-7, 0:-1]\n",
    "        xfinal4 = x[-7, 1:] \n",
    "        xmz4 = (xfinal4 - zint4)\n",
    "        \n",
    "        zint5 = x[-9, 0:-1]\n",
    "        xfinal5 = x[-9, 1:] \n",
    "        xmz5 = (xfinal5 - zint5)\n",
    "        \n",
    "        xz2.append(xmz2)\n",
    "        xz3.append(xmz3)\n",
    "        xz4.append(xmz4)\n",
    "        xz5.append(xmz5)\n",
    "        \n",
    "        xmzsq22 = np.multiply(xmz2, xmz2)\n",
    "        xzs22.append(xmzsq22)\n",
    "        \n",
    "        xmzsq33 = np.multiply(xmz3, xmz3)\n",
    "        xzs33.append(xmzsq33)\n",
    "        \n",
    "        xmzsq44 = np.multiply(xmz4, xmz4)\n",
    "        xzs44.append(xmzsq44)\n",
    "        \n",
    "        xmzsq55 = np.multiply(xmz5, xmz5)\n",
    "        xzs55.append(xmzsq55)\n",
    "        \n",
    "    \n",
    "    xz2 = pow(dt,-1)*np.mean(np.array(xz2), axis = 0)\n",
    "    xz3 = pow(dt,-1)*np.mean(np.array(xz3), axis = 0)\n",
    "    xz4 = pow(dt,-1)*np.mean(np.array(xz4), axis = 0)\n",
    "    xz5 = pow(dt,-1)*np.mean(np.array(xz5), axis = 0)\n",
    "\n",
    "    xzs22 = pow(dt,-1)*np.mean(np.array(xzs22), axis = 0)\n",
    "    xzs33 = pow(dt,-1)*np.mean(np.array(xzs33), axis = 0) \n",
    "    xzs44 = pow(dt,-1)*np.mean(np.array(xzs44), axis = 0)\n",
    "    xzs55 = pow(dt,-1)*np.mean(np.array(xzs55), axis = 0)\n",
    "\n",
    "    y3 = np.array(y3)\n",
    "    y4 = np.array(y4)\n",
    "    y5 = np.array(y5)\n",
    "    y6 = np.array(y6)\n",
    "    y7 = np.array(y7)\n",
    "    y8 = np.array(y8)\n",
    "    y9 = np.array(y9)\n",
    "    y10 = np.array(y10)\n",
    "\n",
    "    time = t[0:-1]\n",
    "    return xz2, xz3, xz4, xz5, xzs22, xzs33, xzs44, xzs55, y3, y4, y5, y6, y7, y8, y9, y10, time"
   ]
  },
  {
   "cell_type": "code",
   "execution_count": 4,
   "metadata": {},
   "outputs": [
    {
     "name": "stdout",
     "output_type": "stream",
     "text": [
      "0\n",
      "50\n",
      "100\n",
      "150\n",
      "\n"
     ]
    },
    {
     "data": {
      "text/plain": [
       "23.946906622250875"
      ]
     },
     "execution_count": 4,
     "metadata": {},
     "output_type": "execute_result"
    }
   ],
   "source": [
    "import time\n",
    "start = time.time()\n",
    "xz2, xz3, xz4, xz5, xzs22, xzs33, xzs44, xzs55, y3, y4, y5, y6, y7, y8, y9, y10, time_ = M_DOF_sys(x_initial, dof, T)\n",
    "end = time.time()\n",
    "print()\n",
    "TIMES = (end - start)/60\n",
    "TIMES"
   ]
  },
  {
   "cell_type": "code",
   "execution_count": 5,
   "metadata": {},
   "outputs": [
    {
     "name": "stdout",
     "output_type": "stream",
     "text": [
      "\n"
     ]
    },
    {
     "data": {
      "text/plain": [
       "5.4169628063837685"
      ]
     },
     "execution_count": 5,
     "metadata": {},
     "output_type": "execute_result"
    }
   ],
   "source": [
    "startD = time.time()\n",
    "# Expected Dictionary Creation:\n",
    "libr = []\n",
    "for j in range(len(y3)):\n",
    "    data = np.row_stack((y3[j,0:-1], y4[j,0:-1], y5[j,0:-1], y6[j,0:-1], y7[j,0:-1], y8[j,0:-1], y9[j,0:-1], y10[j,0:-1]))\n",
    "    Dtemp, nl = library(data, 1, 0)\n",
    "    libr.append(Dtemp)\n",
    "libr = np.array(libr)\n",
    "Dictionary= np.mean(libr, axis = 0)\n",
    "print()\n",
    "endD = time.time()\n",
    "TIMED = (endD - startD)/60\n",
    "TIMED"
   ]
  },
  {
   "cell_type": "code",
   "execution_count": 17,
   "metadata": {},
   "outputs": [],
   "source": [
    "xdts = xzs33\n",
    "D = Dictionary"
   ]
  },
  {
   "cell_type": "code",
   "execution_count": 19,
   "metadata": {},
   "outputs": [
    {
     "data": {
      "text/plain": [
       "(810000,)"
      ]
     },
     "execution_count": 19,
     "metadata": {},
     "output_type": "execute_result"
    }
   ],
   "source": [
    "Dict = D.reshape(-1,order='F')\n",
    "Dict.shape"
   ]
  },
  {
   "cell_type": "code",
   "execution_count": 20,
   "metadata": {
    "scrolled": true
   },
   "outputs": [
    {
     "name": "stdout",
     "output_type": "stream",
     "text": [
      "{'Relevant': matlab.double([[1.0],[10.0],[16.0],[66.0]]), 'Value': matlab.double([[0.9902377164137997],[0.03770046080843809],[0.1735159119427114],[-0.0015400485285265032]])}\n"
     ]
    }
   ],
   "source": [
    "#!/usr/bin/env python\n",
    "\"\"\"\n",
    "Sample script that uses the SparseBayes module created using\n",
    "MATLAB Compiler SDK.\n",
    "\n",
    "Refer to the MATLAB Compiler SDK documentation for more information.\n",
    "\"\"\"\n",
    "\n",
    "from __future__ import print_function\n",
    "import SparseBayes\n",
    "import matlab\n",
    "\n",
    "my_SparseBayes = SparseBayes.initialize()\n",
    "\n",
    "DictIn = matlab.double(Dict, size=(D.shape[0], D.shape[1]))\n",
    "targetIn = matlab.double(xdts, size=(D.shape[0], 1))\n",
    "DMOut = my_SparseBayes.SparseBayes(DictIn, targetIn)\n",
    "print(DMOut, sep='\\n')\n",
    "\n",
    "my_SparseBayes.terminate()"
   ]
  },
  {
   "cell_type": "code",
   "execution_count": 21,
   "metadata": {},
   "outputs": [
    {
     "name": "stdout",
     "output_type": "stream",
     "text": [
      "[1. 0. 0. 0. 0. 0. 0. 0. 0. 1. 0. 0. 0. 0. 0. 1. 0. 0. 0. 0. 0. 0. 0. 0.\n",
      " 0. 0. 0. 0. 0. 0. 0. 0. 0. 0. 0. 0. 0. 0. 0. 0. 0. 0. 0. 0. 0. 0. 0. 0.\n",
      " 0. 0. 0. 0. 0. 0. 0. 0. 0. 0. 0. 0. 0. 0. 0. 0. 0. 1. 0. 0. 0. 0. 0. 0.\n",
      " 0. 0. 0. 0. 0. 0. 0. 0. 0.]\n"
     ]
    }
   ],
   "source": [
    "c = np.array(DMOut['Value'])\n",
    "d = []\n",
    "for j in c:\n",
    "    d.append(j[0])\n",
    "    \n",
    "a = np.array(DMOut['Relevant'])\n",
    "b = []\n",
    "for i in a:\n",
    "    b.append(int((i[0])-1))\n",
    "    \n",
    "initz0 = np.zeros(D.shape[1])\n",
    "for i in b:\n",
    "    initz0[i] = 1\n",
    "    \n",
    "print(initz0)"
   ]
  },
  {
   "cell_type": "code",
   "execution_count": 24,
   "metadata": {},
   "outputs": [
    {
     "name": "stderr",
     "output_type": "stream",
     "text": [
      "C:\\Users\\USER\\AppData\\Local\\Temp/ipykernel_6656/3512855728.py:147: RuntimeWarning: divide by zero encountered in log\n",
      "  + np.nansum((1-zm)*(np.log(1-p0) - np.log(1-zm))))\n",
      "C:\\Users\\USER\\AppData\\Local\\Temp/ipykernel_6656/3512855728.py:147: RuntimeWarning: invalid value encountered in multiply\n",
      "  + np.nansum((1-zm)*(np.log(1-p0) - np.log(1-zm))))\n",
      "C:\\Users\\USER\\AppData\\Local\\Temp/ipykernel_6656/3512855728.py:174: RuntimeWarning: overflow encountered in exp\n",
      "  expitC = 1./(1 + np.exp(-C))\n"
     ]
    },
    {
     "name": "stdout",
     "output_type": "stream",
     "text": [
      "Iteration = 0  log(Likelihood) = 8155.180473104376\n"
     ]
    },
    {
     "name": "stderr",
     "output_type": "stream",
     "text": [
      "C:\\Users\\USER\\AppData\\Local\\Temp/ipykernel_6656/3512855728.py:146: RuntimeWarning: divide by zero encountered in log\n",
      "  + np.nansum(zm*(np.log(p0) - np.log(zm)))\n",
      "C:\\Users\\USER\\AppData\\Local\\Temp/ipykernel_6656/3512855728.py:146: RuntimeWarning: invalid value encountered in multiply\n",
      "  + np.nansum(zm*(np.log(p0) - np.log(zm)))\n"
     ]
    },
    {
     "name": "stdout",
     "output_type": "stream",
     "text": [
      "Iteration = 1  log(Likelihood) = 8215.956005206643\n",
      "Iteration = 2  log(Likelihood) = 8215.957103866149\n",
      "Iteration = 3  log(Likelihood) = 8215.957103936697\n",
      "{'zmean': array([1.00000000e+00, 1.54630055e-43, 9.42941083e-23, 7.33794871e-38,\n",
      "       9.74583618e-23, 1.66730121e-38, 1.00199488e-22, 5.63100705e-44,\n",
      "       1.03734307e-22, 1.00000000e+00, 3.72808512e-45, 0.00000000e+00,\n",
      "       4.69166888e-44, 0.00000000e+00, 6.59458148e-43, 1.00000000e+00,\n",
      "       7.85266460e-42, 4.22169470e-31, 1.83787807e-22, 3.22605442e-25,\n",
      "       1.83513435e-22, 1.32592253e-25, 1.82861108e-22, 9.80201669e-26,\n",
      "       1.83270490e-22, 1.75015484e-22, 1.91961846e-22, 1.74522977e-22,\n",
      "       1.92007668e-22, 1.77216968e-22, 1.92057804e-22, 1.74964933e-22,\n",
      "       1.92117674e-22, 1.36470316e-24, 1.83749512e-22, 2.45515167e-29,\n",
      "       1.84166144e-22, 4.95780034e-26, 1.83912709e-22, 3.13241019e-25,\n",
      "       1.84113338e-22, 1.76132053e-22, 1.92007872e-22, 1.75221028e-22,\n",
      "       1.92034955e-22, 1.77708344e-22, 1.92083260e-22, 1.76726117e-22,\n",
      "       1.92139913e-22, 1.95840552e-24, 1.84151639e-22, 5.05959443e-26,\n",
      "       1.84214021e-22, 2.18517748e-30, 1.84028117e-22, 2.01876252e-25,\n",
      "       1.84626712e-22, 1.77309360e-22, 1.92056355e-22, 1.75877248e-22,\n",
      "       1.92082347e-22, 1.77838732e-22, 1.92118489e-22, 1.77997555e-22,\n",
      "       1.92166453e-22, 6.73838398e-25, 1.77310907e-22, 1.44706813e-25,\n",
      "       1.78587140e-22, 5.94449650e-26, 1.79520596e-22, 1.73123441e-31,\n",
      "       1.80385458e-22, 1.78518739e-22, 1.92113294e-22, 1.76542742e-22,\n",
      "       1.92137664e-22, 1.78036459e-22, 1.92166820e-22, 1.78703745e-22,\n",
      "       1.92200499e-22]), 'wmean': array([ 9.89705910e-01, -2.07468040e-43, -6.03322982e-24, -1.78224499e-38,\n",
      "       -5.69717519e-24,  1.42936586e-38, -3.62567380e-24, -1.63720363e-44,\n",
      "       -1.84006749e-24,  6.09881986e-02, -2.16408713e-46,  0.00000000e+00,\n",
      "       -6.12196232e-45,  0.00000000e+00, -1.19175563e-43,  1.52102939e-01,\n",
      "       -1.50531416e-42, -4.06408409e-31, -1.46402273e-23,  1.58627531e-25,\n",
      "       -1.27217691e-23, -1.49355730e-25, -9.53346338e-24, -3.28209225e-26,\n",
      "       -6.36631889e-24, -8.68507581e-24, -1.32592992e-25,  1.49706847e-25,\n",
      "       -1.40740257e-25,  1.21105613e-24, -5.77832981e-25, -1.00954041e-23,\n",
      "       -4.15209099e-25, -6.06301511e-25,  5.00251268e-25, -8.61491544e-30,\n",
      "       -5.38967227e-25, -3.87856660e-27, -2.44007105e-24,  1.89566006e-25,\n",
      "       -5.12460923e-24, -1.06875292e-23, -1.42095017e-25,  5.00775431e-24,\n",
      "       -1.21752224e-25, -3.31369021e-25, -4.89042744e-25, -1.10417934e-23,\n",
      "       -3.65263173e-25,  3.02884291e-26,  2.56218330e-24,  1.49473397e-26,\n",
      "        1.17017992e-24,  1.92204352e-30,  4.17334245e-25,  1.59048722e-25,\n",
      "        1.60164733e-24, -1.00376323e-23, -5.72222336e-25,  5.79134451e-24,\n",
      "       -4.77131359e-25, -1.36082015e-24, -7.91037671e-25, -1.08297494e-23,\n",
      "       -5.99322189e-25, -6.69202320e-25, -1.71438864e-24, -5.61086142e-26,\n",
      "       -3.56321259e-24,  5.48146178e-26, -8.50469213e-24, -7.38426138e-32,\n",
      "       -1.15431458e-23, -8.78702907e-24, -4.17077402e-25,  4.37643684e-24,\n",
      "       -3.27052225e-25,  7.53104948e-26, -6.07990922e-25, -8.79694772e-24,\n",
      "       -3.58067026e-25]), 'wCOV': array([[ 1.63994766e-05, -3.25325531e-46,  4.59394843e-26, ...,\n",
      "         5.56313044e-27,  2.41271299e-26,  5.32083639e-27],\n",
      "       [-3.25325531e-46,  1.09353827e-01, -1.05383762e-66, ...,\n",
      "        -1.24495642e-67,  7.29265637e-67, -7.51969550e-68],\n",
      "       [ 4.59394843e-26, -1.05383762e-66,  1.09353827e-01, ...,\n",
      "        -2.24984681e-47, -1.03232165e-46, -2.11992247e-47],\n",
      "       ...,\n",
      "       [ 5.56313044e-27, -1.24495642e-67, -2.24984681e-47, ...,\n",
      "         1.09353827e-01, -1.28420511e-47, -4.07627301e-48],\n",
      "       [ 2.41271299e-26,  7.29265637e-67, -1.03232165e-46, ...,\n",
      "        -1.28420511e-47,  1.09353827e-01, -1.29885388e-47],\n",
      "       [ 5.32083639e-27, -7.51969550e-68, -2.11992247e-47, ...,\n",
      "        -4.07627301e-48, -1.29885388e-47,  1.09353827e-01]]), 'sig2': 0.010935387866108355, 'modelIdx': array([ 8, 14]), 'Zmed': array([1., 1.]), 'Wsel': array([0.0609882 , 0.15210294]), 'Wcov': array([0.00224776, 0.0023276 ])}\n"
     ]
    }
   ],
   "source": [
    "tol = 0.0001\n",
    "verbosity = True\n",
    "initz0 = initz0\n",
    "DS = Variational_Bayes_Code(D, xdts, initz0, tol, verbosity)\n",
    "\n",
    "print(DS) "
   ]
  },
  {
   "cell_type": "code",
   "execution_count": 26,
   "metadata": {},
   "outputs": [
    {
     "name": "stdout",
     "output_type": "stream",
     "text": [
      "\n",
      "0.9948396401906255\n"
     ]
    },
    {
     "data": {
      "image/png": "[encoded data removed]",
      "text/plain": [
       "<Figure size 432x288 with 1 Axes>"
      ]
     },
     "metadata": {
      "needs_background": "light"
     },
     "output_type": "display_data"
    }
   ],
   "source": [
    "zmean19 = DS['zmean']\n",
    "wmean19 = DS['wmean']\n",
    "zmean19[np.where(np.diag(DS['wCOV'])>5e-4)] = 0\n",
    "plt.stem(zmean19)\n",
    "wmean19[np.where(np.diag(DS['wCOV'])>5e-4)] = 0\n",
    "print()\n",
    "print(np.sqrt(wmean19[0]))"
   ]
  },
  {
   "cell_type": "markdown",
   "metadata": {},
   "source": [
    "# Diffusion 18"
   ]
  },
  {
   "cell_type": "code",
   "execution_count": 22,
   "metadata": {},
   "outputs": [],
   "source": [
    "xdts = xzs44"
   ]
  },
  {
   "cell_type": "code",
   "execution_count": 23,
   "metadata": {},
   "outputs": [
    {
     "name": "stdout",
     "output_type": "stream",
     "text": [
      "{'Relevant': matlab.double([[1.0],[2.0],[8.0],[10.0],[16.0],[32.0],[44.0]]), 'Value': matlab.double([[0.9829104962907175],[0.017684805522163984],[0.07839617389488117],[0.03304306719188128],[0.23271855134551253],[-6.470732580911453],[2.3007160450505806]])}\n"
     ]
    }
   ],
   "source": [
    "#!/usr/bin/env python\n",
    "\"\"\"\n",
    "Sample script that uses the SparseBayes module created using\n",
    "MATLAB Compiler SDK.\n",
    "\n",
    "Refer to the MATLAB Compiler SDK documentation for more information.\n",
    "\"\"\"\n",
    "\n",
    "from __future__ import print_function\n",
    "import SparseBayes\n",
    "import matlab\n",
    "\n",
    "my_SparseBayes = SparseBayes.initialize()\n",
    "\n",
    "DictIn = matlab.double(Dict, size=(D.shape[0], D.shape[1]))\n",
    "targetIn = matlab.double(xdts, size=(D.shape[0], 1))\n",
    "DMOut = my_SparseBayes.SparseBayes(DictIn, targetIn)\n",
    "print(DMOut, sep='\\n')\n",
    "\n",
    "my_SparseBayes.terminate()"
   ]
  },
  {
   "cell_type": "code",
   "execution_count": 24,
   "metadata": {},
   "outputs": [
    {
     "name": "stdout",
     "output_type": "stream",
     "text": [
      "[1. 1. 0. 0. 0. 0. 0. 1. 0. 1. 0. 0. 0. 0. 0. 1. 0. 0. 0. 0. 0. 0. 0. 0.\n",
      " 0. 0. 0. 0. 0. 0. 0. 1. 0. 0. 0. 0. 0. 0. 0. 0. 0. 0. 0. 1. 0. 0. 0. 0.\n",
      " 0. 0. 0. 0. 0. 0. 0. 0. 0. 0. 0. 0. 0. 0. 0. 0. 0. 0. 0. 0. 0. 0. 0. 0.\n",
      " 0. 0. 0. 0. 0. 0. 0. 0. 0.]\n"
     ]
    }
   ],
   "source": [
    "c = np.array(DMOut['Value'])\n",
    "d = []\n",
    "for j in c:\n",
    "    d.append(j[0])\n",
    "    \n",
    "a = np.array(DMOut['Relevant'])\n",
    "b = []\n",
    "for i in a:\n",
    "    b.append(int((i[0])-1))\n",
    "    \n",
    "initz0 = np.zeros(D.shape[1])\n",
    "for i in b:\n",
    "    initz0[i] = 1\n",
    "    \n",
    "print(initz0)"
   ]
  },
  {
   "cell_type": "code",
   "execution_count": 25,
   "metadata": {},
   "outputs": [
    {
     "name": "stderr",
     "output_type": "stream",
     "text": [
      "C:\\Users\\USER\\AppData\\Local\\Temp/ipykernel_8308/3512855728.py:147: RuntimeWarning: divide by zero encountered in log\n",
      "  + np.nansum((1-zm)*(np.log(1-p0) - np.log(1-zm))))\n",
      "C:\\Users\\USER\\AppData\\Local\\Temp/ipykernel_8308/3512855728.py:147: RuntimeWarning: invalid value encountered in multiply\n",
      "  + np.nansum((1-zm)*(np.log(1-p0) - np.log(1-zm))))\n"
     ]
    },
    {
     "name": "stdout",
     "output_type": "stream",
     "text": [
      "Iteration = 0  log(Likelihood) = 8018.987274376397\n"
     ]
    },
    {
     "name": "stderr",
     "output_type": "stream",
     "text": [
      "C:\\Users\\USER\\AppData\\Local\\Temp/ipykernel_8308/3512855728.py:174: RuntimeWarning: overflow encountered in exp\n",
      "  expitC = 1./(1 + np.exp(-C))\n",
      "C:\\Users\\USER\\AppData\\Local\\Temp/ipykernel_8308/3512855728.py:146: RuntimeWarning: divide by zero encountered in log\n",
      "  + np.nansum(zm*(np.log(p0) - np.log(zm)))\n",
      "C:\\Users\\USER\\AppData\\Local\\Temp/ipykernel_8308/3512855728.py:146: RuntimeWarning: invalid value encountered in multiply\n",
      "  + np.nansum(zm*(np.log(p0) - np.log(zm)))\n"
     ]
    },
    {
     "name": "stdout",
     "output_type": "stream",
     "text": [
      "Iteration = 1  log(Likelihood) = 8080.679696471821\n",
      "Iteration = 2  log(Likelihood) = 8080.681013768153\n",
      "Iteration = 3  log(Likelihood) = 8080.681013852754\n",
      "{'zmean': array([1.00000000e+00, 1.03779976e-44, 7.55411416e-23, 9.40222294e-38,\n",
      "       7.77392759e-23, 3.06960338e-40, 7.87570967e-23, 5.40915085e-44,\n",
      "       8.02824102e-23, 1.00000000e+00, 5.17936668e-45, 0.00000000e+00,\n",
      "       6.31803465e-44, 0.00000000e+00, 8.69437121e-43, 1.00000000e+00,\n",
      "       1.05559104e-41, 1.99927977e-31, 1.83690765e-22, 3.35170308e-25,\n",
      "       1.83756451e-22, 8.82442483e-26, 1.83517237e-22, 9.99653712e-26,\n",
      "       1.83601217e-22, 1.70241695e-22, 1.91733040e-22, 1.70987811e-22,\n",
      "       1.91778638e-22, 1.73431593e-22, 1.91827727e-22, 1.72618070e-22,\n",
      "       1.91891685e-22, 2.90130405e-24, 1.83427429e-22, 8.63054035e-29,\n",
      "       1.84414650e-22, 3.92052896e-26, 1.84569960e-22, 4.06852234e-25,\n",
      "       1.84931014e-22, 1.71729764e-22, 1.91778589e-22, 1.71773995e-22,\n",
      "       1.91807153e-22, 1.73787727e-22, 1.91856160e-22, 1.74050602e-22,\n",
      "       1.91916921e-22, 1.78837715e-24, 1.82634556e-22, 2.87874845e-26,\n",
      "       1.82834521e-22, 9.16329248e-32, 1.83359503e-22, 8.63855208e-26,\n",
      "       1.84200671e-22, 1.72682198e-22, 1.91825723e-22, 1.72189051e-22,\n",
      "       1.91854975e-22, 1.73968319e-22, 1.91891050e-22, 1.75037293e-22,\n",
      "       1.91945180e-22, 4.61583594e-25, 1.77522850e-22, 1.67901645e-25,\n",
      "       1.78554238e-22, 3.22523612e-26, 1.79818899e-22, 2.48444333e-31,\n",
      "       1.80963577e-22, 1.73317973e-22, 1.91886348e-22, 1.72696056e-22,\n",
      "       1.91913342e-22, 1.74264943e-22, 1.91944808e-22, 1.75409939e-22,\n",
      "       1.91984353e-22]), 'wmean': array([ 9.90400238e-01,  7.28346270e-44, -1.50843177e-23, -1.07058773e-37,\n",
      "       -4.88574324e-24,  1.33928101e-40, -2.07328109e-24,  2.97388730e-43,\n",
      "        1.39324433e-24,  5.68461892e-02,  2.06234586e-45,  0.00000000e+00,\n",
      "        2.51838938e-44,  0.00000000e+00,  3.23979833e-43,  1.66613605e-01,\n",
      "        3.30857890e-42,  7.65484936e-31,  3.51018808e-23,  4.00068013e-25,\n",
      "        3.55350678e-23,  1.22778524e-25,  3.45555634e-23,  1.40444517e-25,\n",
      "        3.15787909e-23, -2.67122030e-23, -2.08100519e-24, -7.54881434e-24,\n",
      "       -1.25173345e-24,  7.49654927e-25, -8.71509357e-25, -5.33667385e-23,\n",
      "       -8.27257467e-25, -2.29625165e-24, -7.48943400e-24, -3.49445551e-29,\n",
      "       -5.33161775e-24, -5.46720313e-26, -6.15400982e-25, -2.37380028e-25,\n",
      "       -2.43784037e-24, -1.71719813e-23, -1.23072944e-24, -3.77188421e-24,\n",
      "       -4.62095948e-25,  4.04730066e-24, -9.38721602e-26, -4.19890615e-23,\n",
      "        1.43710890e-26,  2.38033449e-25,  1.02428698e-23, -9.74437074e-27,\n",
      "        1.52160989e-23, -1.05255455e-31,  1.70452135e-23,  3.20014570e-26,\n",
      "        1.55874095e-23, -1.60506899e-23, -8.54787514e-25, -7.59539879e-24,\n",
      "       -1.02684465e-25,  4.39908229e-24,  1.73413582e-25, -3.51720286e-23,\n",
      "        3.57976242e-25,  8.41780764e-25,  3.00370212e-23,  1.44999452e-25,\n",
      "        3.09030652e-23,  5.30404507e-26,  3.12325736e-23,  6.52660293e-31,\n",
      "        2.89774473e-23, -1.59297508e-23, -7.69599554e-25, -4.97086038e-24,\n",
      "        8.26497095e-27,  9.06867703e-24,  3.56290330e-25, -2.84200712e-23,\n",
      "        5.32747728e-25]), 'wCOV': array([[ 1.74371800e-05, -3.15334723e-47,  3.56436210e-26, ...,\n",
      "         6.55176683e-27,  2.30093103e-26,  6.21904849e-27],\n",
      "       [-3.15334723e-47,  1.12351135e-01, -7.87477376e-68, ...,\n",
      "        -1.39183149e-68,  5.32446183e-68, -1.08180246e-68],\n",
      "       [ 3.56436210e-26, -7.87477376e-68,  1.12351135e-01, ...,\n",
      "        -2.13158353e-47, -7.36774108e-47, -1.99861518e-47],\n",
      "       ...,\n",
      "       [ 6.55176683e-27, -1.39183149e-68, -2.13158353e-47, ...,\n",
      "         1.12351135e-01, -1.58529840e-47, -5.65026538e-48],\n",
      "       [ 2.30093103e-26,  5.32446183e-68, -7.36774108e-47, ...,\n",
      "        -1.58529840e-47,  1.12351135e-01, -1.58693255e-47],\n",
      "       [ 6.21904849e-27, -1.08180246e-68, -1.99861518e-47, ...,\n",
      "        -5.65026538e-48, -1.58693255e-47,  1.12351135e-01]]), 'sig2': 0.011235119270043, 'modelIdx': array([ 8, 14]), 'Zmed': array([1., 1.]), 'Wsel': array([0.05684619, 0.16661361]), 'Wcov': array([0.00200091, 0.00193611])}\n"
     ]
    }
   ],
   "source": [
    "X = D\n",
    "y = xdts\n",
    "initz0 = initz0\n",
    "tol = 0.0001\n",
    "verbosity = True\n",
    "DS = Variational_Bayes_Code(X, y, initz0, tol, verbosity)\n",
    "print(DS)"
   ]
  },
  {
   "cell_type": "code",
   "execution_count": 27,
   "metadata": {},
   "outputs": [
    {
     "name": "stdout",
     "output_type": "stream",
     "text": [
      "\n",
      "0.9951885440082008\n"
     ]
    },
    {
     "data": {
      "image/png": "[encoded data removed]",
      "text/plain": [
       "<Figure size 432x288 with 1 Axes>"
      ]
     },
     "metadata": {
      "needs_background": "light"
     },
     "output_type": "display_data"
    }
   ],
   "source": [
    "zmean18 = DS['zmean']\n",
    "wmean18 = DS['wmean']\n",
    "zmean18[np.where(np.diag(DS['wCOV'])>5e-4)] = 0\n",
    "plt.stem(zmean18)\n",
    "wmean18[np.where(np.diag(DS['wCOV'])>5e-4)] = 0\n",
    "print()\n",
    "print(np.sqrt(wmean18[0]))"
   ]
  },
  {
   "cell_type": "markdown",
   "metadata": {},
   "source": [
    "# Diffusion 17"
   ]
  },
  {
   "cell_type": "code",
   "execution_count": 2,
   "metadata": {},
   "outputs": [],
   "source": [
    "import numpy as np\n",
    "import matplotlib.pyplot as plt\n",
    "\"\"\"\n",
    "A MDOF system excited by random noise\n",
    "----------------------------------------------------------------------\n",
    "\"\"\"\n",
    "\n",
    "def drift_mat(dof,k,c,m):\n",
    "    dim = 2 * dof\n",
    "    A = np.zeros((dim,dim))\n",
    "    \n",
    "    for i in range(dim):\n",
    "        if (i%2 == 0):\n",
    "            A[i][i+1] = 1\n",
    "    \n",
    "        elif(i==1):\n",
    "            A[i][i-1] = -(k+k)/m\n",
    "            A[i][i] = -(c+c)/m\n",
    "            A[i][i+1] = k/m\n",
    "            A[i][i+2] = c/m\n",
    "    \n",
    "        elif(i==dim-1):\n",
    "            A[i][i] = -c/m\n",
    "            A[i][i-1] = -k/m\n",
    "            A[i][i-2] = c/m\n",
    "            A[i][i-3] = k/m\n",
    "            \n",
    "        else:\n",
    "            A[i][i-3] = k/m \n",
    "            A[i][i-2] = c/m\n",
    "            A[i][i-1] = -(k+k)/m\n",
    "            A[i][i] = -(c+c)/m\n",
    "            A[i][i+1] = k/m\n",
    "            A[i][i+2] = c/m\n",
    "    return A\n",
    "\n",
    "def M_DOF_sys(x_initial, dof, T):\n",
    "    # parameters of M_DOF_sys in Equation\n",
    "    m = 1\n",
    "    c = 2\n",
    "    k = 3000\n",
    "    sigma = 1\n",
    "    \n",
    "    # solution by euler maruyama\n",
    "    # -------------------------------------------------------\n",
    "    dt = 0.0001\n",
    "    t = np.arange(0, T+dt, dt)\n",
    "    Nsamp = 200 # no. of samples in the run\n",
    "    \n",
    "    y7 = [] \n",
    "    y8 = []\n",
    "    y9 = []\n",
    "    y10 = []\n",
    "    y11 = []\n",
    "    y12 = []\n",
    "    y13 = []\n",
    "    y14 = []\n",
    "    \n",
    "    xz5 = []\n",
    "    xz6 = []\n",
    "    \n",
    "    xzs55 = []\n",
    "    xzs66 = []\n",
    "    \n",
    "    # Simulation Starts Here ::\n",
    "    # -------------------------------------------------------\n",
    "    for ensemble in range(Nsamp):\n",
    "        x0 = x_initial\n",
    "        x = x0                              # initial condition.\n",
    "        for n in range(len(t)-1):\n",
    "            dW = np.sqrt(dt)*np.random.randn(2*dof)\n",
    "            \n",
    "            '''LINEAR PART DRIFT'''\n",
    "        \n",
    "            A = drift_mat(dof,k,c,m)\n",
    "            \n",
    "            '''DIFFUSION TERM  = b'''\n",
    "            diffu_arr = np.zeros(2*dof)\n",
    "            for i in range(2*dof):\n",
    "                if (i%2 != 0):\n",
    "                    diffu_arr[i] = sigma/m\n",
    "            \n",
    "            soln_arr = x0 + np.matmul(A,x0)*dt + diffu_arr*dW        \n",
    "            x0 = soln_arr\n",
    "            x = np.column_stack((x, x0))\n",
    "            \n",
    "        y7.append(x[-7,:])\n",
    "        y8.append(x[-8,:])\n",
    "        y9.append(x[-9,:])         # Displacement\n",
    "        y10.append(x[-10,:])\n",
    "        y11.append(x[-11,:])       # Displacement\n",
    "        y12.append(x[-12,:])\n",
    "        y13.append(x[-13,:])\n",
    "        y14.append(x[-14,:])\n",
    "        \n",
    "        zint5 = x[-9, 0:-1]        # Velocity\n",
    "        xfinal5 = x[-9, 1:] \n",
    "        xmz5 = (xfinal5 - zint5)\n",
    "        \n",
    "        zint6 = x[-11, 0:-1]       # Velocity\n",
    "        xfinal6 = x[-11, 1:] \n",
    "        xmz6 = (xfinal6 - zint6) \n",
    "\n",
    "        xz5.append(xmz5)\n",
    "        xz6.append(xmz6)\n",
    "        \n",
    "        xmzsq55 = np.multiply(xmz5, xmz5)\n",
    "        xzs55.append(xmzsq55)\n",
    "        \n",
    "        xmzsq66 = np.multiply(xmz6, xmz6)\n",
    "        xzs66.append(xmzsq66)\n",
    "        \n",
    "    xz5 = pow(dt,-1)*np.mean(np.array(xz5), axis = 0)\n",
    "    xz6 = pow(dt,-1)*np.mean(np.array(xz6), axis = 0)\n",
    "\n",
    "    xzs55 = pow(dt,-1)*np.mean(np.array(xzs55), axis = 0)\n",
    "    xzs66 = pow(dt,-1)*np.mean(np.array(xzs66), axis = 0)\n",
    "    \n",
    "    y7 = np.array(y7)\n",
    "    y8 = np.array(y8)\n",
    "    y9 = np.array(y9)\n",
    "    y10 = np.array(y10)\n",
    "    y11 = np.array(y11)\n",
    "    y12 = np.array(y12)\n",
    "    y13 = np.array(y13)\n",
    "    y14 = np.array(y14)\n",
    "\n",
    "    time = t[0:-1]\n",
    "    return xz5, xz6, xzs55, xzs66, y7, y8, y9, y10, y11, y12, y13, y14, time"
   ]
  },
  {
   "cell_type": "code",
   "execution_count": 4,
   "metadata": {},
   "outputs": [
    {
     "name": "stdout",
     "output_type": "stream",
     "text": [
      "\n"
     ]
    },
    {
     "data": {
      "text/plain": [
       "19.26790297428767"
      ]
     },
     "execution_count": 4,
     "metadata": {},
     "output_type": "execute_result"
    }
   ],
   "source": [
    "import time\n",
    "start = time.time()\n",
    "xz5, xz6, xzs55, xzs66, y7, y8, y9, y10, y11, y12, y13, y14, time_ = M_DOF_sys(x_initial, dof, T)\n",
    "end = time.time()\n",
    "print()\n",
    "TIMES = (end - start)/60\n",
    "TIMES"
   ]
  },
  {
   "cell_type": "code",
   "execution_count": 5,
   "metadata": {},
   "outputs": [
    {
     "name": "stdout",
     "output_type": "stream",
     "text": [
      "\n"
     ]
    },
    {
     "data": {
      "text/plain": [
       "5.142264139652252"
      ]
     },
     "execution_count": 5,
     "metadata": {},
     "output_type": "execute_result"
    }
   ],
   "source": [
    "startD = time.time()\n",
    "# Expected Dictionary Creation:\n",
    "libr = []\n",
    "for j in range(len(y7)):\n",
    "    data = np.row_stack((y7[j,0:-1], y8[j,0:-1], y9[j,0:-1], y10[j,0:-1], y11[j,0:-1], y12[j,0:-1], y13[j,0:-1], y14[j,0:-1]))\n",
    "    Dtemp, nl = library(data, 1, 0)\n",
    "    libr.append(Dtemp)\n",
    "libr = np.array(libr)\n",
    "Dictionary= np.mean(libr, axis = 0)\n",
    "print()\n",
    "endD = time.time()\n",
    "TIMED = (endD - startD)/60\n",
    "TIMED"
   ]
  },
  {
   "cell_type": "code",
   "execution_count": 8,
   "metadata": {},
   "outputs": [],
   "source": [
    "xdts = xzs55\n",
    "D = Dictionary"
   ]
  },
  {
   "cell_type": "code",
   "execution_count": 10,
   "metadata": {},
   "outputs": [
    {
     "data": {
      "text/plain": [
       "(810000,)"
      ]
     },
     "execution_count": 10,
     "metadata": {},
     "output_type": "execute_result"
    }
   ],
   "source": [
    "Dict = D.reshape(-1,order='F')\n",
    "Dict.shape"
   ]
  },
  {
   "cell_type": "code",
   "execution_count": 11,
   "metadata": {
    "scrolled": true
   },
   "outputs": [
    {
     "name": "stdout",
     "output_type": "stream",
     "text": [
      "{'Relevant': matlab.double([[1.0],[7.0],[10.0],[14.0],[17.0],[22.0],[28.0],[42.0],[57.0]]), 'Value': matlab.double([[0.9856522615091673],[-5.7769476953383165],[0.1295363697115176],[0.03147533666869072],[1.3237589182557283],[-0.06687716389813055],[-2.401986797694255],[5.998084705771243],[1.1545312026326244]])}\n"
     ]
    }
   ],
   "source": [
    "#!/usr/bin/env python\n",
    "\"\"\"\n",
    "Sample script that uses the SparseBayes module created using\n",
    "MATLAB Compiler SDK.\n",
    "\n",
    "Refer to the MATLAB Compiler SDK documentation for more information.\n",
    "\"\"\"\n",
    "\n",
    "from __future__ import print_function\n",
    "import SparseBayes\n",
    "import matlab\n",
    "\n",
    "my_SparseBayes = SparseBayes.initialize()\n",
    "\n",
    "DictIn = matlab.double(Dict, size=(D.shape[0], D.shape[1]))\n",
    "targetIn = matlab.double(xdts, size=(D.shape[0], 1))\n",
    "DMOut = my_SparseBayes.SparseBayes(DictIn, targetIn)\n",
    "print(DMOut, sep='\\n')\n",
    "\n",
    "my_SparseBayes.terminate()"
   ]
  },
  {
   "cell_type": "code",
   "execution_count": 12,
   "metadata": {},
   "outputs": [
    {
     "name": "stdout",
     "output_type": "stream",
     "text": [
      "[1. 0. 0. 0. 0. 0. 1. 0. 0. 1. 0. 0. 0. 1. 0. 0. 1. 0. 0. 0. 0. 1. 0. 0.\n",
      " 0. 0. 0. 1. 0. 0. 0. 0. 0. 0. 0. 0. 0. 0. 0. 0. 0. 1. 0. 0. 0. 0. 0. 0.\n",
      " 0. 0. 0. 0. 0. 0. 0. 0. 1. 0. 0. 0. 0. 0. 0. 0. 0. 0. 0. 0. 0. 0. 0. 0.\n",
      " 0. 0. 0. 0. 0. 0. 0. 0. 0.]\n"
     ]
    }
   ],
   "source": [
    "c = np.array(DMOut['Value'])\n",
    "d = []\n",
    "for j in c:\n",
    "    d.append(j[0])\n",
    "    \n",
    "a = np.array(DMOut['Relevant'])\n",
    "b = []\n",
    "for i in a:\n",
    "    b.append(int((i[0])-1))\n",
    "    \n",
    "initz0 = np.zeros(D.shape[1])\n",
    "for i in b:\n",
    "    initz0[i] = 1\n",
    "    \n",
    "print(initz0)"
   ]
  },
  {
   "cell_type": "code",
   "execution_count": 15,
   "metadata": {},
   "outputs": [
    {
     "name": "stderr",
     "output_type": "stream",
     "text": [
      "C:\\Users\\USER\\AppData\\Local\\Temp/ipykernel_2836/3512855728.py:147: RuntimeWarning: divide by zero encountered in log\n",
      "  + np.nansum((1-zm)*(np.log(1-p0) - np.log(1-zm))))\n",
      "C:\\Users\\USER\\AppData\\Local\\Temp/ipykernel_2836/3512855728.py:147: RuntimeWarning: invalid value encountered in multiply\n",
      "  + np.nansum((1-zm)*(np.log(1-p0) - np.log(1-zm))))\n",
      "C:\\Users\\USER\\AppData\\Local\\Temp/ipykernel_2836/3512855728.py:174: RuntimeWarning: overflow encountered in exp\n",
      "  expitC = 1./(1 + np.exp(-C))\n"
     ]
    },
    {
     "name": "stdout",
     "output_type": "stream",
     "text": [
      "Iteration = 0  log(Likelihood) = 8129.564433210797\n"
     ]
    },
    {
     "name": "stderr",
     "output_type": "stream",
     "text": [
      "C:\\Users\\USER\\AppData\\Local\\Temp/ipykernel_2836/3512855728.py:146: RuntimeWarning: divide by zero encountered in log\n",
      "  + np.nansum(zm*(np.log(p0) - np.log(zm)))\n",
      "C:\\Users\\USER\\AppData\\Local\\Temp/ipykernel_2836/3512855728.py:146: RuntimeWarning: invalid value encountered in multiply\n",
      "  + np.nansum(zm*(np.log(p0) - np.log(zm)))\n"
     ]
    },
    {
     "name": "stdout",
     "output_type": "stream",
     "text": [
      "Iteration = 1  log(Likelihood) = 8190.447440717977\n",
      "Iteration = 2  log(Likelihood) = 8190.448585261951\n",
      "Iteration = 3  log(Likelihood) = 8190.448585334923\n",
      "{'zmean': array([1.00000000e+00, 1.66730181e-38, 1.00199489e-22, 5.63100977e-44,\n",
      "       1.03734308e-22, 2.38497996e-47, 1.08812790e-22, 7.00823867e-46,\n",
      "       1.14856306e-22, 1.00000000e+00, 6.59458451e-43, 0.00000000e+00,\n",
      "       7.85266801e-42, 1.00000000e+00, 8.85067209e-41, 0.00000000e+00,\n",
      "       1.15476127e-39, 2.18517787e-30, 1.84028117e-22, 2.01876265e-25,\n",
      "       1.84626712e-22, 6.20710671e-25, 1.85024029e-22, 4.08420179e-25,\n",
      "       1.85656720e-22, 1.77838732e-22, 1.92118489e-22, 1.77997555e-22,\n",
      "       1.92166453e-22, 1.77758927e-22, 1.92234496e-22, 1.76846624e-22,\n",
      "       1.92304008e-22, 5.94449696e-26, 1.79520596e-22, 1.73123476e-31,\n",
      "       1.80385458e-22, 1.75285252e-25, 1.81391716e-22, 2.99022588e-26,\n",
      "       1.82201434e-22, 1.78036459e-22, 1.92166820e-22, 1.78703745e-22,\n",
      "       1.92200499e-22, 1.78194702e-22, 1.92265936e-22, 1.77201635e-22,\n",
      "       1.92330189e-22, 3.49646505e-26, 1.78532381e-22, 6.65341518e-27,\n",
      "       1.79532705e-22, 2.34453715e-33, 1.80551734e-22, 9.25262153e-27,\n",
      "       1.81662246e-22, 1.77696834e-22, 1.92234800e-22, 1.80155584e-22,\n",
      "       1.92265811e-22, 1.79650511e-22, 1.92315478e-22, 1.78270351e-22,\n",
      "       1.92370788e-22, 2.05284590e-25, 1.80951042e-22, 6.62727996e-26,\n",
      "       1.81140433e-22, 1.93707112e-26, 1.81594570e-22, 1.24594101e-30,\n",
      "       1.82447273e-22, 1.79216007e-22, 1.92304750e-22, 1.80601138e-22,\n",
      "       1.92330772e-22, 1.81259713e-22, 1.92371361e-22, 1.80092961e-22,\n",
      "       1.92413956e-22]), 'wmean': array([ 9.75953953e-01,  1.00620662e-38, -3.18883547e-23,  2.43199899e-44,\n",
      "       -2.96414431e-23, -3.90817752e-47, -3.15982394e-23, -3.43505413e-45,\n",
      "       -3.00922087e-23,  1.82730375e-01,  9.40141898e-44,  0.00000000e+00,\n",
      "        1.83198331e-42,  8.97140285e-02,  2.22755275e-41,  0.00000000e+00,\n",
      "        2.58695697e-40,  9.82372750e-31, -1.03143587e-23,  5.11731188e-26,\n",
      "       -8.96896038e-24, -7.41068386e-25, -1.06692921e-23,  7.69225869e-26,\n",
      "       -1.15860517e-23,  5.47975848e-24, -4.20364223e-24, -2.44078332e-23,\n",
      "       -3.54490794e-24, -3.25144491e-23, -3.25905187e-24, -2.13972383e-23,\n",
      "       -2.69562826e-24, -8.52135275e-27, -1.00825528e-24,  1.42910831e-31,\n",
      "        1.05735449e-24,  4.45016094e-26,  3.47273253e-24, -8.20522390e-27,\n",
      "        5.65568288e-24,  9.44532254e-24, -3.54902229e-24, -2.13583879e-23,\n",
      "       -3.11073320e-24, -3.08905760e-23, -2.94680114e-24, -1.99790675e-23,\n",
      "       -2.50657409e-24, -5.67229041e-26, -2.08855058e-23, -3.89552652e-27,\n",
      "       -1.86240922e-23, -1.56805886e-33, -1.33726835e-23, -2.21031338e-26,\n",
      "       -7.35396053e-24,  1.28827308e-23, -3.21308033e-24, -2.05844521e-23,\n",
      "       -2.94439140e-24, -3.08216583e-23, -2.94065881e-24, -2.06740720e-23,\n",
      "       -2.68129903e-24, -4.21111286e-25, -1.09214486e-23, -4.18521092e-26,\n",
      "       -1.58043974e-23, -4.52087052e-26, -1.40109044e-23, -3.23382392e-30,\n",
      "       -1.38257610e-23,  1.44599518e-23, -2.59707068e-24, -2.27386780e-23,\n",
      "       -2.47364003e-24, -2.87619011e-23, -2.65114935e-24, -2.17687933e-23,\n",
      "       -2.68340643e-24]), 'wCOV': array([[ 1.76450994e-05, -3.62617802e-41,  4.63291308e-26, ...,\n",
      "         4.52443996e-27,  1.90262965e-26,  4.19209753e-27],\n",
      "       [-3.62617802e-41,  1.09916589e-01, -4.87086875e-62, ...,\n",
      "        -8.09850114e-63,  3.05938301e-62, -8.87959631e-63],\n",
      "       [ 4.63291308e-26, -4.87086875e-62,  1.09916589e-01, ...,\n",
      "        -2.17981296e-47, -1.45253006e-46, -2.03175344e-47],\n",
      "       ...,\n",
      "       [ 4.52443996e-27, -8.09850114e-63, -2.17981296e-47, ...,\n",
      "         1.09916589e-01, -1.77127047e-47, -3.52263545e-48],\n",
      "       [ 1.90262965e-26,  3.05938301e-62, -1.45253006e-46, ...,\n",
      "        -1.77127047e-47,  1.09916589e-01, -1.67622232e-47],\n",
      "       [ 4.19209753e-27, -8.87959631e-63, -2.03175344e-47, ...,\n",
      "        -3.52263545e-48, -1.67622232e-47,  1.09916589e-01]]), 'sig2': 0.01099166416929316, 'modelIdx': array([ 8, 12]), 'Zmed': array([1., 1.]), 'Wsel': array([0.18273038, 0.08971403]), 'Wcov': array([0.00302225, 0.00280369])}\n"
     ]
    }
   ],
   "source": [
    "tol = 0.0001\n",
    "verbosity = True\n",
    "initz0 = initz0\n",
    "DS = Variational_Bayes_Code(D, xdts, initz0, tol, verbosity)\n",
    "\n",
    "print(DS) "
   ]
  },
  {
   "cell_type": "code",
   "execution_count": 18,
   "metadata": {},
   "outputs": [
    {
     "name": "stdout",
     "output_type": "stream",
     "text": [
      "\n",
      "0.9879038178340201\n"
     ]
    },
    {
     "data": {
      "image/png": "[encoded data removed]",
      "text/plain": [
       "<Figure size 432x288 with 1 Axes>"
      ]
     },
     "metadata": {
      "needs_background": "light"
     },
     "output_type": "display_data"
    }
   ],
   "source": [
    "zmean17 = DS['zmean']\n",
    "wmean17 = DS['wmean']\n",
    "zmean17[np.where(np.diag(DS['wCOV'])>5e-4)] = 0\n",
    "plt.stem(zmean17)\n",
    "wmean17[np.where(np.diag(DS['wCOV'])>5e-4)] = 0\n",
    "print()\n",
    "print(np.sqrt(wmean17[0]))"
   ]
  },
  {
   "cell_type": "markdown",
   "metadata": {},
   "source": [
    "# Diffusion 16"
   ]
  },
  {
   "cell_type": "code",
   "execution_count": 19,
   "metadata": {},
   "outputs": [],
   "source": [
    "xdts = xzs66"
   ]
  },
  {
   "cell_type": "code",
   "execution_count": 20,
   "metadata": {},
   "outputs": [
    {
     "name": "stdout",
     "output_type": "stream",
     "text": [
      "{'Relevant': matlab.double([[1.0],[10.0],[12.0],[17.0],[22.0],[68.0],[74.0]]), 'Value': matlab.double([[0.9986686919411943],[0.06107333439196258],[0.05112997931735707],[0.9286076095842783],[-0.16636177182023776],[0.24765371476749282],[-2.0997286353123954]])}\n"
     ]
    }
   ],
   "source": [
    "#!/usr/bin/env python\n",
    "\"\"\"\n",
    "Sample script that uses the SparseBayes module created using\n",
    "MATLAB Compiler SDK.\n",
    "\n",
    "Refer to the MATLAB Compiler SDK documentation for more information.\n",
    "\"\"\"\n",
    "\n",
    "from __future__ import print_function\n",
    "import SparseBayes\n",
    "import matlab\n",
    "\n",
    "my_SparseBayes = SparseBayes.initialize()\n",
    "\n",
    "DictIn = matlab.double(Dict, size=(D.shape[0], D.shape[1]))\n",
    "targetIn = matlab.double(xdts, size=(D.shape[0], 1))\n",
    "DMOut = my_SparseBayes.SparseBayes(DictIn, targetIn)\n",
    "print(DMOut, sep='\\n')\n",
    "\n",
    "my_SparseBayes.terminate()"
   ]
  },
  {
   "cell_type": "code",
   "execution_count": 21,
   "metadata": {},
   "outputs": [
    {
     "name": "stdout",
     "output_type": "stream",
     "text": [
      "[1. 0. 0. 0. 0. 0. 0. 0. 0. 1. 0. 1. 0. 0. 0. 0. 1. 0. 0. 0. 0. 1. 0. 0.\n",
      " 0. 0. 0. 0. 0. 0. 0. 0. 0. 0. 0. 0. 0. 0. 0. 0. 0. 0. 0. 0. 0. 0. 0. 0.\n",
      " 0. 0. 0. 0. 0. 0. 0. 0. 0. 0. 0. 0. 0. 0. 0. 0. 0. 0. 0. 1. 0. 0. 0. 0.\n",
      " 0. 1. 0. 0. 0. 0. 0. 0. 0.]\n"
     ]
    }
   ],
   "source": [
    "c = np.array(DMOut['Value'])\n",
    "d = []\n",
    "for j in c:\n",
    "    d.append(j[0])\n",
    "    \n",
    "a = np.array(DMOut['Relevant'])\n",
    "b = []\n",
    "for i in a:\n",
    "    b.append(int((i[0])-1))\n",
    "    \n",
    "initz0 = np.zeros(D.shape[1])\n",
    "for i in b:\n",
    "    initz0[i] = 1\n",
    "    \n",
    "print(initz0)"
   ]
  },
  {
   "cell_type": "code",
   "execution_count": 22,
   "metadata": {},
   "outputs": [
    {
     "name": "stderr",
     "output_type": "stream",
     "text": [
      "C:\\Users\\USER\\AppData\\Local\\Temp/ipykernel_2836/3512855728.py:147: RuntimeWarning: divide by zero encountered in log\n",
      "  + np.nansum((1-zm)*(np.log(1-p0) - np.log(1-zm))))\n",
      "C:\\Users\\USER\\AppData\\Local\\Temp/ipykernel_2836/3512855728.py:147: RuntimeWarning: invalid value encountered in multiply\n",
      "  + np.nansum((1-zm)*(np.log(1-p0) - np.log(1-zm))))\n",
      "C:\\Users\\USER\\AppData\\Local\\Temp/ipykernel_2836/3512855728.py:174: RuntimeWarning: overflow encountered in exp\n",
      "  expitC = 1./(1 + np.exp(-C))\n"
     ]
    },
    {
     "name": "stdout",
     "output_type": "stream",
     "text": [
      "Iteration = 0  log(Likelihood) = 8044.968312515839\n"
     ]
    },
    {
     "name": "stderr",
     "output_type": "stream",
     "text": [
      "C:\\Users\\USER\\AppData\\Local\\Temp/ipykernel_2836/3512855728.py:146: RuntimeWarning: divide by zero encountered in log\n",
      "  + np.nansum(zm*(np.log(p0) - np.log(zm)))\n",
      "C:\\Users\\USER\\AppData\\Local\\Temp/ipykernel_2836/3512855728.py:146: RuntimeWarning: invalid value encountered in multiply\n",
      "  + np.nansum(zm*(np.log(p0) - np.log(zm)))\n"
     ]
    },
    {
     "name": "stdout",
     "output_type": "stream",
     "text": [
      "Iteration = 1  log(Likelihood) = 8103.243982444097\n",
      "Iteration = 2  log(Likelihood) = 8103.245354434419\n",
      "Iteration = 3  log(Likelihood) = 8103.245354522414\n",
      "{'zmean': array([1.00000000e+00, 1.66730462e-38, 1.00199492e-22, 5.63102250e-44,\n",
      "       1.03734311e-22, 2.38498620e-47, 1.08812793e-22, 7.00825592e-46,\n",
      "       1.14856309e-22, 1.00000000e+00, 6.59459868e-43, 1.00000000e+00,\n",
      "       7.85268401e-42, 0.00000000e+00, 8.85068914e-41, 0.00000000e+00,\n",
      "       1.00000000e+00, 2.18517969e-30, 1.84028117e-22, 2.01876328e-25,\n",
      "       1.84626713e-22, 6.20710833e-25, 1.85024030e-22, 4.08420294e-25,\n",
      "       1.85656720e-22, 1.77838733e-22, 1.92118489e-22, 1.77997556e-22,\n",
      "       1.92166453e-22, 1.77758928e-22, 1.92234496e-22, 1.76846624e-22,\n",
      "       1.92304008e-22, 5.94449916e-26, 1.79520596e-22, 1.73123640e-31,\n",
      "       1.80385459e-22, 1.75285308e-25, 1.81391716e-22, 2.99022708e-26,\n",
      "       1.82201434e-22, 1.78036460e-22, 1.92166820e-22, 1.78703746e-22,\n",
      "       1.92200499e-22, 1.78194703e-22, 1.92265936e-22, 1.77201635e-22,\n",
      "       1.92330189e-22, 3.49646642e-26, 1.78532381e-22, 6.65341830e-27,\n",
      "       1.79532706e-22, 2.34453983e-33, 1.80551734e-22, 9.25262573e-27,\n",
      "       1.81662247e-22, 1.77696834e-22, 1.92234800e-22, 1.80155584e-22,\n",
      "       1.92265811e-22, 1.79650512e-22, 1.92315478e-22, 1.78270352e-22,\n",
      "       1.92370788e-22, 2.05284654e-25, 1.80951042e-22, 6.62728237e-26,\n",
      "       1.81140434e-22, 1.93707193e-26, 1.81594570e-22, 1.24594208e-30,\n",
      "       1.82447274e-22, 1.79216007e-22, 1.92304750e-22, 1.80601139e-22,\n",
      "       1.92330772e-22, 1.81259714e-22, 1.92371361e-22, 1.80092961e-22,\n",
      "       1.92413956e-22]), 'wmean': array([ 9.91486251e-01, -3.42488150e-38,  2.04121711e-23,  1.71855217e-43,\n",
      "        1.86876742e-23,  1.16843709e-46,  9.71155840e-24,  5.95048336e-45,\n",
      "        1.28749285e-23,  1.29507495e-01,  3.04323213e-43,  4.34939389e-02,\n",
      "        3.33456194e-42,  0.00000000e+00,  4.19816575e-41,  0.00000000e+00,\n",
      "        4.80178919e-01, -2.95394658e-30, -8.70992795e-24, -1.08450253e-25,\n",
      "       -1.07740319e-23, -8.80657978e-25, -1.19525119e-23, -2.32129079e-25,\n",
      "       -1.84663482e-23, -1.17100512e-23,  3.04314263e-24,  1.06591891e-23,\n",
      "        2.59969960e-24,  7.57495655e-24,  1.87829943e-24,  2.89919389e-23,\n",
      "        2.10511445e-24,  4.85103238e-26,  1.82691835e-23,  4.28192834e-31,\n",
      "        1.24166506e-23,  1.31312720e-25,  1.01798890e-23,  2.65854204e-26,\n",
      "        6.46743460e-24, -1.23088709e-23,  2.61208580e-24,  9.19315408e-24,\n",
      "        2.23067199e-24,  3.31128983e-24,  1.70371559e-24,  2.65746315e-23,\n",
      "        1.98733345e-24,  3.92924292e-26,  2.86521954e-23,  1.51052429e-26,\n",
      "        2.34564828e-23,  5.71695719e-33,  1.90771612e-23,  1.72131452e-26,\n",
      "        1.86403605e-23, -1.88328341e-23,  1.95288894e-24,  2.47933135e-24,\n",
      "        1.71842734e-24, -2.16744789e-24,  1.36164026e-24,  2.12032950e-23,\n",
      "        1.58338135e-24,  5.05867880e-25,  3.79712819e-23,  2.09581922e-25,\n",
      "        4.27698626e-23,  6.53256549e-26,  3.92665946e-23,  6.21868547e-30,\n",
      "        3.33819612e-23, -1.82234060e-23,  2.14405995e-24,  3.76302324e-24,\n",
      "        1.98550724e-24,  5.48540734e-25,  1.58131369e-24,  2.13743452e-23,\n",
      "        1.84636090e-24]), 'wCOV': array([[ 3.30279484e-05, -6.37518685e-41,  9.94398666e-27, ...,\n",
      "        -7.80453568e-29,  2.09494225e-27, -3.81241138e-28],\n",
      "       [-6.37518685e-41,  1.10724127e-01, -4.54185961e-62, ...,\n",
      "        -3.76417915e-63,  5.12999429e-62, -4.58578229e-63],\n",
      "       [ 9.94398666e-27, -4.54185961e-62,  1.10724127e-01, ...,\n",
      "        -1.19170131e-47, -1.08754244e-46, -1.05396019e-47],\n",
      "       ...,\n",
      "       [-7.80453568e-29, -3.76417915e-63, -1.19170131e-47, ...,\n",
      "         1.10724127e-01, -1.29018095e-47, -2.21841042e-48],\n",
      "       [ 2.09494225e-27,  5.12999429e-62, -1.08754244e-46, ...,\n",
      "        -1.29018095e-47,  1.10724127e-01, -1.19552892e-47],\n",
      "       [-3.81241138e-28, -4.58578229e-63, -1.05396019e-47, ...,\n",
      "        -2.21841042e-48, -1.19552892e-47,  1.10724127e-01]]), 'sig2': 0.011072418559138852, 'modelIdx': array([ 8, 10, 15]), 'Zmed': array([1., 1., 1.]), 'Wsel': array([0.1295075 , 0.04349394, 0.48017892]), 'Wcov': array([0.00295898, 0.0026613 , 0.03854879])}\n"
     ]
    }
   ],
   "source": [
    "tol = 0.0001\n",
    "verbosity = True\n",
    "initz0 = initz0\n",
    "DS = Variational_Bayes_Code(D, xdts, initz0, tol, verbosity)\n",
    "\n",
    "print(DS) "
   ]
  },
  {
   "cell_type": "code",
   "execution_count": 24,
   "metadata": {
    "scrolled": true
   },
   "outputs": [
    {
     "name": "stdout",
     "output_type": "stream",
     "text": [
      "\n",
      "0.9957340261966928\n"
     ]
    },
    {
     "data": {
      "image/png": "[encoded data removed]",
      "text/plain": [
       "<Figure size 432x288 with 1 Axes>"
      ]
     },
     "metadata": {
      "needs_background": "light"
     },
     "output_type": "display_data"
    }
   ],
   "source": [
    "zmean16 = DS['zmean']\n",
    "wmean16 = DS['wmean']\n",
    "zmean16[np.where(np.diag(DS['wCOV'])>5e-4)] = 0\n",
    "plt.stem(zmean16)\n",
    "wmean16[np.where(np.diag(DS['wCOV'])>5e-4)] = 0\n",
    "print()\n",
    "print(np.sqrt(wmean16[0]))"
   ]
  },
  {
   "cell_type": "markdown",
   "metadata": {},
   "source": [
    "# Diffusion 15"
   ]
  },
  {
   "cell_type": "code",
   "execution_count": 2,
   "metadata": {},
   "outputs": [],
   "source": [
    "import numpy as np\n",
    "import matplotlib.pyplot as plt\n",
    "\"\"\"\n",
    "A MDOF system excited by random noise\n",
    "----------------------------------------------------------------------\n",
    "\"\"\"\n",
    "\n",
    "def drift_mat(dof,k,c,m):\n",
    "    dim = 2 * dof\n",
    "    A = np.zeros((dim,dim))\n",
    "    \n",
    "    for i in range(dim):\n",
    "        if (i%2 == 0):\n",
    "            A[i][i+1] = 1\n",
    "    \n",
    "        elif(i==1):\n",
    "            A[i][i-1] = -(k+k)/m\n",
    "            A[i][i] = -(c+c)/m\n",
    "            A[i][i+1] = k/m\n",
    "            A[i][i+2] = c/m\n",
    "    \n",
    "        elif(i==dim-1):\n",
    "            A[i][i] = -c/m\n",
    "            A[i][i-1] = -k/m\n",
    "            A[i][i-2] = c/m\n",
    "            A[i][i-3] = k/m\n",
    "            \n",
    "        else:\n",
    "            A[i][i-3] = k/m \n",
    "            A[i][i-2] = c/m\n",
    "            A[i][i-1] = -(k+k)/m\n",
    "            A[i][i] = -(c+c)/m\n",
    "            A[i][i+1] = k/m\n",
    "            A[i][i+2] = c/m\n",
    "    return A\n",
    "\n",
    "def M_DOF_sys(x_initial, dof, T):\n",
    "    # parameters of M_DOF_sys in Equation\n",
    "    m = 1\n",
    "    c = 2\n",
    "    k = 3000\n",
    "    sigma = 1\n",
    "    \n",
    "    # solution by euler maruyama\n",
    "    # -------------------------------------------------------\n",
    "    dt = 0.0001\n",
    "    t = np.arange(0, T+dt, dt)\n",
    "    Nsamp = 200 # no. of samples in the run\n",
    "\n",
    "    y11 = []  \n",
    "    y12 = []\n",
    "    y13 = []\n",
    "    y14 = []\n",
    "    y15 = []\n",
    "    y16 = []\n",
    "    y17 = []\n",
    "    y18 = []\n",
    "    \n",
    "    xz7 = []\n",
    "    xz8 = []\n",
    "    \n",
    "    xzs77 = []\n",
    "    xzs88 = []\n",
    "    \n",
    "    # Simulation Starts Here ::\n",
    "    # -------------------------------------------------------\n",
    "    for ensemble in range(Nsamp):\n",
    "        x0 = x_initial\n",
    "        x = x0                              # initial condition.\n",
    "        for n in range(len(t)-1):\n",
    "            dW = np.sqrt(dt)*np.random.randn(2*dof)\n",
    "            \n",
    "            '''LINEAR PART DRIFT'''\n",
    "        \n",
    "            A = drift_mat(dof,k,c,m)\n",
    "            \n",
    "            '''DIFFUSION TERM  = b'''\n",
    "            diffu_arr = np.zeros(2*dof)\n",
    "            for i in range(2*dof):\n",
    "                if (i%2 != 0):\n",
    "                    diffu_arr[i] = sigma/m\n",
    "            \n",
    "            soln_arr = x0 + np.matmul(A,x0)*dt + diffu_arr*dW        \n",
    "            x0 = soln_arr\n",
    "            x = np.column_stack((x, x0))\n",
    "            \n",
    "        y11.append(x[-11,:])       \n",
    "        y12.append(x[-12,:])\n",
    "        y13.append(x[-13,:])       # Displacement\n",
    "        y14.append(x[-14,:])\n",
    "        y15.append(x[-15,:])       # Displacement     \n",
    "        y16.append(x[-16,:])\n",
    "        y17.append(x[-17,:])       \n",
    "        y18.append(x[-18,:])\n",
    "\n",
    "        \n",
    "        zint7 = x[-13, 0:-1]        # Velocity\n",
    "        xfinal7 = x[-13, 1:] \n",
    "        xmz7 = (xfinal7 - zint7)\n",
    "        \n",
    "        zint8 = x[-15, 0:-1]       # Velocity\n",
    "        xfinal8 = x[-15, 1:] \n",
    "        xmz8 = (xfinal8 - zint8) \n",
    "\n",
    "        xz7.append(xmz7)\n",
    "        xz8.append(xmz8)\n",
    "        \n",
    "        xmzsq77 = np.multiply(xmz7, xmz7)\n",
    "        xzs77.append(xmzsq77)\n",
    "        \n",
    "        xmzsq88 = np.multiply(xmz8, xmz8)\n",
    "        xzs88.append(xmzsq88)\n",
    "        \n",
    "    xz7 = pow(dt,-1)*np.mean(np.array(xz7), axis = 0)\n",
    "    xz8 = pow(dt,-1)*np.mean(np.array(xz8), axis = 0)\n",
    "\n",
    "    xzs77 = pow(dt,-1)*np.mean(np.array(xzs77), axis = 0)\n",
    "    xzs88 = pow(dt,-1)*np.mean(np.array(xzs88), axis = 0)\n",
    "\n",
    "    y11 = np.array(y11)\n",
    "    y12 = np.array(y12)\n",
    "    y13 = np.array(y13)\n",
    "    y14 = np.array(y14)\n",
    "    y15 = np.array(y15)\n",
    "    y16 = np.array(y16)\n",
    "    y17 = np.array(y17)\n",
    "    y18 = np.array(y18)\n",
    "\n",
    "    time = t[0:-1]\n",
    "    return xz7, xz8, xzs77, xzs88, y11, y12, y13, y14, y15, y16, y17, y18, time"
   ]
  },
  {
   "cell_type": "code",
   "execution_count": 4,
   "metadata": {
    "scrolled": true
   },
   "outputs": [
    {
     "name": "stdout",
     "output_type": "stream",
     "text": [
      "\n"
     ]
    },
    {
     "data": {
      "text/plain": [
       "20.859048147996265"
      ]
     },
     "execution_count": 4,
     "metadata": {},
     "output_type": "execute_result"
    }
   ],
   "source": [
    "import time\n",
    "start = time.time()\n",
    "xz7, xz8, xzs77, xzs88, y11, y12, y13, y14, y15, y16, y17, y18, time_ = M_DOF_sys(x_initial, dof, T)\n",
    "end = time.time()\n",
    "print()\n",
    "TIMES = (end - start)/60\n",
    "TIMES"
   ]
  },
  {
   "cell_type": "code",
   "execution_count": 5,
   "metadata": {},
   "outputs": [
    {
     "name": "stdout",
     "output_type": "stream",
     "text": [
      "\n"
     ]
    },
    {
     "data": {
      "text/plain": [
       "5.4062581896781925"
      ]
     },
     "execution_count": 5,
     "metadata": {},
     "output_type": "execute_result"
    }
   ],
   "source": [
    "startD = time.time()\n",
    "# Expected Dictionary Creation:\n",
    "libr = []\n",
    "for j in range(len(y11)):\n",
    "    data = np.row_stack((y11[j,0:-1], y12[j,0:-1], y13[j,0:-1], y14[j,0:-1], y15[j,0:-1], y16[j,0:-1], y17[j,0:-1], y18[j,0:-1]))\n",
    "    Dtemp, nl = library(data, 1, 0)\n",
    "    libr.append(Dtemp)\n",
    "libr = np.array(libr)\n",
    "Dictionary= np.mean(libr, axis = 0)\n",
    "print()\n",
    "endD = time.time()\n",
    "TIMED = (endD - startD)/60\n",
    "TIMED"
   ]
  },
  {
   "cell_type": "code",
   "execution_count": 7,
   "metadata": {},
   "outputs": [],
   "source": [
    "xdts = xzs77\n",
    "D = Dictionary"
   ]
  },
  {
   "cell_type": "code",
   "execution_count": 9,
   "metadata": {},
   "outputs": [
    {
     "data": {
      "text/plain": [
       "(810000,)"
      ]
     },
     "execution_count": 9,
     "metadata": {},
     "output_type": "execute_result"
    }
   ],
   "source": [
    "Dict = D.reshape(-1,order='F')\n",
    "Dict.shape"
   ]
  },
  {
   "cell_type": "code",
   "execution_count": 10,
   "metadata": {
    "scrolled": true
   },
   "outputs": [
    {
     "name": "stdout",
     "output_type": "stream",
     "text": [
      "{'Relevant': matlab.double([[1.0],[5.0],[10.0],[15.0],[16.0],[22.0],[25.0],[33.0],[36.0],[38.0],[62.0],[66.0],[76.0]]), 'Value': matlab.double([[0.9971517057741365],[-2.208784708696819],[0.08804737106915496],[1.1612198629373638],[0.03864005321671668],[-0.2710952538083632],[6.505291021506413],[-73.29105255806566],[0.16624307423825338],[-0.4635422765099648],[7.703174796530834],[-0.1503369728963538],[2.5409780686755505]])}\n"
     ]
    }
   ],
   "source": [
    "#!/usr/bin/env python\n",
    "\"\"\"\n",
    "Sample script that uses the SparseBayes module created using\n",
    "MATLAB Compiler SDK.\n",
    "\n",
    "Refer to the MATLAB Compiler SDK documentation for more information.\n",
    "\"\"\"\n",
    "\n",
    "from __future__ import print_function\n",
    "import SparseBayes\n",
    "import matlab\n",
    "\n",
    "my_SparseBayes = SparseBayes.initialize()\n",
    "\n",
    "DictIn = matlab.double(Dict, size=(D.shape[0], D.shape[1]))\n",
    "targetIn = matlab.double(xdts, size=(D.shape[0], 1))\n",
    "DMOut = my_SparseBayes.SparseBayes(DictIn, targetIn)\n",
    "print(DMOut, sep='\\n')\n",
    "\n",
    "my_SparseBayes.terminate()"
   ]
  },
  {
   "cell_type": "code",
   "execution_count": 11,
   "metadata": {},
   "outputs": [
    {
     "name": "stdout",
     "output_type": "stream",
     "text": [
      "[1. 0. 0. 0. 1. 0. 0. 0. 0. 1. 0. 0. 0. 0. 1. 1. 0. 0. 0. 0. 0. 1. 0. 0.\n",
      " 1. 0. 0. 0. 0. 0. 0. 0. 1. 0. 0. 1. 0. 1. 0. 0. 0. 0. 0. 0. 0. 0. 0. 0.\n",
      " 0. 0. 0. 0. 0. 0. 0. 0. 0. 0. 0. 0. 0. 1. 0. 0. 0. 1. 0. 0. 0. 0. 0. 0.\n",
      " 0. 0. 0. 1. 0. 0. 0. 0. 0.]\n"
     ]
    }
   ],
   "source": [
    "c = np.array(DMOut['Value'])\n",
    "d = []\n",
    "for j in c:\n",
    "    d.append(j[0])\n",
    "    \n",
    "a = np.array(DMOut['Relevant'])\n",
    "b = []\n",
    "for i in a:\n",
    "    b.append(int((i[0])-1))\n",
    "    \n",
    "initz0 = np.zeros(D.shape[1])\n",
    "for i in b:\n",
    "    initz0[i] = 1\n",
    "    \n",
    "print(initz0)"
   ]
  },
  {
   "cell_type": "code",
   "execution_count": 13,
   "metadata": {},
   "outputs": [
    {
     "data": {
      "text/plain": [
       "((10000, 81), (81,))"
      ]
     },
     "execution_count": 13,
     "metadata": {},
     "output_type": "execute_result"
    }
   ],
   "source": [
    "D.shape, initz0.shape"
   ]
  },
  {
   "cell_type": "code",
   "execution_count": 14,
   "metadata": {},
   "outputs": [
    {
     "name": "stderr",
     "output_type": "stream",
     "text": [
      "C:\\Users\\USER\\AppData\\Local\\Temp/ipykernel_12052/3512855728.py:147: RuntimeWarning: divide by zero encountered in log\n",
      "  + np.nansum((1-zm)*(np.log(1-p0) - np.log(1-zm))))\n",
      "C:\\Users\\USER\\AppData\\Local\\Temp/ipykernel_12052/3512855728.py:147: RuntimeWarning: invalid value encountered in multiply\n",
      "  + np.nansum((1-zm)*(np.log(1-p0) - np.log(1-zm))))\n"
     ]
    },
    {
     "name": "stdout",
     "output_type": "stream",
     "text": [
      "Iteration = 0  log(Likelihood) = 8057.727457392202\n"
     ]
    },
    {
     "name": "stderr",
     "output_type": "stream",
     "text": [
      "C:\\Users\\USER\\AppData\\Local\\Temp/ipykernel_12052/3512855728.py:174: RuntimeWarning: overflow encountered in exp\n",
      "  expitC = 1./(1 + np.exp(-C))\n",
      "C:\\Users\\USER\\AppData\\Local\\Temp/ipykernel_12052/3512855728.py:146: RuntimeWarning: divide by zero encountered in log\n",
      "  + np.nansum(zm*(np.log(p0) - np.log(zm)))\n",
      "C:\\Users\\USER\\AppData\\Local\\Temp/ipykernel_12052/3512855728.py:146: RuntimeWarning: invalid value encountered in multiply\n",
      "  + np.nansum(zm*(np.log(p0) - np.log(zm)))\n"
     ]
    },
    {
     "name": "stdout",
     "output_type": "stream",
     "text": [
      "Iteration = 1  log(Likelihood) = 8121.055347164063\n",
      "Iteration = 2  log(Likelihood) = 8121.056592107774\n",
      "Iteration = 3  log(Likelihood) = 8121.056592187508\n",
      "{'zmean': array([1.00000000e+00, 2.38498279e-47, 1.08812791e-22, 7.00824648e-46,\n",
      "       1.14856307e-22, 1.16864720e-41, 1.22184239e-22, 3.25887782e-33,\n",
      "       1.30987218e-22, 1.00000000e+00, 8.85067981e-41, 0.00000000e+00,\n",
      "       1.15476222e-39, 0.00000000e+00, 1.92065014e-38, 1.00000000e+00,\n",
      "       2.90409667e-37, 2.34453836e-33, 1.80551734e-22, 9.25262343e-27,\n",
      "       1.81662247e-22, 7.32823104e-27, 1.82288102e-22, 1.94439752e-26,\n",
      "       1.83150304e-22, 1.79650511e-22, 1.92315478e-22, 1.78270352e-22,\n",
      "       1.92370788e-22, 1.79902835e-22, 1.92433630e-22, 1.78972834e-22,\n",
      "       1.92503643e-22, 1.93707149e-26, 1.81594570e-22, 1.24594149e-30,\n",
      "       1.82447273e-22, 4.54705237e-26, 1.82948301e-22, 1.25888745e-25,\n",
      "       1.83677808e-22, 1.81259714e-22, 1.92371361e-22, 1.80092961e-22,\n",
      "       1.92413956e-22, 1.81407174e-22, 1.92470487e-22, 1.79778489e-22,\n",
      "       1.92533239e-22, 1.38785544e-24, 1.81024244e-22, 1.14882093e-25,\n",
      "       1.81864855e-22, 1.29416074e-30, 1.82677353e-22, 4.97366007e-25,\n",
      "       1.83296324e-22, 1.82568876e-22, 1.92434353e-22, 1.82100539e-22,\n",
      "       1.92471086e-22, 1.82892973e-22, 1.92510097e-22, 1.80538784e-22,\n",
      "       1.92565631e-22, 7.07464738e-24, 1.87147005e-22, 1.65255872e-24,\n",
      "       1.86531483e-22, 1.60113864e-24, 1.86719788e-22, 9.00454921e-28,\n",
      "       1.87241150e-22, 1.83456498e-22, 1.92503416e-22, 1.84184623e-22,\n",
      "       1.92533435e-22, 1.84488656e-22, 1.92565210e-22, 1.81705501e-22,\n",
      "       1.92602938e-22]), 'wmean': array([ 9.86365113e-01,  5.37439985e-47, -4.41518764e-24, -1.11400538e-45,\n",
      "       -2.08081057e-24, -7.31377580e-42, -5.72809353e-24, -4.25323697e-33,\n",
      "       -5.76897989e-24,  1.39829686e-01,  1.60230704e-41,  0.00000000e+00,\n",
      "        2.46623380e-40,  0.00000000e+00,  5.71351074e-39,  8.90231837e-02,\n",
      "        7.55069092e-38,  3.91887796e-33,  1.22797628e-23,  1.95384385e-27,\n",
      "        1.88113086e-23, -8.12917866e-27,  1.84602045e-23,  1.49008563e-26,\n",
      "        1.72826297e-23, -5.64228271e-24, -6.36023401e-25,  1.41220788e-23,\n",
      "       -5.85817476e-25,  2.75636911e-23, -5.53316810e-25, -1.87111709e-24,\n",
      "       -8.83406590e-25, -8.74202258e-27, -4.68670721e-24,  2.50701097e-32,\n",
      "       -3.57801445e-24, -7.10380428e-26, -7.18618333e-24,  6.71343388e-26,\n",
      "       -1.55008746e-23, -1.33740079e-24, -5.85584796e-25,  1.45863783e-23,\n",
      "       -4.62984714e-25,  2.57083420e-23, -3.59062404e-25, -2.98146353e-24,\n",
      "       -5.82884808e-25,  5.24533701e-25, -4.17561636e-24,  3.09398083e-26,\n",
      "       -6.00229822e-24,  8.66781108e-31, -7.99169546e-24,  3.57334324e-25,\n",
      "       -8.11834257e-24, -3.18905630e-24, -5.42883566e-25,  1.52665801e-23,\n",
      "       -3.67233166e-25,  2.51112799e-23, -2.44265245e-25, -2.78385015e-24,\n",
      "       -3.74470273e-25, -6.94636365e-24, -2.10898347e-23, -2.66333700e-24,\n",
      "       -2.35713076e-23, -3.50831434e-25, -2.55602910e-23,  7.34134872e-29,\n",
      "       -2.15519635e-23, -7.44674325e-24, -8.78406047e-25,  1.32079307e-23,\n",
      "       -6.03940255e-25,  2.25034426e-23, -3.65127846e-25, -7.78233953e-25,\n",
      "       -4.62903717e-25]), 'wCOV': array([[ 1.74548825e-05, -4.48032053e-50,  4.26545926e-26, ...,\n",
      "         3.01766802e-27,  1.30793079e-26,  2.65024115e-27],\n",
      "       [-4.48032053e-50,  1.11451795e-01, -2.20587052e-70, ...,\n",
      "        -3.89503702e-71,  2.33616602e-70, -2.98470667e-71],\n",
      "       [ 4.26545926e-26, -2.20587052e-70,  1.11451795e-01, ...,\n",
      "        -1.97903639e-47, -7.67854859e-47, -1.69252891e-47],\n",
      "       ...,\n",
      "       [ 3.01766802e-27, -3.89503702e-71, -1.97903639e-47, ...,\n",
      "         1.11451795e-01, -1.41175091e-47, -2.91238611e-48],\n",
      "       [ 1.30793079e-26,  2.33616602e-70, -7.67854859e-47, ...,\n",
      "        -1.41175091e-47,  1.11451795e-01, -1.47563768e-47],\n",
      "       [ 2.65024115e-27, -2.98470667e-71, -1.69252891e-47, ...,\n",
      "        -2.91238611e-48, -1.47563768e-47,  1.11451795e-01]]), 'sig2': 0.011145185140679323, 'modelIdx': array([ 8, 14]), 'Zmed': array([1., 1.]), 'Wsel': array([0.13982969, 0.08902318]), 'Wcov': array([0.0027763 , 0.00282879])}\n"
     ]
    }
   ],
   "source": [
    "tol = 0.0001\n",
    "verbosity = True\n",
    "initz0 = initz0\n",
    "DS = Variational_Bayes_Code(D, xdts, initz0, tol, verbosity)\n",
    "\n",
    "print(DS) "
   ]
  },
  {
   "cell_type": "code",
   "execution_count": 16,
   "metadata": {},
   "outputs": [
    {
     "data": {
      "text/plain": [
       "array([1.74548825e-05, 1.11451795e-01, 1.11451795e-01, 1.11451795e-01,\n",
       "       1.11451795e-01, 1.11451795e-01, 1.11451795e-01, 1.11451795e-01,\n",
       "       1.11451795e-01, 2.77630320e-03, 1.11451795e-01, 1.11451795e-01,\n",
       "       1.11451795e-01, 1.11451795e-01, 1.11451795e-01, 2.82879175e-03,\n",
       "       1.11451795e-01, 1.11451795e-01, 1.11451795e-01, 1.11451795e-01,\n",
       "       1.11451795e-01, 1.11451795e-01, 1.11451795e-01, 1.11451795e-01,\n",
       "       1.11451795e-01, 1.11451795e-01, 1.11451795e-01, 1.11451795e-01,\n",
       "       1.11451795e-01, 1.11451795e-01, 1.11451795e-01, 1.11451795e-01,\n",
       "       1.11451795e-01, 1.11451795e-01, 1.11451795e-01, 1.11451795e-01,\n",
       "       1.11451795e-01, 1.11451795e-01, 1.11451795e-01, 1.11451795e-01,\n",
       "       1.11451795e-01, 1.11451795e-01, 1.11451795e-01, 1.11451795e-01,\n",
       "       1.11451795e-01, 1.11451795e-01, 1.11451795e-01, 1.11451795e-01,\n",
       "       1.11451795e-01, 1.11451795e-01, 1.11451795e-01, 1.11451795e-01,\n",
       "       1.11451795e-01, 1.11451795e-01, 1.11451795e-01, 1.11451795e-01,\n",
       "       1.11451795e-01, 1.11451795e-01, 1.11451795e-01, 1.11451795e-01,\n",
       "       1.11451795e-01, 1.11451795e-01, 1.11451795e-01, 1.11451795e-01,\n",
       "       1.11451795e-01, 1.11451795e-01, 1.11451795e-01, 1.11451795e-01,\n",
       "       1.11451795e-01, 1.11451795e-01, 1.11451795e-01, 1.11451795e-01,\n",
       "       1.11451795e-01, 1.11451795e-01, 1.11451795e-01, 1.11451795e-01,\n",
       "       1.11451795e-01, 1.11451795e-01, 1.11451795e-01, 1.11451795e-01,\n",
       "       1.11451795e-01])"
      ]
     },
     "execution_count": 16,
     "metadata": {},
     "output_type": "execute_result"
    }
   ],
   "source": [
    "np.diag(DS['wCOV'])"
   ]
  },
  {
   "cell_type": "code",
   "execution_count": 17,
   "metadata": {},
   "outputs": [
    {
     "name": "stdout",
     "output_type": "stream",
     "text": [
      "\n",
      "0.9931591580867489\n"
     ]
    },
    {
     "data": {
      "image/png": "[encoded data removed]",
      "text/plain": [
       "<Figure size 432x288 with 1 Axes>"
      ]
     },
     "metadata": {
      "needs_background": "light"
     },
     "output_type": "display_data"
    }
   ],
   "source": [
    "zmean15 = DS['zmean']\n",
    "wmean15 = DS['wmean']\n",
    "zmean15[np.where(np.diag(DS['wCOV'])>5e-4)] = 0\n",
    "plt.stem(zmean15)\n",
    "wmean15[np.where(np.diag(DS['wCOV'])>5e-4)] = 0\n",
    "print()\n",
    "print(np.sqrt(wmean15[0]))"
   ]
  },
  {
   "cell_type": "markdown",
   "metadata": {},
   "source": [
    "# Diffusion 14"
   ]
  },
  {
   "cell_type": "code",
   "execution_count": 18,
   "metadata": {},
   "outputs": [],
   "source": [
    "xdts = xzs88"
   ]
  },
  {
   "cell_type": "code",
   "execution_count": 19,
   "metadata": {},
   "outputs": [
    {
     "name": "stdout",
     "output_type": "stream",
     "text": [
      "{'Relevant': matlab.double([[1.0],[12.0],[21.0],[29.0],[38.0],[39.0],[40.0],[48.0],[54.0],[66.0]]), 'Value': matlab.double([[0.9898238800188733],[0.1984746422085559],[-1.7640145233784053],[22.759960116207843],[0.16043836300211084],[4.804876679996905],[-0.5365290588344515],[2.621775577335877],[0.019734250831577486],[0.16141525748343863]])}\n"
     ]
    }
   ],
   "source": [
    "#!/usr/bin/env python\n",
    "\"\"\"\n",
    "Sample script that uses the SparseBayes module created using\n",
    "MATLAB Compiler SDK.\n",
    "\n",
    "Refer to the MATLAB Compiler SDK documentation for more information.\n",
    "\"\"\"\n",
    "\n",
    "from __future__ import print_function\n",
    "import SparseBayes\n",
    "import matlab\n",
    "\n",
    "my_SparseBayes = SparseBayes.initialize()\n",
    "\n",
    "DictIn = matlab.double(Dict, size=(D.shape[0], D.shape[1]))\n",
    "targetIn = matlab.double(xdts, size=(D.shape[0], 1))\n",
    "DMOut = my_SparseBayes.SparseBayes(DictIn, targetIn)\n",
    "print(DMOut, sep='\\n')\n",
    "\n",
    "my_SparseBayes.terminate()"
   ]
  },
  {
   "cell_type": "code",
   "execution_count": 20,
   "metadata": {},
   "outputs": [
    {
     "name": "stdout",
     "output_type": "stream",
     "text": [
      "[1. 0. 0. 0. 0. 0. 0. 0. 0. 0. 0. 1. 0. 0. 0. 0. 0. 0. 0. 0. 1. 0. 0. 0.\n",
      " 0. 0. 0. 0. 1. 0. 0. 0. 0. 0. 0. 0. 0. 1. 1. 1. 0. 0. 0. 0. 0. 0. 0. 1.\n",
      " 0. 0. 0. 0. 0. 1. 0. 0. 0. 0. 0. 0. 0. 0. 0. 0. 0. 1. 0. 0. 0. 0. 0. 0.\n",
      " 0. 0. 0. 0. 0. 0. 0. 0. 0.]\n"
     ]
    }
   ],
   "source": [
    "c = np.array(DMOut['Value'])\n",
    "d = []\n",
    "for j in c:\n",
    "    d.append(j[0])\n",
    "    \n",
    "a = np.array(DMOut['Relevant'])\n",
    "b = []\n",
    "for i in a:\n",
    "    b.append(int((i[0])-1))\n",
    "    \n",
    "initz0 = np.zeros(D.shape[1])\n",
    "for i in b:\n",
    "    initz0[i] = 1\n",
    "    \n",
    "print(initz0)"
   ]
  },
  {
   "cell_type": "code",
   "execution_count": 21,
   "metadata": {},
   "outputs": [
    {
     "name": "stderr",
     "output_type": "stream",
     "text": [
      "C:\\Users\\USER\\AppData\\Local\\Temp/ipykernel_12052/3512855728.py:147: RuntimeWarning: divide by zero encountered in log\n",
      "  + np.nansum((1-zm)*(np.log(1-p0) - np.log(1-zm))))\n",
      "C:\\Users\\USER\\AppData\\Local\\Temp/ipykernel_12052/3512855728.py:147: RuntimeWarning: invalid value encountered in multiply\n",
      "  + np.nansum((1-zm)*(np.log(1-p0) - np.log(1-zm))))\n",
      "C:\\Users\\USER\\AppData\\Local\\Temp/ipykernel_12052/3512855728.py:174: RuntimeWarning: overflow encountered in exp\n",
      "  expitC = 1./(1 + np.exp(-C))\n"
     ]
    },
    {
     "name": "stdout",
     "output_type": "stream",
     "text": [
      "Iteration = 0  log(Likelihood) = 8210.289564420636\n"
     ]
    },
    {
     "name": "stderr",
     "output_type": "stream",
     "text": [
      "C:\\Users\\USER\\AppData\\Local\\Temp/ipykernel_12052/3512855728.py:146: RuntimeWarning: divide by zero encountered in log\n",
      "  + np.nansum(zm*(np.log(p0) - np.log(zm)))\n",
      "C:\\Users\\USER\\AppData\\Local\\Temp/ipykernel_12052/3512855728.py:146: RuntimeWarning: invalid value encountered in multiply\n",
      "  + np.nansum(zm*(np.log(p0) - np.log(zm)))\n"
     ]
    },
    {
     "name": "stdout",
     "output_type": "stream",
     "text": [
      "Iteration = 1  log(Likelihood) = 8270.800493227316\n",
      "Iteration = 2  log(Likelihood) = 8270.80184150347\n",
      "Iteration = 3  log(Likelihood) = 8270.80184159064\n",
      "{'zmean': array([1.00000000e+00, 2.38498558e-47, 1.08812792e-22, 7.00825419e-46,\n",
      "       1.14856309e-22, 1.16864826e-41, 1.22184240e-22, 3.25887947e-33,\n",
      "       1.30987219e-22, 0.00000000e+00, 8.85068743e-41, 1.00000000e+00,\n",
      "       1.15476315e-39, 0.00000000e+00, 1.92065159e-38, 0.00000000e+00,\n",
      "       2.90409869e-37, 2.34453956e-33, 1.80551734e-22, 9.25262531e-27,\n",
      "       1.81662247e-22, 7.32823257e-27, 1.82288102e-22, 1.94439789e-26,\n",
      "       1.83150305e-22, 1.79650512e-22, 1.92315478e-22, 1.78270352e-22,\n",
      "       1.92370788e-22, 1.79902836e-22, 1.92433630e-22, 1.78972834e-22,\n",
      "       1.92503643e-22, 1.93707185e-26, 1.81594570e-22, 1.24594197e-30,\n",
      "       1.82447274e-22, 4.54705314e-26, 1.82948301e-22, 1.25888764e-25,\n",
      "       1.83677808e-22, 1.81259714e-22, 1.92371361e-22, 1.80092961e-22,\n",
      "       1.92413956e-22, 1.81407174e-22, 1.92470487e-22, 1.79778489e-22,\n",
      "       1.92533239e-22, 1.38785558e-24, 1.81024245e-22, 1.14882111e-25,\n",
      "       1.81864855e-22, 1.29416124e-30, 1.82677353e-22, 4.97366067e-25,\n",
      "       1.83296324e-22, 1.82568877e-22, 1.92434353e-22, 1.82100539e-22,\n",
      "       1.92471086e-22, 1.82892973e-22, 1.92510097e-22, 1.80538784e-22,\n",
      "       1.92565631e-22, 7.07464786e-24, 1.87147005e-22, 1.65255888e-24,\n",
      "       1.86531483e-22, 1.60113879e-24, 1.86719789e-22, 9.00455147e-28,\n",
      "       1.87241150e-22, 1.83456498e-22, 1.92503416e-22, 1.84184623e-22,\n",
      "       1.92533435e-22, 1.84488656e-22, 1.92565210e-22, 1.81705501e-22,\n",
      "       1.92602938e-22]), 'wmean': array([ 9.82107592e-01, -4.89852960e-48,  4.65563846e-23,  1.08386184e-45,\n",
      "        4.60182222e-23,  1.01225502e-41,  4.82820612e-23,  9.67406660e-33,\n",
      "        5.30653043e-23,  0.00000000e+00,  8.62550807e-41,  2.49428979e-01,\n",
      "        1.02515597e-39,  0.00000000e+00,  1.57760390e-38,  0.00000000e+00,\n",
      "        2.36756294e-37,  9.11794140e-34, -8.36233859e-24, -9.70262782e-27,\n",
      "       -1.06355296e-23,  4.06143874e-27, -8.14843509e-24,  8.99226983e-28,\n",
      "       -2.42718076e-24,  1.75223169e-23,  6.14035128e-24,  1.54412469e-23,\n",
      "        5.97699264e-24,  2.42871402e-23,  5.38874363e-24,  4.03083937e-23,\n",
      "        5.40102587e-24,  3.31386634e-27,  3.01502819e-23,  7.67872153e-31,\n",
      "        2.85388555e-23,  6.10056833e-26,  2.80177007e-23, -1.14809935e-25,\n",
      "        2.28553400e-23,  1.81250993e-23,  5.94795563e-24,  1.53859386e-23,\n",
      "        5.69604692e-24,  2.22134377e-23,  5.10583905e-24,  3.97285027e-23,\n",
      "        5.08208085e-24, -7.92688120e-26,  1.27193833e-23,  7.45460368e-26,\n",
      "        1.45907934e-23,  3.98154228e-30,  1.23639946e-23,  4.27858035e-25,\n",
      "        8.19656626e-24,  2.08075747e-23,  5.33800541e-24,  1.36357242e-23,\n",
      "        5.10766347e-24,  2.44142542e-23,  4.66593524e-24,  3.89749013e-23,\n",
      "        4.52795837e-24,  8.37249392e-24,  2.21474728e-23,  2.22372356e-24,\n",
      "        2.39481523e-23,  3.30585888e-24,  2.72235972e-23,  1.61406914e-27,\n",
      "        2.52136029e-23,  2.40774004e-23,  5.29141144e-24,  1.68469263e-23,\n",
      "        5.04708062e-24,  2.09740085e-23,  4.52059716e-24,  3.91517210e-23,\n",
      "        4.38787436e-24]), 'wCOV': array([[ 1.67776623e-05, -6.69428769e-50,  4.03632211e-26, ...,\n",
      "         2.63333928e-27,  1.12380637e-26,  2.31727134e-27],\n",
      "       [-6.69428769e-50,  1.09290934e-01, -3.02021369e-70, ...,\n",
      "        -4.66601662e-71,  1.71359063e-70, -3.78730737e-71],\n",
      "       [ 4.03632211e-26, -3.02021369e-70,  1.09290934e-01, ...,\n",
      "        -2.06799052e-47, -7.70432408e-47, -1.74956892e-47],\n",
      "       ...,\n",
      "       [ 2.63333928e-27, -4.66601662e-71, -2.06799052e-47, ...,\n",
      "         1.09290934e-01, -1.49759858e-47, -3.04004303e-48],\n",
      "       [ 1.12380637e-26,  1.71359063e-70, -7.70432408e-47, ...,\n",
      "        -1.49759858e-47,  1.09290934e-01, -1.57285666e-47],\n",
      "       [ 2.31727134e-27, -3.78730737e-71, -1.74956892e-47, ...,\n",
      "        -3.04004303e-48, -1.57285666e-47,  1.09290934e-01]]), 'sig2': 0.010929099158590748, 'modelIdx': array([10]), 'Zmed': array([1.]), 'Wsel': array([0.24942898]), 'Wcov': array([0.0002073])}\n"
     ]
    }
   ],
   "source": [
    "tol = 0.0001\n",
    "verbosity = True\n",
    "initz0 = initz0\n",
    "DS = Variational_Bayes_Code(D, xdts, initz0, tol, verbosity)\n",
    "\n",
    "print(DS) "
   ]
  },
  {
   "cell_type": "code",
   "execution_count": 24,
   "metadata": {},
   "outputs": [
    {
     "name": "stdout",
     "output_type": "stream",
     "text": [
      "\n",
      "0.9910134166011874\n"
     ]
    },
    {
     "data": {
      "image/png": "[encoded data removed]",
      "text/plain": [
       "<Figure size 432x288 with 1 Axes>"
      ]
     },
     "metadata": {
      "needs_background": "light"
     },
     "output_type": "display_data"
    }
   ],
   "source": [
    "zmean14 = DS['zmean']\n",
    "wmean14 = DS['wmean']\n",
    "zmean14[np.where(np.diag(DS['wCOV'])>5e-5)] = 0\n",
    "plt.stem(zmean14)\n",
    "wmean14[np.where(np.diag(DS['wCOV'])>5e-5)] = 0\n",
    "print()\n",
    "print(np.sqrt(wmean14[0]))"
   ]
  },
  {
   "cell_type": "markdown",
   "metadata": {},
   "source": [
    "# Diffusion 13"
   ]
  },
  {
   "cell_type": "code",
   "execution_count": 2,
   "metadata": {},
   "outputs": [],
   "source": [
    "import numpy as np\n",
    "import matplotlib.pyplot as plt\n",
    "\"\"\"\n",
    "A MDOF system excited by random noise\n",
    "----------------------------------------------------------------------\n",
    "\"\"\"\n",
    "\n",
    "def drift_mat(dof,k,c,m):\n",
    "    dim = 2 * dof\n",
    "    A = np.zeros((dim,dim))\n",
    "    \n",
    "    for i in range(dim):\n",
    "        if (i%2 == 0):\n",
    "            A[i][i+1] = 1\n",
    "    \n",
    "        elif(i==1):\n",
    "            A[i][i-1] = -(k+k)/m\n",
    "            A[i][i] = -(c+c)/m\n",
    "            A[i][i+1] = k/m\n",
    "            A[i][i+2] = c/m\n",
    "    \n",
    "        elif(i==dim-1):\n",
    "            A[i][i] = -c/m\n",
    "            A[i][i-1] = -k/m\n",
    "            A[i][i-2] = c/m\n",
    "            A[i][i-3] = k/m\n",
    "            \n",
    "        else:\n",
    "            A[i][i-3] = k/m \n",
    "            A[i][i-2] = c/m\n",
    "            A[i][i-1] = -(k+k)/m\n",
    "            A[i][i] = -(c+c)/m\n",
    "            A[i][i+1] = k/m\n",
    "            A[i][i+2] = c/m\n",
    "    return A\n",
    "\n",
    "def M_DOF_sys(x_initial, dof, T):\n",
    "    # parameters of M_DOF_sys in Equation\n",
    "    m = 1\n",
    "    c = 2\n",
    "    k = 3000\n",
    "    sigma = 1\n",
    "    \n",
    "    # solution by euler maruyama\n",
    "    # -------------------------------------------------------\n",
    "    dt = 0.0001\n",
    "    t = np.arange(0, T+dt, dt)\n",
    "    Nsamp = 200 # no. of samples in the run\n",
    "\n",
    "    y15 = []\n",
    "    y16 = []\n",
    "    y17 = []\n",
    "    y18 = []\n",
    "    y19 = []  \n",
    "    y20 = []\n",
    "    y21 = []\n",
    "    y22 = []\n",
    "    \n",
    "    xz9 = []\n",
    "    xz10 = []\n",
    "    \n",
    "    xzs9 = []\n",
    "    xzs10 = []\n",
    "    \n",
    "    # Simulation Starts Here ::\n",
    "    # -------------------------------------------------------\n",
    "    for ensemble in range(Nsamp):\n",
    "        x0 = x_initial\n",
    "        x = x0                              # initial condition.\n",
    "        for n in range(len(t)-1):\n",
    "            dW = np.sqrt(dt)*np.random.randn(2*dof)\n",
    "            \n",
    "            '''LINEAR PART DRIFT'''\n",
    "        \n",
    "            A = drift_mat(dof,k,c,m)\n",
    "            \n",
    "            '''DIFFUSION TERM  = b'''\n",
    "            diffu_arr = np.zeros(2*dof)\n",
    "            for i in range(2*dof):\n",
    "                if (i%2 != 0):\n",
    "                    diffu_arr[i] = sigma/m\n",
    "            \n",
    "            soln_arr = x0 + np.matmul(A,x0)*dt + diffu_arr*dW        \n",
    "            x0 = soln_arr\n",
    "            x = np.column_stack((x, x0))\n",
    "            \n",
    "        y15.append(x[-15,:])           \n",
    "        y16.append(x[-16,:])\n",
    "        y17.append(x[-17,:])       # Displacement \n",
    "        y18.append(x[-18,:])\n",
    "        y19.append(x[-19,:])       # Displacement         \n",
    "        y20.append(x[-20,:])\n",
    "        y21.append(x[-21,:])           \n",
    "        y22.append(x[-22,:])\n",
    "\n",
    "        \n",
    "        zint9 = x[-17, 0:-1]        # Velocity\n",
    "        xfinal9 = x[-17, 1:] \n",
    "        xmz9 = (xfinal9 - zint9)\n",
    "        \n",
    "        zint10 = x[-19, 0:-1]       # Velocity\n",
    "        xfinal10 = x[-19, 1:] \n",
    "        xmz10 = (xfinal10 - zint10) \n",
    "\n",
    "        xz9.append(xmz9)\n",
    "        xz10.append(xmz10)\n",
    "        \n",
    "        xmzsq9 = np.multiply(xmz9, xmz9)\n",
    "        xzs9.append(xmzsq9)\n",
    "        \n",
    "        xmzsq10 = np.multiply(xmz10, xmz10)\n",
    "        xzs10.append(xmzsq10)\n",
    "        \n",
    "    xz9 = pow(dt,-1)*np.mean(np.array(xz9), axis = 0)\n",
    "    xz10 = pow(dt,-1)*np.mean(np.array(xz10), axis = 0)\n",
    "\n",
    "    xzs9 = pow(dt,-1)*np.mean(np.array(xzs9), axis = 0)\n",
    "    xzs10 = pow(dt,-1)*np.mean(np.array(xzs10), axis = 0)\n",
    "\n",
    "    y15 = np.array(y15)\n",
    "    y16 = np.array(y16)\n",
    "    y17 = np.array(y17)\n",
    "    y18 = np.array(y18)\n",
    "    y19 = np.array(y19)\n",
    "    y20 = np.array(y20)\n",
    "    y21 = np.array(y21)\n",
    "    y22 = np.array(y22)\n",
    "\n",
    "    time = t[0:-1]\n",
    "    return xz9, xz10, xzs9, xzs10, y15, y16, y17, y18, y19, y20, y21, y22, time"
   ]
  },
  {
   "cell_type": "code",
   "execution_count": 4,
   "metadata": {},
   "outputs": [
    {
     "name": "stdout",
     "output_type": "stream",
     "text": [
      "\n"
     ]
    },
    {
     "data": {
      "text/plain": [
       "19.68596785068512"
      ]
     },
     "execution_count": 4,
     "metadata": {},
     "output_type": "execute_result"
    }
   ],
   "source": [
    "import time\n",
    "start = time.time()\n",
    "xz9, xz10, xzs9, xzs10, y15, y16, y17, y18, y19, y20, y21, y22, time_ = M_DOF_sys(x_initial, dof, T)\n",
    "end = time.time()\n",
    "print()\n",
    "TIMES = (end - start)/60"
   ]
  },
  {
   "cell_type": "code",
   "execution_count": 5,
   "metadata": {},
   "outputs": [
    {
     "name": "stdout",
     "output_type": "stream",
     "text": [
      "\n"
     ]
    },
    {
     "data": {
      "text/plain": [
       "5.870998533566793"
      ]
     },
     "execution_count": 5,
     "metadata": {},
     "output_type": "execute_result"
    }
   ],
   "source": [
    "startD = time.time()\n",
    "# Expected Dictionary Creation:\n",
    "libr = []\n",
    "for j in range(len(y15)):\n",
    "    data = np.row_stack((y15[j,0:-1], y16[j,0:-1], y17[j,0:-1], y18[j,0:-1], y19[j,0:-1], y20[j,0:-1], y21[j,0:-1], y22[j,0:-1], ))\n",
    "    Dtemp, nl = library(data, 1, 0)\n",
    "    libr.append(Dtemp)\n",
    "libr = np.array(libr)\n",
    "Dictionary= np.mean(libr, axis = 0)\n",
    "print()\n",
    "endD = time.time()\n",
    "TIMED = (endD - startD)/60"
   ]
  },
  {
   "cell_type": "code",
   "execution_count": 16,
   "metadata": {},
   "outputs": [],
   "source": [
    "xdts = xzs9\n",
    "D = Dictionary"
   ]
  },
  {
   "cell_type": "code",
   "execution_count": null,
   "metadata": {},
   "outputs": [],
   "source": [
    "Dict = D.reshape(-1,order='F')"
   ]
  },
  {
   "cell_type": "code",
   "execution_count": 19,
   "metadata": {
    "scrolled": true
   },
   "outputs": [
    {
     "name": "stdout",
     "output_type": "stream",
     "text": [
      "{'Relevant': matlab.double([[1.0],[14.0],[16.0],[17.0],[19.0],[36.0],[46.0],[48.0],[66.0],[76.0]]), 'Value': matlab.double([[0.9887861795793844],[0.16627148199625685],[0.020618577926066157],[0.6155326121163215],[0.9625336857653004],[0.18254947020856085],[2.955372415771637],[-5.0974527174618105],[0.016686824666610794],[0.2936330739605453]])}\n"
     ]
    }
   ],
   "source": [
    "#!/usr/bin/env python\n",
    "\"\"\"\n",
    "Sample script that uses the SparseBayes module created using\n",
    "MATLAB Compiler SDK.\n",
    "\n",
    "Refer to the MATLAB Compiler SDK documentation for more information.\n",
    "\"\"\"\n",
    "\n",
    "from __future__ import print_function\n",
    "import SparseBayes\n",
    "import matlab\n",
    "\n",
    "my_SparseBayes = SparseBayes.initialize()\n",
    "\n",
    "DictIn = matlab.double(Dict, size=(D.shape[0], D.shape[1]))\n",
    "targetIn = matlab.double(xdts, size=(D.shape[0], 1))\n",
    "DMOut = my_SparseBayes.SparseBayes(DictIn, targetIn)\n",
    "print(DMOut, sep='\\n')\n",
    "\n",
    "my_SparseBayes.terminate()"
   ]
  },
  {
   "cell_type": "code",
   "execution_count": 20,
   "metadata": {},
   "outputs": [
    {
     "name": "stdout",
     "output_type": "stream",
     "text": [
      "[1. 0. 0. 0. 0. 0. 0. 0. 0. 0. 0. 0. 0. 1. 0. 1. 1. 0. 1. 0. 0. 0. 0. 0.\n",
      " 0. 0. 0. 0. 0. 0. 0. 0. 0. 0. 0. 1. 0. 0. 0. 0. 0. 0. 0. 0. 0. 1. 0. 1.\n",
      " 0. 0. 0. 0. 0. 0. 0. 0. 0. 0. 0. 0. 0. 0. 0. 0. 0. 1. 0. 0. 0. 0. 0. 0.\n",
      " 0. 0. 0. 1. 0. 0. 0. 0. 0.]\n"
     ]
    }
   ],
   "source": [
    "c = np.array(DMOut['Value'])\n",
    "d = []\n",
    "for j in c:\n",
    "    d.append(j[0])\n",
    "    \n",
    "a = np.array(DMOut['Relevant'])\n",
    "b = []\n",
    "for i in a:\n",
    "    b.append(int((i[0])-1))\n",
    "    \n",
    "initz0 = np.zeros(D.shape[1])\n",
    "for i in b:\n",
    "    initz0[i] = 1\n",
    "    \n",
    "print(initz0)"
   ]
  },
  {
   "cell_type": "code",
   "execution_count": 21,
   "metadata": {},
   "outputs": [],
   "source": [
    "import warnings\n",
    "import math\n",
    "import numpy as np\n",
    "import scipy as sp\n",
    "import sympy as smp\n",
    "from scipy import stats\n",
    "from numpy import linalg as la\n",
    "import matplotlib.pyplot as plt\n",
    "from numpy.random import gamma\n",
    "from scipy.special import loggamma\n",
    "\n",
    "def Variational_Bayes_Code(X, y, initz0, tol, verbosity):\n",
    "\n",
    "    if (len(X) == 0 or len(y) == 0):\n",
    "        raise Exception('X and or y is missing')\n",
    "        \n",
    "    if (len(X) != len(y)):\n",
    "        raise Exception('Number of observations do not match')\n",
    "        \n",
    "    # X = stats.zscore(X, ddof = 1)         \n",
    "    # X = np.c_[np.ones(len(X)),X]\n",
    "    # X = np.c_[np.ones(len(X)),X]          \n",
    "    # y = y - np.mean(y)\n",
    "    N = len(X)\n",
    "    # Prior parameters of noise variance (Inverse Gamma dist)\n",
    "    A = 1e-4\n",
    "    B = 1e-4\n",
    "    vs = 10\n",
    "    tau0 = 1000\n",
    "    \n",
    "    if (len(initz0) == 0):\n",
    "        raise Exception('No initial value of z found')\n",
    "    else:\n",
    "        p0 = expit(-0.5*(np.sqrt(N)))       \n",
    "        \n",
    "        # Adding the intercept indicator variable (slightly less than 1 to prevent log(0) values) \n",
    "        # initz = np.hstack((1,initz0))  \n",
    "        initz = initz0\n",
    "\n",
    "        DS,LLcvg  = run_VB2(X, y, vs, A, B, tau0, p0, initz, tol, verbosity)    \n",
    "        # This is function which will come first\n",
    "        \n",
    "    out_vb   = DS\n",
    "    a = DS['zmean'] > 0.5\n",
    "    count = 0\n",
    "    modelIdx = []\n",
    "    for i in a:\n",
    "        if i == True:\n",
    "            modelIdx.append(count)\n",
    "        count += 1\n",
    "            \n",
    "    modelIdx = np.setdiff1d(modelIdx,0)\n",
    "    out_vb['modelIdx'] = modelIdx-1\n",
    "    out_vb['Zmed'] = DS['zmean'][modelIdx]\n",
    "    out_vb['Wsel'] = DS['wmean'][modelIdx]\n",
    "    out_vb['Wcov'] = DS['wCOV'][modelIdx, modelIdx]\n",
    "    out_vb['sig2'] = DS['sig2']\n",
    "    \n",
    "    return out_vb\n",
    "\n",
    "DS = {}\n",
    "def run_VB2(Xc, yc, vs, A, B, tau0, p0, initz, tol, verbosity):\n",
    "    \"\"\"This function is the implementation of VB from John T. Ormerod paper (2014)\n",
    "       This implementation uses slab scaling by noise variance\n",
    "       vs    : treated as a constant\n",
    "       A,B   : constants of the IG prior over noise variance\n",
    "       tau0  : Expected value of (sigma^{-2})\n",
    "       p0    : inclusion probablility\n",
    "       initz : Initial value of z\n",
    "       Xc    : Centered and standardized dictionary except the first column\n",
    "       yc    : Centered observations \"\"\"\n",
    "    \n",
    "    Lambda    = logit(p0)\n",
    "    iter_     = 0\n",
    "    max_iter  = 100\n",
    "    LL        = np.zeros(max_iter)        \n",
    "    zm        = np.reshape(initz,(-1))            \n",
    "    taum      = tau0                      \n",
    "    invVs     = 1/vs\n",
    "    \n",
    "    X = Xc\n",
    "    y = yc\n",
    "    XtX = (X.T) @ X\n",
    "    XtX = 0.5*(XtX + (XtX).T)\n",
    "    Xty = (X.T) @ y                 \n",
    "    yty = (y.T) @ y\n",
    "\n",
    "    eyep = np.eye(len(XtX))\n",
    "    [N,p] = X.shape\n",
    "    allidx = np.arange(p)\n",
    "    zm[0] = 1                                                                   # Always include the intercept \n",
    "    Abar    = (A + 0.5*N + 0.5*p)\n",
    "    converged = 0\n",
    "    \n",
    "    while (converged==0):\n",
    "        if (iter_==100):\n",
    "            break\n",
    "        \n",
    "        Zm       = np.diag(zm)\n",
    "        Omg      = (np.reshape(zm,(-1,1)) @ np.reshape(zm,(1,-1))) + (Zm @ (eyep-Zm))\n",
    "        # Update the mean and covariance of the coefficients given mean of z\n",
    "        term1    = XtX * Omg                                                       # elementwisw multiplication\n",
    "        invSigma = taum * (term1 + invVs * eyep)\n",
    "        invSigma = 0.5*(invSigma + invSigma.T)                                     # symmetric\n",
    "        Sigma    = la.inv(invSigma) @ eyep\n",
    "        mu       = taum * (Sigma @ Zm @ Xty)                                       # @ ---> matrix multiplication\n",
    "        \n",
    "        # Update tau related to sigma\n",
    "        term2    = 2 * Xty @ Zm @ mu\n",
    "        term3    =  np.reshape(mu,(len(initz0),1)) @ np.reshape(mu,(1,len(initz0)))+ Sigma\n",
    "        term4    = yty - term2 + np.trace((term1 + invVs * eyep) @ term3)    \n",
    "        s        = B + 0.5*term4\n",
    "        \n",
    "        if s<0:\n",
    "            warnings.warn('s turned out be less than 0. Taking absolute value')\n",
    "            s = B + 0.5*abs(term4)\n",
    "        \n",
    "        taum     = Abar / s\n",
    "        zstr   = zm\n",
    "\n",
    "        order   = np.setdiff1d(np.random.permutation(p), 0, assume_unique=True)\n",
    "        for j in order: \n",
    "            muj     = mu[j]                            \n",
    "            sigmaj  = Sigma[j,j]\n",
    "            \n",
    "            remidx  = np.setdiff1d(allidx,j)\n",
    "            mu_j    = mu[remidx]\n",
    "            Sigma_jj= Sigma[remidx,j]\n",
    "            etaj    = (Lambda - 0.5 * taum * ((muj**2 + sigmaj) * XtX[j,j]) \n",
    "                       + taum * np.reshape(X[:,j],(1,-1)) @ (np.reshape(y,(-1,1))*muj \n",
    "                        -X[:,remidx] @ np.diag(zstr[remidx]) @ ((mu_j * muj + Sigma_jj).reshape(-1,1))))\n",
    "            zstr[j] = expit(etaj)\n",
    "            \n",
    "        zm = zstr\n",
    "        \n",
    "        # Calculate marginal log-likelihood\n",
    "        \n",
    "        LL[iter_] = ( 0.5*p \n",
    "                    - 0.5*N*np.log(2*np.pi) \n",
    "                    + 0.5*p*np.log(invVs) \n",
    "                    + A*np.log(B)\n",
    "                    - loggamma(A)\n",
    "                    + loggamma(Abar) \n",
    "                    - Abar*np.log(s)\n",
    "                    + 0.5*np.log(la.det(Sigma))\n",
    "                    + np.nansum(zm*(np.log(p0) - np.log(zm))) \n",
    "                    + np.nansum((1-zm)*(np.log(1-p0) - np.log(1-zm))))\n",
    "        \n",
    "        if(verbosity):\n",
    "            print(f'Iteration = {iter_}  log(Likelihood) = {LL[iter_]}')\n",
    "        \n",
    "        if(iter_>1):\n",
    "            cvg = LL[iter_] - LL[iter_-1]\n",
    "            \n",
    "            if (cvg < 0 and verbosity):\n",
    "                print('OOPS!  log(like) decreasing!!')\n",
    "            elif (cvg<tol or iter_> max_iter):\n",
    "                converged = 1\n",
    "                LL = LL[0:iter_]\n",
    "                \n",
    "        iter_    = iter_ + 1\n",
    "    DS['zmean'] = zm\n",
    "    DS['wmean'] = mu\n",
    "    DS['wCOV'] = Sigma\n",
    "    DS['sig2'] = 1/taum\n",
    "    LLcvg    = LL[-1]\n",
    "    return DS, LLcvg\n",
    "    \n",
    "def logit(C):\n",
    "    logitC = np.log(C) - np.log(1-C)\n",
    "    return logitC\n",
    "\n",
    "def expit(C):\n",
    "    expitC = 1./(1 + np.exp(-C))\n",
    "    return expitC"
   ]
  },
  {
   "cell_type": "code",
   "execution_count": 22,
   "metadata": {},
   "outputs": [
    {
     "data": {
      "text/plain": [
       "((10000, 81), (81,))"
      ]
     },
     "execution_count": 22,
     "metadata": {},
     "output_type": "execute_result"
    }
   ],
   "source": [
    "D.shape, initz0.shape"
   ]
  },
  {
   "cell_type": "code",
   "execution_count": 23,
   "metadata": {},
   "outputs": [
    {
     "name": "stderr",
     "output_type": "stream",
     "text": [
      "C:\\Users\\USER\\AppData\\Local\\Temp/ipykernel_6304/3512855728.py:147: RuntimeWarning: divide by zero encountered in log\n",
      "  + np.nansum((1-zm)*(np.log(1-p0) - np.log(1-zm))))\n",
      "C:\\Users\\USER\\AppData\\Local\\Temp/ipykernel_6304/3512855728.py:147: RuntimeWarning: invalid value encountered in multiply\n",
      "  + np.nansum((1-zm)*(np.log(1-p0) - np.log(1-zm))))\n",
      "C:\\Users\\USER\\AppData\\Local\\Temp/ipykernel_6304/3512855728.py:174: RuntimeWarning: overflow encountered in exp\n",
      "  expitC = 1./(1 + np.exp(-C))\n"
     ]
    },
    {
     "name": "stdout",
     "output_type": "stream",
     "text": [
      "Iteration = 0  log(Likelihood) = 8112.337119732089\n"
     ]
    },
    {
     "name": "stderr",
     "output_type": "stream",
     "text": [
      "C:\\Users\\USER\\AppData\\Local\\Temp/ipykernel_6304/3512855728.py:146: RuntimeWarning: divide by zero encountered in log\n",
      "  + np.nansum(zm*(np.log(p0) - np.log(zm)))\n",
      "C:\\Users\\USER\\AppData\\Local\\Temp/ipykernel_6304/3512855728.py:146: RuntimeWarning: invalid value encountered in multiply\n",
      "  + np.nansum(zm*(np.log(p0) - np.log(zm)))\n"
     ]
    },
    {
     "name": "stdout",
     "output_type": "stream",
     "text": [
      "Iteration = 1  log(Likelihood) = 8169.272290926609\n",
      "Iteration = 2  log(Likelihood) = 8169.273800162908\n",
      "Iteration = 3  log(Likelihood) = 8169.273800260125\n",
      "{'zmean': array([1.00000000e+00, 1.16864982e-41, 1.22184241e-22, 3.25888192e-33,\n",
      "       1.30987221e-22, 9.86616149e-39, 1.34592433e-22, 2.33027039e-44,\n",
      "       1.35176964e-22, 0.00000000e+00, 1.92065373e-38, 0.00000000e+00,\n",
      "       2.90410169e-37, 1.00000000e+00, 4.44217154e-36, 1.00000000e+00,\n",
      "       6.46953081e-35, 1.29416198e-30, 1.82677353e-22, 4.97366157e-25,\n",
      "       1.83296324e-22, 4.53006545e-25, 1.83925622e-22, 6.80929001e-25,\n",
      "       1.84377148e-22, 1.82892973e-22, 1.92510097e-22, 1.80538784e-22,\n",
      "       1.92565631e-22, 1.81833385e-22, 1.92608333e-22, 1.81712534e-22,\n",
      "       1.92643286e-22, 1.60113903e-24, 1.86719789e-22, 9.00455481e-28,\n",
      "       1.87241150e-22, 9.93717754e-25, 1.87768366e-22, 5.86596108e-24,\n",
      "       1.88050167e-22, 1.84488656e-22, 1.92565210e-22, 1.81705502e-22,\n",
      "       1.92602939e-22, 1.83042489e-22, 1.92635672e-22, 1.83654900e-22,\n",
      "       1.92665094e-22, 4.12735752e-25, 1.86229875e-22, 4.10461723e-25,\n",
      "       1.86367417e-22, 3.67929552e-29, 1.86998014e-22, 3.41082277e-25,\n",
      "       1.87665638e-22, 1.84772838e-22, 1.92606449e-22, 1.82719798e-22,\n",
      "       1.92635319e-22, 1.83796049e-22, 1.92652434e-22, 1.84359067e-22,\n",
      "       1.92672453e-22, 7.21735177e-26, 1.81291925e-22, 1.51039758e-25,\n",
      "       1.82471584e-22, 1.38370273e-25, 1.83346666e-22, 1.15155510e-30,\n",
      "       1.84178621e-22, 1.85173556e-22, 1.92640616e-22, 1.83040260e-22,\n",
      "       1.92663691e-22, 1.83541191e-22, 1.92672486e-22, 1.84524276e-22,\n",
      "       1.92674396e-22]), 'wmean': array([ 9.83344539e-01,  5.12891741e-41,  1.00150356e-23,  2.23383223e-32,\n",
      "        1.80067021e-23,  1.30100210e-38,  2.61975292e-23, -5.38427241e-44,\n",
      "        3.94106831e-23,  0.00000000e+00,  1.69159515e-38,  0.00000000e+00,\n",
      "        2.39778488e-37,  1.94115833e-01,  3.40699415e-36,  5.60613280e-02,\n",
      "        4.75162891e-35,  5.56894846e-30,  4.38445025e-23,  1.18944008e-24,\n",
      "        4.05722799e-23,  6.34354328e-25,  3.86315603e-23,  8.76144022e-25,\n",
      "        3.40705612e-23,  3.20065325e-23,  2.19917734e-24,  9.17608336e-24,\n",
      "        2.48456035e-24,  1.80732950e-23,  2.62175884e-24, -2.38661322e-23,\n",
      "        2.91336691e-24,  3.92852736e-24,  3.95217329e-23,  5.04437597e-27,\n",
      "        3.49008918e-23,  1.79933221e-24,  3.09760810e-23,  1.23730458e-23,\n",
      "        3.23067018e-23,  3.39407600e-23,  2.51155773e-24,  1.42851037e-23,\n",
      "        2.78370152e-24,  2.38363000e-23,  2.91107394e-24, -1.80473178e-23,\n",
      "        3.20868630e-24,  2.76971469e-26, -1.28352920e-23,  7.22073602e-25,\n",
      "       -1.91237674e-23,  1.14592956e-29, -8.00107730e-24, -2.87807214e-25,\n",
      "       -2.49984399e-24,  3.35941892e-23,  2.68893852e-24,  1.53236227e-23,\n",
      "        2.89876431e-24,  2.49924578e-23,  3.01694350e-24, -1.38835054e-23,\n",
      "        3.37353600e-24, -2.96927198e-26, -3.85579964e-23, -7.01065875e-26,\n",
      "       -4.31772467e-23, -1.15036517e-25, -3.48330251e-23, -2.05450793e-30,\n",
      "       -3.48508422e-23,  3.45479597e-23,  3.01175411e-24,  2.14463026e-23,\n",
      "        3.23391253e-24,  2.36258816e-23,  3.40043177e-24, -7.69692026e-24,\n",
      "        3.77660788e-24]), 'wCOV': array([[ 1.75131707e-05, -2.38888350e-44,  3.95914018e-26, ...,\n",
      "         1.79400241e-27,  1.29166893e-26,  1.63829962e-27],\n",
      "       [-2.38888350e-44,  1.10385877e-01, -7.60881868e-65, ...,\n",
      "        -4.27550596e-66,  8.78386300e-65, -9.00803447e-67],\n",
      "       [ 3.95914018e-26, -7.60881868e-65,  1.10385877e-01, ...,\n",
      "        -1.48779780e-47, -7.49287772e-47, -1.25726785e-47],\n",
      "       ...,\n",
      "       [ 1.79400241e-27, -4.27550596e-66, -1.48779780e-47, ...,\n",
      "         1.10385877e-01, -1.57972298e-47, -3.35523019e-48],\n",
      "       [ 1.29166893e-26,  8.78386300e-65, -7.49287772e-47, ...,\n",
      "        -1.57972298e-47,  1.10385877e-01, -1.74839839e-47],\n",
      "       [ 1.63829962e-27, -9.00803447e-67, -1.25726785e-47, ...,\n",
      "        -3.35523019e-48, -1.74839839e-47,  1.10385877e-01]]), 'sig2': 0.011038593778474126, 'modelIdx': array([12, 14]), 'Zmed': array([1., 1.]), 'Wsel': array([0.19411583, 0.05606133]), 'Wcov': array([0.00391411, 0.00367183])}\n"
     ]
    }
   ],
   "source": [
    "tol = 0.0001\n",
    "verbosity = True\n",
    "initz0 = initz0\n",
    "DS = Variational_Bayes_Code(D, xdts, initz0, tol, verbosity)\n",
    "\n",
    "print(DS) "
   ]
  },
  {
   "cell_type": "code",
   "execution_count": 29,
   "metadata": {},
   "outputs": [
    {
     "name": "stdout",
     "output_type": "stream",
     "text": [
      "\n",
      "0.9916373021096109\n"
     ]
    },
    {
     "data": {
      "image/png": "[encoded data removed]",
      "text/plain": [
       "<Figure size 432x288 with 1 Axes>"
      ]
     },
     "metadata": {
      "needs_background": "light"
     },
     "output_type": "display_data"
    }
   ],
   "source": [
    "zmean13 = DS['zmean']\n",
    "wmean13 = DS['wmean']\n",
    "zmean13[np.where(np.diag(DS['wCOV'])>6.2e-4)] = 0\n",
    "plt.stem(zmean13)\n",
    "wmean13[np.where(np.diag(DS['wCOV'])>6.2e-4)] = 0\n",
    "print()\n",
    "print(np.sqrt(wmean13[0]))"
   ]
  },
  {
   "cell_type": "markdown",
   "metadata": {},
   "source": [
    "# Diffusion 12"
   ]
  },
  {
   "cell_type": "code",
   "execution_count": 30,
   "metadata": {},
   "outputs": [],
   "source": [
    "xdts = xzs10"
   ]
  },
  {
   "cell_type": "code",
   "execution_count": 31,
   "metadata": {},
   "outputs": [
    {
     "name": "stdout",
     "output_type": "stream",
     "text": [
      "{'Relevant': matlab.double([[1.0],[7.0],[11.0],[16.0],[20.0],[26.0],[34.0],[36.0],[38.0],[53.0],[56.0],[60.0],[66.0],[68.0],[72.0]]), 'Value': matlab.double([[0.9865209229832042],[-3.3038173413435667],[0.36279558457966843],[0.20623872242677171],[0.14510573029054788],[2.1310335062326593],[-0.24825274089512409],[0.3334672657439126],[-0.13689974391090637],[-3.9553204569491047],[0.19512895868011365],[6.021401815032007],[-0.49036459275335337],[0.5573999164587363],[0.06858133601857361]])}\n"
     ]
    }
   ],
   "source": [
    "#!/usr/bin/env python\n",
    "\"\"\"\n",
    "Sample script that uses the SparseBayes module created using\n",
    "MATLAB Compiler SDK.\n",
    "\n",
    "Refer to the MATLAB Compiler SDK documentation for more information.\n",
    "\"\"\"\n",
    "\n",
    "from __future__ import print_function\n",
    "import SparseBayes\n",
    "import matlab\n",
    "\n",
    "my_SparseBayes = SparseBayes.initialize()\n",
    "\n",
    "DictIn = matlab.double(Dict, size=(D.shape[0], D.shape[1]))\n",
    "targetIn = matlab.double(xdts, size=(D.shape[0], 1))\n",
    "DMOut = my_SparseBayes.SparseBayes(DictIn, targetIn)\n",
    "print(DMOut, sep='\\n')\n",
    "\n",
    "my_SparseBayes.terminate()"
   ]
  },
  {
   "cell_type": "code",
   "execution_count": 32,
   "metadata": {},
   "outputs": [
    {
     "name": "stdout",
     "output_type": "stream",
     "text": [
      "[1. 0. 0. 0. 0. 0. 1. 0. 0. 0. 1. 0. 0. 0. 0. 1. 0. 0. 0. 1. 0. 0. 0. 0.\n",
      " 0. 1. 0. 0. 0. 0. 0. 0. 0. 1. 0. 1. 0. 1. 0. 0. 0. 0. 0. 0. 0. 0. 0. 0.\n",
      " 0. 0. 0. 0. 1. 0. 0. 1. 0. 0. 0. 1. 0. 0. 0. 0. 0. 1. 0. 1. 0. 0. 0. 1.\n",
      " 0. 0. 0. 0. 0. 0. 0. 0. 0.]\n"
     ]
    }
   ],
   "source": [
    "c = np.array(DMOut['Value'])\n",
    "d = []\n",
    "for j in c:\n",
    "    d.append(j[0])\n",
    "    \n",
    "a = np.array(DMOut['Relevant'])\n",
    "b = []\n",
    "for i in a:\n",
    "    b.append(int((i[0])-1))\n",
    "    \n",
    "initz0 = np.zeros(D.shape[1])\n",
    "for i in b:\n",
    "    initz0[i] = 1\n",
    "    \n",
    "print(initz0)"
   ]
  },
  {
   "cell_type": "code",
   "execution_count": 33,
   "metadata": {},
   "outputs": [
    {
     "name": "stderr",
     "output_type": "stream",
     "text": [
      "C:\\Users\\USER\\AppData\\Local\\Temp/ipykernel_6304/3512855728.py:147: RuntimeWarning: divide by zero encountered in log\n",
      "  + np.nansum((1-zm)*(np.log(1-p0) - np.log(1-zm))))\n",
      "C:\\Users\\USER\\AppData\\Local\\Temp/ipykernel_6304/3512855728.py:147: RuntimeWarning: invalid value encountered in multiply\n",
      "  + np.nansum((1-zm)*(np.log(1-p0) - np.log(1-zm))))\n"
     ]
    },
    {
     "name": "stdout",
     "output_type": "stream",
     "text": [
      "Iteration = 0  log(Likelihood) = 8202.34301251808\n"
     ]
    },
    {
     "name": "stderr",
     "output_type": "stream",
     "text": [
      "C:\\Users\\USER\\AppData\\Local\\Temp/ipykernel_6304/3512855728.py:174: RuntimeWarning: overflow encountered in exp\n",
      "  expitC = 1./(1 + np.exp(-C))\n",
      "C:\\Users\\USER\\AppData\\Local\\Temp/ipykernel_6304/3512855728.py:146: RuntimeWarning: divide by zero encountered in log\n",
      "  + np.nansum(zm*(np.log(p0) - np.log(zm)))\n",
      "C:\\Users\\USER\\AppData\\Local\\Temp/ipykernel_6304/3512855728.py:146: RuntimeWarning: invalid value encountered in multiply\n",
      "  + np.nansum(zm*(np.log(p0) - np.log(zm)))\n"
     ]
    },
    {
     "name": "stdout",
     "output_type": "stream",
     "text": [
      "Iteration = 1  log(Likelihood) = 8255.128084408918\n",
      "Iteration = 2  log(Likelihood) = 8255.130318847578\n",
      "Iteration = 3  log(Likelihood) = 8255.130318990325\n",
      "{'zmean': array([1.00000000e+00, 1.16865599e-41, 1.22184248e-22, 3.25889156e-33,\n",
      "       1.30987227e-22, 9.86620563e-39, 1.34592438e-22, 2.33028442e-44,\n",
      "       1.35176970e-22, 0.00000000e+00, 1.92066217e-38, 0.00000000e+00,\n",
      "       2.90411351e-37, 0.00000000e+00, 4.44218818e-36, 1.00000000e+00,\n",
      "       6.46955297e-35, 1.29416488e-30, 1.82677354e-22, 4.97366511e-25,\n",
      "       1.83296325e-22, 4.53006872e-25, 1.83925623e-22, 6.80929460e-25,\n",
      "       1.84377149e-22, 1.82892974e-22, 1.92510097e-22, 1.80538786e-22,\n",
      "       1.92565631e-22, 1.81833387e-22, 1.92608333e-22, 1.81712535e-22,\n",
      "       1.92643286e-22, 1.60113994e-24, 1.86719789e-22, 9.00456800e-28,\n",
      "       1.87241151e-22, 9.93718378e-25, 1.87768367e-22, 5.86596353e-24,\n",
      "       1.88050167e-22, 1.84488657e-22, 1.92565210e-22, 1.81705503e-22,\n",
      "       1.92602939e-22, 1.83042490e-22, 1.92635672e-22, 1.83654901e-22,\n",
      "       1.92665094e-22, 4.12736054e-25, 1.86229876e-22, 4.10462024e-25,\n",
      "       1.86367417e-22, 3.67930232e-29, 1.86998015e-22, 3.41082535e-25,\n",
      "       1.87665639e-22, 1.84772839e-22, 1.92606449e-22, 1.82719799e-22,\n",
      "       1.92635319e-22, 1.83796050e-22, 1.92652434e-22, 1.84359068e-22,\n",
      "       1.92672453e-22, 7.21735856e-26, 1.81291926e-22, 1.51039886e-25,\n",
      "       1.82471585e-22, 1.38370392e-25, 1.83346667e-22, 1.15155770e-30,\n",
      "       1.84178622e-22, 1.85173557e-22, 1.92640616e-22, 1.83040261e-22,\n",
      "       1.92663691e-22, 1.83541193e-22, 1.92672486e-22, 1.84524277e-22,\n",
      "       1.92674396e-22]), 'wmean': array([ 9.84781455e-01,  4.91926608e-41,  2.38252288e-23,  1.80392357e-32,\n",
      "        1.79127598e-23, -8.86431889e-39,  8.35960553e-24,  4.10545131e-44,\n",
      "        1.08965565e-23,  0.00000000e+00,  2.09604561e-38,  0.00000000e+00,\n",
      "        2.82983891e-37,  0.00000000e+00,  3.91461198e-36,  2.35773404e-01,\n",
      "        5.80495693e-35,  4.34545748e-30,  2.42760383e-23,  1.27865147e-24,\n",
      "        1.92476985e-23,  2.53559410e-25,  1.79734315e-23,  1.03697192e-24,\n",
      "        1.77408134e-23,  2.85702217e-23,  1.68037096e-24,  3.69468191e-23,\n",
      "        1.13848514e-24,  1.66936431e-23,  9.51044865e-25,  1.12169872e-23,\n",
      "        1.56811035e-24,  3.18406661e-24,  2.90390779e-23,  4.76085852e-27,\n",
      "        2.17359025e-23,  9.22078003e-25,  1.91980581e-23,  1.33569722e-23,\n",
      "        2.34158702e-23,  2.55535036e-23,  1.15444470e-24,  3.91168269e-23,\n",
      "        7.19253761e-25,  1.47746798e-23,  4.86472487e-25,  1.09622076e-23,\n",
      "        9.99221885e-25, -1.59293646e-25, -3.59016631e-23,  1.69537216e-26,\n",
      "       -4.02194793e-23, -4.53952454e-29, -3.04697277e-23,  1.93524416e-25,\n",
      "       -2.61465306e-23,  1.82474724e-23,  9.16029997e-25,  3.65687402e-23,\n",
      "        4.40921672e-25,  9.62874868e-24,  1.75160164e-25,  1.34887525e-23,\n",
      "        4.89516644e-25, -9.63173568e-26, -1.69188509e-23,  1.82781657e-25,\n",
      "       -1.85259653e-23,  8.87973568e-27, -1.53834506e-23,  2.24293033e-30,\n",
      "       -9.98432547e-24,  1.63157682e-23,  1.23796880e-24,  3.21699673e-23,\n",
      "        7.72775108e-25,  9.87258522e-24,  4.80192849e-25,  1.75421438e-23,\n",
      "        6.30825880e-25]), 'wCOV': array([[ 1.65399165e-05, -2.50115142e-44,  3.73133565e-26, ...,\n",
      "         1.70348837e-27,  1.22540846e-26,  1.52702863e-27],\n",
      "       [-2.50115142e-44,  1.09633689e-01, -7.86067913e-65, ...,\n",
      "        -4.36558769e-66,  8.64429777e-65, -1.04412414e-66],\n",
      "       [ 3.73133565e-26, -7.86067913e-65,  1.09633689e-01, ...,\n",
      "        -1.49608450e-47, -7.57702841e-47, -1.27225574e-47],\n",
      "       ...,\n",
      "       [ 1.70348837e-27, -4.36558769e-66, -1.49608450e-47, ...,\n",
      "         1.09633689e-01, -1.57422761e-47, -3.34154533e-48],\n",
      "       [ 1.22540846e-26,  8.64429777e-65, -7.57702841e-47, ...,\n",
      "        -1.57422761e-47,  1.09633689e-01, -1.74322187e-47],\n",
      "       [ 1.52702863e-27, -1.04412414e-66, -1.27225574e-47, ...,\n",
      "        -3.34154533e-48, -1.74322187e-47,  1.09633689e-01]]), 'sig2': 0.010963376319814838, 'modelIdx': array([14]), 'Zmed': array([1.]), 'Wsel': array([0.2357734]), 'Wcov': array([0.00020202])}\n"
     ]
    }
   ],
   "source": [
    "tol = 0.0001\n",
    "verbosity = True\n",
    "initz0 = initz0\n",
    "DS = Variational_Bayes_Code(D, xdts, initz0, tol, verbosity)\n",
    "\n",
    "print(DS) "
   ]
  },
  {
   "cell_type": "code",
   "execution_count": 37,
   "metadata": {},
   "outputs": [
    {
     "name": "stdout",
     "output_type": "stream",
     "text": [
      "\n",
      "0.9923615546549273\n"
     ]
    },
    {
     "data": {
      "image/png": "[encoded data removed]",
      "text/plain": [
       "<Figure size 432x288 with 1 Axes>"
      ]
     },
     "metadata": {
      "needs_background": "light"
     },
     "output_type": "display_data"
    }
   ],
   "source": [
    "zmean12 = DS['zmean']\n",
    "wmean12 = DS['wmean']\n",
    "zmean12[np.where(np.diag(DS['wCOV'])>3e-5)] = 0\n",
    "plt.stem(zmean12)\n",
    "wmean12[np.where(np.diag(DS['wCOV'])>3e-5)] = 0\n",
    "print()\n",
    "print(np.sqrt(wmean12[0]))"
   ]
  },
  {
   "cell_type": "markdown",
   "metadata": {},
   "source": [
    "# Diffusion 11"
   ]
  },
  {
   "cell_type": "code",
   "execution_count": 2,
   "metadata": {},
   "outputs": [],
   "source": [
    "import numpy as np\n",
    "import matplotlib.pyplot as plt\n",
    "\"\"\"\n",
    "A MDOF system excited by random noise\n",
    "----------------------------------------------------------------------\n",
    "\"\"\"\n",
    "\n",
    "def drift_mat(dof,k,c,m):\n",
    "    dim = 2 * dof\n",
    "    A = np.zeros((dim,dim))\n",
    "    \n",
    "    for i in range(dim):\n",
    "        if (i%2 == 0):\n",
    "            A[i][i+1] = 1\n",
    "    \n",
    "        elif(i==1):\n",
    "            A[i][i-1] = -(k+k)/m\n",
    "            A[i][i] = -(c+c)/m\n",
    "            A[i][i+1] = k/m\n",
    "            A[i][i+2] = c/m\n",
    "    \n",
    "        elif(i==dim-1):\n",
    "            A[i][i] = -c/m\n",
    "            A[i][i-1] = -k/m\n",
    "            A[i][i-2] = c/m\n",
    "            A[i][i-3] = k/m\n",
    "            \n",
    "        else:\n",
    "            A[i][i-3] = k/m \n",
    "            A[i][i-2] = c/m\n",
    "            A[i][i-1] = -(k+k)/m\n",
    "            A[i][i] = -(c+c)/m\n",
    "            A[i][i+1] = k/m\n",
    "            A[i][i+2] = c/m\n",
    "    return A\n",
    "\n",
    "def M_DOF_sys(x_initial, dof, T):\n",
    "    # parameters of M_DOF_sys in Equation\n",
    "    m = 1\n",
    "    c = 2\n",
    "    k = 3000\n",
    "    sigma = 1\n",
    "    \n",
    "    # solution by euler maruyama\n",
    "    # -------------------------------------------------------\n",
    "    dt = 0.0001\n",
    "    t = np.arange(0, T+dt, dt)\n",
    "    Nsamp = 200 # no. of samples in the run\n",
    "\n",
    "    \n",
    "    y19 = []  \n",
    "    y20 = []\n",
    "    y21 = []\n",
    "    y22 = []\n",
    "    y23 = []\n",
    "    y24 = []\n",
    "    y25 = []\n",
    "    y26 = []\n",
    "    \n",
    "    xz11 = []\n",
    "    xz12 = []\n",
    "    \n",
    "    xzs11 = []\n",
    "    xzs12 = []\n",
    "    \n",
    "    # Simulation Starts Here ::\n",
    "    # -------------------------------------------------------\n",
    "    for ensemble in range(Nsamp):\n",
    "        x0 = x_initial\n",
    "        x = x0                              # initial condition.\n",
    "        for n in range(len(t)-1):\n",
    "            dW = np.sqrt(dt)*np.random.randn(2*dof)\n",
    "            \n",
    "            '''LINEAR PART DRIFT'''\n",
    "        \n",
    "            A = drift_mat(dof,k,c,m)\n",
    "            \n",
    "            '''DIFFUSION TERM  = b'''\n",
    "            diffu_arr = np.zeros(2*dof)\n",
    "            for i in range(2*dof):\n",
    "                if (i%2 != 0):\n",
    "                    diffu_arr[i] = sigma/m\n",
    "            \n",
    "            soln_arr = x0 + np.matmul(A,x0)*dt + diffu_arr*dW        \n",
    "            x0 = soln_arr\n",
    "            x = np.column_stack((x, x0))\n",
    "            \n",
    "        y19.append(x[-19,:])                \n",
    "        y20.append(x[-20,:])\n",
    "        y21.append(x[-21,:])       # Displacement    \n",
    "        y22.append(x[-22,:])\n",
    "        y23.append(x[-23,:])       # Displacement             \n",
    "        y24.append(x[-24,:])\n",
    "        y25.append(x[-25,:])                \n",
    "        y26.append(x[-26,:])\n",
    "\n",
    "        \n",
    "        zint11 = x[-21, 0:-1]        # Velocity\n",
    "        xfinal11 = x[-21, 1:] \n",
    "        xmz11 = (xfinal11 - zint11)\n",
    "        \n",
    "        zint12 = x[-23, 0:-1]       # Velocity\n",
    "        xfinal12 = x[-23, 1:] \n",
    "        xmz12 = (xfinal12 - zint12) \n",
    "\n",
    "        xz11.append(xmz11)\n",
    "        xz12.append(xmz12)\n",
    "        \n",
    "        xmzsq11 = np.multiply(xmz11, xmz11)\n",
    "        xzs11.append(xmzsq11)\n",
    "        \n",
    "        xmzsq12 = np.multiply(xmz12, xmz12)\n",
    "        xzs12.append(xmzsq12)\n",
    "        \n",
    "    xz11 = pow(dt,-1)*np.mean(np.array(xz11), axis = 0)\n",
    "    xz12 = pow(dt,-1)*np.mean(np.array(xz12), axis = 0)\n",
    "\n",
    "    xzs11 = pow(dt,-1)*np.mean(np.array(xzs11), axis = 0)\n",
    "    xzs12 = pow(dt,-1)*np.mean(np.array(xzs12), axis = 0)\n",
    "\n",
    "    y19 = np.array(y19)\n",
    "    y20 = np.array(y20)\n",
    "    y21 = np.array(y21)\n",
    "    y22 = np.array(y22)\n",
    "    y23 = np.array(y23)\n",
    "    y24 = np.array(y24)\n",
    "    y25 = np.array(y25)\n",
    "    y26 = np.array(y26)\n",
    "\n",
    "    time = t[0:-1]\n",
    "    return xz11, xz12, xzs11, xzs12, y19, y20, y21, y22, y23, y24, y25, y26, time"
   ]
  },
  {
   "cell_type": "code",
   "execution_count": 4,
   "metadata": {},
   "outputs": [
    {
     "name": "stdout",
     "output_type": "stream",
     "text": [
      "\n"
     ]
    },
    {
     "data": {
      "text/plain": [
       "21.792883121967314"
      ]
     },
     "execution_count": 4,
     "metadata": {},
     "output_type": "execute_result"
    }
   ],
   "source": [
    "import time\n",
    "start = time.time()\n",
    "xz11, xz12, xzs11, xzs12, y19, y20, y21, y22, y23, y24, y25, y26, time_ = M_DOF_sys(x_initial, dof, T)\n",
    "end = time.time()\n",
    "print()\n",
    "TIMES = (end - start)/60\n",
    "TIMES"
   ]
  },
  {
   "cell_type": "code",
   "execution_count": 5,
   "metadata": {},
   "outputs": [
    {
     "name": "stdout",
     "output_type": "stream",
     "text": [
      "\n"
     ]
    },
    {
     "data": {
      "text/plain": [
       "5.431408035755157"
      ]
     },
     "execution_count": 5,
     "metadata": {},
     "output_type": "execute_result"
    }
   ],
   "source": [
    "startD = time.time()\n",
    "# Expected Dictionary Creation:\n",
    "libr = []\n",
    "for j in range(len(y19)):\n",
    "    data = np.row_stack((y19[j,0:-1], y20[j,0:-1], y21[j,0:-1], y22[j,0:-1], y23[j,0:-1], y24[j,0:-1], y25[j,0:-1], y26[j,0:-1]))\n",
    "    Dtemp, nl = library(data, 1, 0)\n",
    "    libr.append(Dtemp)\n",
    "libr = np.array(libr)\n",
    "Dictionary= np.mean(libr, axis = 0)\n",
    "print()\n",
    "endD = time.time()\n",
    "TIMED = (endD - startD)/60\n",
    "TIMED"
   ]
  },
  {
   "cell_type": "code",
   "execution_count": 8,
   "metadata": {},
   "outputs": [],
   "source": [
    "xdts = xzs11\n",
    "D = Dictionary"
   ]
  },
  {
   "cell_type": "code",
   "execution_count": 10,
   "metadata": {},
   "outputs": [
    {
     "data": {
      "text/plain": [
       "(810000,)"
      ]
     },
     "execution_count": 10,
     "metadata": {},
     "output_type": "execute_result"
    }
   ],
   "source": [
    "Dict = D.reshape(-1,order='F')\n",
    "Dict.shape"
   ]
  },
  {
   "cell_type": "code",
   "execution_count": 11,
   "metadata": {
    "scrolled": true
   },
   "outputs": [
    {
     "name": "stdout",
     "output_type": "stream",
     "text": [
      "{'Relevant': matlab.double([[1.0],[10.0],[16.0],[17.0],[41.0],[48.0],[56.0],[70.0],[81.0]]), 'Value': matlab.double([[0.9901238132330448],[0.16358128587352117],[0.016189251561629477],[0.5675585250561104],[-1.773903788783252],[10.063158752050205],[0.2885044675082408],[-0.09365842972938068],[-51.71240194306952]])}\n"
     ]
    }
   ],
   "source": [
    "#!/usr/bin/env python\n",
    "\"\"\"\n",
    "Sample script that uses the SparseBayes module created using\n",
    "MATLAB Compiler SDK.\n",
    "\n",
    "Refer to the MATLAB Compiler SDK documentation for more information.\n",
    "\"\"\"\n",
    "\n",
    "from __future__ import print_function\n",
    "import SparseBayes\n",
    "import matlab\n",
    "\n",
    "my_SparseBayes = SparseBayes.initialize()\n",
    "\n",
    "DictIn = matlab.double(Dict, size=(D.shape[0], D.shape[1]))\n",
    "targetIn = matlab.double(xdts, size=(D.shape[0], 1))\n",
    "DMOut = my_SparseBayes.SparseBayes(DictIn, targetIn)\n",
    "print(DMOut, sep='\\n')\n",
    "\n",
    "my_SparseBayes.terminate()"
   ]
  },
  {
   "cell_type": "code",
   "execution_count": null,
   "metadata": {},
   "outputs": [],
   "source": [
    "c = np.array(DMOut['Value'])\n",
    "d = []\n",
    "for j in c:\n",
    "    d.append(j[0])\n",
    "    \n",
    "a = np.array(DMOut['Relevant'])\n",
    "b = []\n",
    "for i in a:\n",
    "    b.append(int((i[0])-1))\n",
    "    \n",
    "initz0 = np.zeros(D.shape[1])\n",
    "for i in b:\n",
    "    initz0[i] = 1"
   ]
  },
  {
   "cell_type": "code",
   "execution_count": 15,
   "metadata": {
    "scrolled": true
   },
   "outputs": [
    {
     "name": "stderr",
     "output_type": "stream",
     "text": [
      "C:\\Users\\USER\\AppData\\Local\\Temp/ipykernel_6256/3512855728.py:147: RuntimeWarning: divide by zero encountered in log\n",
      "  + np.nansum((1-zm)*(np.log(1-p0) - np.log(1-zm))))\n",
      "C:\\Users\\USER\\AppData\\Local\\Temp/ipykernel_6256/3512855728.py:147: RuntimeWarning: invalid value encountered in multiply\n",
      "  + np.nansum((1-zm)*(np.log(1-p0) - np.log(1-zm))))\n"
     ]
    },
    {
     "name": "stdout",
     "output_type": "stream",
     "text": [
      "Iteration = 0  log(Likelihood) = 8089.890506783656\n"
     ]
    },
    {
     "name": "stderr",
     "output_type": "stream",
     "text": [
      "C:\\Users\\USER\\AppData\\Local\\Temp/ipykernel_6256/3512855728.py:174: RuntimeWarning: overflow encountered in exp\n",
      "  expitC = 1./(1 + np.exp(-C))\n",
      "C:\\Users\\USER\\AppData\\Local\\Temp/ipykernel_6256/3512855728.py:146: RuntimeWarning: divide by zero encountered in log\n",
      "  + np.nansum(zm*(np.log(p0) - np.log(zm)))\n",
      "C:\\Users\\USER\\AppData\\Local\\Temp/ipykernel_6256/3512855728.py:146: RuntimeWarning: invalid value encountered in multiply\n",
      "  + np.nansum(zm*(np.log(p0) - np.log(zm)))\n"
     ]
    },
    {
     "name": "stdout",
     "output_type": "stream",
     "text": [
      "Iteration = 1  log(Likelihood) = 8149.508447649354\n",
      "Iteration = 2  log(Likelihood) = 8149.509790176409\n",
      "Iteration = 3  log(Likelihood) = 8149.509790261411\n",
      "{'zmean': array([1.00000000e+00, 9.86614786e-39, 1.34592431e-22, 2.33026606e-44,\n",
      "       1.35176962e-22, 6.42392231e-55, 1.33629069e-22, 8.09374247e-59,\n",
      "       1.35060882e-22, 1.00000000e+00, 4.44216641e-36, 0.00000000e+00,\n",
      "       6.46952397e-35, 0.00000000e+00, 7.90599869e-34, 1.00000000e+00,\n",
      "       9.64077304e-33, 3.67929343e-29, 1.86998014e-22, 3.41082197e-25,\n",
      "       1.87665638e-22, 6.88072008e-25, 1.87849755e-22, 2.92630014e-25,\n",
      "       1.88419802e-22, 1.83796049e-22, 1.92652434e-22, 1.84359067e-22,\n",
      "       1.92672453e-22, 1.84743022e-22, 1.92690442e-22, 1.86054540e-22,\n",
      "       1.92715021e-22, 1.38370236e-25, 1.83346666e-22, 1.15155430e-30,\n",
      "       1.84178621e-22, 1.01182342e-26, 1.84862015e-22, 2.71684107e-26,\n",
      "       1.85468473e-22, 1.83541191e-22, 1.92672486e-22, 1.84524276e-22,\n",
      "       1.92674396e-22, 1.84670781e-22, 1.92685697e-22, 1.86357936e-22,\n",
      "       1.92709294e-22, 6.41894524e-26, 1.81956756e-22, 2.17355035e-26,\n",
      "       1.81869837e-22, 3.10498736e-36, 1.82242833e-22, 4.38311862e-29,\n",
      "       1.82884437e-22, 1.83435744e-22, 1.92689449e-22, 1.84256628e-22,\n",
      "       1.92685617e-22, 1.84046584e-22, 1.92683852e-22, 1.86148098e-22,\n",
      "       1.92701804e-22, 4.21077191e-26, 1.80507811e-22, 1.40385054e-27,\n",
      "       1.81158106e-22, 4.20364426e-30, 1.80786660e-22, 4.19790583e-38,\n",
      "       1.80836702e-22, 1.83992432e-22, 1.92711804e-22, 1.84416191e-22,\n",
      "       1.92707705e-22, 1.84318072e-22, 1.92701707e-22, 1.86206709e-22,\n",
      "       1.92703867e-22]), 'wmean': array([ 9.79939250e-01, -3.49535514e-39,  3.14865827e-23,  2.23968021e-44,\n",
      "        1.78925139e-23,  4.71640971e-54,  2.67724529e-24,  3.00212812e-58,\n",
      "       -4.42876784e-24,  1.39482806e-01,  3.13103344e-36,  0.00000000e+00,\n",
      "        4.84617873e-35,  0.00000000e+00,  5.24868465e-34,  1.23441868e-01,\n",
      "        5.74957262e-33, -4.74998701e-29, -7.20127408e-24, -4.04816878e-25,\n",
      "       -6.81460725e-24, -6.74064996e-25, -9.57426629e-24, -3.26868907e-25,\n",
      "       -7.00983313e-24,  2.47585394e-23,  1.58905864e-24,  1.91180252e-23,\n",
      "        1.29829986e-24,  1.43847277e-23,  5.66469727e-25,  3.51981011e-23,\n",
      "        2.50455012e-25, -5.21888642e-26, -1.18157911e-23, -1.80861269e-30,\n",
      "       -7.12877781e-24,  6.59407591e-27, -8.02205521e-24,  1.16755483e-26,\n",
      "       -8.35444746e-24,  1.88616313e-23,  1.26667543e-24,  1.38030727e-23,\n",
      "        9.67187322e-25,  6.98479510e-24,  1.84643568e-25,  2.99527914e-23,\n",
      "       -2.37850918e-25,  1.05803293e-25,  3.38396050e-23,  4.12083857e-26,\n",
      "        2.71206198e-23,  1.42927914e-35,  2.17456711e-23,  1.38279886e-28,\n",
      "        1.92621095e-23,  1.37423743e-23,  5.06755640e-25,  4.76501674e-24,\n",
      "        1.67942232e-25,  5.41690607e-25, -5.36940917e-25,  1.97976089e-23,\n",
      "       -9.43793008e-25,  3.17777000e-26,  1.02391161e-23,  1.37708171e-27,\n",
      "        4.76428371e-24,  6.27346268e-30,  6.10948577e-24,  8.47305563e-38,\n",
      "        8.10780902e-24,  1.05452393e-23,  6.24039747e-26,  9.54908886e-25,\n",
      "       -2.69379442e-25, -3.26685607e-24, -9.43471436e-25,  1.56821921e-23,\n",
      "       -1.33196464e-24]), 'wCOV': array([[ 1.76292284e-05, -6.07395408e-42,  2.76195891e-26, ...,\n",
      "         1.37761381e-27,  6.29718685e-27,  1.37696590e-27],\n",
      "       [-6.07395408e-42,  1.10818277e-01, -1.05856774e-64, ...,\n",
      "        -9.40950908e-63, -5.82054136e-62, -9.90839504e-63],\n",
      "       [ 2.76195891e-26, -1.05856774e-64,  1.10818277e-01, ...,\n",
      "        -3.08435467e-47, -1.66926558e-46, -2.98313454e-47],\n",
      "       ...,\n",
      "       [ 1.37761381e-27, -9.40950908e-63, -3.08435467e-47, ...,\n",
      "         1.10818277e-01, -2.25000949e-47, -4.09184592e-48],\n",
      "       [ 6.29718685e-27, -5.82054136e-62, -1.66926558e-46, ...,\n",
      "        -2.25000949e-47,  1.10818277e-01, -2.34032724e-47],\n",
      "       [ 1.37696590e-27, -9.90839504e-63, -2.98313454e-47, ...,\n",
      "        -4.09184592e-48, -2.34032724e-47,  1.10818277e-01]]), 'sig2': 0.01108183345658153, 'modelIdx': array([ 8, 14]), 'Zmed': array([1., 1.]), 'Wsel': array([0.13948281, 0.12344187]), 'Wcov': array([0.00269806, 0.00239031])}\n"
     ]
    }
   ],
   "source": [
    "tol = 0.0001\n",
    "verbosity = True\n",
    "initz0 = initz0\n",
    "DS = Variational_Bayes_Code(D, xdts, initz0, tol, verbosity)\n",
    "\n",
    "print(DS) "
   ]
  },
  {
   "cell_type": "code",
   "execution_count": 19,
   "metadata": {},
   "outputs": [
    {
     "name": "stdout",
     "output_type": "stream",
     "text": [
      "\n",
      "0.9899188099863844\n"
     ]
    },
    {
     "data": {
      "image/png": "[encoded data removed]",
      "text/plain": [
       "<Figure size 432x288 with 1 Axes>"
      ]
     },
     "metadata": {
      "needs_background": "light"
     },
     "output_type": "display_data"
    }
   ],
   "source": [
    "zmean11 = DS['zmean']\n",
    "wmean11 = DS['wmean']\n",
    "zmean11[np.where(np.diag(DS['wCOV'])>5e-4)] = 0\n",
    "plt.stem(zmean11)\n",
    "wmean11[np.where(np.diag(DS['wCOV'])>5e-4)] = 0\n",
    "print()\n",
    "print(np.sqrt(wmean11[0]))"
   ]
  },
  {
   "cell_type": "markdown",
   "metadata": {},
   "source": [
    "# Diffusion 10"
   ]
  },
  {
   "cell_type": "code",
   "execution_count": 20,
   "metadata": {},
   "outputs": [],
   "source": [
    "xdts = xzs12"
   ]
  },
  {
   "cell_type": "code",
   "execution_count": 21,
   "metadata": {},
   "outputs": [
    {
     "name": "stdout",
     "output_type": "stream",
     "text": [
      "{'Relevant': matlab.double([[1.0],[4.0],[12.0],[16.0],[24.0],[32.0],[38.0],[41.0],[58.0],[73.0],[78.0]]), 'Value': matlab.double([[0.9819076967451932],[0.09140092181947508],[0.08689529174350885],[0.17319393019647966],[-0.007429900213746423],[-6.135093619475943],[-0.47396253646916475],[4.330390650614655],[5.6037754740846],[-0.6317503274629287],[-4.396070124654494]])}\n"
     ]
    }
   ],
   "source": [
    "#!/usr/bin/env python\n",
    "\"\"\"\n",
    "Sample script that uses the SparseBayes module created using\n",
    "MATLAB Compiler SDK.\n",
    "\n",
    "Refer to the MATLAB Compiler SDK documentation for more information.\n",
    "\"\"\"\n",
    "\n",
    "from __future__ import print_function\n",
    "import SparseBayes\n",
    "import matlab\n",
    "\n",
    "my_SparseBayes = SparseBayes.initialize()\n",
    "\n",
    "DictIn = matlab.double(Dict, size=(D.shape[0], D.shape[1]))\n",
    "targetIn = matlab.double(xdts, size=(D.shape[0], 1))\n",
    "DMOut = my_SparseBayes.SparseBayes(DictIn, targetIn)\n",
    "print(DMOut, sep='\\n')\n",
    "\n",
    "my_SparseBayes.terminate()"
   ]
  },
  {
   "cell_type": "code",
   "execution_count": 22,
   "metadata": {},
   "outputs": [
    {
     "name": "stdout",
     "output_type": "stream",
     "text": [
      "[1. 0. 0. 1. 0. 0. 0. 0. 0. 0. 0. 1. 0. 0. 0. 1. 0. 0. 0. 0. 0. 0. 0. 1.\n",
      " 0. 0. 0. 0. 0. 0. 0. 1. 0. 0. 0. 0. 0. 1. 0. 0. 1. 0. 0. 0. 0. 0. 0. 0.\n",
      " 0. 0. 0. 0. 0. 0. 0. 0. 0. 1. 0. 0. 0. 0. 0. 0. 0. 0. 0. 0. 0. 0. 0. 0.\n",
      " 1. 0. 0. 0. 0. 1. 0. 0. 0.]\n"
     ]
    }
   ],
   "source": [
    "c = np.array(DMOut['Value'])\n",
    "d = []\n",
    "for j in c:\n",
    "    d.append(j[0])\n",
    "    \n",
    "a = np.array(DMOut['Relevant'])\n",
    "b = []\n",
    "for i in a:\n",
    "    b.append(int((i[0])-1))\n",
    "    \n",
    "initz0 = np.zeros(D.shape[1])\n",
    "for i in b:\n",
    "    initz0[i] = 1\n",
    "    \n",
    "print(initz0)"
   ]
  },
  {
   "cell_type": "code",
   "execution_count": 23,
   "metadata": {},
   "outputs": [
    {
     "name": "stderr",
     "output_type": "stream",
     "text": [
      "C:\\Users\\USER\\AppData\\Local\\Temp/ipykernel_6256/3512855728.py:147: RuntimeWarning: divide by zero encountered in log\n",
      "  + np.nansum((1-zm)*(np.log(1-p0) - np.log(1-zm))))\n",
      "C:\\Users\\USER\\AppData\\Local\\Temp/ipykernel_6256/3512855728.py:147: RuntimeWarning: invalid value encountered in multiply\n",
      "  + np.nansum((1-zm)*(np.log(1-p0) - np.log(1-zm))))\n",
      "C:\\Users\\USER\\AppData\\Local\\Temp/ipykernel_6256/3512855728.py:174: RuntimeWarning: overflow encountered in exp\n",
      "  expitC = 1./(1 + np.exp(-C))\n"
     ]
    },
    {
     "name": "stdout",
     "output_type": "stream",
     "text": [
      "Iteration = 0  log(Likelihood) = 8025.978872508883\n"
     ]
    },
    {
     "name": "stderr",
     "output_type": "stream",
     "text": [
      "C:\\Users\\USER\\AppData\\Local\\Temp/ipykernel_6256/3512855728.py:146: RuntimeWarning: divide by zero encountered in log\n",
      "  + np.nansum(zm*(np.log(p0) - np.log(zm)))\n",
      "C:\\Users\\USER\\AppData\\Local\\Temp/ipykernel_6256/3512855728.py:146: RuntimeWarning: invalid value encountered in multiply\n",
      "  + np.nansum(zm*(np.log(p0) - np.log(zm)))\n"
     ]
    },
    {
     "name": "stdout",
     "output_type": "stream",
     "text": [
      "Iteration = 1  log(Likelihood) = 8083.320257596184\n",
      "Iteration = 2  log(Likelihood) = 8083.321853418955\n",
      "Iteration = 3  log(Likelihood) = 8083.321853521626\n",
      "{'zmean': array([1.00000000e+00, 9.86616726e-39, 1.34592433e-22, 2.33027223e-44,\n",
      "       1.35176965e-22, 6.42394750e-55, 1.33629072e-22, 8.09377801e-59,\n",
      "       1.35060885e-22, 0.00000000e+00, 4.44217372e-36, 1.00000000e+00,\n",
      "       6.46953371e-35, 0.00000000e+00, 7.90600956e-34, 1.00000000e+00,\n",
      "       9.64078503e-33, 3.67929641e-29, 1.86998014e-22, 3.41082311e-25,\n",
      "       1.87665638e-22, 6.88072211e-25, 1.87849755e-22, 2.92630113e-25,\n",
      "       1.88419802e-22, 1.83796049e-22, 1.92652434e-22, 1.84359067e-22,\n",
      "       1.92672453e-22, 1.84743023e-22, 1.92690442e-22, 1.86054540e-22,\n",
      "       1.92715021e-22, 1.38370288e-25, 1.83346667e-22, 1.15155544e-30,\n",
      "       1.84178621e-22, 1.01182394e-26, 1.84862015e-22, 2.71684233e-26,\n",
      "       1.85468474e-22, 1.83541192e-22, 1.92672486e-22, 1.84524276e-22,\n",
      "       1.92674396e-22, 1.84670782e-22, 1.92685697e-22, 1.86357936e-22,\n",
      "       1.92709294e-22, 6.41894793e-26, 1.81956756e-22, 2.17355139e-26,\n",
      "       1.81869837e-22, 3.10499253e-36, 1.82242833e-22, 4.38312214e-29,\n",
      "       1.82884438e-22, 1.83435744e-22, 1.92689449e-22, 1.84256628e-22,\n",
      "       1.92685617e-22, 1.84046585e-22, 1.92683852e-22, 1.86148098e-22,\n",
      "       1.92701804e-22, 4.21077377e-26, 1.80507812e-22, 1.40385141e-27,\n",
      "       1.81158107e-22, 4.20364814e-30, 1.80786661e-22, 4.19791376e-38,\n",
      "       1.80836702e-22, 1.83992433e-22, 1.92711804e-22, 1.84416192e-22,\n",
      "       1.92707705e-22, 1.84318072e-22, 1.92701707e-22, 1.86206709e-22,\n",
      "       1.92703867e-22]), 'wmean': array([ 9.86404833e-01, -3.87526637e-38, -2.85956673e-23,  3.65403956e-44,\n",
      "       -2.79535503e-23, -4.08360244e-55, -2.90911508e-23, -4.26976658e-58,\n",
      "       -3.80461322e-23,  0.00000000e+00,  9.75271032e-37,  1.25973867e-01,\n",
      "        1.28643746e-35,  0.00000000e+00,  9.66906595e-35,  1.08426920e-01,\n",
      "        7.46061781e-34, -6.93201157e-29, -2.11677876e-23, -3.86498461e-25,\n",
      "       -2.26596549e-23, -1.22856733e-24, -2.04506610e-23, -6.99987248e-25,\n",
      "       -1.86101064e-23,  7.16838885e-24, -2.17760348e-24, -1.35050590e-23,\n",
      "       -2.13060052e-24, -1.92885151e-23, -1.65592475e-24, -3.11171929e-23,\n",
      "       -1.91347709e-24,  4.09861258e-26,  1.95910961e-23,  1.07256544e-31,\n",
      "        1.86335065e-23, -1.81697439e-26,  2.04719168e-23,  4.90160728e-28,\n",
      "        2.45132940e-23,  9.57154170e-24, -2.10360202e-24, -1.26320205e-23,\n",
      "       -2.12364605e-24, -1.91958175e-23, -1.64942563e-24, -2.69518807e-23,\n",
      "       -1.95882784e-24,  5.08553162e-26, -3.97257948e-24, -4.13524205e-26,\n",
      "       -8.66074209e-25, -6.20611797e-36, -5.29715241e-24, -2.52395840e-29,\n",
      "       -6.49028207e-24,  7.48641821e-24, -1.73122867e-24, -1.30042151e-23,\n",
      "       -1.68694233e-24, -2.12611282e-23, -1.44157153e-24, -2.74319716e-23,\n",
      "       -1.99479261e-24, -1.51696878e-26, -2.83942401e-23, -1.86555238e-27,\n",
      "       -3.17891990e-23, -1.01511717e-29, -3.63147761e-23, -1.21094732e-37,\n",
      "       -3.77704787e-23,  8.84258604e-25, -2.02316344e-24, -1.64264039e-23,\n",
      "       -1.98481911e-24, -2.72176030e-23, -1.97539194e-24, -3.13389542e-23,\n",
      "       -2.64488755e-24]), 'wCOV': array([[ 1.69708562e-05, -1.23578986e-42,  2.70647954e-26, ...,\n",
      "         1.22388445e-27,  6.81436827e-27,  1.16926343e-27],\n",
      "       [-1.23578986e-42,  1.12293683e-01,  1.75664871e-62, ...,\n",
      "        -7.99022129e-63, -5.48905070e-62, -8.46207786e-63],\n",
      "       [ 2.70647954e-26,  1.75664871e-62,  1.12293683e-01, ...,\n",
      "        -3.12096601e-47, -1.66291327e-46, -3.03375755e-47],\n",
      "       ...,\n",
      "       [ 1.22388445e-27, -7.99022129e-63, -3.12096601e-47, ...,\n",
      "         1.12293683e-01, -2.26015208e-47, -4.18395194e-48],\n",
      "       [ 6.81436827e-27, -5.48905070e-62, -1.66291327e-46, ...,\n",
      "        -2.26015208e-47,  1.12293683e-01, -2.35409896e-47],\n",
      "       [ 1.16926343e-27, -8.46207786e-63, -3.03375755e-47, ...,\n",
      "        -4.18395194e-48, -2.35409896e-47,  1.12293683e-01]]), 'sig2': 0.011229374641764196, 'modelIdx': array([10, 14]), 'Zmed': array([1., 1.]), 'Wsel': array([0.12597387, 0.10842692]), 'Wcov': array([0.00243337, 0.00229806])}\n"
     ]
    }
   ],
   "source": [
    "tol = 0.0001\n",
    "verbosity = True\n",
    "initz0 = initz0\n",
    "DS = Variational_Bayes_Code(D, xdts, initz0, tol, verbosity)\n",
    "\n",
    "print(DS) "
   ]
  },
  {
   "cell_type": "code",
   "execution_count": 27,
   "metadata": {},
   "outputs": [
    {
     "name": "stdout",
     "output_type": "stream",
     "text": [
      "\n",
      "0.9931791546845723\n"
     ]
    },
    {
     "data": {
      "image/png": "[encoded data removed]",
      "text/plain": [
       "<Figure size 432x288 with 1 Axes>"
      ]
     },
     "metadata": {
      "needs_background": "light"
     },
     "output_type": "display_data"
    }
   ],
   "source": [
    "zmean10 = DS['zmean']\n",
    "wmean10 = DS['wmean']\n",
    "zmean10[np.where(np.diag(DS['wCOV'])>5e-4)] = 0\n",
    "plt.stem(zmean10)\n",
    "wmean10[np.where(np.diag(DS['wCOV'])>5e-4)] = 0\n",
    "print()\n",
    "print(np.sqrt(wmean10[0]))"
   ]
  },
  {
   "cell_type": "markdown",
   "metadata": {},
   "source": [
    "# Diffusion 9"
   ]
  },
  {
   "cell_type": "code",
   "execution_count": 2,
   "metadata": {},
   "outputs": [],
   "source": [
    "import numpy as np\n",
    "import matplotlib.pyplot as plt\n",
    "\"\"\"\n",
    "A MDOF system excited by random noise\n",
    "----------------------------------------------------------------------\n",
    "\"\"\"\n",
    "\n",
    "def drift_mat(dof,k,c,m):\n",
    "    dim = 2 * dof\n",
    "    A = np.zeros((dim,dim))\n",
    "    \n",
    "    for i in range(dim):\n",
    "        if (i%2 == 0):\n",
    "            A[i][i+1] = 1\n",
    "    \n",
    "        elif(i==1):\n",
    "            A[i][i-1] = -(k+k)/m\n",
    "            A[i][i] = -(c+c)/m\n",
    "            A[i][i+1] = k/m\n",
    "            A[i][i+2] = c/m\n",
    "    \n",
    "        elif(i==dim-1):\n",
    "            A[i][i] = -c/m\n",
    "            A[i][i-1] = -k/m\n",
    "            A[i][i-2] = c/m\n",
    "            A[i][i-3] = k/m\n",
    "            \n",
    "        else:\n",
    "            A[i][i-3] = k/m \n",
    "            A[i][i-2] = c/m\n",
    "            A[i][i-1] = -(k+k)/m\n",
    "            A[i][i] = -(c+c)/m\n",
    "            A[i][i+1] = k/m\n",
    "            A[i][i+2] = c/m\n",
    "    return A\n",
    "\n",
    "def M_DOF_sys(x_initial, dof, T):\n",
    "    # parameters of M_DOF_sys in Equation\n",
    "    m = 1\n",
    "    c = 2\n",
    "    k = 3000\n",
    "\n",
    "    sigma = 1\n",
    "    \n",
    "    # solution by euler maruyama\n",
    "    # -------------------------------------------------------\n",
    "    dt = 0.0001\n",
    "    t = np.arange(0, T+dt, dt)\n",
    "    Nsamp = 200 # no. of samples in the run\n",
    "\n",
    "    y23 = []\n",
    "    y24 = []\n",
    "    y25 = []\n",
    "    y26 = []\n",
    "    y27 = []\n",
    "    y28 = []\n",
    "    y29 = []\n",
    "    y30 = []\n",
    "    \n",
    "    xz13 = []\n",
    "    xz14 = []\n",
    "    \n",
    "    xzs13 = []\n",
    "    xzs14 = []\n",
    "    \n",
    "    # Simulation Starts Here :\n",
    "    # -------------------------------------------------------\n",
    "    for ensemble in range(Nsamp):\n",
    "        x0 = x_initial\n",
    "        x = x0                              # initial condition.\n",
    "        for n in range(len(t)-1):\n",
    "            dW = np.sqrt(dt)*np.random.randn(2*dof)\n",
    "            \n",
    "            '''LINEAR PART DRIFT'''\n",
    "        \n",
    "            A = drift_mat(dof,k,c,m)\n",
    "            \n",
    "            '''DIFFUSION TERM  = b'''\n",
    "            diffu_arr = np.zeros(2*dof)\n",
    "            for i in range(2*dof):\n",
    "                if (i%2 != 0):\n",
    "                    diffu_arr[i] = sigma/m\n",
    "            \n",
    "            soln_arr = x0 + np.matmul(A,x0)*dt + diffu_arr*dW        \n",
    "            x0 = soln_arr\n",
    "            x = np.column_stack((x, x0))\n",
    "            \n",
    "        y23.append(x[-23,:])                \n",
    "        y24.append(x[-24,:])\n",
    "        y25.append(x[-25,:])         # Displacement      \n",
    "        y26.append(x[-26,:])\n",
    "        y27.append(x[-27,:])         # Displacement       \n",
    "        y28.append(x[-28,:])\n",
    "        y29.append(x[-29,:])                \n",
    "        y30.append(x[-30,:])\n",
    "\n",
    "        \n",
    "        zint13 = x[-25, 0:-1]        # Velocity\n",
    "        xfinal13 = x[-25, 1:] \n",
    "        xmz13 = (xfinal13 - zint13)\n",
    "        \n",
    "        zint14 = x[-27, 0:-1]        # Velocity\n",
    "        xfinal14 = x[-27, 1:] \n",
    "        xmz14 = (xfinal14 - zint14) \n",
    "\n",
    "        xz13.append(xmz13)\n",
    "        xz14.append(xmz14)\n",
    "        \n",
    "        xmzsq13 = np.multiply(xmz13, xmz13)\n",
    "        xzs13.append(xmzsq13)\n",
    "        \n",
    "        xmzsq14 = np.multiply(xmz14, xmz14)\n",
    "        xzs14.append(xmzsq14)\n",
    "        \n",
    "    xz13 = pow(dt,-1)*np.mean(np.array(xz13), axis = 0)\n",
    "    xz14 = pow(dt,-1)*np.mean(np.array(xz14), axis = 0)\n",
    "\n",
    "    xzs13 = pow(dt,-1)*np.mean(np.array(xzs13), axis = 0)\n",
    "    xzs14 = pow(dt,-1)*np.mean(np.array(xzs14), axis = 0)\n",
    "\n",
    "    y23 = np.array(y23)\n",
    "    y24 = np.array(y24)\n",
    "    y25 = np.array(y25)\n",
    "    y26 = np.array(y26)\n",
    "    y27 = np.array(y27)\n",
    "    y28 = np.array(y28)\n",
    "    y29 = np.array(y29)\n",
    "    y30 = np.array(y30)\n",
    "\n",
    "    time = t[0:-1]\n",
    "    return xz13, xz14, xzs13, xzs14, y23, y24, y25, y26, y27, y28, y29, y30, time"
   ]
  },
  {
   "cell_type": "code",
   "execution_count": 4,
   "metadata": {},
   "outputs": [
    {
     "name": "stdout",
     "output_type": "stream",
     "text": [
      "\n"
     ]
    },
    {
     "data": {
      "text/plain": [
       "19.836947782834372"
      ]
     },
     "execution_count": 4,
     "metadata": {},
     "output_type": "execute_result"
    }
   ],
   "source": [
    "import time\n",
    "start = time.time()\n",
    "xz13, xz14, xzs13, xzs14, y23, y24, y25, y26, y27, y28, y29, y30, time_ = M_DOF_sys(x_initial, dof, T)\n",
    "end = time.time()\n",
    "print()\n",
    "TIMES = (end - start)/60\n",
    "TIMES"
   ]
  },
  {
   "cell_type": "code",
   "execution_count": 5,
   "metadata": {},
   "outputs": [
    {
     "name": "stdout",
     "output_type": "stream",
     "text": [
      "\n"
     ]
    },
    {
     "data": {
      "text/plain": [
       "5.348912453651428"
      ]
     },
     "execution_count": 5,
     "metadata": {},
     "output_type": "execute_result"
    }
   ],
   "source": [
    "startD = time.time()\n",
    "# Expected Dictionary Creation:\n",
    "libr = []\n",
    "for j in range(len(y23)):\n",
    "    data = np.row_stack((y23[j,0:-1], y24[j,0:-1], y25[j,0:-1], y26[j,0:-1], y27[j,0:-1], y28[j,0:-1], y29[j,0:-1], y30[j,0:-1]))\n",
    "    Dtemp, nl = library(data, 1, 0)\n",
    "    libr.append(Dtemp)\n",
    "libr = np.array(libr)\n",
    "Dictionary= np.mean(libr, axis = 0)\n",
    "print()\n",
    "endD = time.time()\n",
    "TIMED = (endD - startD)/60\n",
    "TIMED"
   ]
  },
  {
   "cell_type": "code",
   "execution_count": 6,
   "metadata": {},
   "outputs": [],
   "source": [
    "xdts = xzs13\n",
    "D = Dictionary"
   ]
  },
  {
   "cell_type": "code",
   "execution_count": null,
   "metadata": {},
   "outputs": [],
   "source": [
    "Dict = D.reshape(-1,order='F')"
   ]
  },
  {
   "cell_type": "code",
   "execution_count": 9,
   "metadata": {
    "scrolled": true
   },
   "outputs": [
    {
     "name": "stdout",
     "output_type": "stream",
     "text": [
      "{'Relevant': matlab.double([[1.0],[3.0],[14.0],[16.0],[44.0],[50.0],[52.0],[57.0],[68.0],[70.0]]), 'Value': matlab.double([[0.9953315641323672],[-2.578008394338965],[0.0804756041164806],[0.11949452233700361],[4.374260860132828],[0.017914940504955748],[-0.1987055707212403],[5.830412920022909],[0.0989211611745288],[-0.25998742837331373]])}\n"
     ]
    }
   ],
   "source": [
    "#!/usr/bin/env python\n",
    "\"\"\"\n",
    "Sample script that uses the SparseBayes module created using\n",
    "MATLAB Compiler SDK.\n",
    "\n",
    "Refer to the MATLAB Compiler SDK documentation for more information.\n",
    "\"\"\"\n",
    "\n",
    "from __future__ import print_function\n",
    "import SparseBayes\n",
    "import matlab\n",
    "\n",
    "my_SparseBayes = SparseBayes.initialize()\n",
    "\n",
    "DictIn = matlab.double(Dict, size=(D.shape[0], D.shape[1]))\n",
    "targetIn = matlab.double(xdts, size=(D.shape[0], 1))\n",
    "DMOut = my_SparseBayes.SparseBayes(DictIn, targetIn)\n",
    "print(DMOut, sep='\\n')\n",
    "\n",
    "my_SparseBayes.terminate()"
   ]
  },
  {
   "cell_type": "code",
   "execution_count": null,
   "metadata": {},
   "outputs": [],
   "source": [
    "c = np.array(DMOut['Value'])\n",
    "d = []\n",
    "for j in c:\n",
    "    d.append(j[0])\n",
    "    \n",
    "a = np.array(DMOut['Relevant'])\n",
    "b = []\n",
    "for i in a:\n",
    "    b.append(int((i[0])-1))\n",
    "    \n",
    "initz0 = np.zeros(D.shape[1])\n",
    "for i in b:\n",
    "    initz0[i] = 1\n",
    "    \n",
    "print(initz0)"
   ]
  },
  {
   "cell_type": "code",
   "execution_count": 11,
   "metadata": {},
   "outputs": [],
   "source": [
    "import warnings\n",
    "import math\n",
    "import numpy as np\n",
    "import scipy as sp\n",
    "import sympy as smp\n",
    "from scipy import stats\n",
    "from numpy import linalg as la\n",
    "import matplotlib.pyplot as plt\n",
    "from numpy.random import gamma\n",
    "from scipy.special import loggamma\n",
    "\n",
    "def Variational_Bayes_Code(X, y, initz0, tol, verbosity):\n",
    "\n",
    "    if (len(X) == 0 or len(y) == 0):\n",
    "        raise Exception('X and or y is missing')\n",
    "        \n",
    "    if (len(X) != len(y)):\n",
    "        raise Exception('Number of observations do not match')\n",
    "        \n",
    "    # X = stats.zscore(X, ddof = 1)         \n",
    "    # X = np.c_[np.ones(len(X)),X]\n",
    "    # X = np.c_[np.ones(len(X)),X]          \n",
    "    # y = y - np.mean(y)\n",
    "    N = len(X)\n",
    "    # Prior parameters of noise variance (Inverse Gamma dist)\n",
    "    A = 1e-4\n",
    "    B = 1e-4\n",
    "    vs = 10\n",
    "    tau0 = 1000\n",
    "    \n",
    "    if (len(initz0) == 0):\n",
    "        raise Exception('No initial value of z found')\n",
    "    else:\n",
    "        p0 = expit(-0.5*(np.sqrt(N)))       \n",
    "        \n",
    "        # Adding the intercept indicator variable (slightly less than 1 to prevent log(0) values) \n",
    "        # initz = np.hstack((1,initz0))  \n",
    "        initz = initz0\n",
    "\n",
    "        DS,LLcvg  = run_VB2(X, y, vs, A, B, tau0, p0, initz, tol, verbosity)    \n",
    "        # This is function which will come first\n",
    "        \n",
    "    out_vb   = DS\n",
    "    a = DS['zmean'] > 0.5\n",
    "    count = 0\n",
    "    modelIdx = []\n",
    "    for i in a:\n",
    "        if i == True:\n",
    "            modelIdx.append(count)\n",
    "        count += 1\n",
    "            \n",
    "    modelIdx = np.setdiff1d(modelIdx,0)\n",
    "    out_vb['modelIdx'] = modelIdx-1\n",
    "    out_vb['Zmed'] = DS['zmean'][modelIdx]\n",
    "    out_vb['Wsel'] = DS['wmean'][modelIdx]\n",
    "    out_vb['Wcov'] = DS['wCOV'][modelIdx, modelIdx]\n",
    "    out_vb['sig2'] = DS['sig2']\n",
    "    \n",
    "    return out_vb\n",
    "\n",
    "DS = {}\n",
    "def run_VB2(Xc, yc, vs, A, B, tau0, p0, initz, tol, verbosity):\n",
    "    \"\"\"This function is the implementation of VB from John T. Ormerod paper (2014)\n",
    "       This implementation uses slab scaling by noise variance\n",
    "       vs    : treated as a constant\n",
    "       A,B   : constants of the IG prior over noise variance\n",
    "       tau0  : Expected value of (sigma^{-2})\n",
    "       p0    : inclusion probablility\n",
    "       initz : Initial value of z\n",
    "       Xc    : Centered and standardized dictionary except the first column\n",
    "       yc    : Centered observations \"\"\"\n",
    "    \n",
    "    Lambda    = logit(p0)\n",
    "    iter_     = 0\n",
    "    max_iter  = 100\n",
    "    LL        = np.zeros(max_iter)        \n",
    "    zm        = np.reshape(initz,(-1))            \n",
    "    taum      = tau0                      \n",
    "    invVs     = 1/vs\n",
    "    \n",
    "    X = Xc\n",
    "    y = yc\n",
    "    XtX = (X.T) @ X\n",
    "    XtX = 0.5*(XtX + (XtX).T)\n",
    "    Xty = (X.T) @ y                 \n",
    "    yty = (y.T) @ y\n",
    "\n",
    "    eyep = np.eye(len(XtX))\n",
    "    [N,p] = X.shape\n",
    "    allidx = np.arange(p)\n",
    "    zm[0] = 1                                                                   # Always include the intercept \n",
    "    Abar    = (A + 0.5*N + 0.5*p)\n",
    "    converged = 0\n",
    "    \n",
    "    while (converged==0):\n",
    "        if (iter_==100):\n",
    "            break\n",
    "        \n",
    "        Zm       = np.diag(zm)\n",
    "        Omg      = (np.reshape(zm,(-1,1)) @ np.reshape(zm,(1,-1))) + (Zm @ (eyep-Zm))\n",
    "        # Update the mean and covariance of the coefficients given mean of z\n",
    "        term1    = XtX * Omg                                                       # elementwisw multiplication\n",
    "        invSigma = taum * (term1 + invVs * eyep)\n",
    "        invSigma = 0.5*(invSigma + invSigma.T)                                     # symmetric\n",
    "        Sigma    = la.inv(invSigma) @ eyep\n",
    "        mu       = taum * (Sigma @ Zm @ Xty)                                       # @ ---> matrix multiplication\n",
    "        \n",
    "        # Update tau related to sigma\n",
    "        term2    = 2 * Xty @ Zm @ mu\n",
    "        term3    =  np.reshape(mu,(len(initz0),1)) @ np.reshape(mu,(1,len(initz0)))+ Sigma\n",
    "        term4    = yty - term2 + np.trace((term1 + invVs * eyep) @ term3)    \n",
    "        s        = B + 0.5*term4\n",
    "        \n",
    "        if s<0:\n",
    "            warnings.warn('s turned out be less than 0. Taking absolute value')\n",
    "            s = B + 0.5*abs(term4)\n",
    "        \n",
    "        taum     = Abar / s\n",
    "        zstr   = zm\n",
    "\n",
    "        order   = np.setdiff1d(np.random.permutation(p), 0, assume_unique=True)\n",
    "        for j in order: \n",
    "            muj     = mu[j]                            \n",
    "            sigmaj  = Sigma[j,j]\n",
    "            \n",
    "            remidx  = np.setdiff1d(allidx,j)\n",
    "            mu_j    = mu[remidx]\n",
    "            Sigma_jj= Sigma[remidx,j]\n",
    "            etaj    = (Lambda - 0.5 * taum * ((muj**2 + sigmaj) * XtX[j,j]) \n",
    "                       + taum * np.reshape(X[:,j],(1,-1)) @ (np.reshape(y,(-1,1))*muj \n",
    "                        -X[:,remidx] @ np.diag(zstr[remidx]) @ ((mu_j * muj + Sigma_jj).reshape(-1,1))))\n",
    "            zstr[j] = expit(etaj)\n",
    "            \n",
    "        zm = zstr\n",
    "        \n",
    "        # Calculate marginal log-likelihood\n",
    "        \n",
    "        LL[iter_] = ( 0.5*p \n",
    "                    - 0.5*N*np.log(2*np.pi) \n",
    "                    + 0.5*p*np.log(invVs) \n",
    "                    + A*np.log(B)\n",
    "                    - loggamma(A)\n",
    "                    + loggamma(Abar) \n",
    "                    - Abar*np.log(s)\n",
    "                    + 0.5*np.log(la.det(Sigma))\n",
    "                    + np.nansum(zm*(np.log(p0) - np.log(zm))) \n",
    "                    + np.nansum((1-zm)*(np.log(1-p0) - np.log(1-zm))))\n",
    "        \n",
    "        if(verbosity):\n",
    "            print(f'Iteration = {iter_}  log(Likelihood) = {LL[iter_]}')\n",
    "        \n",
    "        if(iter_>1):\n",
    "            cvg = LL[iter_] - LL[iter_-1]\n",
    "            \n",
    "            if (cvg < 0 and verbosity):\n",
    "                print('OOPS!  log(like) decreasing!!')\n",
    "            elif (cvg<tol or iter_> max_iter):\n",
    "                converged = 1\n",
    "                LL = LL[0:iter_]\n",
    "                \n",
    "        iter_    = iter_ + 1\n",
    "    DS['zmean'] = zm\n",
    "    DS['wmean'] = mu\n",
    "    DS['wCOV'] = Sigma\n",
    "    DS['sig2'] = 1/taum\n",
    "    LLcvg    = LL[-1]\n",
    "    return DS, LLcvg\n",
    "    \n",
    "def logit(C):\n",
    "    logitC = np.log(C) - np.log(1-C)\n",
    "    return logitC\n",
    "\n",
    "def expit(C):\n",
    "    expitC = 1./(1 + np.exp(-C))\n",
    "    return expitC"
   ]
  },
  {
   "cell_type": "code",
   "execution_count": 13,
   "metadata": {},
   "outputs": [
    {
     "name": "stderr",
     "output_type": "stream",
     "text": [
      "C:\\Users\\USER\\AppData\\Local\\Temp/ipykernel_9824/3512855728.py:147: RuntimeWarning: divide by zero encountered in log\n",
      "  + np.nansum((1-zm)*(np.log(1-p0) - np.log(1-zm))))\n",
      "C:\\Users\\USER\\AppData\\Local\\Temp/ipykernel_9824/3512855728.py:147: RuntimeWarning: invalid value encountered in multiply\n",
      "  + np.nansum((1-zm)*(np.log(1-p0) - np.log(1-zm))))\n"
     ]
    },
    {
     "name": "stdout",
     "output_type": "stream",
     "text": [
      "Iteration = 0  log(Likelihood) = 8194.486307619763\n"
     ]
    },
    {
     "name": "stderr",
     "output_type": "stream",
     "text": [
      "C:\\Users\\USER\\AppData\\Local\\Temp/ipykernel_9824/3512855728.py:174: RuntimeWarning: overflow encountered in exp\n",
      "  expitC = 1./(1 + np.exp(-C))\n",
      "C:\\Users\\USER\\AppData\\Local\\Temp/ipykernel_9824/3512855728.py:146: RuntimeWarning: divide by zero encountered in log\n",
      "  + np.nansum(zm*(np.log(p0) - np.log(zm)))\n",
      "C:\\Users\\USER\\AppData\\Local\\Temp/ipykernel_9824/3512855728.py:146: RuntimeWarning: invalid value encountered in multiply\n",
      "  + np.nansum(zm*(np.log(p0) - np.log(zm)))\n"
     ]
    },
    {
     "name": "stdout",
     "output_type": "stream",
     "text": [
      "Iteration = 1  log(Likelihood) = 8251.31955597997\n",
      "Iteration = 2  log(Likelihood) = 8251.32106427982\n",
      "Iteration = 3  log(Likelihood) = 8251.321064376001\n",
      "{'zmean': array([1.00000000e+00, 1.17116222e-40, 1.80720737e-22, 1.38085758e-39,\n",
      "       1.80709647e-22, 1.34396546e-34, 1.82219860e-22, 8.45708960e-33,\n",
      "       1.83459373e-22, 0.00000000e+00, 1.13152006e-33, 0.00000000e+00,\n",
      "       1.83894332e-32, 1.00000000e+00, 2.62931241e-31, 1.00000000e+00,\n",
      "       3.48434459e-30, 5.48593320e-31, 1.85478135e-22, 3.28405913e-26,\n",
      "       1.86198797e-22, 3.84979798e-25, 1.86690656e-22, 1.48719801e-24,\n",
      "       1.87700057e-22, 1.89382571e-22, 1.92840815e-22, 1.89521157e-22,\n",
      "       1.92845450e-22, 1.89374754e-22, 1.92852085e-22, 1.90143503e-22,\n",
      "       1.92855893e-22, 1.41085993e-26, 1.86627005e-22, 6.19329843e-30,\n",
      "       1.87098278e-22, 7.85074174e-26, 1.88061080e-22, 4.06938270e-25,\n",
      "       1.88857854e-22, 1.89740250e-22, 1.92845438e-22, 1.89959734e-22,\n",
      "       1.92846975e-22, 1.89218370e-22, 1.92852197e-22, 1.90424340e-22,\n",
      "       1.92855352e-22, 2.47547557e-24, 1.88237199e-22, 3.56296260e-25,\n",
      "       1.88457239e-22, 2.84716797e-27, 1.88702233e-22, 1.24662298e-25,\n",
      "       1.89342610e-22, 1.90353084e-22, 1.92852109e-22, 1.90455963e-22,\n",
      "       1.92852153e-22, 1.89932503e-22, 1.92853071e-22, 1.90558024e-22,\n",
      "       1.92855388e-22, 3.33220556e-24, 1.85244352e-22, 1.04063256e-23,\n",
      "       1.86734408e-22, 1.19642178e-24, 1.87671361e-22, 3.76620608e-28,\n",
      "       1.88039763e-22, 1.90651663e-22, 1.92856094e-22, 1.91005373e-22,\n",
      "       1.92855400e-22, 1.90495483e-22, 1.92855439e-22, 1.90964410e-22,\n",
      "       1.92855128e-22]), 'wmean': array([ 9.95700942e-01, -4.03306141e-40, -4.14116935e-23, -7.87196640e-39,\n",
      "       -2.61077542e-23, -3.40485512e-34, -2.39387261e-23, -3.35358057e-32,\n",
      "       -1.57080061e-23,  0.00000000e+00, -4.02012992e-36,  0.00000000e+00,\n",
      "       -1.68666044e-33,  9.25694117e-02, -6.13834074e-32,  1.09090126e-01,\n",
      "       -6.48359508e-31, -8.98634657e-31, -2.16828453e-23, -1.40110110e-26,\n",
      "       -1.86580989e-23, -3.95004606e-25, -1.51879702e-23, -1.60464528e-24,\n",
      "       -1.83256874e-23,  1.82780645e-24, -1.47438899e-24,  1.18590729e-23,\n",
      "       -1.54868003e-24, -1.28849505e-23, -1.64071008e-24, -2.45585615e-23,\n",
      "       -1.58875641e-24, -2.19486316e-26, -2.21847075e-23, -2.29018342e-29,\n",
      "       -1.89997539e-23, -1.89520669e-25, -1.84878641e-23, -1.07212598e-24,\n",
      "       -1.66467193e-23,  4.33580886e-24, -1.52723783e-24,  1.76063248e-23,\n",
      "       -1.59931068e-24, -8.35158576e-24, -1.67469030e-24, -2.01459961e-23,\n",
      "       -1.55813003e-24,  1.17645393e-24,  1.68982598e-24, -8.84212378e-25,\n",
      "        6.64571204e-24, -2.72836755e-27,  5.66954353e-24, -3.00639010e-25,\n",
      "        1.00620595e-23,  3.54539566e-24, -1.67033610e-24,  1.32828754e-23,\n",
      "       -1.68135963e-24, -6.30599746e-24, -1.86377855e-24, -1.83864867e-23,\n",
      "       -1.69165039e-24, -3.94674581e-24, -2.62504644e-23, -5.69014912e-24,\n",
      "       -2.55690789e-23, -2.87790654e-24, -2.40655383e-23, -1.37440846e-27,\n",
      "       -2.00649829e-23,  3.29630820e-24, -1.55451645e-24,  1.31581695e-23,\n",
      "       -1.49557091e-24, -1.97832636e-24, -1.68483084e-24, -1.21582390e-23,\n",
      "       -1.47432348e-24]), 'wCOV': array([[ 1.59962456e-05,  1.48153768e-43,  8.20790896e-27, ...,\n",
      "         1.85888444e-28,  3.90561180e-27,  1.00485511e-28],\n",
      "       [ 1.48153768e-43,  1.08584450e-01, -7.35936197e-64, ...,\n",
      "        -2.68719918e-65, -6.64919570e-64, -1.45683967e-65],\n",
      "       [ 8.20790896e-27, -7.35936197e-64,  1.08584450e-01, ...,\n",
      "        -1.05776534e-47, -5.21054042e-47, -7.94481589e-48],\n",
      "       ...,\n",
      "       [ 1.85888444e-28, -2.68719918e-65, -1.05776534e-47, ...,\n",
      "         1.08584450e-01, -3.62667435e-48, -7.12419110e-49],\n",
      "       [ 3.90561180e-27, -6.64919570e-64, -5.21054042e-47, ...,\n",
      "        -3.62667435e-48,  1.08584450e-01, -3.65995731e-48],\n",
      "       [ 1.00485511e-28, -1.45683967e-65, -7.94481589e-48, ...,\n",
      "        -7.12419110e-49, -3.65995731e-48,  1.08584450e-01]]), 'sig2': 0.010858451043328483, 'modelIdx': array([12, 14]), 'Zmed': array([1., 1.]), 'Wsel': array([0.09256941, 0.10909013]), 'Wcov': array([0.00263008, 0.00243275])}\n"
     ]
    }
   ],
   "source": [
    "tol = 0.0001\n",
    "verbosity = True\n",
    "initz0 = initz0\n",
    "DS = Variational_Bayes_Code(D, xdts, initz0, tol, verbosity)\n",
    "\n",
    "print(DS) "
   ]
  },
  {
   "cell_type": "code",
   "execution_count": 17,
   "metadata": {},
   "outputs": [
    {
     "name": "stdout",
     "output_type": "stream",
     "text": [
      "\n",
      "0.997848155581177\n"
     ]
    },
    {
     "data": {
      "image/png": "[encoded data removed]",
      "text/plain": [
       "<Figure size 432x288 with 1 Axes>"
      ]
     },
     "metadata": {
      "needs_background": "light"
     },
     "output_type": "display_data"
    }
   ],
   "source": [
    "zmean11 = DS['zmean']\n",
    "wmean11 = DS['wmean']\n",
    "zmean11[np.where(np.diag(DS['wCOV'])>5e-4)] = 0\n",
    "plt.stem(zmean11)\n",
    "wmean11[np.where(np.diag(DS['wCOV'])>5e-4)] = 0\n",
    "print()\n",
    "print(np.sqrt(wmean11[0]))"
   ]
  },
  {
   "cell_type": "markdown",
   "metadata": {},
   "source": [
    "# Diffusion 8"
   ]
  },
  {
   "cell_type": "code",
   "execution_count": 18,
   "metadata": {},
   "outputs": [],
   "source": [
    "xdts = xzs14"
   ]
  },
  {
   "cell_type": "code",
   "execution_count": 19,
   "metadata": {},
   "outputs": [
    {
     "name": "stdout",
     "output_type": "stream",
     "text": [
      "{'Relevant': matlab.double([[1.0],[8.0],[13.0],[35.0],[40.0],[43.0],[46.0],[64.0],[70.0],[72.0]]), 'Value': matlab.double([[1.0135729600244339],[-0.09887217872972166],[1.8562282044459353],[3.338671944468147],[-0.10557163554245222],[63.75725469730531],[0.40621090518523056],[-5.690473548031185],[0.16630413064128968],[-0.25557364028914115]])}\n"
     ]
    }
   ],
   "source": [
    "#!/usr/bin/env python\n",
    "\"\"\"\n",
    "Sample script that uses the SparseBayes module created using\n",
    "MATLAB Compiler SDK.\n",
    "\n",
    "Refer to the MATLAB Compiler SDK documentation for more information.\n",
    "\"\"\"\n",
    "\n",
    "from __future__ import print_function\n",
    "import SparseBayes\n",
    "import matlab\n",
    "\n",
    "my_SparseBayes = SparseBayes.initialize()\n",
    "\n",
    "DictIn = matlab.double(Dict, size=(D.shape[0], D.shape[1]))\n",
    "targetIn = matlab.double(xdts, size=(D.shape[0], 1))\n",
    "DMOut = my_SparseBayes.SparseBayes(DictIn, targetIn)\n",
    "print(DMOut, sep='\\n')\n",
    "\n",
    "my_SparseBayes.terminate()"
   ]
  },
  {
   "cell_type": "code",
   "execution_count": null,
   "metadata": {},
   "outputs": [],
   "source": [
    "c = np.array(DMOut['Value'])\n",
    "d = []\n",
    "for j in c:\n",
    "    d.append(j[0])\n",
    "    \n",
    "a = np.array(DMOut['Relevant'])\n",
    "b = []\n",
    "for i in a:\n",
    "    b.append(int((i[0])-1))\n",
    "    \n",
    "initz0 = np.zeros(D.shape[1])\n",
    "for i in b:\n",
    "    initz0[i] = 1\n",
    "    \n",
    "print(initz0)"
   ]
  },
  {
   "cell_type": "code",
   "execution_count": 21,
   "metadata": {},
   "outputs": [
    {
     "name": "stderr",
     "output_type": "stream",
     "text": [
      "C:\\Users\\USER\\AppData\\Local\\Temp/ipykernel_9824/3512855728.py:147: RuntimeWarning: divide by zero encountered in log\n",
      "  + np.nansum((1-zm)*(np.log(1-p0) - np.log(1-zm))))\n",
      "C:\\Users\\USER\\AppData\\Local\\Temp/ipykernel_9824/3512855728.py:147: RuntimeWarning: invalid value encountered in multiply\n",
      "  + np.nansum((1-zm)*(np.log(1-p0) - np.log(1-zm))))\n",
      "C:\\Users\\USER\\AppData\\Local\\Temp/ipykernel_9824/3512855728.py:174: RuntimeWarning: overflow encountered in exp\n",
      "  expitC = 1./(1 + np.exp(-C))\n"
     ]
    },
    {
     "name": "stdout",
     "output_type": "stream",
     "text": [
      "Iteration = 0  log(Likelihood) = 8173.222017658047\n"
     ]
    },
    {
     "name": "stderr",
     "output_type": "stream",
     "text": [
      "C:\\Users\\USER\\AppData\\Local\\Temp/ipykernel_9824/3512855728.py:146: RuntimeWarning: divide by zero encountered in log\n",
      "  + np.nansum(zm*(np.log(p0) - np.log(zm)))\n",
      "C:\\Users\\USER\\AppData\\Local\\Temp/ipykernel_9824/3512855728.py:146: RuntimeWarning: invalid value encountered in multiply\n",
      "  + np.nansum(zm*(np.log(p0) - np.log(zm)))\n"
     ]
    },
    {
     "name": "stdout",
     "output_type": "stream",
     "text": [
      "Iteration = 1  log(Likelihood) = 8231.275376270867\n",
      "Iteration = 2  log(Likelihood) = 8231.276891251578\n",
      "Iteration = 3  log(Likelihood) = 8231.27689134871\n",
      "{'zmean': array([1.00000000e+00, 1.17116228e-40, 1.80720737e-22, 1.38085765e-39,\n",
      "       1.80709647e-22, 1.34396551e-34, 1.82219860e-22, 8.45708984e-33,\n",
      "       1.83459373e-22, 0.00000000e+00, 1.13152010e-33, 0.00000000e+00,\n",
      "       1.00000000e+00, 0.00000000e+00, 2.62931247e-31, 0.00000000e+00,\n",
      "       3.48434467e-30, 5.48593333e-31, 1.85478135e-22, 3.28405917e-26,\n",
      "       1.86198797e-22, 3.84979801e-25, 1.86690656e-22, 1.48719801e-24,\n",
      "       1.87700057e-22, 1.89382571e-22, 1.92840815e-22, 1.89521157e-22,\n",
      "       1.92845450e-22, 1.89374754e-22, 1.92852085e-22, 1.90143503e-22,\n",
      "       1.92855893e-22, 1.41085995e-26, 1.86627005e-22, 6.19329856e-30,\n",
      "       1.87098278e-22, 7.85074182e-26, 1.88061080e-22, 4.06938273e-25,\n",
      "       1.88857854e-22, 1.89740250e-22, 1.92845438e-22, 1.89959734e-22,\n",
      "       1.92846975e-22, 1.89218370e-22, 1.92852197e-22, 1.90424340e-22,\n",
      "       1.92855352e-22, 2.47547558e-24, 1.88237199e-22, 3.56296263e-25,\n",
      "       1.88457239e-22, 2.84716800e-27, 1.88702233e-22, 1.24662299e-25,\n",
      "       1.89342610e-22, 1.90353084e-22, 1.92852109e-22, 1.90455963e-22,\n",
      "       1.92852153e-22, 1.89932503e-22, 1.92853071e-22, 1.90558024e-22,\n",
      "       1.92855388e-22, 3.33220558e-24, 1.85244352e-22, 1.04063257e-23,\n",
      "       1.86734408e-22, 1.19642179e-24, 1.87671361e-22, 3.76620614e-28,\n",
      "       1.88039763e-22, 1.90651663e-22, 1.92856094e-22, 1.91005373e-22,\n",
      "       1.92855400e-22, 1.90495483e-22, 1.92855439e-22, 1.90964410e-22,\n",
      "       1.92855128e-22]), 'wmean': array([ 1.01779620e+00,  4.91631913e-40,  5.42167150e-24,  3.72824126e-39,\n",
      "        7.11552262e-24,  1.08030753e-34,  4.90337828e-24, -5.87117640e-32,\n",
      "       -1.47760593e-24,  0.00000000e+00,  1.95237802e-33,  0.00000000e+00,\n",
      "        1.62180635e+00,  0.00000000e+00,  4.01103946e-31,  0.00000000e+00,\n",
      "        4.44812067e-30,  7.86395648e-31,  2.51298836e-23,  7.58710628e-26,\n",
      "        2.27429222e-23,  3.73345563e-25,  2.08182228e-23,  8.62518390e-25,\n",
      "        1.80602006e-23,  2.05114486e-23,  1.37543803e-24,  9.95803853e-24,\n",
      "        1.15793964e-24,  2.59476265e-23,  7.07747248e-25, -6.01392542e-24,\n",
      "        3.63207384e-25,  3.53738732e-26,  3.07684543e-23,  1.34419286e-29,\n",
      "        2.20518576e-23, -2.42233431e-26,  1.83626015e-23, -3.84435433e-25,\n",
      "        1.95035990e-23,  2.44281398e-23,  1.17475555e-24,  1.05687082e-23,\n",
      "        8.25714957e-25,  2.77847566e-23,  5.06436031e-25, -7.07387795e-24,\n",
      "        2.28529023e-25,  3.27338114e-24, -7.47311579e-24, -1.83797808e-25,\n",
      "       -1.98317750e-24,  2.11980755e-27, -7.05011602e-25, -1.11513203e-25,\n",
      "        3.78732639e-24,  2.16567709e-23,  6.93855521e-25,  5.72878498e-24,\n",
      "        4.92291167e-25,  1.99348618e-23,  3.44789690e-25, -1.02458479e-23,\n",
      "        4.80763492e-26, -6.40205894e-24, -3.08212629e-23, -2.24825433e-23,\n",
      "       -3.44471145e-23, -1.76941568e-24, -3.64806111e-23, -2.05137019e-27,\n",
      "       -3.83241879e-23,  1.51022825e-23,  2.93746408e-25, -2.29396691e-24,\n",
      "        2.36499370e-25,  1.17634456e-23,  4.89896969e-26, -1.08745084e-23,\n",
      "       -3.07886086e-25]), 'wCOV': array([[ 5.53852231e-06,  9.49566967e-44,  9.19131811e-27, ...,\n",
      "         3.43990372e-28,  3.54979483e-27,  3.14669676e-28],\n",
      "       [ 9.49566967e-44,  1.10202689e-01, -7.37039785e-64, ...,\n",
      "        -2.40985490e-65, -6.30986843e-64, -1.13616132e-65],\n",
      "       [ 9.19131811e-27, -7.37039785e-64,  1.10202689e-01, ...,\n",
      "        -1.10431567e-47, -5.16139022e-47, -8.39068227e-48],\n",
      "       ...,\n",
      "       [ 3.43990372e-28, -2.40985490e-65, -1.10431567e-47, ...,\n",
      "         1.10202689e-01, -3.50099687e-48, -7.53498568e-49],\n",
      "       [ 3.54979483e-27, -6.30986843e-64, -5.16139022e-47, ...,\n",
      "        -3.50099687e-48,  1.10202689e-01, -3.52883822e-48],\n",
      "       [ 3.14669676e-28, -1.13616132e-65, -8.39068227e-48, ...,\n",
      "        -7.53498568e-49, -3.52883822e-48,  1.10202689e-01]]), 'sig2': 0.011020275044462747, 'modelIdx': array([11]), 'Zmed': array([1.]), 'Wsel': array([1.62180635]), 'Wcov': array([0.01174744])}\n"
     ]
    }
   ],
   "source": [
    "tol = 0.0001\n",
    "verbosity = True\n",
    "initz0 = initz0\n",
    "DS = Variational_Bayes_Code(D, xdts, initz0, tol, verbosity)\n",
    "\n",
    "print(DS) "
   ]
  },
  {
   "cell_type": "code",
   "execution_count": 25,
   "metadata": {},
   "outputs": [
    {
     "name": "stdout",
     "output_type": "stream",
     "text": [
      "\n",
      "1.0088588591108991\n"
     ]
    },
    {
     "data": {
      "image/png": "[encoded data removed]",
      "text/plain": [
       "<Figure size 432x288 with 1 Axes>"
      ]
     },
     "metadata": {
      "needs_background": "light"
     },
     "output_type": "display_data"
    }
   ],
   "source": [
    "zmean10 = DS['zmean']\n",
    "wmean10 = DS['wmean']\n",
    "zmean10[np.where(np.diag(DS['wCOV'])>5e-3)] = 0\n",
    "plt.stem(zmean10)\n",
    "wmean10[np.where(np.diag(DS['wCOV'])>5e-3)] = 0\n",
    "print()\n",
    "print(np.sqrt(wmean10[0]))"
   ]
  },
  {
   "cell_type": "markdown",
   "metadata": {},
   "source": [
    "# Diffusion 7"
   ]
  },
  {
   "cell_type": "code",
   "execution_count": 1,
   "metadata": {},
   "outputs": [],
   "source": [
    "import numpy as np\n",
    "import matplotlib.pyplot as plt\n",
    "\"\"\"\n",
    "A MDOF system excited by random noise\n",
    "----------------------------------------------------------------------\n",
    "\"\"\"\n",
    "\n",
    "def drift_mat(dof,k,c,m):\n",
    "    dim = 2 * dof\n",
    "    A = np.zeros((dim,dim))\n",
    "    \n",
    "    for i in range(dim):\n",
    "        if (i%2 == 0):\n",
    "            A[i][i+1] = 1\n",
    "    \n",
    "        elif(i==1):\n",
    "            A[i][i-1] = -(k+k)/m\n",
    "            A[i][i] = -(c+c)/m\n",
    "            A[i][i+1] = k/m\n",
    "            A[i][i+2] = c/m\n",
    "    \n",
    "        elif(i==dim-1):\n",
    "            A[i][i] = -c/m\n",
    "            A[i][i-1] = -k/m\n",
    "            A[i][i-2] = c/m\n",
    "            A[i][i-3] = k/m\n",
    "            \n",
    "        else:\n",
    "            A[i][i-3] = k/m \n",
    "            A[i][i-2] = c/m\n",
    "            A[i][i-1] = -(k+k)/m\n",
    "            A[i][i] = -(c+c)/m\n",
    "            A[i][i+1] = k/m\n",
    "            A[i][i+2] = c/m\n",
    "    return A\n",
    "\n",
    "def M_DOF_sys(x_initial, dof, T):\n",
    "    # parameters of M_DOF_sys in Equation\n",
    "    m = 1\n",
    "    c = 2\n",
    "    k = 3000\n",
    "    sigma = 1\n",
    "    \n",
    "    # solution by euler maruyama\n",
    "    # -------------------------------------------------------\n",
    "    dt = 0.0001\n",
    "    t = np.arange(0, T+dt, dt)\n",
    "    Nsamp = 200 # no. of samples in the run\n",
    "\n",
    "    y27 = []\n",
    "    y28 = []\n",
    "    y29 = []\n",
    "    y30 = []\n",
    "    y31 = []\n",
    "    y32 = []\n",
    "    y33 = []\n",
    "    y34 = []\n",
    "    \n",
    "    xz15 = []\n",
    "    xz16 = []\n",
    "    \n",
    "    xzs15 = []\n",
    "    xzs16 = []\n",
    "    \n",
    "    # Simulation Starts Here :\n",
    "    # -------------------------------------------------------\n",
    "    for ensemble in range(Nsamp):\n",
    "        x0 = x_initial\n",
    "        x = x0                              # initial condition.\n",
    "        for n in range(len(t)-1):\n",
    "            dW = np.sqrt(dt)*np.random.randn(2*dof)\n",
    "            \n",
    "            '''LINEAR PART DRIFT'''\n",
    "        \n",
    "            A = drift_mat(dof,k,c,m)\n",
    "            \n",
    "            '''DIFFUSION TERM  = b'''\n",
    "            diffu_arr = np.zeros(2*dof)\n",
    "            for i in range(2*dof):\n",
    "                if (i%2 != 0):\n",
    "                    diffu_arr[i] = sigma/m\n",
    "            \n",
    "            soln_arr = x0 + np.matmul(A,x0)*dt + diffu_arr*dW        \n",
    "            x0 = soln_arr\n",
    "            x = np.column_stack((x, x0))\n",
    "            \n",
    "        y27.append(x[-27,:])               \n",
    "        y28.append(x[-28,:])\n",
    "        y29.append(x[-29,:])         # Displacement     \n",
    "        y30.append(x[-30,:])\n",
    "        y31.append(x[-31,:])         # Displacement       \n",
    "        y32.append(x[-32,:])\n",
    "        y33.append(x[-33,:])               \n",
    "        y34.append(x[-34,:])\n",
    "\n",
    "        \n",
    "        zint15 = x[-29, 0:-1]        # Velocity\n",
    "        xfinal15 = x[-29, 1:] \n",
    "        xmz15 = (xfinal15 - zint15)\n",
    "        \n",
    "        zint16 = x[-31, 0:-1]        # Velocity\n",
    "        xfinal16 = x[-31, 1:] \n",
    "        xmz16 = (xfinal16 - zint16) \n",
    "\n",
    "        xz15.append(xmz15)\n",
    "        xz16.append(xmz16)\n",
    "        \n",
    "        xmzsq15 = np.multiply(xmz15, xmz15)\n",
    "        xzs15.append(xmzsq15)\n",
    "        \n",
    "        xmzsq16 = np.multiply(xmz16, xmz16)\n",
    "        xzs16.append(xmzsq16)\n",
    "        \n",
    "    xz15 = pow(dt,-1)*np.mean(np.array(xz15), axis = 0)\n",
    "    xz16 = pow(dt,-1)*np.mean(np.array(xz16), axis = 0)\n",
    "\n",
    "    xzs15 = pow(dt,-1)*np.mean(np.array(xzs15), axis = 0)\n",
    "    xzs16 = pow(dt,-1)*np.mean(np.array(xzs16), axis = 0)\n",
    "\n",
    "    y27 = np.array(y27)\n",
    "    y28 = np.array(y28)\n",
    "    y29 = np.array(y29)\n",
    "    y30 = np.array(y30)\n",
    "    y31 = np.array(y31)\n",
    "    y32 = np.array(y32)\n",
    "    y33 = np.array(y33)\n",
    "    y34 = np.array(y34)\n",
    "\n",
    "    time = t[0:-1]\n",
    "    return xz15, xz16, xzs15, xzs16, y27, y28, y29, y30, y31, y32, y33, y34, time"
   ]
  },
  {
   "cell_type": "code",
   "execution_count": 3,
   "metadata": {
    "scrolled": true
   },
   "outputs": [
    {
     "name": "stdout",
     "output_type": "stream",
     "text": [
      "\n"
     ]
    },
    {
     "data": {
      "text/plain": [
       "20.050825802485146"
      ]
     },
     "execution_count": 3,
     "metadata": {},
     "output_type": "execute_result"
    }
   ],
   "source": [
    "import time\n",
    "start = time.time()\n",
    "xz15, xz16, xzs15, xzs16, y27, y28, y29, y30, y31, y32, y33, y34, time_ = M_DOF_sys(x_initial, dof, T)\n",
    "end = time.time()\n",
    "print()\n",
    "TIMES = (end - start)/60\n",
    "TIMES"
   ]
  },
  {
   "cell_type": "code",
   "execution_count": 6,
   "metadata": {},
   "outputs": [
    {
     "name": "stdout",
     "output_type": "stream",
     "text": [
      "\n"
     ]
    },
    {
     "data": {
      "text/plain": [
       "5.349144506454468"
      ]
     },
     "execution_count": 6,
     "metadata": {},
     "output_type": "execute_result"
    }
   ],
   "source": [
    "startD = time.time()\n",
    "# Expected Dictionary Creation:\n",
    "libr = []\n",
    "for j in range(len(y27)):\n",
    "    data = np.row_stack((y27[j,0:-1], y28[j,0:-1], y29[j,0:-1], y30[j,0:-1], y31[j,0:-1], y32[j,0:-1], y33[j,0:-1], y34[j,0:-1]))\n",
    "    Dtemp, nl = library(data, 1, 0)\n",
    "    libr.append(Dtemp)\n",
    "libr = np.array(libr)\n",
    "Dictionary= np.mean(libr, axis = 0)\n",
    "print()\n",
    "endD = time.time()\n",
    "TIMED = (endD - startD)/60\n",
    "TIMED"
   ]
  },
  {
   "cell_type": "code",
   "execution_count": 18,
   "metadata": {},
   "outputs": [],
   "source": [
    "xdts = xzs15\n",
    "D = Dictionary"
   ]
  },
  {
   "cell_type": "code",
   "execution_count": null,
   "metadata": {},
   "outputs": [],
   "source": [
    "Dict = D.reshape(-1,order='F')"
   ]
  },
  {
   "cell_type": "code",
   "execution_count": 21,
   "metadata": {
    "scrolled": true
   },
   "outputs": [
    {
     "name": "stdout",
     "output_type": "stream",
     "text": [
      "{'Relevant': matlab.double([[1.0],[3.0],[10.0],[12.0],[13.0],[22.0],[64.0],[67.0],[68.0],[70.0],[74.0],[78.0]]), 'Value': matlab.double([[1.0004032275859442],[-2.272613032658588],[0.11947487685297736],[0.013417110925138392],[0.8218598011363294],[-0.20657964253455396],[-3.3376659400769877],[-1.2427217047199552],[0.23149533892618385],[-0.2606254604006703],[4.727761285888223],[6.188931023747849]])}\n"
     ]
    }
   ],
   "source": [
    "#!/usr/bin/env python\n",
    "\"\"\"\n",
    "Sample script that uses the SparseBayes module created using\n",
    "MATLAB Compiler SDK.\n",
    "\n",
    "Refer to the MATLAB Compiler SDK documentation for more information.\n",
    "\"\"\"\n",
    "\n",
    "from __future__ import print_function\n",
    "import SparseBayes\n",
    "import matlab\n",
    "\n",
    "my_SparseBayes = SparseBayes.initialize()\n",
    "\n",
    "DictIn = matlab.double(Dict, size=(D.shape[0], D.shape[1]))\n",
    "targetIn = matlab.double(xdts, size=(D.shape[0], 1))\n",
    "DMOut = my_SparseBayes.SparseBayes(DictIn, targetIn)\n",
    "print(DMOut, sep='\\n')\n",
    "\n",
    "my_SparseBayes.terminate()"
   ]
  },
  {
   "cell_type": "code",
   "execution_count": null,
   "metadata": {},
   "outputs": [],
   "source": [
    "c = np.array(DMOut['Value'])\n",
    "d = []\n",
    "for j in c:\n",
    "    d.append(j[0])\n",
    "    \n",
    "a = np.array(DMOut['Relevant'])\n",
    "b = []\n",
    "for i in a:\n",
    "    b.append(int((i[0])-1))\n",
    "    \n",
    "initz0 = np.zeros(D.shape[1])\n",
    "for i in b:\n",
    "    initz0[i] = 1\n",
    "    \n",
    "print(initz0)"
   ]
  },
  {
   "cell_type": "code",
   "execution_count": 25,
   "metadata": {},
   "outputs": [
    {
     "name": "stderr",
     "output_type": "stream",
     "text": [
      "C:\\Users\\USER\\AppData\\Local\\Temp/ipykernel_3228/3512855728.py:147: RuntimeWarning: divide by zero encountered in log\n",
      "  + np.nansum((1-zm)*(np.log(1-p0) - np.log(1-zm))))\n",
      "C:\\Users\\USER\\AppData\\Local\\Temp/ipykernel_3228/3512855728.py:147: RuntimeWarning: invalid value encountered in multiply\n",
      "  + np.nansum((1-zm)*(np.log(1-p0) - np.log(1-zm))))\n",
      "C:\\Users\\USER\\AppData\\Local\\Temp/ipykernel_3228/3512855728.py:174: RuntimeWarning: overflow encountered in exp\n",
      "  expitC = 1./(1 + np.exp(-C))\n"
     ]
    },
    {
     "name": "stdout",
     "output_type": "stream",
     "text": [
      "Iteration = 0  log(Likelihood) = 8088.407640553125\n"
     ]
    },
    {
     "name": "stderr",
     "output_type": "stream",
     "text": [
      "C:\\Users\\USER\\AppData\\Local\\Temp/ipykernel_3228/3512855728.py:146: RuntimeWarning: divide by zero encountered in log\n",
      "  + np.nansum(zm*(np.log(p0) - np.log(zm)))\n",
      "C:\\Users\\USER\\AppData\\Local\\Temp/ipykernel_3228/3512855728.py:146: RuntimeWarning: invalid value encountered in multiply\n",
      "  + np.nansum(zm*(np.log(p0) - np.log(zm)))\n"
     ]
    },
    {
     "name": "stdout",
     "output_type": "stream",
     "text": [
      "Iteration = 1  log(Likelihood) = 8146.642464666629\n",
      "Iteration = 2  log(Likelihood) = 8146.643916647268\n",
      "Iteration = 3  log(Likelihood) = 8146.6439167410135\n",
      "{'zmean': array([1.00000000e+00, 4.30463172e-41, 1.34930309e-22, 1.15179266e-33,\n",
      "       1.46530857e-22, 8.66125559e-40, 1.56745779e-22, 4.74801633e-38,\n",
      "       1.65335262e-22, 1.00000000e+00, 4.66488250e-31, 1.00000000e+00,\n",
      "       4.82902926e-30, 0.00000000e+00, 5.04095181e-29, 0.00000000e+00,\n",
      "       6.48906212e-28, 1.88104754e-31, 1.87017069e-22, 1.41420666e-25,\n",
      "       1.87611408e-22, 6.35828435e-25, 1.88836383e-22, 4.56838900e-25,\n",
      "       1.89534943e-22, 1.82501269e-22, 1.92645709e-22, 1.81744357e-22,\n",
      "       1.92692808e-22, 1.83148847e-22, 1.92737580e-22, 1.82594495e-22,\n",
      "       1.92772270e-22, 1.57548845e-24, 1.89618296e-22, 1.73131272e-28,\n",
      "       1.89962253e-22, 6.98140203e-25, 1.90244415e-22, 4.33576466e-25,\n",
      "       1.91110645e-22, 1.84529603e-22, 1.92693027e-22, 1.83908999e-22,\n",
      "       1.92720708e-22, 1.85018572e-22, 1.92754335e-22, 1.84808623e-22,\n",
      "       1.92784117e-22, 2.26269158e-24, 1.88585065e-22, 1.57481854e-25,\n",
      "       1.89176955e-22, 4.76714054e-32, 1.89062216e-22, 2.42222746e-26,\n",
      "       1.89312644e-22, 1.85786715e-22, 1.92738815e-22, 1.85560106e-22,\n",
      "       1.92754721e-22, 1.86482931e-22, 1.92773478e-22, 1.86379242e-22,\n",
      "       1.92796964e-22, 1.03997312e-23, 1.87680758e-22, 1.64933578e-24,\n",
      "       1.88574609e-22, 1.82485048e-25, 1.89018889e-22, 5.32694498e-31,\n",
      "       1.89263495e-22, 1.87505527e-22, 1.92776786e-22, 1.87473027e-22,\n",
      "       1.92785755e-22, 1.87879458e-22, 1.92797001e-22, 1.88013676e-22,\n",
      "       1.92811681e-22]), 'wmean': array([ 9.95190343e-01, -8.06873348e-41, -2.48336498e-23, -1.10607092e-33,\n",
      "       -1.36304718e-23, -3.85701478e-39, -7.73585617e-24, -1.90049227e-37,\n",
      "        5.32300132e-24,  1.06492628e-01,  2.00358975e-31,  1.01920401e-01,\n",
      "        1.76901764e-30,  0.00000000e+00,  1.40813350e-29,  0.00000000e+00,\n",
      "        1.72433679e-28, -1.05433941e-31, -2.63123651e-24, -1.02662271e-26,\n",
      "       -4.41962325e-24, -8.62602076e-25, -5.17138973e-24, -6.66975190e-26,\n",
      "       -4.84073484e-24,  3.27211412e-24, -2.28214607e-24, -1.18268060e-23,\n",
      "       -1.96496834e-24,  4.30141308e-25, -1.81112783e-24, -1.88718750e-23,\n",
      "       -1.30192772e-24,  4.90223190e-25,  4.26127882e-25,  2.45053013e-28,\n",
      "       -1.51585845e-24, -3.56003914e-25, -1.44525895e-24, -4.31093933e-25,\n",
      "       -5.99222703e-24,  9.17571638e-24, -1.97157335e-24, -6.00962793e-24,\n",
      "       -1.56827143e-24,  5.27897495e-24, -1.26328681e-24, -2.18328147e-23,\n",
      "       -7.48502514e-25,  2.84967179e-25, -1.73050352e-23,  6.75881913e-28,\n",
      "       -1.66727783e-23, -9.11878506e-32, -1.22341617e-23, -3.82511182e-26,\n",
      "       -9.53886763e-24,  1.32755251e-23, -1.66554940e-24, -2.85290652e-24,\n",
      "       -1.26504371e-24,  7.37012299e-24, -8.46030717e-25, -1.89163705e-23,\n",
      "       -4.20672972e-25, -9.58161580e-24, -2.16889215e-23,  1.47712023e-24,\n",
      "       -1.72750129e-23, -3.91194059e-25, -9.61587267e-24, -1.55405707e-30,\n",
      "       -4.73891000e-24,  1.67022749e-23, -1.18507738e-24,  3.10767500e-24,\n",
      "       -8.03148419e-25,  1.16619318e-23, -4.24674574e-25, -1.12676928e-23,\n",
      "       -9.71158687e-26]), 'wCOV': array([[ 1.68468567e-05,  1.12686248e-43, -2.08094682e-26, ...,\n",
      "        -1.37815226e-27, -8.82174282e-27, -1.29772294e-27],\n",
      "       [ 1.12686248e-43,  1.10885205e-01, -4.72614603e-64, ...,\n",
      "        -2.17851829e-65, -2.83333015e-64, -1.84098329e-65],\n",
      "       [-2.08094682e-26, -4.72614603e-64,  1.10885205e-01, ...,\n",
      "        -9.48006892e-48, -5.34584669e-47, -7.90236240e-48],\n",
      "       ...,\n",
      "       [-1.37815226e-27, -2.17851829e-65, -9.48006892e-48, ...,\n",
      "         1.10885205e-01, -3.77084949e-48, -8.15255122e-49],\n",
      "       [-8.82174282e-27, -2.83333015e-64, -5.34584669e-47, ...,\n",
      "        -3.77084949e-48,  1.10885205e-01, -3.35390457e-48],\n",
      "       [-1.29772294e-27, -1.84098329e-65, -7.90236240e-48, ...,\n",
      "        -8.15255122e-49, -3.35390457e-48,  1.10885205e-01]]), 'sig2': 0.011088526503887329, 'modelIdx': array([ 8, 10]), 'Zmed': array([1., 1.]), 'Wsel': array([0.10649263, 0.1019204 ]), 'Wcov': array([0.0035274 , 0.00367841])}\n"
     ]
    }
   ],
   "source": [
    "tol = 0.0001\n",
    "verbosity = True\n",
    "initz0 = initz0\n",
    "DS = Variational_Bayes_Code(D, xdts, initz0, tol, verbosity)\n",
    "\n",
    "print(DS) "
   ]
  },
  {
   "cell_type": "code",
   "execution_count": 27,
   "metadata": {
    "scrolled": true
   },
   "outputs": [
    {
     "name": "stdout",
     "output_type": "stream",
     "text": [
      "\n",
      "0.9975922728729321\n"
     ]
    },
    {
     "data": {
      "image/png": "[encoded data removed]",
      "text/plain": [
       "<Figure size 432x288 with 1 Axes>"
      ]
     },
     "metadata": {
      "needs_background": "light"
     },
     "output_type": "display_data"
    }
   ],
   "source": [
    "zmean7 = DS['zmean']\n",
    "wmean7 = DS['wmean']\n",
    "zmean7[np.where(np.diag(DS['wCOV'])>5e-4)] = 0\n",
    "plt.stem(zmean7)\n",
    "wmean7[np.where(np.diag(DS['wCOV'])>5e-4)] = 0\n",
    "print()\n",
    "print(np.sqrt(wmean7[0]))"
   ]
  },
  {
   "cell_type": "markdown",
   "metadata": {},
   "source": [
    "# Diffusion 6"
   ]
  },
  {
   "cell_type": "code",
   "execution_count": 28,
   "metadata": {},
   "outputs": [],
   "source": [
    "xdts = xzs16"
   ]
  },
  {
   "cell_type": "code",
   "execution_count": 29,
   "metadata": {},
   "outputs": [
    {
     "name": "stdout",
     "output_type": "stream",
     "text": [
      "{'Relevant': matlab.double([[1.0],[7.0],[10.0],[12.0],[16.0],[23.0],[24.0],[26.0],[38.0],[72.0]]), 'Value': matlab.double([[0.9811435974614764],[-1.6860734313341124],[0.12000279381386893],[0.04198295454068612],[0.07839602636114816],[2.8290756293326247],[-0.2650175506186837],[1.3013933797444013],[-0.08931130839189087],[-0.05096229255460393]])}\n"
     ]
    }
   ],
   "source": [
    "#!/usr/bin/env python\n",
    "\"\"\"\n",
    "Sample script that uses the SparseBayes module created using\n",
    "MATLAB Compiler SDK.\n",
    "\n",
    "Refer to the MATLAB Compiler SDK documentation for more information.\n",
    "\"\"\"\n",
    "\n",
    "from __future__ import print_function\n",
    "import SparseBayes\n",
    "import matlab\n",
    "\n",
    "my_SparseBayes = SparseBayes.initialize()\n",
    "\n",
    "DictIn = matlab.double(Dict, size=(D.shape[0], D.shape[1]))\n",
    "targetIn = matlab.double(xdts, size=(D.shape[0], 1))\n",
    "DMOut = my_SparseBayes.SparseBayes(DictIn, targetIn)\n",
    "print(DMOut, sep='\\n')\n",
    "\n",
    "my_SparseBayes.terminate()"
   ]
  },
  {
   "cell_type": "code",
   "execution_count": null,
   "metadata": {},
   "outputs": [],
   "source": [
    "c = np.array(DMOut['Value'])\n",
    "d = []\n",
    "for j in c:\n",
    "    d.append(j[0])\n",
    "    \n",
    "a = np.array(DMOut['Relevant'])\n",
    "b = []\n",
    "for i in a:\n",
    "    b.append(int((i[0])-1))\n",
    "    \n",
    "initz0 = np.zeros(D.shape[1])\n",
    "for i in b:\n",
    "    initz0[i] = 1\n",
    "    \n",
    "print(initz0)"
   ]
  },
  {
   "cell_type": "code",
   "execution_count": 31,
   "metadata": {
    "scrolled": true
   },
   "outputs": [
    {
     "name": "stderr",
     "output_type": "stream",
     "text": [
      "C:\\Users\\USER\\AppData\\Local\\Temp/ipykernel_3228/3512855728.py:147: RuntimeWarning: divide by zero encountered in log\n",
      "  + np.nansum((1-zm)*(np.log(1-p0) - np.log(1-zm))))\n",
      "C:\\Users\\USER\\AppData\\Local\\Temp/ipykernel_3228/3512855728.py:147: RuntimeWarning: invalid value encountered in multiply\n",
      "  + np.nansum((1-zm)*(np.log(1-p0) - np.log(1-zm))))\n",
      "C:\\Users\\USER\\AppData\\Local\\Temp/ipykernel_3228/3512855728.py:174: RuntimeWarning: overflow encountered in exp\n",
      "  expitC = 1./(1 + np.exp(-C))\n"
     ]
    },
    {
     "name": "stdout",
     "output_type": "stream",
     "text": [
      "Iteration = 0  log(Likelihood) = 8082.745209854\n"
     ]
    },
    {
     "name": "stderr",
     "output_type": "stream",
     "text": [
      "C:\\Users\\USER\\AppData\\Local\\Temp/ipykernel_3228/3512855728.py:146: RuntimeWarning: divide by zero encountered in log\n",
      "  + np.nansum(zm*(np.log(p0) - np.log(zm)))\n",
      "C:\\Users\\USER\\AppData\\Local\\Temp/ipykernel_3228/3512855728.py:146: RuntimeWarning: invalid value encountered in multiply\n",
      "  + np.nansum(zm*(np.log(p0) - np.log(zm)))\n"
     ]
    },
    {
     "name": "stdout",
     "output_type": "stream",
     "text": [
      "Iteration = 1  log(Likelihood) = 8141.2604512078815\n",
      "Iteration = 2  log(Likelihood) = 8141.2618981047235\n",
      "Iteration = 3  log(Likelihood) = 8141.261898196926\n",
      "{'zmean': array([1.00000000e+00, 4.30463155e-41, 1.34930309e-22, 1.15179263e-33,\n",
      "       1.46530857e-22, 8.66125526e-40, 1.56745779e-22, 4.74801617e-38,\n",
      "       1.65335262e-22, 1.00000000e+00, 4.66488242e-31, 1.00000000e+00,\n",
      "       4.82902917e-30, 0.00000000e+00, 5.04095174e-29, 1.00000000e+00,\n",
      "       6.48906205e-28, 1.88104750e-31, 1.87017069e-22, 1.41420665e-25,\n",
      "       1.87611408e-22, 6.35828432e-25, 1.88836383e-22, 4.56838898e-25,\n",
      "       1.89534943e-22, 1.82501269e-22, 1.92645709e-22, 1.81744357e-22,\n",
      "       1.92692808e-22, 1.83148847e-22, 1.92737580e-22, 1.82594495e-22,\n",
      "       1.92772270e-22, 1.57548845e-24, 1.89618296e-22, 1.73131270e-28,\n",
      "       1.89962253e-22, 6.98140199e-25, 1.90244415e-22, 4.33576463e-25,\n",
      "       1.91110645e-22, 1.84529603e-22, 1.92693027e-22, 1.83908999e-22,\n",
      "       1.92720708e-22, 1.85018572e-22, 1.92754335e-22, 1.84808623e-22,\n",
      "       1.92784117e-22, 2.26269157e-24, 1.88585065e-22, 1.57481853e-25,\n",
      "       1.89176955e-22, 4.76714044e-32, 1.89062216e-22, 2.42222744e-26,\n",
      "       1.89312644e-22, 1.85786715e-22, 1.92738815e-22, 1.85560106e-22,\n",
      "       1.92754721e-22, 1.86482931e-22, 1.92773478e-22, 1.86379242e-22,\n",
      "       1.92796964e-22, 1.03997312e-23, 1.87680758e-22, 1.64933577e-24,\n",
      "       1.88574609e-22, 1.82485047e-25, 1.89018889e-22, 5.32694488e-31,\n",
      "       1.89263495e-22, 1.87505527e-22, 1.92776786e-22, 1.87473027e-22,\n",
      "       1.92785755e-22, 1.87879458e-22, 1.92797001e-22, 1.88013676e-22,\n",
      "       1.92811681e-22]), 'wmean': array([ 9.82386095e-01, -3.59775992e-41, -1.51293143e-23, -4.80357759e-33,\n",
      "       -2.13973726e-23, -1.55643177e-39, -2.87882210e-23, -3.13778151e-37,\n",
      "       -2.81740952e-23,  1.13371985e-01,  8.93807745e-32,  4.30174510e-02,\n",
      "        6.09152307e-31,  0.00000000e+00,  5.03926238e-30,  8.42465691e-02,\n",
      "        9.29590347e-29,  3.33319520e-32,  8.14937563e-26, -2.53871100e-26,\n",
      "        3.59671140e-24, -8.34092475e-25,  6.47178807e-24, -9.29114277e-25,\n",
      "        3.29777351e-24,  2.47014725e-24, -1.40200978e-24, -1.63551159e-23,\n",
      "       -1.46929246e-24, -1.84425997e-23, -1.57201665e-24, -7.70622540e-24,\n",
      "       -1.59116857e-24, -2.20674651e-24, -6.99376470e-24, -3.27193101e-28,\n",
      "       -1.09918563e-23, -1.62245868e-24, -1.36652759e-23, -1.11382848e-24,\n",
      "       -1.17300230e-23,  9.47197067e-25, -1.46005754e-24, -2.03844790e-23,\n",
      "       -1.50600480e-24, -1.88909065e-23, -1.53640879e-24, -6.80350500e-24,\n",
      "       -1.50726327e-24, -1.23193207e-24, -1.31648894e-23, -2.08157841e-25,\n",
      "       -1.23312853e-23, -3.69255126e-32, -1.65067538e-23, -6.46338739e-26,\n",
      "       -1.62963296e-23, -1.62831212e-24, -1.60986866e-24, -2.49982760e-23,\n",
      "       -1.53166424e-24, -1.85650554e-23, -1.50959847e-24, -6.06956088e-24,\n",
      "       -1.39273494e-24, -1.54100261e-23, -1.32983375e-23, -2.44471914e-24,\n",
      "       -1.38719075e-23, -3.56624830e-25, -1.27776420e-23, -2.78636004e-30,\n",
      "       -1.38897641e-23, -4.41590383e-24, -1.59232497e-24, -2.22366101e-23,\n",
      "       -1.46543369e-24, -1.90784646e-23, -1.37828898e-24, -4.07248080e-24,\n",
      "       -1.33804256e-24]), 'wCOV': array([[ 1.66953331e-05,  1.12453661e-43, -2.04512729e-26, ...,\n",
      "        -1.35895516e-27, -8.57501636e-27, -1.28183097e-27],\n",
      "       [ 1.12453661e-43,  1.09864930e-01, -4.29787828e-64, ...,\n",
      "        -2.00807717e-65, -2.42518095e-64, -1.73284609e-65],\n",
      "       [-2.04512729e-26, -4.29787828e-64,  1.09864930e-01, ...,\n",
      "        -9.08131167e-48, -4.50519553e-47, -7.64074990e-48],\n",
      "       ...,\n",
      "       [-1.35895516e-27, -2.00807717e-65, -9.08131167e-48, ...,\n",
      "         1.09864930e-01, -3.42680441e-48, -8.00370479e-49],\n",
      "       [-8.57501636e-27, -2.42518095e-64, -4.50519553e-47, ...,\n",
      "        -3.42680441e-48,  1.09864930e-01, -3.13546560e-48],\n",
      "       [-1.28183097e-27, -1.73284609e-65, -7.64074990e-48, ...,\n",
      "        -8.00370479e-49, -3.13546560e-48,  1.09864930e-01]]), 'sig2': 0.010986498924702746, 'modelIdx': array([ 8, 10, 14]), 'Zmed': array([1., 1., 1.]), 'Wsel': array([0.11337198, 0.04301745, 0.08424657]), 'Wcov': array([0.0046642 , 0.00468666, 0.00447024])}\n"
     ]
    }
   ],
   "source": [
    "tol = 0.0001\n",
    "verbosity = True\n",
    "initz0 = initz0\n",
    "DS = Variational_Bayes_Code(D, xdts, initz0, tol, verbosity)\n",
    "\n",
    "print(DS) "
   ]
  },
  {
   "cell_type": "code",
   "execution_count": 34,
   "metadata": {},
   "outputs": [
    {
     "name": "stdout",
     "output_type": "stream",
     "text": [
      "\n",
      "0.991153920774372\n"
     ]
    },
    {
     "data": {
      "image/png": "[encoded data removed]",
      "text/plain": [
       "<Figure size 432x288 with 1 Axes>"
      ]
     },
     "metadata": {
      "needs_background": "light"
     },
     "output_type": "display_data"
    }
   ],
   "source": [
    "zmean6 = DS['zmean']\n",
    "wmean6 = DS['wmean']\n",
    "zmean6[np.where(np.diag(DS['wCOV'])>5e-4)] = 0\n",
    "plt.stem(zmean6)\n",
    "wmean6[np.where(np.diag(DS['wCOV'])>5e-4)] = 0\n",
    "print()\n",
    "print(np.sqrt(wmean6[0]))"
   ]
  },
  {
   "cell_type": "markdown",
   "metadata": {},
   "source": [
    "# Diffusion 5"
   ]
  },
  {
   "cell_type": "code",
   "execution_count": 2,
   "metadata": {},
   "outputs": [],
   "source": [
    "import numpy as np\n",
    "import matplotlib.pyplot as plt\n",
    "\"\"\"\n",
    "A MDOF system excited by random noise\n",
    "----------------------------------------------------------------------\n",
    "\"\"\"\n",
    "\n",
    "def drift_mat(dof,k,c,m):\n",
    "    dim = 2 * dof\n",
    "    A = np.zeros((dim,dim))\n",
    "    \n",
    "    for i in range(dim):\n",
    "        if (i%2 == 0):\n",
    "            A[i][i+1] = 1\n",
    "    \n",
    "        elif(i==1):\n",
    "            A[i][i-1] = -(k+k)/m\n",
    "            A[i][i] = -(c+c)/m\n",
    "            A[i][i+1] = k/m\n",
    "            A[i][i+2] = c/m\n",
    "    \n",
    "        elif(i==dim-1):\n",
    "            A[i][i] = -c/m\n",
    "            A[i][i-1] = -k/m\n",
    "            A[i][i-2] = c/m\n",
    "            A[i][i-3] = k/m\n",
    "            \n",
    "        else:\n",
    "            A[i][i-3] = k/m \n",
    "            A[i][i-2] = c/m\n",
    "            A[i][i-1] = -(k+k)/m\n",
    "            A[i][i] = -(c+c)/m\n",
    "            A[i][i+1] = k/m\n",
    "            A[i][i+2] = c/m\n",
    "    return A\n",
    "\n",
    "def M_DOF_sys(x_initial, dof, T):\n",
    "    # parameters of M_DOF_sys in Equation\n",
    "    m = 1\n",
    "    c = 2\n",
    "    k = 3000\n",
    "    sigma = 1\n",
    "    \n",
    "    # solution by euler maruyama\n",
    "    # -------------------------------------------------------\n",
    "    dt = 0.0001\n",
    "    t = np.arange(0, T+dt, dt)\n",
    "    Nsamp = 200 # no. of samples in the run\n",
    "\n",
    "    y31 = []\n",
    "    y32 = []\n",
    "    y33 = []\n",
    "    y34 = []\n",
    "    y35 = []\n",
    "    y36 = []\n",
    "    y37 = []\n",
    "    y38 = []\n",
    "    \n",
    "    xz17 = []\n",
    "    xz18 = []\n",
    "    \n",
    "    xzs17 = []\n",
    "    xzs18 = []\n",
    "    \n",
    "    # Simulation Starts Here :\n",
    "    # -------------------------------------------------------\n",
    "    for ensemble in range(Nsamp):\n",
    "        x0 = x_initial\n",
    "        x = x0                              # initial condition.\n",
    "        for n in range(len(t)-1):\n",
    "            dW = np.sqrt(dt)*np.random.randn(2*dof)\n",
    "            \n",
    "            '''LINEAR PART DRIFT'''\n",
    "        \n",
    "            A = drift_mat(dof,k,c,m)\n",
    "            \n",
    "            '''DIFFUSION TERM  = b'''\n",
    "            diffu_arr = np.zeros(2*dof)\n",
    "            for i in range(2*dof):\n",
    "                if (i%2 != 0):\n",
    "                    diffu_arr[i] = sigma/m\n",
    "            \n",
    "            soln_arr = x0 + np.matmul(A,x0)*dt + diffu_arr*dW        \n",
    "            x0 = soln_arr\n",
    "            x = np.column_stack((x, x0))\n",
    "            \n",
    "        y31.append(x[-31,:])            \n",
    "        y32.append(x[-32,:])\n",
    "        y33.append(x[-33,:])         # Displacement     \n",
    "        y34.append(x[-34,:])\n",
    "        y35.append(x[-35,:])         # \n",
    "        y36.append(x[-36,:])              \n",
    "        y37.append(x[-37,:])\n",
    "        y38.append(x[-38,:])\n",
    "        \n",
    "        zint17 = x[-33, 0:-1]        # Velocity\n",
    "        xfinal17 = x[-33, 1:] \n",
    "        xmz17 = (xfinal17 - zint17)\n",
    "        \n",
    "        zint18 = x[-35, 0:-1]        # Velocity\n",
    "        xfinal18 = x[-35, 1:] \n",
    "        xmz18 = (xfinal18 - zint18) \n",
    "\n",
    "        xz17.append(xmz17)\n",
    "        xz18.append(xmz18)\n",
    "        \n",
    "        xmzsq17 = np.multiply(xmz17, xmz17)\n",
    "        xzs17.append(xmzsq17)\n",
    "        \n",
    "        xmzsq18 = np.multiply(xmz18, xmz18)\n",
    "        xzs18.append(xmzsq18)\n",
    "        \n",
    "    xz17 = pow(dt,-1)*np.mean(np.array(xz17), axis = 0)\n",
    "    xz18 = pow(dt,-1)*np.mean(np.array(xz18), axis = 0)\n",
    "\n",
    "    xzs17 = pow(dt,-1)*np.mean(np.array(xzs17), axis = 0)\n",
    "    xzs18 = pow(dt,-1)*np.mean(np.array(xzs18), axis = 0)\n",
    "\n",
    "    y31 = np.array(y31)\n",
    "    y32 = np.array(y32)\n",
    "    y33 = np.array(y33)\n",
    "    y34 = np.array(y34)\n",
    "    y35 = np.array(y35)\n",
    "    y36 = np.array(y36)\n",
    "    y37 = np.array(y37)\n",
    "    y38 = np.array(y38)\n",
    "\n",
    "    time = t[0:-1]\n",
    "    return xz17, xz18, xzs17, xzs18, y31, y32, y33, y34, y35, y36, y37, y38, time"
   ]
  },
  {
   "cell_type": "code",
   "execution_count": 6,
   "metadata": {},
   "outputs": [
    {
     "name": "stdout",
     "output_type": "stream",
     "text": [
      "\n"
     ]
    },
    {
     "data": {
      "text/plain": [
       "19.931245609124502"
      ]
     },
     "execution_count": 6,
     "metadata": {},
     "output_type": "execute_result"
    }
   ],
   "source": [
    "import time\n",
    "start = time.time()\n",
    "xz17, xz18, xzs17, xzs18, y31, y32, y33, y34, y35, y36, y37, y38, time_ = M_DOF_sys(x_initial, dof, T)\n",
    "end = time.time()\n",
    "print()\n",
    "TIMES = (end - start)/60\n",
    "TIMES"
   ]
  },
  {
   "cell_type": "code",
   "execution_count": 7,
   "metadata": {},
   "outputs": [
    {
     "name": "stdout",
     "output_type": "stream",
     "text": [
      "\n"
     ]
    },
    {
     "data": {
      "text/plain": [
       "5.3630574186642965"
      ]
     },
     "execution_count": 7,
     "metadata": {},
     "output_type": "execute_result"
    }
   ],
   "source": [
    "startD = time.time()\n",
    "# Expected Dictionary Creation:\n",
    "libr = []\n",
    "for j in range(len(y31)):\n",
    "    data = np.row_stack((y31[j,0:-1], y32[j,0:-1], y33[j,0:-1], y34[j,0:-1], y35[j,0:-1], y36[j,0:-1], y37[j,0:-1], y38[j,0:-1]))\n",
    "    Dtemp, nl = library(data, 1, 0)\n",
    "    libr.append(Dtemp)\n",
    "libr = np.array(libr)\n",
    "Dictionary= np.mean(libr, axis = 0)\n",
    "print()\n",
    "endD = time.time()\n",
    "TIMED = (endD - startD)/60\n",
    "TIMED"
   ]
  },
  {
   "cell_type": "code",
   "execution_count": 10,
   "metadata": {},
   "outputs": [],
   "source": [
    "xdts = xzs17\n",
    "D = Dictionary"
   ]
  },
  {
   "cell_type": "code",
   "execution_count": 12,
   "metadata": {},
   "outputs": [
    {
     "data": {
      "text/plain": [
       "(810000,)"
      ]
     },
     "execution_count": 12,
     "metadata": {},
     "output_type": "execute_result"
    }
   ],
   "source": [
    "Dict = D.reshape(-1,order='F')"
   ]
  },
  {
   "cell_type": "code",
   "execution_count": 13,
   "metadata": {
    "scrolled": true
   },
   "outputs": [
    {
     "name": "stdout",
     "output_type": "stream",
     "text": [
      "{'Relevant': matlab.double([[1.0],[6.0],[9.0],[10.0],[13.0],[23.0],[24.0],[40.0],[60.0],[66.0],[68.0]]), 'Value': matlab.double([[1.0016807730353334],[0.013072647804788002],[-0.6057617180505847],[0.06970042916874226],[2.098301547018932],[-3.6468439048969015],[0.5003017632994207],[-0.33739058061783406],[-1.578768031065037],[-0.2958160341481349],[0.38074201478010244]])}\n"
     ]
    }
   ],
   "source": [
    "#!/usr/bin/env python\n",
    "\"\"\"\n",
    "Sample script that uses the SparseBayes module created using\n",
    "MATLAB Compiler SDK.\n",
    "\n",
    "Refer to the MATLAB Compiler SDK documentation for more information.\n",
    "\"\"\"\n",
    "\n",
    "from __future__ import print_function\n",
    "import SparseBayes\n",
    "import matlab\n",
    "\n",
    "my_SparseBayes = SparseBayes.initialize()\n",
    "\n",
    "DictIn = matlab.double(Dict, size=(D.shape[0], D.shape[1]))\n",
    "targetIn = matlab.double(xdts, size=(D.shape[0], 1))\n",
    "DMOut = my_SparseBayes.SparseBayes(DictIn, targetIn)\n",
    "print(DMOut, sep='\\n')\n",
    "\n",
    "my_SparseBayes.terminate()"
   ]
  },
  {
   "cell_type": "code",
   "execution_count": null,
   "metadata": {},
   "outputs": [],
   "source": [
    "c = np.array(DMOut['Value'])\n",
    "d = []\n",
    "for j in c:\n",
    "    d.append(j[0])\n",
    "    \n",
    "a = np.array(DMOut['Relevant'])\n",
    "b = []\n",
    "for i in a:\n",
    "    b.append(int((i[0])-1))\n",
    "    \n",
    "initz0 = np.zeros(D.shape[1])\n",
    "for i in b:\n",
    "    initz0[i] = 1\n",
    "    \n",
    "print(initz0)"
   ]
  },
  {
   "cell_type": "code",
   "execution_count": 24,
   "metadata": {},
   "outputs": [
    {
     "name": "stderr",
     "output_type": "stream",
     "text": [
      "C:\\Users\\USER\\AppData\\Local\\Temp/ipykernel_14004/3512855728.py:147: RuntimeWarning: divide by zero encountered in log\n",
      "  + np.nansum((1-zm)*(np.log(1-p0) - np.log(1-zm))))\n",
      "C:\\Users\\USER\\AppData\\Local\\Temp/ipykernel_14004/3512855728.py:147: RuntimeWarning: invalid value encountered in multiply\n",
      "  + np.nansum((1-zm)*(np.log(1-p0) - np.log(1-zm))))\n",
      "C:\\Users\\USER\\AppData\\Local\\Temp/ipykernel_14004/3512855728.py:174: RuntimeWarning: overflow encountered in exp\n",
      "  expitC = 1./(1 + np.exp(-C))\n"
     ]
    },
    {
     "name": "stdout",
     "output_type": "stream",
     "text": [
      "Iteration = 0  log(Likelihood) = 7960.982574775339\n"
     ]
    },
    {
     "name": "stderr",
     "output_type": "stream",
     "text": [
      "C:\\Users\\USER\\AppData\\Local\\Temp/ipykernel_14004/3512855728.py:146: RuntimeWarning: divide by zero encountered in log\n",
      "  + np.nansum(zm*(np.log(p0) - np.log(zm)))\n",
      "C:\\Users\\USER\\AppData\\Local\\Temp/ipykernel_14004/3512855728.py:146: RuntimeWarning: invalid value encountered in multiply\n",
      "  + np.nansum(zm*(np.log(p0) - np.log(zm)))\n"
     ]
    },
    {
     "name": "stdout",
     "output_type": "stream",
     "text": [
      "Iteration = 1  log(Likelihood) = 8023.123711004848\n",
      "Iteration = 2  log(Likelihood) = 8023.1247993069865\n",
      "Iteration = 3  log(Likelihood) = 8023.124799377193\n",
      "{'zmean': array([1.00000000e+00, 7.35667155e-38, 1.81228466e-22, 2.87396066e-35,\n",
      "       1.81812949e-22, 1.43484038e-38, 1.82338938e-22, 4.04435653e-37,\n",
      "       1.83870819e-22, 0.00000000e+00, 6.28325592e-29, 0.00000000e+00,\n",
      "       8.85443598e-28, 0.00000000e+00, 1.22997406e-26, 0.00000000e+00,\n",
      "       1.80050924e-25, 4.95982463e-31, 1.89214404e-22, 1.69017871e-26,\n",
      "       1.89585909e-22, 3.70131384e-25, 1.90389877e-22, 3.02874425e-24,\n",
      "       1.91325479e-22, 1.90167807e-22, 1.92842930e-22, 1.89629242e-22,\n",
      "       1.92847279e-22, 1.89365434e-22, 1.92853356e-22, 1.89888722e-22,\n",
      "       1.92860889e-22, 5.77979328e-27, 1.89304303e-22, 4.04223850e-29,\n",
      "       1.89757181e-22, 4.13137652e-25, 1.90398479e-22, 1.13664855e-24,\n",
      "       1.91065519e-22, 1.90441618e-22, 1.92847197e-22, 1.89714054e-22,\n",
      "       1.92847796e-22, 1.89634121e-22, 1.92852848e-22, 1.90320569e-22,\n",
      "       1.92860744e-22, 8.87402481e-25, 1.89240218e-22, 3.57172800e-25,\n",
      "       1.89906161e-22, 1.10704195e-28, 1.90423738e-22, 7.36853508e-26,\n",
      "       1.90930512e-22, 1.90454123e-22, 1.92853504e-22, 1.89952194e-22,\n",
      "       1.92852900e-22, 1.90283567e-22, 1.92855765e-22, 1.90468298e-22,\n",
      "       1.92862659e-22, 1.30112491e-25, 1.89639608e-22, 6.33860381e-25,\n",
      "       1.90536416e-22, 1.12975480e-25, 1.90812471e-22, 1.00999024e-30,\n",
      "       1.91105097e-22, 1.90738743e-22, 1.92860520e-22, 1.90308575e-22,\n",
      "       1.92860186e-22, 1.90844120e-22, 1.92862396e-22, 1.91042866e-22,\n",
      "       1.92865747e-22]), 'wmean': array([ 1.05157699e+00,  3.07999604e-37, -1.26644149e-22, -3.13722825e-35,\n",
      "       -1.22096505e-22,  8.09660121e-38, -1.00993077e-22,  1.57241253e-36,\n",
      "       -8.03970434e-23,  0.00000000e+00,  6.66543872e-28,  0.00000000e+00,\n",
      "        8.35166798e-27,  0.00000000e+00,  9.95766021e-26,  0.00000000e+00,\n",
      "        1.21876132e-24,  4.15725428e-31, -1.96387818e-23,  6.75721709e-26,\n",
      "       -2.27475807e-23,  7.24123430e-25, -2.10424720e-23,  3.00658222e-24,\n",
      "       -1.27545680e-23, -2.76492752e-23, -6.74429504e-24, -4.37187326e-23,\n",
      "       -6.10747497e-24, -5.13575917e-23, -5.29092733e-24, -3.27987902e-23,\n",
      "       -3.99045965e-24,  1.75482972e-26, -2.58273514e-23,  3.03678622e-29,\n",
      "       -2.32079369e-23,  5.89116979e-25, -2.51515707e-23, -1.55264851e-24,\n",
      "       -2.04461376e-23, -2.78149454e-23, -6.12796153e-24, -4.22581684e-23,\n",
      "       -5.95673354e-24, -4.98058659e-23, -5.00880999e-24, -2.90425161e-23,\n",
      "       -3.61193974e-24,  4.13612335e-24,  2.99553711e-24,  1.51970397e-24,\n",
      "        6.15358517e-24,  4.91056287e-28,  2.02370911e-24,  1.22690303e-25,\n",
      "       -3.99067125e-24, -1.90730739e-23, -5.18957013e-24, -3.58785780e-23,\n",
      "       -5.03814284e-24, -4.24406153e-23, -4.10957852e-24, -2.50607235e-23,\n",
      "       -2.69789568e-24,  5.22343492e-25,  5.78669245e-25,  2.47684200e-24,\n",
      "        6.12271399e-24,  3.53159265e-26,  5.03122399e-24,  1.72406145e-30,\n",
      "        1.97183451e-24, -1.88933765e-23, -3.89117609e-24, -3.45236186e-23,\n",
      "       -3.67148501e-24, -3.25587437e-23, -2.73224628e-24, -1.77963989e-23,\n",
      "       -1.79879435e-24]), 'wCOV': array([[ 1.16066775e-06,  1.70059234e-42,  3.97616335e-27, ...,\n",
      "         3.13422542e-29,  5.57601412e-28,  6.96843165e-30],\n",
      "       [ 1.70059234e-42,  1.16067936e-01,  8.26826894e-63, ...,\n",
      "         3.02857713e-62,  7.25339842e-62,  2.31658490e-62],\n",
      "       [ 3.97616335e-27,  8.26826894e-63,  1.16067936e-01, ...,\n",
      "        -1.05788108e-47, -1.14896740e-46, -8.66634586e-48],\n",
      "       ...,\n",
      "       [ 3.13422542e-29,  3.02857713e-62, -1.05788108e-47, ...,\n",
      "         1.16067936e-01, -5.15773909e-48, -4.71475881e-49],\n",
      "       [ 5.57601412e-28,  7.25339842e-62, -1.14896740e-46, ...,\n",
      "        -5.15773909e-48,  1.16067936e-01, -4.48531853e-48],\n",
      "       [ 6.96843165e-30,  2.31658490e-62, -8.66634586e-48, ...,\n",
      "        -4.71475881e-49, -4.48531853e-48,  1.16067936e-01]]), 'sig2': 0.0116067990183545, 'modelIdx': array([], dtype=int32), 'Zmed': array([], dtype=float64), 'Wsel': array([], dtype=float64), 'Wcov': array([], dtype=float64)}\n"
     ]
    }
   ],
   "source": [
    "tol = 0.0001\n",
    "verbosity = True\n",
    "initz0 = initz0\n",
    "DS = Variational_Bayes_Code(D, xdts, initz0, tol, verbosity)\n",
    "\n",
    "print(DS) "
   ]
  },
  {
   "cell_type": "code",
   "execution_count": 26,
   "metadata": {},
   "outputs": [
    {
     "name": "stdout",
     "output_type": "stream",
     "text": [
      "\n",
      "1.0254642808547945\n"
     ]
    },
    {
     "data": {
      "image/png": "[encoded data removed]",
      "text/plain": [
       "<Figure size 432x288 with 1 Axes>"
      ]
     },
     "metadata": {
      "needs_background": "light"
     },
     "output_type": "display_data"
    }
   ],
   "source": [
    "zmean5 = DS['zmean']\n",
    "wmean5 = DS['wmean']\n",
    "zmean5[np.where(np.diag(DS['wCOV'])>2e-5)] = 0\n",
    "plt.stem(zmean5)\n",
    "wmean5[np.where(np.diag(DS['wCOV'])>2e-5)] = 0\n",
    "print()\n",
    "print(np.sqrt(wmean5[0]))"
   ]
  },
  {
   "cell_type": "markdown",
   "metadata": {},
   "source": [
    "# Diffusion 4"
   ]
  },
  {
   "cell_type": "code",
   "execution_count": 33,
   "metadata": {},
   "outputs": [],
   "source": [
    "xdts = xzs18"
   ]
  },
  {
   "cell_type": "code",
   "execution_count": 34,
   "metadata": {
    "scrolled": true
   },
   "outputs": [
    {
     "name": "stdout",
     "output_type": "stream",
     "text": [
      "{'Relevant': matlab.double([[1.0],[14.0],[15.0],[28.0],[32.0],[39.0],[51.0],[62.0],[66.0],[67.0],[68.0],[70.0],[73.0]]), 'Value': matlab.double([[1.0032862048098872],[0.016253418600523338],[3.526279990043914],[7.123822225893731],[-7.45176274109187],[3.3795995416030897],[3.563219347335504],[2.4216844147637526],[-0.4365576745901151],[1.9891473198417193],[0.16654464890226187],[-0.2788701688923499],[0.26423980768792615]])}\n"
     ]
    }
   ],
   "source": [
    "#!/usr/bin/env python\n",
    "\"\"\"\n",
    "Sample script that uses the SparseBayes module created using\n",
    "MATLAB Compiler SDK.\n",
    "\n",
    "Refer to the MATLAB Compiler SDK documentation for more information.\n",
    "\"\"\"\n",
    "\n",
    "from __future__ import print_function\n",
    "import SparseBayes\n",
    "import matlab\n",
    "\n",
    "my_SparseBayes = SparseBayes.initialize()\n",
    "\n",
    "DictIn = matlab.double(Dict, size=(D.shape[0], D.shape[1]))\n",
    "targetIn = matlab.double(xdts, size=(D.shape[0], 1))\n",
    "DMOut = my_SparseBayes.SparseBayes(DictIn, targetIn)\n",
    "print(DMOut, sep='\\n')\n",
    "\n",
    "my_SparseBayes.terminate()"
   ]
  },
  {
   "cell_type": "code",
   "execution_count": null,
   "metadata": {},
   "outputs": [],
   "source": [
    "c = np.array(DMOut['Value'])\n",
    "d = []\n",
    "for j in c:\n",
    "    d.append(j[0])\n",
    "    \n",
    "a = np.array(DMOut['Relevant'])\n",
    "b = []\n",
    "for i in a:\n",
    "    b.append(int((i[0])-1))\n",
    "    \n",
    "initz0 = np.zeros(D.shape[1])\n",
    "for i in b:\n",
    "    initz0[i] = 1\n",
    "    \n",
    "print(initz0)"
   ]
  },
  {
   "cell_type": "code",
   "execution_count": 36,
   "metadata": {
    "scrolled": true
   },
   "outputs": [
    {
     "name": "stderr",
     "output_type": "stream",
     "text": [
      "C:\\Users\\USER\\AppData\\Local\\Temp/ipykernel_14004/3512855728.py:147: RuntimeWarning: divide by zero encountered in log\n",
      "  + np.nansum((1-zm)*(np.log(1-p0) - np.log(1-zm))))\n",
      "C:\\Users\\USER\\AppData\\Local\\Temp/ipykernel_14004/3512855728.py:147: RuntimeWarning: invalid value encountered in multiply\n",
      "  + np.nansum((1-zm)*(np.log(1-p0) - np.log(1-zm))))\n",
      "C:\\Users\\USER\\AppData\\Local\\Temp/ipykernel_14004/3512855728.py:174: RuntimeWarning: overflow encountered in exp\n",
      "  expitC = 1./(1 + np.exp(-C))\n"
     ]
    },
    {
     "name": "stdout",
     "output_type": "stream",
     "text": [
      "Iteration = 0  log(Likelihood) = 8189.139514218443\n"
     ]
    },
    {
     "name": "stderr",
     "output_type": "stream",
     "text": [
      "C:\\Users\\USER\\AppData\\Local\\Temp/ipykernel_14004/3512855728.py:146: RuntimeWarning: divide by zero encountered in log\n",
      "  + np.nansum(zm*(np.log(p0) - np.log(zm)))\n",
      "C:\\Users\\USER\\AppData\\Local\\Temp/ipykernel_14004/3512855728.py:146: RuntimeWarning: invalid value encountered in multiply\n",
      "  + np.nansum(zm*(np.log(p0) - np.log(zm)))\n"
     ]
    },
    {
     "name": "stdout",
     "output_type": "stream",
     "text": [
      "Iteration = 1  log(Likelihood) = 8240.256414030031\n",
      "Iteration = 2  log(Likelihood) = 8240.258340970531\n",
      "Iteration = 3  log(Likelihood) = 8240.258341094088\n",
      "{'zmean': array([1.00000000e+00, 7.35671202e-38, 1.81228468e-22, 2.87397382e-35,\n",
      "       1.81812951e-22, 1.43484864e-38, 1.82338939e-22, 4.04437771e-37,\n",
      "       1.83870820e-22, 0.00000000e+00, 6.28327046e-29, 0.00000000e+00,\n",
      "       8.85445285e-28, 1.00000000e+00, 1.22997590e-26, 0.00000000e+00,\n",
      "       1.80051119e-25, 4.95983984e-31, 1.89214405e-22, 1.69018116e-26,\n",
      "       1.89585909e-22, 3.70131743e-25, 1.90389878e-22, 3.02874620e-24,\n",
      "       1.91325480e-22, 1.90167808e-22, 1.92842930e-22, 1.89629242e-22,\n",
      "       1.92847279e-22, 1.89365435e-22, 1.92853356e-22, 1.89888723e-22,\n",
      "       1.92860889e-22, 5.77980261e-27, 1.89304303e-22, 4.04224813e-29,\n",
      "       1.89757182e-22, 4.13138045e-25, 1.90398479e-22, 1.13664945e-24,\n",
      "       1.91065520e-22, 1.90441618e-22, 1.92847197e-22, 1.89714054e-22,\n",
      "       1.92847796e-22, 1.89634121e-22, 1.92852848e-22, 1.90320569e-22,\n",
      "       1.92860744e-22, 8.87403221e-25, 1.89240218e-22, 3.57173148e-25,\n",
      "       1.89906161e-22, 1.10704441e-28, 1.90423739e-22, 7.36854406e-26,\n",
      "       1.90930513e-22, 1.90454123e-22, 1.92853504e-22, 1.89952194e-22,\n",
      "       1.92852900e-22, 1.90283567e-22, 1.92855765e-22, 1.90468299e-22,\n",
      "       1.92862659e-22, 1.30112639e-25, 1.89639609e-22, 6.33860943e-25,\n",
      "       1.90536416e-22, 1.12975610e-25, 1.90812471e-22, 1.00999322e-30,\n",
      "       1.91105097e-22, 1.90738743e-22, 1.92860520e-22, 1.90308575e-22,\n",
      "       1.92860186e-22, 1.90844120e-22, 1.92862396e-22, 1.91042867e-22,\n",
      "       1.92865747e-22]), 'wmean': array([ 9.90457838e-01,  9.78172867e-38,  3.00105583e-23, -3.25851459e-35,\n",
      "        5.78902971e-23, -6.39346981e-39,  7.25943073e-23, -1.89754838e-36,\n",
      "        8.08297259e-23,  0.00000000e+00,  3.39495705e-29,  0.00000000e+00,\n",
      "        4.73722326e-28,  2.21544830e-01,  5.86684994e-27,  0.00000000e+00,\n",
      "        5.98733019e-26, -3.61432640e-31,  2.48355682e-23, -8.36304538e-27,\n",
      "        2.17212664e-23,  2.26086711e-25,  2.13293990e-23, -6.32578492e-25,\n",
      "        1.71615940e-23,  2.69435882e-23,  2.17887675e-24,  4.78860206e-23,\n",
      "        2.59011237e-24,  3.37121465e-23,  2.67614934e-24,  8.17748085e-24,\n",
      "        2.54005919e-24, -8.83984081e-27,  2.61604098e-23,  9.89226932e-30,\n",
      "        2.29475436e-23,  1.92948426e-25,  2.00542892e-23,  4.11406658e-26,\n",
      "        1.71535355e-23,  4.00154871e-23,  2.62370934e-24,  5.49610621e-23,\n",
      "        2.96727972e-24,  4.48859063e-23,  3.07945073e-24,  1.63535755e-23,\n",
      "        2.92273478e-24, -4.58331969e-25,  2.90729679e-23,  5.19818080e-25,\n",
      "        2.56567202e-23, -2.97597111e-29,  1.84639563e-23,  4.43474878e-26,\n",
      "        1.03943316e-23,  4.46918811e-23,  2.83333016e-24,  5.45809646e-23,\n",
      "        3.08075180e-24,  4.61943530e-23,  3.15426788e-24,  2.38530379e-23,\n",
      "        2.97180946e-24, -4.43368060e-25, -1.98226780e-24,  5.27723223e-25,\n",
      "       -3.67607250e-24, -3.59245255e-25, -1.17916506e-24, -2.45946927e-30,\n",
      "        5.08912586e-25,  4.15840591e-23,  2.83935578e-24,  5.12796159e-23,\n",
      "        3.00419964e-24,  4.01851897e-23,  3.00484017e-24,  2.58673129e-23,\n",
      "        2.96086248e-24]), 'wCOV': array([[ 1.58504531e-05,  5.98078101e-42, -1.87142627e-26, ...,\n",
      "        -4.13418032e-28, -2.60452643e-27, -2.69440717e-28],\n",
      "       [ 5.98078101e-42,  1.09959567e-01,  1.18053224e-63, ...,\n",
      "         2.85803277e-62,  6.78359820e-62,  2.18799678e-62],\n",
      "       [-1.87142627e-26,  1.18053224e-63,  1.09959567e-01, ...,\n",
      "        -9.34675966e-48, -1.04075617e-46, -7.78956276e-48],\n",
      "       ...,\n",
      "       [-4.13418032e-28,  2.85803277e-62, -9.34675966e-48, ...,\n",
      "         1.09959567e-01, -4.79219324e-48, -4.38371054e-49],\n",
      "       [-2.60452643e-27,  6.78359820e-62, -1.04075617e-46, ...,\n",
      "        -4.79219324e-48,  1.09959567e-01, -4.19064231e-48],\n",
      "       [-2.69440717e-28,  2.18799678e-62, -7.78956276e-48, ...,\n",
      "        -4.38371054e-49, -4.19064231e-48,  1.09959567e-01]]), 'sig2': 0.010995963530782612, 'modelIdx': array([12]), 'Zmed': array([1.]), 'Wsel': array([0.22154483]), 'Wcov': array([0.00019])}\n"
     ]
    }
   ],
   "source": [
    "tol = 0.0001\n",
    "verbosity = True\n",
    "initz0 = initz0\n",
    "DS = Variational_Bayes_Code(D, xdts, initz0, tol, verbosity)\n",
    "\n",
    "print(DS) "
   ]
  },
  {
   "cell_type": "code",
   "execution_count": 38,
   "metadata": {},
   "outputs": [
    {
     "name": "stdout",
     "output_type": "stream",
     "text": [
      "\n",
      "0.9952174826668923\n"
     ]
    },
    {
     "data": {
      "image/png": "[encoded data removed]",
      "text/plain": [
       "<Figure size 432x288 with 1 Axes>"
      ]
     },
     "metadata": {
      "needs_background": "light"
     },
     "output_type": "display_data"
    }
   ],
   "source": [
    "zmean4 = DS['zmean']\n",
    "wmean4 = DS['wmean']\n",
    "zmean4[np.where(np.diag(DS['wCOV'])>5e-5)] = 0\n",
    "plt.stem(zmean4)\n",
    "wmean4[np.where(np.diag(DS['wCOV'])>5e-5)] = 0\n",
    "print()\n",
    "print(np.sqrt(wmean4[0]))"
   ]
  },
  {
   "cell_type": "markdown",
   "metadata": {},
   "source": [
    "# Diffusion 3"
   ]
  },
  {
   "cell_type": "code",
   "execution_count": 2,
   "metadata": {},
   "outputs": [],
   "source": [
    "import numpy as np\n",
    "import matplotlib.pyplot as plt\n",
    "\"\"\"\n",
    "A MDOF system excited by random noise\n",
    "----------------------------------------------------------------------\n",
    "\"\"\"\n",
    "\n",
    "def drift_mat(dof,k,c,m):\n",
    "    dim = 2 * dof\n",
    "    A = np.zeros((dim,dim))\n",
    "    \n",
    "    for i in range(dim):\n",
    "        if (i%2 == 0):\n",
    "            A[i][i+1] = 1\n",
    "    \n",
    "        elif(i==1):\n",
    "            A[i][i-1] = -(k+k)/m\n",
    "            A[i][i] = -(c+c)/m\n",
    "            A[i][i+1] = k/m\n",
    "            A[i][i+2] = c/m\n",
    "    \n",
    "        elif(i==dim-1):\n",
    "            A[i][i] = -c/m\n",
    "            A[i][i-1] = -k/m\n",
    "            A[i][i-2] = c/m\n",
    "            A[i][i-3] = k/m\n",
    "            \n",
    "        else:\n",
    "            A[i][i-3] = k/m \n",
    "            A[i][i-2] = c/m\n",
    "            A[i][i-1] = -(k+k)/m\n",
    "            A[i][i] = -(c+c)/m\n",
    "            A[i][i+1] = k/m\n",
    "            A[i][i+2] = c/m\n",
    "    return A\n",
    "\n",
    "def M_DOF_sys(x_initial, dof, T):\n",
    "    # parameters of M_DOF_sys in Equation\n",
    "    m = 1\n",
    "    c = 2\n",
    "    k = 3000\n",
    "    sigma = 1\n",
    "    \n",
    "    # solution by euler maruyama\n",
    "    # -------------------------------------------------------\n",
    "    dt = 0.0001\n",
    "    t = np.arange(0, T+dt, dt)\n",
    "    Nsamp = 200 # no. of samples in the run\n",
    "\n",
    "    y35 = []\n",
    "    y36 = []\n",
    "    y37 = []\n",
    "    y38 = []\n",
    "    y39 = []\n",
    "    y40 = []\n",
    "    y41 = []\n",
    "    y42 = []\n",
    "    \n",
    "    xz19 = []\n",
    "    xz20 = []\n",
    "    \n",
    "    xzs19 = []\n",
    "    xzs20 = []\n",
    "    \n",
    "    # Simulation Starts Here :\n",
    "    # -------------------------------------------------------\n",
    "    for ensemble in range(Nsamp):\n",
    "        x0 = x_initial\n",
    "        x = x0                              # initial condition.\n",
    "        for n in range(len(t)-1):\n",
    "            dW = np.sqrt(dt)*np.random.randn(2*dof)\n",
    "            \n",
    "            '''LINEAR PART DRIFT'''\n",
    "        \n",
    "            A = drift_mat(dof,k,c,m)\n",
    "            \n",
    "            '''DIFFUSION TERM  = b'''\n",
    "            diffu_arr = np.zeros(2*dof)\n",
    "            for i in range(2*dof):\n",
    "                if (i%2 != 0):\n",
    "                    diffu_arr[i] = sigma/m\n",
    "            \n",
    "            soln_arr = x0 + np.matmul(A,x0)*dt + diffu_arr*dW        \n",
    "            x0 = soln_arr\n",
    "            x = np.column_stack((x, x0))\n",
    "            \n",
    "\n",
    "        y35.append(x[-35,:])        \n",
    "        y36.append(x[-36,:])              \n",
    "        y37.append(x[-37,:])         # \n",
    "        y38.append(x[-38,:])\n",
    "        y39.append(x[-39,:])         #\n",
    "        y40.append(x[-40,:])\n",
    "        y41.append(x[-41,:])        \n",
    "        y42.append(x[-42,:])\n",
    "\n",
    "        \n",
    "        zint19 = x[-37, 0:-1]        # Velocity\n",
    "        xfinal19 = x[-37, 1:] \n",
    "        xmz19 = (xfinal19 - zint19)\n",
    "        \n",
    "        zint20 = x[-39, 0:-1]        # Velocity\n",
    "        xfinal20 = x[-39, 1:] \n",
    "        xmz20 = (xfinal20 - zint20) \n",
    "\n",
    "        xz19.append(xmz19)\n",
    "        xz20.append(xmz20)\n",
    "        \n",
    "        xmzsq19 = np.multiply(xmz19, xmz19)\n",
    "        xzs19.append(xmzsq19)\n",
    "        \n",
    "        xmzsq20 = np.multiply(xmz20, xmz20)\n",
    "        xzs20.append(xmzsq20)\n",
    "        \n",
    "    xz19 = pow(dt,-1)*np.mean(np.array(xz19), axis = 0)\n",
    "    xz20 = pow(dt,-1)*np.mean(np.array(xz20), axis = 0)\n",
    "\n",
    "    xzs19 = pow(dt,-1)*np.mean(np.array(xzs19), axis = 0)\n",
    "    xzs20 = pow(dt,-1)*np.mean(np.array(xzs20), axis = 0)\n",
    "\n",
    "    y35 = np.array(y35)\n",
    "    y36 = np.array(y36)\n",
    "    y37 = np.array(y37)\n",
    "    y38 = np.array(y38)\n",
    "    y39 = np.array(y39)\n",
    "    y40 = np.array(y40)\n",
    "    y41 = np.array(y41)\n",
    "    y42 = np.array(y42)\n",
    "\n",
    "    time = t[0:-1]\n",
    "    return xz19, xz20, xzs19, xzs20, y35, y36, y37, y38, y39, y40, y41, y42, time"
   ]
  },
  {
   "cell_type": "code",
   "execution_count": null,
   "metadata": {},
   "outputs": [],
   "source": [
    "import time\n",
    "start = time.time()\n",
    "xz19, xz20, xzs19, xzs20, y35, y36, y37, y38, y39, y40, y41, y42, time_ = M_DOF_sys(x_initial, dof, T)"
   ]
  },
  {
   "cell_type": "code",
   "execution_count": 6,
   "metadata": {},
   "outputs": [
    {
     "name": "stdout",
     "output_type": "stream",
     "text": [
      "\n"
     ]
    },
    {
     "data": {
      "text/plain": [
       "5.393276619911194"
      ]
     },
     "execution_count": 6,
     "metadata": {},
     "output_type": "execute_result"
    }
   ],
   "source": [
    "startD = time.time()\n",
    "# Expected Dictionary Creation:\n",
    "libr = []\n",
    "for j in range(len(y35)):\n",
    "    data = np.row_stack((y35[j,0:-1], y36[j,0:-1], y37[j,0:-1], y38[j,0:-1], y39[j,0:-1], y40[j,0:-1], y41[j,0:-1], y42[j,0:-1]))\n",
    "    Dtemp, nl = library(data, 1, 0)\n",
    "    libr.append(Dtemp)\n",
    "libr = np.array(libr)\n",
    "Dictionary= np.mean(libr, axis = 0)\n",
    "print()\n",
    "endD = time.time()\n",
    "TIMED = (endD - startD)/60\n",
    "TIMED"
   ]
  },
  {
   "cell_type": "code",
   "execution_count": 7,
   "metadata": {},
   "outputs": [],
   "source": [
    "xdts = xzs19\n",
    "D = Dictionary"
   ]
  },
  {
   "cell_type": "code",
   "execution_count": 9,
   "metadata": {},
   "outputs": [
    {
     "data": {
      "text/plain": [
       "(810000,)"
      ]
     },
     "execution_count": 9,
     "metadata": {},
     "output_type": "execute_result"
    }
   ],
   "source": [
    "Dict = D.reshape(-1,order='F')"
   ]
  },
  {
   "cell_type": "code",
   "execution_count": 10,
   "metadata": {
    "scrolled": true
   },
   "outputs": [
    {
     "name": "stdout",
     "output_type": "stream",
     "text": [
      "{'Relevant': matlab.double([[1.0],[6.0],[13.0],[14.0],[16.0],[21.0],[27.0],[32.0],[38.0],[58.0]]), 'Value': matlab.double([[0.9904825352434724],[0.09945833063129142],[0.5275949022920007],[0.10789027323677451],[0.09969911004305786],[-1.253850794084635],[34.01246409006031],[1.042994287115904],[-0.4438090621349935],[-0.12908973332471121]])}\n"
     ]
    }
   ],
   "source": [
    "#!/usr/bin/env python\n",
    "\"\"\"\n",
    "Sample script that uses the SparseBayes module created using\n",
    "MATLAB Compiler SDK.\n",
    "\n",
    "Refer to the MATLAB Compiler SDK documentation for more information.\n",
    "\"\"\"\n",
    "\n",
    "from __future__ import print_function\n",
    "import SparseBayes\n",
    "import matlab\n",
    "\n",
    "my_SparseBayes = SparseBayes.initialize()\n",
    "\n",
    "DictIn = matlab.double(Dict, size=(D.shape[0], D.shape[1]))\n",
    "targetIn = matlab.double(xdts, size=(D.shape[0], 1))\n",
    "DMOut = my_SparseBayes.SparseBayes(DictIn, targetIn)\n",
    "print(DMOut, sep='\\n')\n",
    "\n",
    "my_SparseBayes.terminate()"
   ]
  },
  {
   "cell_type": "code",
   "execution_count": null,
   "metadata": {},
   "outputs": [],
   "source": [
    "c = np.array(DMOut['Value'])\n",
    "d = []\n",
    "for j in c:\n",
    "    d.append(j[0])\n",
    "    \n",
    "a = np.array(DMOut['Relevant'])\n",
    "b = []\n",
    "for i in a:\n",
    "    b.append(int((i[0])-1))\n",
    "    \n",
    "initz0 = np.zeros(D.shape[1])\n",
    "for i in b:\n",
    "    initz0[i] = 1\n",
    "    \n",
    "print(initz0)"
   ]
  },
  {
   "cell_type": "code",
   "execution_count": 13,
   "metadata": {},
   "outputs": [
    {
     "data": {
      "text/plain": [
       "((10000, 81), (81,))"
      ]
     },
     "execution_count": 13,
     "metadata": {},
     "output_type": "execute_result"
    }
   ],
   "source": [
    "D.shape, initz0.shape"
   ]
  },
  {
   "cell_type": "code",
   "execution_count": 14,
   "metadata": {},
   "outputs": [
    {
     "name": "stderr",
     "output_type": "stream",
     "text": [
      "C:\\Users\\USER\\AppData\\Local\\Temp/ipykernel_12148/3512855728.py:147: RuntimeWarning: divide by zero encountered in log\n",
      "  + np.nansum((1-zm)*(np.log(1-p0) - np.log(1-zm))))\n",
      "C:\\Users\\USER\\AppData\\Local\\Temp/ipykernel_12148/3512855728.py:147: RuntimeWarning: invalid value encountered in multiply\n",
      "  + np.nansum((1-zm)*(np.log(1-p0) - np.log(1-zm))))\n"
     ]
    },
    {
     "name": "stdout",
     "output_type": "stream",
     "text": [
      "Iteration = 0  log(Likelihood) = 8132.523757226134\n"
     ]
    },
    {
     "name": "stderr",
     "output_type": "stream",
     "text": [
      "C:\\Users\\USER\\AppData\\Local\\Temp/ipykernel_12148/3512855728.py:174: RuntimeWarning: overflow encountered in exp\n",
      "  expitC = 1./(1 + np.exp(-C))\n",
      "C:\\Users\\USER\\AppData\\Local\\Temp/ipykernel_12148/3512855728.py:146: RuntimeWarning: divide by zero encountered in log\n",
      "  + np.nansum(zm*(np.log(p0) - np.log(zm)))\n",
      "C:\\Users\\USER\\AppData\\Local\\Temp/ipykernel_12148/3512855728.py:146: RuntimeWarning: invalid value encountered in multiply\n",
      "  + np.nansum(zm*(np.log(p0) - np.log(zm)))\n"
     ]
    },
    {
     "name": "stdout",
     "output_type": "stream",
     "text": [
      "Iteration = 1  log(Likelihood) = 8189.107744777155\n",
      "Iteration = 2  log(Likelihood) = 8189.109242724637\n",
      "Iteration = 3  log(Likelihood) = 8189.109242821238\n",
      "{'zmean': array([1.00000000e+00, 4.35228783e-34, 1.86407851e-22, 2.08590066e-34,\n",
      "       1.87572219e-22, 4.52267385e-34, 1.89351995e-22, 3.54356237e-34,\n",
      "       1.91190886e-22, 0.00000000e+00, 1.40364011e-26, 0.00000000e+00,\n",
      "       1.97031373e-25, 1.00000000e+00, 2.57159477e-24, 1.00000000e+00,\n",
      "       3.05353908e-23, 1.29388386e-27, 1.90856511e-22, 5.27069995e-24,\n",
      "       1.91596014e-22, 2.49168875e-24, 1.92086539e-22, 4.98654579e-24,\n",
      "       1.92576719e-22, 1.91300789e-22, 1.92866757e-22, 1.91971730e-22,\n",
      "       1.92869838e-22, 1.91736171e-22, 1.92872672e-22, 1.92216075e-22,\n",
      "       1.92874421e-22, 3.11465128e-24, 1.91277355e-22, 8.96336033e-26,\n",
      "       1.91716366e-22, 1.89265338e-24, 1.92145486e-22, 4.99544559e-24,\n",
      "       1.92534582e-22, 1.91801334e-22, 1.92869763e-22, 1.92146198e-22,\n",
      "       1.92871408e-22, 1.92067636e-22, 1.92873268e-22, 1.92286633e-22,\n",
      "       1.92874582e-22, 6.16301227e-24, 1.91569766e-22, 7.38513310e-24,\n",
      "       1.91947060e-22, 2.12685898e-27, 1.92141413e-22, 3.73729997e-24,\n",
      "       1.92551946e-22, 1.92264169e-22, 1.92872566e-22, 1.92318886e-22,\n",
      "       1.92873271e-22, 1.92295535e-22, 1.92873799e-22, 1.92483150e-22,\n",
      "       1.92874669e-22, 3.45851795e-24, 1.91738393e-22, 7.00553920e-24,\n",
      "       1.92066808e-22, 4.83647175e-24, 1.92379646e-22, 9.36494078e-27,\n",
      "       1.92637904e-22, 1.92584995e-22, 1.92874187e-22, 1.92634284e-22,\n",
      "       1.92874522e-22, 1.92548819e-22, 1.92874660e-22, 1.92675395e-22,\n",
      "       1.92874787e-22]), 'wmean': array([ 9.88237709e-01, -6.90436841e-34,  2.17490271e-23, -9.28168530e-34,\n",
      "        6.09470489e-24,  5.52546988e-34, -1.70708216e-24,  5.20649352e-34,\n",
      "        1.44842740e-24,  0.00000000e+00,  1.51573613e-27,  0.00000000e+00,\n",
      "        2.58381699e-26,  1.00777053e-01,  2.42548151e-25,  1.33904147e-01,\n",
      "        1.31646263e-24, -6.67765609e-28, -1.16254769e-23, -5.52788696e-24,\n",
      "       -9.31875091e-24, -3.87330676e-25, -3.08219962e-24, -1.00762587e-24,\n",
      "        7.59823248e-25,  5.26911922e-24,  8.10431308e-25,  7.72015044e-24,\n",
      "        5.20126918e-25,  8.47021734e-24,  3.02374922e-25,  1.15375547e-23,\n",
      "        7.95993042e-26, -3.19936553e-24, -1.79724331e-23, -2.63235380e-25,\n",
      "       -1.47600070e-23, -5.59574672e-24, -7.80013352e-24, -6.57338790e-24,\n",
      "       -4.11996439e-24, -4.23557716e-25,  5.22105723e-25,  3.14739644e-24,\n",
      "        2.81575270e-25,  1.51493585e-24,  8.52514718e-26,  6.39226192e-24,\n",
      "       -1.25350041e-26, -3.82430897e-24,  9.65506572e-25, -1.85780422e-24,\n",
      "        4.12020873e-24, -8.66915243e-28,  7.81102273e-24, -1.01512955e-24,\n",
      "        3.00831695e-24, -4.22000063e-24,  3.02984757e-25,  1.68793066e-24,\n",
      "        9.22547859e-26, -2.38580086e-24, -3.93810164e-26,  1.74110035e-24,\n",
      "       -6.78483849e-26,  1.61582971e-24,  4.31461058e-24,  6.01657774e-24,\n",
      "        7.42438154e-24, -3.39331213e-24,  6.58569704e-24,  1.07629344e-26,\n",
      "        5.33208328e-24, -1.20140843e-24,  1.56584369e-25,  7.08014052e-25,\n",
      "        5.79675613e-26, -1.65185005e-24, -3.84597457e-26,  1.92406272e-24,\n",
      "       -4.85576147e-26]), 'wCOV': array([[ 1.82958427e-05,  1.40211686e-37, -3.40330557e-27, ...,\n",
      "        -1.95468844e-29,  4.77146886e-28, -9.41239437e-30],\n",
      "       [ 1.40211686e-37,  1.09946233e-01,  1.74887012e-58, ...,\n",
      "         1.58675799e-59, -3.07720513e-60,  1.25070335e-59],\n",
      "       [-3.40330557e-27,  1.74887012e-58,  1.09946233e-01, ...,\n",
      "        -7.65539699e-49, -8.96758596e-48, -4.26362468e-49],\n",
      "       ...,\n",
      "       [-1.95468844e-29,  1.58675799e-59, -7.65539699e-49, ...,\n",
      "         1.09946233e-01, -1.32492987e-49, -8.33525757e-51],\n",
      "       [ 4.77146886e-28, -3.07720513e-60, -8.96758596e-48, ...,\n",
      "        -1.32492987e-49,  1.09946233e-01, -1.34657301e-49],\n",
      "       [-9.41239437e-30,  1.25070335e-59, -4.26362468e-49, ...,\n",
      "        -8.33525757e-51, -1.34657301e-49,  1.09946233e-01]]), 'sig2': 0.010994629367978218, 'modelIdx': array([12, 14]), 'Zmed': array([1., 1.]), 'Wsel': array([0.10077705, 0.13390415]), 'Wcov': array([0.00261713, 0.00308653])}\n"
     ]
    }
   ],
   "source": [
    "tol = 0.0001\n",
    "verbosity = True\n",
    "initz0 = initz0\n",
    "DS = Variational_Bayes_Code(D, xdts, initz0, tol, verbosity)\n",
    "\n",
    "print(DS) "
   ]
  },
  {
   "cell_type": "code",
   "execution_count": 17,
   "metadata": {},
   "outputs": [
    {
     "name": "stdout",
     "output_type": "stream",
     "text": [
      "\n",
      "0.9941014579491846\n"
     ]
    },
    {
     "data": {
      "image/png": "[encoded data removed]",
      "text/plain": [
       "<Figure size 432x288 with 1 Axes>"
      ]
     },
     "metadata": {
      "needs_background": "light"
     },
     "output_type": "display_data"
    }
   ],
   "source": [
    "zmean13 = DS['zmean']\n",
    "wmean13 = DS['wmean']\n",
    "zmean13[np.where(np.diag(DS['wCOV'])>5e-4)] = 0\n",
    "plt.stem(zmean13)\n",
    "wmean13[np.where(np.diag(DS['wCOV'])>5e-4)] = 0\n",
    "print()\n",
    "print(np.sqrt(wmean13[0]))"
   ]
  },
  {
   "cell_type": "markdown",
   "metadata": {},
   "source": [
    "# Diffusion 2"
   ]
  },
  {
   "cell_type": "code",
   "execution_count": 18,
   "metadata": {},
   "outputs": [],
   "source": [
    "xdts = xzs20"
   ]
  },
  {
   "cell_type": "code",
   "execution_count": 19,
   "metadata": {},
   "outputs": [
    {
     "name": "stdout",
     "output_type": "stream",
     "text": [
      "{'Relevant': matlab.double([[1.0],[10.0],[15.0],[16.0],[20.0],[39.0],[50.0],[51.0],[52.0],[57.0],[70.0],[73.0],[81.0]]), 'Value': matlab.double([[0.9863877235342399],[0.1789696288868821],[1.2126479352123791],[0.027799401226600916],[-0.008110598775003393],[13.06618091201545],[0.6080261937592515],[8.55764887631481],[-0.5359061184082317],[-26.94846828259613],[-0.31954538263831705],[27.12007419340602],[946.9765652762065]])}\n"
     ]
    }
   ],
   "source": [
    "#!/usr/bin/env python\n",
    "\"\"\"\n",
    "Sample script that uses the SparseBayes module created using\n",
    "MATLAB Compiler SDK.\n",
    "\n",
    "Refer to the MATLAB Compiler SDK documentation for more information.\n",
    "\"\"\"\n",
    "\n",
    "from __future__ import print_function\n",
    "import SparseBayes\n",
    "import matlab\n",
    "\n",
    "my_SparseBayes = SparseBayes.initialize()\n",
    "\n",
    "DictIn = matlab.double(Dict, size=(D.shape[0], D.shape[1]))\n",
    "targetIn = matlab.double(xdts, size=(D.shape[0], 1))\n",
    "DMOut = my_SparseBayes.SparseBayes(DictIn, targetIn)\n",
    "print(DMOut, sep='\\n')\n",
    "\n",
    "my_SparseBayes.terminate()"
   ]
  },
  {
   "cell_type": "code",
   "execution_count": null,
   "metadata": {},
   "outputs": [],
   "source": [
    "c = np.array(DMOut['Value'])\n",
    "d = []\n",
    "for j in c:\n",
    "    d.append(j[0])\n",
    "    \n",
    "a = np.array(DMOut['Relevant'])\n",
    "b = []\n",
    "for i in a:\n",
    "    b.append(int((i[0])-1))\n",
    "    \n",
    "initz0 = np.zeros(D.shape[1])\n",
    "for i in b:\n",
    "    initz0[i] = 1\n",
    "    \n",
    "print(initz0)"
   ]
  },
  {
   "cell_type": "code",
   "execution_count": 21,
   "metadata": {},
   "outputs": [
    {
     "name": "stderr",
     "output_type": "stream",
     "text": [
      "C:\\Users\\USER\\AppData\\Local\\Temp/ipykernel_12148/3512855728.py:147: RuntimeWarning: divide by zero encountered in log\n",
      "  + np.nansum((1-zm)*(np.log(1-p0) - np.log(1-zm))))\n",
      "C:\\Users\\USER\\AppData\\Local\\Temp/ipykernel_12148/3512855728.py:147: RuntimeWarning: invalid value encountered in multiply\n",
      "  + np.nansum((1-zm)*(np.log(1-p0) - np.log(1-zm))))\n",
      "C:\\Users\\USER\\AppData\\Local\\Temp/ipykernel_12148/3512855728.py:174: RuntimeWarning: overflow encountered in exp\n",
      "  expitC = 1./(1 + np.exp(-C))\n"
     ]
    },
    {
     "name": "stdout",
     "output_type": "stream",
     "text": [
      "Iteration = 0  log(Likelihood) = 8127.5447930044575\n"
     ]
    },
    {
     "name": "stderr",
     "output_type": "stream",
     "text": [
      "C:\\Users\\USER\\AppData\\Local\\Temp/ipykernel_12148/3512855728.py:146: RuntimeWarning: divide by zero encountered in log\n",
      "  + np.nansum(zm*(np.log(p0) - np.log(zm)))\n",
      "C:\\Users\\USER\\AppData\\Local\\Temp/ipykernel_12148/3512855728.py:146: RuntimeWarning: invalid value encountered in multiply\n",
      "  + np.nansum(zm*(np.log(p0) - np.log(zm)))\n"
     ]
    },
    {
     "name": "stdout",
     "output_type": "stream",
     "text": [
      "Iteration = 1  log(Likelihood) = 8186.536195892144\n",
      "Iteration = 2  log(Likelihood) = 8186.537584740578\n",
      "Iteration = 3  log(Likelihood) = 8186.537584830137\n",
      "{'zmean': array([1.00000000e+00, 4.35228545e-34, 1.86407851e-22, 2.08589949e-34,\n",
      "       1.87572219e-22, 4.52267138e-34, 1.89351995e-22, 3.54356042e-34,\n",
      "       1.91190886e-22, 1.00000000e+00, 1.40363983e-26, 0.00000000e+00,\n",
      "       1.97031345e-25, 0.00000000e+00, 2.57159455e-24, 1.00000000e+00,\n",
      "       3.05353897e-23, 1.29388354e-27, 1.90856511e-22, 5.27069956e-24,\n",
      "       1.91596014e-22, 2.49168852e-24, 1.92086539e-22, 4.98654542e-24,\n",
      "       1.92576719e-22, 1.91300789e-22, 1.92866757e-22, 1.91971730e-22,\n",
      "       1.92869838e-22, 1.91736171e-22, 1.92872672e-22, 1.92216075e-22,\n",
      "       1.92874421e-22, 3.11465102e-24, 1.91277355e-22, 8.96335892e-26,\n",
      "       1.91716366e-22, 1.89265320e-24, 1.92145486e-22, 4.99544522e-24,\n",
      "       1.92534582e-22, 1.91801334e-22, 1.92869763e-22, 1.92146198e-22,\n",
      "       1.92871408e-22, 1.92067636e-22, 1.92873268e-22, 1.92286633e-22,\n",
      "       1.92874582e-22, 6.16301184e-24, 1.91569766e-22, 7.38513261e-24,\n",
      "       1.91947060e-22, 2.12685849e-27, 1.92141413e-22, 3.73729967e-24,\n",
      "       1.92551946e-22, 1.92264169e-22, 1.92872566e-22, 1.92318886e-22,\n",
      "       1.92873271e-22, 1.92295535e-22, 1.92873799e-22, 1.92483150e-22,\n",
      "       1.92874669e-22, 3.45851766e-24, 1.91738393e-22, 7.00553872e-24,\n",
      "       1.92066808e-22, 4.83647139e-24, 1.92379646e-22, 9.36493888e-27,\n",
      "       1.92637904e-22, 1.92584995e-22, 1.92874187e-22, 1.92634284e-22,\n",
      "       1.92874522e-22, 1.92548819e-22, 1.92874660e-22, 1.92675395e-22,\n",
      "       1.92874787e-22]), 'wmean': array([ 9.81445819e-01,  1.10869432e-33,  3.50388777e-24,  6.30996155e-34,\n",
      "       -2.43703385e-24, -7.26850560e-34, -2.52930863e-24, -1.36619666e-33,\n",
      "        1.08544912e-23,  1.09374750e-01,  3.75946993e-27,  0.00000000e+00,\n",
      "        4.09375593e-26,  0.00000000e+00,  5.49342959e-25,  1.55121994e-01,\n",
      "        3.32539926e-24,  2.49993808e-27,  1.06953181e-23,  6.80433236e-25,\n",
      "        3.35807464e-24,  3.24414352e-24,  2.97346553e-24,  6.37046143e-24,\n",
      "        3.48842994e-24,  3.90849330e-24, -9.53888554e-26,  3.19975703e-24,\n",
      "       -2.22179213e-25,  6.39758055e-24, -8.20722458e-26,  7.63728402e-25,\n",
      "        7.23265194e-26,  3.39171290e-24,  7.03550955e-24,  5.63110620e-26,\n",
      "        8.68369036e-24,  4.02135639e-25,  1.13755627e-23,  4.75180451e-24,\n",
      "        5.68723532e-24,  2.28515940e-24, -2.38784284e-25,  2.28171195e-24,\n",
      "       -2.00854338e-25,  2.49202888e-24, -1.54202039e-26, -3.22956485e-25,\n",
      "        1.19760804e-25,  7.02750931e-24,  1.45119993e-24, -8.47358909e-24,\n",
      "       -1.38270889e-25, -2.59817076e-27,  8.15562063e-25, -7.46383782e-25,\n",
      "       -4.05508266e-24,  3.92101725e-24, -2.36473596e-25,  1.73180967e-24,\n",
      "       -4.80732682e-26,  2.60742072e-24,  1.26003375e-25, -2.25999369e-26,\n",
      "        2.03277402e-25, -4.37013092e-24, -1.59699767e-25, -6.38940814e-24,\n",
      "        2.72593136e-24, -7.83666118e-24,  4.78194098e-25, -2.89265409e-26,\n",
      "        1.96896187e-24,  9.24978060e-24, -9.11573440e-27,  5.03042353e-24,\n",
      "        1.39332946e-25,  7.66507678e-24,  2.32337318e-25,  4.44142710e-24,\n",
      "        2.77102380e-25]), 'wCOV': array([[ 1.84340356e-05,  2.02676751e-37, -4.56678602e-27, ...,\n",
      "        -1.45750351e-29,  5.83426963e-28, -5.94021236e-30],\n",
      "       [ 2.02676751e-37,  1.10000918e-01, -4.87347518e-58, ...,\n",
      "         1.06235293e-59, -4.41413738e-59,  9.14324943e-60],\n",
      "       [-4.56678602e-27, -4.87347518e-58,  1.10000918e-01, ...,\n",
      "        -8.30009594e-49, -1.01585224e-47, -4.70561865e-49],\n",
      "       ...,\n",
      "       [-1.45750351e-29,  1.06235293e-59, -8.30009594e-49, ...,\n",
      "         1.10000918e-01, -1.46124149e-49, -9.17103911e-51],\n",
      "       [ 5.83426963e-28, -4.41413738e-59, -1.01585224e-47, ...,\n",
      "        -1.46124149e-49,  1.10000918e-01, -1.43510459e-49],\n",
      "       [-5.94021236e-30,  9.14324943e-60, -4.70561865e-49, ...,\n",
      "        -9.17103911e-51, -1.43510459e-49,  1.10000918e-01]]), 'sig2': 0.011000097668982864, 'modelIdx': array([ 8, 14]), 'Zmed': array([1., 1.]), 'Wsel': array([0.10937475, 0.15512199]), 'Wcov': array([0.002207  , 0.00266952])}\n"
     ]
    }
   ],
   "source": [
    "tol = 0.0001\n",
    "verbosity = True\n",
    "initz0 = initz0\n",
    "DS = Variational_Bayes_Code(D, xdts, initz0, tol, verbosity)\n",
    "\n",
    "print(DS) "
   ]
  },
  {
   "cell_type": "code",
   "execution_count": 24,
   "metadata": {},
   "outputs": [
    {
     "name": "stdout",
     "output_type": "stream",
     "text": [
      "\n",
      "0.9906794734779988\n"
     ]
    },
    {
     "data": {
      "image/png": "[encoded data removed]",
      "text/plain": [
       "<Figure size 432x288 with 1 Axes>"
      ]
     },
     "metadata": {
      "needs_background": "light"
     },
     "output_type": "display_data"
    }
   ],
   "source": [
    "zmean12 = DS['zmean']\n",
    "wmean12 = DS['wmean']\n",
    "zmean12[np.where(np.diag(DS['wCOV'])>3e-4)] = 0\n",
    "plt.stem(zmean12)\n",
    "wmean12[np.where(np.diag(DS['wCOV'])>3e-4)] = 0\n",
    "print()\n",
    "print(np.sqrt(wmean12[0]))"
   ]
  },
  {
   "cell_type": "markdown",
   "metadata": {},
   "source": [
    "# Diffusion 1"
   ]
  },
  {
   "cell_type": "code",
   "execution_count": 2,
   "metadata": {},
   "outputs": [],
   "source": [
    "import numpy as np\n",
    "import matplotlib.pyplot as plt\n",
    "\"\"\"\n",
    "A MDOF system excited by random noise\n",
    "----------------------------------------------------------------------\n",
    "\"\"\"\n",
    "\n",
    "def drift_mat(dof,k,c,m):\n",
    "    dim = 2 * dof\n",
    "    A = np.zeros((dim,dim))\n",
    "    \n",
    "    for i in range(dim):\n",
    "        if (i%2 == 0):\n",
    "            A[i][i+1] = 1\n",
    "    \n",
    "        elif(i==1):\n",
    "            A[i][i-1] = -(k+k)/m\n",
    "            A[i][i] = -(c+c)/m\n",
    "            A[i][i+1] = k/m\n",
    "            A[i][i+2] = c/m\n",
    "    \n",
    "        elif(i==dim-1):\n",
    "            A[i][i] = -c/m\n",
    "            A[i][i-1] = -k/m\n",
    "            A[i][i-2] = c/m\n",
    "            A[i][i-3] = k/m\n",
    "            \n",
    "        else:\n",
    "            A[i][i-3] = k/m \n",
    "            A[i][i-2] = c/m\n",
    "            A[i][i-1] = -(k+k)/m\n",
    "            A[i][i] = -(c+c)/m\n",
    "            A[i][i+1] = k/m\n",
    "            A[i][i+2] = c/m\n",
    "    return A\n",
    "\n",
    "def M_DOF_sys(x_initial, dof, T):\n",
    "    # parameters of M_DOF_sys in Equation\n",
    "    m = 1\n",
    "    c = 2\n",
    "    k = 3000\n",
    "    sigma = 1\n",
    "    \n",
    "    # solution by euler maruyama\n",
    "    # -------------------------------------------------------\n",
    "    dt = 0.0001\n",
    "    t = np.arange(0, T+dt, dt)\n",
    "    Nsamp = 200 # no. of samples in the run\n",
    "\n",
    "    y35 = []\n",
    "    y36 = []\n",
    "    y37 = []\n",
    "    y38 = []\n",
    "    y39 = []\n",
    "    y40 = []\n",
    "    y41 = []\n",
    "    y42 = []\n",
    "    \n",
    "    xz19 = []\n",
    "    xz20 = []\n",
    "    \n",
    "    xzs19 = []\n",
    "    xzs20 = []\n",
    "    \n",
    "    # Simulation Starts Here :\n",
    "    # -------------------------------------------------------\n",
    "    for ensemble in range(Nsamp):\n",
    "        x0 = x_initial\n",
    "        x = x0                              # initial condition.\n",
    "        for n in range(len(t)-1):\n",
    "            dW = np.sqrt(dt)*np.random.randn(2*dof)\n",
    "            \n",
    "            '''LINEAR PART DRIFT'''\n",
    "        \n",
    "            A = drift_mat(dof,k,c,m)\n",
    "            \n",
    "            '''DIFFUSION TERM  = b'''\n",
    "            diffu_arr = np.zeros(2*dof)\n",
    "            for i in range(2*dof):\n",
    "                if (i%2 != 0):\n",
    "                    diffu_arr[i] = sigma/m\n",
    "            \n",
    "            soln_arr = x0 + np.matmul(A,x0)*dt + diffu_arr*dW        \n",
    "            x0 = soln_arr\n",
    "            x = np.column_stack((x, x0))\n",
    "                         \n",
    "        y37.append(x[-37,:])         # \n",
    "        y38.append(x[-38,:])\n",
    "        y39.append(x[-39,:])         #\n",
    "        y40.append(x[-40,:])\n",
    "        y41.append(x[-41,:])         #\n",
    "        y42.append(x[-42,:])\n",
    "\n",
    "        \n",
    "        zint19 = x[-41, 0:-1]        # Velocity\n",
    "        xfinal19 = x[-41, 1:] \n",
    "        xmz19 = (xfinal19 - zint19)\n",
    "        \n",
    "\n",
    "        xz19.append(xmz19)\n",
    "        \n",
    "        xmzsq19 = np.multiply(xmz19, xmz19)\n",
    "        xzs19.append(xmzsq19)\n",
    "\n",
    "    xz19 = pow(dt,-1)*np.mean(np.array(xz19), axis = 0)\n",
    "\n",
    "    xzs19 = pow(dt,-1)*np.mean(np.array(xzs19), axis = 0)\n",
    "\n",
    "    y37 = np.array(y37)\n",
    "    y38 = np.array(y38)\n",
    "    y39 = np.array(y39)\n",
    "    y40 = np.array(y40)\n",
    "    y41 = np.array(y41)\n",
    "    y42 = np.array(y42)\n",
    "\n",
    "    time = t[0:-1]\n",
    "    return xz19, xzs19, y37, y38, y39, y40, y41, y42, time"
   ]
  },
  {
   "cell_type": "code",
   "execution_count": 4,
   "metadata": {},
   "outputs": [
    {
     "name": "stdout",
     "output_type": "stream",
     "text": [
      "\n"
     ]
    },
    {
     "data": {
      "text/plain": [
       "14.78854931195577"
      ]
     },
     "execution_count": 4,
     "metadata": {},
     "output_type": "execute_result"
    }
   ],
   "source": [
    "import time\n",
    "start = time.time()\n",
    "xz19, xzs19, y37, y38, y39, y40, y41, y42, time_ = M_DOF_sys(x_initial, dof, T)\n",
    "end = time.time()\n",
    "print()\n",
    "TIMES = (end - start)/60\n",
    "TIMES"
   ]
  },
  {
   "cell_type": "code",
   "execution_count": 5,
   "metadata": {},
   "outputs": [
    {
     "name": "stdout",
     "output_type": "stream",
     "text": [
      "\n"
     ]
    },
    {
     "data": {
      "text/plain": [
       "3.0152697443962095"
      ]
     },
     "execution_count": 5,
     "metadata": {},
     "output_type": "execute_result"
    }
   ],
   "source": [
    "startD = time.time()\n",
    "# Expected Dictionary Creation:\n",
    "libr = []\n",
    "for j in range(len(y37)):\n",
    "    data = np.row_stack((y37[j,0:-1], y38[j,0:-1], y39[j,0:-1], y40[j,0:-1], y41[j,0:-1], y42[j,0:-1]))\n",
    "    Dtemp, nl = library(data, 1, 0)\n",
    "    libr.append(Dtemp)\n",
    "libr = np.array(libr)\n",
    "Dictionary= np.mean(libr, axis = 0)\n",
    "print()\n",
    "endD = time.time()\n",
    "TIMED = (endD - startD)/60\n",
    "TIMED"
   ]
  },
  {
   "cell_type": "code",
   "execution_count": 11,
   "metadata": {},
   "outputs": [],
   "source": [
    "xdts = xzs19\n",
    "D = Dictionary"
   ]
  },
  {
   "cell_type": "code",
   "execution_count": 13,
   "metadata": {},
   "outputs": [
    {
     "data": {
      "text/plain": [
       "(490000,)"
      ]
     },
     "execution_count": 13,
     "metadata": {},
     "output_type": "execute_result"
    }
   ],
   "source": [
    "Dict = D.reshape(-1,order='F')\n",
    "Dict.shape"
   ]
  },
  {
   "cell_type": "code",
   "execution_count": 14,
   "metadata": {
    "scrolled": true
   },
   "outputs": [
    {
     "name": "stdout",
     "output_type": "stream",
     "text": [
      "{'Relevant': matlab.double([[1.0],[13.0],[16.0],[17.0],[18.0],[25.0],[31.0]]), 'Value': matlab.double([[0.9911631499197776],[11.7442354204679],[0.14516210033526056],[-11.893665126435351],[0.4469881333734123],[76.16620332698977],[-2.8032948609811044]])}\n"
     ]
    }
   ],
   "source": [
    "#!/usr/bin/env python\n",
    "\"\"\"\n",
    "Sample script that uses the SparseBayes module created using\n",
    "MATLAB Compiler SDK.\n",
    "\n",
    "Refer to the MATLAB Compiler SDK documentation for more information.\n",
    "\"\"\"\n",
    "\n",
    "from __future__ import print_function\n",
    "import SparseBayes\n",
    "import matlab\n",
    "\n",
    "my_SparseBayes = SparseBayes.initialize()\n",
    "\n",
    "DictIn = matlab.double(Dict, size=(D.shape[0], D.shape[1]))\n",
    "targetIn = matlab.double(xdts, size=(D.shape[0], 1))\n",
    "DMOut = my_SparseBayes.SparseBayes(DictIn, targetIn)\n",
    "print(DMOut, sep='\\n')\n",
    "\n",
    "my_SparseBayes.terminate()"
   ]
  },
  {
   "cell_type": "code",
   "execution_count": null,
   "metadata": {},
   "outputs": [],
   "source": [
    "c = np.array(DMOut['Value'])\n",
    "d = []\n",
    "for j in c:\n",
    "    d.append(j[0])\n",
    "    \n",
    "a = np.array(DMOut['Relevant'])\n",
    "b = []\n",
    "for i in a:\n",
    "    b.append(int((i[0])-1))\n",
    "    \n",
    "initz0 = np.zeros(D.shape[1])\n",
    "for i in b:\n",
    "    initz0[i] = 1\n",
    "    \n",
    "print(initz0)"
   ]
  },
  {
   "cell_type": "code",
   "execution_count": 18,
   "metadata": {},
   "outputs": [
    {
     "name": "stderr",
     "output_type": "stream",
     "text": [
      "C:\\Users\\USER\\AppData\\Local\\Temp/ipykernel_11628/3512855728.py:147: RuntimeWarning: divide by zero encountered in log\n",
      "  + np.nansum((1-zm)*(np.log(1-p0) - np.log(1-zm))))\n",
      "C:\\Users\\USER\\AppData\\Local\\Temp/ipykernel_11628/3512855728.py:147: RuntimeWarning: invalid value encountered in multiply\n",
      "  + np.nansum((1-zm)*(np.log(1-p0) - np.log(1-zm))))\n",
      "C:\\Users\\USER\\AppData\\Local\\Temp/ipykernel_11628/3512855728.py:174: RuntimeWarning: overflow encountered in exp\n",
      "  expitC = 1./(1 + np.exp(-C))\n",
      "C:\\Users\\USER\\AppData\\Local\\Temp/ipykernel_11628/3512855728.py:146: RuntimeWarning: divide by zero encountered in log\n",
      "  + np.nansum(zm*(np.log(p0) - np.log(zm)))\n",
      "C:\\Users\\USER\\AppData\\Local\\Temp/ipykernel_11628/3512855728.py:146: RuntimeWarning: invalid value encountered in multiply\n",
      "  + np.nansum(zm*(np.log(p0) - np.log(zm)))\n"
     ]
    },
    {
     "name": "stdout",
     "output_type": "stream",
     "text": [
      "Iteration = 0  log(Likelihood) = 7850.343734833558\n",
      "Iteration = 1  log(Likelihood) = 7888.016536002489\n",
      "Iteration = 2  log(Likelihood) = 7888.016839724968\n",
      "Iteration = 3  log(Likelihood) = 7888.016839732196\n",
      "{'zmean': array([1.00000000e+00, 3.95387590e-44, 1.82093701e-22, 5.48792084e-39,\n",
      "       1.85149437e-22, 2.38369789e-37, 1.89342882e-22, 0.00000000e+00,\n",
      "       2.02039391e-25, 0.00000000e+00, 2.49208860e-24, 0.00000000e+00,\n",
      "       1.00000000e+00, 1.77997657e-31, 1.91224714e-22, 8.86836115e-26,\n",
      "       1.91951257e-22, 5.95137872e-25, 1.92475919e-22, 1.91459044e-22,\n",
      "       1.92869403e-22, 1.91447838e-22, 1.92871603e-22, 1.91548478e-22,\n",
      "       1.92873822e-22, 7.95810441e-26, 1.91252542e-22, 1.97233980e-29,\n",
      "       1.91810485e-22, 7.63526431e-25, 1.92434831e-22, 1.91907799e-22,\n",
      "       1.92871562e-22, 1.91844427e-22, 1.92872081e-22, 1.91944053e-22,\n",
      "       1.92873945e-22, 1.80276049e-24, 1.91326251e-22, 9.76498913e-25,\n",
      "       1.91926883e-22, 2.19890277e-27, 1.92502724e-22, 1.92445848e-22,\n",
      "       1.92873716e-22, 1.92464004e-22, 1.92873900e-22, 1.92492405e-22,\n",
      "       1.92874408e-22]), 'wmean': array([ 1.04114749e+00,  2.62984487e-43, -1.42043028e-23,  1.78272632e-38,\n",
      "       -1.29017651e-23, -1.63773237e-37, -1.00807952e-24,  0.00000000e+00,\n",
      "        1.32217369e-24,  0.00000000e+00,  1.23658515e-23,  0.00000000e+00,\n",
      "        2.95369313e+00,  1.03930170e-30,  2.93555503e-24,  2.79183687e-25,\n",
      "       -9.56059963e-25,  1.30898613e-24,  1.50511272e-24,  2.40692198e-24,\n",
      "       -4.77147508e-25,  2.96100431e-24, -2.80834866e-25,  2.27024827e-24,\n",
      "       -7.52444309e-27,  1.53369005e-25, -6.21288101e-24,  1.99653981e-29,\n",
      "       -4.59956163e-24,  1.11775366e-24,  2.88320946e-25,  4.48442264e-24,\n",
      "       -3.25951535e-25,  1.52619145e-24, -2.74924613e-25,  2.75185944e-25,\n",
      "       -1.17794988e-25,  1.14406733e-25, -9.72876951e-24, -1.08847925e-24,\n",
      "       -1.15339506e-23, -9.99595005e-29, -2.35289797e-24,  4.90864827e-24,\n",
      "       -2.16086789e-26,  2.14983386e-24, -1.13899684e-25,  1.35787903e-24,\n",
      "       -4.39128620e-26]), 'wCOV': array([[ 4.06824222e-06, -5.08599054e-49, -1.97260232e-27, ...,\n",
      "         1.30525379e-29,  4.11484449e-28,  8.09279707e-30],\n",
      "       [-5.08599054e-49,  1.18057154e-01, -1.22579077e-68, ...,\n",
      "         3.21448337e-69,  1.04283641e-67,  3.33348257e-69],\n",
      "       [-1.97260232e-27, -1.22579077e-68,  1.18057154e-01, ...,\n",
      "        -3.21160241e-48, -5.92255728e-47, -2.18342090e-48],\n",
      "       ...,\n",
      "       [ 1.30525379e-29,  3.21448337e-69, -3.21160241e-48, ...,\n",
      "         1.18057154e-01, -7.28445317e-49, -3.49822409e-50],\n",
      "       [ 4.11484449e-28,  1.04283641e-67, -5.92255728e-47, ...,\n",
      "        -7.28445317e-49,  1.18057154e-01, -5.33005329e-49],\n",
      "       [ 8.09279707e-30,  3.33348257e-69, -2.18342090e-48, ...,\n",
      "        -3.49822409e-50, -5.33005329e-49,  1.18057154e-01]]), 'sig2': 0.011805716753187822, 'modelIdx': array([11]), 'Zmed': array([1.]), 'Wsel': array([2.95369313]), 'Wcov': array([0.08827015])}\n"
     ]
    }
   ],
   "source": [
    "tol = 0.0001\n",
    "verbosity = True\n",
    "initz0 = initz0\n",
    "DS = Variational_Bayes_Code(D, xdts, initz0, tol, verbosity)\n",
    "\n",
    "print(DS) "
   ]
  },
  {
   "cell_type": "code",
   "execution_count": 20,
   "metadata": {
    "scrolled": true
   },
   "outputs": [
    {
     "name": "stdout",
     "output_type": "stream",
     "text": [
      "\n",
      "1.0203663496547075\n"
     ]
    },
    {
     "data": {
      "image/png": "[encoded data removed]",
      "text/plain": [
       "<Figure size 432x288 with 1 Axes>"
      ]
     },
     "metadata": {
      "needs_background": "light"
     },
     "output_type": "display_data"
    }
   ],
   "source": [
    "zmean1 = DS['zmean']\n",
    "wmean1 = DS['wmean']\n",
    "zmean1[np.where(np.diag(DS['wCOV'])>2e-5)] = 0\n",
    "plt.stem(zmean1)\n",
    "wmean1[np.where(np.diag(DS['wCOV'])>2e-5)] = 0\n",
    "print()\n",
    "print(np.sqrt(wmean1[0]))"
   ]
  },
  {
   "cell_type": "code",
   "execution_count": null,
   "metadata": {},
   "outputs": [],
   "source": []
  }
 ],
 "metadata": {
  "kernelspec": {
   "display_name": "Python 3 (ipykernel)",
   "language": "python",
   "name": "python3"
  },
  "language_info": {
   "codemirror_mode": {
    "name": "ipython",
    "version": 3
   },
   "file_extension": ".py",
   "mimetype": "text/x-python",
   "name": "python",
   "nbconvert_exporter": "python",
   "pygments_lexer": "ipython3",
   "version": "3.9.13"
  },
  "toc": {
   "base_numbering": 1,
   "nav_menu": {},
   "number_sections": true,
   "sideBar": true,
   "skip_h1_title": false,
   "title_cell": "Table of Contents",
   "title_sidebar": "Contents",
   "toc_cell": false,
   "toc_position": {},
   "toc_section_display": true,
   "toc_window_display": false
  },
  "varInspector": {
   "cols": {
    "lenName": 16,
    "lenType": 16,
    "lenVar": 40
   },
   "kernels_config": {
    "python": {
     "delete_cmd_postfix": "",
     "delete_cmd_prefix": "del ",
     "library": "var_list.py",
     "varRefreshCmd": "print(var_dic_list())"
    },
    "r": {
     "delete_cmd_postfix": ") ",
     "delete_cmd_prefix": "rm(",
     "library": "var_list.r",
     "varRefreshCmd": "cat(var_dic_list()) "
    }
   },
   "types_to_exclude": [
    "module",
    "function",
    "builtin_function_or_method",
    "instance",
    "_Feature"
   ],
   "window_display": false
  },
  "vscode": {
   "interpreter": {
    "hash": "263930470851f494f0ed2879c35b57985588df20f9e529b86e97dd5eb9ddc466"
   }
  }
 },
 "nbformat": 4,
 "nbformat_minor": 4
}
