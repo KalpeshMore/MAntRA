{
 "cells": [
  {
   "cell_type": "code",
   "execution_count": null,
   "metadata": {},
   "outputs": [],
   "source": [
    "\"\"\"\n",
    "This code belongs to the paper:\n",
    "-- YC Mathpati, KS More, T Tripura, R Nayek, S Chakraborty (2023)\n",
    "   MAntRA: A framework for model agnostic reliability analysis\n",
    "   \n",
    "-- This code is for 21 Storey building.\n",
    "\"\"\""
   ]
  },
  {
   "cell_type": "markdown",
   "metadata": {},
   "source": [
    "# Drift 21 Equation discovery"
   ]
  },
  {
   "cell_type": "code",
   "execution_count": 1,
   "metadata": {},
   "outputs": [],
   "source": [
    "import numpy as np\n",
    "import matplotlib.pyplot as plt\n",
    "from scipy import linalg as LA\n",
    "from sklearn.metrics import mean_squared_error as MSE\n",
    "\n",
    "\"\"\"\n",
    "The Dictionary creation part:\n",
    "~~~~~~~~~~~~~~~~~~~~~~~~~~~~~~~~~~~~~~~~~~~~~~~~~~~~~~~~~~~~\n",
    "\"\"\"\n",
    "def library(xt, polyn, harmonic):\n",
    "    if polyn == 0:\n",
    "        polyn = 1\n",
    "    \n",
    "    # The polynomial is (x1 + x2)^p, with p is the order\n",
    "    # poly order 0\n",
    "    ind = 0\n",
    "    n = len(xt[0])\n",
    "    D = np.ones([n,1])\n",
    "    \n",
    "    if polyn >= 1:\n",
    "        # poly order 1\n",
    "        for i in range(len(xt)):\n",
    "            ind = ind+1\n",
    "            new = np.vstack(xt[i,:])\n",
    "            D = np.append(D, new, axis=1)\n",
    "     \n",
    "    if polyn >= 2: \n",
    "        # ploy order 2\n",
    "        for i in range(len(xt)):\n",
    "            for j in  range(i,len(xt)):\n",
    "                ind = ind+1\n",
    "                new = np.multiply(xt[i,:], xt[j,:])\n",
    "                new = np.vstack(new)\n",
    "                D = np.append(D, new, axis=1) \n",
    "    \n",
    "    if polyn >= 3:    \n",
    "        # ploy order 3\n",
    "        for i in range(len(xt)):\n",
    "            for j in  range(i,len(xt)):\n",
    "                for k in  range(j,len(xt)):\n",
    "                    ind = ind+1\n",
    "                    new = np.multiply(np.multiply(xt[i,:], xt[j,:]), xt[k,:])\n",
    "                    new = np.vstack(new)\n",
    "                    D = np.append(D, new, axis=1) \n",
    "    \n",
    "    if polyn >= 4:\n",
    "        # ploy order 4\n",
    "        for i in range(len(xt)):\n",
    "            for j in  range(i,len(xt)):\n",
    "                for k in  range(j,len(xt)):\n",
    "                    for l in range(k,len(xt)):\n",
    "                        ind = ind+1\n",
    "                        new = np.multiply(np.multiply(xt[i,:], xt[j,:]), xt[k,:])\n",
    "                        new = np.multiply(new, xt[l,:])\n",
    "                        new = np.vstack(new)\n",
    "                        D = np.append(D, new, axis=1) \n",
    "    \n",
    "    if polyn >= 5:\n",
    "        # ploy order 5\n",
    "        for i in range(len(xt)):\n",
    "            for j in  range(i,len(xt)):\n",
    "                for k in  range(j,len(xt)):\n",
    "                    for l in  range(k,len(xt)):\n",
    "                        for m in  range(l,len(xt)):\n",
    "                            ind = ind+1\n",
    "                            new = np.multiply(xt[i,:], xt[j,:])\n",
    "                            new = np.multiply(new, xt[k,:])\n",
    "                            new = np.multiply(new, xt[l,:])\n",
    "                            new = np.multiply(new, xt[m,:])\n",
    "                            new = np.vstack(new)\n",
    "                            D = np.append(D, new, axis=1) \n",
    "    \n",
    "    if polyn >= 6:\n",
    "        # ploy order 6\n",
    "        for i in range(len(xt)):\n",
    "            for j in  range(i,len(xt)):\n",
    "                for k in  range(j,len(xt)):\n",
    "                    for l in  range(k,len(xt)):\n",
    "                        for m in  range(l,len(xt)):\n",
    "                            for n in  range(m,len(xt)):\n",
    "                                ind = ind+1\n",
    "                                new = np.multiply(xt[i,:], xt[j,:])\n",
    "                                new = np.multiply(new, xt[k,:])\n",
    "                                new = np.multiply(new, xt[l,:])\n",
    "                                new = np.multiply(new, xt[m,:])\n",
    "                                new = np.multiply(new, xt[n,:])\n",
    "                                new = np.vstack(new)\n",
    "                                D = np.append(D, new, axis=1) \n",
    "    \n",
    "#     # for the signum or sign operator\n",
    "#     for i in range(len(xt)):\n",
    "#         ind = ind+1\n",
    "#         new = np.vstack(np.sign(xt[i,:]))+0.0001\n",
    "#         D = np.append(D, new, axis=1)\n",
    "    \n",
    "    # for the modulus operator\n",
    "    for i in range(len(xt)):\n",
    "        ind = ind+1\n",
    "        new = np.vstack(abs(xt[i,:]))\n",
    "        D = np.append(D, new, axis=1)\n",
    "      \n",
    "    # for the tensor operator\n",
    "    for i in range(len(xt)):\n",
    "        for j in  range(len(xt)):\n",
    "            ind = ind+1\n",
    "            new = np.multiply(xt[i,:],abs(xt[j,:]))\n",
    "            new = np.vstack(new)\n",
    "            D = np.append(D, new, axis=1)\n",
    "            \n",
    "    if harmonic == 1:\n",
    "        for i in range(len(xt)):\n",
    "            ind = ind+1\n",
    "            new = np.vstack(np.sin(xt[i,:]))\n",
    "            D = np.append(D, new, axis=1)\n",
    "\n",
    "        for i in range(len(xt)):\n",
    "            ind = ind+1\n",
    "            new = np.vstack(np.cos(xt[i,:]))\n",
    "            D = np.append(D, new, axis=1)\n",
    "            \n",
    "    ind = len(D[0])\n",
    "    \n",
    "    return D, ind"
   ]
  },
  {
   "cell_type": "code",
   "execution_count": 2,
   "metadata": {},
   "outputs": [],
   "source": [
    "import numpy as np\n",
    "import matplotlib.pyplot as plt\n",
    "\"\"\"\n",
    "A MDOF system excited by random noise\n",
    "----------------------------------------------------------------------\n",
    "\"\"\"\n",
    "\n",
    "def drift_mat(dof,k,c,m):\n",
    "    dim = 2 * dof\n",
    "    A = np.zeros((dim,dim))\n",
    "    \n",
    "    for i in range(dim):\n",
    "        if (i%2 == 0):\n",
    "            A[i][i+1] = 1\n",
    "    \n",
    "        elif(i==1):\n",
    "            A[i][i-1] = -(k+k)/m\n",
    "            A[i][i] = -(c+c)/m\n",
    "            A[i][i+1] = k/m\n",
    "            A[i][i+2] = c/m\n",
    "    \n",
    "        elif(i==dim-1):\n",
    "            A[i][i] = -c/m\n",
    "            A[i][i-1] = -k/m\n",
    "            A[i][i-2] = c/m\n",
    "            A[i][i-3] = k/m\n",
    "            \n",
    "        else:\n",
    "            A[i][i-3] = k/m \n",
    "            A[i][i-2] = c/m\n",
    "            A[i][i-1] = -(k+k)/m\n",
    "            A[i][i] = -(c+c)/m\n",
    "            A[i][i+1] = k/m\n",
    "            A[i][i+2] = c/m\n",
    "    return A\n",
    "\n",
    "def M_DOF_sys(x_initial, dof, T):\n",
    "    # parameters of M_DOF_sys in Equation\n",
    "    m = 1\n",
    "    c = 2\n",
    "    k = 3000\n",
    "    mu = 1\n",
    "    g = 9.81\n",
    "    sigma = 1\n",
    "    \n",
    "    # solution by euler maruyama\n",
    "    # -------------------------------------------------------\n",
    "    dt = 0.001\n",
    "    t = np.arange(0, T+dt, dt)\n",
    "    Nsamp = 100 # no. of samples in the run\n",
    "    \n",
    "    y1 = []\n",
    "    y2 = []\n",
    "    y3 = []\n",
    "    y4 = []\n",
    "    y5 = []\n",
    "    y6 = []\n",
    "    y7 = []\n",
    "    y8 = []\n",
    "    xz1 = []\n",
    "    xz2 = []\n",
    "    xz3 = []\n",
    "    xzs11 = []\n",
    "    xzs22 = []\n",
    "    xzs33 = []\n",
    "    \n",
    "    # Simulation Starts Here ::\n",
    "    # -------------------------------------------------------\n",
    "    for ensemble in range(Nsamp):\n",
    "        x0 = x_initial\n",
    "        x = x0                              # initial condition.\n",
    "        for n in range(len(t)-1):\n",
    "            dW = np.sqrt(dt)*np.random.randn(2*dof)\n",
    "            \n",
    "            '''LINEAR PART DRIFT'''\n",
    "        \n",
    "            A = drift_mat(dof,k,c,m)\n",
    "            \n",
    "            '''DIFFUSION TERM  = b'''\n",
    "            diffu_arr = np.zeros(2*dof)\n",
    "            for i in range(2*dof):\n",
    "                if (i%2 != 0):\n",
    "                    diffu_arr[i] = sigma/m\n",
    "            \n",
    "            soln_arr = x0 + np.matmul(A,x0)*dt + diffu_arr*dW        \n",
    "            x0 = soln_arr\n",
    "            x = np.column_stack((x, x0))\n",
    "            \n",
    "  \n",
    "        y1.append(x[-1,:])     # Displacement\n",
    "        y2.append(x[-2,:])      \n",
    "        y3.append(x[-3,:])     # Displacement\n",
    "        y4.append(x[-4,:])\n",
    "        y5.append(x[-5,:])\n",
    "        y6.append(x[-6,:])\n",
    "        y7.append(x[-7,:])\n",
    "        y8.append(x[-8,:])\n",
    "        \n",
    "\n",
    "        zint1 = x[-1,0:-1]\n",
    "        xfinal1 = x[-1,1:] \n",
    "        xmz1 = (xfinal1 - zint1)\n",
    "        \n",
    "        zint2 = x[-3, 0:-1]\n",
    "        xfinal2 = x[-3, 1:] \n",
    "        xmz2 = (xfinal2 - zint2) \n",
    "        \n",
    "        zint3 = x[-5, 0:-1]\n",
    "        xfinal3 = x[-5, 1:] \n",
    "        xmz3 = (xfinal3 - zint3) \n",
    "        \n",
    "        xz1.append(xmz1)\n",
    "        xz2.append(xmz2)\n",
    "        xz3.append(xmz3)\n",
    "        \n",
    "        xmzsq11 = np.multiply(xmz1, xmz1)\n",
    "        xzs11.append(xmzsq11)\n",
    "        \n",
    "        xmzsq22 = np.multiply(xmz2, xmz2)\n",
    "        xzs22.append(xmzsq22)\n",
    "        \n",
    "        xmzsq33 = np.multiply(xmz3, xmz3)\n",
    "        xzs33.append(xmzsq33)\n",
    "        \n",
    "    xz1 = pow(dt,-1)*np.mean(np.array(xz1), axis = 0)\n",
    "    xz2 = pow(dt,-1)*np.mean(np.array(xz2), axis = 0)\n",
    "    xz3 = pow(dt,-1)*np.mean(np.array(xz3), axis = 0)\n",
    "\n",
    "    xzs11 = pow(dt,-1)*np.mean(np.array(xzs11), axis = 0)\n",
    "    xzs22 = pow(dt,-1)*np.mean(np.array(xzs22), axis = 0)\n",
    "    xzs33 = pow(dt,-1)*np.mean(np.array(xzs33), axis = 0) \n",
    "\n",
    "    y1 = np.array(y1)\n",
    "    y2 = np.array(y2)\n",
    "    y3 = np.array(y3)\n",
    "    y4 = np.array(y4)\n",
    "    y5 = np.array(y5)\n",
    "    y6 = np.array(y6)\n",
    "    y7 = np.array(y7)\n",
    "    y8 = np.array(y8)\n",
    "\n",
    "    time = t[0:-1]\n",
    "    return xz1, xz2, xz3, xzs11, xzs22, xzs33, y1, y2, y3, y4, y5, y6, y7, y8, time"
   ]
  },
  {
   "cell_type": "code",
   "execution_count": 3,
   "metadata": {},
   "outputs": [],
   "source": [
    "T = 1\n",
    "dof = 21\n",
    "x_initial = np.zeros(2*dof)\n",
    "x_initial[0]=0.5\n",
    "x_initial[2]=0.48\n",
    "x_initial[4]=0.45999999999999996\n",
    "x_initial[6]=0.43999999999999995\n",
    "x_initial[8]=0.41999999999999993\n",
    "x_initial[10]=0.3999999999999999\n",
    "x_initial[12]=0.3799999999999999\n",
    "x_initial[14]=0.3599999999999999\n",
    "x_initial[16]=0.33999999999999986\n",
    "x_initial[18]=0.31999999999999984\n",
    "x_initial[20]=0.2999999999999998\n",
    "x_initial[22]=0.2799999999999998\n",
    "x_initial[24]=0.2599999999999998\n",
    "x_initial[26]=0.2399999999999998\n",
    "x_initial[28]=0.2199999999999998\n",
    "x_initial[30]=0.19999999999999982\n",
    "x_initial[32]=0.17999999999999983\n",
    "x_initial[34]=0.15999999999999984\n",
    "x_initial[36]=0.13999999999999985\n",
    "x_initial[38]=0.11999999999999984\n",
    "x_initial[40]=0.0999999999999998"
   ]
  },
  {
   "cell_type": "code",
   "execution_count": 5,
   "metadata": {},
   "outputs": [],
   "source": [
    "xdrift21, xdrift20, xdrift19, xdiff21, xdiff20, xdiff19, y42, y41, y40, y39, y38, y37, y36, y35, t_eval = M_DOF_sys(x_initial, dof, T)"
   ]
  },
  {
   "cell_type": "code",
   "execution_count": 7,
   "metadata": {},
   "outputs": [],
   "source": [
    "# Expected Dictionary Creation:\n",
    "libr = []\n",
    "for j in range(len(y42)):\n",
    "    data = np.row_stack((y42[j,0:-1], y41[j,0:-1], y40[j,0:-1], y39[j,0:-1], y38[j,0:-1], y37[j,0:-1], y36[j,0:-1], y35[j,0:-1]))\n",
    "    Dtemp, nl = library(data, 1, 0)\n",
    "    libr.append(Dtemp)\n",
    "libr = np.array(libr)\n",
    "Dictionary= np.mean(libr, axis = 0)\n",
    "# xdts = xdrift1"
   ]
  },
  {
   "cell_type": "code",
   "execution_count": 8,
   "metadata": {},
   "outputs": [],
   "source": [
    "xdts = xdrift21\n",
    "D = Dictionary"
   ]
  },
  {
   "cell_type": "code",
   "execution_count": 10,
   "metadata": {},
   "outputs": [
    {
     "data": {
      "text/plain": [
       "(81000,)"
      ]
     },
     "execution_count": 10,
     "metadata": {},
     "output_type": "execute_result"
    }
   ],
   "source": [
    "Dict = D.reshape(-1,order='F')\n",
    "Dict.shape"
   ]
  },
  {
   "cell_type": "code",
   "execution_count": 11,
   "metadata": {},
   "outputs": [
    {
     "name": "stdout",
     "output_type": "stream",
     "text": [
      "{'Relevant': matlab.double([[2.0],[3.0],[4.0],[5.0],[38.0],[39.0],[40.0],[70.0],[74.0]]), 'Value': matlab.double([[-2.006861900352611],[-3000.9351334302573],[1.955435869293901],[3001.6425152696575],[-0.0005316165550079704],[-0.06847279658601516],[0.007292289693904847],[0.003027369591636891],[-0.07048864628087845]])}\n"
     ]
    }
   ],
   "source": [
    "#!/usr/bin/env python\n",
    "\"\"\"\n",
    "Sample script that uses the SparseBayes module created using\n",
    "MATLAB Compiler SDK.\n",
    "\n",
    "Refer to the MATLAB Compiler SDK documentation for more information.\n",
    "\"\"\"\n",
    "\n",
    "from __future__ import print_function\n",
    "import SparseBayes\n",
    "import matlab\n",
    "\n",
    "my_SparseBayes = SparseBayes.initialize()\n",
    "\n",
    "DictIn = matlab.double(Dict, size=(D.shape[0], D.shape[1]))\n",
    "targetIn = matlab.double(xdts, size=(D.shape[0], 1))\n",
    "DMOut = my_SparseBayes.SparseBayes(DictIn, targetIn)\n",
    "print(DMOut, sep='\\n')\n",
    "\n",
    "my_SparseBayes.terminate()"
   ]
  },
  {
   "cell_type": "code",
   "execution_count": null,
   "metadata": {},
   "outputs": [],
   "source": [
    "c = np.array(DMOut['Value'])\n",
    "d = []\n",
    "for j in c:\n",
    "    d.append(j[0])\n",
    "    \n",
    "a = np.array(DMOut['Relevant'])\n",
    "b = []\n",
    "for i in a:\n",
    "    b.append(int((i[0])-1))\n",
    "    \n",
    "initz0 = np.zeros(D.shape[1])\n",
    "for i in b:\n",
    "    initz0[i] = 1"
   ]
  },
  {
   "cell_type": "code",
   "execution_count": 13,
   "metadata": {},
   "outputs": [],
   "source": [
    "import warnings\n",
    "import math\n",
    "import numpy as np\n",
    "import scipy as sp\n",
    "import sympy as smp\n",
    "from scipy import stats\n",
    "from numpy import linalg as la\n",
    "import matplotlib.pyplot as plt\n",
    "from numpy.random import gamma\n",
    "from scipy.special import loggamma\n",
    "\n",
    "def Variational_Bayes_Code(X, y, initz0, tol, verbosity):\n",
    "\n",
    "    if (len(X) == 0 or len(y) == 0):\n",
    "        raise Exception('X and or y is missing')\n",
    "        \n",
    "    if (len(X) != len(y)):\n",
    "        raise Exception('Number of observations do not match')\n",
    "        \n",
    "    X = stats.zscore(X, ddof = 1)         \n",
    "    X = np.c_[np.ones(len(X)),X]          \n",
    "    y = y - np.mean(y)\n",
    "    N = len(X)\n",
    "    # Prior parameters of noise variance (Inverse Gamma dist)\n",
    "    A = 1e-4\n",
    "    B = 1e-4\n",
    "    vs = 10\n",
    "    tau0 = 1000\n",
    "    \n",
    "    if (len(initz0) == 0):\n",
    "        raise Exception('No initial value of z found')\n",
    "    else:\n",
    "        p0 = expit(-0.5*(np.sqrt(N)))       \n",
    "        \n",
    "        # Adding the intercept indicator variable (slightly less than 1 to prevent log(0) values) \n",
    "        initz = np.hstack((1,initz0))   \n",
    "\n",
    "        DS,LLcvg  = run_VB2(X, y, vs, A, B, tau0, p0, initz, tol, verbosity)    \n",
    "        # This is function which will come first\n",
    "        \n",
    "    out_vb   = DS\n",
    "    a = DS['zmean'] > 0.5\n",
    "    count = 0\n",
    "    modelIdx = []\n",
    "    for i in a:\n",
    "        if i == True:\n",
    "            modelIdx.append(count)\n",
    "        count += 1\n",
    "            \n",
    "    modelIdx = np.setdiff1d(modelIdx,0)\n",
    "    out_vb['modelIdx'] = modelIdx-1\n",
    "    out_vb['Zmed'] = DS['zmean'][modelIdx]\n",
    "    out_vb['Wsel'] = DS['wmean'][modelIdx]\n",
    "    out_vb['Wcov'] = DS['wCOV'][modelIdx, modelIdx]\n",
    "    out_vb['sig2'] = DS['sig2']\n",
    "    \n",
    "    return out_vb\n",
    "\n",
    "DS = {}\n",
    "def run_VB2(Xc, yc, vs, A, B, tau0, p0, initz, tol, verbosity):\n",
    "    \"\"\"This function is the implementation of VB from John T. Ormerod paper (2014)\n",
    "       This implementation uses slab scaling by noise variance\n",
    "       vs    : treated as a constant\n",
    "       A,B   : constants of the IG prior over noise variance\n",
    "       tau0  : Expected value of (sigma^{-2})\n",
    "       p0    : inclusion probablility\n",
    "       initz : Initial value of z\n",
    "       Xc    : Centered and standardized dictionary except the first column\n",
    "       yc    : Centered observations \"\"\"\n",
    "    \n",
    "    Lambda    = logit(p0)\n",
    "    iter_     = 0\n",
    "    max_iter  = 100\n",
    "    LL        = np.zeros(max_iter)        \n",
    "    zm        = np.reshape(initz,(-1))            \n",
    "    taum      = tau0                      \n",
    "    invVs     = 1/vs\n",
    "    \n",
    "    X = Xc\n",
    "    y = yc\n",
    "    XtX = (X.T) @ X\n",
    "    XtX = 0.5*(XtX + (XtX).T)\n",
    "    Xty = (X.T) @ y                 \n",
    "    yty = (y.T) @ y\n",
    "\n",
    "    eyep = np.eye(len(XtX))\n",
    "    [N,p] = X.shape\n",
    "    allidx = np.arange(p)\n",
    "    zm[0] = 1                                                                   # Always include the intercept \n",
    "    Abar    = (A + 0.5*N + 0.5*p)\n",
    "    converged = 0\n",
    "    \n",
    "    while (converged==0):\n",
    "        if (iter_==100):\n",
    "            break\n",
    "        \n",
    "        Zm       = np.diag(zm)\n",
    "        Omg      = (np.reshape(zm,(-1,1)) @ np.reshape(zm,(1,-1))) + (Zm @ (eyep-Zm))\n",
    "        # Update the mean and covariance of the coefficients given mean of z\n",
    "        term1    = XtX * Omg                                                       # elementwisw multiplication\n",
    "        invSigma = taum * (term1 + invVs * eyep)\n",
    "        invSigma = 0.5*(invSigma + invSigma.T)                                     # symmetric\n",
    "        Sigma    = la.inv(invSigma) @ eyep\n",
    "        mu       = taum * (Sigma @ Zm @ Xty)                                       # @ ---> matrix multiplication\n",
    "        \n",
    "        # Update tau related to sigma\n",
    "        term2    = 2 * Xty @ Zm @ mu\n",
    "        term3    =  np.reshape(mu,(len(initz0)+1,1)) @ np.reshape(mu,(1,len(initz0)+1))+ Sigma\n",
    "        term4    = yty - term2 + np.trace((term1 + invVs * eyep) @ term3)    \n",
    "        s        = B + 0.5*term4\n",
    "        \n",
    "        if s<0:\n",
    "            warnings.warn('s turned out be less than 0. Taking absolute value')\n",
    "            s = B + 0.5*abs(term4)\n",
    "        \n",
    "        taum     = Abar / s\n",
    "        zstr   = zm\n",
    "\n",
    "        order   = np.setdiff1d(np.random.permutation(p), 0, assume_unique=True)\n",
    "        for j in order: \n",
    "            muj     = mu[j]                            \n",
    "            sigmaj  = Sigma[j,j]\n",
    "            \n",
    "            remidx  = np.setdiff1d(allidx,j)\n",
    "            mu_j    = mu[remidx]\n",
    "            Sigma_jj= Sigma[remidx,j]\n",
    "            etaj    = (Lambda - 0.5 * taum * ((muj**2 + sigmaj) * XtX[j,j]) \n",
    "                       + taum * np.reshape(X[:,j],(1,-1)) @ (np.reshape(y,(-1,1))*muj \n",
    "                        -X[:,remidx] @ np.diag(zstr[remidx]) @ ((mu_j * muj + Sigma_jj).reshape(-1,1))))\n",
    "            zstr[j] = expit(etaj)\n",
    "            \n",
    "        zm = zstr\n",
    "        \n",
    "        # Calculate marginal log-likelihood\n",
    "        \n",
    "        LL[iter_] = ( 0.5*p \n",
    "                    - 0.5*N*np.log(2*np.pi) \n",
    "                    + 0.5*p*np.log(invVs) \n",
    "                    + A*np.log(B)\n",
    "                    - loggamma(A)\n",
    "                    + loggamma(Abar) \n",
    "                    - Abar*np.log(s)\n",
    "                    + 0.5*np.log(la.det(Sigma))\n",
    "                    + np.nansum(zm*(np.log(p0) - np.log(zm))) \n",
    "                    + np.nansum((1-zm)*(np.log(1-p0) - np.log(1-zm))))\n",
    "        \n",
    "        if(verbosity):\n",
    "            print(f'Iteration = {iter_}  log(Likelihood) = {LL[iter_]}')\n",
    "        \n",
    "        if(iter_>1):\n",
    "            cvg = LL[iter_] - LL[iter_-1]\n",
    "            \n",
    "            if (cvg < 0 and verbosity):\n",
    "                print('OOPS!  log(like) decreasing!!')\n",
    "            elif (cvg<tol or iter_> max_iter):\n",
    "                converged = 1\n",
    "                LL = LL[0:iter_]\n",
    "                \n",
    "        iter_    = iter_ + 1\n",
    "    DS['zmean'] = zm\n",
    "    DS['wmean'] = mu\n",
    "    DS['wCOV'] = Sigma\n",
    "    DS['sig2'] = 1/taum\n",
    "    LLcvg    = LL[-1]\n",
    "    return DS, LLcvg\n",
    "    \n",
    "def logit(C):\n",
    "    logitC = np.log(C) - np.log(1-C)\n",
    "    return logitC\n",
    "\n",
    "def expit(C):\n",
    "    expitC = 1./(1 + np.exp(-C))\n",
    "    return expitC\n",
    "\n"
   ]
  },
  {
   "cell_type": "code",
   "execution_count": null,
   "metadata": {},
   "outputs": [],
   "source": [
    "D_std = np.std(D[:,1:],axis = 0)\n",
    "D_std1 = D_std.reshape(1,-1)\n",
    "D1 = D*np.diag(1/D_std1)\n",
    "\n",
    "X = D1[:,1:]\n",
    "y = xdts\n",
    "initz0 = initz0[1:]\n",
    "tol = 0.0001\n",
    "verbosity = True\n",
    "DS = Variational_Bayes_Code(X, y, initz0, tol, verbosity)"
   ]
  },
  {
   "cell_type": "code",
   "execution_count": 17,
   "metadata": {
    "scrolled": true
   },
   "outputs": [
    {
     "name": "stdout",
     "output_type": "stream",
     "text": [
      "-2.008719918607018\n",
      "-3000.0396043907836\n",
      "1.979772702759871\n",
      "3000.5174409579395\n"
     ]
    },
    {
     "data": {
      "image/png": "[encoded data removed]",
      "text/plain": [
       "<Figure size 432x288 with 1 Axes>"
      ]
     },
     "metadata": {
      "needs_background": "light"
     },
     "output_type": "display_data"
    }
   ],
   "source": [
    "plt.stem(DS['zmean'])   \n",
    "\n",
    "for i in DS[\"modelIdx\"]:\n",
    "    print((((DS[\"wmean\"][1:]) / (D_std))).reshape(-1)[i])"
   ]
  },
  {
   "cell_type": "markdown",
   "metadata": {},
   "source": [
    "# Drift 20 "
   ]
  },
  {
   "cell_type": "code",
   "execution_count": 22,
   "metadata": {},
   "outputs": [],
   "source": [
    "xdts = xdrift20"
   ]
  },
  {
   "cell_type": "code",
   "execution_count": 23,
   "metadata": {},
   "outputs": [
    {
     "name": "stdout",
     "output_type": "stream",
     "text": [
      "{'Relevant': matlab.double([[2.0],[3.0],[4.0],[5.0],[6.0],[7.0],[16.0],[18.0],[30.0],[38.0],[55.0],[59.0]]), 'Value': matlab.double([[1.9245637717452329],[3000.8756255134244],[-3.968401382928298],[-6000.382786531986],[2.0240253854757784],[3004.9160091095187],[0.05128842184176563],[0.005675534209267444],[0.11469637695506867],[-0.005034910611998336],[-0.03264839476929258],[-17.452703961090222]])}\n"
     ]
    }
   ],
   "source": [
    "#!/usr/bin/env python\n",
    "\"\"\"\n",
    "Sample script that uses the SparseBayes module created using\n",
    "MATLAB Compiler SDK.\n",
    "\n",
    "Refer to the MATLAB Compiler SDK documentation for more information.\n",
    "\"\"\"\n",
    "\n",
    "from __future__ import print_function\n",
    "import SparseBayes\n",
    "import matlab\n",
    "\n",
    "my_SparseBayes = SparseBayes.initialize()\n",
    "\n",
    "DictIn = matlab.double(Dict, size=(D.shape[0], D.shape[1]))\n",
    "targetIn = matlab.double(xdts, size=(D.shape[0], 1))\n",
    "DMOut = my_SparseBayes.SparseBayes(DictIn, targetIn)\n",
    "print(DMOut, sep='\\n')\n",
    "\n",
    "my_SparseBayes.terminate()"
   ]
  },
  {
   "cell_type": "code",
   "execution_count": null,
   "metadata": {},
   "outputs": [],
   "source": [
    "c = np.array(DMOut['Value'])\n",
    "d = []\n",
    "for j in c:\n",
    "    d.append(j[0])\n",
    "    \n",
    "a = np.array(DMOut['Relevant'])\n",
    "b = []\n",
    "for i in a:\n",
    "    b.append(int((i[0])-1))\n",
    "    \n",
    "initz0 = np.zeros(D.shape[1])\n",
    "for i in b:\n",
    "    initz0[i] = 1\n",
    "    \n",
    "print(initz0)"
   ]
  },
  {
   "cell_type": "code",
   "execution_count": null,
   "metadata": {},
   "outputs": [],
   "source": [
    "X = D1[:,1:]\n",
    "y = xdts\n",
    "initz0 = initz0[1:]\n",
    "tol = 0.0001\n",
    "verbosity = True\n",
    "DS = Variational_Bayes_Code(X, y, initz0, tol, verbosity)"
   ]
  },
  {
   "cell_type": "code",
   "execution_count": 27,
   "metadata": {},
   "outputs": [
    {
     "name": "stdout",
     "output_type": "stream",
     "text": [
      "2.0175432365137485\n",
      "2998.2919462168093\n",
      "-4.0000162401891055\n",
      "-5997.282817187615\n",
      "1.990635272720442\n",
      "2998.9711918436124\n"
     ]
    },
    {
     "data": {
      "image/png": "[encoded data removed]",
      "text/plain": [
       "<Figure size 432x288 with 1 Axes>"
      ]
     },
     "metadata": {
      "needs_background": "light"
     },
     "output_type": "display_data"
    }
   ],
   "source": [
    "plt.stem(DS['zmean'])   \n",
    "\n",
    "for i in DS[\"modelIdx\"]:\n",
    "    print((((DS[\"wmean\"][1:]) / (D_std))).reshape(-1)[i])"
   ]
  },
  {
   "cell_type": "markdown",
   "metadata": {},
   "source": [
    "# Drift 19"
   ]
  },
  {
   "cell_type": "code",
   "execution_count": 2,
   "metadata": {},
   "outputs": [],
   "source": [
    "import numpy as np\n",
    "import matplotlib.pyplot as plt\n",
    "\"\"\"\n",
    "A MDOF system excited by random noise\n",
    "----------------------------------------------------------------------\n",
    "\"\"\"\n",
    "\n",
    "def drift_mat(dof,k,c,m):\n",
    "    dim = 2 * dof\n",
    "    A = np.zeros((dim,dim))\n",
    "    \n",
    "    for i in range(dim):\n",
    "        if (i%2 == 0):\n",
    "            A[i][i+1] = 1\n",
    "    \n",
    "        elif(i==1):\n",
    "            A[i][i-1] = -(k+k)/m\n",
    "            A[i][i] = -(c+c)/m\n",
    "            A[i][i+1] = k/m\n",
    "            A[i][i+2] = c/m\n",
    "    \n",
    "        elif(i==dim-1):\n",
    "            A[i][i] = -c/m\n",
    "            A[i][i-1] = -k/m\n",
    "            A[i][i-2] = c/m\n",
    "            A[i][i-3] = k/m\n",
    "            \n",
    "        else:\n",
    "            A[i][i-3] = k/m \n",
    "            A[i][i-2] = c/m\n",
    "            A[i][i-1] = -(k+k)/m\n",
    "            A[i][i] = -(c+c)/m\n",
    "            A[i][i+1] = k/m\n",
    "            A[i][i+2] = c/m\n",
    "    return A\n",
    "\n",
    "def M_DOF_sys(x_initial, dof, T):\n",
    "    # parameters of M_DOF_sys in Equation\n",
    "    m = 1\n",
    "    c = 2\n",
    "    k = 3000\n",
    "    mu = 1\n",
    "    g = 9.81\n",
    "    sigma = 1\n",
    "    \n",
    "    # solution by euler maruyama\n",
    "    # -------------------------------------------------------\n",
    "    dt = 0.001\n",
    "    t = np.arange(0, T+dt, dt)\n",
    "    Nsamp = 100 # no. of samples in the run\n",
    "    \n",
    "    y3 = []\n",
    "    y4 = []\n",
    "    y5 = []\n",
    "    y6 = []\n",
    "    y7 = []\n",
    "    y8 = []\n",
    "    y9 = []\n",
    "    y10 = []\n",
    "    \n",
    "    xz2 = []\n",
    "    xz3 = []\n",
    "    xz4 = []\n",
    "    xz5 = []\n",
    "    \n",
    "    xzs22 = []\n",
    "    xzs33 = []\n",
    "    xzs44 = []\n",
    "    xzs55 = []\n",
    "    \n",
    "    # Simulation Starts Here ::\n",
    "    # -------------------------------------------------------\n",
    "    for ensemble in range(Nsamp):\n",
    "        x0 = x_initial\n",
    "        x = x0                              # initial condition.\n",
    "        for n in range(len(t)-1):\n",
    "            dW = np.sqrt(dt)*np.random.randn(2*dof)\n",
    "            \n",
    "            '''LINEAR PART DRIFT'''\n",
    "        \n",
    "            A = drift_mat(dof,k,c,m)\n",
    "            \n",
    "            '''DIFFUSION TERM  = b'''\n",
    "            diffu_arr = np.zeros(2*dof)\n",
    "            for i in range(2*dof):\n",
    "                if (i%2 != 0):\n",
    "                    diffu_arr[i] = sigma/m\n",
    "            \n",
    "            soln_arr = x0 + np.matmul(A,x0)*dt + diffu_arr*dW        \n",
    "            x0 = soln_arr\n",
    "            x = np.column_stack((x, x0))\n",
    "            \n",
    "\n",
    "        y3.append(x[-3,:])\n",
    "        y4.append(x[-4,:])\n",
    "        y5.append(x[-5,:])     # Displacement\n",
    "        y6.append(x[-6,:])\n",
    "        y7.append(x[-7,:])     # Displacement\n",
    "        y8.append(x[-8,:])\n",
    "        y9.append(x[-9,:])\n",
    "        y10.append(x[-10,:])\n",
    "        \n",
    "        zint2 = x[-3, 0:-1]\n",
    "        xfinal2 = x[-3, 1:] \n",
    "        xmz2 = (xfinal2 - zint2) \n",
    "        \n",
    "        zint3 = x[-5, 0:-1]\n",
    "        xfinal3 = x[-5, 1:] \n",
    "        xmz3 = (xfinal3 - zint3) \n",
    "                  \n",
    "        zint4 = x[-7, 0:-1]\n",
    "        xfinal4 = x[-7, 1:] \n",
    "        xmz4 = (xfinal4 - zint4)\n",
    "        \n",
    "        zint5 = x[-9, 0:-1]\n",
    "        xfinal5 = x[-9, 1:] \n",
    "        xmz5 = (xfinal5 - zint5)\n",
    "        \n",
    "        xz2.append(xmz2)\n",
    "        xz3.append(xmz3)\n",
    "        xz4.append(xmz4)\n",
    "        xz5.append(xmz5)\n",
    "        \n",
    "        xmzsq22 = np.multiply(xmz2, xmz2)\n",
    "        xzs22.append(xmzsq22)\n",
    "        \n",
    "        xmzsq33 = np.multiply(xmz3, xmz3)\n",
    "        xzs33.append(xmzsq33)\n",
    "        \n",
    "        xmzsq44 = np.multiply(xmz4, xmz4)\n",
    "        xzs44.append(xmzsq44)\n",
    "        \n",
    "        xmzsq55 = np.multiply(xmz5, xmz5)\n",
    "        xzs55.append(xmzsq55)\n",
    "        \n",
    "    \n",
    "    xz2 = pow(dt,-1)*np.mean(np.array(xz2), axis = 0)\n",
    "    xz3 = pow(dt,-1)*np.mean(np.array(xz3), axis = 0)\n",
    "    xz4 = pow(dt,-1)*np.mean(np.array(xz4), axis = 0)\n",
    "    xz5 = pow(dt,-1)*np.mean(np.array(xz5), axis = 0)\n",
    "\n",
    "    xzs22 = pow(dt,-1)*np.mean(np.array(xzs22), axis = 0)\n",
    "    xzs33 = pow(dt,-1)*np.mean(np.array(xzs33), axis = 0) \n",
    "    xzs44 = pow(dt,-1)*np.mean(np.array(xzs44), axis = 0)\n",
    "    xzs55 = pow(dt,-1)*np.mean(np.array(xzs55), axis = 0)\n",
    "\n",
    "    y3 = np.array(y3)\n",
    "    y4 = np.array(y4)\n",
    "    y5 = np.array(y5)\n",
    "    y6 = np.array(y6)\n",
    "    y7 = np.array(y7)\n",
    "    y8 = np.array(y8)\n",
    "    y9 = np.array(y9)\n",
    "    y10 = np.array(y10)\n",
    "\n",
    "    time = t[0:-1]\n",
    "    return xz2, xz3, xz4, xz5, xzs22, xzs33, xzs44, xzs55, y3, y4, y5, y6, y7, y8, y9, y10, time"
   ]
  },
  {
   "cell_type": "code",
   "execution_count": 6,
   "metadata": {},
   "outputs": [],
   "source": [
    "xz2, xz3, xz4, xz5, xzs22, xzs33, xzs44, xzs55, y3, y4, y5, y6, y7, y8, y9, y10, time = M_DOF_sys(x_initial, dof, T)"
   ]
  },
  {
   "cell_type": "code",
   "execution_count": 7,
   "metadata": {},
   "outputs": [],
   "source": [
    "# Expected Dictionary Creation:\n",
    "libr = []\n",
    "for j in range(len(y3)):\n",
    "    data = np.row_stack((y3[j,0:-1], y4[j,0:-1], y5[j,0:-1], y6[j,0:-1], y7[j,0:-1], y8[j,0:-1], y9[j,0:-1], y10[j,0:-1]))\n",
    "    Dtemp, nl = library(data, 3, 0)\n",
    "    libr.append(Dtemp)\n",
    "libr = np.array(libr)\n",
    "Dictionary= np.mean(libr, axis = 0)"
   ]
  },
  {
   "cell_type": "code",
   "execution_count": 35,
   "metadata": {},
   "outputs": [],
   "source": [
    "xdts = xz3\n",
    "D = Dictionary"
   ]
  },
  {
   "cell_type": "code",
   "execution_count": null,
   "metadata": {},
   "outputs": [],
   "source": [
    "Dict = D.reshape(-1,order='F')\n",
    "Dict.shape"
   ]
  },
  {
   "cell_type": "code",
   "execution_count": 38,
   "metadata": {
    "scrolled": true
   },
   "outputs": [
    {
     "name": "stdout",
     "output_type": "stream",
     "text": [
      "{'Relevant': matlab.double([[2.0],[3.0],[4.0],[5.0],[6.0],[7.0],[18.0],[46.0],[50.0],[80.0],[85.0],[162.0],[191.0]]), 'Value': matlab.double([[1.971640776094826],[2999.918685044836],[-3.9860009321559873],[-6000.1639484509815],[2.021796951431441],[3000.132724500025],[0.3133885190078531],[6.858077895456735e-05],[-0.000334095019638349],[0.0037787034343005153],[0.08142730778621575],[-7.995527864155697e-05],[-0.059731277141923986]])}\n"
     ]
    }
   ],
   "source": [
    "#!/usr/bin/env python\n",
    "\"\"\"\n",
    "Sample script that uses the SparseBayes module created using\n",
    "MATLAB Compiler SDK.\n",
    "\n",
    "Refer to the MATLAB Compiler SDK documentation for more information.\n",
    "\"\"\"\n",
    "\n",
    "from __future__ import print_function\n",
    "import SparseBayes\n",
    "import matlab\n",
    "\n",
    "my_SparseBayes = SparseBayes.initialize()\n",
    "\n",
    "DictIn = matlab.double(Dict, size=(D.shape[0], D.shape[1]))\n",
    "targetIn = matlab.double(xdts, size=(D.shape[0], 1))\n",
    "DMOut = my_SparseBayes.SparseBayes(DictIn, targetIn)\n",
    "print(DMOut, sep='\\n')\n",
    "\n",
    "my_SparseBayes.terminate()"
   ]
  },
  {
   "cell_type": "code",
   "execution_count": null,
   "metadata": {},
   "outputs": [],
   "source": [
    "c = np.array(DMOut['Value'])\n",
    "d = []\n",
    "for j in c:\n",
    "    d.append(j[0])\n",
    "    \n",
    "a = np.array(DMOut['Relevant'])\n",
    "b = []\n",
    "for i in a:\n",
    "    b.append(int((i[0])-1))\n",
    "    \n",
    "initz0 = np.zeros(D.shape[1])\n",
    "for i in b:\n",
    "    initz0[i] = 1\n",
    "    \n",
    "print(initz0)"
   ]
  },
  {
   "cell_type": "code",
   "execution_count": null,
   "metadata": {},
   "outputs": [],
   "source": [
    "D_std = np.std(D[:,1:],axis = 0)\n",
    "D_std1 = D_std.reshape(1,-1)\n",
    "D1 = D*np.diag(1/D_std1)\n",
    "\n",
    "X = D1[:,1:]\n",
    "y = xdts\n",
    "initz0 = initz0[1:]\n",
    "tol = 0.0001\n",
    "verbosity = True\n",
    "DS = Variational_Bayes_Code(X, y, initz0, tol, verbosity)\n",
    "print(DS)"
   ]
  },
  {
   "cell_type": "code",
   "execution_count": 43,
   "metadata": {
    "scrolled": true
   },
   "outputs": [
    {
     "name": "stdout",
     "output_type": "stream",
     "text": [
      "1.996019659650603\n",
      "2998.1820045623476\n",
      "-3.987879225886737\n",
      "-5995.060773070505\n",
      "1.9985362835677112\n",
      "2996.4584540504925\n"
     ]
    },
    {
     "data": {
      "image/png": "[encoded data removed]",
      "text/plain": [
       "<Figure size 432x288 with 1 Axes>"
      ]
     },
     "metadata": {
      "needs_background": "light"
     },
     "output_type": "display_data"
    }
   ],
   "source": [
    "plt.stem(DS['zmean'])   \n",
    "\n",
    "for i in DS[\"modelIdx\"]:\n",
    "    print((((DS[\"wmean\"][1:]) / (D_std))).reshape(-1)[i])"
   ]
  },
  {
   "cell_type": "markdown",
   "metadata": {},
   "source": [
    "# Drift 18"
   ]
  },
  {
   "cell_type": "code",
   "execution_count": 19,
   "metadata": {},
   "outputs": [],
   "source": [
    "xdts = xz4"
   ]
  },
  {
   "cell_type": "code",
   "execution_count": 20,
   "metadata": {},
   "outputs": [
    {
     "name": "stdout",
     "output_type": "stream",
     "text": [
      "{'Relevant': matlab.double([[4.0],[5.0],[6.0],[7.0],[8.0],[9.0],[38.0],[43.0],[81.0],[114.0],[201.0],[205.0],[206.0],[212.0]]), 'Value': matlab.double([[2.014572147002297],[3000.554776174483],[-4.04529809559544],[-6000.372530724579],[2.034690306655402],[2999.8113049545354],[0.0002979398066879867],[-0.0008651734151512249],[-0.17074489356412223],[-8.567293421038287e-05],[1.8170870093626432],[-3.1776992804284796],[0.005053087582169389],[-0.0024869715050231276]])}\n"
     ]
    }
   ],
   "source": [
    "#!/usr/bin/env python\n",
    "\"\"\"\n",
    "Sample script that uses the SparseBayes module created using\n",
    "MATLAB Compiler SDK.\n",
    "\n",
    "Refer to the MATLAB Compiler SDK documentation for more information.\n",
    "\"\"\"\n",
    "\n",
    "from __future__ import print_function\n",
    "import SparseBayes\n",
    "import matlab\n",
    "\n",
    "my_SparseBayes = SparseBayes.initialize()\n",
    "\n",
    "DictIn = matlab.double(Dict, size=(D.shape[0], D.shape[1]))\n",
    "targetIn = matlab.double(xdts, size=(D.shape[0], 1))\n",
    "DMOut = my_SparseBayes.SparseBayes(DictIn, targetIn)\n",
    "print(DMOut, sep='\\n')\n",
    "\n",
    "my_SparseBayes.terminate()"
   ]
  },
  {
   "cell_type": "code",
   "execution_count": null,
   "metadata": {},
   "outputs": [],
   "source": [
    "c = np.array(DMOut['Value'])\n",
    "d = []\n",
    "for j in c:\n",
    "    d.append(j[0])\n",
    "    \n",
    "a = np.array(DMOut['Relevant'])\n",
    "b = []\n",
    "for i in a:\n",
    "    b.append(int((i[0])-1))\n",
    "    \n",
    "initz0 = np.zeros(D.shape[1])\n",
    "for i in b:\n",
    "    initz0[i] = 1\n",
    "    \n",
    "print(initz0)"
   ]
  },
  {
   "cell_type": "code",
   "execution_count": null,
   "metadata": {},
   "outputs": [],
   "source": [
    "X = D1[:,1:]\n",
    "y = xdts\n",
    "initz0 = initz0[1:]\n",
    "tol = 0.0001\n",
    "verbosity = True\n",
    "DS = Variational_Bayes_Code(X, y, initz0, tol, verbosity)\n",
    "print(DS)"
   ]
  },
  {
   "cell_type": "code",
   "execution_count": 23,
   "metadata": {},
   "outputs": [
    {
     "name": "stdout",
     "output_type": "stream",
     "text": [
      "1.9923740734765514\n",
      "2996.245771840961\n",
      "-4.003049477280969\n",
      "-5992.0037657290295\n",
      "2.0103310724543872\n",
      "2995.17468795253\n"
     ]
    },
    {
     "data": {
      "image/png": "[encoded data removed]",
      "text/plain": [
       "<Figure size 432x288 with 1 Axes>"
      ]
     },
     "metadata": {
      "needs_background": "light"
     },
     "output_type": "display_data"
    }
   ],
   "source": [
    "plt.stem(DS['zmean'])   \n",
    "\n",
    "for i in DS[\"modelIdx\"]:\n",
    "    print((((DS[\"wmean\"][1:]) / (D_std))).reshape(-1)[i])"
   ]
  },
  {
   "cell_type": "markdown",
   "metadata": {},
   "source": [
    "# Drift 17"
   ]
  },
  {
   "cell_type": "code",
   "execution_count": 2,
   "metadata": {},
   "outputs": [],
   "source": [
    "import numpy as np\n",
    "import matplotlib.pyplot as plt\n",
    "\"\"\"\n",
    "A MDOF system excited by random noise\n",
    "----------------------------------------------------------------------\n",
    "\"\"\"\n",
    "\n",
    "def drift_mat(dof,k,c,m):\n",
    "    dim = 2 * dof\n",
    "    A = np.zeros((dim,dim))\n",
    "    \n",
    "    for i in range(dim):\n",
    "        if (i%2 == 0):\n",
    "            A[i][i+1] = 1\n",
    "    \n",
    "        elif(i==1):\n",
    "            A[i][i-1] = -(k+k)/m\n",
    "            A[i][i] = -(c+c)/m\n",
    "            A[i][i+1] = k/m\n",
    "            A[i][i+2] = c/m\n",
    "    \n",
    "        elif(i==dim-1):\n",
    "            A[i][i] = -c/m\n",
    "            A[i][i-1] = -k/m\n",
    "            A[i][i-2] = c/m\n",
    "            A[i][i-3] = k/m\n",
    "            \n",
    "        else:\n",
    "            A[i][i-3] = k/m \n",
    "            A[i][i-2] = c/m\n",
    "            A[i][i-1] = -(k+k)/m\n",
    "            A[i][i] = -(c+c)/m\n",
    "            A[i][i+1] = k/m\n",
    "            A[i][i+2] = c/m\n",
    "    return A\n",
    "\n",
    "def M_DOF_sys(x_initial, dof, T):\n",
    "    # parameters of M_DOF_sys in Equation\n",
    "    m = 1\n",
    "    c = 2\n",
    "    k = 3000\n",
    "    mu = 1\n",
    "    g = 9.81\n",
    "    sigma = 1\n",
    "    \n",
    "    # solution by euler maruyama\n",
    "    # -------------------------------------------------------\n",
    "    dt = 0.001\n",
    "    t = np.arange(0, T+dt, dt)\n",
    "    Nsamp = 100 # no. of samples in the run\n",
    "    \n",
    "    y7 = [] \n",
    "    y8 = []\n",
    "    y9 = []\n",
    "    y10 = []\n",
    "    y11 = []\n",
    "    y12 = []\n",
    "    y13 = []\n",
    "    y14 = []\n",
    "    \n",
    "    xz5 = []\n",
    "    xz6 = []\n",
    "    \n",
    "    xzs55 = []\n",
    "    xzs66 = []\n",
    "    \n",
    "    # Simulation Starts Here ::\n",
    "    # -------------------------------------------------------\n",
    "    for ensemble in range(Nsamp):\n",
    "        x0 = x_initial\n",
    "        x = x0                              # initial condition.\n",
    "        for n in range(len(t)-1):\n",
    "            dW = np.sqrt(dt)*np.random.randn(2*dof)\n",
    "            \n",
    "            '''LINEAR PART DRIFT'''\n",
    "        \n",
    "            A = drift_mat(dof,k,c,m)\n",
    "            \n",
    "            \n",
    "            '''DIFFUSION TERM  = b'''\n",
    "            diffu_arr = np.zeros(2*dof)\n",
    "            for i in range(2*dof):\n",
    "                if (i%2 != 0):\n",
    "                    diffu_arr[i] = sigma/m\n",
    "            \n",
    "            soln_arr = x0 + np.matmul(A,x0)*dt + diffu_arr*dW        \n",
    "            x0 = soln_arr\n",
    "            x = np.column_stack((x, x0))\n",
    "            \n",
    "        y7.append(x[-7,:])\n",
    "        y8.append(x[-8,:])\n",
    "        y9.append(x[-9,:])         # Displacement\n",
    "        y10.append(x[-10,:])\n",
    "        y11.append(x[-11,:])       # Displacement\n",
    "        y12.append(x[-12,:])\n",
    "        y13.append(x[-13,:])\n",
    "        y14.append(x[-14,:])\n",
    "        \n",
    "        zint5 = x[-9, 0:-1]        # Velocity\n",
    "        xfinal5 = x[-9, 1:] \n",
    "        xmz5 = (xfinal5 - zint5)\n",
    "        \n",
    "        zint6 = x[-11, 0:-1]       # Velocity\n",
    "        xfinal6 = x[-11, 1:] \n",
    "        xmz6 = (xfinal6 - zint6) \n",
    "\n",
    "        xz5.append(xmz5)\n",
    "        xz6.append(xmz6)\n",
    "        \n",
    "        xmzsq55 = np.multiply(xmz5, xmz5)\n",
    "        xzs55.append(xmzsq55)\n",
    "        \n",
    "        xmzsq66 = np.multiply(xmz6, xmz6)\n",
    "        xzs66.append(xmzsq66)\n",
    "        \n",
    "    xz5 = pow(dt,-1)*np.mean(np.array(xz5), axis = 0)\n",
    "    xz6 = pow(dt,-1)*np.mean(np.array(xz6), axis = 0)\n",
    "\n",
    "    xzs55 = pow(dt,-1)*np.mean(np.array(xzs55), axis = 0)\n",
    "    xzs66 = pow(dt,-1)*np.mean(np.array(xzs66), axis = 0)\n",
    "    \n",
    "    y7 = np.array(y7)\n",
    "    y8 = np.array(y8)\n",
    "    y9 = np.array(y9)\n",
    "    y10 = np.array(y10)\n",
    "    y11 = np.array(y11)\n",
    "    y12 = np.array(y12)\n",
    "    y13 = np.array(y13)\n",
    "    y14 = np.array(y14)\n",
    "\n",
    "    time = t[0:-1]\n",
    "    return xz5, xz6, xzs55, xzs66, y7, y8, y9, y10, y11, y12, y13, y14, time"
   ]
  },
  {
   "cell_type": "code",
   "execution_count": 4,
   "metadata": {},
   "outputs": [],
   "source": [
    "xz5, xz6, xzs55, xzs66, y7, y8, y9, y10, y11, y12, y13, y14, time = M_DOF_sys(x_initial, dof, T)"
   ]
  },
  {
   "cell_type": "code",
   "execution_count": 5,
   "metadata": {},
   "outputs": [],
   "source": [
    "# Expected Dictionary Creation:\n",
    "libr = []\n",
    "for j in range(len(y7)):\n",
    "    data = np.row_stack((y7[j,0:-1], y8[j,0:-1], y9[j,0:-1], y10[j,0:-1], y11[j,0:-1], y12[j,0:-1], y13[j,0:-1], y14[j,0:-1]))\n",
    "    Dtemp, nl = library(data, 1, 0)\n",
    "    libr.append(Dtemp)\n",
    "libr = np.array(libr)\n",
    "Dictionary= np.mean(libr, axis = 0)"
   ]
  },
  {
   "cell_type": "code",
   "execution_count": 6,
   "metadata": {},
   "outputs": [],
   "source": [
    "xdts = xz5\n",
    "D = Dictionary"
   ]
  },
  {
   "cell_type": "code",
   "execution_count": 8,
   "metadata": {},
   "outputs": [
    {
     "data": {
      "text/plain": [
       "(81000,)"
      ]
     },
     "execution_count": 8,
     "metadata": {},
     "output_type": "execute_result"
    }
   ],
   "source": [
    "Dict = D.reshape(-1,order='F')\n",
    "Dict.shape"
   ]
  },
  {
   "cell_type": "code",
   "execution_count": 9,
   "metadata": {
    "scrolled": true
   },
   "outputs": [
    {
     "name": "stdout",
     "output_type": "stream",
     "text": [
      "{'Relevant': matlab.double([[2.0],[3.0],[4.0],[5.0],[6.0],[7.0],[12.0],[21.0],[36.0],[41.0],[50.0],[52.0],[53.0],[65.0],[66.0]]), 'Value': matlab.double([[2.033539056894764],[2999.7610656679744],[-4.079755126590854],[-5998.3708531638395],[1.932399667958241],[2998.517851294281],[0.011670210662141451],[-0.1813449179949145],[0.005923346242016202],[0.1963554969074322],[0.0048477019934828535],[0.006493435935558107],[-0.08711009774904108],[2.323518863932262],[0.0041219194407023626]])}\n"
     ]
    }
   ],
   "source": [
    "#!/usr/bin/env python\n",
    "\"\"\"\n",
    "Sample script that uses the SparseBayes module created using\n",
    "MATLAB Compiler SDK.\n",
    "\n",
    "Refer to the MATLAB Compiler SDK documentation for more information.\n",
    "\"\"\"\n",
    "\n",
    "from __future__ import print_function\n",
    "import SparseBayes\n",
    "import matlab\n",
    "\n",
    "my_SparseBayes = SparseBayes.initialize()\n",
    "\n",
    "DictIn = matlab.double(Dict, size=(D.shape[0], D.shape[1]))\n",
    "targetIn = matlab.double(xdts, size=(D.shape[0], 1))\n",
    "DMOut = my_SparseBayes.SparseBayes(DictIn, targetIn)\n",
    "print(DMOut, sep='\\n')\n",
    "\n",
    "my_SparseBayes.terminate()"
   ]
  },
  {
   "cell_type": "code",
   "execution_count": null,
   "metadata": {},
   "outputs": [],
   "source": [
    "c = np.array(DMOut['Value'])\n",
    "d = []\n",
    "for j in c:\n",
    "    d.append(j[0])\n",
    "    \n",
    "a = np.array(DMOut['Relevant'])\n",
    "b = []\n",
    "for i in a:\n",
    "    b.append(int((i[0])-1))\n",
    "    \n",
    "initz0 = np.zeros(D.shape[1])\n",
    "for i in b:\n",
    "    initz0[i] = 1\n",
    "    \n",
    "print(initz0)"
   ]
  },
  {
   "cell_type": "code",
   "execution_count": null,
   "metadata": {},
   "outputs": [],
   "source": [
    "D_std = np.std(D[:,1:],axis = 0)\n",
    "D_std1 = D_std.reshape(1,-1)\n",
    "D1 = D*np.diag(1/D_std1)\n",
    "\n",
    "X = D1[:,1:]\n",
    "y = xdts\n",
    "initz0 = initz0[1:]\n",
    "tol = 0.0001\n",
    "verbosity = True\n",
    "DS = Variational_Bayes_Code(X, y, initz0, tol, verbosity)\n",
    "print(DS)"
   ]
  },
  {
   "cell_type": "code",
   "execution_count": 14,
   "metadata": {
    "scrolled": true
   },
   "outputs": [
    {
     "name": "stdout",
     "output_type": "stream",
     "text": [
      "1.9903495270787748\n",
      "2998.0981101181233\n",
      "-3.994933600084622\n",
      "-5996.061077113376\n",
      "1.9677395409015634\n",
      "2998.1635345032882\n"
     ]
    },
    {
     "data": {
      "image/png": "[encoded data removed]",
      "text/plain": [
       "<Figure size 432x288 with 1 Axes>"
      ]
     },
     "metadata": {
      "needs_background": "light"
     },
     "output_type": "display_data"
    }
   ],
   "source": [
    "plt.stem(DS['zmean'])   \n",
    "\n",
    "for i in DS[\"modelIdx\"]:\n",
    "    print((((DS[\"wmean\"][1:]) / (D_std))).reshape(-1)[i])"
   ]
  },
  {
   "cell_type": "markdown",
   "metadata": {},
   "source": [
    "# Drift 16"
   ]
  },
  {
   "cell_type": "code",
   "execution_count": 16,
   "metadata": {},
   "outputs": [],
   "source": [
    "xdts = xz6"
   ]
  },
  {
   "cell_type": "code",
   "execution_count": 17,
   "metadata": {},
   "outputs": [
    {
     "name": "stdout",
     "output_type": "stream",
     "text": [
      "{'Relevant': matlab.double([[4.0],[5.0],[6.0],[7.0],[8.0],[9.0],[26.0],[39.0],[45.0],[49.0],[52.0],[55.0],[62.0],[68.0],[80.0],[81.0]]), 'Value': matlab.double([[2.0959426456424293],[2999.727793293233],[-4.001442517484647],[-6000.556072408731],[1.9939201811075118],[3001.6187038378876],[0.19320196714360427],[-0.31267773839639046],[-4.337310720837925],[9.605594164044993],[0.005572047928262358],[-0.30480826975027725],[-0.19026772358491065],[0.0028879369199329217],[0.1589724888648828],[-8.043439561294013]])}\n"
     ]
    }
   ],
   "source": [
    "#!/usr/bin/env python\n",
    "\"\"\"\n",
    "Sample script that uses the SparseBayes module created using\n",
    "MATLAB Compiler SDK.\n",
    "\n",
    "Refer to the MATLAB Compiler SDK documentation for more information.\n",
    "\"\"\"\n",
    "\n",
    "from __future__ import print_function\n",
    "import SparseBayes\n",
    "import matlab\n",
    "\n",
    "my_SparseBayes = SparseBayes.initialize()\n",
    "\n",
    "DictIn = matlab.double(Dict, size=(D.shape[0], D.shape[1]))\n",
    "targetIn = matlab.double(xdts, size=(D.shape[0], 1))\n",
    "DMOut = my_SparseBayes.SparseBayes(DictIn, targetIn)\n",
    "print(DMOut, sep='\\n')\n",
    "\n",
    "my_SparseBayes.terminate()"
   ]
  },
  {
   "cell_type": "code",
   "execution_count": null,
   "metadata": {},
   "outputs": [],
   "source": [
    "c = np.array(DMOut['Value'])\n",
    "d = []\n",
    "for j in c:\n",
    "    d.append(j[0])\n",
    "    \n",
    "a = np.array(DMOut['Relevant'])\n",
    "b = []\n",
    "for i in a:\n",
    "    b.append(int((i[0])-1))\n",
    "    \n",
    "initz0 = np.zeros(D.shape[1])\n",
    "for i in b:\n",
    "    initz0[i] = 1\n",
    "    \n",
    "print(initz0)"
   ]
  },
  {
   "cell_type": "code",
   "execution_count": null,
   "metadata": {},
   "outputs": [],
   "source": [
    "\n",
    "X = D1[:,1:]\n",
    "y = xdts\n",
    "initz0 = initz0[1:]\n",
    "tol = 0.0001\n",
    "verbosity = True\n",
    "DS = Variational_Bayes_Code(X, y, initz0, tol, verbosity)\n",
    "print(DS)"
   ]
  },
  {
   "cell_type": "code",
   "execution_count": 20,
   "metadata": {},
   "outputs": [
    {
     "name": "stdout",
     "output_type": "stream",
     "text": [
      "2.0184651208568294\n",
      "2998.6859393507852\n",
      "-4.013114574041832\n",
      "-5999.281885073903\n",
      "2.0082113462257722\n",
      "3000.7909039506276\n"
     ]
    },
    {
     "data": {
      "image/png": "[encoded data removed]",
      "text/plain": [
       "<Figure size 432x288 with 1 Axes>"
      ]
     },
     "metadata": {
      "needs_background": "light"
     },
     "output_type": "display_data"
    }
   ],
   "source": [
    "plt.stem(DS['zmean'])   \n",
    "\n",
    "for i in DS[\"modelIdx\"]:\n",
    "    print((((DS[\"wmean\"][1:]) / (D_std))).reshape(-1)[i])"
   ]
  },
  {
   "cell_type": "markdown",
   "metadata": {},
   "source": [
    "# Drift 15"
   ]
  },
  {
   "cell_type": "code",
   "execution_count": 2,
   "metadata": {},
   "outputs": [],
   "source": [
    "import numpy as np\n",
    "import matplotlib.pyplot as plt\n",
    "\"\"\"\n",
    "A MDOF system excited by random noise\n",
    "----------------------------------------------------------------------\n",
    "\"\"\"\n",
    "\n",
    "def drift_mat(dof,k,c,m):\n",
    "    dim = 2 * dof\n",
    "    A = np.zeros((dim,dim))\n",
    "    \n",
    "    for i in range(dim):\n",
    "        if (i%2 == 0):\n",
    "            A[i][i+1] = 1\n",
    "    \n",
    "        elif(i==1):\n",
    "            A[i][i-1] = -(k+k)/m\n",
    "            A[i][i] = -(c+c)/m\n",
    "            A[i][i+1] = k/m\n",
    "            A[i][i+2] = c/m\n",
    "    \n",
    "        elif(i==dim-1):\n",
    "            A[i][i] = -c/m\n",
    "            A[i][i-1] = -k/m\n",
    "            A[i][i-2] = c/m\n",
    "            A[i][i-3] = k/m\n",
    "            \n",
    "        else:\n",
    "            A[i][i-3] = k/m \n",
    "            A[i][i-2] = c/m\n",
    "            A[i][i-1] = -(k+k)/m\n",
    "            A[i][i] = -(c+c)/m\n",
    "            A[i][i+1] = k/m\n",
    "            A[i][i+2] = c/m\n",
    "    return A\n",
    "\n",
    "def M_DOF_sys(x_initial, dof, T):\n",
    "    # parameters of M_DOF_sys in Equation\n",
    "    m = 1\n",
    "    c = 2\n",
    "    k = 3000\n",
    "    mu = 1\n",
    "    g = 9.81\n",
    "    sigma = 1\n",
    "    \n",
    "    # solution by euler maruyama\n",
    "    # -------------------------------------------------------\n",
    "    dt = 0.001\n",
    "    t = np.arange(0, T+dt, dt)\n",
    "    Nsamp = 100 # no. of samples in the run\n",
    "\n",
    "    y11 = []  \n",
    "    y12 = []\n",
    "    y13 = []\n",
    "    y14 = []\n",
    "    y15 = []\n",
    "    y16 = []\n",
    "    y17 = []\n",
    "    y18 = []\n",
    "    \n",
    "    xz7 = []\n",
    "    xz8 = []\n",
    "    \n",
    "    xzs77 = []\n",
    "    xzs88 = []\n",
    "    \n",
    "    # Simulation Starts Here ::\n",
    "    # -------------------------------------------------------\n",
    "    for ensemble in range(Nsamp):\n",
    "        x0 = x_initial\n",
    "        x = x0                              # initial condition.\n",
    "        for n in range(len(t)-1):\n",
    "            dW = np.sqrt(dt)*np.random.randn(2*dof)\n",
    "            \n",
    "            '''LINEAR PART DRIFT'''\n",
    "        \n",
    "            A = drift_mat(dof,k,c,m)\n",
    "            \n",
    "            '''DIFFUSION TERM  = b'''\n",
    "            diffu_arr = np.zeros(2*dof)\n",
    "            for i in range(2*dof):\n",
    "                if (i%2 != 0):\n",
    "                    diffu_arr[i] = sigma/m\n",
    "            \n",
    "            soln_arr = x0 + np.matmul(A,x0)*dt + diffu_arr*dW        \n",
    "            x0 = soln_arr\n",
    "            x = np.column_stack((x, x0))\n",
    "            \n",
    "        y11.append(x[-11,:])       \n",
    "        y12.append(x[-12,:])\n",
    "        y13.append(x[-13,:])       # Displacement\n",
    "        y14.append(x[-14,:])\n",
    "        y15.append(x[-15,:])       # Displacement     \n",
    "        y16.append(x[-16,:])\n",
    "        y17.append(x[-17,:])       \n",
    "        y18.append(x[-18,:])\n",
    "\n",
    "        \n",
    "        zint7 = x[-13, 0:-1]        # Velocity\n",
    "        xfinal7 = x[-13, 1:] \n",
    "        xmz7 = (xfinal7 - zint7)\n",
    "        \n",
    "        zint8 = x[-15, 0:-1]       # Velocity\n",
    "        xfinal8 = x[-15, 1:] \n",
    "        xmz8 = (xfinal8 - zint8) \n",
    "\n",
    "        xz7.append(xmz7)\n",
    "        xz8.append(xmz8)\n",
    "        \n",
    "        xmzsq77 = np.multiply(xmz7, xmz7)\n",
    "        xzs77.append(xmzsq77)\n",
    "        \n",
    "        xmzsq88 = np.multiply(xmz8, xmz8)\n",
    "        xzs88.append(xmzsq88)\n",
    "        \n",
    "    xz7 = pow(dt,-1)*np.mean(np.array(xz7), axis = 0)\n",
    "    xz8 = pow(dt,-1)*np.mean(np.array(xz8), axis = 0)\n",
    "\n",
    "    xzs77 = pow(dt,-1)*np.mean(np.array(xzs77), axis = 0)\n",
    "    xzs88 = pow(dt,-1)*np.mean(np.array(xzs88), axis = 0)\n",
    "\n",
    "    y11 = np.array(y11)\n",
    "    y12 = np.array(y12)\n",
    "    y13 = np.array(y13)\n",
    "    y14 = np.array(y14)\n",
    "    y15 = np.array(y15)\n",
    "    y16 = np.array(y16)\n",
    "    y17 = np.array(y17)\n",
    "    y18 = np.array(y18)\n",
    "\n",
    "    time = t[0:-1]\n",
    "    return xz7, xz8, xzs77, xzs88, y11, y12, y13, y14, y15, y16, y17, y18, time"
   ]
  },
  {
   "cell_type": "code",
   "execution_count": 4,
   "metadata": {},
   "outputs": [],
   "source": [
    "xz7, xz8, xzs77, xzs88, y11, y12, y13, y14, y15, y16, y17, y18, time = M_DOF_sys(x_initial, dof, T)"
   ]
  },
  {
   "cell_type": "code",
   "execution_count": 5,
   "metadata": {},
   "outputs": [],
   "source": [
    "# Expected Dictionary Creation:\n",
    "libr = []\n",
    "for j in range(len(y11)):\n",
    "    data = np.row_stack((y11[j,0:-1], y12[j,0:-1], y13[j,0:-1], y14[j,0:-1], y15[j,0:-1], y16[j,0:-1], y17[j,0:-1], y18[j,0:-1]))\n",
    "    Dtemp, nl = library(data, 1, 0)\n",
    "    libr.append(Dtemp)\n",
    "libr = np.array(libr)\n",
    "Dictionary= np.mean(libr, axis = 0)\n",
    "# xdts = xdrift1"
   ]
  },
  {
   "cell_type": "code",
   "execution_count": 6,
   "metadata": {},
   "outputs": [],
   "source": [
    "xdts = xz7\n",
    "D = Dictionary"
   ]
  },
  {
   "cell_type": "code",
   "execution_count": null,
   "metadata": {},
   "outputs": [],
   "source": [
    "Dict = D.reshape(-1,order='F')\n",
    "Dict.shape"
   ]
  },
  {
   "cell_type": "code",
   "execution_count": 9,
   "metadata": {
    "scrolled": true
   },
   "outputs": [
    {
     "name": "stdout",
     "output_type": "stream",
     "text": [
      "{'Relevant': matlab.double([[2.0],[3.0],[4.0],[5.0],[6.0],[7.0],[12.0],[20.0],[23.0],[32.0],[34.0],[35.0],[38.0],[50.0],[52.0],[54.0],[68.0]]), 'Value': matlab.double([[2.0119161447653378],[2999.5218143027996],[-4.045074900803292],[-5998.974325555198],[2.019304002825955],[2999.563784165592],[-0.0099578613427715],[-0.0035523699701256483],[0.10576976769402993],[0.00018481147644458417],[-0.004270842585944765],[0.09997319701360295],[0.003947289235378657],[-0.0050291825880500185],[0.004327021558095369],[0.0018012634243125376],[-0.003002936464725685]])}\n"
     ]
    }
   ],
   "source": [
    "#!/usr/bin/env python\n",
    "\"\"\"\n",
    "Sample script that uses the SparseBayes module created using\n",
    "MATLAB Compiler SDK.\n",
    "\n",
    "Refer to the MATLAB Compiler SDK documentation for more information.\n",
    "\"\"\"\n",
    "\n",
    "from __future__ import print_function\n",
    "import SparseBayes\n",
    "import matlab\n",
    "\n",
    "my_SparseBayes = SparseBayes.initialize()\n",
    "\n",
    "DictIn = matlab.double(Dict, size=(D.shape[0], D.shape[1]))\n",
    "targetIn = matlab.double(xdts, size=(D.shape[0], 1))\n",
    "DMOut = my_SparseBayes.SparseBayes(DictIn, targetIn)\n",
    "print(DMOut, sep='\\n')\n",
    "\n",
    "my_SparseBayes.terminate()"
   ]
  },
  {
   "cell_type": "code",
   "execution_count": null,
   "metadata": {},
   "outputs": [],
   "source": [
    "c = np.array(DMOut['Value'])\n",
    "d = []\n",
    "for j in c:\n",
    "    d.append(j[0])\n",
    "    \n",
    "a = np.array(DMOut['Relevant'])\n",
    "b = []\n",
    "for i in a:\n",
    "    b.append(int((i[0])-1))\n",
    "    \n",
    "initz0 = np.zeros(D.shape[1])\n",
    "for i in b:\n",
    "    initz0[i] = 1\n",
    "    \n",
    "print(initz0)"
   ]
  },
  {
   "cell_type": "code",
   "execution_count": null,
   "metadata": {
    "scrolled": true
   },
   "outputs": [],
   "source": [
    "D_std = np.std(D[:,1:],axis = 0)\n",
    "D_std1 = D_std.reshape(1,-1)\n",
    "D1 = D*np.diag(1/D_std1)\n",
    "\n",
    "X = D1[:,1:]\n",
    "y = xdts\n",
    "initz0 = initz0[1:]\n",
    "tol = 0.0001\n",
    "verbosity = True\n",
    "DS = Variational_Bayes_Code(X, y, initz0, tol, verbosity)\n",
    "print(DS)"
   ]
  },
  {
   "cell_type": "code",
   "execution_count": 14,
   "metadata": {
    "scrolled": true
   },
   "outputs": [
    {
     "name": "stdout",
     "output_type": "stream",
     "text": [
      "2.0315832268965677\n",
      "2998.1430900690357\n",
      "-4.0125547137838815\n",
      "-5995.891507106089\n",
      "2.0348119808240726\n",
      "2997.396188667701\n"
     ]
    },
    {
     "data": {
      "image/png": "[encoded data removed]",
      "text/plain": [
       "<Figure size 432x288 with 1 Axes>"
      ]
     },
     "metadata": {
      "needs_background": "light"
     },
     "output_type": "display_data"
    }
   ],
   "source": [
    "plt.stem(DS['zmean'])   \n",
    "\n",
    "for i in DS[\"modelIdx\"]:\n",
    "    print((((DS[\"wmean\"][1:]) / (D_std))).reshape(-1)[i])"
   ]
  },
  {
   "cell_type": "markdown",
   "metadata": {},
   "source": [
    "# Drift 14"
   ]
  },
  {
   "cell_type": "code",
   "execution_count": 16,
   "metadata": {},
   "outputs": [],
   "source": [
    "xdts = xz8"
   ]
  },
  {
   "cell_type": "code",
   "execution_count": 17,
   "metadata": {},
   "outputs": [
    {
     "name": "stdout",
     "output_type": "stream",
     "text": [
      "{'Relevant': matlab.double([[4.0],[5.0],[6.0],[7.0],[8.0],[9.0],[29.0],[50.0],[51.0],[54.0],[57.0]]), 'Value': matlab.double([[1.980751640968397],[2998.8798008168383],[-3.9610543953859305],[-5998.324297335633],[1.9975962216490741],[2998.976928482143],[0.24899280109261632],[-0.0008982186989087167],[0.16037377146339757],[-0.003134036228409543],[-0.08658227548812239]])}\n"
     ]
    }
   ],
   "source": [
    "#!/usr/bin/env python\n",
    "\"\"\"\n",
    "Sample script that uses the SparseBayes module created using\n",
    "MATLAB Compiler SDK.\n",
    "\n",
    "Refer to the MATLAB Compiler SDK documentation for more information.\n",
    "\"\"\"\n",
    "\n",
    "from __future__ import print_function\n",
    "import SparseBayes\n",
    "import matlab\n",
    "\n",
    "my_SparseBayes = SparseBayes.initialize()\n",
    "\n",
    "DictIn = matlab.double(Dict, size=(D.shape[0], D.shape[1]))\n",
    "targetIn = matlab.double(xdts, size=(D.shape[0], 1))\n",
    "DMOut = my_SparseBayes.SparseBayes(DictIn, targetIn)\n",
    "print(DMOut, sep='\\n')\n",
    "\n",
    "my_SparseBayes.terminate()"
   ]
  },
  {
   "cell_type": "code",
   "execution_count": null,
   "metadata": {},
   "outputs": [],
   "source": [
    "c = np.array(DMOut['Value'])\n",
    "d = []\n",
    "for j in c:\n",
    "    d.append(j[0])\n",
    "    \n",
    "a = np.array(DMOut['Relevant'])\n",
    "b = []\n",
    "for i in a:\n",
    "    b.append(int((i[0])-1))\n",
    "    \n",
    "initz0 = np.zeros(D.shape[1])\n",
    "for i in b:\n",
    "    initz0[i] = 1"
   ]
  },
  {
   "cell_type": "code",
   "execution_count": null,
   "metadata": {},
   "outputs": [],
   "source": [
    "X = D1[:,1:]\n",
    "y = xdts\n",
    "initz0 = initz0[1:]\n",
    "tol = 0.0001\n",
    "verbosity = True\n",
    "DS = Variational_Bayes_Code(X, y, initz0, tol, verbosity)\n",
    "print(DS)"
   ]
  },
  {
   "cell_type": "code",
   "execution_count": 20,
   "metadata": {},
   "outputs": [
    {
     "name": "stdout",
     "output_type": "stream",
     "text": [
      "1.9858062831074283\n",
      "2996.759148055798\n",
      "-3.9835494379162357\n",
      "-5994.755364268647\n",
      "2.0080597987567144\n",
      "2997.543372325106\n"
     ]
    },
    {
     "data": {
      "image/png": "[encoded data removed]",
      "text/plain": [
       "<Figure size 432x288 with 1 Axes>"
      ]
     },
     "metadata": {
      "needs_background": "light"
     },
     "output_type": "display_data"
    }
   ],
   "source": [
    "plt.stem(DS['zmean'])   \n",
    "\n",
    "for i in DS[\"modelIdx\"]:\n",
    "    print((((DS[\"wmean\"][1:]) / (D_std))).reshape(-1)[i])"
   ]
  },
  {
   "cell_type": "markdown",
   "metadata": {},
   "source": [
    "# Drift 13"
   ]
  },
  {
   "cell_type": "code",
   "execution_count": 2,
   "metadata": {},
   "outputs": [],
   "source": [
    "import numpy as np\n",
    "import matplotlib.pyplot as plt\n",
    "\"\"\"\n",
    "A MDOF system excited by random noise\n",
    "----------------------------------------------------------------------\n",
    "\"\"\"\n",
    "\n",
    "def drift_mat(dof,k,c,m):\n",
    "    dim = 2 * dof\n",
    "    A = np.zeros((dim,dim))\n",
    "    \n",
    "    for i in range(dim):\n",
    "        if (i%2 == 0):\n",
    "            A[i][i+1] = 1\n",
    "    \n",
    "        elif(i==1):\n",
    "            A[i][i-1] = -(k+k)/m\n",
    "            A[i][i] = -(c+c)/m\n",
    "            A[i][i+1] = k/m\n",
    "            A[i][i+2] = c/m\n",
    "    \n",
    "        elif(i==dim-1):\n",
    "            A[i][i] = -c/m\n",
    "            A[i][i-1] = -k/m\n",
    "            A[i][i-2] = c/m\n",
    "            A[i][i-3] = k/m\n",
    "            \n",
    "        else:\n",
    "            A[i][i-3] = k/m \n",
    "            A[i][i-2] = c/m\n",
    "            A[i][i-1] = -(k+k)/m\n",
    "            A[i][i] = -(c+c)/m\n",
    "            A[i][i+1] = k/m\n",
    "            A[i][i+2] = c/m\n",
    "    return A\n",
    "\n",
    "def M_DOF_sys(x_initial, dof, T):\n",
    "    # parameters of M_DOF_sys in Equation\n",
    "    m = 1\n",
    "    c = 2\n",
    "    k = 3000\n",
    "    mu = 1\n",
    "    g = 9.81\n",
    "    sigma = 1\n",
    "    \n",
    "    # solution by euler maruyama\n",
    "    # -------------------------------------------------------\n",
    "    dt = 0.001\n",
    "    t = np.arange(0, T+dt, dt)\n",
    "    Nsamp = 100 # no. of samples in the run\n",
    "\n",
    "    y15 = []\n",
    "    y16 = []\n",
    "    y17 = []\n",
    "    y18 = []\n",
    "    y19 = []  \n",
    "    y20 = []\n",
    "    y21 = []\n",
    "    y22 = []\n",
    "    \n",
    "    xz9 = []\n",
    "    xz10 = []\n",
    "    \n",
    "    xzs9 = []\n",
    "    xzs10 = []\n",
    "    \n",
    "    # Simulation Starts Here ::\n",
    "    # -------------------------------------------------------\n",
    "    for ensemble in range(Nsamp):\n",
    "        x0 = x_initial\n",
    "        x = x0                              # initial condition.\n",
    "        for n in range(len(t)-1):\n",
    "            dW = np.sqrt(dt)*np.random.randn(2*dof)\n",
    "            \n",
    "            '''LINEAR PART DRIFT'''\n",
    "        \n",
    "            A = drift_mat(dof,k,c,m)\n",
    "            \n",
    "            '''DIFFUSION TERM  = b'''\n",
    "            diffu_arr = np.zeros(2*dof)\n",
    "            for i in range(2*dof):\n",
    "                if (i%2 != 0):\n",
    "                    diffu_arr[i] = sigma/m\n",
    "            \n",
    "            soln_arr = x0 + np.matmul(A,x0)*dt + diffu_arr*dW        \n",
    "            x0 = soln_arr\n",
    "            x = np.column_stack((x, x0))\n",
    "            \n",
    "        y15.append(x[-15,:])           \n",
    "        y16.append(x[-16,:])\n",
    "        y17.append(x[-17,:])       # Displacement \n",
    "        y18.append(x[-18,:])\n",
    "        y19.append(x[-19,:])       # Displacement         \n",
    "        y20.append(x[-20,:])\n",
    "        y21.append(x[-21,:])           \n",
    "        y22.append(x[-22,:])\n",
    "\n",
    "        \n",
    "        zint9 = x[-17, 0:-1]        # Velocity\n",
    "        xfinal9 = x[-17, 1:] \n",
    "        xmz9 = (xfinal9 - zint9)\n",
    "        \n",
    "        zint10 = x[-19, 0:-1]       # Velocity\n",
    "        xfinal10 = x[-19, 1:] \n",
    "        xmz10 = (xfinal10 - zint10) \n",
    "\n",
    "        xz9.append(xmz9)\n",
    "        xz10.append(xmz10)\n",
    "        \n",
    "        xmzsq9 = np.multiply(xmz9, xmz9)\n",
    "        xzs9.append(xmzsq9)\n",
    "        \n",
    "        xmzsq10 = np.multiply(xmz10, xmz10)\n",
    "        xzs10.append(xmzsq10)\n",
    "        \n",
    "    xz9 = pow(dt,-1)*np.mean(np.array(xz9), axis = 0)\n",
    "    xz10 = pow(dt,-1)*np.mean(np.array(xz10), axis = 0)\n",
    "\n",
    "    xzs9 = pow(dt,-1)*np.mean(np.array(xzs9), axis = 0)\n",
    "    xzs10 = pow(dt,-1)*np.mean(np.array(xzs10), axis = 0)\n",
    "\n",
    "    y15 = np.array(y15)\n",
    "    y16 = np.array(y16)\n",
    "    y17 = np.array(y17)\n",
    "    y18 = np.array(y18)\n",
    "    y19 = np.array(y19)\n",
    "    y20 = np.array(y20)\n",
    "    y21 = np.array(y21)\n",
    "    y22 = np.array(y22)\n",
    "\n",
    "    time = t[0:-1]\n",
    "    return xz9, xz10, xzs9, xzs10, y15, y16, y17, y18, y19, y20, y21, y22, time"
   ]
  },
  {
   "cell_type": "code",
   "execution_count": 4,
   "metadata": {},
   "outputs": [],
   "source": [
    "xz9, xz10, xzs9, xzs10, y15, y16, y17, y18, y19, y20, y21, y22, time = M_DOF_sys(x_initial, dof, T)"
   ]
  },
  {
   "cell_type": "code",
   "execution_count": 5,
   "metadata": {},
   "outputs": [],
   "source": [
    "# Expected Dictionary Creation:\n",
    "libr = []\n",
    "for j in range(len(y15)):\n",
    "    data = np.row_stack((y15[j,0:-1], y16[j,0:-1], y17[j,0:-1], y18[j,0:-1], y19[j,0:-1], y20[j,0:-1], y21[j,0:-1], y22[j,0:-1], ))\n",
    "    Dtemp, nl = library(data, 1, 0)\n",
    "    libr.append(Dtemp)\n",
    "libr = np.array(libr)\n",
    "Dictionary= np.mean(libr, axis = 0)\n",
    "# xdts = xdrift1"
   ]
  },
  {
   "cell_type": "code",
   "execution_count": 6,
   "metadata": {},
   "outputs": [],
   "source": [
    "xdts = xz9\n",
    "D = Dictionary"
   ]
  },
  {
   "cell_type": "code",
   "execution_count": 8,
   "metadata": {},
   "outputs": [
    {
     "data": {
      "text/plain": [
       "(81000,)"
      ]
     },
     "execution_count": 8,
     "metadata": {},
     "output_type": "execute_result"
    }
   ],
   "source": [
    "Dict = D.reshape(-1,order='F')\n",
    "Dict.shape"
   ]
  },
  {
   "cell_type": "code",
   "execution_count": 9,
   "metadata": {
    "scrolled": true
   },
   "outputs": [
    {
     "name": "stdout",
     "output_type": "stream",
     "text": [
      "{'Relevant': matlab.double([[2.0],[3.0],[4.0],[5.0],[6.0],[7.0],[33.0],[39.0],[48.0],[52.0],[76.0]]), 'Value': matlab.double([[1.9734836994073524],[2999.8463065383085],[-3.9482023091871885],[-5999.718297830694],[1.9856934802159232],[2999.050306674468],[-1.9453667493292295],[-0.11333342585582594],[0.13947021908553844],[0.0003328719689753488],[0.1647827993262003]])}\n"
     ]
    }
   ],
   "source": [
    "#!/usr/bin/env python\n",
    "\"\"\"\n",
    "Sample script that uses the SparseBayes module created using\n",
    "MATLAB Compiler SDK.\n",
    "\n",
    "Refer to the MATLAB Compiler SDK documentation for more information.\n",
    "\"\"\"\n",
    "\n",
    "from __future__ import print_function\n",
    "import SparseBayes\n",
    "import matlab\n",
    "\n",
    "my_SparseBayes = SparseBayes.initialize()\n",
    "\n",
    "DictIn = matlab.double(Dict, size=(D.shape[0], D.shape[1]))\n",
    "targetIn = matlab.double(xdts, size=(D.shape[0], 1))\n",
    "DMOut = my_SparseBayes.SparseBayes(DictIn, targetIn)\n",
    "print(DMOut, sep='\\n')\n",
    "\n",
    "my_SparseBayes.terminate()"
   ]
  },
  {
   "cell_type": "code",
   "execution_count": null,
   "metadata": {},
   "outputs": [],
   "source": [
    "c = np.array(DMOut['Value'])\n",
    "d = []\n",
    "for j in c:\n",
    "    d.append(j[0])\n",
    "    \n",
    "a = np.array(DMOut['Relevant'])\n",
    "b = []\n",
    "for i in a:\n",
    "    b.append(int((i[0])-1))\n",
    "    \n",
    "initz0 = np.zeros(D.shape[1])\n",
    "for i in b:\n",
    "    initz0[i] = 1\n",
    "    \n",
    "print(initz0)"
   ]
  },
  {
   "cell_type": "code",
   "execution_count": null,
   "metadata": {},
   "outputs": [],
   "source": [
    "D_std = np.std(D[:,1:],axis = 0)\n",
    "D_std1 = D_std.reshape(1,-1)\n",
    "D1 = D*np.diag(1/D_std1)\n",
    "\n",
    "X = D1[:,1:]\n",
    "y = xdts\n",
    "initz0 = initz0[1:]\n",
    "tol = 0.0001\n",
    "verbosity = True\n",
    "DS = Variational_Bayes_Code(X, y, initz0, tol, verbosity)\n",
    "print(DS)"
   ]
  },
  {
   "cell_type": "code",
   "execution_count": 14,
   "metadata": {
    "scrolled": true
   },
   "outputs": [
    {
     "name": "stdout",
     "output_type": "stream",
     "text": [
      "1.979841912935129\n",
      "2997.5049710046123\n",
      "-3.97780877166546\n",
      "-5996.012284491217\n",
      "1.9838493670140263\n",
      "2998.373479074605\n"
     ]
    },
    {
     "data": {
      "image/png": "[encoded data removed]",
      "text/plain": [
       "<Figure size 432x288 with 1 Axes>"
      ]
     },
     "metadata": {
      "needs_background": "light"
     },
     "output_type": "display_data"
    }
   ],
   "source": [
    "plt.stem(DS['zmean'])   \n",
    "\n",
    "for i in DS[\"modelIdx\"]:\n",
    "    print((((DS[\"wmean\"][1:]) / (D_std))).reshape(-1)[i])"
   ]
  },
  {
   "cell_type": "markdown",
   "metadata": {},
   "source": [
    "# Drift 12"
   ]
  },
  {
   "cell_type": "code",
   "execution_count": 16,
   "metadata": {},
   "outputs": [],
   "source": [
    "xdts = xz10"
   ]
  },
  {
   "cell_type": "code",
   "execution_count": 17,
   "metadata": {},
   "outputs": [
    {
     "name": "stdout",
     "output_type": "stream",
     "text": [
      "{'Relevant': matlab.double([[4.0],[5.0],[6.0],[7.0],[8.0],[9.0],[16.0],[22.0],[36.0],[46.0],[60.0],[65.0],[80.0]]), 'Value': matlab.double([[2.0447564233003543],[2999.2185265151347],[-4.009745156494036],[-5999.05206876477],[1.9953511288090697],[3001.280739132953],[-0.055632853803769616],[-0.0023030094599451835],[-0.007147257590661628],[0.059999827987747986],[-0.1854389433133679],[2.468057429854742],[-0.3117260435927782]])}\n"
     ]
    }
   ],
   "source": [
    "#!/usr/bin/env python\n",
    "\"\"\"\n",
    "Sample script that uses the SparseBayes module created using\n",
    "MATLAB Compiler SDK.\n",
    "\n",
    "Refer to the MATLAB Compiler SDK documentation for more information.\n",
    "\"\"\"\n",
    "\n",
    "from __future__ import print_function\n",
    "import SparseBayes\n",
    "import matlab\n",
    "\n",
    "my_SparseBayes = SparseBayes.initialize()\n",
    "\n",
    "DictIn = matlab.double(Dict, size=(D.shape[0], D.shape[1]))\n",
    "targetIn = matlab.double(xdts, size=(D.shape[0], 1))\n",
    "DMOut = my_SparseBayes.SparseBayes(DictIn, targetIn)\n",
    "print(DMOut, sep='\\n')\n",
    "\n",
    "my_SparseBayes.terminate()"
   ]
  },
  {
   "cell_type": "code",
   "execution_count": null,
   "metadata": {},
   "outputs": [],
   "source": [
    "c = np.array(DMOut['Value'])\n",
    "d = []\n",
    "for j in c:\n",
    "    d.append(j[0])\n",
    "    \n",
    "a = np.array(DMOut['Relevant'])\n",
    "b = []\n",
    "for i in a:\n",
    "    b.append(int((i[0])-1))\n",
    "    \n",
    "initz0 = np.zeros(D.shape[1])\n",
    "for i in b:\n",
    "    initz0[i] = 1\n",
    "    \n",
    "print(initz0)"
   ]
  },
  {
   "cell_type": "code",
   "execution_count": null,
   "metadata": {},
   "outputs": [],
   "source": [
    "\n",
    "X = D1[:,1:]\n",
    "y = xdts\n",
    "initz0 = initz0[1:]\n",
    "tol = 0.0001\n",
    "verbosity = True\n",
    "DS = Variational_Bayes_Code(X, y, initz0, tol, verbosity)\n",
    "print(DS)"
   ]
  },
  {
   "cell_type": "code",
   "execution_count": 20,
   "metadata": {},
   "outputs": [
    {
     "name": "stdout",
     "output_type": "stream",
     "text": [
      "1.9833756187404543\n",
      "2998.0413562761296\n",
      "-3.9941528472406467\n",
      "-5995.655950234483\n",
      "2.0060493894186107\n",
      "2998.14921073922\n"
     ]
    },
    {
     "data": {
      "image/png": "[encoded data removed]",
      "text/plain": [
       "<Figure size 432x288 with 1 Axes>"
      ]
     },
     "metadata": {
      "needs_background": "light"
     },
     "output_type": "display_data"
    }
   ],
   "source": [
    "plt.stem(DS['zmean'])   \n",
    "\n",
    "for i in DS[\"modelIdx\"]:\n",
    "    print((((DS[\"wmean\"][1:]) / (D_std))).reshape(-1)[i])"
   ]
  },
  {
   "cell_type": "markdown",
   "metadata": {},
   "source": [
    "# Drift 11"
   ]
  },
  {
   "cell_type": "code",
   "execution_count": 2,
   "metadata": {},
   "outputs": [],
   "source": [
    "import numpy as np\n",
    "import matplotlib.pyplot as plt\n",
    "\"\"\"\n",
    "A MDOF system excited by random noise\n",
    "----------------------------------------------------------------------\n",
    "\"\"\"\n",
    "\n",
    "def drift_mat(dof,k,c,m):\n",
    "    dim = 2 * dof\n",
    "    A = np.zeros((dim,dim))\n",
    "    \n",
    "    for i in range(dim):\n",
    "        if (i%2 == 0):\n",
    "            A[i][i+1] = 1\n",
    "    \n",
    "        elif(i==1):\n",
    "            A[i][i-1] = -(k+k)/m\n",
    "            A[i][i] = -(c+c)/m\n",
    "            A[i][i+1] = k/m\n",
    "            A[i][i+2] = c/m\n",
    "    \n",
    "        elif(i==dim-1):\n",
    "            A[i][i] = -c/m\n",
    "            A[i][i-1] = -k/m\n",
    "            A[i][i-2] = c/m\n",
    "            A[i][i-3] = k/m\n",
    "            \n",
    "        else:\n",
    "            A[i][i-3] = k/m \n",
    "            A[i][i-2] = c/m\n",
    "            A[i][i-1] = -(k+k)/m\n",
    "            A[i][i] = -(c+c)/m\n",
    "            A[i][i+1] = k/m\n",
    "            A[i][i+2] = c/m\n",
    "    return A\n",
    "\n",
    "def M_DOF_sys(x_initial, dof, T):\n",
    "    # parameters of M_DOF_sys in Equation\n",
    "    m = 1\n",
    "    c = 2\n",
    "    k = 3000\n",
    "    mu = 1\n",
    "    g = 9.81\n",
    "    sigma = 1\n",
    "    \n",
    "    # solution by euler maruyama\n",
    "    # -------------------------------------------------------\n",
    "    dt = 0.001\n",
    "    t = np.arange(0, T+dt, dt)\n",
    "    Nsamp = 100 # no. of samples in the run\n",
    "\n",
    "    \n",
    "    y19 = []  \n",
    "    y20 = []\n",
    "    y21 = []\n",
    "    y22 = []\n",
    "    y23 = []\n",
    "    y24 = []\n",
    "    y25 = []\n",
    "    y26 = []\n",
    "    \n",
    "    xz11 = []\n",
    "    xz12 = []\n",
    "    \n",
    "    xzs11 = []\n",
    "    xzs12 = []\n",
    "    \n",
    "    # Simulation Starts Here ::\n",
    "    # -------------------------------------------------------\n",
    "    for ensemble in range(Nsamp):\n",
    "        x0 = x_initial\n",
    "        x = x0                              # initial condition.\n",
    "        for n in range(len(t)-1):\n",
    "            dW = np.sqrt(dt)*np.random.randn(2*dof)\n",
    "            \n",
    "            '''LINEAR PART DRIFT'''\n",
    "        \n",
    "            A = drift_mat(dof,k,c,m)\n",
    "            \n",
    "            '''DIFFUSION TERM  = b'''\n",
    "            diffu_arr = np.zeros(2*dof)\n",
    "            for i in range(2*dof):\n",
    "                if (i%2 != 0):\n",
    "                    diffu_arr[i] = sigma/m\n",
    "            \n",
    "            soln_arr = x0 + np.matmul(A,x0)*dt + diffu_arr*dW        \n",
    "            x0 = soln_arr\n",
    "            x = np.column_stack((x, x0))\n",
    "            \n",
    "        y19.append(x[-19,:])                \n",
    "        y20.append(x[-20,:])\n",
    "        y21.append(x[-21,:])       # Displacement    \n",
    "        y22.append(x[-22,:])\n",
    "        y23.append(x[-23,:])       # Displacement             \n",
    "        y24.append(x[-24,:])\n",
    "        y25.append(x[-25,:])                \n",
    "        y26.append(x[-26,:])\n",
    "\n",
    "        \n",
    "        zint11 = x[-21, 0:-1]        # Velocity\n",
    "        xfinal11 = x[-21, 1:] \n",
    "        xmz11 = (xfinal11 - zint11)\n",
    "        \n",
    "        zint12 = x[-23, 0:-1]       # Velocity\n",
    "        xfinal12 = x[-23, 1:] \n",
    "        xmz12 = (xfinal12 - zint12) \n",
    "\n",
    "        xz11.append(xmz11)\n",
    "        xz12.append(xmz12)\n",
    "        \n",
    "        xmzsq11 = np.multiply(xmz11, xmz11)\n",
    "        xzs11.append(xmzsq11)\n",
    "        \n",
    "        xmzsq12 = np.multiply(xmz12, xmz12)\n",
    "        xzs12.append(xmzsq12)\n",
    "        \n",
    "    xz11 = pow(dt,-1)*np.mean(np.array(xz11), axis = 0)\n",
    "    xz12 = pow(dt,-1)*np.mean(np.array(xz12), axis = 0)\n",
    "\n",
    "    xzs11 = pow(dt,-1)*np.mean(np.array(xzs11), axis = 0)\n",
    "    xzs12 = pow(dt,-1)*np.mean(np.array(xzs12), axis = 0)\n",
    "\n",
    "    y19 = np.array(y19)\n",
    "    y20 = np.array(y20)\n",
    "    y21 = np.array(y21)\n",
    "    y22 = np.array(y22)\n",
    "    y23 = np.array(y23)\n",
    "    y24 = np.array(y24)\n",
    "    y25 = np.array(y25)\n",
    "    y26 = np.array(y26)\n",
    "\n",
    "    time = t[0:-1]\n",
    "    return xz11, xz12, xzs11, xzs12, y19, y20, y21, y22, y23, y24, y25, y26, time"
   ]
  },
  {
   "cell_type": "code",
   "execution_count": 4,
   "metadata": {},
   "outputs": [],
   "source": [
    "xz11, xz12, xzs11, xzs12, y19, y20, y21, y22, y23, y24, y25, y26, time = M_DOF_sys(x_initial, dof, T)"
   ]
  },
  {
   "cell_type": "code",
   "execution_count": 5,
   "metadata": {},
   "outputs": [],
   "source": [
    "# Expected Dictionary Creation:\n",
    "libr = []\n",
    "for j in range(len(y19)):\n",
    "    data = np.row_stack((y19[j,0:-1], y20[j,0:-1], y21[j,0:-1], y22[j,0:-1], y23[j,0:-1], y24[j,0:-1], y25[j,0:-1], y26[j,0:-1]))\n",
    "    Dtemp, nl = library(data, 1, 0)\n",
    "    libr.append(Dtemp)\n",
    "libr = np.array(libr)\n",
    "Dictionary= np.mean(libr, axis = 0)"
   ]
  },
  {
   "cell_type": "code",
   "execution_count": 6,
   "metadata": {},
   "outputs": [],
   "source": [
    "xdts = xz11\n",
    "D = Dictionary"
   ]
  },
  {
   "cell_type": "code",
   "execution_count": 8,
   "metadata": {},
   "outputs": [
    {
     "data": {
      "text/plain": [
       "(81000,)"
      ]
     },
     "execution_count": 8,
     "metadata": {},
     "output_type": "execute_result"
    }
   ],
   "source": [
    "Dict = D.reshape(-1,order='F')\n",
    "Dict.shape"
   ]
  },
  {
   "cell_type": "code",
   "execution_count": 9,
   "metadata": {
    "scrolled": true
   },
   "outputs": [
    {
     "name": "stdout",
     "output_type": "stream",
     "text": [
      "{'Relevant': matlab.double([[2.0],[3.0],[4.0],[5.0],[6.0],[7.0],[17.0],[19.0],[36.0],[37.0],[47.0],[58.0]]), 'Value': matlab.double([[1.994625349452847],[2997.3898078476946],[-4.0596894121445946],[-5997.742091224681],[2.0144432137445816],[3000.7661346232603],[-1.0547116883334198],[0.06918621703758918],[0.0014317868808571184],[0.25887164578270705],[-1.3121002172909069],[-0.15011188591632532]])}\n"
     ]
    }
   ],
   "source": [
    "#!/usr/bin/env python\n",
    "\"\"\"\n",
    "Sample script that uses the SparseBayes module created using\n",
    "MATLAB Compiler SDK.\n",
    "\n",
    "Refer to the MATLAB Compiler SDK documentation for more information.\n",
    "\"\"\"\n",
    "\n",
    "from __future__ import print_function\n",
    "import SparseBayes\n",
    "import matlab\n",
    "\n",
    "my_SparseBayes = SparseBayes.initialize()\n",
    "\n",
    "DictIn = matlab.double(Dict, size=(D.shape[0], D.shape[1]))\n",
    "targetIn = matlab.double(xdts, size=(D.shape[0], 1))\n",
    "DMOut = my_SparseBayes.SparseBayes(DictIn, targetIn)\n",
    "print(DMOut, sep='\\n')\n",
    "\n",
    "my_SparseBayes.terminate()"
   ]
  },
  {
   "cell_type": "code",
   "execution_count": null,
   "metadata": {},
   "outputs": [],
   "source": [
    "c = np.array(DMOut['Value'])\n",
    "d = []\n",
    "for j in c:\n",
    "    d.append(j[0])\n",
    "    \n",
    "a = np.array(DMOut['Relevant'])\n",
    "b = []\n",
    "for i in a:\n",
    "    b.append(int((i[0])-1))\n",
    "    \n",
    "initz0 = np.zeros(D.shape[1])\n",
    "for i in b:\n",
    "    initz0[i] = 1\n",
    "    \n",
    "print(initz0)"
   ]
  },
  {
   "cell_type": "code",
   "execution_count": null,
   "metadata": {},
   "outputs": [],
   "source": [
    "D_std = np.std(D[:,1:],axis = 0)\n",
    "D_std1 = D_std.reshape(1,-1)\n",
    "D1 = D*np.diag(1/D_std1)\n",
    "\n",
    "X = D1[:,1:]\n",
    "y = xdts\n",
    "initz0 = initz0[1:]\n",
    "tol = 0.0001\n",
    "verbosity = True\n",
    "DS = Variational_Bayes_Code(X, y, initz0, tol, verbosity)\n",
    "print(DS)"
   ]
  },
  {
   "cell_type": "code",
   "execution_count": 15,
   "metadata": {
    "scrolled": true
   },
   "outputs": [
    {
     "name": "stdout",
     "output_type": "stream",
     "text": [
      "2.010651978135515\n",
      "2995.303927591743\n",
      "-3.991046283337433\n",
      "-5992.480161357249\n",
      "2.011565108911237\n",
      "2996.3421381542726\n"
     ]
    },
    {
     "data": {
      "image/png": "[encoded data removed]",
      "text/plain": [
       "<Figure size 432x288 with 1 Axes>"
      ]
     },
     "metadata": {
      "needs_background": "light"
     },
     "output_type": "display_data"
    }
   ],
   "source": [
    "plt.stem(DS['zmean'])   \n",
    "\n",
    "for i in DS[\"modelIdx\"]:\n",
    "    print((((DS[\"wmean\"][1:]) / (D_std))).reshape(-1)[i])"
   ]
  },
  {
   "cell_type": "markdown",
   "metadata": {},
   "source": [
    "# Drift 10"
   ]
  },
  {
   "cell_type": "code",
   "execution_count": 17,
   "metadata": {},
   "outputs": [],
   "source": [
    "xdts = xz12"
   ]
  },
  {
   "cell_type": "code",
   "execution_count": 18,
   "metadata": {},
   "outputs": [
    {
     "name": "stdout",
     "output_type": "stream",
     "text": [
      "{'Relevant': matlab.double([[4.0],[5.0],[6.0],[7.0],[8.0],[9.0],[10.0],[12.0],[25.0],[34.0],[35.0],[56.0],[58.0],[70.0],[78.0],[81.0]]), 'Value': matlab.double([[2.0947562301891995],[3002.303157061329],[-3.9335191417010056],[-6002.806203541559],[2.0265727102756466],[2996.855785126185],[0.047042920776786463],[0.01137534571845723],[-0.1255988884166305],[-0.005407371619823657],[-0.22010065225687234],[-0.009606439452144464],[0.20209545515724933],[-0.0028363828214667966],[0.03867282519695779],[11.549612913779638]])}\n"
     ]
    }
   ],
   "source": [
    "#!/usr/bin/env python\n",
    "\"\"\"\n",
    "Sample script that uses the SparseBayes module created using\n",
    "MATLAB Compiler SDK.\n",
    "\n",
    "Refer to the MATLAB Compiler SDK documentation for more information.\n",
    "\"\"\"\n",
    "\n",
    "from __future__ import print_function\n",
    "import SparseBayes\n",
    "import matlab\n",
    "\n",
    "my_SparseBayes = SparseBayes.initialize()\n",
    "\n",
    "DictIn = matlab.double(Dict, size=(D.shape[0], D.shape[1]))\n",
    "targetIn = matlab.double(xdts, size=(D.shape[0], 1))\n",
    "DMOut = my_SparseBayes.SparseBayes(DictIn, targetIn)\n",
    "print(DMOut, sep='\\n')\n",
    "\n",
    "my_SparseBayes.terminate()"
   ]
  },
  {
   "cell_type": "code",
   "execution_count": null,
   "metadata": {},
   "outputs": [],
   "source": [
    "c = np.array(DMOut['Value'])\n",
    "d = []\n",
    "for j in c:\n",
    "    d.append(j[0])\n",
    "    \n",
    "a = np.array(DMOut['Relevant'])\n",
    "b = []\n",
    "for i in a:\n",
    "    b.append(int((i[0])-1))\n",
    "    \n",
    "initz0 = np.zeros(D.shape[1])\n",
    "for i in b:\n",
    "    initz0[i] = 1\n",
    "    \n",
    "print(initz0)"
   ]
  },
  {
   "cell_type": "code",
   "execution_count": null,
   "metadata": {},
   "outputs": [],
   "source": [
    "X = D1[:,1:]\n",
    "y = xdts\n",
    "initz0 = initz0[1:]\n",
    "tol = 0.0001\n",
    "verbosity = True\n",
    "DS = Variational_Bayes_Code(X, y, initz0, tol, verbosity)\n",
    "print(DS)"
   ]
  },
  {
   "cell_type": "code",
   "execution_count": 21,
   "metadata": {},
   "outputs": [
    {
     "name": "stdout",
     "output_type": "stream",
     "text": [
      "1.9891507455464754\n",
      "2997.225156924738\n",
      "-3.9954768388570536\n",
      "-5993.755010355408\n",
      "1.9979328203945448\n",
      "2996.4422466945043\n"
     ]
    },
    {
     "data": {
      "image/png": "[encoded data removed]",
      "text/plain": [
       "<Figure size 432x288 with 1 Axes>"
      ]
     },
     "metadata": {
      "needs_background": "light"
     },
     "output_type": "display_data"
    }
   ],
   "source": [
    "plt.stem(DS['zmean'])   \n",
    "\n",
    "for i in DS[\"modelIdx\"]:\n",
    "    print((((DS[\"wmean\"][1:]) / (D_std))).reshape(-1)[i])"
   ]
  },
  {
   "cell_type": "markdown",
   "metadata": {},
   "source": [
    "# Drift 9"
   ]
  },
  {
   "cell_type": "code",
   "execution_count": 2,
   "metadata": {},
   "outputs": [],
   "source": [
    "import numpy as np\n",
    "import matplotlib.pyplot as plt\n",
    "\"\"\"\n",
    "A MDOF system excited by random noise\n",
    "----------------------------------------------------------------------\n",
    "\"\"\"\n",
    "\n",
    "def drift_mat(dof,k,c,m):\n",
    "    dim = 2 * dof\n",
    "    A = np.zeros((dim,dim))\n",
    "    \n",
    "    for i in range(dim):\n",
    "        if (i%2 == 0):\n",
    "            A[i][i+1] = 1\n",
    "    \n",
    "        elif(i==1):\n",
    "            A[i][i-1] = -(k+k)/m\n",
    "            A[i][i] = -(c+c)/m\n",
    "            A[i][i+1] = k/m\n",
    "            A[i][i+2] = c/m\n",
    "    \n",
    "        elif(i==dim-1):\n",
    "            A[i][i] = -c/m\n",
    "            A[i][i-1] = -k/m\n",
    "            A[i][i-2] = c/m\n",
    "            A[i][i-3] = k/m\n",
    "            \n",
    "        else:\n",
    "            A[i][i-3] = k/m \n",
    "            A[i][i-2] = c/m\n",
    "            A[i][i-1] = -(k+k)/m\n",
    "            A[i][i] = -(c+c)/m\n",
    "            A[i][i+1] = k/m\n",
    "            A[i][i+2] = c/m\n",
    "    return A\n",
    "\n",
    "def M_DOF_sys(x_initial, dof, T):\n",
    "    # parameters of M_DOF_sys in Equation\n",
    "    m = 1\n",
    "    c = 2\n",
    "    k = 3000\n",
    "    mu = 1\n",
    "    g = 9.81\n",
    "    sigma = 1\n",
    "    \n",
    "    # solution by euler maruyama\n",
    "    # -------------------------------------------------------\n",
    "    dt = 0.001\n",
    "    t = np.arange(0, T+dt, dt)\n",
    "    Nsamp = 100 # no. of samples in the run\n",
    "\n",
    "    y23 = []\n",
    "    y24 = []\n",
    "    y25 = []\n",
    "    y26 = []\n",
    "    y27 = []\n",
    "    y28 = []\n",
    "    y29 = []\n",
    "    y30 = []\n",
    "    \n",
    "    xz13 = []\n",
    "    xz14 = []\n",
    "    \n",
    "    xzs13 = []\n",
    "    xzs14 = []\n",
    "    \n",
    "    # Simulation Starts Here :\n",
    "    # -------------------------------------------------------\n",
    "    for ensemble in range(Nsamp):\n",
    "        x0 = x_initial\n",
    "        x = x0                              # initial condition.\n",
    "        for n in range(len(t)-1):\n",
    "            dW = np.sqrt(dt)*np.random.randn(2*dof)\n",
    "            \n",
    "            '''LINEAR PART DRIFT'''\n",
    "        \n",
    "            A = drift_mat(dof,k,c,m)\n",
    "            \n",
    "            '''DIFFUSION TERM  = b'''\n",
    "            diffu_arr = np.zeros(2*dof)\n",
    "            for i in range(2*dof):\n",
    "                if (i%2 != 0):\n",
    "                    diffu_arr[i] = sigma/m\n",
    "            \n",
    "            soln_arr = x0 + np.matmul(A,x0)*dt + diffu_arr*dW        \n",
    "            x0 = soln_arr\n",
    "            x = np.column_stack((x, x0))\n",
    "            \n",
    "        y23.append(x[-23,:])                \n",
    "        y24.append(x[-24,:])\n",
    "        y25.append(x[-25,:])         # Displacement      \n",
    "        y26.append(x[-26,:])\n",
    "        y27.append(x[-27,:])         # Displacement       \n",
    "        y28.append(x[-28,:])\n",
    "        y29.append(x[-29,:])                \n",
    "        y30.append(x[-30,:])\n",
    "\n",
    "        \n",
    "        zint13 = x[-25, 0:-1]        # Velocity\n",
    "        xfinal13 = x[-25, 1:] \n",
    "        xmz13 = (xfinal13 - zint13)\n",
    "        \n",
    "        zint14 = x[-27, 0:-1]        # Velocity\n",
    "        xfinal14 = x[-27, 1:] \n",
    "        xmz14 = (xfinal14 - zint14) \n",
    "\n",
    "        xz13.append(xmz13)\n",
    "        xz14.append(xmz14)\n",
    "        \n",
    "        xmzsq13 = np.multiply(xmz13, xmz13)\n",
    "        xzs13.append(xmzsq13)\n",
    "        \n",
    "        xmzsq14 = np.multiply(xmz14, xmz14)\n",
    "        xzs14.append(xmzsq14)\n",
    "        \n",
    "    xz13 = pow(dt,-1)*np.mean(np.array(xz13), axis = 0)\n",
    "    xz14 = pow(dt,-1)*np.mean(np.array(xz14), axis = 0)\n",
    "\n",
    "    xzs13 = pow(dt,-1)*np.mean(np.array(xzs13), axis = 0)\n",
    "    xzs14 = pow(dt,-1)*np.mean(np.array(xzs14), axis = 0)\n",
    "\n",
    "    y23 = np.array(y23)\n",
    "    y24 = np.array(y24)\n",
    "    y25 = np.array(y25)\n",
    "    y26 = np.array(y26)\n",
    "    y27 = np.array(y27)\n",
    "    y28 = np.array(y28)\n",
    "    y29 = np.array(y29)\n",
    "    y30 = np.array(y30)\n",
    "\n",
    "    time = t[0:-1]\n",
    "    return xz13, xz14, xzs13, xzs14, y23, y24, y25, y26, y27, y28, y29, y30, time"
   ]
  },
  {
   "cell_type": "code",
   "execution_count": 4,
   "metadata": {},
   "outputs": [],
   "source": [
    "xz13, xz14, xzs13, xzs14, y23, y24, y25, y26, y27, y28, y29, y30, time = M_DOF_sys(x_initial, dof, T)"
   ]
  },
  {
   "cell_type": "code",
   "execution_count": 5,
   "metadata": {},
   "outputs": [],
   "source": [
    "# Expected Dictionary Creation:\n",
    "libr = []\n",
    "for j in range(len(y23)):\n",
    "    data = np.row_stack((y23[j,0:-1], y24[j,0:-1], y25[j,0:-1], y26[j,0:-1], y27[j,0:-1], y28[j,0:-1], y29[j,0:-1], y30[j,0:-1]))\n",
    "    Dtemp, nl = library(data, 1, 0)\n",
    "    libr.append(Dtemp)\n",
    "libr = np.array(libr)\n",
    "Dictionary= np.mean(libr, axis = 0)"
   ]
  },
  {
   "cell_type": "code",
   "execution_count": 6,
   "metadata": {},
   "outputs": [],
   "source": [
    "xdts = xz13\n",
    "D = Dictionary"
   ]
  },
  {
   "cell_type": "code",
   "execution_count": 8,
   "metadata": {},
   "outputs": [
    {
     "data": {
      "text/plain": [
       "(81000,)"
      ]
     },
     "execution_count": 8,
     "metadata": {},
     "output_type": "execute_result"
    }
   ],
   "source": [
    "Dict = D.reshape(-1,order='F')\n",
    "Dict.shape"
   ]
  },
  {
   "cell_type": "code",
   "execution_count": 9,
   "metadata": {
    "scrolled": true
   },
   "outputs": [
    {
     "name": "stdout",
     "output_type": "stream",
     "text": [
      "{'Relevant': matlab.double([[2.0],[3.0],[4.0],[5.0],[6.0],[7.0],[16.0],[21.0],[24.0],[41.0],[50.0],[51.0],[54.0],[80.0]]), 'Value': matlab.double([[2.0494177709605625],[2999.5208222694428],[-3.973132414038348],[-6000.241308422703],[2.0673863626717743],[3000.6117374653804],[0.032185509489896354],[-0.23441800290747386],[-0.00038022529537210594],[-0.12907590797748886],[-0.004037861593118605],[0.02023941498377549],[-0.007232801914751861],[-0.03153903480120698]])}\n"
     ]
    }
   ],
   "source": [
    "#!/usr/bin/env python\n",
    "\"\"\"\n",
    "Sample script that uses the SparseBayes module created using\n",
    "MATLAB Compiler SDK.\n",
    "\n",
    "Refer to the MATLAB Compiler SDK documentation for more information.\n",
    "\"\"\"\n",
    "\n",
    "from __future__ import print_function\n",
    "import SparseBayes\n",
    "import matlab\n",
    "\n",
    "my_SparseBayes = SparseBayes.initialize()\n",
    "\n",
    "DictIn = matlab.double(Dict, size=(D.shape[0], D.shape[1]))\n",
    "targetIn = matlab.double(xdts, size=(D.shape[0], 1))\n",
    "DMOut = my_SparseBayes.SparseBayes(DictIn, targetIn)\n",
    "print(DMOut, sep='\\n')\n",
    "\n",
    "my_SparseBayes.terminate()"
   ]
  },
  {
   "cell_type": "code",
   "execution_count": null,
   "metadata": {},
   "outputs": [],
   "source": [
    "c = np.array(DMOut['Value'])\n",
    "d = []\n",
    "for j in c:\n",
    "    d.append(j[0])\n",
    "    \n",
    "a = np.array(DMOut['Relevant'])\n",
    "b = []\n",
    "for i in a:\n",
    "    b.append(int((i[0])-1))\n",
    "    \n",
    "initz0 = np.zeros(D.shape[1])\n",
    "for i in b:\n",
    "    initz0[i] = 1\n",
    "    \n",
    "print(initz0)"
   ]
  },
  {
   "cell_type": "code",
   "execution_count": null,
   "metadata": {},
   "outputs": [],
   "source": [
    "D_std = np.std(D[:,1:],axis = 0)\n",
    "D_std1 = D_std.reshape(1,-1)\n",
    "D1 = D*np.diag(1/D_std1)\n",
    "\n",
    "X = D1[:,1:]\n",
    "y = xdts\n",
    "initz0 = initz0[1:]\n",
    "tol = 0.0001\n",
    "verbosity = True\n",
    "DS = Variational_Bayes_Code(X, y, initz0, tol, verbosity)\n",
    "print(DS)"
   ]
  },
  {
   "cell_type": "code",
   "execution_count": 14,
   "metadata": {
    "scrolled": true
   },
   "outputs": [
    {
     "name": "stdout",
     "output_type": "stream",
     "text": [
      "1.994151369277238\n",
      "2996.4682007949355\n",
      "-4.008009864622892\n",
      "-5994.161063061209\n",
      "1.9737644876973743\n",
      "2997.002237861422\n"
     ]
    },
    {
     "data": {
      "image/png": "[encoded data removed]",
      "text/plain": [
       "<Figure size 432x288 with 1 Axes>"
      ]
     },
     "metadata": {
      "needs_background": "light"
     },
     "output_type": "display_data"
    }
   ],
   "source": [
    "plt.stem(DS['zmean'])   \n",
    "\n",
    "for i in DS[\"modelIdx\"]:\n",
    "    print((((DS[\"wmean\"][1:]) / (D_std))).reshape(-1)[i])"
   ]
  },
  {
   "cell_type": "markdown",
   "metadata": {},
   "source": [
    "# Drift 8"
   ]
  },
  {
   "cell_type": "code",
   "execution_count": 16,
   "metadata": {},
   "outputs": [],
   "source": [
    "xdts = xz14"
   ]
  },
  {
   "cell_type": "code",
   "execution_count": 17,
   "metadata": {
    "scrolled": true
   },
   "outputs": [
    {
     "name": "stdout",
     "output_type": "stream",
     "text": [
      "{'Relevant': matlab.double([[4.0],[5.0],[6.0],[7.0],[8.0],[9.0],[14.0],[19.0],[41.0],[50.0],[52.0],[69.0],[77.0],[80.0]]), 'Value': matlab.double([[1.9948326308230002],[3000.2440507069778],[-4.03680022247471],[-5998.896421590446],[2.0229549581926616],[3001.244773539589],[0.019170846525850334],[0.13270665801793],[0.04569823721204426],[0.006056402735104848],[0.00207608565838798],[-0.08061220889115954],[-2.9906168799353163],[-0.2271498449270689]])}\n"
     ]
    }
   ],
   "source": [
    "#!/usr/bin/env python\n",
    "\"\"\"\n",
    "Sample script that uses the SparseBayes module created using\n",
    "MATLAB Compiler SDK.\n",
    "\n",
    "Refer to the MATLAB Compiler SDK documentation for more information.\n",
    "\"\"\"\n",
    "\n",
    "from __future__ import print_function\n",
    "import SparseBayes\n",
    "import matlab\n",
    "\n",
    "my_SparseBayes = SparseBayes.initialize()\n",
    "\n",
    "DictIn = matlab.double(Dict, size=(D.shape[0], D.shape[1]))\n",
    "targetIn = matlab.double(xdts, size=(D.shape[0], 1))\n",
    "DMOut = my_SparseBayes.SparseBayes(DictIn, targetIn)\n",
    "print(DMOut, sep='\\n')\n",
    "\n",
    "my_SparseBayes.terminate()"
   ]
  },
  {
   "cell_type": "code",
   "execution_count": null,
   "metadata": {},
   "outputs": [],
   "source": [
    "c = np.array(DMOut['Value'])\n",
    "d = []\n",
    "for j in c:\n",
    "    d.append(j[0])\n",
    "    \n",
    "a = np.array(DMOut['Relevant'])\n",
    "b = []\n",
    "for i in a:\n",
    "    b.append(int((i[0])-1))\n",
    "    \n",
    "initz0 = np.zeros(D.shape[1])\n",
    "for i in b:\n",
    "    initz0[i] = 1\n",
    "    \n",
    "print(initz0)"
   ]
  },
  {
   "cell_type": "code",
   "execution_count": null,
   "metadata": {},
   "outputs": [],
   "source": [
    "X = D1[:,1:]\n",
    "y = xdts\n",
    "initz0 = initz0[1:]\n",
    "tol = 0.0001\n",
    "verbosity = True\n",
    "DS = Variational_Bayes_Code(X, y, initz0, tol, verbosity)\n",
    "print(DS)"
   ]
  },
  {
   "cell_type": "code",
   "execution_count": 20,
   "metadata": {},
   "outputs": [
    {
     "name": "stdout",
     "output_type": "stream",
     "text": [
      "2.0131723478710017\n",
      "2996.496308680628\n",
      "-3.9880382130431014\n",
      "-5992.291368239411\n",
      "1.9961713333240416\n",
      "2995.8048619707147\n"
     ]
    },
    {
     "data": {
      "image/png": "[encoded data removed]",
      "text/plain": [
       "<Figure size 432x288 with 1 Axes>"
      ]
     },
     "metadata": {
      "needs_background": "light"
     },
     "output_type": "display_data"
    }
   ],
   "source": [
    "plt.stem(DS['zmean'])   \n",
    "\n",
    "for i in DS[\"modelIdx\"]:\n",
    "    print((((DS[\"wmean\"][1:]) / (D_std))).reshape(-1)[i])"
   ]
  },
  {
   "cell_type": "markdown",
   "metadata": {},
   "source": [
    "# Drift 7"
   ]
  },
  {
   "cell_type": "code",
   "execution_count": 2,
   "metadata": {},
   "outputs": [],
   "source": [
    "import numpy as np\n",
    "import matplotlib.pyplot as plt\n",
    "\"\"\"\n",
    "A MDOF system excited by random noise\n",
    "----------------------------------------------------------------------\n",
    "\"\"\"\n",
    "\n",
    "def drift_mat(dof,k,c,m):\n",
    "    dim = 2 * dof\n",
    "    A = np.zeros((dim,dim))\n",
    "    \n",
    "    for i in range(dim):\n",
    "        if (i%2 == 0):\n",
    "            A[i][i+1] = 1\n",
    "    \n",
    "        elif(i==1):\n",
    "            A[i][i-1] = -(k+k)/m\n",
    "            A[i][i] = -(c+c)/m\n",
    "            A[i][i+1] = k/m\n",
    "            A[i][i+2] = c/m\n",
    "    \n",
    "        elif(i==dim-1):\n",
    "            A[i][i] = -c/m\n",
    "            A[i][i-1] = -k/m\n",
    "            A[i][i-2] = c/m\n",
    "            A[i][i-3] = k/m\n",
    "            \n",
    "        else:\n",
    "            A[i][i-3] = k/m \n",
    "            A[i][i-2] = c/m\n",
    "            A[i][i-1] = -(k+k)/m\n",
    "            A[i][i] = -(c+c)/m\n",
    "            A[i][i+1] = k/m\n",
    "            A[i][i+2] = c/m\n",
    "    return A\n",
    "\n",
    "def M_DOF_sys(x_initial, dof, T):\n",
    "    # parameters of M_DOF_sys in Equation\n",
    "    m = 1\n",
    "    c = 2\n",
    "    k = 3000\n",
    "    mu = 1\n",
    "    g = 9.81\n",
    "    sigma = 1\n",
    "    \n",
    "    # solution by euler maruyama\n",
    "    # -------------------------------------------------------\n",
    "    dt = 0.001\n",
    "    t = np.arange(0, T+dt, dt)\n",
    "    Nsamp = 100 # no. of samples in the run\n",
    "\n",
    "    y27 = []\n",
    "    y28 = []\n",
    "    y29 = []\n",
    "    y30 = []\n",
    "    y31 = []\n",
    "    y32 = []\n",
    "    y33 = []\n",
    "    y34 = []\n",
    "    \n",
    "    xz15 = []\n",
    "    xz16 = []\n",
    "    \n",
    "    xzs15 = []\n",
    "    xzs16 = []\n",
    "    \n",
    "    # Simulation Starts Here :\n",
    "    # -------------------------------------------------------\n",
    "    for ensemble in range(Nsamp):\n",
    "        x0 = x_initial\n",
    "        x = x0                              # initial condition.\n",
    "        for n in range(len(t)-1):\n",
    "            dW = np.sqrt(dt)*np.random.randn(2*dof)\n",
    "            \n",
    "            '''LINEAR PART DRIFT'''\n",
    "        \n",
    "            A = drift_mat(dof,k,c,m)\n",
    "            \n",
    "            '''DIFFUSION TERM  = b'''\n",
    "            diffu_arr = np.zeros(2*dof)\n",
    "            for i in range(2*dof):\n",
    "                if (i%2 != 0):\n",
    "                    diffu_arr[i] = sigma/m\n",
    "            \n",
    "            soln_arr = x0 + np.matmul(A,x0)*dt + diffu_arr*dW        \n",
    "            x0 = soln_arr\n",
    "            x = np.column_stack((x, x0))\n",
    "            \n",
    "        y27.append(x[-27,:])               \n",
    "        y28.append(x[-28,:])\n",
    "        y29.append(x[-29,:])         # Displacement     \n",
    "        y30.append(x[-30,:])\n",
    "        y31.append(x[-31,:])         # Displacement       \n",
    "        y32.append(x[-32,:])\n",
    "        y33.append(x[-33,:])               \n",
    "        y34.append(x[-34,:])\n",
    "\n",
    "        \n",
    "        zint15 = x[-29, 0:-1]        # Velocity\n",
    "        xfinal15 = x[-29, 1:] \n",
    "        xmz15 = (xfinal15 - zint15)\n",
    "        \n",
    "        zint16 = x[-31, 0:-1]        # Velocity\n",
    "        xfinal16 = x[-31, 1:] \n",
    "        xmz16 = (xfinal16 - zint16) \n",
    "\n",
    "        xz15.append(xmz15)\n",
    "        xz16.append(xmz16)\n",
    "        \n",
    "        xmzsq15 = np.multiply(xmz15, xmz15)\n",
    "        xzs15.append(xmzsq15)\n",
    "        \n",
    "        xmzsq16 = np.multiply(xmz16, xmz16)\n",
    "        xzs16.append(xmzsq16)\n",
    "        \n",
    "    xz15 = pow(dt,-1)*np.mean(np.array(xz15), axis = 0)\n",
    "    xz16 = pow(dt,-1)*np.mean(np.array(xz16), axis = 0)\n",
    "\n",
    "    xzs15 = pow(dt,-1)*np.mean(np.array(xzs15), axis = 0)\n",
    "    xzs16 = pow(dt,-1)*np.mean(np.array(xzs16), axis = 0)\n",
    "\n",
    "    y27 = np.array(y27)\n",
    "    y28 = np.array(y28)\n",
    "    y29 = np.array(y29)\n",
    "    y30 = np.array(y30)\n",
    "    y31 = np.array(y31)\n",
    "    y32 = np.array(y32)\n",
    "    y33 = np.array(y33)\n",
    "    y34 = np.array(y34)\n",
    "\n",
    "    time = t[0:-1]\n",
    "    return xz15, xz16, xzs15, xzs16, y27, y28, y29, y30, y31, y32, y33, y34, time"
   ]
  },
  {
   "cell_type": "code",
   "execution_count": 4,
   "metadata": {},
   "outputs": [],
   "source": [
    "xz15, xz16, xzs15, xzs16, y27, y28, y29, y30, y31, y32, y33, y34, time = M_DOF_sys(x_initial, dof, T)"
   ]
  },
  {
   "cell_type": "code",
   "execution_count": 5,
   "metadata": {},
   "outputs": [],
   "source": [
    "# Expected Dictionary Creation:\n",
    "libr = []\n",
    "for j in range(len(y27)):\n",
    "    data = np.row_stack((y27[j,0:-1], y28[j,0:-1], y29[j,0:-1], y30[j,0:-1], y31[j,0:-1], y32[j,0:-1], y33[j,0:-1], y34[j,0:-1]))\n",
    "    Dtemp, nl = library(data, 1, 0)\n",
    "    libr.append(Dtemp)\n",
    "libr = np.array(libr)\n",
    "Dictionary= np.mean(libr, axis = 0)"
   ]
  },
  {
   "cell_type": "code",
   "execution_count": 6,
   "metadata": {},
   "outputs": [],
   "source": [
    "xdts = xz15\n",
    "D = Dictionary"
   ]
  },
  {
   "cell_type": "code",
   "execution_count": null,
   "metadata": {},
   "outputs": [],
   "source": [
    "Dict = D.reshape(-1,order='F')"
   ]
  },
  {
   "cell_type": "code",
   "execution_count": 9,
   "metadata": {
    "scrolled": true
   },
   "outputs": [
    {
     "name": "stdout",
     "output_type": "stream",
     "text": [
      "{'Relevant': matlab.double([[2.0],[3.0],[4.0],[5.0],[6.0],[7.0],[18.0],[24.0],[58.0],[74.0]]), 'Value': matlab.double([[2.049437029315179],[2999.369395117641],[-3.993238339587459],[-5998.389282307299],[1.9866534152148765],[2999.99967241746],[-0.0017327477004483653],[-0.005471157566450552],[-0.06921224233674853],[-0.1421577433242704]])}\n"
     ]
    }
   ],
   "source": [
    "#!/usr/bin/env python\n",
    "\"\"\"\n",
    "Sample script that uses the SparseBayes module created using\n",
    "MATLAB Compiler SDK.\n",
    "\n",
    "Refer to the MATLAB Compiler SDK documentation for more information.\n",
    "\"\"\"\n",
    "\n",
    "from __future__ import print_function\n",
    "import SparseBayes\n",
    "import matlab\n",
    "\n",
    "my_SparseBayes = SparseBayes.initialize()\n",
    "\n",
    "DictIn = matlab.double(Dict, size=(D.shape[0], D.shape[1]))\n",
    "targetIn = matlab.double(xdts, size=(D.shape[0], 1))\n",
    "DMOut = my_SparseBayes.SparseBayes(DictIn, targetIn)\n",
    "print(DMOut, sep='\\n')\n",
    "\n",
    "my_SparseBayes.terminate()"
   ]
  },
  {
   "cell_type": "code",
   "execution_count": null,
   "metadata": {},
   "outputs": [],
   "source": [
    "c = np.array(DMOut['Value'])\n",
    "d = []\n",
    "for j in c:\n",
    "    d.append(j[0])\n",
    "    \n",
    "a = np.array(DMOut['Relevant'])\n",
    "b = []\n",
    "for i in a:\n",
    "    b.append(int((i[0])-1))\n",
    "    \n",
    "initz0 = np.zeros(D.shape[1])\n",
    "for i in b:\n",
    "    initz0[i] = 1\n",
    "    \n",
    "print(initz0)"
   ]
  },
  {
   "cell_type": "code",
   "execution_count": null,
   "metadata": {},
   "outputs": [],
   "source": [
    "D_std = np.std(D[:,1:],axis = 0)\n",
    "D_std1 = D_std.reshape(1,-1)\n",
    "D1 = D*np.diag(1/D_std1)\n",
    "\n",
    "X = D1[:,1:]\n",
    "y = xdts\n",
    "initz0 = initz0[1:]\n",
    "tol = 0.0001\n",
    "verbosity = True\n",
    "DS = Variational_Bayes_Code(X, y, initz0, tol, verbosity)\n",
    "print(DS)"
   ]
  },
  {
   "cell_type": "code",
   "execution_count": 14,
   "metadata": {
    "scrolled": true
   },
   "outputs": [
    {
     "name": "stdout",
     "output_type": "stream",
     "text": [
      "1.9834191248660422\n",
      "2994.1484681705238\n",
      "-3.997373785900647\n",
      "-5987.325660253337\n",
      "1.9942890233748591\n",
      "2992.521744769699\n"
     ]
    },
    {
     "data": {
      "image/png": "[encoded data removed]",
      "text/plain": [
       "<Figure size 432x288 with 1 Axes>"
      ]
     },
     "metadata": {
      "needs_background": "light"
     },
     "output_type": "display_data"
    }
   ],
   "source": [
    "plt.stem(DS['zmean'])   \n",
    "\n",
    "for i in DS[\"modelIdx\"]:\n",
    "    print((((DS[\"wmean\"][1:]) / (D_std))).reshape(-1)[i])"
   ]
  },
  {
   "cell_type": "markdown",
   "metadata": {},
   "source": [
    "# Drift 6"
   ]
  },
  {
   "cell_type": "code",
   "execution_count": 16,
   "metadata": {},
   "outputs": [],
   "source": [
    "xdts = xz16"
   ]
  },
  {
   "cell_type": "code",
   "execution_count": 17,
   "metadata": {},
   "outputs": [
    {
     "name": "stdout",
     "output_type": "stream",
     "text": [
      "{'Relevant': matlab.double([[4.0],[5.0],[6.0],[7.0],[8.0],[9.0],[23.0],[26.0],[30.0],[45.0],[51.0],[55.0],[72.0],[81.0]]), 'Value': matlab.double([[1.989960534374894],[2997.559441866198],[-3.9813919137547282],[-5996.423202945348],[2.0743646870405423],[2995.789629028581],[0.1983466644568848],[-0.06768348551470409],[-0.04828973636853769],[2.496479415094337],[0.035026262242237656],[0.09452385465079714],[-0.007815610767826709],[8.248921888494484]])}\n"
     ]
    }
   ],
   "source": [
    "#!/usr/bin/env python\n",
    "\"\"\"\n",
    "Sample script that uses the SparseBayes module created using\n",
    "MATLAB Compiler SDK.\n",
    "\n",
    "Refer to the MATLAB Compiler SDK documentation for more information.\n",
    "\"\"\"\n",
    "\n",
    "from __future__ import print_function\n",
    "import SparseBayes\n",
    "import matlab\n",
    "\n",
    "my_SparseBayes = SparseBayes.initialize()\n",
    "\n",
    "DictIn = matlab.double(Dict, size=(D.shape[0], D.shape[1]))\n",
    "targetIn = matlab.double(xdts, size=(D.shape[0], 1))\n",
    "DMOut = my_SparseBayes.SparseBayes(DictIn, targetIn)\n",
    "print(DMOut, sep='\\n')\n",
    "\n",
    "my_SparseBayes.terminate()"
   ]
  },
  {
   "cell_type": "code",
   "execution_count": null,
   "metadata": {},
   "outputs": [],
   "source": [
    "c = np.array(DMOut['Value'])\n",
    "d = []\n",
    "for j in c:\n",
    "    d.append(j[0])\n",
    "    \n",
    "a = np.array(DMOut['Relevant'])\n",
    "b = []\n",
    "for i in a:\n",
    "    b.append(int((i[0])-1))\n",
    "    \n",
    "initz0 = np.zeros(D.shape[1])\n",
    "for i in b:\n",
    "    initz0[i] = 1\n",
    "    \n",
    "print(initz0)"
   ]
  },
  {
   "cell_type": "code",
   "execution_count": null,
   "metadata": {},
   "outputs": [],
   "source": [
    "X = D1[:,1:]\n",
    "y = xdts\n",
    "initz0 = initz0[1:]\n",
    "tol = 0.0001\n",
    "verbosity = True\n",
    "DS = Variational_Bayes_Code(X, y, initz0, tol, verbosity)\n",
    "print(DS)"
   ]
  },
  {
   "cell_type": "code",
   "execution_count": 20,
   "metadata": {},
   "outputs": [
    {
     "name": "stdout",
     "output_type": "stream",
     "text": [
      "1.98562902096774\n",
      "2992.852521317974\n",
      "-3.9763036937142964\n",
      "-5987.567329167563\n",
      "1.9988779200040339\n",
      "2994.566374614491\n"
     ]
    },
    {
     "data": {
      "image/png": "[encoded data removed]",
      "text/plain": [
       "<Figure size 432x288 with 1 Axes>"
      ]
     },
     "metadata": {
      "needs_background": "light"
     },
     "output_type": "display_data"
    }
   ],
   "source": [
    "plt.stem(DS['zmean'])   \n",
    "\n",
    "for i in DS[\"modelIdx\"]:\n",
    "    print((((DS[\"wmean\"][1:]) / (D_std))).reshape(-1)[i])"
   ]
  },
  {
   "cell_type": "markdown",
   "metadata": {},
   "source": [
    "# Drift 5"
   ]
  },
  {
   "cell_type": "code",
   "execution_count": 2,
   "metadata": {},
   "outputs": [],
   "source": [
    "import numpy as np\n",
    "import matplotlib.pyplot as plt\n",
    "\"\"\"\n",
    "A MDOF system excited by random noise\n",
    "----------------------------------------------------------------------\n",
    "\"\"\"\n",
    "\n",
    "def drift_mat(dof,k,c,m):\n",
    "    dim = 2 * dof\n",
    "    A = np.zeros((dim,dim))\n",
    "    \n",
    "    for i in range(dim):\n",
    "        if (i%2 == 0):\n",
    "            A[i][i+1] = 1\n",
    "    \n",
    "        elif(i==1):\n",
    "            A[i][i-1] = -(k+k)/m\n",
    "            A[i][i] = -(c+c)/m\n",
    "            A[i][i+1] = k/m\n",
    "            A[i][i+2] = c/m\n",
    "    \n",
    "        elif(i==dim-1):\n",
    "            A[i][i] = -c/m\n",
    "            A[i][i-1] = -k/m\n",
    "            A[i][i-2] = c/m\n",
    "            A[i][i-3] = k/m\n",
    "            \n",
    "        else:\n",
    "            A[i][i-3] = k/m \n",
    "            A[i][i-2] = c/m\n",
    "            A[i][i-1] = -(k+k)/m\n",
    "            A[i][i] = -(c+c)/m\n",
    "            A[i][i+1] = k/m\n",
    "            A[i][i+2] = c/m\n",
    "    return A\n",
    "\n",
    "def M_DOF_sys(x_initial, dof, T):\n",
    "    # parameters of M_DOF_sys in Equation\n",
    "    m = 1\n",
    "    c = 2\n",
    "    k = 3000\n",
    "    mu = 1\n",
    "    g = 9.81\n",
    "    sigma = 1\n",
    "    \n",
    "    # solution by euler maruyama\n",
    "    # -------------------------------------------------------\n",
    "    dt = 0.001\n",
    "    t = np.arange(0, T+dt, dt)\n",
    "    Nsamp = 100 # no. of samples in the run\n",
    "\n",
    "    y31 = []\n",
    "    y32 = []\n",
    "    y33 = []\n",
    "    y34 = []\n",
    "    y35 = []\n",
    "    y36 = []\n",
    "    y37 = []\n",
    "    y38 = []\n",
    "    \n",
    "    xz17 = []\n",
    "    xz18 = []\n",
    "    \n",
    "    xzs17 = []\n",
    "    xzs18 = []\n",
    "    \n",
    "    # Simulation Starts Here :\n",
    "    # -------------------------------------------------------\n",
    "    for ensemble in range(Nsamp):\n",
    "        x0 = x_initial\n",
    "        x = x0                              # initial condition.\n",
    "        for n in range(len(t)-1):\n",
    "            dW = np.sqrt(dt)*np.random.randn(2*dof)\n",
    "            \n",
    "            '''LINEAR PART DRIFT'''\n",
    "        \n",
    "            A = drift_mat(dof,k,c,m)\n",
    "            \n",
    "            '''DIFFUSION TERM  = b'''\n",
    "            diffu_arr = np.zeros(2*dof)\n",
    "            for i in range(2*dof):\n",
    "                if (i%2 != 0):\n",
    "                    diffu_arr[i] = sigma/m\n",
    "            \n",
    "            soln_arr = x0 + np.matmul(A,x0)*dt + diffu_arr*dW        \n",
    "            x0 = soln_arr\n",
    "            x = np.column_stack((x, x0))\n",
    "            \n",
    "        y31.append(x[-31,:])            \n",
    "        y32.append(x[-32,:])\n",
    "        y33.append(x[-33,:])         # Displacement     \n",
    "        y34.append(x[-34,:])\n",
    "        y35.append(x[-35,:])         # \n",
    "        y36.append(x[-36,:])              \n",
    "        y37.append(x[-37,:])\n",
    "        y38.append(x[-38,:])\n",
    "        \n",
    "        zint17 = x[-33, 0:-1]        # Velocity\n",
    "        xfinal17 = x[-33, 1:] \n",
    "        xmz17 = (xfinal17 - zint17)\n",
    "        \n",
    "        zint18 = x[-35, 0:-1]        # Velocity\n",
    "        xfinal18 = x[-35, 1:] \n",
    "        xmz18 = (xfinal18 - zint18) \n",
    "\n",
    "        xz17.append(xmz17)\n",
    "        xz18.append(xmz18)\n",
    "        \n",
    "        xmzsq17 = np.multiply(xmz17, xmz17)\n",
    "        xzs17.append(xmzsq17)\n",
    "        \n",
    "        xmzsq18 = np.multiply(xmz18, xmz18)\n",
    "        xzs18.append(xmzsq18)\n",
    "        \n",
    "    xz17 = pow(dt,-1)*np.mean(np.array(xz17), axis = 0)\n",
    "    xz18 = pow(dt,-1)*np.mean(np.array(xz18), axis = 0)\n",
    "\n",
    "    xzs17 = pow(dt,-1)*np.mean(np.array(xzs17), axis = 0)\n",
    "    xzs18 = pow(dt,-1)*np.mean(np.array(xzs18), axis = 0)\n",
    "\n",
    "    y31 = np.array(y31)\n",
    "    y32 = np.array(y32)\n",
    "    y33 = np.array(y33)\n",
    "    y34 = np.array(y34)\n",
    "    y35 = np.array(y35)\n",
    "    y36 = np.array(y36)\n",
    "    y37 = np.array(y37)\n",
    "    y38 = np.array(y38)\n",
    "\n",
    "    time = t[0:-1]\n",
    "    return xz17, xz18, xzs17, xzs18, y31, y32, y33, y34, y35, y36, y37, y38, time"
   ]
  },
  {
   "cell_type": "code",
   "execution_count": 4,
   "metadata": {},
   "outputs": [],
   "source": [
    "xz17, xz18, xzs17, xzs18, y31, y32, y33, y34, y35, y36, y37, y38, time = M_DOF_sys(x_initial, dof, T)"
   ]
  },
  {
   "cell_type": "code",
   "execution_count": 5,
   "metadata": {},
   "outputs": [],
   "source": [
    "# Expected Dictionary Creation:\n",
    "libr = []\n",
    "for j in range(len(y31)):\n",
    "    data = np.row_stack((y31[j,0:-1], y32[j,0:-1], y33[j,0:-1], y34[j,0:-1], y35[j,0:-1], y36[j,0:-1], y37[j,0:-1], y38[j,0:-1]))\n",
    "    Dtemp, nl = library(data, 1, 0)\n",
    "    libr.append(Dtemp)\n",
    "libr = np.array(libr)\n",
    "Dictionary= np.mean(libr, axis = 0)"
   ]
  },
  {
   "cell_type": "code",
   "execution_count": 6,
   "metadata": {},
   "outputs": [],
   "source": [
    "xdts = xz17\n",
    "D = Dictionary"
   ]
  },
  {
   "cell_type": "code",
   "execution_count": 8,
   "metadata": {},
   "outputs": [
    {
     "data": {
      "text/plain": [
       "(81000,)"
      ]
     },
     "execution_count": 8,
     "metadata": {},
     "output_type": "execute_result"
    }
   ],
   "source": [
    "Dict = D.reshape(-1,order='F')"
   ]
  },
  {
   "cell_type": "code",
   "execution_count": 9,
   "metadata": {
    "scrolled": true
   },
   "outputs": [
    {
     "name": "stdout",
     "output_type": "stream",
     "text": [
      "{'Relevant': matlab.double([[1.0],[2.0],[3.0],[4.0],[5.0],[6.0],[7.0],[20.0],[24.0],[38.0],[64.0]]), 'Value': matlab.double([[0.1327206429295249],[2.03076883879684],[2999.5610665844565],[-3.966499962328691],[-5998.5685426496575],[2.03348613175562],[2999.307780589279],[-0.005133986589619265],[0.0021209127271544616],[-0.00650790874627794],[0.10693922364577096]])}\n"
     ]
    }
   ],
   "source": [
    "#!/usr/bin/env python\n",
    "\"\"\"\n",
    "Sample script that uses the SparseBayes module created using\n",
    "MATLAB Compiler SDK.\n",
    "\n",
    "Refer to the MATLAB Compiler SDK documentation for more information.\n",
    "\"\"\"\n",
    "\n",
    "from __future__ import print_function\n",
    "import SparseBayes\n",
    "import matlab\n",
    "\n",
    "my_SparseBayes = SparseBayes.initialize()\n",
    "\n",
    "DictIn = matlab.double(Dict, size=(D.shape[0], D.shape[1]))\n",
    "targetIn = matlab.double(xdts, size=(D.shape[0], 1))\n",
    "DMOut = my_SparseBayes.SparseBayes(DictIn, targetIn)\n",
    "print(DMOut, sep='\\n')\n",
    "\n",
    "my_SparseBayes.terminate()"
   ]
  },
  {
   "cell_type": "code",
   "execution_count": null,
   "metadata": {},
   "outputs": [],
   "source": [
    "c = np.array(DMOut['Value'])\n",
    "d = []\n",
    "for j in c:\n",
    "    d.append(j[0])\n",
    "    \n",
    "a = np.array(DMOut['Relevant'])\n",
    "b = []\n",
    "for i in a:\n",
    "    b.append(int((i[0])-1))\n",
    "    \n",
    "initz0 = np.zeros(D.shape[1])\n",
    "for i in b:\n",
    "    initz0[i] = 1"
   ]
  },
  {
   "cell_type": "code",
   "execution_count": null,
   "metadata": {},
   "outputs": [],
   "source": [
    "D_std = np.std(D[:,1:],axis = 0)\n",
    "D_std1 = D_std.reshape(1,-1)\n",
    "D1 = D*np.diag(1/D_std1)\n",
    "\n",
    "X = D1[:,1:]\n",
    "y = xdts\n",
    "initz0 = initz0[1:]\n",
    "tol = 0.0001\n",
    "verbosity = True\n",
    "DS = Variational_Bayes_Code(X, y, initz0, tol, verbosity)\n",
    "print(DS)"
   ]
  },
  {
   "cell_type": "code",
   "execution_count": 14,
   "metadata": {
    "scrolled": true
   },
   "outputs": [
    {
     "name": "stdout",
     "output_type": "stream",
     "text": [
      "2.0064045864978093\n",
      "2994.4078519404666\n",
      "-4.012196463914909\n",
      "-5988.012296609312\n",
      "2.0060507756250177\n",
      "2993.4584411061032\n"
     ]
    },
    {
     "data": {
      "image/png": "[encoded data removed]",
      "text/plain": [
       "<Figure size 432x288 with 1 Axes>"
      ]
     },
     "metadata": {
      "needs_background": "light"
     },
     "output_type": "display_data"
    }
   ],
   "source": [
    "plt.stem(DS['zmean'])   \n",
    "\n",
    "for i in DS[\"modelIdx\"]:\n",
    "    print((((DS[\"wmean\"][1:]) / (D_std))).reshape(-1)[i])"
   ]
  },
  {
   "cell_type": "markdown",
   "metadata": {},
   "source": [
    "# Drift 4"
   ]
  },
  {
   "cell_type": "code",
   "execution_count": 16,
   "metadata": {},
   "outputs": [],
   "source": [
    "xdts = xz18"
   ]
  },
  {
   "cell_type": "code",
   "execution_count": 17,
   "metadata": {},
   "outputs": [
    {
     "name": "stdout",
     "output_type": "stream",
     "text": [
      "{'Relevant': matlab.double([[4.0],[5.0],[6.0],[7.0],[8.0],[9.0],[34.0],[51.0],[54.0],[64.0],[66.0],[68.0]]), 'Value': matlab.double([[1.9641123435919152],[2999.241097852081],[-3.945098074225355],[-5998.117774977731],[1.9955128872469095],[2997.114553245255],[0.007462414121757794],[-0.23871030169919955],[-0.0009161980234586679],[0.21912689427719875],[-0.003113388172250321],[0.00926530653233056]])}\n"
     ]
    }
   ],
   "source": [
    "#!/usr/bin/env python\n",
    "\"\"\"\n",
    "Sample script that uses the SparseBayes module created using\n",
    "MATLAB Compiler SDK.\n",
    "\n",
    "Refer to the MATLAB Compiler SDK documentation for more information.\n",
    "\"\"\"\n",
    "\n",
    "from __future__ import print_function\n",
    "import SparseBayes\n",
    "import matlab\n",
    "\n",
    "my_SparseBayes = SparseBayes.initialize()\n",
    "\n",
    "DictIn = matlab.double(Dict, size=(D.shape[0], D.shape[1]))\n",
    "targetIn = matlab.double(xdts, size=(D.shape[0], 1))\n",
    "DMOut = my_SparseBayes.SparseBayes(DictIn, targetIn)\n",
    "print(DMOut, sep='\\n')\n",
    "\n",
    "my_SparseBayes.terminate()"
   ]
  },
  {
   "cell_type": "code",
   "execution_count": null,
   "metadata": {},
   "outputs": [],
   "source": [
    "c = np.array(DMOut['Value'])\n",
    "d = []\n",
    "for j in c:\n",
    "    d.append(j[0])\n",
    "    \n",
    "a = np.array(DMOut['Relevant'])\n",
    "b = []\n",
    "for i in a:\n",
    "    b.append(int((i[0])-1))\n",
    "    \n",
    "initz0 = np.zeros(D.shape[1])\n",
    "for i in b:\n",
    "    initz0[i] = 1\n",
    "    \n",
    "print(initz0)"
   ]
  },
  {
   "cell_type": "code",
   "execution_count": null,
   "metadata": {},
   "outputs": [],
   "source": [
    "X = D1[:,1:]\n",
    "y = xdts\n",
    "initz0 = initz0[1:]\n",
    "tol = 0.0001\n",
    "verbosity = True\n",
    "DS = Variational_Bayes_Code(X, y, initz0, tol, verbosity)\n",
    "print(DS)"
   ]
  },
  {
   "cell_type": "code",
   "execution_count": 20,
   "metadata": {},
   "outputs": [
    {
     "name": "stdout",
     "output_type": "stream",
     "text": [
      "2.003870581443681\n",
      "2995.5104018460484\n",
      "-4.010279460375954\n",
      "-5989.784169905727\n",
      "1.9864022322107955\n",
      "2992.599722524427\n"
     ]
    },
    {
     "data": {
      "image/png": "[encoded data removed]",
      "text/plain": [
       "<Figure size 432x288 with 1 Axes>"
      ]
     },
     "metadata": {
      "needs_background": "light"
     },
     "output_type": "display_data"
    }
   ],
   "source": [
    "plt.stem(DS['zmean'])   \n",
    "\n",
    "for i in DS[\"modelIdx\"]:\n",
    "    print((((DS[\"wmean\"][1:]) / (D_std))).reshape(-1)[i])"
   ]
  },
  {
   "cell_type": "markdown",
   "metadata": {},
   "source": [
    "# Drift 3"
   ]
  },
  {
   "cell_type": "code",
   "execution_count": 2,
   "metadata": {},
   "outputs": [],
   "source": [
    "import numpy as np\n",
    "import matplotlib.pyplot as plt\n",
    "\"\"\"\n",
    "A MDOF system excited by random noise\n",
    "----------------------------------------------------------------------\n",
    "\"\"\"\n",
    "\n",
    "def drift_mat(dof,k,c,m):\n",
    "    dim = 2 * dof\n",
    "    A = np.zeros((dim,dim))\n",
    "    \n",
    "    for i in range(dim):\n",
    "        if (i%2 == 0):\n",
    "            A[i][i+1] = 1\n",
    "    \n",
    "        elif(i==1):\n",
    "            A[i][i-1] = -(k+k)/m\n",
    "            A[i][i] = -(c+c)/m\n",
    "            A[i][i+1] = k/m\n",
    "            A[i][i+2] = c/m\n",
    "    \n",
    "        elif(i==dim-1):\n",
    "            A[i][i] = -c/m\n",
    "            A[i][i-1] = -k/m\n",
    "            A[i][i-2] = c/m\n",
    "            A[i][i-3] = k/m\n",
    "            \n",
    "        else:\n",
    "            A[i][i-3] = k/m \n",
    "            A[i][i-2] = c/m\n",
    "            A[i][i-1] = -(k+k)/m\n",
    "            A[i][i] = -(c+c)/m\n",
    "            A[i][i+1] = k/m\n",
    "            A[i][i+2] = c/m\n",
    "    return A\n",
    "\n",
    "def M_DOF_sys(x_initial, dof, T):\n",
    "    # parameters of M_DOF_sys in Equation\n",
    "    m = 1\n",
    "    c = 2\n",
    "    k = 3000\n",
    "    mu = 1\n",
    "    g = 9.81\n",
    "    sigma = 1\n",
    "    \n",
    "    # solution by euler maruyama\n",
    "    # -------------------------------------------------------\n",
    "    dt = 0.001\n",
    "    t = np.arange(0, T+dt, dt)\n",
    "    Nsamp = 100 # no. of samples in the run\n",
    "\n",
    "    y35 = []\n",
    "    y36 = []\n",
    "    y37 = []\n",
    "    y38 = []\n",
    "    y39 = []\n",
    "    y40 = []\n",
    "    y41 = []\n",
    "    y42 = []\n",
    "    \n",
    "    xz19 = []\n",
    "    xz20 = []\n",
    "    \n",
    "    xzs19 = []\n",
    "    xzs20 = []\n",
    "    \n",
    "    # Simulation Starts Here :\n",
    "    # -------------------------------------------------------\n",
    "    for ensemble in range(Nsamp):\n",
    "        x0 = x_initial\n",
    "        x = x0                              # initial condition.\n",
    "        for n in range(len(t)-1):\n",
    "            dW = np.sqrt(dt)*np.random.randn(2*dof)\n",
    "            \n",
    "            '''LINEAR PART DRIFT'''\n",
    "        \n",
    "            A = drift_mat(dof,k,c,m)\n",
    "            \n",
    "            '''DIFFUSION TERM  = b'''\n",
    "            diffu_arr = np.zeros(2*dof)\n",
    "            for i in range(2*dof):\n",
    "                if (i%2 != 0):\n",
    "                    diffu_arr[i] = sigma/m\n",
    "            \n",
    "            soln_arr = x0 + np.matmul(A,x0)*dt + diffu_arr*dW        \n",
    "            x0 = soln_arr\n",
    "            x = np.column_stack((x, x0))\n",
    "            \n",
    "\n",
    "        y35.append(x[-35,:])        \n",
    "        y36.append(x[-36,:])              \n",
    "        y37.append(x[-37,:])         # \n",
    "        y38.append(x[-38,:])\n",
    "        y39.append(x[-39,:])         #\n",
    "        y40.append(x[-40,:])\n",
    "        y41.append(x[-41,:])        \n",
    "        y42.append(x[-42,:])\n",
    "\n",
    "        \n",
    "        zint19 = x[-37, 0:-1]        # Velocity\n",
    "        xfinal19 = x[-37, 1:] \n",
    "        xmz19 = (xfinal19 - zint19)\n",
    "        \n",
    "        zint20 = x[-39, 0:-1]        # Velocity\n",
    "        xfinal20 = x[-39, 1:] \n",
    "        xmz20 = (xfinal20 - zint20) \n",
    "\n",
    "        xz19.append(xmz19)\n",
    "        xz20.append(xmz20)\n",
    "        \n",
    "        xmzsq19 = np.multiply(xmz19, xmz19)\n",
    "        xzs19.append(xmzsq19)\n",
    "        \n",
    "        xmzsq20 = np.multiply(xmz20, xmz20)\n",
    "        xzs20.append(xmzsq20)\n",
    "        \n",
    "    xz19 = pow(dt,-1)*np.mean(np.array(xz19), axis = 0)\n",
    "    xz20 = pow(dt,-1)*np.mean(np.array(xz20), axis = 0)\n",
    "\n",
    "    xzs19 = pow(dt,-1)*np.mean(np.array(xzs19), axis = 0)\n",
    "    xzs20 = pow(dt,-1)*np.mean(np.array(xzs20), axis = 0)\n",
    "\n",
    "    y35 = np.array(y35)\n",
    "    y36 = np.array(y36)\n",
    "    y37 = np.array(y37)\n",
    "    y38 = np.array(y38)\n",
    "    y39 = np.array(y39)\n",
    "    y40 = np.array(y40)\n",
    "    y41 = np.array(y41)\n",
    "    y42 = np.array(y42)\n",
    "\n",
    "    time = t[0:-1]\n",
    "    return xz19, xz20, xzs19, xzs20, y35, y36, y37, y38, y39, y40, y41, y42, time"
   ]
  },
  {
   "cell_type": "code",
   "execution_count": 4,
   "metadata": {},
   "outputs": [],
   "source": [
    "xz19, xz20, xzs19, xzs20, y35, y36, y37, y38, y39, y40, y41, y42, time = M_DOF_sys(x_initial, dof, T)"
   ]
  },
  {
   "cell_type": "code",
   "execution_count": 5,
   "metadata": {},
   "outputs": [],
   "source": [
    "# Expected Dictionary Creation:\n",
    "libr = []\n",
    "for j in range(len(y35)):\n",
    "    data = np.row_stack((y35[j,0:-1], y36[j,0:-1], y37[j,0:-1], y38[j,0:-1], y39[j,0:-1], y40[j,0:-1], y41[j,0:-1], y42[j,0:-1]))\n",
    "    Dtemp, nl = library(data, 1, 0)\n",
    "    libr.append(Dtemp)\n",
    "libr = np.array(libr)\n",
    "Dictionary= np.mean(libr, axis = 0)"
   ]
  },
  {
   "cell_type": "code",
   "execution_count": 6,
   "metadata": {},
   "outputs": [],
   "source": [
    "xdts = xz19\n",
    "D = Dictionary"
   ]
  },
  {
   "cell_type": "code",
   "execution_count": 8,
   "metadata": {},
   "outputs": [
    {
     "data": {
      "text/plain": [
       "(81000,)"
      ]
     },
     "execution_count": 8,
     "metadata": {},
     "output_type": "execute_result"
    }
   ],
   "source": [
    "Dict = D.reshape(-1,order='F')\n",
    "Dict.shape"
   ]
  },
  {
   "cell_type": "code",
   "execution_count": 9,
   "metadata": {
    "scrolled": true
   },
   "outputs": [
    {
     "name": "stdout",
     "output_type": "stream",
     "text": [
      "{'Relevant': matlab.double([[2.0],[3.0],[4.0],[5.0],[6.0],[7.0],[10.0],[38.0],[44.0],[47.0],[54.0],[64.0]]), 'Value': matlab.double([[2.000564784558737],[2997.8212896979835],[-4.011590205953798],[-5998.379063195677],[2.115898690991753],[3000.0135842037985],[0.007111123655417825],[0.0016679669589331728],[0.17778107710784996],[0.04522603182106566],[-0.008349634701657779],[-0.08297073766518616]])}\n"
     ]
    }
   ],
   "source": [
    "#!/usr/bin/env python\n",
    "\"\"\"\n",
    "Sample script that uses the SparseBayes module created using\n",
    "MATLAB Compiler SDK.\n",
    "\n",
    "Refer to the MATLAB Compiler SDK documentation for more information.\n",
    "\"\"\"\n",
    "\n",
    "from __future__ import print_function\n",
    "import SparseBayes\n",
    "import matlab\n",
    "\n",
    "my_SparseBayes = SparseBayes.initialize()\n",
    "\n",
    "DictIn = matlab.double(Dict, size=(D.shape[0], D.shape[1]))\n",
    "targetIn = matlab.double(xdts, size=(D.shape[0], 1))\n",
    "DMOut = my_SparseBayes.SparseBayes(DictIn, targetIn)\n",
    "print(DMOut, sep='\\n')\n",
    "\n",
    "my_SparseBayes.terminate()"
   ]
  },
  {
   "cell_type": "code",
   "execution_count": null,
   "metadata": {},
   "outputs": [],
   "source": [
    "c = np.array(DMOut['Value'])\n",
    "d = []\n",
    "for j in c:\n",
    "    d.append(j[0])\n",
    "    \n",
    "a = np.array(DMOut['Relevant'])\n",
    "b = []\n",
    "for i in a:\n",
    "    b.append(int((i[0])-1))\n",
    "    \n",
    "initz0 = np.zeros(D.shape[1])\n",
    "for i in b:\n",
    "    initz0[i] = 1\n",
    "    \n",
    "print(initz0)"
   ]
  },
  {
   "cell_type": "code",
   "execution_count": null,
   "metadata": {},
   "outputs": [],
   "source": [
    "D_std = np.std(D[:,1:],axis = 0)\n",
    "D_std1 = D_std.reshape(1,-1)\n",
    "D1 = D*np.diag(1/D_std1)\n",
    "\n",
    "X = D1[:,1:]\n",
    "y = xdts\n",
    "initz0 = initz0[1:]\n",
    "tol = 0.0001\n",
    "verbosity = True\n",
    "DS = Variational_Bayes_Code(X, y, initz0, tol, verbosity)\n",
    "print(DS)"
   ]
  },
  {
   "cell_type": "code",
   "execution_count": 14,
   "metadata": {
    "scrolled": true
   },
   "outputs": [
    {
     "name": "stdout",
     "output_type": "stream",
     "text": [
      "1.993968333712578\n",
      "2992.438811087823\n",
      "-4.022797352850086\n",
      "-5987.074654692968\n",
      "2.0278642439463197\n",
      "2993.568082947166\n"
     ]
    },
    {
     "data": {
      "image/png": "[encoded data removed]",
      "text/plain": [
       "<Figure size 432x288 with 1 Axes>"
      ]
     },
     "metadata": {
      "needs_background": "light"
     },
     "output_type": "display_data"
    }
   ],
   "source": [
    "plt.stem(DS['zmean'])   \n",
    "\n",
    "for i in DS[\"modelIdx\"]:\n",
    "    print((((DS[\"wmean\"][1:]) / (D_std))).reshape(-1)[i])"
   ]
  },
  {
   "cell_type": "markdown",
   "metadata": {},
   "source": [
    "# Drift 2"
   ]
  },
  {
   "cell_type": "code",
   "execution_count": 16,
   "metadata": {},
   "outputs": [],
   "source": [
    "xdts = xz20"
   ]
  },
  {
   "cell_type": "code",
   "execution_count": 17,
   "metadata": {},
   "outputs": [
    {
     "name": "stdout",
     "output_type": "stream",
     "text": [
      "{'Relevant': matlab.double([[4.0],[5.0],[6.0],[7.0],[8.0],[9.0],[28.0],[37.0],[52.0],[55.0]]), 'Value': matlab.double([[2.058755292210478],[3004.94541786472],[-4.019263261253092],[-6008.31534068137],[2.0428020894751784],[3005.6667271850747],[-0.1009072292748944],[-0.1432976911282043],[0.002333514399514003],[-0.14040808863021295]])}\n"
     ]
    }
   ],
   "source": [
    "#!/usr/bin/env python\n",
    "\"\"\"\n",
    "Sample script that uses the SparseBayes module created using\n",
    "MATLAB Compiler SDK.\n",
    "\n",
    "Refer to the MATLAB Compiler SDK documentation for more information.\n",
    "\"\"\"\n",
    "\n",
    "from __future__ import print_function\n",
    "import SparseBayes\n",
    "import matlab\n",
    "\n",
    "my_SparseBayes = SparseBayes.initialize()\n",
    "\n",
    "DictIn = matlab.double(Dict, size=(D.shape[0], D.shape[1]))\n",
    "targetIn = matlab.double(xdts, size=(D.shape[0], 1))\n",
    "DMOut = my_SparseBayes.SparseBayes(DictIn, targetIn)\n",
    "print(DMOut, sep='\\n')\n",
    "\n",
    "my_SparseBayes.terminate()"
   ]
  },
  {
   "cell_type": "code",
   "execution_count": null,
   "metadata": {},
   "outputs": [],
   "source": [
    "c = np.array(DMOut['Value'])\n",
    "d = []\n",
    "for j in c:\n",
    "    d.append(j[0])\n",
    "    \n",
    "a = np.array(DMOut['Relevant'])\n",
    "b = []\n",
    "for i in a:\n",
    "    b.append(int((i[0])-1))\n",
    "    \n",
    "initz0 = np.zeros(D.shape[1])\n",
    "for i in b:\n",
    "    initz0[i] = 1\n",
    "    \n",
    "print(initz0)"
   ]
  },
  {
   "cell_type": "code",
   "execution_count": null,
   "metadata": {},
   "outputs": [],
   "source": [
    "X = D1[:,1:]\n",
    "y = xdts\n",
    "initz0 = initz0[1:]\n",
    "tol = 0.0001\n",
    "verbosity = True\n",
    "DS = Variational_Bayes_Code(X, y, initz0, tol, verbosity)\n",
    "print(DS)"
   ]
  },
  {
   "cell_type": "code",
   "execution_count": 20,
   "metadata": {},
   "outputs": [
    {
     "name": "stdout",
     "output_type": "stream",
     "text": [
      "1.9961389992338232\n",
      "2997.770203503636\n",
      "-4.006894532350776\n",
      "-5992.989301531508\n",
      "2.0280011684999084\n",
      "2991.9358537257626\n"
     ]
    },
    {
     "data": {
      "image/png": "[encoded data removed]",
      "text/plain": [
       "<Figure size 432x288 with 1 Axes>"
      ]
     },
     "metadata": {
      "needs_background": "light"
     },
     "output_type": "display_data"
    }
   ],
   "source": [
    "plt.stem(DS['zmean'])   \n",
    "\n",
    "for i in DS[\"modelIdx\"]:\n",
    "    print((((DS[\"wmean\"][1:]) / (D_std))).reshape(-1)[i])"
   ]
  },
  {
   "cell_type": "markdown",
   "metadata": {},
   "source": [
    "# Drift 1"
   ]
  },
  {
   "cell_type": "code",
   "execution_count": 2,
   "metadata": {},
   "outputs": [],
   "source": [
    "import numpy as np\n",
    "import matplotlib.pyplot as plt\n",
    "\"\"\"\n",
    "A MDOF system excited by random noise\n",
    "----------------------------------------------------------------------\n",
    "\"\"\"\n",
    "\n",
    "def drift_mat(dof,k,c,m):\n",
    "    dim = 2 * dof\n",
    "    A = np.zeros((dim,dim))\n",
    "    \n",
    "    for i in range(dim):\n",
    "        if (i%2 == 0):\n",
    "            A[i][i+1] = 1\n",
    "    \n",
    "        elif(i==1):\n",
    "            A[i][i-1] = -(k+k)/m\n",
    "            A[i][i] = -(c+c)/m\n",
    "            A[i][i+1] = k/m\n",
    "            A[i][i+2] = c/m\n",
    "    \n",
    "        elif(i==dim-1):\n",
    "            A[i][i] = -c/m\n",
    "            A[i][i-1] = -k/m\n",
    "            A[i][i-2] = c/m\n",
    "            A[i][i-3] = k/m\n",
    "            \n",
    "        else:\n",
    "            A[i][i-3] = k/m \n",
    "            A[i][i-2] = c/m\n",
    "            A[i][i-1] = -(k+k)/m\n",
    "            A[i][i] = -(c+c)/m\n",
    "            A[i][i+1] = k/m\n",
    "            A[i][i+2] = c/m\n",
    "    return A\n",
    "\n",
    "def M_DOF_sys(x_initial, dof, T):\n",
    "    # parameters of M_DOF_sys in Equation\n",
    "    m = 1\n",
    "    c = 2\n",
    "    k = 3000\n",
    "    mu = 1\n",
    "    g = 9.81\n",
    "    sigma = 1\n",
    "    \n",
    "    # solution by euler maruyama\n",
    "    # -------------------------------------------------------\n",
    "    dt = 0.001\n",
    "    t = np.arange(0, T+dt, dt)\n",
    "    Nsamp = 100 # no. of samples in the run\n",
    "\n",
    "    y35 = []\n",
    "    y36 = []\n",
    "    y37 = []\n",
    "    y38 = []\n",
    "    y39 = []\n",
    "    y40 = []\n",
    "    y41 = []\n",
    "    y42 = []\n",
    "    \n",
    "    xz19 = []\n",
    "    xz20 = []\n",
    "    \n",
    "    xzs19 = []\n",
    "    xzs20 = []\n",
    "    \n",
    "    # Simulation Starts Here :\n",
    "    # -------------------------------------------------------\n",
    "    for ensemble in range(Nsamp):\n",
    "        x0 = x_initial\n",
    "        x = x0                              # initial condition.\n",
    "        for n in range(len(t)-1):\n",
    "            dW = np.sqrt(dt)*np.random.randn(2*dof)\n",
    "            \n",
    "            '''LINEAR PART DRIFT'''\n",
    "        \n",
    "            A = drift_mat(dof,k,c,m)\n",
    "            \n",
    "            '''DIFFUSION TERM  = b'''\n",
    "            diffu_arr = np.zeros(2*dof)\n",
    "            for i in range(2*dof):\n",
    "                if (i%2 != 0):\n",
    "                    diffu_arr[i] = sigma/m\n",
    "            \n",
    "            soln_arr = x0 + np.matmul(A,x0)*dt + diffu_arr*dW        \n",
    "            x0 = soln_arr\n",
    "            x = np.column_stack((x, x0))\n",
    "                         \n",
    "        y37.append(x[-37,:])         # \n",
    "        y38.append(x[-38,:])\n",
    "        y39.append(x[-39,:])         #\n",
    "        y40.append(x[-40,:])\n",
    "        y41.append(x[-41,:])         #\n",
    "        y42.append(x[-42,:])\n",
    "\n",
    "        \n",
    "        zint19 = x[-41, 0:-1]        # Velocity\n",
    "        xfinal19 = x[-41, 1:] \n",
    "        xmz19 = (xfinal19 - zint19)\n",
    "        \n",
    "\n",
    "        xz19.append(xmz19)\n",
    "        \n",
    "        xmzsq19 = np.multiply(xmz19, xmz19)\n",
    "        xzs19.append(xmzsq19)\n",
    "\n",
    "    xz19 = pow(dt,-1)*np.mean(np.array(xz19), axis = 0)\n",
    "\n",
    "    xzs19 = pow(dt,-1)*np.mean(np.array(xzs19), axis = 0)\n",
    "\n",
    "    y37 = np.array(y37)\n",
    "    y38 = np.array(y38)\n",
    "    y39 = np.array(y39)\n",
    "    y40 = np.array(y40)\n",
    "    y41 = np.array(y41)\n",
    "    y42 = np.array(y42)\n",
    "\n",
    "    time = t[0:-1]\n",
    "    return xz19, xzs19, y37, y38, y39, y40, y41, y42, time"
   ]
  },
  {
   "cell_type": "code",
   "execution_count": 4,
   "metadata": {},
   "outputs": [],
   "source": [
    "xz19, xzs19, y37, y38, y39, y40, y41, y42, time = M_DOF_sys(x_initial, dof, T)"
   ]
  },
  {
   "cell_type": "code",
   "execution_count": 6,
   "metadata": {},
   "outputs": [],
   "source": [
    "# Expected Dictionary Creation:\n",
    "libr = []\n",
    "for j in range(len(y37)):\n",
    "    data = np.row_stack((y37[j,0:-1], y38[j,0:-1], y39[j,0:-1], y40[j,0:-1], y41[j,0:-1], y42[j,0:-1]))\n",
    "    Dtemp, nl = library(data, 1, 0)\n",
    "    libr.append(Dtemp)\n",
    "libr = np.array(libr)\n",
    "Dictionary= np.mean(libr, axis = 0)"
   ]
  },
  {
   "cell_type": "code",
   "execution_count": 7,
   "metadata": {},
   "outputs": [],
   "source": [
    "xdts = xz19\n",
    "D = Dictionary"
   ]
  },
  {
   "cell_type": "code",
   "execution_count": null,
   "metadata": {},
   "outputs": [],
   "source": [
    "Dict = D.reshape(-1,order='F')"
   ]
  },
  {
   "cell_type": "code",
   "execution_count": 10,
   "metadata": {
    "scrolled": true
   },
   "outputs": [
    {
     "name": "stdout",
     "output_type": "stream",
     "text": [
      "{'Relevant': matlab.double([[4.0],[5.0],[6.0],[7.0],[8.0],[14.0],[26.0]]), 'Value': matlab.double([[1.9663477802059508],[3000.6737711944907],[-3.9901048331316575],[-6000.570244137786],[0.0055544960354988885],[-0.0023514422380917677],[0.0031435219827562278]])}\n"
     ]
    }
   ],
   "source": [
    "#!/usr/bin/env python\n",
    "\"\"\"\n",
    "Sample script that uses the SparseBayes module created using\n",
    "MATLAB Compiler SDK.\n",
    "\n",
    "Refer to the MATLAB Compiler SDK documentation for more information.\n",
    "\"\"\"\n",
    "\n",
    "from __future__ import print_function\n",
    "import SparseBayes\n",
    "import matlab\n",
    "\n",
    "my_SparseBayes = SparseBayes.initialize()\n",
    "\n",
    "DictIn = matlab.double(Dict, size=(D.shape[0], D.shape[1]))\n",
    "targetIn = matlab.double(xdts, size=(D.shape[0], 1))\n",
    "DMOut = my_SparseBayes.SparseBayes(DictIn, targetIn)\n",
    "print(DMOut, sep='\\n')\n",
    "\n",
    "my_SparseBayes.terminate()"
   ]
  },
  {
   "cell_type": "code",
   "execution_count": null,
   "metadata": {},
   "outputs": [],
   "source": [
    "c = np.array(DMOut['Value'])\n",
    "d = []\n",
    "for j in c:\n",
    "    d.append(j[0])\n",
    "    \n",
    "a = np.array(DMOut['Relevant'])\n",
    "b = []\n",
    "for i in a:\n",
    "    b.append(int((i[0])-1))\n",
    "    \n",
    "initz0 = np.zeros(D.shape[1])\n",
    "for i in b:\n",
    "    initz0[i] = 1\n",
    "    \n",
    "print(initz0)"
   ]
  },
  {
   "cell_type": "code",
   "execution_count": null,
   "metadata": {},
   "outputs": [],
   "source": [
    "D_std = np.std(D[:,1:],axis = 0)\n",
    "D_std1 = D_std.reshape(1,-1)\n",
    "D1 = D*np.diag(1/D_std1)\n",
    "\n",
    "X = D1[:,1:]\n",
    "y = xdts\n",
    "initz0 = initz0[1:]\n",
    "tol = 0.0001\n",
    "verbosity = True\n",
    "DS = Variational_Bayes_Code(X, y, initz0, tol, verbosity)\n",
    "print(DS)"
   ]
  },
  {
   "cell_type": "code",
   "execution_count": 15,
   "metadata": {
    "scrolled": false
   },
   "outputs": [
    {
     "name": "stdout",
     "output_type": "stream",
     "text": [
      "1.9710619223855972\n",
      "2998.6391100391693\n",
      "-3.984083429356548\n",
      "-5998.5450813651705\n"
     ]
    },
    {
     "data": {
      "image/png": "[encoded data removed]",
      "text/plain": [
       "<Figure size 432x288 with 1 Axes>"
      ]
     },
     "metadata": {
      "needs_background": "light"
     },
     "output_type": "display_data"
    }
   ],
   "source": [
    "plt.stem(DS['zmean'])   \n",
    "\n",
    "for i in DS[\"modelIdx\"]:\n",
    "    print((((DS[\"wmean\"][1:]) / (D_std))).reshape(-1)[i])"
   ]
  },
  {
   "cell_type": "markdown",
   "metadata": {},
   "source": [
    "# Diffusion 21"
   ]
  },
  {
   "cell_type": "code",
   "execution_count": 37,
   "metadata": {},
   "outputs": [],
   "source": [
    "import numpy as np\n",
    "import matplotlib.pyplot as plt\n",
    "from scipy import linalg as LA\n",
    "from sklearn.metrics import mean_squared_error as MSE\n",
    "\n",
    "\"\"\"\n",
    "The Dictionary creation part:\n",
    "~~~~~~~~~~~~~~~~~~~~~~~~~~~~~~~~~~~~~~~~~~~~~~~~~~~~~~~~~~~~\n",
    "\"\"\"\n",
    "def library(xt, polyn, harmonic):\n",
    "    if polyn == 0:\n",
    "        polyn = 1\n",
    "    \n",
    "    # The polynomial is (x1 + x2)^p, with p is the order\n",
    "    # poly order 0\n",
    "    ind = 0\n",
    "    n = len(xt[0])\n",
    "    D = np.ones([n,1])\n",
    "    \n",
    "    if polyn >= 1:\n",
    "        # poly order 1\n",
    "        for i in range(len(xt)):\n",
    "            ind = ind+1\n",
    "            new = np.vstack(xt[i,:])\n",
    "            D = np.append(D, new, axis=1)\n",
    "     \n",
    "    if polyn >= 2: \n",
    "        # ploy order 2\n",
    "        for i in range(len(xt)):\n",
    "            for j in  range(i,len(xt)):\n",
    "                ind = ind+1\n",
    "                new = np.multiply(xt[i,:], xt[j,:])\n",
    "                new = np.vstack(new)\n",
    "                D = np.append(D, new, axis=1) \n",
    "    \n",
    "    if polyn >= 3:    \n",
    "        # ploy order 3\n",
    "        for i in range(len(xt)):\n",
    "            for j in  range(i,len(xt)):\n",
    "                for k in  range(j,len(xt)):\n",
    "                    ind = ind+1\n",
    "                    new = np.multiply(np.multiply(xt[i,:], xt[j,:]), xt[k,:])\n",
    "                    new = np.vstack(new)\n",
    "                    D = np.append(D, new, axis=1) \n",
    "    \n",
    "    if polyn >= 4:\n",
    "        # ploy order 4\n",
    "        for i in range(len(xt)):\n",
    "            for j in  range(i,len(xt)):\n",
    "                for k in  range(j,len(xt)):\n",
    "                    for l in range(k,len(xt)):\n",
    "                        ind = ind+1\n",
    "                        new = np.multiply(np.multiply(xt[i,:], xt[j,:]), xt[k,:])\n",
    "                        new = np.multiply(new, xt[l,:])\n",
    "                        new = np.vstack(new)\n",
    "                        D = np.append(D, new, axis=1) \n",
    "    \n",
    "    if polyn >= 5:\n",
    "        # ploy order 5\n",
    "        for i in range(len(xt)):\n",
    "            for j in  range(i,len(xt)):\n",
    "                for k in  range(j,len(xt)):\n",
    "                    for l in  range(k,len(xt)):\n",
    "                        for m in  range(l,len(xt)):\n",
    "                            ind = ind+1\n",
    "                            new = np.multiply(xt[i,:], xt[j,:])\n",
    "                            new = np.multiply(new, xt[k,:])\n",
    "                            new = np.multiply(new, xt[l,:])\n",
    "                            new = np.multiply(new, xt[m,:])\n",
    "                            new = np.vstack(new)\n",
    "                            D = np.append(D, new, axis=1) \n",
    "    \n",
    "    if polyn >= 6:\n",
    "        # ploy order 6\n",
    "        for i in range(len(xt)):\n",
    "            for j in  range(i,len(xt)):\n",
    "                for k in  range(j,len(xt)):\n",
    "                    for l in  range(k,len(xt)):\n",
    "                        for m in  range(l,len(xt)):\n",
    "                            for n in  range(m,len(xt)):\n",
    "                                ind = ind+1\n",
    "                                new = np.multiply(xt[i,:], xt[j,:])\n",
    "                                new = np.multiply(new, xt[k,:])\n",
    "                                new = np.multiply(new, xt[l,:])\n",
    "                                new = np.multiply(new, xt[m,:])\n",
    "                                new = np.multiply(new, xt[n,:])\n",
    "                                new = np.vstack(new)\n",
    "                                D = np.append(D, new, axis=1) \n",
    "    \n",
    "    \n",
    "    # for the modulus operator\n",
    "    for i in range(len(xt)):\n",
    "        ind = ind+1\n",
    "        new = np.vstack(abs(xt[i,:]))\n",
    "        D = np.append(D, new, axis=1)\n",
    "      \n",
    "    # for the tensor operator\n",
    "    for i in range(len(xt)):\n",
    "        for j in  range(len(xt)):\n",
    "            ind = ind+1\n",
    "            new = np.multiply(xt[i,:],abs(xt[j,:]))\n",
    "            new = np.vstack(new)\n",
    "            D = np.append(D, new, axis=1)\n",
    "            \n",
    "    if harmonic == 1:\n",
    "        for i in range(len(xt)):\n",
    "            ind = ind+1\n",
    "            new = np.vstack(np.sin(xt[i,:]))\n",
    "            D = np.append(D, new, axis=1)\n",
    "\n",
    "        for i in range(len(xt)):\n",
    "            ind = ind+1\n",
    "            new = np.vstack(np.cos(xt[i,:]))\n",
    "            D = np.append(D, new, axis=1)\n",
    "            \n",
    "    ind = len(D[0])\n",
    "    \n",
    "    return D, ind"
   ]
  },
  {
   "cell_type": "code",
   "execution_count": 38,
   "metadata": {},
   "outputs": [],
   "source": [
    "import numpy as np\n",
    "import matplotlib.pyplot as plt\n",
    "\"\"\"\n",
    "A MDOF system excited by random noise\n",
    "----------------------------------------------------------------------\n",
    "\"\"\"\n",
    "\n",
    "def drift_mat(dof,k,c,m):\n",
    "    dim = 2 * dof\n",
    "    A = np.zeros((dim,dim))\n",
    "    \n",
    "    for i in range(dim):\n",
    "        if (i%2 == 0):\n",
    "            A[i][i+1] = 1\n",
    "    \n",
    "        elif(i==1):\n",
    "            A[i][i-1] = -(k+k)/m\n",
    "            A[i][i] = -(c+c)/m\n",
    "            A[i][i+1] = k/m\n",
    "            A[i][i+2] = c/m\n",
    "    \n",
    "        elif(i==dim-1):\n",
    "            A[i][i] = -c/m\n",
    "            A[i][i-1] = -k/m\n",
    "            A[i][i-2] = c/m\n",
    "            A[i][i-3] = k/m\n",
    "            \n",
    "        else:\n",
    "            A[i][i-3] = k/m \n",
    "            A[i][i-2] = c/m\n",
    "            A[i][i-1] = -(k+k)/m\n",
    "            A[i][i] = -(c+c)/m\n",
    "            A[i][i+1] = k/m\n",
    "            A[i][i+2] = c/m\n",
    "    return A\n",
    "\n",
    "def M_DOF_sys(x_initial, dof, T):\n",
    "    # parameters of M_DOF_sys in Equation\n",
    "    m = 1\n",
    "    c = 2\n",
    "    k = 3000\n",
    "    sigma = 1\n",
    "    \n",
    "    # solution by euler maruyama\n",
    "    # -------------------------------------------------------\n",
    "    dt = 0.0001\n",
    "    t = np.arange(0, T+dt, dt)\n",
    "    Nsamp = 200 # no. of samples in the run\n",
    "    \n",
    "    y1 = []\n",
    "    y2 = []\n",
    "    y3 = []\n",
    "    y4 = []\n",
    "    y5 = []\n",
    "    y6 = []\n",
    "    y7 = []\n",
    "    y8 = []\n",
    "    xz1 = []\n",
    "    xz2 = []\n",
    "    xz3 = []\n",
    "    xzs11 = []\n",
    "    xzs22 = []\n",
    "    xzs33 = []\n",
    "    \n",
    "    # Simulation Starts Here ::\n",
    "    # -------------------------------------------------------\n",
    "    for ensemble in range(Nsamp):\n",
    "        x0 = x_initial\n",
    "        x = x0                              # initial condition.\n",
    "        for n in range(len(t)-1):\n",
    "            dW = np.sqrt(dt)*np.random.randn(2*dof)\n",
    "            \n",
    "            '''LINEAR PART DRIFT'''\n",
    "        \n",
    "            A = drift_mat(dof,k,c,m)\n",
    "            \n",
    "            '''DIFFUSION TERM  = b'''\n",
    "            diffu_arr = np.zeros(2*dof)\n",
    "            for i in range(2*dof):\n",
    "                if (i%2 != 0):\n",
    "                    diffu_arr[i] = sigma/m\n",
    "            \n",
    "            soln_arr = x0 + np.matmul(A,x0)*dt + diffu_arr*dW        \n",
    "            x0 = soln_arr\n",
    "            x = np.column_stack((x, x0))\n",
    "            \n",
    "  \n",
    "        y1.append(x[-1,:])     # Displacement\n",
    "        y2.append(x[-2,:])      \n",
    "        y3.append(x[-3,:])     # Displacement\n",
    "        y4.append(x[-4,:])\n",
    "        y5.append(x[-5,:])\n",
    "        y6.append(x[-6,:])\n",
    "        y7.append(x[-7,:])\n",
    "        y8.append(x[-8,:])\n",
    "        \n",
    "\n",
    "        zint1 = x[-1,0:-1]\n",
    "        xfinal1 = x[-1,1:] \n",
    "        xmz1 = (xfinal1 - zint1)\n",
    "        \n",
    "        zint2 = x[-3, 0:-1]\n",
    "        xfinal2 = x[-3, 1:] \n",
    "        xmz2 = (xfinal2 - zint2) \n",
    "        \n",
    "        zint3 = x[-5, 0:-1]\n",
    "        xfinal3 = x[-5, 1:] \n",
    "        xmz3 = (xfinal3 - zint3) \n",
    "        \n",
    "        xz1.append(xmz1)\n",
    "        xz2.append(xmz2)\n",
    "        xz3.append(xmz3)\n",
    "        \n",
    "        xmzsq11 = np.multiply(xmz1, xmz1)\n",
    "        xzs11.append(xmzsq11)\n",
    "        \n",
    "        xmzsq22 = np.multiply(xmz2, xmz2)\n",
    "        xzs22.append(xmzsq22)\n",
    "        \n",
    "        xmzsq33 = np.multiply(xmz3, xmz3)\n",
    "        xzs33.append(xmzsq33)\n",
    "        \n",
    "    xz1 = pow(dt,-1)*np.mean(np.array(xz1), axis = 0)\n",
    "    xz2 = pow(dt,-1)*np.mean(np.array(xz2), axis = 0)\n",
    "    xz3 = pow(dt,-1)*np.mean(np.array(xz3), axis = 0)\n",
    "\n",
    "    xzs11 = pow(dt,-1)*np.mean(np.array(xzs11), axis = 0)\n",
    "    xzs22 = pow(dt,-1)*np.mean(np.array(xzs22), axis = 0)\n",
    "    xzs33 = pow(dt,-1)*np.mean(np.array(xzs33), axis = 0) \n",
    "\n",
    "    y1 = np.array(y1)\n",
    "    y2 = np.array(y2)\n",
    "    y3 = np.array(y3)\n",
    "    y4 = np.array(y4)\n",
    "    y5 = np.array(y5)\n",
    "    y6 = np.array(y6)\n",
    "    y7 = np.array(y7)\n",
    "    y8 = np.array(y8)\n",
    "    \n",
    "    time = t[0:-1]\n",
    "    return xz1, xz2, xz3, xzs11, xzs22, xzs33, y1, y2, y3, y4, y5, y6, y7, y8, time"
   ]
  },
  {
   "cell_type": "code",
   "execution_count": 39,
   "metadata": {},
   "outputs": [],
   "source": [
    "T = 1\n",
    "dof = 21\n",
    "x_initial = np.zeros(2*dof)"
   ]
  },
  {
   "cell_type": "code",
   "execution_count": 41,
   "metadata": {},
   "outputs": [],
   "source": [
    "xz1, xz2, xz3, xzs11, xzs22, xzs33, y1, y2, y3, y4, y5, y6, y7, y8, time_ = M_DOF_sys(x_initial, dof, T)"
   ]
  },
  {
   "cell_type": "code",
   "execution_count": 43,
   "metadata": {},
   "outputs": [],
   "source": [
    "# Expected Dictionary Creation:\n",
    "libr = []\n",
    "for j in range(len(y1)):\n",
    "    data = np.row_stack((y1[j,0:-1], y2[j,0:-1], y3[j,0:-1], y4[j,0:-1], y5[j,0:-1], y6[j,0:-1], y7[j,0:-1], y8[j,0:-1]))\n",
    "    Dtemp, nl = library(data, 1, 0)\n",
    "    libr.append(Dtemp)\n",
    "libr = np.array(libr)\n",
    "Dictionary= np.mean(libr, axis = 0)"
   ]
  },
  {
   "cell_type": "code",
   "execution_count": 44,
   "metadata": {},
   "outputs": [],
   "source": [
    "xdts = xzs11\n",
    "D = Dictionary"
   ]
  },
  {
   "cell_type": "code",
   "execution_count": null,
   "metadata": {},
   "outputs": [],
   "source": [
    "Dict = D.reshape(-1,order='F')"
   ]
  },
  {
   "cell_type": "code",
   "execution_count": 47,
   "metadata": {},
   "outputs": [
    {
     "name": "stdout",
     "output_type": "stream",
     "text": [
      "{'Relevant': matlab.double([[1.0],[8.0],[11.0],[25.0],[30.0],[34.0],[36.0],[40.0],[44.0],[50.0],[68.0],[70.0],[74.0],[81.0]]), 'Value': matlab.double([[1.0047808356643277],[0.06833581299706867],[0.8638284659695521],[-2.041101286100316],[-2.362997691764869],[0.15396010652952816],[-0.22035578525958419],[0.33357230552705275],[-0.2679695239600998],[0.300930393053831],[-0.2804027566179254],[-0.2904220501070378],[1.3161912608157038],[-22.39637936251321]])}\n"
     ]
    }
   ],
   "source": [
    "#!/usr/bin/env python\n",
    "\"\"\"\n",
    "Sample script that uses the SparseBayes module created using\n",
    "MATLAB Compiler SDK.\n",
    "\n",
    "Refer to the MATLAB Compiler SDK documentation for more information.\n",
    "\"\"\"\n",
    "\n",
    "from __future__ import print_function\n",
    "import SparseBayes\n",
    "import matlab\n",
    "\n",
    "my_SparseBayes = SparseBayes.initialize()\n",
    "\n",
    "DictIn = matlab.double(Dict, size=(D.shape[0], D.shape[1]))\n",
    "targetIn = matlab.double(xdts, size=(D.shape[0], 1))\n",
    "DMOut = my_SparseBayes.SparseBayes(DictIn, targetIn)\n",
    "print(DMOut, sep='\\n')\n",
    "\n",
    "my_SparseBayes.terminate()"
   ]
  },
  {
   "cell_type": "code",
   "execution_count": null,
   "metadata": {},
   "outputs": [],
   "source": [
    "c = np.array(DMOut['Value'])\n",
    "d = []\n",
    "for j in c:\n",
    "    d.append(j[0])\n",
    "    \n",
    "a = np.array(DMOut['Relevant'])\n",
    "b = []\n",
    "for i in a:\n",
    "    b.append(int((i[0])-1))\n",
    "    \n",
    "initz0 = np.zeros(D.shape[1])\n",
    "for i in b:\n",
    "    initz0[i] = 1"
   ]
  },
  {
   "cell_type": "code",
   "execution_count": 50,
   "metadata": {},
   "outputs": [],
   "source": [
    "import warnings\n",
    "import math\n",
    "import numpy as np\n",
    "import scipy as sp\n",
    "import sympy as smp\n",
    "from scipy import stats\n",
    "from numpy import linalg as la\n",
    "import matplotlib.pyplot as plt\n",
    "from numpy.random import gamma\n",
    "from scipy.special import loggamma\n",
    "\n",
    "def Variational_Bayes_Code(X, y, initz0, tol, verbosity):\n",
    "\n",
    "    if (len(X) == 0 or len(y) == 0):\n",
    "        raise Exception('X and or y is missing')\n",
    "        \n",
    "    if (len(X) != len(y)):\n",
    "        raise Exception('Number of observations do not match')\n",
    "        \n",
    "    # X = stats.zscore(X, ddof = 1)         \n",
    "    # X = np.c_[np.ones(len(X)),X]\n",
    "    # X = np.c_[np.ones(len(X)),X]          \n",
    "    # y = y - np.mean(y)\n",
    "    N = len(X)\n",
    "    # Prior parameters of noise variance (Inverse Gamma dist)\n",
    "    A = 1e-4\n",
    "    B = 1e-4\n",
    "    vs = 10\n",
    "    tau0 = 1000\n",
    "    \n",
    "    if (len(initz0) == 0):\n",
    "        raise Exception('No initial value of z found')\n",
    "    else:\n",
    "        p0 = expit(-0.5*(np.sqrt(N)))       \n",
    "        \n",
    "        # Adding the intercept indicator variable (slightly less than 1 to prevent log(0) values) \n",
    "        # initz = np.hstack((1,initz0))  \n",
    "        initz = initz0\n",
    "\n",
    "        DS,LLcvg  = run_VB2(X, y, vs, A, B, tau0, p0, initz, tol, verbosity)    \n",
    "        # This is function which will come first\n",
    "        \n",
    "    out_vb   = DS\n",
    "    a = DS['zmean'] > 0.5\n",
    "    count = 0\n",
    "    modelIdx = []\n",
    "    for i in a:\n",
    "        if i == True:\n",
    "            modelIdx.append(count)\n",
    "        count += 1\n",
    "            \n",
    "    modelIdx = np.setdiff1d(modelIdx,0)\n",
    "    out_vb['modelIdx'] = modelIdx-1\n",
    "    out_vb['Zmed'] = DS['zmean'][modelIdx]\n",
    "    out_vb['Wsel'] = DS['wmean'][modelIdx]\n",
    "    out_vb['Wcov'] = DS['wCOV'][modelIdx, modelIdx]\n",
    "    out_vb['sig2'] = DS['sig2']\n",
    "    \n",
    "    return out_vb\n",
    "\n",
    "DS = {}\n",
    "def run_VB2(Xc, yc, vs, A, B, tau0, p0, initz, tol, verbosity):\n",
    "    \"\"\"This function is the implementation of VB from John T. Ormerod paper (2014)\n",
    "       This implementation uses slab scaling by noise variance\n",
    "       vs    : treated as a constant\n",
    "       A,B   : constants of the IG prior over noise variance\n",
    "       tau0  : Expected value of (sigma^{-2})\n",
    "       p0    : inclusion probablility\n",
    "       initz : Initial value of z\n",
    "       Xc    : Centered and standardized dictionary except the first column\n",
    "       yc    : Centered observations \"\"\"\n",
    "    \n",
    "    Lambda    = logit(p0)\n",
    "    iter_     = 0\n",
    "    max_iter  = 100\n",
    "    LL        = np.zeros(max_iter)        \n",
    "    zm        = np.reshape(initz,(-1))            \n",
    "    taum      = tau0                      \n",
    "    invVs     = 1/vs\n",
    "    \n",
    "    X = Xc\n",
    "    y = yc\n",
    "    XtX = (X.T) @ X\n",
    "    XtX = 0.5*(XtX + (XtX).T)\n",
    "    Xty = (X.T) @ y                 \n",
    "    yty = (y.T) @ y\n",
    "\n",
    "    eyep = np.eye(len(XtX))\n",
    "    [N,p] = X.shape\n",
    "    allidx = np.arange(p)\n",
    "    zm[0] = 1                                                                   # Always include the intercept \n",
    "    Abar    = (A + 0.5*N + 0.5*p)\n",
    "    converged = 0\n",
    "    \n",
    "    while (converged==0):\n",
    "        if (iter_==100):\n",
    "            break\n",
    "        \n",
    "        Zm       = np.diag(zm)\n",
    "        Omg      = (np.reshape(zm,(-1,1)) @ np.reshape(zm,(1,-1))) + (Zm @ (eyep-Zm))\n",
    "        # Update the mean and covariance of the coefficients given mean of z\n",
    "        term1    = XtX * Omg                                                       # elementwisw multiplication\n",
    "        invSigma = taum * (term1 + invVs * eyep)\n",
    "        invSigma = 0.5*(invSigma + invSigma.T)                                     # symmetric\n",
    "        Sigma    = la.inv(invSigma) @ eyep\n",
    "        mu       = taum * (Sigma @ Zm @ Xty)                                       # @ ---> matrix multiplication\n",
    "        \n",
    "        # Update tau related to sigma\n",
    "        term2    = 2 * Xty @ Zm @ mu\n",
    "        term3    =  np.reshape(mu,(len(initz0),1)) @ np.reshape(mu,(1,len(initz0)))+ Sigma\n",
    "        term4    = yty - term2 + np.trace((term1 + invVs * eyep) @ term3)    \n",
    "        s        = B + 0.5*term4\n",
    "        \n",
    "        if s<0:\n",
    "            warnings.warn('s turned out be less than 0. Taking absolute value')\n",
    "            s = B + 0.5*abs(term4)\n",
    "        \n",
    "        taum     = Abar / s\n",
    "        zstr   = zm\n",
    "\n",
    "        order   = np.setdiff1d(np.random.permutation(p), 0, assume_unique=True)\n",
    "        for j in order: \n",
    "            muj     = mu[j]                            \n",
    "            sigmaj  = Sigma[j,j]\n",
    "            \n",
    "            remidx  = np.setdiff1d(allidx,j)\n",
    "            mu_j    = mu[remidx]\n",
    "            Sigma_jj= Sigma[remidx,j]\n",
    "            etaj    = (Lambda - 0.5 * taum * ((muj**2 + sigmaj) * XtX[j,j]) \n",
    "                       + taum * np.reshape(X[:,j],(1,-1)) @ (np.reshape(y,(-1,1))*muj \n",
    "                        -X[:,remidx] @ np.diag(zstr[remidx]) @ ((mu_j * muj + Sigma_jj).reshape(-1,1))))\n",
    "            zstr[j] = expit(etaj)\n",
    "            \n",
    "        zm = zstr\n",
    "        \n",
    "        # Calculate marginal log-likelihood\n",
    "        \n",
    "        LL[iter_] = ( 0.5*p \n",
    "                    - 0.5*N*np.log(2*np.pi) \n",
    "                    + 0.5*p*np.log(invVs) \n",
    "                    + A*np.log(B)\n",
    "                    - loggamma(A)\n",
    "                    + loggamma(Abar) \n",
    "                    - Abar*np.log(s)\n",
    "                    + 0.5*np.log(la.det(Sigma))\n",
    "                    + np.nansum(zm*(np.log(p0) - np.log(zm))) \n",
    "                    + np.nansum((1-zm)*(np.log(1-p0) - np.log(1-zm))))\n",
    "        \n",
    "        if(verbosity):\n",
    "            print(f'Iteration = {iter_}  log(Likelihood) = {LL[iter_]}')\n",
    "        \n",
    "        if(iter_>1):\n",
    "            cvg = LL[iter_] - LL[iter_-1]\n",
    "            \n",
    "            if (cvg < 0 and verbosity):\n",
    "                print('OOPS!  log(like) decreasing!!')\n",
    "            elif (cvg<tol or iter_> max_iter):\n",
    "                converged = 1\n",
    "                LL = LL[0:iter_]\n",
    "                \n",
    "        iter_    = iter_ + 1\n",
    "    DS['zmean'] = zm\n",
    "    DS['wmean'] = mu\n",
    "    DS['wCOV'] = Sigma\n",
    "    DS['sig2'] = 1/taum\n",
    "    LLcvg    = LL[-1]\n",
    "    return DS, LLcvg\n",
    "    \n",
    "def logit(C):\n",
    "    logitC = np.log(C) - np.log(1-C)\n",
    "    return logitC\n",
    "\n",
    "def expit(C):\n",
    "    expitC = 1./(1 + np.exp(-C))\n",
    "    return expitC"
   ]
  },
  {
   "cell_type": "code",
   "execution_count": null,
   "metadata": {},
   "outputs": [],
   "source": [
    "tol = 0.0001\n",
    "verbosity = True\n",
    "initz0 = initz0\n",
    "DS = Variational_Bayes_Code(D, xdts, initz0, tol, verbosity)\n",
    "\n",
    "print(DS) "
   ]
  },
  {
   "cell_type": "code",
   "execution_count": 53,
   "metadata": {},
   "outputs": [
    {
     "name": "stdout",
     "output_type": "stream",
     "text": [
      "\n",
      "1.003521987767179\n"
     ]
    },
    {
     "data": {
      "image/png": "[encoded data removed]",
      "text/plain": [
       "<Figure size 432x288 with 1 Axes>"
      ]
     },
     "metadata": {
      "needs_background": "light"
     },
     "output_type": "display_data"
    }
   ],
   "source": [
    "zmean21 = DS['zmean']\n",
    "wmean21 = DS['wmean']\n",
    "zmean21[np.where(np.diag(DS['wCOV'])>5e-4)] = 0\n",
    "plt.stem(zmean21)\n",
    "wmean21[np.where(np.diag(DS['wCOV'])>5e-4)] = 0\n",
    "print()\n",
    "print(np.sqrt(wmean21[0]))"
   ]
  },
  {
   "cell_type": "markdown",
   "metadata": {},
   "source": [
    "# Diffusion 20"
   ]
  },
  {
   "cell_type": "code",
   "execution_count": 26,
   "metadata": {},
   "outputs": [],
   "source": [
    "xdts = xzs22"
   ]
  },
  {
   "cell_type": "code",
   "execution_count": 27,
   "metadata": {},
   "outputs": [
    {
     "name": "stdout",
     "output_type": "stream",
     "text": [
      "{'Relevant': matlab.double([[1.0],[3.0],[7.0],[11.0],[14.0],[22.0],[33.0],[57.0],[64.0],[73.0]]), 'Value': matlab.double([[1.0091846008703866],[2.429582323364784],[2.330516849804251],[1.330512004452653],[0.014250350260624805],[-0.07881647569388553],[-75.37782043650094],[-2.1383648735396967],[0.445369865427977],[-0.7637924306420544]])}\n"
     ]
    }
   ],
   "source": [
    "#!/usr/bin/env python\n",
    "\"\"\"\n",
    "Sample script that uses the SparseBayes module created using\n",
    "MATLAB Compiler SDK.\n",
    "\n",
    "Refer to the MATLAB Compiler SDK documentation for more information.\n",
    "\"\"\"\n",
    "\n",
    "from __future__ import print_function\n",
    "import SparseBayes\n",
    "import matlab\n",
    "\n",
    "my_SparseBayes = SparseBayes.initialize()\n",
    "\n",
    "DictIn = matlab.double(Dict, size=(D.shape[0], D.shape[1]))\n",
    "targetIn = matlab.double(xdts, size=(D.shape[0], 1))\n",
    "DMOut = my_SparseBayes.SparseBayes(DictIn, targetIn)\n",
    "print(DMOut, sep='\\n')\n",
    "\n",
    "my_SparseBayes.terminate()"
   ]
  },
  {
   "cell_type": "code",
   "execution_count": null,
   "metadata": {},
   "outputs": [],
   "source": [
    "c = np.array(DMOut['Value'])\n",
    "d = []\n",
    "for j in c:\n",
    "    d.append(j[0])\n",
    "    \n",
    "a = np.array(DMOut['Relevant'])\n",
    "b = []\n",
    "for i in a:\n",
    "    b.append(int((i[0])-1))\n",
    "    \n",
    "initz0 = np.zeros(D.shape[1])\n",
    "for i in b:\n",
    "    initz0[i] = 1\n",
    "    \n",
    "print(initz0)"
   ]
  },
  {
   "cell_type": "code",
   "execution_count": null,
   "metadata": {},
   "outputs": [],
   "source": [
    "X = D\n",
    "y = xdts\n",
    "initz0 = initz0\n",
    "tol = 0.0001\n",
    "verbosity = True\n",
    "DS = Variational_Bayes_Code(X, y, initz0, tol, verbosity)\n",
    "print(DS)"
   ]
  },
  {
   "cell_type": "code",
   "execution_count": 33,
   "metadata": {},
   "outputs": [
    {
     "name": "stdout",
     "output_type": "stream",
     "text": [
      "\n",
      "1.0015403079287326\n"
     ]
    },
    {
     "data": {
      "image/png": "[encoded data removed]",
      "text/plain": [
       "<Figure size 432x288 with 1 Axes>"
      ]
     },
     "metadata": {
      "needs_background": "light"
     },
     "output_type": "display_data"
    }
   ],
   "source": [
    "zmean20 = DS['zmean']\n",
    "wmean20 = DS['wmean']\n",
    "zmean20[np.where(np.diag(DS['wCOV'])>5e-4)] = 0\n",
    "plt.stem(zmean20)\n",
    "wmean20[np.where(np.diag(DS['wCOV'])>5e-4)] = 0\n",
    "print()\n",
    "print(np.sqrt(wmean20[0]))"
   ]
  },
  {
   "cell_type": "markdown",
   "metadata": {},
   "source": [
    "# Diffusion 19"
   ]
  },
  {
   "cell_type": "code",
   "execution_count": 2,
   "metadata": {},
   "outputs": [],
   "source": [
    "import numpy as np\n",
    "import matplotlib.pyplot as plt\n",
    "\"\"\"\n",
    "A MDOF system excited by random noise\n",
    "----------------------------------------------------------------------\n",
    "\"\"\"\n",
    "\n",
    "def drift_mat(dof,k,c,m):\n",
    "    dim = 2 * dof\n",
    "    A = np.zeros((dim,dim))\n",
    "    \n",
    "    for i in range(dim):\n",
    "        if (i%2 == 0):\n",
    "            A[i][i+1] = 1\n",
    "    \n",
    "        elif(i==1):\n",
    "            A[i][i-1] = -(k+k)/m\n",
    "            A[i][i] = -(c+c)/m\n",
    "            A[i][i+1] = k/m\n",
    "            A[i][i+2] = c/m\n",
    "    \n",
    "        elif(i==dim-1):\n",
    "            A[i][i] = -c/m\n",
    "            A[i][i-1] = -k/m\n",
    "            A[i][i-2] = c/m\n",
    "            A[i][i-3] = k/m\n",
    "            \n",
    "        else:\n",
    "            A[i][i-3] = k/m \n",
    "            A[i][i-2] = c/m\n",
    "            A[i][i-1] = -(k+k)/m\n",
    "            A[i][i] = -(c+c)/m\n",
    "            A[i][i+1] = k/m\n",
    "            A[i][i+2] = c/m\n",
    "    return A\n",
    "\n",
    "def M_DOF_sys(x_initial, dof, T):\n",
    "    # parameters of M_DOF_sys in Equation\n",
    "    m = 1\n",
    "    c = 2\n",
    "    k = 3000\n",
    "    sigma = 1\n",
    "    \n",
    "    # solution by euler maruyama\n",
    "    # -------------------------------------------------------\n",
    "    dt = 0.0001\n",
    "    t = np.arange(0, T+dt, dt)\n",
    "    Nsamp = 200 # no. of samples in the run\n",
    "    \n",
    "    y3 = []\n",
    "    y4 = []\n",
    "    y5 = []\n",
    "    y6 = []\n",
    "    y7 = []\n",
    "    y8 = []\n",
    "    y9 = []\n",
    "    y10 = []\n",
    "    \n",
    "    xz2 = []\n",
    "    xz3 = []\n",
    "    xz4 = []\n",
    "    xz5 = []\n",
    "    \n",
    "    xzs22 = []\n",
    "    xzs33 = []\n",
    "    xzs44 = []\n",
    "    xzs55 = []\n",
    "    \n",
    "    # Simulation Starts Here ::\n",
    "    # -------------------------------------------------------\n",
    "    for ensemble in range(Nsamp):\n",
    "        x0 = x_initial\n",
    "        x = x0                              # initial condition.\n",
    "        if ensemble%50==0:\n",
    "            print(ensemble)\n",
    "        for n in range(len(t)-1):\n",
    "            dW = np.sqrt(dt)*np.random.randn(2*dof)\n",
    "            \n",
    "            '''LINEAR PART DRIFT'''\n",
    "        \n",
    "            A = drift_mat(dof,k,c,m)\n",
    "            \n",
    "            \n",
    "            '''DIFFUSION TERM  = b'''\n",
    "            diffu_arr = np.zeros(2*dof)\n",
    "            for i in range(2*dof):\n",
    "                if (i%2 != 0):\n",
    "                    diffu_arr[i] = sigma/m\n",
    "            \n",
    "            soln_arr = x0 + np.matmul(A,x0)*dt + diffu_arr*dW        \n",
    "            x0 = soln_arr\n",
    "            x = np.column_stack((x, x0))\n",
    "            \n",
    "\n",
    "        y3.append(x[-3,:])\n",
    "        y4.append(x[-4,:])\n",
    "        y5.append(x[-5,:])     # Displacement\n",
    "        y6.append(x[-6,:])\n",
    "        y7.append(x[-7,:])     # Displacement\n",
    "        y8.append(x[-8,:])\n",
    "        y9.append(x[-9,:])\n",
    "        y10.append(x[-10,:])\n",
    "        \n",
    "        zint2 = x[-3, 0:-1]\n",
    "        xfinal2 = x[-3, 1:] \n",
    "        xmz2 = (xfinal2 - zint2) \n",
    "        \n",
    "        zint3 = x[-5, 0:-1]\n",
    "        xfinal3 = x[-5, 1:] \n",
    "        xmz3 = (xfinal3 - zint3) \n",
    "                  \n",
    "        zint4 = x[-7, 0:-1]\n",
    "        xfinal4 = x[-7, 1:] \n",
    "        xmz4 = (xfinal4 - zint4)\n",
    "        \n",
    "        zint5 = x[-9, 0:-1]\n",
    "        xfinal5 = x[-9, 1:] \n",
    "        xmz5 = (xfinal5 - zint5)\n",
    "        \n",
    "        xz2.append(xmz2)\n",
    "        xz3.append(xmz3)\n",
    "        xz4.append(xmz4)\n",
    "        xz5.append(xmz5)\n",
    "        \n",
    "        xmzsq22 = np.multiply(xmz2, xmz2)\n",
    "        xzs22.append(xmzsq22)\n",
    "        \n",
    "        xmzsq33 = np.multiply(xmz3, xmz3)\n",
    "        xzs33.append(xmzsq33)\n",
    "        \n",
    "        xmzsq44 = np.multiply(xmz4, xmz4)\n",
    "        xzs44.append(xmzsq44)\n",
    "        \n",
    "        xmzsq55 = np.multiply(xmz5, xmz5)\n",
    "        xzs55.append(xmzsq55)\n",
    "        \n",
    "    \n",
    "    xz2 = pow(dt,-1)*np.mean(np.array(xz2), axis = 0)\n",
    "    xz3 = pow(dt,-1)*np.mean(np.array(xz3), axis = 0)\n",
    "    xz4 = pow(dt,-1)*np.mean(np.array(xz4), axis = 0)\n",
    "    xz5 = pow(dt,-1)*np.mean(np.array(xz5), axis = 0)\n",
    "\n",
    "    xzs22 = pow(dt,-1)*np.mean(np.array(xzs22), axis = 0)\n",
    "    xzs33 = pow(dt,-1)*np.mean(np.array(xzs33), axis = 0) \n",
    "    xzs44 = pow(dt,-1)*np.mean(np.array(xzs44), axis = 0)\n",
    "    xzs55 = pow(dt,-1)*np.mean(np.array(xzs55), axis = 0)\n",
    "\n",
    "    y3 = np.array(y3)\n",
    "    y4 = np.array(y4)\n",
    "    y5 = np.array(y5)\n",
    "    y6 = np.array(y6)\n",
    "    y7 = np.array(y7)\n",
    "    y8 = np.array(y8)\n",
    "    y9 = np.array(y9)\n",
    "    y10 = np.array(y10)\n",
    "\n",
    "    time = t[0:-1]\n",
    "    return xz2, xz3, xz4, xz5, xzs22, xzs33, xzs44, xzs55, y3, y4, y5, y6, y7, y8, y9, y10, time"
   ]
  },
  {
   "cell_type": "code",
   "execution_count": null,
   "metadata": {},
   "outputs": [],
   "source": [
    "import time\n",
    "start = time.time()\n",
    "xz2, xz3, xz4, xz5, xzs22, xzs33, xzs44, xzs55, y3, y4, y5, y6, y7, y8, y9, y10, time_ = M_DOF_sys(x_initial, dof, T)\n",
    "end = time.time()\n",
    "print()\n",
    "TIMES = (end - start)/60\n",
    "TIMES"
   ]
  },
  {
   "cell_type": "code",
   "execution_count": 5,
   "metadata": {},
   "outputs": [
    {
     "name": "stdout",
     "output_type": "stream",
     "text": [
      "\n"
     ]
    },
    {
     "data": {
      "text/plain": [
       "5.4169628063837685"
      ]
     },
     "execution_count": 5,
     "metadata": {},
     "output_type": "execute_result"
    }
   ],
   "source": [
    "startD = time.time()\n",
    "# Expected Dictionary Creation:\n",
    "libr = []\n",
    "for j in range(len(y3)):\n",
    "    data = np.row_stack((y3[j,0:-1], y4[j,0:-1], y5[j,0:-1], y6[j,0:-1], y7[j,0:-1], y8[j,0:-1], y9[j,0:-1], y10[j,0:-1]))\n",
    "    Dtemp, nl = library(data, 1, 0)\n",
    "    libr.append(Dtemp)\n",
    "libr = np.array(libr)\n",
    "Dictionary= np.mean(libr, axis = 0)\n",
    "print()\n",
    "endD = time.time()\n",
    "TIMED = (endD - startD)/60\n",
    "TIMED"
   ]
  },
  {
   "cell_type": "code",
   "execution_count": 17,
   "metadata": {},
   "outputs": [],
   "source": [
    "xdts = xzs33\n",
    "D = Dictionary"
   ]
  },
  {
   "cell_type": "code",
   "execution_count": null,
   "metadata": {},
   "outputs": [],
   "source": [
    "Dict = D.reshape(-1,order='F')\n",
    "Dict.shape"
   ]
  },
  {
   "cell_type": "code",
   "execution_count": 20,
   "metadata": {
    "scrolled": true
   },
   "outputs": [
    {
     "name": "stdout",
     "output_type": "stream",
     "text": [
      "{'Relevant': matlab.double([[1.0],[10.0],[16.0],[66.0]]), 'Value': matlab.double([[0.9902377164137997],[0.03770046080843809],[0.1735159119427114],[-0.0015400485285265032]])}\n"
     ]
    }
   ],
   "source": [
    "#!/usr/bin/env python\n",
    "\"\"\"\n",
    "Sample script that uses the SparseBayes module created using\n",
    "MATLAB Compiler SDK.\n",
    "\n",
    "Refer to the MATLAB Compiler SDK documentation for more information.\n",
    "\"\"\"\n",
    "\n",
    "from __future__ import print_function\n",
    "import SparseBayes\n",
    "import matlab\n",
    "\n",
    "my_SparseBayes = SparseBayes.initialize()\n",
    "\n",
    "DictIn = matlab.double(Dict, size=(D.shape[0], D.shape[1]))\n",
    "targetIn = matlab.double(xdts, size=(D.shape[0], 1))\n",
    "DMOut = my_SparseBayes.SparseBayes(DictIn, targetIn)\n",
    "print(DMOut, sep='\\n')\n",
    "\n",
    "my_SparseBayes.terminate()"
   ]
  },
  {
   "cell_type": "code",
   "execution_count": null,
   "metadata": {},
   "outputs": [],
   "source": [
    "c = np.array(DMOut['Value'])\n",
    "d = []\n",
    "for j in c:\n",
    "    d.append(j[0])\n",
    "    \n",
    "a = np.array(DMOut['Relevant'])\n",
    "b = []\n",
    "for i in a:\n",
    "    b.append(int((i[0])-1))\n",
    "    \n",
    "initz0 = np.zeros(D.shape[1])\n",
    "for i in b:\n",
    "    initz0[i] = 1\n",
    "    \n",
    "print(initz0)"
   ]
  },
  {
   "cell_type": "code",
   "execution_count": null,
   "metadata": {},
   "outputs": [],
   "source": [
    "tol = 0.0001\n",
    "verbosity = True\n",
    "initz0 = initz0\n",
    "DS = Variational_Bayes_Code(D, xdts, initz0, tol, verbosity)\n",
    "\n",
    "print(DS) "
   ]
  },
  {
   "cell_type": "code",
   "execution_count": 26,
   "metadata": {},
   "outputs": [
    {
     "name": "stdout",
     "output_type": "stream",
     "text": [
      "\n",
      "0.9948396401906255\n"
     ]
    },
    {
     "data": {
      "image/png": "[encoded data removed]",
      "text/plain": [
       "<Figure size 432x288 with 1 Axes>"
      ]
     },
     "metadata": {
      "needs_background": "light"
     },
     "output_type": "display_data"
    }
   ],
   "source": [
    "zmean19 = DS['zmean']\n",
    "wmean19 = DS['wmean']\n",
    "zmean19[np.where(np.diag(DS['wCOV'])>5e-4)] = 0\n",
    "plt.stem(zmean19)\n",
    "wmean19[np.where(np.diag(DS['wCOV'])>5e-4)] = 0\n",
    "print()\n",
    "print(np.sqrt(wmean19[0]))"
   ]
  },
  {
   "cell_type": "markdown",
   "metadata": {},
   "source": [
    "# Diffusion 18"
   ]
  },
  {
   "cell_type": "code",
   "execution_count": 22,
   "metadata": {},
   "outputs": [],
   "source": [
    "xdts = xzs44"
   ]
  },
  {
   "cell_type": "code",
   "execution_count": 23,
   "metadata": {},
   "outputs": [
    {
     "name": "stdout",
     "output_type": "stream",
     "text": [
      "{'Relevant': matlab.double([[1.0],[2.0],[8.0],[10.0],[16.0],[32.0],[44.0]]), 'Value': matlab.double([[0.9829104962907175],[0.017684805522163984],[0.07839617389488117],[0.03304306719188128],[0.23271855134551253],[-6.470732580911453],[2.3007160450505806]])}\n"
     ]
    }
   ],
   "source": [
    "#!/usr/bin/env python\n",
    "\"\"\"\n",
    "Sample script that uses the SparseBayes module created using\n",
    "MATLAB Compiler SDK.\n",
    "\n",
    "Refer to the MATLAB Compiler SDK documentation for more information.\n",
    "\"\"\"\n",
    "\n",
    "from __future__ import print_function\n",
    "import SparseBayes\n",
    "import matlab\n",
    "\n",
    "my_SparseBayes = SparseBayes.initialize()\n",
    "\n",
    "DictIn = matlab.double(Dict, size=(D.shape[0], D.shape[1]))\n",
    "targetIn = matlab.double(xdts, size=(D.shape[0], 1))\n",
    "DMOut = my_SparseBayes.SparseBayes(DictIn, targetIn)\n",
    "print(DMOut, sep='\\n')\n",
    "\n",
    "my_SparseBayes.terminate()"
   ]
  },
  {
   "cell_type": "code",
   "execution_count": null,
   "metadata": {},
   "outputs": [],
   "source": [
    "c = np.array(DMOut['Value'])\n",
    "d = []\n",
    "for j in c:\n",
    "    d.append(j[0])\n",
    "    \n",
    "a = np.array(DMOut['Relevant'])\n",
    "b = []\n",
    "for i in a:\n",
    "    b.append(int((i[0])-1))\n",
    "    \n",
    "initz0 = np.zeros(D.shape[1])\n",
    "for i in b:\n",
    "    initz0[i] = 1\n",
    "    \n",
    "print(initz0)"
   ]
  },
  {
   "cell_type": "code",
   "execution_count": null,
   "metadata": {},
   "outputs": [],
   "source": [
    "X = D\n",
    "y = xdts\n",
    "initz0 = initz0\n",
    "tol = 0.0001\n",
    "verbosity = True\n",
    "DS = Variational_Bayes_Code(X, y, initz0, tol, verbosity)\n",
    "print(DS)"
   ]
  },
  {
   "cell_type": "code",
   "execution_count": 27,
   "metadata": {},
   "outputs": [
    {
     "name": "stdout",
     "output_type": "stream",
     "text": [
      "\n",
      "0.9951885440082008\n"
     ]
    },
    {
     "data": {
      "image/png": "[encoded data removed]",
      "text/plain": [
       "<Figure size 432x288 with 1 Axes>"
      ]
     },
     "metadata": {
      "needs_background": "light"
     },
     "output_type": "display_data"
    }
   ],
   "source": [
    "zmean18 = DS['zmean']\n",
    "wmean18 = DS['wmean']\n",
    "zmean18[np.where(np.diag(DS['wCOV'])>5e-4)] = 0\n",
    "plt.stem(zmean18)\n",
    "wmean18[np.where(np.diag(DS['wCOV'])>5e-4)] = 0\n",
    "print()\n",
    "print(np.sqrt(wmean18[0]))"
   ]
  },
  {
   "cell_type": "markdown",
   "metadata": {},
   "source": [
    "# Diffusion 17"
   ]
  },
  {
   "cell_type": "code",
   "execution_count": 2,
   "metadata": {},
   "outputs": [],
   "source": [
    "import numpy as np\n",
    "import matplotlib.pyplot as plt\n",
    "\"\"\"\n",
    "A MDOF system excited by random noise\n",
    "----------------------------------------------------------------------\n",
    "\"\"\"\n",
    "\n",
    "def drift_mat(dof,k,c,m):\n",
    "    dim = 2 * dof\n",
    "    A = np.zeros((dim,dim))\n",
    "    \n",
    "    for i in range(dim):\n",
    "        if (i%2 == 0):\n",
    "            A[i][i+1] = 1\n",
    "    \n",
    "        elif(i==1):\n",
    "            A[i][i-1] = -(k+k)/m\n",
    "            A[i][i] = -(c+c)/m\n",
    "            A[i][i+1] = k/m\n",
    "            A[i][i+2] = c/m\n",
    "    \n",
    "        elif(i==dim-1):\n",
    "            A[i][i] = -c/m\n",
    "            A[i][i-1] = -k/m\n",
    "            A[i][i-2] = c/m\n",
    "            A[i][i-3] = k/m\n",
    "            \n",
    "        else:\n",
    "            A[i][i-3] = k/m \n",
    "            A[i][i-2] = c/m\n",
    "            A[i][i-1] = -(k+k)/m\n",
    "            A[i][i] = -(c+c)/m\n",
    "            A[i][i+1] = k/m\n",
    "            A[i][i+2] = c/m\n",
    "    return A\n",
    "\n",
    "def M_DOF_sys(x_initial, dof, T):\n",
    "    # parameters of M_DOF_sys in Equation\n",
    "    m = 1\n",
    "    c = 2\n",
    "    k = 3000\n",
    "    sigma = 1\n",
    "    \n",
    "    # solution by euler maruyama\n",
    "    # -------------------------------------------------------\n",
    "    dt = 0.0001\n",
    "    t = np.arange(0, T+dt, dt)\n",
    "    Nsamp = 200 # no. of samples in the run\n",
    "    \n",
    "    y7 = [] \n",
    "    y8 = []\n",
    "    y9 = []\n",
    "    y10 = []\n",
    "    y11 = []\n",
    "    y12 = []\n",
    "    y13 = []\n",
    "    y14 = []\n",
    "    \n",
    "    xz5 = []\n",
    "    xz6 = []\n",
    "    \n",
    "    xzs55 = []\n",
    "    xzs66 = []\n",
    "    \n",
    "    # Simulation Starts Here ::\n",
    "    # -------------------------------------------------------\n",
    "    for ensemble in range(Nsamp):\n",
    "        x0 = x_initial\n",
    "        x = x0                              # initial condition.\n",
    "        for n in range(len(t)-1):\n",
    "            dW = np.sqrt(dt)*np.random.randn(2*dof)\n",
    "            \n",
    "            '''LINEAR PART DRIFT'''\n",
    "        \n",
    "            A = drift_mat(dof,k,c,m)\n",
    "            \n",
    "            '''DIFFUSION TERM  = b'''\n",
    "            diffu_arr = np.zeros(2*dof)\n",
    "            for i in range(2*dof):\n",
    "                if (i%2 != 0):\n",
    "                    diffu_arr[i] = sigma/m\n",
    "            \n",
    "            soln_arr = x0 + np.matmul(A,x0)*dt + diffu_arr*dW        \n",
    "            x0 = soln_arr\n",
    "            x = np.column_stack((x, x0))\n",
    "            \n",
    "        y7.append(x[-7,:])\n",
    "        y8.append(x[-8,:])\n",
    "        y9.append(x[-9,:])         # Displacement\n",
    "        y10.append(x[-10,:])\n",
    "        y11.append(x[-11,:])       # Displacement\n",
    "        y12.append(x[-12,:])\n",
    "        y13.append(x[-13,:])\n",
    "        y14.append(x[-14,:])\n",
    "        \n",
    "        zint5 = x[-9, 0:-1]        # Velocity\n",
    "        xfinal5 = x[-9, 1:] \n",
    "        xmz5 = (xfinal5 - zint5)\n",
    "        \n",
    "        zint6 = x[-11, 0:-1]       # Velocity\n",
    "        xfinal6 = x[-11, 1:] \n",
    "        xmz6 = (xfinal6 - zint6) \n",
    "\n",
    "        xz5.append(xmz5)\n",
    "        xz6.append(xmz6)\n",
    "        \n",
    "        xmzsq55 = np.multiply(xmz5, xmz5)\n",
    "        xzs55.append(xmzsq55)\n",
    "        \n",
    "        xmzsq66 = np.multiply(xmz6, xmz6)\n",
    "        xzs66.append(xmzsq66)\n",
    "        \n",
    "    xz5 = pow(dt,-1)*np.mean(np.array(xz5), axis = 0)\n",
    "    xz6 = pow(dt,-1)*np.mean(np.array(xz6), axis = 0)\n",
    "\n",
    "    xzs55 = pow(dt,-1)*np.mean(np.array(xzs55), axis = 0)\n",
    "    xzs66 = pow(dt,-1)*np.mean(np.array(xzs66), axis = 0)\n",
    "    \n",
    "    y7 = np.array(y7)\n",
    "    y8 = np.array(y8)\n",
    "    y9 = np.array(y9)\n",
    "    y10 = np.array(y10)\n",
    "    y11 = np.array(y11)\n",
    "    y12 = np.array(y12)\n",
    "    y13 = np.array(y13)\n",
    "    y14 = np.array(y14)\n",
    "\n",
    "    time = t[0:-1]\n",
    "    return xz5, xz6, xzs55, xzs66, y7, y8, y9, y10, y11, y12, y13, y14, time"
   ]
  },
  {
   "cell_type": "code",
   "execution_count": 4,
   "metadata": {},
   "outputs": [
    {
     "name": "stdout",
     "output_type": "stream",
     "text": [
      "\n"
     ]
    },
    {
     "data": {
      "text/plain": [
       "19.26790297428767"
      ]
     },
     "execution_count": 4,
     "metadata": {},
     "output_type": "execute_result"
    }
   ],
   "source": [
    "import time\n",
    "start = time.time()\n",
    "xz5, xz6, xzs55, xzs66, y7, y8, y9, y10, y11, y12, y13, y14, time_ = M_DOF_sys(x_initial, dof, T)\n",
    "end = time.time()\n",
    "print()\n",
    "TIMES = (end - start)/60\n",
    "TIMES"
   ]
  },
  {
   "cell_type": "code",
   "execution_count": 5,
   "metadata": {},
   "outputs": [
    {
     "name": "stdout",
     "output_type": "stream",
     "text": [
      "\n"
     ]
    },
    {
     "data": {
      "text/plain": [
       "5.142264139652252"
      ]
     },
     "execution_count": 5,
     "metadata": {},
     "output_type": "execute_result"
    }
   ],
   "source": [
    "startD = time.time()\n",
    "# Expected Dictionary Creation:\n",
    "libr = []\n",
    "for j in range(len(y7)):\n",
    "    data = np.row_stack((y7[j,0:-1], y8[j,0:-1], y9[j,0:-1], y10[j,0:-1], y11[j,0:-1], y12[j,0:-1], y13[j,0:-1], y14[j,0:-1]))\n",
    "    Dtemp, nl = library(data, 1, 0)\n",
    "    libr.append(Dtemp)\n",
    "libr = np.array(libr)\n",
    "Dictionary= np.mean(libr, axis = 0)\n",
    "print()\n",
    "endD = time.time()\n",
    "TIMED = (endD - startD)/60\n",
    "TIMED"
   ]
  },
  {
   "cell_type": "code",
   "execution_count": 8,
   "metadata": {},
   "outputs": [],
   "source": [
    "xdts = xzs55\n",
    "D = Dictionary"
   ]
  },
  {
   "cell_type": "code",
   "execution_count": 10,
   "metadata": {},
   "outputs": [
    {
     "data": {
      "text/plain": [
       "(810000,)"
      ]
     },
     "execution_count": 10,
     "metadata": {},
     "output_type": "execute_result"
    }
   ],
   "source": [
    "Dict = D.reshape(-1,order='F')\n",
    "Dict.shape"
   ]
  },
  {
   "cell_type": "code",
   "execution_count": 11,
   "metadata": {
    "scrolled": true
   },
   "outputs": [
    {
     "name": "stdout",
     "output_type": "stream",
     "text": [
      "{'Relevant': matlab.double([[1.0],[7.0],[10.0],[14.0],[17.0],[22.0],[28.0],[42.0],[57.0]]), 'Value': matlab.double([[0.9856522615091673],[-5.7769476953383165],[0.1295363697115176],[0.03147533666869072],[1.3237589182557283],[-0.06687716389813055],[-2.401986797694255],[5.998084705771243],[1.1545312026326244]])}\n"
     ]
    }
   ],
   "source": [
    "#!/usr/bin/env python\n",
    "\"\"\"\n",
    "Sample script that uses the SparseBayes module created using\n",
    "MATLAB Compiler SDK.\n",
    "\n",
    "Refer to the MATLAB Compiler SDK documentation for more information.\n",
    "\"\"\"\n",
    "\n",
    "from __future__ import print_function\n",
    "import SparseBayes\n",
    "import matlab\n",
    "\n",
    "my_SparseBayes = SparseBayes.initialize()\n",
    "\n",
    "DictIn = matlab.double(Dict, size=(D.shape[0], D.shape[1]))\n",
    "targetIn = matlab.double(xdts, size=(D.shape[0], 1))\n",
    "DMOut = my_SparseBayes.SparseBayes(DictIn, targetIn)\n",
    "print(DMOut, sep='\\n')\n",
    "\n",
    "my_SparseBayes.terminate()"
   ]
  },
  {
   "cell_type": "code",
   "execution_count": null,
   "metadata": {},
   "outputs": [],
   "source": [
    "c = np.array(DMOut['Value'])\n",
    "d = []\n",
    "for j in c:\n",
    "    d.append(j[0])\n",
    "    \n",
    "a = np.array(DMOut['Relevant'])\n",
    "b = []\n",
    "for i in a:\n",
    "    b.append(int((i[0])-1))\n",
    "    \n",
    "initz0 = np.zeros(D.shape[1])\n",
    "for i in b:\n",
    "    initz0[i] = 1\n",
    "    \n",
    "print(initz0)"
   ]
  },
  {
   "cell_type": "code",
   "execution_count": null,
   "metadata": {},
   "outputs": [],
   "source": [
    "tol = 0.0001\n",
    "verbosity = True\n",
    "initz0 = initz0\n",
    "DS = Variational_Bayes_Code(D, xdts, initz0, tol, verbosity)\n",
    "\n",
    "print(DS) "
   ]
  },
  {
   "cell_type": "code",
   "execution_count": 18,
   "metadata": {},
   "outputs": [
    {
     "name": "stdout",
     "output_type": "stream",
     "text": [
      "\n",
      "0.9879038178340201\n"
     ]
    },
    {
     "data": {
      "image/png": "[encoded data removed]",
      "text/plain": [
       "<Figure size 432x288 with 1 Axes>"
      ]
     },
     "metadata": {
      "needs_background": "light"
     },
     "output_type": "display_data"
    }
   ],
   "source": [
    "zmean17 = DS['zmean']\n",
    "wmean17 = DS['wmean']\n",
    "zmean17[np.where(np.diag(DS['wCOV'])>5e-4)] = 0\n",
    "plt.stem(zmean17)\n",
    "wmean17[np.where(np.diag(DS['wCOV'])>5e-4)] = 0\n",
    "print()\n",
    "print(np.sqrt(wmean17[0]))"
   ]
  },
  {
   "cell_type": "markdown",
   "metadata": {},
   "source": [
    "# Diffusion 16"
   ]
  },
  {
   "cell_type": "code",
   "execution_count": 19,
   "metadata": {},
   "outputs": [],
   "source": [
    "xdts = xzs66"
   ]
  },
  {
   "cell_type": "code",
   "execution_count": 20,
   "metadata": {},
   "outputs": [
    {
     "name": "stdout",
     "output_type": "stream",
     "text": [
      "{'Relevant': matlab.double([[1.0],[10.0],[12.0],[17.0],[22.0],[68.0],[74.0]]), 'Value': matlab.double([[0.9986686919411943],[0.06107333439196258],[0.05112997931735707],[0.9286076095842783],[-0.16636177182023776],[0.24765371476749282],[-2.0997286353123954]])}\n"
     ]
    }
   ],
   "source": [
    "#!/usr/bin/env python\n",
    "\"\"\"\n",
    "Sample script that uses the SparseBayes module created using\n",
    "MATLAB Compiler SDK.\n",
    "\n",
    "Refer to the MATLAB Compiler SDK documentation for more information.\n",
    "\"\"\"\n",
    "\n",
    "from __future__ import print_function\n",
    "import SparseBayes\n",
    "import matlab\n",
    "\n",
    "my_SparseBayes = SparseBayes.initialize()\n",
    "\n",
    "DictIn = matlab.double(Dict, size=(D.shape[0], D.shape[1]))\n",
    "targetIn = matlab.double(xdts, size=(D.shape[0], 1))\n",
    "DMOut = my_SparseBayes.SparseBayes(DictIn, targetIn)\n",
    "print(DMOut, sep='\\n')\n",
    "\n",
    "my_SparseBayes.terminate()"
   ]
  },
  {
   "cell_type": "code",
   "execution_count": 21,
   "metadata": {},
   "outputs": [
    {
     "name": "stdout",
     "output_type": "stream",
     "text": [
      "[1. 0. 0. 0. 0. 0. 0. 0. 0. 1. 0. 1. 0. 0. 0. 0. 1. 0. 0. 0. 0. 1. 0. 0.\n",
      " 0. 0. 0. 0. 0. 0. 0. 0. 0. 0. 0. 0. 0. 0. 0. 0. 0. 0. 0. 0. 0. 0. 0. 0.\n",
      " 0. 0. 0. 0. 0. 0. 0. 0. 0. 0. 0. 0. 0. 0. 0. 0. 0. 0. 0. 1. 0. 0. 0. 0.\n",
      " 0. 1. 0. 0. 0. 0. 0. 0. 0.]\n"
     ]
    }
   ],
   "source": [
    "c = np.array(DMOut['Value'])\n",
    "d = []\n",
    "for j in c:\n",
    "    d.append(j[0])\n",
    "    \n",
    "a = np.array(DMOut['Relevant'])\n",
    "b = []\n",
    "for i in a:\n",
    "    b.append(int((i[0])-1))\n",
    "    \n",
    "initz0 = np.zeros(D.shape[1])\n",
    "for i in b:\n",
    "    initz0[i] = 1\n",
    "    \n",
    "print(initz0)"
   ]
  },
  {
   "cell_type": "code",
   "execution_count": null,
   "metadata": {},
   "outputs": [],
   "source": [
    "tol = 0.0001\n",
    "verbosity = True\n",
    "initz0 = initz0\n",
    "DS = Variational_Bayes_Code(D, xdts, initz0, tol, verbosity)\n",
    "\n",
    "print(DS) "
   ]
  },
  {
   "cell_type": "code",
   "execution_count": 24,
   "metadata": {
    "scrolled": true
   },
   "outputs": [
    {
     "name": "stdout",
     "output_type": "stream",
     "text": [
      "\n",
      "0.9957340261966928\n"
     ]
    },
    {
     "data": {
      "image/png": "[encoded data removed]",
      "text/plain": [
       "<Figure size 432x288 with 1 Axes>"
      ]
     },
     "metadata": {
      "needs_background": "light"
     },
     "output_type": "display_data"
    }
   ],
   "source": [
    "zmean16 = DS['zmean']\n",
    "wmean16 = DS['wmean']\n",
    "zmean16[np.where(np.diag(DS['wCOV'])>5e-4)] = 0\n",
    "plt.stem(zmean16)\n",
    "wmean16[np.where(np.diag(DS['wCOV'])>5e-4)] = 0\n",
    "print()\n",
    "print(np.sqrt(wmean16[0]))"
   ]
  },
  {
   "cell_type": "markdown",
   "metadata": {},
   "source": [
    "# Diffusion 15"
   ]
  },
  {
   "cell_type": "code",
   "execution_count": 2,
   "metadata": {},
   "outputs": [],
   "source": [
    "import numpy as np\n",
    "import matplotlib.pyplot as plt\n",
    "\"\"\"\n",
    "A MDOF system excited by random noise\n",
    "----------------------------------------------------------------------\n",
    "\"\"\"\n",
    "\n",
    "def drift_mat(dof,k,c,m):\n",
    "    dim = 2 * dof\n",
    "    A = np.zeros((dim,dim))\n",
    "    \n",
    "    for i in range(dim):\n",
    "        if (i%2 == 0):\n",
    "            A[i][i+1] = 1\n",
    "    \n",
    "        elif(i==1):\n",
    "            A[i][i-1] = -(k+k)/m\n",
    "            A[i][i] = -(c+c)/m\n",
    "            A[i][i+1] = k/m\n",
    "            A[i][i+2] = c/m\n",
    "    \n",
    "        elif(i==dim-1):\n",
    "            A[i][i] = -c/m\n",
    "            A[i][i-1] = -k/m\n",
    "            A[i][i-2] = c/m\n",
    "            A[i][i-3] = k/m\n",
    "            \n",
    "        else:\n",
    "            A[i][i-3] = k/m \n",
    "            A[i][i-2] = c/m\n",
    "            A[i][i-1] = -(k+k)/m\n",
    "            A[i][i] = -(c+c)/m\n",
    "            A[i][i+1] = k/m\n",
    "            A[i][i+2] = c/m\n",
    "    return A\n",
    "\n",
    "def M_DOF_sys(x_initial, dof, T):\n",
    "    # parameters of M_DOF_sys in Equation\n",
    "    m = 1\n",
    "    c = 2\n",
    "    k = 3000\n",
    "    sigma = 1\n",
    "    \n",
    "    # solution by euler maruyama\n",
    "    # -------------------------------------------------------\n",
    "    dt = 0.0001\n",
    "    t = np.arange(0, T+dt, dt)\n",
    "    Nsamp = 200 # no. of samples in the run\n",
    "\n",
    "    y11 = []  \n",
    "    y12 = []\n",
    "    y13 = []\n",
    "    y14 = []\n",
    "    y15 = []\n",
    "    y16 = []\n",
    "    y17 = []\n",
    "    y18 = []\n",
    "    \n",
    "    xz7 = []\n",
    "    xz8 = []\n",
    "    \n",
    "    xzs77 = []\n",
    "    xzs88 = []\n",
    "    \n",
    "    # Simulation Starts Here ::\n",
    "    # -------------------------------------------------------\n",
    "    for ensemble in range(Nsamp):\n",
    "        x0 = x_initial\n",
    "        x = x0                              # initial condition.\n",
    "        for n in range(len(t)-1):\n",
    "            dW = np.sqrt(dt)*np.random.randn(2*dof)\n",
    "            \n",
    "            '''LINEAR PART DRIFT'''\n",
    "        \n",
    "            A = drift_mat(dof,k,c,m)\n",
    "            \n",
    "            '''DIFFUSION TERM  = b'''\n",
    "            diffu_arr = np.zeros(2*dof)\n",
    "            for i in range(2*dof):\n",
    "                if (i%2 != 0):\n",
    "                    diffu_arr[i] = sigma/m\n",
    "            \n",
    "            soln_arr = x0 + np.matmul(A,x0)*dt + diffu_arr*dW        \n",
    "            x0 = soln_arr\n",
    "            x = np.column_stack((x, x0))\n",
    "            \n",
    "        y11.append(x[-11,:])       \n",
    "        y12.append(x[-12,:])\n",
    "        y13.append(x[-13,:])       # Displacement\n",
    "        y14.append(x[-14,:])\n",
    "        y15.append(x[-15,:])       # Displacement     \n",
    "        y16.append(x[-16,:])\n",
    "        y17.append(x[-17,:])       \n",
    "        y18.append(x[-18,:])\n",
    "\n",
    "        \n",
    "        zint7 = x[-13, 0:-1]        # Velocity\n",
    "        xfinal7 = x[-13, 1:] \n",
    "        xmz7 = (xfinal7 - zint7)\n",
    "        \n",
    "        zint8 = x[-15, 0:-1]       # Velocity\n",
    "        xfinal8 = x[-15, 1:] \n",
    "        xmz8 = (xfinal8 - zint8) \n",
    "\n",
    "        xz7.append(xmz7)\n",
    "        xz8.append(xmz8)\n",
    "        \n",
    "        xmzsq77 = np.multiply(xmz7, xmz7)\n",
    "        xzs77.append(xmzsq77)\n",
    "        \n",
    "        xmzsq88 = np.multiply(xmz8, xmz8)\n",
    "        xzs88.append(xmzsq88)\n",
    "        \n",
    "    xz7 = pow(dt,-1)*np.mean(np.array(xz7), axis = 0)\n",
    "    xz8 = pow(dt,-1)*np.mean(np.array(xz8), axis = 0)\n",
    "\n",
    "    xzs77 = pow(dt,-1)*np.mean(np.array(xzs77), axis = 0)\n",
    "    xzs88 = pow(dt,-1)*np.mean(np.array(xzs88), axis = 0)\n",
    "\n",
    "    y11 = np.array(y11)\n",
    "    y12 = np.array(y12)\n",
    "    y13 = np.array(y13)\n",
    "    y14 = np.array(y14)\n",
    "    y15 = np.array(y15)\n",
    "    y16 = np.array(y16)\n",
    "    y17 = np.array(y17)\n",
    "    y18 = np.array(y18)\n",
    "\n",
    "    time = t[0:-1]\n",
    "    return xz7, xz8, xzs77, xzs88, y11, y12, y13, y14, y15, y16, y17, y18, time"
   ]
  },
  {
   "cell_type": "code",
   "execution_count": 4,
   "metadata": {
    "scrolled": true
   },
   "outputs": [
    {
     "name": "stdout",
     "output_type": "stream",
     "text": [
      "\n"
     ]
    },
    {
     "data": {
      "text/plain": [
       "20.859048147996265"
      ]
     },
     "execution_count": 4,
     "metadata": {},
     "output_type": "execute_result"
    }
   ],
   "source": [
    "import time\n",
    "start = time.time()\n",
    "xz7, xz8, xzs77, xzs88, y11, y12, y13, y14, y15, y16, y17, y18, time_ = M_DOF_sys(x_initial, dof, T)\n",
    "end = time.time()\n",
    "print()\n",
    "TIMES = (end - start)/60\n",
    "TIMES"
   ]
  },
  {
   "cell_type": "code",
   "execution_count": 5,
   "metadata": {},
   "outputs": [
    {
     "name": "stdout",
     "output_type": "stream",
     "text": [
      "\n"
     ]
    },
    {
     "data": {
      "text/plain": [
       "5.4062581896781925"
      ]
     },
     "execution_count": 5,
     "metadata": {},
     "output_type": "execute_result"
    }
   ],
   "source": [
    "startD = time.time()\n",
    "# Expected Dictionary Creation:\n",
    "libr = []\n",
    "for j in range(len(y11)):\n",
    "    data = np.row_stack((y11[j,0:-1], y12[j,0:-1], y13[j,0:-1], y14[j,0:-1], y15[j,0:-1], y16[j,0:-1], y17[j,0:-1], y18[j,0:-1]))\n",
    "    Dtemp, nl = library(data, 1, 0)\n",
    "    libr.append(Dtemp)\n",
    "libr = np.array(libr)\n",
    "Dictionary= np.mean(libr, axis = 0)\n",
    "print()\n",
    "endD = time.time()\n",
    "TIMED = (endD - startD)/60\n",
    "TIMED"
   ]
  },
  {
   "cell_type": "code",
   "execution_count": 7,
   "metadata": {},
   "outputs": [],
   "source": [
    "xdts = xzs77\n",
    "D = Dictionary"
   ]
  },
  {
   "cell_type": "code",
   "execution_count": null,
   "metadata": {},
   "outputs": [],
   "source": [
    "Dict = D.reshape(-1,order='F')\n",
    "Dict.shape"
   ]
  },
  {
   "cell_type": "code",
   "execution_count": 10,
   "metadata": {
    "scrolled": true
   },
   "outputs": [
    {
     "name": "stdout",
     "output_type": "stream",
     "text": [
      "{'Relevant': matlab.double([[1.0],[5.0],[10.0],[15.0],[16.0],[22.0],[25.0],[33.0],[36.0],[38.0],[62.0],[66.0],[76.0]]), 'Value': matlab.double([[0.9971517057741365],[-2.208784708696819],[0.08804737106915496],[1.1612198629373638],[0.03864005321671668],[-0.2710952538083632],[6.505291021506413],[-73.29105255806566],[0.16624307423825338],[-0.4635422765099648],[7.703174796530834],[-0.1503369728963538],[2.5409780686755505]])}\n"
     ]
    }
   ],
   "source": [
    "#!/usr/bin/env python\n",
    "\"\"\"\n",
    "Sample script that uses the SparseBayes module created using\n",
    "MATLAB Compiler SDK.\n",
    "\n",
    "Refer to the MATLAB Compiler SDK documentation for more information.\n",
    "\"\"\"\n",
    "\n",
    "from __future__ import print_function\n",
    "import SparseBayes\n",
    "import matlab\n",
    "\n",
    "my_SparseBayes = SparseBayes.initialize()\n",
    "\n",
    "DictIn = matlab.double(Dict, size=(D.shape[0], D.shape[1]))\n",
    "targetIn = matlab.double(xdts, size=(D.shape[0], 1))\n",
    "DMOut = my_SparseBayes.SparseBayes(DictIn, targetIn)\n",
    "print(DMOut, sep='\\n')\n",
    "\n",
    "my_SparseBayes.terminate()"
   ]
  },
  {
   "cell_type": "code",
   "execution_count": null,
   "metadata": {},
   "outputs": [],
   "source": [
    "c = np.array(DMOut['Value'])\n",
    "d = []\n",
    "for j in c:\n",
    "    d.append(j[0])\n",
    "    \n",
    "a = np.array(DMOut['Relevant'])\n",
    "b = []\n",
    "for i in a:\n",
    "    b.append(int((i[0])-1))\n",
    "    \n",
    "initz0 = np.zeros(D.shape[1])\n",
    "for i in b:\n",
    "    initz0[i] = 1\n",
    "    "
   ]
  },
  {
   "cell_type": "code",
   "execution_count": null,
   "metadata": {
    "scrolled": true
   },
   "outputs": [],
   "source": [
    "D.shape, initz0.shape"
   ]
  },
  {
   "cell_type": "code",
   "execution_count": null,
   "metadata": {},
   "outputs": [],
   "source": [
    "tol = 0.0001\n",
    "verbosity = True\n",
    "initz0 = initz0\n",
    "DS = Variational_Bayes_Code(D, xdts, initz0, tol, verbosity)\n",
    "\n",
    "print(DS) "
   ]
  },
  {
   "cell_type": "code",
   "execution_count": 17,
   "metadata": {},
   "outputs": [
    {
     "name": "stdout",
     "output_type": "stream",
     "text": [
      "\n",
      "0.9931591580867489\n"
     ]
    },
    {
     "data": {
      "image/png": "[encoded data removed]",
      "text/plain": [
       "<Figure size 432x288 with 1 Axes>"
      ]
     },
     "metadata": {
      "needs_background": "light"
     },
     "output_type": "display_data"
    }
   ],
   "source": [
    "zmean15 = DS['zmean']\n",
    "wmean15 = DS['wmean']\n",
    "zmean15[np.where(np.diag(DS['wCOV'])>5e-4)] = 0\n",
    "plt.stem(zmean15)\n",
    "wmean15[np.where(np.diag(DS['wCOV'])>5e-4)] = 0\n",
    "print()\n",
    "print(np.sqrt(wmean15[0]))"
   ]
  },
  {
   "cell_type": "markdown",
   "metadata": {},
   "source": [
    "# Diffusion 14"
   ]
  },
  {
   "cell_type": "code",
   "execution_count": 18,
   "metadata": {},
   "outputs": [],
   "source": [
    "xdts = xzs88"
   ]
  },
  {
   "cell_type": "code",
   "execution_count": 19,
   "metadata": {},
   "outputs": [
    {
     "name": "stdout",
     "output_type": "stream",
     "text": [
      "{'Relevant': matlab.double([[1.0],[12.0],[21.0],[29.0],[38.0],[39.0],[40.0],[48.0],[54.0],[66.0]]), 'Value': matlab.double([[0.9898238800188733],[0.1984746422085559],[-1.7640145233784053],[22.759960116207843],[0.16043836300211084],[4.804876679996905],[-0.5365290588344515],[2.621775577335877],[0.019734250831577486],[0.16141525748343863]])}\n"
     ]
    }
   ],
   "source": [
    "#!/usr/bin/env python\n",
    "\"\"\"\n",
    "Sample script that uses the SparseBayes module created using\n",
    "MATLAB Compiler SDK.\n",
    "\n",
    "Refer to the MATLAB Compiler SDK documentation for more information.\n",
    "\"\"\"\n",
    "\n",
    "from __future__ import print_function\n",
    "import SparseBayes\n",
    "import matlab\n",
    "\n",
    "my_SparseBayes = SparseBayes.initialize()\n",
    "\n",
    "DictIn = matlab.double(Dict, size=(D.shape[0], D.shape[1]))\n",
    "targetIn = matlab.double(xdts, size=(D.shape[0], 1))\n",
    "DMOut = my_SparseBayes.SparseBayes(DictIn, targetIn)\n",
    "print(DMOut, sep='\\n')\n",
    "\n",
    "my_SparseBayes.terminate()"
   ]
  },
  {
   "cell_type": "code",
   "execution_count": null,
   "metadata": {},
   "outputs": [],
   "source": [
    "c = np.array(DMOut['Value'])\n",
    "d = []\n",
    "for j in c:\n",
    "    d.append(j[0])\n",
    "    \n",
    "a = np.array(DMOut['Relevant'])\n",
    "b = []\n",
    "for i in a:\n",
    "    b.append(int((i[0])-1))\n",
    "    \n",
    "initz0 = np.zeros(D.shape[1])\n",
    "for i in b:\n",
    "    initz0[i] = 1"
   ]
  },
  {
   "cell_type": "code",
   "execution_count": null,
   "metadata": {},
   "outputs": [],
   "source": [
    "tol = 0.0001\n",
    "verbosity = True\n",
    "initz0 = initz0\n",
    "DS = Variational_Bayes_Code(D, xdts, initz0, tol, verbosity)\n",
    "\n",
    "print(DS) "
   ]
  },
  {
   "cell_type": "code",
   "execution_count": 24,
   "metadata": {},
   "outputs": [
    {
     "name": "stdout",
     "output_type": "stream",
     "text": [
      "\n",
      "0.9910134166011874\n"
     ]
    },
    {
     "data": {
      "image/png": "[encoded data removed]",
      "text/plain": [
       "<Figure size 432x288 with 1 Axes>"
      ]
     },
     "metadata": {
      "needs_background": "light"
     },
     "output_type": "display_data"
    }
   ],
   "source": [
    "zmean14 = DS['zmean']\n",
    "wmean14 = DS['wmean']\n",
    "zmean14[np.where(np.diag(DS['wCOV'])>5e-5)] = 0\n",
    "plt.stem(zmean14)\n",
    "wmean14[np.where(np.diag(DS['wCOV'])>5e-5)] = 0\n",
    "print()\n",
    "print(np.sqrt(wmean14[0]))"
   ]
  },
  {
   "cell_type": "markdown",
   "metadata": {},
   "source": [
    "# Diffusion 13"
   ]
  },
  {
   "cell_type": "code",
   "execution_count": 2,
   "metadata": {},
   "outputs": [],
   "source": [
    "import numpy as np\n",
    "import matplotlib.pyplot as plt\n",
    "\"\"\"\n",
    "A MDOF system excited by random noise\n",
    "----------------------------------------------------------------------\n",
    "\"\"\"\n",
    "\n",
    "def drift_mat(dof,k,c,m):\n",
    "    dim = 2 * dof\n",
    "    A = np.zeros((dim,dim))\n",
    "    \n",
    "    for i in range(dim):\n",
    "        if (i%2 == 0):\n",
    "            A[i][i+1] = 1\n",
    "    \n",
    "        elif(i==1):\n",
    "            A[i][i-1] = -(k+k)/m\n",
    "            A[i][i] = -(c+c)/m\n",
    "            A[i][i+1] = k/m\n",
    "            A[i][i+2] = c/m\n",
    "    \n",
    "        elif(i==dim-1):\n",
    "            A[i][i] = -c/m\n",
    "            A[i][i-1] = -k/m\n",
    "            A[i][i-2] = c/m\n",
    "            A[i][i-3] = k/m\n",
    "            \n",
    "        else:\n",
    "            A[i][i-3] = k/m \n",
    "            A[i][i-2] = c/m\n",
    "            A[i][i-1] = -(k+k)/m\n",
    "            A[i][i] = -(c+c)/m\n",
    "            A[i][i+1] = k/m\n",
    "            A[i][i+2] = c/m\n",
    "    return A\n",
    "\n",
    "def M_DOF_sys(x_initial, dof, T):\n",
    "    # parameters of M_DOF_sys in Equation\n",
    "    m = 1\n",
    "    c = 2\n",
    "    k = 3000\n",
    "    sigma = 1\n",
    "    \n",
    "    # solution by euler maruyama\n",
    "    # -------------------------------------------------------\n",
    "    dt = 0.0001\n",
    "    t = np.arange(0, T+dt, dt)\n",
    "    Nsamp = 200 # no. of samples in the run\n",
    "\n",
    "    y15 = []\n",
    "    y16 = []\n",
    "    y17 = []\n",
    "    y18 = []\n",
    "    y19 = []  \n",
    "    y20 = []\n",
    "    y21 = []\n",
    "    y22 = []\n",
    "    \n",
    "    xz9 = []\n",
    "    xz10 = []\n",
    "    \n",
    "    xzs9 = []\n",
    "    xzs10 = []\n",
    "    \n",
    "    # Simulation Starts Here ::\n",
    "    # -------------------------------------------------------\n",
    "    for ensemble in range(Nsamp):\n",
    "        x0 = x_initial\n",
    "        x = x0                              # initial condition.\n",
    "        for n in range(len(t)-1):\n",
    "            dW = np.sqrt(dt)*np.random.randn(2*dof)\n",
    "            \n",
    "            '''LINEAR PART DRIFT'''\n",
    "        \n",
    "            A = drift_mat(dof,k,c,m)\n",
    "            \n",
    "            '''DIFFUSION TERM  = b'''\n",
    "            diffu_arr = np.zeros(2*dof)\n",
    "            for i in range(2*dof):\n",
    "                if (i%2 != 0):\n",
    "                    diffu_arr[i] = sigma/m\n",
    "            \n",
    "            soln_arr = x0 + np.matmul(A,x0)*dt + diffu_arr*dW        \n",
    "            x0 = soln_arr\n",
    "            x = np.column_stack((x, x0))\n",
    "            \n",
    "        y15.append(x[-15,:])           \n",
    "        y16.append(x[-16,:])\n",
    "        y17.append(x[-17,:])       # Displacement \n",
    "        y18.append(x[-18,:])\n",
    "        y19.append(x[-19,:])       # Displacement         \n",
    "        y20.append(x[-20,:])\n",
    "        y21.append(x[-21,:])           \n",
    "        y22.append(x[-22,:])\n",
    "\n",
    "        \n",
    "        zint9 = x[-17, 0:-1]        # Velocity\n",
    "        xfinal9 = x[-17, 1:] \n",
    "        xmz9 = (xfinal9 - zint9)\n",
    "        \n",
    "        zint10 = x[-19, 0:-1]       # Velocity\n",
    "        xfinal10 = x[-19, 1:] \n",
    "        xmz10 = (xfinal10 - zint10) \n",
    "\n",
    "        xz9.append(xmz9)\n",
    "        xz10.append(xmz10)\n",
    "        \n",
    "        xmzsq9 = np.multiply(xmz9, xmz9)\n",
    "        xzs9.append(xmzsq9)\n",
    "        \n",
    "        xmzsq10 = np.multiply(xmz10, xmz10)\n",
    "        xzs10.append(xmzsq10)\n",
    "        \n",
    "    xz9 = pow(dt,-1)*np.mean(np.array(xz9), axis = 0)\n",
    "    xz10 = pow(dt,-1)*np.mean(np.array(xz10), axis = 0)\n",
    "\n",
    "    xzs9 = pow(dt,-1)*np.mean(np.array(xzs9), axis = 0)\n",
    "    xzs10 = pow(dt,-1)*np.mean(np.array(xzs10), axis = 0)\n",
    "\n",
    "    y15 = np.array(y15)\n",
    "    y16 = np.array(y16)\n",
    "    y17 = np.array(y17)\n",
    "    y18 = np.array(y18)\n",
    "    y19 = np.array(y19)\n",
    "    y20 = np.array(y20)\n",
    "    y21 = np.array(y21)\n",
    "    y22 = np.array(y22)\n",
    "\n",
    "    time = t[0:-1]\n",
    "    return xz9, xz10, xzs9, xzs10, y15, y16, y17, y18, y19, y20, y21, y22, time"
   ]
  },
  {
   "cell_type": "code",
   "execution_count": 4,
   "metadata": {},
   "outputs": [
    {
     "name": "stdout",
     "output_type": "stream",
     "text": [
      "\n"
     ]
    },
    {
     "data": {
      "text/plain": [
       "19.68596785068512"
      ]
     },
     "execution_count": 4,
     "metadata": {},
     "output_type": "execute_result"
    }
   ],
   "source": [
    "import time\n",
    "start = time.time()\n",
    "xz9, xz10, xzs9, xzs10, y15, y16, y17, y18, y19, y20, y21, y22, time_ = M_DOF_sys(x_initial, dof, T)\n",
    "end = time.time()\n",
    "print()\n",
    "TIMES = (end - start)/60"
   ]
  },
  {
   "cell_type": "code",
   "execution_count": 5,
   "metadata": {},
   "outputs": [
    {
     "name": "stdout",
     "output_type": "stream",
     "text": [
      "\n"
     ]
    },
    {
     "data": {
      "text/plain": [
       "5.870998533566793"
      ]
     },
     "execution_count": 5,
     "metadata": {},
     "output_type": "execute_result"
    }
   ],
   "source": [
    "startD = time.time()\n",
    "# Expected Dictionary Creation:\n",
    "libr = []\n",
    "for j in range(len(y15)):\n",
    "    data = np.row_stack((y15[j,0:-1], y16[j,0:-1], y17[j,0:-1], y18[j,0:-1], y19[j,0:-1], y20[j,0:-1], y21[j,0:-1], y22[j,0:-1], ))\n",
    "    Dtemp, nl = library(data, 1, 0)\n",
    "    libr.append(Dtemp)\n",
    "libr = np.array(libr)\n",
    "Dictionary= np.mean(libr, axis = 0)\n",
    "print()\n",
    "endD = time.time()\n",
    "TIMED = (endD - startD)/60"
   ]
  },
  {
   "cell_type": "code",
   "execution_count": 16,
   "metadata": {},
   "outputs": [],
   "source": [
    "xdts = xzs9\n",
    "D = Dictionary"
   ]
  },
  {
   "cell_type": "code",
   "execution_count": null,
   "metadata": {},
   "outputs": [],
   "source": [
    "Dict = D.reshape(-1,order='F')"
   ]
  },
  {
   "cell_type": "code",
   "execution_count": 19,
   "metadata": {
    "scrolled": true
   },
   "outputs": [
    {
     "name": "stdout",
     "output_type": "stream",
     "text": [
      "{'Relevant': matlab.double([[1.0],[14.0],[16.0],[17.0],[19.0],[36.0],[46.0],[48.0],[66.0],[76.0]]), 'Value': matlab.double([[0.9887861795793844],[0.16627148199625685],[0.020618577926066157],[0.6155326121163215],[0.9625336857653004],[0.18254947020856085],[2.955372415771637],[-5.0974527174618105],[0.016686824666610794],[0.2936330739605453]])}\n"
     ]
    }
   ],
   "source": [
    "#!/usr/bin/env python\n",
    "\"\"\"\n",
    "Sample script that uses the SparseBayes module created using\n",
    "MATLAB Compiler SDK.\n",
    "\n",
    "Refer to the MATLAB Compiler SDK documentation for more information.\n",
    "\"\"\"\n",
    "\n",
    "from __future__ import print_function\n",
    "import SparseBayes\n",
    "import matlab\n",
    "\n",
    "my_SparseBayes = SparseBayes.initialize()\n",
    "\n",
    "DictIn = matlab.double(Dict, size=(D.shape[0], D.shape[1]))\n",
    "targetIn = matlab.double(xdts, size=(D.shape[0], 1))\n",
    "DMOut = my_SparseBayes.SparseBayes(DictIn, targetIn)\n",
    "print(DMOut, sep='\\n')\n",
    "\n",
    "my_SparseBayes.terminate()"
   ]
  },
  {
   "cell_type": "code",
   "execution_count": null,
   "metadata": {},
   "outputs": [],
   "source": [
    "c = np.array(DMOut['Value'])\n",
    "d = []\n",
    "for j in c:\n",
    "    d.append(j[0])\n",
    "    \n",
    "a = np.array(DMOut['Relevant'])\n",
    "b = []\n",
    "for i in a:\n",
    "    b.append(int((i[0])-1))\n",
    "    \n",
    "initz0 = np.zeros(D.shape[1])\n",
    "for i in b:\n",
    "    initz0[i] = 1\n",
    "    \n",
    "print(initz0)"
   ]
  },
  {
   "cell_type": "code",
   "execution_count": null,
   "metadata": {},
   "outputs": [],
   "source": [
    "tol = 0.0001\n",
    "verbosity = True\n",
    "initz0 = initz0\n",
    "DS = Variational_Bayes_Code(D, xdts, initz0, tol, verbosity)\n",
    "\n",
    "print(DS) "
   ]
  },
  {
   "cell_type": "code",
   "execution_count": 29,
   "metadata": {},
   "outputs": [
    {
     "name": "stdout",
     "output_type": "stream",
     "text": [
      "\n",
      "0.9916373021096109\n"
     ]
    },
    {
     "data": {
      "image/png": "[encoded data removed]",
      "text/plain": [
       "<Figure size 432x288 with 1 Axes>"
      ]
     },
     "metadata": {
      "needs_background": "light"
     },
     "output_type": "display_data"
    }
   ],
   "source": [
    "zmean13 = DS['zmean']\n",
    "wmean13 = DS['wmean']\n",
    "zmean13[np.where(np.diag(DS['wCOV'])>6.2e-4)] = 0\n",
    "plt.stem(zmean13)\n",
    "wmean13[np.where(np.diag(DS['wCOV'])>6.2e-4)] = 0\n",
    "print()\n",
    "print(np.sqrt(wmean13[0]))"
   ]
  },
  {
   "cell_type": "markdown",
   "metadata": {},
   "source": [
    "# Diffusion 12"
   ]
  },
  {
   "cell_type": "code",
   "execution_count": 30,
   "metadata": {},
   "outputs": [],
   "source": [
    "xdts = xzs10"
   ]
  },
  {
   "cell_type": "code",
   "execution_count": 31,
   "metadata": {},
   "outputs": [
    {
     "name": "stdout",
     "output_type": "stream",
     "text": [
      "{'Relevant': matlab.double([[1.0],[7.0],[11.0],[16.0],[20.0],[26.0],[34.0],[36.0],[38.0],[53.0],[56.0],[60.0],[66.0],[68.0],[72.0]]), 'Value': matlab.double([[0.9865209229832042],[-3.3038173413435667],[0.36279558457966843],[0.20623872242677171],[0.14510573029054788],[2.1310335062326593],[-0.24825274089512409],[0.3334672657439126],[-0.13689974391090637],[-3.9553204569491047],[0.19512895868011365],[6.021401815032007],[-0.49036459275335337],[0.5573999164587363],[0.06858133601857361]])}\n"
     ]
    }
   ],
   "source": [
    "#!/usr/bin/env python\n",
    "\"\"\"\n",
    "Sample script that uses the SparseBayes module created using\n",
    "MATLAB Compiler SDK.\n",
    "\n",
    "Refer to the MATLAB Compiler SDK documentation for more information.\n",
    "\"\"\"\n",
    "\n",
    "from __future__ import print_function\n",
    "import SparseBayes\n",
    "import matlab\n",
    "\n",
    "my_SparseBayes = SparseBayes.initialize()\n",
    "\n",
    "DictIn = matlab.double(Dict, size=(D.shape[0], D.shape[1]))\n",
    "targetIn = matlab.double(xdts, size=(D.shape[0], 1))\n",
    "DMOut = my_SparseBayes.SparseBayes(DictIn, targetIn)\n",
    "print(DMOut, sep='\\n')\n",
    "\n",
    "my_SparseBayes.terminate()"
   ]
  },
  {
   "cell_type": "code",
   "execution_count": null,
   "metadata": {},
   "outputs": [],
   "source": [
    "c = np.array(DMOut['Value'])\n",
    "d = []\n",
    "for j in c:\n",
    "    d.append(j[0])\n",
    "    \n",
    "a = np.array(DMOut['Relevant'])\n",
    "b = []\n",
    "for i in a:\n",
    "    b.append(int((i[0])-1))\n",
    "    \n",
    "initz0 = np.zeros(D.shape[1])\n",
    "for i in b:\n",
    "    initz0[i] = 1\n",
    "    \n",
    "print(initz0)"
   ]
  },
  {
   "cell_type": "code",
   "execution_count": null,
   "metadata": {},
   "outputs": [],
   "source": [
    "tol = 0.0001\n",
    "verbosity = True\n",
    "initz0 = initz0\n",
    "DS = Variational_Bayes_Code(D, xdts, initz0, tol, verbosity)\n",
    "\n",
    "print(DS) "
   ]
  },
  {
   "cell_type": "code",
   "execution_count": 37,
   "metadata": {},
   "outputs": [
    {
     "name": "stdout",
     "output_type": "stream",
     "text": [
      "\n",
      "0.9923615546549273\n"
     ]
    },
    {
     "data": {
      "image/png": "[encoded data removed]",
      "text/plain": [
       "<Figure size 432x288 with 1 Axes>"
      ]
     },
     "metadata": {
      "needs_background": "light"
     },
     "output_type": "display_data"
    }
   ],
   "source": [
    "zmean12 = DS['zmean']\n",
    "wmean12 = DS['wmean']\n",
    "zmean12[np.where(np.diag(DS['wCOV'])>3e-5)] = 0\n",
    "plt.stem(zmean12)\n",
    "wmean12[np.where(np.diag(DS['wCOV'])>3e-5)] = 0\n",
    "print()\n",
    "print(np.sqrt(wmean12[0]))"
   ]
  },
  {
   "cell_type": "markdown",
   "metadata": {},
   "source": [
    "# Diffusion 11"
   ]
  },
  {
   "cell_type": "code",
   "execution_count": 2,
   "metadata": {},
   "outputs": [],
   "source": [
    "import numpy as np\n",
    "import matplotlib.pyplot as plt\n",
    "\"\"\"\n",
    "A MDOF system excited by random noise\n",
    "----------------------------------------------------------------------\n",
    "\"\"\"\n",
    "\n",
    "def drift_mat(dof,k,c,m):\n",
    "    dim = 2 * dof\n",
    "    A = np.zeros((dim,dim))\n",
    "    \n",
    "    for i in range(dim):\n",
    "        if (i%2 == 0):\n",
    "            A[i][i+1] = 1\n",
    "    \n",
    "        elif(i==1):\n",
    "            A[i][i-1] = -(k+k)/m\n",
    "            A[i][i] = -(c+c)/m\n",
    "            A[i][i+1] = k/m\n",
    "            A[i][i+2] = c/m\n",
    "    \n",
    "        elif(i==dim-1):\n",
    "            A[i][i] = -c/m\n",
    "            A[i][i-1] = -k/m\n",
    "            A[i][i-2] = c/m\n",
    "            A[i][i-3] = k/m\n",
    "            \n",
    "        else:\n",
    "            A[i][i-3] = k/m \n",
    "            A[i][i-2] = c/m\n",
    "            A[i][i-1] = -(k+k)/m\n",
    "            A[i][i] = -(c+c)/m\n",
    "            A[i][i+1] = k/m\n",
    "            A[i][i+2] = c/m\n",
    "    return A\n",
    "\n",
    "def M_DOF_sys(x_initial, dof, T):\n",
    "    # parameters of M_DOF_sys in Equation\n",
    "    m = 1\n",
    "    c = 2\n",
    "    k = 3000\n",
    "    sigma = 1\n",
    "    \n",
    "    # solution by euler maruyama\n",
    "    # -------------------------------------------------------\n",
    "    dt = 0.0001\n",
    "    t = np.arange(0, T+dt, dt)\n",
    "    Nsamp = 200 # no. of samples in the run\n",
    "\n",
    "    \n",
    "    y19 = []  \n",
    "    y20 = []\n",
    "    y21 = []\n",
    "    y22 = []\n",
    "    y23 = []\n",
    "    y24 = []\n",
    "    y25 = []\n",
    "    y26 = []\n",
    "    \n",
    "    xz11 = []\n",
    "    xz12 = []\n",
    "    \n",
    "    xzs11 = []\n",
    "    xzs12 = []\n",
    "    \n",
    "    # Simulation Starts Here ::\n",
    "    # -------------------------------------------------------\n",
    "    for ensemble in range(Nsamp):\n",
    "        x0 = x_initial\n",
    "        x = x0                              # initial condition.\n",
    "        for n in range(len(t)-1):\n",
    "            dW = np.sqrt(dt)*np.random.randn(2*dof)\n",
    "            \n",
    "            '''LINEAR PART DRIFT'''\n",
    "        \n",
    "            A = drift_mat(dof,k,c,m)\n",
    "            \n",
    "            '''DIFFUSION TERM  = b'''\n",
    "            diffu_arr = np.zeros(2*dof)\n",
    "            for i in range(2*dof):\n",
    "                if (i%2 != 0):\n",
    "                    diffu_arr[i] = sigma/m\n",
    "            \n",
    "            soln_arr = x0 + np.matmul(A,x0)*dt + diffu_arr*dW        \n",
    "            x0 = soln_arr\n",
    "            x = np.column_stack((x, x0))\n",
    "            \n",
    "        y19.append(x[-19,:])                \n",
    "        y20.append(x[-20,:])\n",
    "        y21.append(x[-21,:])       # Displacement    \n",
    "        y22.append(x[-22,:])\n",
    "        y23.append(x[-23,:])       # Displacement             \n",
    "        y24.append(x[-24,:])\n",
    "        y25.append(x[-25,:])                \n",
    "        y26.append(x[-26,:])\n",
    "\n",
    "        \n",
    "        zint11 = x[-21, 0:-1]        # Velocity\n",
    "        xfinal11 = x[-21, 1:] \n",
    "        xmz11 = (xfinal11 - zint11)\n",
    "        \n",
    "        zint12 = x[-23, 0:-1]       # Velocity\n",
    "        xfinal12 = x[-23, 1:] \n",
    "        xmz12 = (xfinal12 - zint12) \n",
    "\n",
    "        xz11.append(xmz11)\n",
    "        xz12.append(xmz12)\n",
    "        \n",
    "        xmzsq11 = np.multiply(xmz11, xmz11)\n",
    "        xzs11.append(xmzsq11)\n",
    "        \n",
    "        xmzsq12 = np.multiply(xmz12, xmz12)\n",
    "        xzs12.append(xmzsq12)\n",
    "        \n",
    "    xz11 = pow(dt,-1)*np.mean(np.array(xz11), axis = 0)\n",
    "    xz12 = pow(dt,-1)*np.mean(np.array(xz12), axis = 0)\n",
    "\n",
    "    xzs11 = pow(dt,-1)*np.mean(np.array(xzs11), axis = 0)\n",
    "    xzs12 = pow(dt,-1)*np.mean(np.array(xzs12), axis = 0)\n",
    "\n",
    "    y19 = np.array(y19)\n",
    "    y20 = np.array(y20)\n",
    "    y21 = np.array(y21)\n",
    "    y22 = np.array(y22)\n",
    "    y23 = np.array(y23)\n",
    "    y24 = np.array(y24)\n",
    "    y25 = np.array(y25)\n",
    "    y26 = np.array(y26)\n",
    "\n",
    "    time = t[0:-1]\n",
    "    return xz11, xz12, xzs11, xzs12, y19, y20, y21, y22, y23, y24, y25, y26, time"
   ]
  },
  {
   "cell_type": "code",
   "execution_count": 4,
   "metadata": {},
   "outputs": [
    {
     "name": "stdout",
     "output_type": "stream",
     "text": [
      "\n"
     ]
    },
    {
     "data": {
      "text/plain": [
       "21.792883121967314"
      ]
     },
     "execution_count": 4,
     "metadata": {},
     "output_type": "execute_result"
    }
   ],
   "source": [
    "import time\n",
    "start = time.time()\n",
    "xz11, xz12, xzs11, xzs12, y19, y20, y21, y22, y23, y24, y25, y26, time_ = M_DOF_sys(x_initial, dof, T)\n",
    "end = time.time()\n",
    "print()\n",
    "TIMES = (end - start)/60\n",
    "TIMES"
   ]
  },
  {
   "cell_type": "code",
   "execution_count": 5,
   "metadata": {},
   "outputs": [
    {
     "name": "stdout",
     "output_type": "stream",
     "text": [
      "\n"
     ]
    },
    {
     "data": {
      "text/plain": [
       "5.431408035755157"
      ]
     },
     "execution_count": 5,
     "metadata": {},
     "output_type": "execute_result"
    }
   ],
   "source": [
    "startD = time.time()\n",
    "# Expected Dictionary Creation:\n",
    "libr = []\n",
    "for j in range(len(y19)):\n",
    "    data = np.row_stack((y19[j,0:-1], y20[j,0:-1], y21[j,0:-1], y22[j,0:-1], y23[j,0:-1], y24[j,0:-1], y25[j,0:-1], y26[j,0:-1]))\n",
    "    Dtemp, nl = library(data, 1, 0)\n",
    "    libr.append(Dtemp)\n",
    "libr = np.array(libr)\n",
    "Dictionary= np.mean(libr, axis = 0)\n",
    "print()\n",
    "endD = time.time()\n",
    "TIMED = (endD - startD)/60\n",
    "TIMED"
   ]
  },
  {
   "cell_type": "code",
   "execution_count": 8,
   "metadata": {},
   "outputs": [],
   "source": [
    "xdts = xzs11\n",
    "D = Dictionary"
   ]
  },
  {
   "cell_type": "code",
   "execution_count": 10,
   "metadata": {},
   "outputs": [
    {
     "data": {
      "text/plain": [
       "(810000,)"
      ]
     },
     "execution_count": 10,
     "metadata": {},
     "output_type": "execute_result"
    }
   ],
   "source": [
    "Dict = D.reshape(-1,order='F')\n",
    "Dict.shape"
   ]
  },
  {
   "cell_type": "code",
   "execution_count": 11,
   "metadata": {
    "scrolled": true
   },
   "outputs": [
    {
     "name": "stdout",
     "output_type": "stream",
     "text": [
      "{'Relevant': matlab.double([[1.0],[10.0],[16.0],[17.0],[41.0],[48.0],[56.0],[70.0],[81.0]]), 'Value': matlab.double([[0.9901238132330448],[0.16358128587352117],[0.016189251561629477],[0.5675585250561104],[-1.773903788783252],[10.063158752050205],[0.2885044675082408],[-0.09365842972938068],[-51.71240194306952]])}\n"
     ]
    }
   ],
   "source": [
    "#!/usr/bin/env python\n",
    "\"\"\"\n",
    "Sample script that uses the SparseBayes module created using\n",
    "MATLAB Compiler SDK.\n",
    "\n",
    "Refer to the MATLAB Compiler SDK documentation for more information.\n",
    "\"\"\"\n",
    "\n",
    "from __future__ import print_function\n",
    "import SparseBayes\n",
    "import matlab\n",
    "\n",
    "my_SparseBayes = SparseBayes.initialize()\n",
    "\n",
    "DictIn = matlab.double(Dict, size=(D.shape[0], D.shape[1]))\n",
    "targetIn = matlab.double(xdts, size=(D.shape[0], 1))\n",
    "DMOut = my_SparseBayes.SparseBayes(DictIn, targetIn)\n",
    "print(DMOut, sep='\\n')\n",
    "\n",
    "my_SparseBayes.terminate()"
   ]
  },
  {
   "cell_type": "code",
   "execution_count": null,
   "metadata": {},
   "outputs": [],
   "source": [
    "c = np.array(DMOut['Value'])\n",
    "d = []\n",
    "for j in c:\n",
    "    d.append(j[0])\n",
    "    \n",
    "a = np.array(DMOut['Relevant'])\n",
    "b = []\n",
    "for i in a:\n",
    "    b.append(int((i[0])-1))\n",
    "    \n",
    "initz0 = np.zeros(D.shape[1])\n",
    "for i in b:\n",
    "    initz0[i] = 1"
   ]
  },
  {
   "cell_type": "code",
   "execution_count": null,
   "metadata": {
    "scrolled": true
   },
   "outputs": [],
   "source": [
    "tol = 0.0001\n",
    "verbosity = True\n",
    "initz0 = initz0\n",
    "DS = Variational_Bayes_Code(D, xdts, initz0, tol, verbosity)\n",
    "\n",
    "print(DS) "
   ]
  },
  {
   "cell_type": "code",
   "execution_count": 19,
   "metadata": {},
   "outputs": [
    {
     "name": "stdout",
     "output_type": "stream",
     "text": [
      "\n",
      "0.9899188099863844\n"
     ]
    },
    {
     "data": {
      "image/png": "[encoded data removed]",
      "text/plain": [
       "<Figure size 432x288 with 1 Axes>"
      ]
     },
     "metadata": {
      "needs_background": "light"
     },
     "output_type": "display_data"
    }
   ],
   "source": [
    "zmean11 = DS['zmean']\n",
    "wmean11 = DS['wmean']\n",
    "zmean11[np.where(np.diag(DS['wCOV'])>5e-4)] = 0\n",
    "plt.stem(zmean11)\n",
    "wmean11[np.where(np.diag(DS['wCOV'])>5e-4)] = 0\n",
    "print()\n",
    "print(np.sqrt(wmean11[0]))"
   ]
  },
  {
   "cell_type": "markdown",
   "metadata": {},
   "source": [
    "# Diffusion 10"
   ]
  },
  {
   "cell_type": "code",
   "execution_count": 20,
   "metadata": {},
   "outputs": [],
   "source": [
    "xdts = xzs12"
   ]
  },
  {
   "cell_type": "code",
   "execution_count": 21,
   "metadata": {},
   "outputs": [
    {
     "name": "stdout",
     "output_type": "stream",
     "text": [
      "{'Relevant': matlab.double([[1.0],[4.0],[12.0],[16.0],[24.0],[32.0],[38.0],[41.0],[58.0],[73.0],[78.0]]), 'Value': matlab.double([[0.9819076967451932],[0.09140092181947508],[0.08689529174350885],[0.17319393019647966],[-0.007429900213746423],[-6.135093619475943],[-0.47396253646916475],[4.330390650614655],[5.6037754740846],[-0.6317503274629287],[-4.396070124654494]])}\n"
     ]
    }
   ],
   "source": [
    "#!/usr/bin/env python\n",
    "\"\"\"\n",
    "Sample script that uses the SparseBayes module created using\n",
    "MATLAB Compiler SDK.\n",
    "\n",
    "Refer to the MATLAB Compiler SDK documentation for more information.\n",
    "\"\"\"\n",
    "\n",
    "from __future__ import print_function\n",
    "import SparseBayes\n",
    "import matlab\n",
    "\n",
    "my_SparseBayes = SparseBayes.initialize()\n",
    "\n",
    "DictIn = matlab.double(Dict, size=(D.shape[0], D.shape[1]))\n",
    "targetIn = matlab.double(xdts, size=(D.shape[0], 1))\n",
    "DMOut = my_SparseBayes.SparseBayes(DictIn, targetIn)\n",
    "print(DMOut, sep='\\n')\n",
    "\n",
    "my_SparseBayes.terminate()"
   ]
  },
  {
   "cell_type": "code",
   "execution_count": null,
   "metadata": {},
   "outputs": [],
   "source": [
    "c = np.array(DMOut['Value'])\n",
    "d = []\n",
    "for j in c:\n",
    "    d.append(j[0])\n",
    "    \n",
    "a = np.array(DMOut['Relevant'])\n",
    "b = []\n",
    "for i in a:\n",
    "    b.append(int((i[0])-1))\n",
    "    \n",
    "initz0 = np.zeros(D.shape[1])\n",
    "for i in b:\n",
    "    initz0[i] = 1\n",
    "    \n",
    "print(initz0)"
   ]
  },
  {
   "cell_type": "code",
   "execution_count": null,
   "metadata": {},
   "outputs": [],
   "source": [
    "tol = 0.0001\n",
    "verbosity = True\n",
    "initz0 = initz0\n",
    "DS = Variational_Bayes_Code(D, xdts, initz0, tol, verbosity)\n",
    "\n",
    "print(DS) "
   ]
  },
  {
   "cell_type": "code",
   "execution_count": 27,
   "metadata": {},
   "outputs": [
    {
     "name": "stdout",
     "output_type": "stream",
     "text": [
      "\n",
      "0.9931791546845723\n"
     ]
    },
    {
     "data": {
      "image/png": "[encoded data removed]",
      "text/plain": [
       "<Figure size 432x288 with 1 Axes>"
      ]
     },
     "metadata": {
      "needs_background": "light"
     },
     "output_type": "display_data"
    }
   ],
   "source": [
    "zmean10 = DS['zmean']\n",
    "wmean10 = DS['wmean']\n",
    "zmean10[np.where(np.diag(DS['wCOV'])>5e-4)] = 0\n",
    "plt.stem(zmean10)\n",
    "wmean10[np.where(np.diag(DS['wCOV'])>5e-4)] = 0\n",
    "print()\n",
    "print(np.sqrt(wmean10[0]))"
   ]
  },
  {
   "cell_type": "markdown",
   "metadata": {},
   "source": [
    "# Diffusion 9"
   ]
  },
  {
   "cell_type": "code",
   "execution_count": 2,
   "metadata": {},
   "outputs": [],
   "source": [
    "import numpy as np\n",
    "import matplotlib.pyplot as plt\n",
    "\"\"\"\n",
    "A MDOF system excited by random noise\n",
    "----------------------------------------------------------------------\n",
    "\"\"\"\n",
    "\n",
    "def drift_mat(dof,k,c,m):\n",
    "    dim = 2 * dof\n",
    "    A = np.zeros((dim,dim))\n",
    "    \n",
    "    for i in range(dim):\n",
    "        if (i%2 == 0):\n",
    "            A[i][i+1] = 1\n",
    "    \n",
    "        elif(i==1):\n",
    "            A[i][i-1] = -(k+k)/m\n",
    "            A[i][i] = -(c+c)/m\n",
    "            A[i][i+1] = k/m\n",
    "            A[i][i+2] = c/m\n",
    "    \n",
    "        elif(i==dim-1):\n",
    "            A[i][i] = -c/m\n",
    "            A[i][i-1] = -k/m\n",
    "            A[i][i-2] = c/m\n",
    "            A[i][i-3] = k/m\n",
    "            \n",
    "        else:\n",
    "            A[i][i-3] = k/m \n",
    "            A[i][i-2] = c/m\n",
    "            A[i][i-1] = -(k+k)/m\n",
    "            A[i][i] = -(c+c)/m\n",
    "            A[i][i+1] = k/m\n",
    "            A[i][i+2] = c/m\n",
    "    return A\n",
    "\n",
    "def M_DOF_sys(x_initial, dof, T):\n",
    "    # parameters of M_DOF_sys in Equation\n",
    "    m = 1\n",
    "    c = 2\n",
    "    k = 3000\n",
    "\n",
    "    sigma = 1\n",
    "    \n",
    "    # solution by euler maruyama\n",
    "    # -------------------------------------------------------\n",
    "    dt = 0.0001\n",
    "    t = np.arange(0, T+dt, dt)\n",
    "    Nsamp = 200 # no. of samples in the run\n",
    "\n",
    "    y23 = []\n",
    "    y24 = []\n",
    "    y25 = []\n",
    "    y26 = []\n",
    "    y27 = []\n",
    "    y28 = []\n",
    "    y29 = []\n",
    "    y30 = []\n",
    "    \n",
    "    xz13 = []\n",
    "    xz14 = []\n",
    "    \n",
    "    xzs13 = []\n",
    "    xzs14 = []\n",
    "    \n",
    "    # Simulation Starts Here :\n",
    "    # -------------------------------------------------------\n",
    "    for ensemble in range(Nsamp):\n",
    "        x0 = x_initial\n",
    "        x = x0                              # initial condition.\n",
    "        for n in range(len(t)-1):\n",
    "            dW = np.sqrt(dt)*np.random.randn(2*dof)\n",
    "            \n",
    "            '''LINEAR PART DRIFT'''\n",
    "        \n",
    "            A = drift_mat(dof,k,c,m)\n",
    "            \n",
    "            '''DIFFUSION TERM  = b'''\n",
    "            diffu_arr = np.zeros(2*dof)\n",
    "            for i in range(2*dof):\n",
    "                if (i%2 != 0):\n",
    "                    diffu_arr[i] = sigma/m\n",
    "            \n",
    "            soln_arr = x0 + np.matmul(A,x0)*dt + diffu_arr*dW        \n",
    "            x0 = soln_arr\n",
    "            x = np.column_stack((x, x0))\n",
    "            \n",
    "        y23.append(x[-23,:])                \n",
    "        y24.append(x[-24,:])\n",
    "        y25.append(x[-25,:])         # Displacement      \n",
    "        y26.append(x[-26,:])\n",
    "        y27.append(x[-27,:])         # Displacement       \n",
    "        y28.append(x[-28,:])\n",
    "        y29.append(x[-29,:])                \n",
    "        y30.append(x[-30,:])\n",
    "\n",
    "        \n",
    "        zint13 = x[-25, 0:-1]        # Velocity\n",
    "        xfinal13 = x[-25, 1:] \n",
    "        xmz13 = (xfinal13 - zint13)\n",
    "        \n",
    "        zint14 = x[-27, 0:-1]        # Velocity\n",
    "        xfinal14 = x[-27, 1:] \n",
    "        xmz14 = (xfinal14 - zint14) \n",
    "\n",
    "        xz13.append(xmz13)\n",
    "        xz14.append(xmz14)\n",
    "        \n",
    "        xmzsq13 = np.multiply(xmz13, xmz13)\n",
    "        xzs13.append(xmzsq13)\n",
    "        \n",
    "        xmzsq14 = np.multiply(xmz14, xmz14)\n",
    "        xzs14.append(xmzsq14)\n",
    "        \n",
    "    xz13 = pow(dt,-1)*np.mean(np.array(xz13), axis = 0)\n",
    "    xz14 = pow(dt,-1)*np.mean(np.array(xz14), axis = 0)\n",
    "\n",
    "    xzs13 = pow(dt,-1)*np.mean(np.array(xzs13), axis = 0)\n",
    "    xzs14 = pow(dt,-1)*np.mean(np.array(xzs14), axis = 0)\n",
    "\n",
    "    y23 = np.array(y23)\n",
    "    y24 = np.array(y24)\n",
    "    y25 = np.array(y25)\n",
    "    y26 = np.array(y26)\n",
    "    y27 = np.array(y27)\n",
    "    y28 = np.array(y28)\n",
    "    y29 = np.array(y29)\n",
    "    y30 = np.array(y30)\n",
    "\n",
    "    time = t[0:-1]\n",
    "    return xz13, xz14, xzs13, xzs14, y23, y24, y25, y26, y27, y28, y29, y30, time"
   ]
  },
  {
   "cell_type": "code",
   "execution_count": 4,
   "metadata": {},
   "outputs": [
    {
     "name": "stdout",
     "output_type": "stream",
     "text": [
      "\n"
     ]
    },
    {
     "data": {
      "text/plain": [
       "19.836947782834372"
      ]
     },
     "execution_count": 4,
     "metadata": {},
     "output_type": "execute_result"
    }
   ],
   "source": [
    "import time\n",
    "start = time.time()\n",
    "xz13, xz14, xzs13, xzs14, y23, y24, y25, y26, y27, y28, y29, y30, time_ = M_DOF_sys(x_initial, dof, T)\n",
    "end = time.time()\n",
    "print()\n",
    "TIMES = (end - start)/60\n",
    "TIMES"
   ]
  },
  {
   "cell_type": "code",
   "execution_count": 5,
   "metadata": {},
   "outputs": [
    {
     "name": "stdout",
     "output_type": "stream",
     "text": [
      "\n"
     ]
    },
    {
     "data": {
      "text/plain": [
       "5.348912453651428"
      ]
     },
     "execution_count": 5,
     "metadata": {},
     "output_type": "execute_result"
    }
   ],
   "source": [
    "startD = time.time()\n",
    "# Expected Dictionary Creation:\n",
    "libr = []\n",
    "for j in range(len(y23)):\n",
    "    data = np.row_stack((y23[j,0:-1], y24[j,0:-1], y25[j,0:-1], y26[j,0:-1], y27[j,0:-1], y28[j,0:-1], y29[j,0:-1], y30[j,0:-1]))\n",
    "    Dtemp, nl = library(data, 1, 0)\n",
    "    libr.append(Dtemp)\n",
    "libr = np.array(libr)\n",
    "Dictionary= np.mean(libr, axis = 0)\n",
    "print()\n",
    "endD = time.time()\n",
    "TIMED = (endD - startD)/60\n",
    "TIMED"
   ]
  },
  {
   "cell_type": "code",
   "execution_count": 6,
   "metadata": {},
   "outputs": [],
   "source": [
    "xdts = xzs13\n",
    "D = Dictionary"
   ]
  },
  {
   "cell_type": "code",
   "execution_count": null,
   "metadata": {},
   "outputs": [],
   "source": [
    "Dict = D.reshape(-1,order='F')"
   ]
  },
  {
   "cell_type": "code",
   "execution_count": 9,
   "metadata": {
    "scrolled": true
   },
   "outputs": [
    {
     "name": "stdout",
     "output_type": "stream",
     "text": [
      "{'Relevant': matlab.double([[1.0],[3.0],[14.0],[16.0],[44.0],[50.0],[52.0],[57.0],[68.0],[70.0]]), 'Value': matlab.double([[0.9953315641323672],[-2.578008394338965],[0.0804756041164806],[0.11949452233700361],[4.374260860132828],[0.017914940504955748],[-0.1987055707212403],[5.830412920022909],[0.0989211611745288],[-0.25998742837331373]])}\n"
     ]
    }
   ],
   "source": [
    "#!/usr/bin/env python\n",
    "\"\"\"\n",
    "Sample script that uses the SparseBayes module created using\n",
    "MATLAB Compiler SDK.\n",
    "\n",
    "Refer to the MATLAB Compiler SDK documentation for more information.\n",
    "\"\"\"\n",
    "\n",
    "from __future__ import print_function\n",
    "import SparseBayes\n",
    "import matlab\n",
    "\n",
    "my_SparseBayes = SparseBayes.initialize()\n",
    "\n",
    "DictIn = matlab.double(Dict, size=(D.shape[0], D.shape[1]))\n",
    "targetIn = matlab.double(xdts, size=(D.shape[0], 1))\n",
    "DMOut = my_SparseBayes.SparseBayes(DictIn, targetIn)\n",
    "print(DMOut, sep='\\n')\n",
    "\n",
    "my_SparseBayes.terminate()"
   ]
  },
  {
   "cell_type": "code",
   "execution_count": null,
   "metadata": {},
   "outputs": [],
   "source": [
    "c = np.array(DMOut['Value'])\n",
    "d = []\n",
    "for j in c:\n",
    "    d.append(j[0])\n",
    "    \n",
    "a = np.array(DMOut['Relevant'])\n",
    "b = []\n",
    "for i in a:\n",
    "    b.append(int((i[0])-1))\n",
    "    \n",
    "initz0 = np.zeros(D.shape[1])\n",
    "for i in b:\n",
    "    initz0[i] = 1\n",
    "    \n",
    "print(initz0)"
   ]
  },
  {
   "cell_type": "code",
   "execution_count": null,
   "metadata": {},
   "outputs": [],
   "source": [
    "tol = 0.0001\n",
    "verbosity = True\n",
    "initz0 = initz0\n",
    "DS = Variational_Bayes_Code(D, xdts, initz0, tol, verbosity)\n",
    "\n",
    "print(DS) "
   ]
  },
  {
   "cell_type": "code",
   "execution_count": 17,
   "metadata": {},
   "outputs": [
    {
     "name": "stdout",
     "output_type": "stream",
     "text": [
      "\n",
      "0.997848155581177\n"
     ]
    },
    {
     "data": {
      "image/png": "[encoded data removed]",
      "text/plain": [
       "<Figure size 432x288 with 1 Axes>"
      ]
     },
     "metadata": {
      "needs_background": "light"
     },
     "output_type": "display_data"
    }
   ],
   "source": [
    "zmean11 = DS['zmean']\n",
    "wmean11 = DS['wmean']\n",
    "zmean11[np.where(np.diag(DS['wCOV'])>5e-4)] = 0\n",
    "plt.stem(zmean11)\n",
    "wmean11[np.where(np.diag(DS['wCOV'])>5e-4)] = 0\n",
    "print()\n",
    "print(np.sqrt(wmean11[0]))"
   ]
  },
  {
   "cell_type": "markdown",
   "metadata": {},
   "source": [
    "# Diffusion 8"
   ]
  },
  {
   "cell_type": "code",
   "execution_count": 18,
   "metadata": {},
   "outputs": [],
   "source": [
    "xdts = xzs14"
   ]
  },
  {
   "cell_type": "code",
   "execution_count": 19,
   "metadata": {},
   "outputs": [
    {
     "name": "stdout",
     "output_type": "stream",
     "text": [
      "{'Relevant': matlab.double([[1.0],[8.0],[13.0],[35.0],[40.0],[43.0],[46.0],[64.0],[70.0],[72.0]]), 'Value': matlab.double([[1.0135729600244339],[-0.09887217872972166],[1.8562282044459353],[3.338671944468147],[-0.10557163554245222],[63.75725469730531],[0.40621090518523056],[-5.690473548031185],[0.16630413064128968],[-0.25557364028914115]])}\n"
     ]
    }
   ],
   "source": [
    "#!/usr/bin/env python\n",
    "\"\"\"\n",
    "Sample script that uses the SparseBayes module created using\n",
    "MATLAB Compiler SDK.\n",
    "\n",
    "Refer to the MATLAB Compiler SDK documentation for more information.\n",
    "\"\"\"\n",
    "\n",
    "from __future__ import print_function\n",
    "import SparseBayes\n",
    "import matlab\n",
    "\n",
    "my_SparseBayes = SparseBayes.initialize()\n",
    "\n",
    "DictIn = matlab.double(Dict, size=(D.shape[0], D.shape[1]))\n",
    "targetIn = matlab.double(xdts, size=(D.shape[0], 1))\n",
    "DMOut = my_SparseBayes.SparseBayes(DictIn, targetIn)\n",
    "print(DMOut, sep='\\n')\n",
    "\n",
    "my_SparseBayes.terminate()"
   ]
  },
  {
   "cell_type": "code",
   "execution_count": null,
   "metadata": {},
   "outputs": [],
   "source": [
    "c = np.array(DMOut['Value'])\n",
    "d = []\n",
    "for j in c:\n",
    "    d.append(j[0])\n",
    "    \n",
    "a = np.array(DMOut['Relevant'])\n",
    "b = []\n",
    "for i in a:\n",
    "    b.append(int((i[0])-1))\n",
    "    \n",
    "initz0 = np.zeros(D.shape[1])\n",
    "for i in b:\n",
    "    initz0[i] = 1"
   ]
  },
  {
   "cell_type": "code",
   "execution_count": null,
   "metadata": {},
   "outputs": [],
   "source": [
    "tol = 0.0001\n",
    "verbosity = True\n",
    "initz0 = initz0\n",
    "DS = Variational_Bayes_Code(D, xdts, initz0, tol, verbosity)"
   ]
  },
  {
   "cell_type": "code",
   "execution_count": 25,
   "metadata": {},
   "outputs": [
    {
     "name": "stdout",
     "output_type": "stream",
     "text": [
      "\n",
      "1.0088588591108991\n"
     ]
    },
    {
     "data": {
      "image/png": "[encoded data removed]",
      "text/plain": [
       "<Figure size 432x288 with 1 Axes>"
      ]
     },
     "metadata": {
      "needs_background": "light"
     },
     "output_type": "display_data"
    }
   ],
   "source": [
    "zmean10 = DS['zmean']\n",
    "wmean10 = DS['wmean']\n",
    "zmean10[np.where(np.diag(DS['wCOV'])>5e-3)] = 0\n",
    "plt.stem(zmean10)\n",
    "wmean10[np.where(np.diag(DS['wCOV'])>5e-3)] = 0\n",
    "print()\n",
    "print(np.sqrt(wmean10[0]))"
   ]
  },
  {
   "cell_type": "markdown",
   "metadata": {},
   "source": [
    "# Diffusion 7"
   ]
  },
  {
   "cell_type": "code",
   "execution_count": 1,
   "metadata": {},
   "outputs": [],
   "source": [
    "import numpy as np\n",
    "import matplotlib.pyplot as plt\n",
    "\"\"\"\n",
    "A MDOF system excited by random noise\n",
    "----------------------------------------------------------------------\n",
    "\"\"\"\n",
    "\n",
    "def drift_mat(dof,k,c,m):\n",
    "    dim = 2 * dof\n",
    "    A = np.zeros((dim,dim))\n",
    "    \n",
    "    for i in range(dim):\n",
    "        if (i%2 == 0):\n",
    "            A[i][i+1] = 1\n",
    "    \n",
    "        elif(i==1):\n",
    "            A[i][i-1] = -(k+k)/m\n",
    "            A[i][i] = -(c+c)/m\n",
    "            A[i][i+1] = k/m\n",
    "            A[i][i+2] = c/m\n",
    "    \n",
    "        elif(i==dim-1):\n",
    "            A[i][i] = -c/m\n",
    "            A[i][i-1] = -k/m\n",
    "            A[i][i-2] = c/m\n",
    "            A[i][i-3] = k/m\n",
    "            \n",
    "        else:\n",
    "            A[i][i-3] = k/m \n",
    "            A[i][i-2] = c/m\n",
    "            A[i][i-1] = -(k+k)/m\n",
    "            A[i][i] = -(c+c)/m\n",
    "            A[i][i+1] = k/m\n",
    "            A[i][i+2] = c/m\n",
    "    return A\n",
    "\n",
    "def M_DOF_sys(x_initial, dof, T):\n",
    "    # parameters of M_DOF_sys in Equation\n",
    "    m = 1\n",
    "    c = 2\n",
    "    k = 3000\n",
    "    sigma = 1\n",
    "    \n",
    "    # solution by euler maruyama\n",
    "    # -------------------------------------------------------\n",
    "    dt = 0.0001\n",
    "    t = np.arange(0, T+dt, dt)\n",
    "    Nsamp = 200 # no. of samples in the run\n",
    "\n",
    "    y27 = []\n",
    "    y28 = []\n",
    "    y29 = []\n",
    "    y30 = []\n",
    "    y31 = []\n",
    "    y32 = []\n",
    "    y33 = []\n",
    "    y34 = []\n",
    "    \n",
    "    xz15 = []\n",
    "    xz16 = []\n",
    "    \n",
    "    xzs15 = []\n",
    "    xzs16 = []\n",
    "    \n",
    "    # Simulation Starts Here :\n",
    "    # -------------------------------------------------------\n",
    "    for ensemble in range(Nsamp):\n",
    "        x0 = x_initial\n",
    "        x = x0                              # initial condition.\n",
    "        for n in range(len(t)-1):\n",
    "            dW = np.sqrt(dt)*np.random.randn(2*dof)\n",
    "            \n",
    "            '''LINEAR PART DRIFT'''\n",
    "        \n",
    "            A = drift_mat(dof,k,c,m)\n",
    "            \n",
    "            '''DIFFUSION TERM  = b'''\n",
    "            diffu_arr = np.zeros(2*dof)\n",
    "            for i in range(2*dof):\n",
    "                if (i%2 != 0):\n",
    "                    diffu_arr[i] = sigma/m\n",
    "            \n",
    "            soln_arr = x0 + np.matmul(A,x0)*dt + diffu_arr*dW        \n",
    "            x0 = soln_arr\n",
    "            x = np.column_stack((x, x0))\n",
    "            \n",
    "        y27.append(x[-27,:])               \n",
    "        y28.append(x[-28,:])\n",
    "        y29.append(x[-29,:])         # Displacement     \n",
    "        y30.append(x[-30,:])\n",
    "        y31.append(x[-31,:])         # Displacement       \n",
    "        y32.append(x[-32,:])\n",
    "        y33.append(x[-33,:])               \n",
    "        y34.append(x[-34,:])\n",
    "\n",
    "        \n",
    "        zint15 = x[-29, 0:-1]        # Velocity\n",
    "        xfinal15 = x[-29, 1:] \n",
    "        xmz15 = (xfinal15 - zint15)\n",
    "        \n",
    "        zint16 = x[-31, 0:-1]        # Velocity\n",
    "        xfinal16 = x[-31, 1:] \n",
    "        xmz16 = (xfinal16 - zint16) \n",
    "\n",
    "        xz15.append(xmz15)\n",
    "        xz16.append(xmz16)\n",
    "        \n",
    "        xmzsq15 = np.multiply(xmz15, xmz15)\n",
    "        xzs15.append(xmzsq15)\n",
    "        \n",
    "        xmzsq16 = np.multiply(xmz16, xmz16)\n",
    "        xzs16.append(xmzsq16)\n",
    "        \n",
    "    xz15 = pow(dt,-1)*np.mean(np.array(xz15), axis = 0)\n",
    "    xz16 = pow(dt,-1)*np.mean(np.array(xz16), axis = 0)\n",
    "\n",
    "    xzs15 = pow(dt,-1)*np.mean(np.array(xzs15), axis = 0)\n",
    "    xzs16 = pow(dt,-1)*np.mean(np.array(xzs16), axis = 0)\n",
    "\n",
    "    y27 = np.array(y27)\n",
    "    y28 = np.array(y28)\n",
    "    y29 = np.array(y29)\n",
    "    y30 = np.array(y30)\n",
    "    y31 = np.array(y31)\n",
    "    y32 = np.array(y32)\n",
    "    y33 = np.array(y33)\n",
    "    y34 = np.array(y34)\n",
    "\n",
    "    time = t[0:-1]\n",
    "    return xz15, xz16, xzs15, xzs16, y27, y28, y29, y30, y31, y32, y33, y34, time"
   ]
  },
  {
   "cell_type": "code",
   "execution_count": 3,
   "metadata": {
    "scrolled": true
   },
   "outputs": [
    {
     "name": "stdout",
     "output_type": "stream",
     "text": [
      "\n"
     ]
    },
    {
     "data": {
      "text/plain": [
       "20.050825802485146"
      ]
     },
     "execution_count": 3,
     "metadata": {},
     "output_type": "execute_result"
    }
   ],
   "source": [
    "import time\n",
    "start = time.time()\n",
    "xz15, xz16, xzs15, xzs16, y27, y28, y29, y30, y31, y32, y33, y34, time_ = M_DOF_sys(x_initial, dof, T)\n",
    "end = time.time()\n",
    "print()\n",
    "TIMES = (end - start)/60\n",
    "TIMES"
   ]
  },
  {
   "cell_type": "code",
   "execution_count": 6,
   "metadata": {},
   "outputs": [
    {
     "name": "stdout",
     "output_type": "stream",
     "text": [
      "\n"
     ]
    },
    {
     "data": {
      "text/plain": [
       "5.349144506454468"
      ]
     },
     "execution_count": 6,
     "metadata": {},
     "output_type": "execute_result"
    }
   ],
   "source": [
    "startD = time.time()\n",
    "# Expected Dictionary Creation:\n",
    "libr = []\n",
    "for j in range(len(y27)):\n",
    "    data = np.row_stack((y27[j,0:-1], y28[j,0:-1], y29[j,0:-1], y30[j,0:-1], y31[j,0:-1], y32[j,0:-1], y33[j,0:-1], y34[j,0:-1]))\n",
    "    Dtemp, nl = library(data, 1, 0)\n",
    "    libr.append(Dtemp)\n",
    "libr = np.array(libr)\n",
    "Dictionary= np.mean(libr, axis = 0)\n",
    "print()\n",
    "endD = time.time()\n",
    "TIMED = (endD - startD)/60\n",
    "TIMED"
   ]
  },
  {
   "cell_type": "code",
   "execution_count": 18,
   "metadata": {},
   "outputs": [],
   "source": [
    "xdts = xzs15\n",
    "D = Dictionary"
   ]
  },
  {
   "cell_type": "code",
   "execution_count": null,
   "metadata": {},
   "outputs": [],
   "source": [
    "Dict = D.reshape(-1,order='F')"
   ]
  },
  {
   "cell_type": "code",
   "execution_count": 21,
   "metadata": {
    "scrolled": true
   },
   "outputs": [
    {
     "name": "stdout",
     "output_type": "stream",
     "text": [
      "{'Relevant': matlab.double([[1.0],[3.0],[10.0],[12.0],[13.0],[22.0],[64.0],[67.0],[68.0],[70.0],[74.0],[78.0]]), 'Value': matlab.double([[1.0004032275859442],[-2.272613032658588],[0.11947487685297736],[0.013417110925138392],[0.8218598011363294],[-0.20657964253455396],[-3.3376659400769877],[-1.2427217047199552],[0.23149533892618385],[-0.2606254604006703],[4.727761285888223],[6.188931023747849]])}\n"
     ]
    }
   ],
   "source": [
    "#!/usr/bin/env python\n",
    "\"\"\"\n",
    "Sample script that uses the SparseBayes module created using\n",
    "MATLAB Compiler SDK.\n",
    "\n",
    "Refer to the MATLAB Compiler SDK documentation for more information.\n",
    "\"\"\"\n",
    "\n",
    "from __future__ import print_function\n",
    "import SparseBayes\n",
    "import matlab\n",
    "\n",
    "my_SparseBayes = SparseBayes.initialize()\n",
    "\n",
    "DictIn = matlab.double(Dict, size=(D.shape[0], D.shape[1]))\n",
    "targetIn = matlab.double(xdts, size=(D.shape[0], 1))\n",
    "DMOut = my_SparseBayes.SparseBayes(DictIn, targetIn)\n",
    "print(DMOut, sep='\\n')\n",
    "\n",
    "my_SparseBayes.terminate()"
   ]
  },
  {
   "cell_type": "code",
   "execution_count": null,
   "metadata": {},
   "outputs": [],
   "source": [
    "c = np.array(DMOut['Value'])\n",
    "d = []\n",
    "for j in c:\n",
    "    d.append(j[0])\n",
    "    \n",
    "a = np.array(DMOut['Relevant'])\n",
    "b = []\n",
    "for i in a:\n",
    "    b.append(int((i[0])-1))\n",
    "    \n",
    "initz0 = np.zeros(D.shape[1])\n",
    "for i in b:\n",
    "    initz0[i] = 1\n",
    "    \n",
    "print(initz0)"
   ]
  },
  {
   "cell_type": "code",
   "execution_count": null,
   "metadata": {},
   "outputs": [],
   "source": [
    "tol = 0.0001\n",
    "verbosity = True\n",
    "initz0 = initz0\n",
    "DS = Variational_Bayes_Code(D, xdts, initz0, tol, verbosity)\n",
    "\n",
    "print(DS) "
   ]
  },
  {
   "cell_type": "code",
   "execution_count": 27,
   "metadata": {
    "scrolled": true
   },
   "outputs": [
    {
     "name": "stdout",
     "output_type": "stream",
     "text": [
      "\n",
      "0.9975922728729321\n"
     ]
    },
    {
     "data": {
      "image/png": "[encoded data removed]",
      "text/plain": [
       "<Figure size 432x288 with 1 Axes>"
      ]
     },
     "metadata": {
      "needs_background": "light"
     },
     "output_type": "display_data"
    }
   ],
   "source": [
    "zmean7 = DS['zmean']\n",
    "wmean7 = DS['wmean']\n",
    "zmean7[np.where(np.diag(DS['wCOV'])>5e-4)] = 0\n",
    "plt.stem(zmean7)\n",
    "wmean7[np.where(np.diag(DS['wCOV'])>5e-4)] = 0\n",
    "print()\n",
    "print(np.sqrt(wmean7[0]))"
   ]
  },
  {
   "cell_type": "markdown",
   "metadata": {},
   "source": [
    "# Diffusion 6"
   ]
  },
  {
   "cell_type": "code",
   "execution_count": 28,
   "metadata": {},
   "outputs": [],
   "source": [
    "xdts = xzs16"
   ]
  },
  {
   "cell_type": "code",
   "execution_count": 29,
   "metadata": {},
   "outputs": [
    {
     "name": "stdout",
     "output_type": "stream",
     "text": [
      "{'Relevant': matlab.double([[1.0],[7.0],[10.0],[12.0],[16.0],[23.0],[24.0],[26.0],[38.0],[72.0]]), 'Value': matlab.double([[0.9811435974614764],[-1.6860734313341124],[0.12000279381386893],[0.04198295454068612],[0.07839602636114816],[2.8290756293326247],[-0.2650175506186837],[1.3013933797444013],[-0.08931130839189087],[-0.05096229255460393]])}\n"
     ]
    }
   ],
   "source": [
    "#!/usr/bin/env python\n",
    "\"\"\"\n",
    "Sample script that uses the SparseBayes module created using\n",
    "MATLAB Compiler SDK.\n",
    "\n",
    "Refer to the MATLAB Compiler SDK documentation for more information.\n",
    "\"\"\"\n",
    "\n",
    "from __future__ import print_function\n",
    "import SparseBayes\n",
    "import matlab\n",
    "\n",
    "my_SparseBayes = SparseBayes.initialize()\n",
    "\n",
    "DictIn = matlab.double(Dict, size=(D.shape[0], D.shape[1]))\n",
    "targetIn = matlab.double(xdts, size=(D.shape[0], 1))\n",
    "DMOut = my_SparseBayes.SparseBayes(DictIn, targetIn)\n",
    "print(DMOut, sep='\\n')\n",
    "\n",
    "my_SparseBayes.terminate()"
   ]
  },
  {
   "cell_type": "code",
   "execution_count": null,
   "metadata": {},
   "outputs": [],
   "source": [
    "c = np.array(DMOut['Value'])\n",
    "d = []\n",
    "for j in c:\n",
    "    d.append(j[0])\n",
    "    \n",
    "a = np.array(DMOut['Relevant'])\n",
    "b = []\n",
    "for i in a:\n",
    "    b.append(int((i[0])-1))\n",
    "    \n",
    "initz0 = np.zeros(D.shape[1])\n",
    "for i in b:\n",
    "    initz0[i] = 1\n",
    "    \n",
    "print(initz0)"
   ]
  },
  {
   "cell_type": "code",
   "execution_count": null,
   "metadata": {
    "scrolled": true
   },
   "outputs": [],
   "source": [
    "tol = 0.0001\n",
    "verbosity = True\n",
    "initz0 = initz0\n",
    "DS = Variational_Bayes_Code(D, xdts, initz0, tol, verbosity)\n",
    "\n",
    "print(DS) "
   ]
  },
  {
   "cell_type": "code",
   "execution_count": 34,
   "metadata": {},
   "outputs": [
    {
     "name": "stdout",
     "output_type": "stream",
     "text": [
      "\n",
      "0.991153920774372\n"
     ]
    },
    {
     "data": {
      "image/png": "[encoded data removed]",
      "text/plain": [
       "<Figure size 432x288 with 1 Axes>"
      ]
     },
     "metadata": {
      "needs_background": "light"
     },
     "output_type": "display_data"
    }
   ],
   "source": [
    "zmean6 = DS['zmean']\n",
    "wmean6 = DS['wmean']\n",
    "zmean6[np.where(np.diag(DS['wCOV'])>5e-4)] = 0\n",
    "plt.stem(zmean6)\n",
    "wmean6[np.where(np.diag(DS['wCOV'])>5e-4)] = 0\n",
    "print()\n",
    "print(np.sqrt(wmean6[0]))"
   ]
  },
  {
   "cell_type": "markdown",
   "metadata": {},
   "source": [
    "# Diffusion 5"
   ]
  },
  {
   "cell_type": "code",
   "execution_count": 2,
   "metadata": {},
   "outputs": [],
   "source": [
    "import numpy as np\n",
    "import matplotlib.pyplot as plt\n",
    "\"\"\"\n",
    "A MDOF system excited by random noise\n",
    "----------------------------------------------------------------------\n",
    "\"\"\"\n",
    "\n",
    "def drift_mat(dof,k,c,m):\n",
    "    dim = 2 * dof\n",
    "    A = np.zeros((dim,dim))\n",
    "    \n",
    "    for i in range(dim):\n",
    "        if (i%2 == 0):\n",
    "            A[i][i+1] = 1\n",
    "    \n",
    "        elif(i==1):\n",
    "            A[i][i-1] = -(k+k)/m\n",
    "            A[i][i] = -(c+c)/m\n",
    "            A[i][i+1] = k/m\n",
    "            A[i][i+2] = c/m\n",
    "    \n",
    "        elif(i==dim-1):\n",
    "            A[i][i] = -c/m\n",
    "            A[i][i-1] = -k/m\n",
    "            A[i][i-2] = c/m\n",
    "            A[i][i-3] = k/m\n",
    "            \n",
    "        else:\n",
    "            A[i][i-3] = k/m \n",
    "            A[i][i-2] = c/m\n",
    "            A[i][i-1] = -(k+k)/m\n",
    "            A[i][i] = -(c+c)/m\n",
    "            A[i][i+1] = k/m\n",
    "            A[i][i+2] = c/m\n",
    "    return A\n",
    "\n",
    "def M_DOF_sys(x_initial, dof, T):\n",
    "    # parameters of M_DOF_sys in Equation\n",
    "    m = 1\n",
    "    c = 2\n",
    "    k = 3000\n",
    "    sigma = 1\n",
    "    \n",
    "    # solution by euler maruyama\n",
    "    # -------------------------------------------------------\n",
    "    dt = 0.0001\n",
    "    t = np.arange(0, T+dt, dt)\n",
    "    Nsamp = 200 # no. of samples in the run\n",
    "\n",
    "    y31 = []\n",
    "    y32 = []\n",
    "    y33 = []\n",
    "    y34 = []\n",
    "    y35 = []\n",
    "    y36 = []\n",
    "    y37 = []\n",
    "    y38 = []\n",
    "    \n",
    "    xz17 = []\n",
    "    xz18 = []\n",
    "    \n",
    "    xzs17 = []\n",
    "    xzs18 = []\n",
    "    \n",
    "    # Simulation Starts Here :\n",
    "    # -------------------------------------------------------\n",
    "    for ensemble in range(Nsamp):\n",
    "        x0 = x_initial\n",
    "        x = x0                              # initial condition.\n",
    "        for n in range(len(t)-1):\n",
    "            dW = np.sqrt(dt)*np.random.randn(2*dof)\n",
    "            \n",
    "            '''LINEAR PART DRIFT'''\n",
    "        \n",
    "            A = drift_mat(dof,k,c,m)\n",
    "            \n",
    "            '''DIFFUSION TERM  = b'''\n",
    "            diffu_arr = np.zeros(2*dof)\n",
    "            for i in range(2*dof):\n",
    "                if (i%2 != 0):\n",
    "                    diffu_arr[i] = sigma/m\n",
    "            \n",
    "            soln_arr = x0 + np.matmul(A,x0)*dt + diffu_arr*dW        \n",
    "            x0 = soln_arr\n",
    "            x = np.column_stack((x, x0))\n",
    "            \n",
    "        y31.append(x[-31,:])            \n",
    "        y32.append(x[-32,:])\n",
    "        y33.append(x[-33,:])         # Displacement     \n",
    "        y34.append(x[-34,:])\n",
    "        y35.append(x[-35,:])         # \n",
    "        y36.append(x[-36,:])              \n",
    "        y37.append(x[-37,:])\n",
    "        y38.append(x[-38,:])\n",
    "        \n",
    "        zint17 = x[-33, 0:-1]        # Velocity\n",
    "        xfinal17 = x[-33, 1:] \n",
    "        xmz17 = (xfinal17 - zint17)\n",
    "        \n",
    "        zint18 = x[-35, 0:-1]        # Velocity\n",
    "        xfinal18 = x[-35, 1:] \n",
    "        xmz18 = (xfinal18 - zint18) \n",
    "\n",
    "        xz17.append(xmz17)\n",
    "        xz18.append(xmz18)\n",
    "        \n",
    "        xmzsq17 = np.multiply(xmz17, xmz17)\n",
    "        xzs17.append(xmzsq17)\n",
    "        \n",
    "        xmzsq18 = np.multiply(xmz18, xmz18)\n",
    "        xzs18.append(xmzsq18)\n",
    "        \n",
    "    xz17 = pow(dt,-1)*np.mean(np.array(xz17), axis = 0)\n",
    "    xz18 = pow(dt,-1)*np.mean(np.array(xz18), axis = 0)\n",
    "\n",
    "    xzs17 = pow(dt,-1)*np.mean(np.array(xzs17), axis = 0)\n",
    "    xzs18 = pow(dt,-1)*np.mean(np.array(xzs18), axis = 0)\n",
    "\n",
    "    y31 = np.array(y31)\n",
    "    y32 = np.array(y32)\n",
    "    y33 = np.array(y33)\n",
    "    y34 = np.array(y34)\n",
    "    y35 = np.array(y35)\n",
    "    y36 = np.array(y36)\n",
    "    y37 = np.array(y37)\n",
    "    y38 = np.array(y38)\n",
    "\n",
    "    time = t[0:-1]\n",
    "    return xz17, xz18, xzs17, xzs18, y31, y32, y33, y34, y35, y36, y37, y38, time"
   ]
  },
  {
   "cell_type": "code",
   "execution_count": null,
   "metadata": {},
   "outputs": [],
   "source": [
    "import time\n",
    "start = time.time()\n",
    "xz17, xz18, xzs17, xzs18, y31, y32, y33, y34, y35, y36, y37, y38, time_ = M_DOF_sys(x_initial, dof, T)\n",
    "end = time.time()\n",
    "print()\n",
    "TIMES = (end - start)/60\n",
    "TIMES"
   ]
  },
  {
   "cell_type": "code",
   "execution_count": null,
   "metadata": {},
   "outputs": [],
   "source": [
    "startD = time.time()\n",
    "# Expected Dictionary Creation:\n",
    "libr = []\n",
    "for j in range(len(y31)):\n",
    "    data = np.row_stack((y31[j,0:-1], y32[j,0:-1], y33[j,0:-1], y34[j,0:-1], y35[j,0:-1], y36[j,0:-1], y37[j,0:-1], y38[j,0:-1]))\n",
    "    Dtemp, nl = library(data, 1, 0)\n",
    "    libr.append(Dtemp)\n",
    "libr = np.array(libr)\n",
    "Dictionary= np.mean(libr, axis = 0)\n",
    "print()\n",
    "endD = time.time()\n",
    "TIMED = (endD - startD)/60\n",
    "TIMED"
   ]
  },
  {
   "cell_type": "code",
   "execution_count": 10,
   "metadata": {},
   "outputs": [],
   "source": [
    "xdts = xzs17\n",
    "D = Dictionary"
   ]
  },
  {
   "cell_type": "code",
   "execution_count": null,
   "metadata": {},
   "outputs": [],
   "source": [
    "Dict = D.reshape(-1,order='F')"
   ]
  },
  {
   "cell_type": "code",
   "execution_count": 13,
   "metadata": {
    "scrolled": true
   },
   "outputs": [
    {
     "name": "stdout",
     "output_type": "stream",
     "text": [
      "{'Relevant': matlab.double([[1.0],[6.0],[9.0],[10.0],[13.0],[23.0],[24.0],[40.0],[60.0],[66.0],[68.0]]), 'Value': matlab.double([[1.0016807730353334],[0.013072647804788002],[-0.6057617180505847],[0.06970042916874226],[2.098301547018932],[-3.6468439048969015],[0.5003017632994207],[-0.33739058061783406],[-1.578768031065037],[-0.2958160341481349],[0.38074201478010244]])}\n"
     ]
    }
   ],
   "source": [
    "#!/usr/bin/env python\n",
    "\"\"\"\n",
    "Sample script that uses the SparseBayes module created using\n",
    "MATLAB Compiler SDK.\n",
    "\n",
    "Refer to the MATLAB Compiler SDK documentation for more information.\n",
    "\"\"\"\n",
    "\n",
    "from __future__ import print_function\n",
    "import SparseBayes\n",
    "import matlab\n",
    "\n",
    "my_SparseBayes = SparseBayes.initialize()\n",
    "\n",
    "DictIn = matlab.double(Dict, size=(D.shape[0], D.shape[1]))\n",
    "targetIn = matlab.double(xdts, size=(D.shape[0], 1))\n",
    "DMOut = my_SparseBayes.SparseBayes(DictIn, targetIn)\n",
    "print(DMOut, sep='\\n')\n",
    "\n",
    "my_SparseBayes.terminate()"
   ]
  },
  {
   "cell_type": "code",
   "execution_count": null,
   "metadata": {},
   "outputs": [],
   "source": [
    "c = np.array(DMOut['Value'])\n",
    "d = []\n",
    "for j in c:\n",
    "    d.append(j[0])\n",
    "    \n",
    "a = np.array(DMOut['Relevant'])\n",
    "b = []\n",
    "for i in a:\n",
    "    b.append(int((i[0])-1))\n",
    "    \n",
    "initz0 = np.zeros(D.shape[1])\n",
    "for i in b:\n",
    "    initz0[i] = 1\n",
    "    \n",
    "print(initz0)"
   ]
  },
  {
   "cell_type": "code",
   "execution_count": null,
   "metadata": {},
   "outputs": [],
   "source": [
    "tol = 0.0001\n",
    "verbosity = True\n",
    "initz0 = initz0\n",
    "DS = Variational_Bayes_Code(D, xdts, initz0, tol, verbosity)\n",
    "\n",
    "print(DS) "
   ]
  },
  {
   "cell_type": "code",
   "execution_count": 26,
   "metadata": {},
   "outputs": [
    {
     "name": "stdout",
     "output_type": "stream",
     "text": [
      "\n",
      "1.0254642808547945\n"
     ]
    },
    {
     "data": {
      "image/png": "[encoded data removed]",
      "text/plain": [
       "<Figure size 432x288 with 1 Axes>"
      ]
     },
     "metadata": {
      "needs_background": "light"
     },
     "output_type": "display_data"
    }
   ],
   "source": [
    "zmean5 = DS['zmean']\n",
    "wmean5 = DS['wmean']\n",
    "zmean5[np.where(np.diag(DS['wCOV'])>2e-5)] = 0\n",
    "plt.stem(zmean5)\n",
    "wmean5[np.where(np.diag(DS['wCOV'])>2e-5)] = 0\n",
    "print()\n",
    "print(np.sqrt(wmean5[0]))"
   ]
  },
  {
   "cell_type": "markdown",
   "metadata": {},
   "source": [
    "# Diffusion 4"
   ]
  },
  {
   "cell_type": "code",
   "execution_count": 33,
   "metadata": {},
   "outputs": [],
   "source": [
    "xdts = xzs18"
   ]
  },
  {
   "cell_type": "code",
   "execution_count": 34,
   "metadata": {
    "scrolled": true
   },
   "outputs": [
    {
     "name": "stdout",
     "output_type": "stream",
     "text": [
      "{'Relevant': matlab.double([[1.0],[14.0],[15.0],[28.0],[32.0],[39.0],[51.0],[62.0],[66.0],[67.0],[68.0],[70.0],[73.0]]), 'Value': matlab.double([[1.0032862048098872],[0.016253418600523338],[3.526279990043914],[7.123822225893731],[-7.45176274109187],[3.3795995416030897],[3.563219347335504],[2.4216844147637526],[-0.4365576745901151],[1.9891473198417193],[0.16654464890226187],[-0.2788701688923499],[0.26423980768792615]])}\n"
     ]
    }
   ],
   "source": [
    "#!/usr/bin/env python\n",
    "\"\"\"\n",
    "Sample script that uses the SparseBayes module created using\n",
    "MATLAB Compiler SDK.\n",
    "\n",
    "Refer to the MATLAB Compiler SDK documentation for more information.\n",
    "\"\"\"\n",
    "\n",
    "from __future__ import print_function\n",
    "import SparseBayes\n",
    "import matlab\n",
    "\n",
    "my_SparseBayes = SparseBayes.initialize()\n",
    "\n",
    "DictIn = matlab.double(Dict, size=(D.shape[0], D.shape[1]))\n",
    "targetIn = matlab.double(xdts, size=(D.shape[0], 1))\n",
    "DMOut = my_SparseBayes.SparseBayes(DictIn, targetIn)\n",
    "print(DMOut, sep='\\n')\n",
    "\n",
    "my_SparseBayes.terminate()"
   ]
  },
  {
   "cell_type": "code",
   "execution_count": null,
   "metadata": {},
   "outputs": [],
   "source": [
    "c = np.array(DMOut['Value'])\n",
    "d = []\n",
    "for j in c:\n",
    "    d.append(j[0])\n",
    "    \n",
    "a = np.array(DMOut['Relevant'])\n",
    "b = []\n",
    "for i in a:\n",
    "    b.append(int((i[0])-1))\n",
    "    \n",
    "initz0 = np.zeros(D.shape[1])\n",
    "for i in b:\n",
    "    initz0[i] = 1\n",
    "    \n",
    "print(initz0)"
   ]
  },
  {
   "cell_type": "code",
   "execution_count": null,
   "metadata": {
    "scrolled": true
   },
   "outputs": [],
   "source": [
    "tol = 0.0001\n",
    "verbosity = True\n",
    "initz0 = initz0\n",
    "DS = Variational_Bayes_Code(D, xdts, initz0, tol, verbosity)\n",
    "\n",
    "print(DS) "
   ]
  },
  {
   "cell_type": "code",
   "execution_count": 38,
   "metadata": {},
   "outputs": [
    {
     "name": "stdout",
     "output_type": "stream",
     "text": [
      "\n",
      "0.9952174826668923\n"
     ]
    },
    {
     "data": {
      "image/png": "[encoded data removed]",
      "text/plain": [
       "<Figure size 432x288 with 1 Axes>"
      ]
     },
     "metadata": {
      "needs_background": "light"
     },
     "output_type": "display_data"
    }
   ],
   "source": [
    "zmean4 = DS['zmean']\n",
    "wmean4 = DS['wmean']\n",
    "zmean4[np.where(np.diag(DS['wCOV'])>5e-5)] = 0\n",
    "plt.stem(zmean4)\n",
    "wmean4[np.where(np.diag(DS['wCOV'])>5e-5)] = 0\n",
    "print()\n",
    "print(np.sqrt(wmean4[0]))"
   ]
  },
  {
   "cell_type": "markdown",
   "metadata": {},
   "source": [
    "# Diffusion 3"
   ]
  },
  {
   "cell_type": "code",
   "execution_count": 2,
   "metadata": {},
   "outputs": [],
   "source": [
    "import numpy as np\n",
    "import matplotlib.pyplot as plt\n",
    "\"\"\"\n",
    "A MDOF system excited by random noise\n",
    "----------------------------------------------------------------------\n",
    "\"\"\"\n",
    "\n",
    "def drift_mat(dof,k,c,m):\n",
    "    dim = 2 * dof\n",
    "    A = np.zeros((dim,dim))\n",
    "    \n",
    "    for i in range(dim):\n",
    "        if (i%2 == 0):\n",
    "            A[i][i+1] = 1\n",
    "    \n",
    "        elif(i==1):\n",
    "            A[i][i-1] = -(k+k)/m\n",
    "            A[i][i] = -(c+c)/m\n",
    "            A[i][i+1] = k/m\n",
    "            A[i][i+2] = c/m\n",
    "    \n",
    "        elif(i==dim-1):\n",
    "            A[i][i] = -c/m\n",
    "            A[i][i-1] = -k/m\n",
    "            A[i][i-2] = c/m\n",
    "            A[i][i-3] = k/m\n",
    "            \n",
    "        else:\n",
    "            A[i][i-3] = k/m \n",
    "            A[i][i-2] = c/m\n",
    "            A[i][i-1] = -(k+k)/m\n",
    "            A[i][i] = -(c+c)/m\n",
    "            A[i][i+1] = k/m\n",
    "            A[i][i+2] = c/m\n",
    "    return A\n",
    "\n",
    "def M_DOF_sys(x_initial, dof, T):\n",
    "    # parameters of M_DOF_sys in Equation\n",
    "    m = 1\n",
    "    c = 2\n",
    "    k = 3000\n",
    "    sigma = 1\n",
    "    \n",
    "    # solution by euler maruyama\n",
    "    # -------------------------------------------------------\n",
    "    dt = 0.0001\n",
    "    t = np.arange(0, T+dt, dt)\n",
    "    Nsamp = 200 # no. of samples in the run\n",
    "\n",
    "    y35 = []\n",
    "    y36 = []\n",
    "    y37 = []\n",
    "    y38 = []\n",
    "    y39 = []\n",
    "    y40 = []\n",
    "    y41 = []\n",
    "    y42 = []\n",
    "    \n",
    "    xz19 = []\n",
    "    xz20 = []\n",
    "    \n",
    "    xzs19 = []\n",
    "    xzs20 = []\n",
    "    \n",
    "    # Simulation Starts Here :\n",
    "    # -------------------------------------------------------\n",
    "    for ensemble in range(Nsamp):\n",
    "        x0 = x_initial\n",
    "        x = x0                              # initial condition.\n",
    "        for n in range(len(t)-1):\n",
    "            dW = np.sqrt(dt)*np.random.randn(2*dof)\n",
    "            \n",
    "            '''LINEAR PART DRIFT'''\n",
    "        \n",
    "            A = drift_mat(dof,k,c,m)\n",
    "            \n",
    "            '''DIFFUSION TERM  = b'''\n",
    "            diffu_arr = np.zeros(2*dof)\n",
    "            for i in range(2*dof):\n",
    "                if (i%2 != 0):\n",
    "                    diffu_arr[i] = sigma/m\n",
    "            \n",
    "            soln_arr = x0 + np.matmul(A,x0)*dt + diffu_arr*dW        \n",
    "            x0 = soln_arr\n",
    "            x = np.column_stack((x, x0))\n",
    "            \n",
    "\n",
    "        y35.append(x[-35,:])        \n",
    "        y36.append(x[-36,:])              \n",
    "        y37.append(x[-37,:])         # \n",
    "        y38.append(x[-38,:])\n",
    "        y39.append(x[-39,:])         #\n",
    "        y40.append(x[-40,:])\n",
    "        y41.append(x[-41,:])        \n",
    "        y42.append(x[-42,:])\n",
    "\n",
    "        \n",
    "        zint19 = x[-37, 0:-1]        # Velocity\n",
    "        xfinal19 = x[-37, 1:] \n",
    "        xmz19 = (xfinal19 - zint19)\n",
    "        \n",
    "        zint20 = x[-39, 0:-1]        # Velocity\n",
    "        xfinal20 = x[-39, 1:] \n",
    "        xmz20 = (xfinal20 - zint20) \n",
    "\n",
    "        xz19.append(xmz19)\n",
    "        xz20.append(xmz20)\n",
    "        \n",
    "        xmzsq19 = np.multiply(xmz19, xmz19)\n",
    "        xzs19.append(xmzsq19)\n",
    "        \n",
    "        xmzsq20 = np.multiply(xmz20, xmz20)\n",
    "        xzs20.append(xmzsq20)\n",
    "        \n",
    "    xz19 = pow(dt,-1)*np.mean(np.array(xz19), axis = 0)\n",
    "    xz20 = pow(dt,-1)*np.mean(np.array(xz20), axis = 0)\n",
    "\n",
    "    xzs19 = pow(dt,-1)*np.mean(np.array(xzs19), axis = 0)\n",
    "    xzs20 = pow(dt,-1)*np.mean(np.array(xzs20), axis = 0)\n",
    "\n",
    "    y35 = np.array(y35)\n",
    "    y36 = np.array(y36)\n",
    "    y37 = np.array(y37)\n",
    "    y38 = np.array(y38)\n",
    "    y39 = np.array(y39)\n",
    "    y40 = np.array(y40)\n",
    "    y41 = np.array(y41)\n",
    "    y42 = np.array(y42)\n",
    "\n",
    "    time = t[0:-1]\n",
    "    return xz19, xz20, xzs19, xzs20, y35, y36, y37, y38, y39, y40, y41, y42, time"
   ]
  },
  {
   "cell_type": "code",
   "execution_count": null,
   "metadata": {},
   "outputs": [],
   "source": [
    "import time\n",
    "start = time.time()\n",
    "xz19, xz20, xzs19, xzs20, y35, y36, y37, y38, y39, y40, y41, y42, time_ = M_DOF_sys(x_initial, dof, T)"
   ]
  },
  {
   "cell_type": "code",
   "execution_count": 6,
   "metadata": {},
   "outputs": [
    {
     "name": "stdout",
     "output_type": "stream",
     "text": [
      "\n"
     ]
    },
    {
     "data": {
      "text/plain": [
       "5.393276619911194"
      ]
     },
     "execution_count": 6,
     "metadata": {},
     "output_type": "execute_result"
    }
   ],
   "source": [
    "startD = time.time()\n",
    "# Expected Dictionary Creation:\n",
    "libr = []\n",
    "for j in range(len(y35)):\n",
    "    data = np.row_stack((y35[j,0:-1], y36[j,0:-1], y37[j,0:-1], y38[j,0:-1], y39[j,0:-1], y40[j,0:-1], y41[j,0:-1], y42[j,0:-1]))\n",
    "    Dtemp, nl = library(data, 1, 0)\n",
    "    libr.append(Dtemp)\n",
    "libr = np.array(libr)\n",
    "Dictionary= np.mean(libr, axis = 0)\n",
    "print()\n",
    "endD = time.time()\n",
    "TIMED = (endD - startD)/60\n",
    "TIMED"
   ]
  },
  {
   "cell_type": "code",
   "execution_count": 7,
   "metadata": {},
   "outputs": [],
   "source": [
    "xdts = xzs19\n",
    "D = Dictionary"
   ]
  },
  {
   "cell_type": "code",
   "execution_count": null,
   "metadata": {},
   "outputs": [],
   "source": [
    "Dict = D.reshape(-1,order='F')"
   ]
  },
  {
   "cell_type": "code",
   "execution_count": 10,
   "metadata": {
    "scrolled": true
   },
   "outputs": [
    {
     "name": "stdout",
     "output_type": "stream",
     "text": [
      "{'Relevant': matlab.double([[1.0],[6.0],[13.0],[14.0],[16.0],[21.0],[27.0],[32.0],[38.0],[58.0]]), 'Value': matlab.double([[0.9904825352434724],[0.09945833063129142],[0.5275949022920007],[0.10789027323677451],[0.09969911004305786],[-1.253850794084635],[34.01246409006031],[1.042994287115904],[-0.4438090621349935],[-0.12908973332471121]])}\n"
     ]
    }
   ],
   "source": [
    "#!/usr/bin/env python\n",
    "\"\"\"\n",
    "Sample script that uses the SparseBayes module created using\n",
    "MATLAB Compiler SDK.\n",
    "\n",
    "Refer to the MATLAB Compiler SDK documentation for more information.\n",
    "\"\"\"\n",
    "\n",
    "from __future__ import print_function\n",
    "import SparseBayes\n",
    "import matlab\n",
    "\n",
    "my_SparseBayes = SparseBayes.initialize()\n",
    "\n",
    "DictIn = matlab.double(Dict, size=(D.shape[0], D.shape[1]))\n",
    "targetIn = matlab.double(xdts, size=(D.shape[0], 1))\n",
    "DMOut = my_SparseBayes.SparseBayes(DictIn, targetIn)\n",
    "print(DMOut, sep='\\n')\n",
    "\n",
    "my_SparseBayes.terminate()"
   ]
  },
  {
   "cell_type": "code",
   "execution_count": null,
   "metadata": {},
   "outputs": [],
   "source": [
    "c = np.array(DMOut['Value'])\n",
    "d = []\n",
    "for j in c:\n",
    "    d.append(j[0])\n",
    "    \n",
    "a = np.array(DMOut['Relevant'])\n",
    "b = []\n",
    "for i in a:\n",
    "    b.append(int((i[0])-1))\n",
    "    \n",
    "initz0 = np.zeros(D.shape[1])\n",
    "for i in b:\n",
    "    initz0[i] = 1\n",
    "    \n",
    "print(initz0)"
   ]
  },
  {
   "cell_type": "code",
   "execution_count": null,
   "metadata": {},
   "outputs": [],
   "source": [
    "tol = 0.0001\n",
    "verbosity = True\n",
    "initz0 = initz0\n",
    "DS = Variational_Bayes_Code(D, xdts, initz0, tol, verbosity)\n",
    "\n",
    "print(DS) "
   ]
  },
  {
   "cell_type": "code",
   "execution_count": 17,
   "metadata": {},
   "outputs": [
    {
     "name": "stdout",
     "output_type": "stream",
     "text": [
      "\n",
      "0.9941014579491846\n"
     ]
    },
    {
     "data": {
      "image/png": "[encoded data removed]",
      "text/plain": [
       "<Figure size 432x288 with 1 Axes>"
      ]
     },
     "metadata": {
      "needs_background": "light"
     },
     "output_type": "display_data"
    }
   ],
   "source": [
    "zmean13 = DS['zmean']\n",
    "wmean13 = DS['wmean']\n",
    "zmean13[np.where(np.diag(DS['wCOV'])>5e-4)] = 0\n",
    "plt.stem(zmean13)\n",
    "wmean13[np.where(np.diag(DS['wCOV'])>5e-4)] = 0\n",
    "print()\n",
    "print(np.sqrt(wmean13[0]))"
   ]
  },
  {
   "cell_type": "markdown",
   "metadata": {},
   "source": [
    "# Diffusion 2"
   ]
  },
  {
   "cell_type": "code",
   "execution_count": 18,
   "metadata": {},
   "outputs": [],
   "source": [
    "xdts = xzs20"
   ]
  },
  {
   "cell_type": "code",
   "execution_count": 19,
   "metadata": {},
   "outputs": [
    {
     "name": "stdout",
     "output_type": "stream",
     "text": [
      "{'Relevant': matlab.double([[1.0],[10.0],[15.0],[16.0],[20.0],[39.0],[50.0],[51.0],[52.0],[57.0],[70.0],[73.0],[81.0]]), 'Value': matlab.double([[0.9863877235342399],[0.1789696288868821],[1.2126479352123791],[0.027799401226600916],[-0.008110598775003393],[13.06618091201545],[0.6080261937592515],[8.55764887631481],[-0.5359061184082317],[-26.94846828259613],[-0.31954538263831705],[27.12007419340602],[946.9765652762065]])}\n"
     ]
    }
   ],
   "source": [
    "#!/usr/bin/env python\n",
    "\"\"\"\n",
    "Sample script that uses the SparseBayes module created using\n",
    "MATLAB Compiler SDK.\n",
    "\n",
    "Refer to the MATLAB Compiler SDK documentation for more information.\n",
    "\"\"\"\n",
    "\n",
    "from __future__ import print_function\n",
    "import SparseBayes\n",
    "import matlab\n",
    "\n",
    "my_SparseBayes = SparseBayes.initialize()\n",
    "\n",
    "DictIn = matlab.double(Dict, size=(D.shape[0], D.shape[1]))\n",
    "targetIn = matlab.double(xdts, size=(D.shape[0], 1))\n",
    "DMOut = my_SparseBayes.SparseBayes(DictIn, targetIn)\n",
    "print(DMOut, sep='\\n')\n",
    "\n",
    "my_SparseBayes.terminate()"
   ]
  },
  {
   "cell_type": "code",
   "execution_count": null,
   "metadata": {},
   "outputs": [],
   "source": [
    "c = np.array(DMOut['Value'])\n",
    "d = []\n",
    "for j in c:\n",
    "    d.append(j[0])\n",
    "    \n",
    "a = np.array(DMOut['Relevant'])\n",
    "b = []\n",
    "for i in a:\n",
    "    b.append(int((i[0])-1))\n",
    "    \n",
    "initz0 = np.zeros(D.shape[1])\n",
    "for i in b:\n",
    "    initz0[i] = 1\n",
    "    \n",
    "print(initz0)"
   ]
  },
  {
   "cell_type": "code",
   "execution_count": null,
   "metadata": {},
   "outputs": [],
   "source": [
    "tol = 0.0001\n",
    "verbosity = True\n",
    "initz0 = initz0\n",
    "DS = Variational_Bayes_Code(D, xdts, initz0, tol, verbosity)\n",
    "\n",
    "print(DS) "
   ]
  },
  {
   "cell_type": "code",
   "execution_count": 24,
   "metadata": {},
   "outputs": [
    {
     "name": "stdout",
     "output_type": "stream",
     "text": [
      "\n",
      "0.9906794734779988\n"
     ]
    },
    {
     "data": {
      "image/png": "[encoded data removed]",
      "text/plain": [
       "<Figure size 432x288 with 1 Axes>"
      ]
     },
     "metadata": {
      "needs_background": "light"
     },
     "output_type": "display_data"
    }
   ],
   "source": [
    "zmean12 = DS['zmean']\n",
    "wmean12 = DS['wmean']\n",
    "zmean12[np.where(np.diag(DS['wCOV'])>3e-4)] = 0\n",
    "plt.stem(zmean12)\n",
    "wmean12[np.where(np.diag(DS['wCOV'])>3e-4)] = 0\n",
    "print()\n",
    "print(np.sqrt(wmean12[0]))"
   ]
  },
  {
   "cell_type": "markdown",
   "metadata": {},
   "source": [
    "# Diffusion 1"
   ]
  },
  {
   "cell_type": "code",
   "execution_count": 2,
   "metadata": {},
   "outputs": [],
   "source": [
    "import numpy as np\n",
    "import matplotlib.pyplot as plt\n",
    "\"\"\"\n",
    "A MDOF system excited by random noise\n",
    "----------------------------------------------------------------------\n",
    "\"\"\"\n",
    "\n",
    "def drift_mat(dof,k,c,m):\n",
    "    dim = 2 * dof\n",
    "    A = np.zeros((dim,dim))\n",
    "    \n",
    "    for i in range(dim):\n",
    "        if (i%2 == 0):\n",
    "            A[i][i+1] = 1\n",
    "    \n",
    "        elif(i==1):\n",
    "            A[i][i-1] = -(k+k)/m\n",
    "            A[i][i] = -(c+c)/m\n",
    "            A[i][i+1] = k/m\n",
    "            A[i][i+2] = c/m\n",
    "    \n",
    "        elif(i==dim-1):\n",
    "            A[i][i] = -c/m\n",
    "            A[i][i-1] = -k/m\n",
    "            A[i][i-2] = c/m\n",
    "            A[i][i-3] = k/m\n",
    "            \n",
    "        else:\n",
    "            A[i][i-3] = k/m \n",
    "            A[i][i-2] = c/m\n",
    "            A[i][i-1] = -(k+k)/m\n",
    "            A[i][i] = -(c+c)/m\n",
    "            A[i][i+1] = k/m\n",
    "            A[i][i+2] = c/m\n",
    "    return A\n",
    "\n",
    "def M_DOF_sys(x_initial, dof, T):\n",
    "    # parameters of M_DOF_sys in Equation\n",
    "    m = 1\n",
    "    c = 2\n",
    "    k = 3000\n",
    "    sigma = 1\n",
    "    \n",
    "    # solution by euler maruyama\n",
    "    # -------------------------------------------------------\n",
    "    dt = 0.0001\n",
    "    t = np.arange(0, T+dt, dt)\n",
    "    Nsamp = 200 # no. of samples in the run\n",
    "\n",
    "    y35 = []\n",
    "    y36 = []\n",
    "    y37 = []\n",
    "    y38 = []\n",
    "    y39 = []\n",
    "    y40 = []\n",
    "    y41 = []\n",
    "    y42 = []\n",
    "    \n",
    "    xz19 = []\n",
    "    xz20 = []\n",
    "    \n",
    "    xzs19 = []\n",
    "    xzs20 = []\n",
    "    \n",
    "    # Simulation Starts Here :\n",
    "    # -------------------------------------------------------\n",
    "    for ensemble in range(Nsamp):\n",
    "        x0 = x_initial\n",
    "        x = x0                              # initial condition.\n",
    "        for n in range(len(t)-1):\n",
    "            dW = np.sqrt(dt)*np.random.randn(2*dof)\n",
    "            \n",
    "            '''LINEAR PART DRIFT'''\n",
    "        \n",
    "            A = drift_mat(dof,k,c,m)\n",
    "            \n",
    "            '''DIFFUSION TERM  = b'''\n",
    "            diffu_arr = np.zeros(2*dof)\n",
    "            for i in range(2*dof):\n",
    "                if (i%2 != 0):\n",
    "                    diffu_arr[i] = sigma/m\n",
    "            \n",
    "            soln_arr = x0 + np.matmul(A,x0)*dt + diffu_arr*dW        \n",
    "            x0 = soln_arr\n",
    "            x = np.column_stack((x, x0))\n",
    "                         \n",
    "        y37.append(x[-37,:])         # \n",
    "        y38.append(x[-38,:])\n",
    "        y39.append(x[-39,:])         #\n",
    "        y40.append(x[-40,:])\n",
    "        y41.append(x[-41,:])         #\n",
    "        y42.append(x[-42,:])\n",
    "\n",
    "        \n",
    "        zint19 = x[-41, 0:-1]        # Velocity\n",
    "        xfinal19 = x[-41, 1:] \n",
    "        xmz19 = (xfinal19 - zint19)\n",
    "        \n",
    "\n",
    "        xz19.append(xmz19)\n",
    "        \n",
    "        xmzsq19 = np.multiply(xmz19, xmz19)\n",
    "        xzs19.append(xmzsq19)\n",
    "\n",
    "    xz19 = pow(dt,-1)*np.mean(np.array(xz19), axis = 0)\n",
    "\n",
    "    xzs19 = pow(dt,-1)*np.mean(np.array(xzs19), axis = 0)\n",
    "\n",
    "    y37 = np.array(y37)\n",
    "    y38 = np.array(y38)\n",
    "    y39 = np.array(y39)\n",
    "    y40 = np.array(y40)\n",
    "    y41 = np.array(y41)\n",
    "    y42 = np.array(y42)\n",
    "\n",
    "    time = t[0:-1]\n",
    "    return xz19, xzs19, y37, y38, y39, y40, y41, y42, time"
   ]
  },
  {
   "cell_type": "code",
   "execution_count": null,
   "metadata": {},
   "outputs": [],
   "source": [
    "import time\n",
    "start = time.time()\n",
    "xz19, xzs19, y37, y38, y39, y40, y41, y42, time_ = M_DOF_sys(x_initial, dof, T)\n",
    "end = time.time()\n",
    "print()\n",
    "TIMES = (end - start)/60\n",
    "TIMES"
   ]
  },
  {
   "cell_type": "code",
   "execution_count": null,
   "metadata": {},
   "outputs": [],
   "source": [
    "startD = time.time()\n",
    "# Expected Dictionary Creation:\n",
    "libr = []\n",
    "for j in range(len(y37)):\n",
    "    data = np.row_stack((y37[j,0:-1], y38[j,0:-1], y39[j,0:-1], y40[j,0:-1], y41[j,0:-1], y42[j,0:-1]))\n",
    "    Dtemp, nl = library(data, 1, 0)\n",
    "    libr.append(Dtemp)\n",
    "libr = np.array(libr)\n",
    "Dictionary= np.mean(libr, axis = 0)\n",
    "print()\n",
    "endD = time.time()\n",
    "TIMED = (endD - startD)/60\n",
    "TIMED"
   ]
  },
  {
   "cell_type": "code",
   "execution_count": 11,
   "metadata": {},
   "outputs": [],
   "source": [
    "xdts = xzs19\n",
    "D = Dictionary"
   ]
  },
  {
   "cell_type": "code",
   "execution_count": 13,
   "metadata": {},
   "outputs": [
    {
     "data": {
      "text/plain": [
       "(490000,)"
      ]
     },
     "execution_count": 13,
     "metadata": {},
     "output_type": "execute_result"
    }
   ],
   "source": [
    "Dict = D.reshape(-1,order='F')\n",
    "Dict.shape"
   ]
  },
  {
   "cell_type": "code",
   "execution_count": 14,
   "metadata": {
    "scrolled": true
   },
   "outputs": [
    {
     "name": "stdout",
     "output_type": "stream",
     "text": [
      "{'Relevant': matlab.double([[1.0],[13.0],[16.0],[17.0],[18.0],[25.0],[31.0]]), 'Value': matlab.double([[0.9911631499197776],[11.7442354204679],[0.14516210033526056],[-11.893665126435351],[0.4469881333734123],[76.16620332698977],[-2.8032948609811044]])}\n"
     ]
    }
   ],
   "source": [
    "#!/usr/bin/env python\n",
    "\"\"\"\n",
    "Sample script that uses the SparseBayes module created using\n",
    "MATLAB Compiler SDK.\n",
    "\n",
    "Refer to the MATLAB Compiler SDK documentation for more information.\n",
    "\"\"\"\n",
    "\n",
    "from __future__ import print_function\n",
    "import SparseBayes\n",
    "import matlab\n",
    "\n",
    "my_SparseBayes = SparseBayes.initialize()\n",
    "\n",
    "DictIn = matlab.double(Dict, size=(D.shape[0], D.shape[1]))\n",
    "targetIn = matlab.double(xdts, size=(D.shape[0], 1))\n",
    "DMOut = my_SparseBayes.SparseBayes(DictIn, targetIn)\n",
    "print(DMOut, sep='\\n')\n",
    "\n",
    "my_SparseBayes.terminate()"
   ]
  },
  {
   "cell_type": "code",
   "execution_count": null,
   "metadata": {},
   "outputs": [],
   "source": [
    "c = np.array(DMOut['Value'])\n",
    "d = []\n",
    "for j in c:\n",
    "    d.append(j[0])\n",
    "    \n",
    "a = np.array(DMOut['Relevant'])\n",
    "b = []\n",
    "for i in a:\n",
    "    b.append(int((i[0])-1))\n",
    "    \n",
    "initz0 = np.zeros(D.shape[1])\n",
    "for i in b:\n",
    "    initz0[i] = 1\n",
    "    \n",
    "print(initz0)"
   ]
  },
  {
   "cell_type": "code",
   "execution_count": null,
   "metadata": {},
   "outputs": [],
   "source": [
    "tol = 0.0001\n",
    "verbosity = True\n",
    "initz0 = initz0\n",
    "DS = Variational_Bayes_Code(D, xdts, initz0, tol, verbosity)"
   ]
  },
  {
   "cell_type": "code",
   "execution_count": 20,
   "metadata": {
    "scrolled": true
   },
   "outputs": [
    {
     "name": "stdout",
     "output_type": "stream",
     "text": [
      "\n",
      "1.0203663496547075\n"
     ]
    },
    {
     "data": {
      "image/png": "[encoded data removed]",
      "text/plain": [
       "<Figure size 432x288 with 1 Axes>"
      ]
     },
     "metadata": {
      "needs_background": "light"
     },
     "output_type": "display_data"
    }
   ],
   "source": [
    "zmean1 = DS['zmean']\n",
    "wmean1 = DS['wmean']\n",
    "zmean1[np.where(np.diag(DS['wCOV'])>2e-5)] = 0\n",
    "plt.stem(zmean1)\n",
    "wmean1[np.where(np.diag(DS['wCOV'])>2e-5)] = 0\n",
    "print()\n",
    "print(np.sqrt(wmean1[0]))"
   ]
  },
  {
   "cell_type": "markdown",
   "id": "fb233fe7",
   "metadata": {},
   "source": [
    "# True Prediction"
   ]
  },
  {
   "cell_type": "code",
   "execution_count": 1,
   "id": "03d367fe",
   "metadata": {},
   "outputs": [],
   "source": [
    "import numpy as np\n",
    "import pickle \n",
    "\n",
    "Nsamp = 10000\n",
    "dt = 0.001\n",
    "T = 3\n",
    "dof = 21\n",
    "t = np.arange(0, T+dt, dt)\n",
    "dW = np.sqrt(dt)*np.random.randn(Nsamp, t.shape[0], 2*dof)\n",
    "\n",
    "pickle.dump(dW, open('Forcing_Term_MDOF.p', 'wb'))"
   ]
  },
  {
   "cell_type": "code",
   "execution_count": 1,
   "id": "82f3e132",
   "metadata": {},
   "outputs": [],
   "source": [
    "import pickle\n",
    "import numpy as np\n",
    "import matplotlib.pyplot as plt\n",
    "\n",
    "\n",
    "# open pickle file\n",
    "\n",
    "file_data = \"Forcing_Term_MDOF.p\"\n",
    "fileobj_data = open(file_data, 'rb')\n",
    "Forcing_term = pickle.load(fileobj_data)\n",
    "\n",
    "dW = np.array(Forcing_term)"
   ]
  },
  {
   "cell_type": "code",
   "execution_count": 2,
   "id": "be4ba903",
   "metadata": {},
   "outputs": [],
   "source": [
    "import numpy as np\n",
    "import matplotlib.pyplot as plt\n",
    "\"\"\"\n",
    "A MDOF system excited by random noise\n",
    "----------------------------------------------------------------------\n",
    "\"\"\"\n",
    "\n",
    "def drift_mat(dof,k,c,m):\n",
    "    dim = 2 * dof\n",
    "    A = np.zeros((dim,dim))\n",
    "    \n",
    "    for i in range(dim):\n",
    "        if (i%2 == 0):\n",
    "            A[i][i+1] = 1\n",
    "    \n",
    "        elif(i==1):\n",
    "            A[i][i-1] = -(k+k)/m\n",
    "            A[i][i] = -(c+c)/m\n",
    "            A[i][i+1] = k/m\n",
    "            A[i][i+2] = c/m\n",
    "    \n",
    "        elif(i==dim-1):\n",
    "            A[i][i] = -c/m\n",
    "            A[i][i-1] = -k/m\n",
    "            A[i][i-2] = c/m\n",
    "            A[i][i-3] = k/m\n",
    "            \n",
    "        else:\n",
    "            A[i][i-3] = k/m \n",
    "            A[i][i-2] = c/m\n",
    "            A[i][i-1] = -(k+k)/m\n",
    "            A[i][i] = -(c+c)/m\n",
    "            A[i][i+1] = k/m\n",
    "            A[i][i+2] = c/m\n",
    "    return A\n",
    "\n",
    "def M_DOF_sys(x_initial, dof, T):\n",
    "    # parameters of M_DOF_sys in Equation\n",
    "    m = 1\n",
    "    c = 2\n",
    "    k = 3000\n",
    "    sigma = 1\n",
    "    \n",
    "    # solution by euler maruyama\n",
    "    # -------------------------------------------------------\n",
    "    dt = 0.001\n",
    "    t = np.arange(0, T+dt, dt)\n",
    "    Nsamp = 10000  # no. of samples in the run\n",
    "    \n",
    "    y1 = []\n",
    "    y2 = []\n",
    "    y3 = []\n",
    "    y4 = []\n",
    "    y5 = []\n",
    "    y6 = []\n",
    "    y7 = []\n",
    "    y8 = []\n",
    "    xz1 = []\n",
    "    xz2 = []\n",
    "    xz3 = []\n",
    "    xzs11 = []\n",
    "    xzs22 = []\n",
    "    xzs33 = []\n",
    "    \n",
    "    # Simulation Starts Here :\n",
    "    # -------------------------------------------------------\n",
    "    for ensemble in range(Nsamp):\n",
    "        x0 = x_initial\n",
    "        x = x0       \n",
    "        if ensemble%10==0:\n",
    "            print('ensemble  : ',ensemble)\n",
    "        for n in range(len(t)-1):\n",
    "            '''LINEAR PART DRIFT'''\n",
    "            A = drift_mat(dof,k,c,m)\n",
    "            '''DIFFUSION TERM  = b'''\n",
    "            diffu_arr = np.zeros(2*dof)\n",
    "            for i in range(2*dof):\n",
    "                if (i%2 != 0):\n",
    "                    diffu_arr[i] = sigma/m\n",
    "            soln_arr = x0 + np.matmul(A,x0)*dt + diffu_arr*dW[ensemble][i]    \n",
    "            x0 = soln_arr\n",
    "            x = np.column_stack((x, x0))\n",
    "            \n",
    "        y1.append(x[-1,:])   \n",
    "        y2.append(x[-2,:])      \n",
    "\n",
    "    y1 = np.array(y1)\n",
    "    y2 = np.array(y2)\n",
    "\n",
    "    return y1, y2"
   ]
  },
  {
   "cell_type": "code",
   "execution_count": 3,
   "id": "1d31ab63",
   "metadata": {},
   "outputs": [],
   "source": [
    "np.random.seed(1)\n",
    "T = 3\n",
    "dof = 21\n",
    "x_initial = np.zeros(2*dof)"
   ]
  },
  {
   "cell_type": "code",
   "execution_count": null,
   "id": "d2b9f29d",
   "metadata": {},
   "outputs": [],
   "source": [
    "import time \n",
    "start = time.time()\n",
    "y1, y2 = M_DOF_sys(x_initial, dof, T)\n",
    "end = time.time()\n",
    "print('Total time : ', (end-start)/60, '  min')"
   ]
  },
  {
   "cell_type": "code",
   "execution_count": 6,
   "id": "fec386c7",
   "metadata": {},
   "outputs": [],
   "source": [
    "pickle.dump(y2, open('MDOF_actual_relia.p', 'wb'))"
   ]
  },
  {
   "cell_type": "markdown",
   "id": "78f3feb0",
   "metadata": {},
   "source": [
    "# Estimated value prediction"
   ]
  },
  {
   "cell_type": "code",
   "execution_count": 1,
   "id": "58111782",
   "metadata": {},
   "outputs": [],
   "source": [
    "import pickle\n",
    "import numpy as np\n",
    "import matplotlib.pyplot as plt\n",
    "\n",
    "\n",
    "# open pickle file\n",
    "\n",
    "file_data = \"Forcing_Term_MDOF.p\"\n",
    "fileobj_data = open(file_data, 'rb')\n",
    "Forcing_term = pickle.load(fileobj_data)\n",
    "\n",
    "dW = np.array(Forcing_term)"
   ]
  },
  {
   "cell_type": "code",
   "execution_count": 2,
   "id": "d26f2ebb",
   "metadata": {},
   "outputs": [],
   "source": [
    "reverse_arr = [\n",
    "[-1.9856578360681794\n",
    ",-2999.1054873824546\n",
    ",2.000594188269195\n",
    ",2999.421070107903]\n",
    ",\n",
    "[1.9993880674656803\n",
    ",2998.751240420418\n",
    ",-4.004425002532981\n",
    ",-5998.559737234919\n",
    ",1.983354401651775\n",
    ",2999.9804929627767]\n",
    "\n",
    ",\n",
    "[1.996019659650603\n",
    ",2998.1820045623476\n",
    ",-3.987879225886737\n",
    ",-5995.060773070505\n",
    ",1.9985362835677112\n",
    ",2996.4584540504925]\n",
    ",\n",
    "\n",
    "[1.9923740734765514\n",
    ",2996.245771840961\n",
    ",-4.003049477280969\n",
    ",-5992.0037657290295\n",
    ",2.0103310724543872\n",
    ",2995.17468795253]\n",
    ",\n",
    "\n",
    "[1.9903495270787748\n",
    ",2998.0981101181233\n",
    ",-3.994933600084622\n",
    ",-5996.061077113376\n",
    ",1.9677395409015634\n",
    ",2998.1635345032882]\n",
    "\n",
    ",\n",
    "[2.0184651208568294\n",
    ",2998.6859393507852\n",
    ",-4.013114574041832\n",
    ",-5999.281885073903\n",
    ",2.0082113462257722\n",
    ",3000.7909039506276]\n",
    "\n",
    ",\n",
    "[2.0315832268965677\n",
    ",2998.1430900690357\n",
    ",-4.0125547137838815\n",
    ",-5995.891507106089\n",
    ",2.0348119808240726\n",
    ",2997.396188667701]\n",
    "\n",
    ",\n",
    "[1.9858062831074283\n",
    ",2996.759148055798\n",
    ",-3.9835494379162357\n",
    ",-5994.755364268647\n",
    ",2.0080597987567144\n",
    ",2997.543372325106]\n",
    "\n",
    ",\n",
    "[1.979841912935129\n",
    ",2997.5049710046123\n",
    ",-3.97780877166546\n",
    ",-5996.012284491217\n",
    ",1.9838493670140263\n",
    ",2998.373479074605]\n",
    "\n",
    ",\n",
    "[1.9833756187404543\n",
    ",2998.0413562761296\n",
    ",-3.9941528472406467\n",
    ",-5995.655950234483\n",
    ",2.0060493894186107\n",
    ",2998.14921073922\n",
    " ]\n",
    ",\n",
    "[2.010651978135515\n",
    ",2995.303927591743\n",
    ",-3.991046283337433\n",
    ",-5992.480161357249\n",
    ",2.011565108911237\n",
    ",2996.3421381542726]\n",
    "\n",
    ",\n",
    "[1.9891507455464754\n",
    ",2997.225156924738\n",
    ",-3.9954768388570536\n",
    ",-5993.755010355408\n",
    ",1.9979328203945448\n",
    ",2996.4422466945043]\n",
    ",\n",
    "\n",
    "[1.994151369277238\n",
    ",2996.4682007949355\n",
    ",-4.008009864622892\n",
    ",-5994.161063061209\n",
    ",1.9737644876973743\n",
    ",2997.002237861422]\n",
    ",\n",
    "[2.0131723478710017\n",
    ",2996.496308680628\n",
    ",-3.9880382130431014\n",
    ",-5992.291368239411\n",
    ",1.9961713333240416\n",
    ",2995.8048619707147]\n",
    ",\n",
    "\n",
    "[1.9834191248660422\n",
    ",2994.1484681705238\n",
    ",-3.997373785900647\n",
    ",-5987.325660253337\n",
    ",1.9942890233748591\n",
    ",2992.521744769699]\n",
    "\n",
    ",\n",
    "[1.98562902096774\n",
    ",2992.852521317974\n",
    ",-3.9763036937142964\n",
    ",-5987.567329167563\n",
    ",1.9988779200040339\n",
    ",2994.566374614491]\n",
    ",\n",
    "[2.0064045864978093\n",
    ",2994.4078519404666\n",
    ",-4.012196463914909\n",
    ",-5988.012296609312\n",
    ",2.0060507756250177\n",
    ",2993.4584411061032]\n",
    ",\n",
    "[2.003870581443681\n",
    ",2995.5104018460484\n",
    ",-4.010279460375954\n",
    ",-5989.784169905727\n",
    ",1.9864022322107955\n",
    ",2992.599722524427]\n",
    ",\n",
    "[1.993968333712578\n",
    ",2992.438811087823\n",
    ",-4.022797352850086\n",
    ",-5987.074654692968\n",
    ",2.0278642439463197\n",
    ",2993.568082947166]\n",
    ",\n",
    "[1.9961389992338232\n",
    ",2997.770203503636\n",
    ",-4.006894532350776\n",
    ",-5992.989301531508\n",
    ",2.0280011684999084\n",
    ",2991.9358537257626]\n",
    ",\n",
    "[1.9710619223855972\n",
    ",2998.6391100391693\n",
    ",-3.984083429356548\n",
    ",-5998.5450813651705]\n",
    "    \n",
    "]"
   ]
  },
  {
   "cell_type": "code",
   "execution_count": 3,
   "id": "c3e9374c",
   "metadata": {},
   "outputs": [],
   "source": [
    "theta = []\n",
    "\n",
    "for i in range(20, -1, -1):\n",
    "    theta.append(reverse_arr[i])"
   ]
  },
  {
   "cell_type": "code",
   "execution_count": 4,
   "id": "4652e4c4",
   "metadata": {},
   "outputs": [],
   "source": [
    "def drift_mat(dof, Theta):\n",
    "    dim = 2 * dof\n",
    "    A = np.zeros((dim,dim))\n",
    "    p = 0\n",
    "    for i in range(dim):\n",
    "        if (i%2 == 0):\n",
    "            A[i][i+1] = 1\n",
    "    \n",
    "        elif(i==1):\n",
    "            A[i][i-1] = Theta[p][3]\n",
    "            A[i][i] = Theta[p][2]\n",
    "            A[i][i+1] = Theta[p][1]\n",
    "            A[i][i+2] = Theta[p][0]\n",
    "            p += 1\n",
    "    \n",
    "        elif(i==dim-1):\n",
    "            A[i][i] = Theta[p][0]\n",
    "            A[i][i-1] = Theta[p][1]\n",
    "            A[i][i-2] = Theta[p][2]\n",
    "            A[i][i-3] = Theta[p][3]\n",
    "            p += 1\n",
    "            \n",
    "        else:\n",
    "            A[i][i-3] = Theta[p][5]\n",
    "            A[i][i-2] = Theta[p][4]\n",
    "            A[i][i-1] = Theta[p][3]\n",
    "            A[i][i] = Theta[p][2]\n",
    "            A[i][i+1] = Theta[p][1]\n",
    "            A[i][i+2] = Theta[p][0]\n",
    "            p += 1\n",
    "    return A"
   ]
  },
  {
   "cell_type": "code",
   "execution_count": 6,
   "id": "5f429ad1",
   "metadata": {},
   "outputs": [],
   "source": [
    "import numpy as np\n",
    "dof = 21\n",
    "A = drift_mat(dof, theta)"
   ]
  },
  {
   "cell_type": "code",
   "execution_count": 7,
   "id": "c8a226ad",
   "metadata": {},
   "outputs": [],
   "source": [
    "diff_arr_iden = [1.003,1.00, 0.994,0.99,0.987,0.995,0.993,0.991,0.991,0.992,0.989,0.993,0.997,1.00,0.997,0.991,1.02,0.995,0.994,0.99,1.02]"
   ]
  },
  {
   "cell_type": "code",
   "execution_count": 8,
   "id": "f246afbf",
   "metadata": {},
   "outputs": [],
   "source": [
    "'''DIFFUSION TERM  = b'''\n",
    "diffu_arr = np.zeros(2*dof)\n",
    "q = 0\n",
    "for i in range(2*dof):\n",
    "    if (i%2 != 0):\n",
    "        diffu_arr[i] = diff_arr_iden[q]\n",
    "        q += 1"
   ]
  },
  {
   "cell_type": "code",
   "execution_count": 11,
   "id": "b7dfc30a",
   "metadata": {},
   "outputs": [],
   "source": [
    "def M_DOF_sys(x_initial, T, A, diffu_arr):\n",
    "    \n",
    "    # solution by euler maruyama\n",
    "    # -------------------------------------------------------\n",
    "    dt = 0.001\n",
    "    t = np.arange(0, T+dt, dt)\n",
    "    Nsamp = 10000  # no. of samples in the run\n",
    "    y2 = []\n",
    "    # Simulation Starts Here :\n",
    "    # -------------------------------------------------------\n",
    "    for ensemble in range(Nsamp):\n",
    "        x0 = x_initial\n",
    "        x = x0       \n",
    "        if ensemble%10==0:\n",
    "            print('ensemble  : ',ensemble)\n",
    "        for n in range(len(t)-1):\n",
    "            soln_arr = x0 + np.matmul(A,x0)*dt + diffu_arr*dW[ensemble][i]    \n",
    "            x0 = soln_arr\n",
    "            x = np.column_stack((x, x0))\n",
    "             \n",
    "        y2.append(x[-2,:])      \n",
    "    y2 = np.array(y2)\n",
    "    return  y2"
   ]
  },
  {
   "cell_type": "code",
   "execution_count": null,
   "id": "b06ed10c",
   "metadata": {},
   "outputs": [],
   "source": [
    "import time \n",
    "start = time.time()\n",
    "T = 3\n",
    "dof = 21\n",
    "x_initial = np.zeros(2*dof)\n",
    "\n",
    "y2 = M_DOF_sys(x_initial, T, A, diffu_arr)\n",
    "end = time.time()\n",
    "print('Total time : ', (end-start)/60, '  min')"
   ]
  },
  {
   "cell_type": "code",
   "execution_count": 14,
   "id": "019f68c0",
   "metadata": {},
   "outputs": [],
   "source": [
    "pickle.dump(y2, open('MDOF_Final_relia_dt_0.001_T_3_sec.p', 'wb'))"
   ]
  },
  {
   "cell_type": "markdown",
   "id": "0cbf864a",
   "metadata": {},
   "source": [
    "# Reliability"
   ]
  },
  {
   "cell_type": "code",
   "execution_count": 1,
   "id": "f009dfd7",
   "metadata": {},
   "outputs": [],
   "source": [
    "import pickle\n",
    "import numpy as np\n",
    "import matplotlib.pyplot as plt\n",
    "\n",
    "# Actual data\n",
    "\n",
    "file_data = \"MDOF_actual_relia.p\"\n",
    "fileobj_data = open(file_data, 'rb')\n",
    "MDOF = pickle.load(fileobj_data)\n",
    "\n",
    "output = MDOF\n",
    "output = np.array(output)"
   ]
  },
  {
   "cell_type": "code",
   "execution_count": 2,
   "id": "325f1d01",
   "metadata": {},
   "outputs": [],
   "source": [
    "file_data_F = 'MDOF_Final_relia_dt_0.001_T_3_sec.p' # Prediction data\n",
    "fileobj_data_F = open(file_data_F, 'rb')\n",
    "MDOF_F = pickle.load(fileobj_data_F)\n",
    "\n",
    "output_F = MDOF_F\n",
    "output_F = np.array(output_F)"
   ]
  },
  {
   "cell_type": "markdown",
   "id": "de37d0b1",
   "metadata": {},
   "source": [
    "## Y1 Actual"
   ]
  },
  {
   "cell_type": "code",
   "execution_count": 10,
   "id": "dbe9b15e",
   "metadata": {},
   "outputs": [
    {
     "data": {
      "text/plain": [
       "(10000, 3001)"
      ]
     },
     "execution_count": 10,
     "metadata": {},
     "output_type": "execute_result"
    }
   ],
   "source": [
    "output.shape"
   ]
  },
  {
   "cell_type": "code",
   "execution_count": 3,
   "id": "c37c9f55",
   "metadata": {},
   "outputs": [
    {
     "data": {
      "text/plain": [
       "[<matplotlib.lines.Line2D at 0x1c9f6589c40>]"
      ]
     },
     "execution_count": 3,
     "metadata": {},
     "output_type": "execute_result"
    },
    {
     "data": {
      "image/png": "[encoded data removed]",
      "text/plain": [
       "<Figure size 432x288 with 1 Axes>"
      ]
     },
     "metadata": {
      "needs_background": "light"
     },
     "output_type": "display_data"
    }
   ],
   "source": [
    "plt.plot(np.mean(output, axis=0))"
   ]
  },
  {
   "cell_type": "code",
   "execution_count": null,
   "id": "b0a80ef2",
   "metadata": {},
   "outputs": [],
   "source": [
    "threshold = 2.5\n",
    "ensem = output.shape[0]\n",
    "time = output.shape[1] \n",
    "\n",
    "import matplotlib.pyplot as plt\n",
    "\n",
    "idx = [np.where(output[i,:]>threshold) for i in range(ensem)]\n",
    "# idx\n",
    "count = 0 \n",
    "for i in idx:\n",
    "    if len(i[0]) != 0:\n",
    "        count += 1\n",
    "print(\"Probability of Failure :\", count/ensem)\n",
    "\n",
    "\n",
    "ans = []\n",
    "for i in idx:\n",
    "    if len(i[0])!=0:\n",
    "        ans.append((i[0][0])/100)\n",
    "    else:\n",
    "        ans.append(time/100)\n",
    "        \n",
    "plt.hist(ans, density=True)\n",
    "plt.xlabel('time in Sec')\n",
    "plt.ylabel('Number of Failure')\n",
    "plt.show()\n",
    "\n",
    "\n",
    "pf_count_per_t_1 = set() \n",
    "prob_fail_1 = []\n",
    "\n",
    "\n",
    "for i in range(time):\n",
    "    \n",
    "    colmn = output[:, i]\n",
    "    ans = np.where(colmn > threshold)\n",
    "    for i in ans[0]:\n",
    "        pf_count_per_t_1.add(i)\n",
    "    \n",
    "    no_of_fail_1 = len(pf_count_per_t_1)\n",
    "    prob_fail_1.append(no_of_fail_1/ensem)\n",
    "    \n",
    "    \n",
    "final_pf = []\n",
    "for i in range(len(prob_fail_1)):\n",
    "    if i%100==0:\n",
    "        final_pf.append(prob_fail_1[i])\n",
    "\n",
    "plt.plot(final_pf,color='green',linewidth=3)\n",
    "plt.xlabel('time')\n",
    "plt.ylabel('Probability of failure')\n",
    "plt.show()\n",
    "\n",
    "\n",
    "ensem_F = output_F.shape[0]\n",
    "time_F = output_F.shape[1] \n",
    "\n",
    "\n",
    "idx_F = [np.where(output_F[i,:]> threshold) for i in range(ensem_F)]\n",
    "# idx\n",
    "count_F = 0 \n",
    "for i in idx_F:\n",
    "    if len(i[0]) != 0:\n",
    "        count_F += 1\n",
    "        \n",
    "print(\"Probability of Failure :\", count_F/ensem_F)\n",
    "\n",
    "\n",
    "ans_F = []\n",
    "for i in idx_F:\n",
    "    if len(i[0])!=0:\n",
    "        ans_F.append((i[0][0])/100)\n",
    "    else:\n",
    "        ans_F.append(time_F/100)\n",
    "        \n",
    "plt.hist(ans_F, density=True)\n",
    "plt.xlabel('time in Sec')\n",
    "plt.ylabel('Number of Failure')\n",
    "plt.show()\n",
    "\n",
    "\n",
    "pf_count_per_t_1_F = set() \n",
    "prob_fail_1_F = []\n",
    "\n",
    "\n",
    "for i in range(time_F):\n",
    "    \n",
    "    colmn_F = output_F[:, i]\n",
    "    ans_F = np.where(colmn_F > threshold)\n",
    "    for i in ans_F[0]:\n",
    "        pf_count_per_t_1_F.add(i)\n",
    "    \n",
    "    no_of_fail_1_F = len(pf_count_per_t_1_F)\n",
    "    prob_fail_1_F.append(no_of_fail_1_F/ensem_F)\n",
    "    \n",
    "    \n",
    "final_pf_F = []\n",
    "for i in range(len(prob_fail_1_F)):\n",
    "    if i%100==0:\n",
    "        final_pf_F.append(prob_fail_1_F[i])\n",
    "    \n",
    "plt.plot(prob_fail_1_F,color='green',linewidth=3)\n",
    "plt.xlabel('time')\n",
    "plt.ylabel('Probability of failure')\n",
    "plt.show()\n",
    "\n",
    "plt.plot(prob_fail_1='green',linewidth=3, label='Actual')\n",
    "plt.plot(prob_fail_1_F,color='red',linewidth=3, label='Final')\n",
    "plt.xlabel('time')\n",
    "plt.ylabel('Probability of failure')\n",
    "plt.legend()\n",
    "plt.show()\n",
    "plt.figure()"
   ]
  },
  {
   "cell_type": "code",
   "execution_count": 203,
   "id": "083dc1c3",
   "metadata": {},
   "outputs": [
    {
     "data": {
      "image/png": "[encoded data removed]",
      "text/plain": [
       "<Figure size 864x576 with 1 Axes>"
      ]
     },
     "metadata": {
      "needs_background": "light"
     },
     "output_type": "display_data"
    }
   ],
   "source": [
    "plt.rcParams[\"font.family\"] = \"serif\"\n",
    "plt.rcParams['font.size'] = 24\n",
    "plt.figure(figsize = (12,8 ))\n",
    "plt.semilogy(final_pf, 'ro', label=\"Ground Truth\", markersize=20)\n",
    "plt.semilogy(final_pf_F,color='green' ,linewidth=6, label=\"MAntRA\")\n",
    "plt.xlabel('Time (second)',fontweight='bold')\n",
    "plt.ylabel('Probability of failure',fontweight='bold')\n",
    "plt.xticks(fontweight='bold'); plt.yticks(fontweight='bold');\n",
    "plt.legend(prop={'weight':'bold','size': 20},loc=4)\n",
    "plt.grid()\n",
    "plt.savefig('reliability Mdofx.pdf')\n",
    "plt.show()"
   ]
  },
  {
   "cell_type": "code",
   "execution_count": null,
   "metadata": {},
   "outputs": [],
   "source": []
  }
 ],
 "metadata": {
  "interpreter": {
   "hash": "3f37e94951d1aba8aea1180f8978b4824e076f548924d8dec1753cbbb0da26fd"
  },
  "kernelspec": {
   "display_name": "Python 3 (ipykernel)",
   "language": "python",
   "name": "python3"
  },
  "language_info": {
   "codemirror_mode": {
    "name": "ipython",
    "version": 3
   },
   "file_extension": ".py",
   "mimetype": "text/x-python",
   "name": "python",
   "nbconvert_exporter": "python",
   "pygments_lexer": "ipython3",
   "version": "3.9.13"
  },
  "toc": {
   "base_numbering": 1,
   "nav_menu": {},
   "number_sections": true,
   "sideBar": true,
   "skip_h1_title": false,
   "title_cell": "Table of Contents",
   "title_sidebar": "Contents",
   "toc_cell": false,
   "toc_position": {},
   "toc_section_display": true,
   "toc_window_display": false
  },
  "varInspector": {
   "cols": {
    "lenName": 16,
    "lenType": 16,
    "lenVar": 40
   },
   "kernels_config": {
    "python": {
     "delete_cmd_postfix": "",
     "delete_cmd_prefix": "del ",
     "library": "var_list.py",
     "varRefreshCmd": "print(var_dic_list())"
    },
    "r": {
     "delete_cmd_postfix": ") ",
     "delete_cmd_prefix": "rm(",
     "library": "var_list.r",
     "varRefreshCmd": "cat(var_dic_list()) "
    }
   },
   "types_to_exclude": [
    "module",
    "function",
    "builtin_function_or_method",
    "instance",
    "_Feature"
   ],
   "window_display": false
  }
 },
 "nbformat": 4,
 "nbformat_minor": 4
}
